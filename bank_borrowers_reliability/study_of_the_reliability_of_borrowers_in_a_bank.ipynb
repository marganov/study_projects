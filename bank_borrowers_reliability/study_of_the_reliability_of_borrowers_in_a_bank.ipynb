{
 "cells": [
  {
   "cell_type": "markdown",
   "id": "4f11de00",
   "metadata": {
    "deletable": false,
    "editable": false,
    "id": "4f11de00"
   },
   "source": [
    "# Исследование надежности заемщиков\n",
    "\n",
    "## Описание проекта\n",
    "\n",
    "Заказчик — кредитный отдел банка. Нужно разобраться, влияет ли семейное положение и количество детей клиента на факт погашения кредита в срок. Входные данные от банка — статистика о платёжеспособности клиентов.\n",
    "\n",
    "Результаты исследования будут учтены при построении модели кредитного скоринга — специальной системы, которая оценивает способность потенциального заёмщика вернуть кредит банку.\n",
    "\n",
    "## Описание данных\n",
    "\n",
    " - `children` — количество детей в семье\n",
    " - `days_employed` — общий трудовой стаж в днях\n",
    " - `dob_years` — возраст клиента в годах\n",
    " - `education` — уровень образования клиента\n",
    " - `education_id` — идентификатор уровня образования\n",
    " - `family_status` — семейное положение\n",
    " - `family_status_id` — идентификатор семейного положения\n",
    " - `gender` — пол клиента\n",
    " - `income_type` — тип занятости\n",
    " - `debt` — имел ли задолженность по возврату кредитов\n",
    " - `total_income` — ежемесячный доход\n",
    " - `purpose` — цель получения кредита\n",
    "\n",
    "## Общая информация о данных"
   ]
  },
  {
   "cell_type": "code",
   "execution_count": 105,
   "id": "fab207d0",
   "metadata": {
    "id": "fab207d0"
   },
   "outputs": [],
   "source": [
    "# импорт библиотек\n",
    "import pandas as pd\n",
    "import numpy as np"
   ]
  },
  {
   "cell_type": "code",
   "execution_count": 106,
   "id": "6c82b607",
   "metadata": {
    "id": "6c82b607"
   },
   "outputs": [],
   "source": [
    "# чтение файла\n",
    "data = pd.read_csv('datasets/bank_data.csv')"
   ]
  },
  {
   "cell_type": "code",
   "execution_count": 107,
   "id": "4ff33b36",
   "metadata": {
    "id": "4ff33b36"
   },
   "outputs": [
    {
     "data": {
      "text/html": [
       "<div>\n",
       "<style scoped>\n",
       "    .dataframe tbody tr th:only-of-type {\n",
       "        vertical-align: middle;\n",
       "    }\n",
       "\n",
       "    .dataframe tbody tr th {\n",
       "        vertical-align: top;\n",
       "    }\n",
       "\n",
       "    .dataframe thead th {\n",
       "        text-align: right;\n",
       "    }\n",
       "</style>\n",
       "<table border=\"1\" class=\"dataframe\">\n",
       "  <thead>\n",
       "    <tr style=\"text-align: right;\">\n",
       "      <th></th>\n",
       "      <th>children</th>\n",
       "      <th>days_employed</th>\n",
       "      <th>dob_years</th>\n",
       "      <th>education</th>\n",
       "      <th>education_id</th>\n",
       "      <th>family_status</th>\n",
       "      <th>family_status_id</th>\n",
       "      <th>gender</th>\n",
       "      <th>income_type</th>\n",
       "      <th>debt</th>\n",
       "      <th>total_income</th>\n",
       "      <th>purpose</th>\n",
       "    </tr>\n",
       "  </thead>\n",
       "  <tbody>\n",
       "    <tr>\n",
       "      <th>0</th>\n",
       "      <td>1</td>\n",
       "      <td>-8437.673028</td>\n",
       "      <td>42</td>\n",
       "      <td>высшее</td>\n",
       "      <td>0</td>\n",
       "      <td>женат / замужем</td>\n",
       "      <td>0</td>\n",
       "      <td>F</td>\n",
       "      <td>сотрудник</td>\n",
       "      <td>0</td>\n",
       "      <td>253875.639453</td>\n",
       "      <td>покупка жилья</td>\n",
       "    </tr>\n",
       "    <tr>\n",
       "      <th>1</th>\n",
       "      <td>1</td>\n",
       "      <td>-4024.803754</td>\n",
       "      <td>36</td>\n",
       "      <td>среднее</td>\n",
       "      <td>1</td>\n",
       "      <td>женат / замужем</td>\n",
       "      <td>0</td>\n",
       "      <td>F</td>\n",
       "      <td>сотрудник</td>\n",
       "      <td>0</td>\n",
       "      <td>112080.014102</td>\n",
       "      <td>приобретение автомобиля</td>\n",
       "    </tr>\n",
       "    <tr>\n",
       "      <th>2</th>\n",
       "      <td>0</td>\n",
       "      <td>-5623.422610</td>\n",
       "      <td>33</td>\n",
       "      <td>Среднее</td>\n",
       "      <td>1</td>\n",
       "      <td>женат / замужем</td>\n",
       "      <td>0</td>\n",
       "      <td>M</td>\n",
       "      <td>сотрудник</td>\n",
       "      <td>0</td>\n",
       "      <td>145885.952297</td>\n",
       "      <td>покупка жилья</td>\n",
       "    </tr>\n",
       "    <tr>\n",
       "      <th>3</th>\n",
       "      <td>3</td>\n",
       "      <td>-4124.747207</td>\n",
       "      <td>32</td>\n",
       "      <td>среднее</td>\n",
       "      <td>1</td>\n",
       "      <td>женат / замужем</td>\n",
       "      <td>0</td>\n",
       "      <td>M</td>\n",
       "      <td>сотрудник</td>\n",
       "      <td>0</td>\n",
       "      <td>267628.550329</td>\n",
       "      <td>дополнительное образование</td>\n",
       "    </tr>\n",
       "    <tr>\n",
       "      <th>4</th>\n",
       "      <td>0</td>\n",
       "      <td>340266.072047</td>\n",
       "      <td>53</td>\n",
       "      <td>среднее</td>\n",
       "      <td>1</td>\n",
       "      <td>гражданский брак</td>\n",
       "      <td>1</td>\n",
       "      <td>F</td>\n",
       "      <td>пенсионер</td>\n",
       "      <td>0</td>\n",
       "      <td>158616.077870</td>\n",
       "      <td>сыграть свадьбу</td>\n",
       "    </tr>\n",
       "    <tr>\n",
       "      <th>5</th>\n",
       "      <td>0</td>\n",
       "      <td>-926.185831</td>\n",
       "      <td>27</td>\n",
       "      <td>высшее</td>\n",
       "      <td>0</td>\n",
       "      <td>гражданский брак</td>\n",
       "      <td>1</td>\n",
       "      <td>M</td>\n",
       "      <td>компаньон</td>\n",
       "      <td>0</td>\n",
       "      <td>255763.565419</td>\n",
       "      <td>покупка жилья</td>\n",
       "    </tr>\n",
       "    <tr>\n",
       "      <th>6</th>\n",
       "      <td>0</td>\n",
       "      <td>-2879.202052</td>\n",
       "      <td>43</td>\n",
       "      <td>высшее</td>\n",
       "      <td>0</td>\n",
       "      <td>женат / замужем</td>\n",
       "      <td>0</td>\n",
       "      <td>F</td>\n",
       "      <td>компаньон</td>\n",
       "      <td>0</td>\n",
       "      <td>240525.971920</td>\n",
       "      <td>операции с жильем</td>\n",
       "    </tr>\n",
       "    <tr>\n",
       "      <th>7</th>\n",
       "      <td>0</td>\n",
       "      <td>-152.779569</td>\n",
       "      <td>50</td>\n",
       "      <td>СРЕДНЕЕ</td>\n",
       "      <td>1</td>\n",
       "      <td>женат / замужем</td>\n",
       "      <td>0</td>\n",
       "      <td>M</td>\n",
       "      <td>сотрудник</td>\n",
       "      <td>0</td>\n",
       "      <td>135823.934197</td>\n",
       "      <td>образование</td>\n",
       "    </tr>\n",
       "    <tr>\n",
       "      <th>8</th>\n",
       "      <td>2</td>\n",
       "      <td>-6929.865299</td>\n",
       "      <td>35</td>\n",
       "      <td>ВЫСШЕЕ</td>\n",
       "      <td>0</td>\n",
       "      <td>гражданский брак</td>\n",
       "      <td>1</td>\n",
       "      <td>F</td>\n",
       "      <td>сотрудник</td>\n",
       "      <td>0</td>\n",
       "      <td>95856.832424</td>\n",
       "      <td>на проведение свадьбы</td>\n",
       "    </tr>\n",
       "    <tr>\n",
       "      <th>9</th>\n",
       "      <td>0</td>\n",
       "      <td>-2188.756445</td>\n",
       "      <td>41</td>\n",
       "      <td>среднее</td>\n",
       "      <td>1</td>\n",
       "      <td>женат / замужем</td>\n",
       "      <td>0</td>\n",
       "      <td>M</td>\n",
       "      <td>сотрудник</td>\n",
       "      <td>0</td>\n",
       "      <td>144425.938277</td>\n",
       "      <td>покупка жилья для семьи</td>\n",
       "    </tr>\n",
       "    <tr>\n",
       "      <th>10</th>\n",
       "      <td>2</td>\n",
       "      <td>-4171.483647</td>\n",
       "      <td>36</td>\n",
       "      <td>высшее</td>\n",
       "      <td>0</td>\n",
       "      <td>женат / замужем</td>\n",
       "      <td>0</td>\n",
       "      <td>M</td>\n",
       "      <td>компаньон</td>\n",
       "      <td>0</td>\n",
       "      <td>113943.491460</td>\n",
       "      <td>покупка недвижимости</td>\n",
       "    </tr>\n",
       "    <tr>\n",
       "      <th>11</th>\n",
       "      <td>0</td>\n",
       "      <td>-792.701887</td>\n",
       "      <td>40</td>\n",
       "      <td>среднее</td>\n",
       "      <td>1</td>\n",
       "      <td>женат / замужем</td>\n",
       "      <td>0</td>\n",
       "      <td>F</td>\n",
       "      <td>сотрудник</td>\n",
       "      <td>0</td>\n",
       "      <td>77069.234271</td>\n",
       "      <td>покупка коммерческой недвижимости</td>\n",
       "    </tr>\n",
       "    <tr>\n",
       "      <th>12</th>\n",
       "      <td>0</td>\n",
       "      <td>NaN</td>\n",
       "      <td>65</td>\n",
       "      <td>среднее</td>\n",
       "      <td>1</td>\n",
       "      <td>гражданский брак</td>\n",
       "      <td>1</td>\n",
       "      <td>M</td>\n",
       "      <td>пенсионер</td>\n",
       "      <td>0</td>\n",
       "      <td>NaN</td>\n",
       "      <td>сыграть свадьбу</td>\n",
       "    </tr>\n",
       "    <tr>\n",
       "      <th>13</th>\n",
       "      <td>0</td>\n",
       "      <td>-1846.641941</td>\n",
       "      <td>54</td>\n",
       "      <td>неоконченное высшее</td>\n",
       "      <td>2</td>\n",
       "      <td>женат / замужем</td>\n",
       "      <td>0</td>\n",
       "      <td>F</td>\n",
       "      <td>сотрудник</td>\n",
       "      <td>0</td>\n",
       "      <td>130458.228857</td>\n",
       "      <td>приобретение автомобиля</td>\n",
       "    </tr>\n",
       "    <tr>\n",
       "      <th>14</th>\n",
       "      <td>0</td>\n",
       "      <td>-1844.956182</td>\n",
       "      <td>56</td>\n",
       "      <td>высшее</td>\n",
       "      <td>0</td>\n",
       "      <td>гражданский брак</td>\n",
       "      <td>1</td>\n",
       "      <td>F</td>\n",
       "      <td>компаньон</td>\n",
       "      <td>1</td>\n",
       "      <td>165127.911772</td>\n",
       "      <td>покупка жилой недвижимости</td>\n",
       "    </tr>\n",
       "    <tr>\n",
       "      <th>15</th>\n",
       "      <td>1</td>\n",
       "      <td>-972.364419</td>\n",
       "      <td>26</td>\n",
       "      <td>среднее</td>\n",
       "      <td>1</td>\n",
       "      <td>женат / замужем</td>\n",
       "      <td>0</td>\n",
       "      <td>F</td>\n",
       "      <td>сотрудник</td>\n",
       "      <td>0</td>\n",
       "      <td>116820.904450</td>\n",
       "      <td>строительство собственной недвижимости</td>\n",
       "    </tr>\n",
       "    <tr>\n",
       "      <th>16</th>\n",
       "      <td>0</td>\n",
       "      <td>-1719.934226</td>\n",
       "      <td>35</td>\n",
       "      <td>среднее</td>\n",
       "      <td>1</td>\n",
       "      <td>женат / замужем</td>\n",
       "      <td>0</td>\n",
       "      <td>F</td>\n",
       "      <td>сотрудник</td>\n",
       "      <td>0</td>\n",
       "      <td>289202.704229</td>\n",
       "      <td>недвижимость</td>\n",
       "    </tr>\n",
       "    <tr>\n",
       "      <th>17</th>\n",
       "      <td>0</td>\n",
       "      <td>-2369.999720</td>\n",
       "      <td>33</td>\n",
       "      <td>высшее</td>\n",
       "      <td>0</td>\n",
       "      <td>гражданский брак</td>\n",
       "      <td>1</td>\n",
       "      <td>M</td>\n",
       "      <td>сотрудник</td>\n",
       "      <td>0</td>\n",
       "      <td>90410.586745</td>\n",
       "      <td>строительство недвижимости</td>\n",
       "    </tr>\n",
       "    <tr>\n",
       "      <th>18</th>\n",
       "      <td>0</td>\n",
       "      <td>400281.136913</td>\n",
       "      <td>53</td>\n",
       "      <td>среднее</td>\n",
       "      <td>1</td>\n",
       "      <td>вдовец / вдова</td>\n",
       "      <td>2</td>\n",
       "      <td>F</td>\n",
       "      <td>пенсионер</td>\n",
       "      <td>0</td>\n",
       "      <td>56823.777243</td>\n",
       "      <td>на покупку подержанного автомобиля</td>\n",
       "    </tr>\n",
       "    <tr>\n",
       "      <th>19</th>\n",
       "      <td>0</td>\n",
       "      <td>-10038.818549</td>\n",
       "      <td>48</td>\n",
       "      <td>СРЕДНЕЕ</td>\n",
       "      <td>1</td>\n",
       "      <td>в разводе</td>\n",
       "      <td>3</td>\n",
       "      <td>F</td>\n",
       "      <td>сотрудник</td>\n",
       "      <td>0</td>\n",
       "      <td>242831.107982</td>\n",
       "      <td>на покупку своего автомобиля</td>\n",
       "    </tr>\n",
       "  </tbody>\n",
       "</table>\n",
       "</div>"
      ],
      "text/plain": [
       "    children  days_employed  dob_years            education  education_id  \\\n",
       "0          1   -8437.673028         42               высшее             0   \n",
       "1          1   -4024.803754         36              среднее             1   \n",
       "2          0   -5623.422610         33              Среднее             1   \n",
       "3          3   -4124.747207         32              среднее             1   \n",
       "4          0  340266.072047         53              среднее             1   \n",
       "5          0    -926.185831         27               высшее             0   \n",
       "6          0   -2879.202052         43               высшее             0   \n",
       "7          0    -152.779569         50              СРЕДНЕЕ             1   \n",
       "8          2   -6929.865299         35               ВЫСШЕЕ             0   \n",
       "9          0   -2188.756445         41              среднее             1   \n",
       "10         2   -4171.483647         36               высшее             0   \n",
       "11         0    -792.701887         40              среднее             1   \n",
       "12         0            NaN         65              среднее             1   \n",
       "13         0   -1846.641941         54  неоконченное высшее             2   \n",
       "14         0   -1844.956182         56               высшее             0   \n",
       "15         1    -972.364419         26              среднее             1   \n",
       "16         0   -1719.934226         35              среднее             1   \n",
       "17         0   -2369.999720         33               высшее             0   \n",
       "18         0  400281.136913         53              среднее             1   \n",
       "19         0  -10038.818549         48              СРЕДНЕЕ             1   \n",
       "\n",
       "       family_status  family_status_id gender income_type  debt  \\\n",
       "0    женат / замужем                 0      F   сотрудник     0   \n",
       "1    женат / замужем                 0      F   сотрудник     0   \n",
       "2    женат / замужем                 0      M   сотрудник     0   \n",
       "3    женат / замужем                 0      M   сотрудник     0   \n",
       "4   гражданский брак                 1      F   пенсионер     0   \n",
       "5   гражданский брак                 1      M   компаньон     0   \n",
       "6    женат / замужем                 0      F   компаньон     0   \n",
       "7    женат / замужем                 0      M   сотрудник     0   \n",
       "8   гражданский брак                 1      F   сотрудник     0   \n",
       "9    женат / замужем                 0      M   сотрудник     0   \n",
       "10   женат / замужем                 0      M   компаньон     0   \n",
       "11   женат / замужем                 0      F   сотрудник     0   \n",
       "12  гражданский брак                 1      M   пенсионер     0   \n",
       "13   женат / замужем                 0      F   сотрудник     0   \n",
       "14  гражданский брак                 1      F   компаньон     1   \n",
       "15   женат / замужем                 0      F   сотрудник     0   \n",
       "16   женат / замужем                 0      F   сотрудник     0   \n",
       "17  гражданский брак                 1      M   сотрудник     0   \n",
       "18    вдовец / вдова                 2      F   пенсионер     0   \n",
       "19         в разводе                 3      F   сотрудник     0   \n",
       "\n",
       "     total_income                                 purpose  \n",
       "0   253875.639453                           покупка жилья  \n",
       "1   112080.014102                 приобретение автомобиля  \n",
       "2   145885.952297                           покупка жилья  \n",
       "3   267628.550329              дополнительное образование  \n",
       "4   158616.077870                         сыграть свадьбу  \n",
       "5   255763.565419                           покупка жилья  \n",
       "6   240525.971920                       операции с жильем  \n",
       "7   135823.934197                             образование  \n",
       "8    95856.832424                   на проведение свадьбы  \n",
       "9   144425.938277                 покупка жилья для семьи  \n",
       "10  113943.491460                    покупка недвижимости  \n",
       "11   77069.234271       покупка коммерческой недвижимости  \n",
       "12            NaN                         сыграть свадьбу  \n",
       "13  130458.228857                 приобретение автомобиля  \n",
       "14  165127.911772              покупка жилой недвижимости  \n",
       "15  116820.904450  строительство собственной недвижимости  \n",
       "16  289202.704229                            недвижимость  \n",
       "17   90410.586745              строительство недвижимости  \n",
       "18   56823.777243      на покупку подержанного автомобиля  \n",
       "19  242831.107982            на покупку своего автомобиля  "
      ]
     },
     "metadata": {},
     "output_type": "display_data"
    }
   ],
   "source": [
    "# вывод первых строк\n",
    "display(data.head(20))"
   ]
  },
  {
   "cell_type": "code",
   "execution_count": 108,
   "id": "e1ed9908",
   "metadata": {
    "id": "e1ed9908"
   },
   "outputs": [
    {
     "name": "stdout",
     "output_type": "stream",
     "text": [
      "<class 'pandas.core.frame.DataFrame'>\n",
      "RangeIndex: 21525 entries, 0 to 21524\n",
      "Data columns (total 12 columns):\n",
      " #   Column            Non-Null Count  Dtype  \n",
      "---  ------            --------------  -----  \n",
      " 0   children          21525 non-null  int64  \n",
      " 1   days_employed     19351 non-null  float64\n",
      " 2   dob_years         21525 non-null  int64  \n",
      " 3   education         21525 non-null  object \n",
      " 4   education_id      21525 non-null  int64  \n",
      " 5   family_status     21525 non-null  object \n",
      " 6   family_status_id  21525 non-null  int64  \n",
      " 7   gender            21525 non-null  object \n",
      " 8   income_type       21525 non-null  object \n",
      " 9   debt              21525 non-null  int64  \n",
      " 10  total_income      19351 non-null  float64\n",
      " 11  purpose           21525 non-null  object \n",
      "dtypes: float64(2), int64(5), object(5)\n",
      "memory usage: 2.0+ MB\n"
     ]
    },
    {
     "data": {
      "text/plain": [
       "None"
      ]
     },
     "metadata": {},
     "output_type": "display_data"
    }
   ],
   "source": [
    "# вывод общей информации\n",
    "display(data.info())"
   ]
  },
  {
   "cell_type": "markdown",
   "id": "f99b06a7",
   "metadata": {},
   "source": [
    " - Из вывода данных видно, что столбец `days_employed` содержит аномалии в виде отрицательных значений и чисел с плавающей точкой. Так же в этом столбце вхождений (19351) меньше, чем в остальных колонках. Скорее всего есть пропущенные значения.\n",
    " - Столбец `education` содержит категориальные значения, неприведенные к общему виду.\n",
    " - Столбец `total_income` содержит меньше данных чем остальные столбцы, есть пропуски.\n",
    "\n",
    "Резюмируя вышеизложенное, есть смысл пройтись по значениям во всех столбцах, что бы понять, насколько много встречается аномалий, пропусков, категориальных значений одинаковых по смыслу, но по разному написанных."
   ]
  },
  {
   "cell_type": "markdown",
   "id": "9595d9b8",
   "metadata": {},
   "source": [
    "## Предобработка данных\n",
    "\n",
    "\n",
    "\n"
   ]
  },
  {
   "cell_type": "markdown",
   "id": "3ae70878",
   "metadata": {},
   "source": [
    "### Проверка столбца `children`"
   ]
  },
  {
   "cell_type": "code",
   "execution_count": 109,
   "id": "e8d2da07",
   "metadata": {},
   "outputs": [
    {
     "data": {
      "text/plain": [
       "array([ 1,  0,  3,  2, -1,  4, 20,  5])"
      ]
     },
     "execution_count": 109,
     "metadata": {},
     "output_type": "execute_result"
    }
   ],
   "source": [
    "data['children'].unique()"
   ]
  },
  {
   "cell_type": "markdown",
   "id": "47bafcd7",
   "metadata": {},
   "source": [
    "Проверка количества аномальных значений"
   ]
  },
  {
   "cell_type": "code",
   "execution_count": 110,
   "id": "815d062a",
   "metadata": {},
   "outputs": [
    {
     "data": {
      "text/plain": [
       "(76, 12)"
      ]
     },
     "metadata": {},
     "output_type": "display_data"
    },
    {
     "data": {
      "text/plain": [
       "(47, 12)"
      ]
     },
     "execution_count": 110,
     "metadata": {},
     "output_type": "execute_result"
    }
   ],
   "source": [
    "display(data.loc[data['children'] == 20].shape)\n",
    "data.loc[data['children'] == -1].shape"
   ]
  },
  {
   "cell_type": "code",
   "execution_count": 111,
   "id": "57ee8ada",
   "metadata": {},
   "outputs": [],
   "source": [
    "# удаление аномальных значений\n",
    "data = data.loc[data['children'] !=-1]\n",
    "data = data.loc[data['children'] !=20]"
   ]
  },
  {
   "cell_type": "code",
   "execution_count": 112,
   "id": "2440ed96",
   "metadata": {},
   "outputs": [
    {
     "data": {
      "text/plain": [
       "array([1, 0, 3, 2, 4, 5])"
      ]
     },
     "execution_count": 112,
     "metadata": {},
     "output_type": "execute_result"
    }
   ],
   "source": [
    "data['children'].unique()"
   ]
  },
  {
   "cell_type": "markdown",
   "id": "30e0fc76",
   "metadata": {},
   "source": [
    "### Cтолбец `days_employed`"
   ]
  },
  {
   "cell_type": "markdown",
   "id": "2efbb385",
   "metadata": {},
   "source": [
    "Замена отрицательных значений на положительные.\n"
   ]
  },
  {
   "cell_type": "code",
   "execution_count": 113,
   "id": "4247967b",
   "metadata": {},
   "outputs": [],
   "source": [
    "data['days_employed'] = data['days_employed'].abs()"
   ]
  },
  {
   "cell_type": "markdown",
   "id": "2c385af6",
   "metadata": {},
   "source": [
    "\n",
    "Заполнение пропусков столбце медианными значениями по каждому типу занятости `income_type`."
   ]
  },
  {
   "cell_type": "code",
   "execution_count": 114,
   "id": "e3d9f2b2",
   "metadata": {},
   "outputs": [],
   "source": [
    "# Создаем серию с медианными значениями для каждого типа занятости\n",
    "days_employed_median = data.groupby('income_type')['days_employed'].transform('median')\n",
    "\n",
    "# Заполняем пропуски\n",
    "data['days_employed'] = data['days_employed'].fillna(days_employed_median)"
   ]
  },
  {
   "cell_type": "code",
   "execution_count": 115,
   "id": "d711fe93",
   "metadata": {},
   "outputs": [],
   "source": [
    "# округление значения в столбце 'days_employed' до целых чисел и замена типа на int\n",
    "data['days_employed'] = data['days_employed'].round(0).astype(int)"
   ]
  },
  {
   "cell_type": "markdown",
   "id": "57edeed7",
   "metadata": {},
   "source": [
    "### Проверка столбца `dob_years`"
   ]
  },
  {
   "cell_type": "code",
   "execution_count": 116,
   "id": "c5211f75",
   "metadata": {},
   "outputs": [
    {
     "data": {
      "text/plain": [
       "count    21402.000000\n",
       "mean        43.300206\n",
       "std         12.579055\n",
       "min          0.000000\n",
       "25%         33.000000\n",
       "50%         42.000000\n",
       "75%         53.000000\n",
       "max         75.000000\n",
       "Name: dob_years, dtype: float64"
      ]
     },
     "execution_count": 116,
     "metadata": {},
     "output_type": "execute_result"
    }
   ],
   "source": [
    "# описание столбца статистическими показателями\n",
    "data['dob_years'].describe()"
   ]
  },
  {
   "cell_type": "code",
   "execution_count": 117,
   "id": "606219e6",
   "metadata": {},
   "outputs": [
    {
     "data": {
      "text/plain": [
       "(100, 12)"
      ]
     },
     "execution_count": 117,
     "metadata": {},
     "output_type": "execute_result"
    }
   ],
   "source": [
    "# проверка значений на аномалии\n",
    "# задаем пороговые значения для проверки\n",
    "min_age = 18\n",
    "max_age = 75\n",
    "\n",
    "anomalies = data[(data['dob_years'] < min_age) | (data['dob_years'] > max_age)]\n",
    "\n",
    "anomalies.shape"
   ]
  },
  {
   "cell_type": "code",
   "execution_count": 118,
   "id": "d97275ef",
   "metadata": {},
   "outputs": [],
   "source": [
    "# фильтруем датафрейм, оставляя только строки с возрастом в заданном диапазоне\n",
    "data = data[(data['dob_years'] >= min_age) & (data['dob_years'] <= max_age)]"
   ]
  },
  {
   "cell_type": "markdown",
   "id": "8152b793",
   "metadata": {},
   "source": [
    "### Проверка столбца `family_status` "
   ]
  },
  {
   "cell_type": "code",
   "execution_count": 119,
   "id": "db364d6f",
   "metadata": {},
   "outputs": [
    {
     "data": {
      "text/plain": [
       "array(['женат / замужем', 'гражданский брак', 'вдовец / вдова',\n",
       "       'в разводе', 'Не женат / не замужем'], dtype=object)"
      ]
     },
     "execution_count": 119,
     "metadata": {},
     "output_type": "execute_result"
    }
   ],
   "source": [
    "data['family_status'].unique()"
   ]
  },
  {
   "cell_type": "markdown",
   "id": "6e9e8c76",
   "metadata": {},
   "source": [
    "### Проверка столбца `education`"
   ]
  },
  {
   "cell_type": "code",
   "execution_count": 120,
   "id": "a9384e98",
   "metadata": {},
   "outputs": [
    {
     "data": {
      "text/plain": [
       "array(['высшее', 'среднее', 'Среднее', 'СРЕДНЕЕ', 'ВЫСШЕЕ',\n",
       "       'неоконченное высшее', 'начальное', 'Высшее',\n",
       "       'НЕОКОНЧЕННОЕ ВЫСШЕЕ', 'Неоконченное высшее', 'НАЧАЛЬНОЕ',\n",
       "       'Начальное', 'Ученая степень', 'УЧЕНАЯ СТЕПЕНЬ', 'ученая степень'],\n",
       "      dtype=object)"
      ]
     },
     "execution_count": 120,
     "metadata": {},
     "output_type": "execute_result"
    }
   ],
   "source": [
    "data['education'].unique()"
   ]
  },
  {
   "cell_type": "code",
   "execution_count": 121,
   "id": "36c38482",
   "metadata": {},
   "outputs": [
    {
     "name": "stdout",
     "output_type": "stream",
     "text": [
      "['высшее' 'среднее' 'неоконченное высшее' 'начальное' 'ученая степень']\n"
     ]
    }
   ],
   "source": [
    "# Приводим все значения в столбце 'education' к нижнему регистру\n",
    "data['education'] = data['education'].str.lower()\n",
    "\n",
    "# Проверяем уникальные значения после преобразования\n",
    "print(data['education'].unique())\n"
   ]
  },
  {
   "cell_type": "markdown",
   "id": "28a0d884",
   "metadata": {},
   "source": [
    "### Проверка столбца `education_id`"
   ]
  },
  {
   "cell_type": "code",
   "execution_count": 122,
   "id": "922dafb2",
   "metadata": {},
   "outputs": [
    {
     "data": {
      "text/plain": [
       "array([0, 1, 2, 3, 4])"
      ]
     },
     "execution_count": 122,
     "metadata": {},
     "output_type": "execute_result"
    }
   ],
   "source": [
    "data['education_id'].unique()"
   ]
  },
  {
   "cell_type": "markdown",
   "id": "95d6fb3b",
   "metadata": {},
   "source": [
    "### Столбец `total_income`"
   ]
  },
  {
   "cell_type": "code",
   "execution_count": 123,
   "id": "f2914a07",
   "metadata": {},
   "outputs": [],
   "source": [
    "# заполнение пропусков колонки `total_income`\n",
    "data['total_income'] = data.groupby('income_type')['total_income'].transform(lambda x: x.fillna(x.median()))"
   ]
  },
  {
   "cell_type": "code",
   "execution_count": 124,
   "id": "08aac11c",
   "metadata": {},
   "outputs": [],
   "source": [
    "data['total_income'] = data['total_income'].round(0)"
   ]
  },
  {
   "cell_type": "markdown",
   "id": "b859ed05",
   "metadata": {},
   "source": [
    "Создание колонки `total_income_category`, на основании диапазонов: \n",
    "\n",
    "- 0–30000 — `'E'`;\n",
    "- 30001–50000 — `'D'`;\n",
    "- 50001–200000 — `'C'`;\n",
    "- 200001–1000000 — `'B'`;\n",
    "- 1000001 и выше — `'A'`."
   ]
  },
  {
   "cell_type": "code",
   "execution_count": 125,
   "id": "f5ba4114",
   "metadata": {},
   "outputs": [],
   "source": [
    "def categorize_income(income):\n",
    "    if income < 30001:\n",
    "        return 'E'\n",
    "    elif 30001 <= income < 50001:\n",
    "        return 'D'\n",
    "    elif 50001 <= income <200001:\n",
    "        return 'C'\n",
    "    elif 200001 <= income <1000001:\n",
    "        return 'B'\n",
    "    else:\n",
    "        return 'A'"
   ]
  },
  {
   "cell_type": "code",
   "execution_count": 126,
   "id": "850e9db4",
   "metadata": {},
   "outputs": [],
   "source": [
    "data['total_income_category'] = data['total_income'].apply(categorize_income)"
   ]
  },
  {
   "cell_type": "markdown",
   "id": "3d02029d",
   "metadata": {},
   "source": [
    "### Столбец `purpose`"
   ]
  },
  {
   "cell_type": "code",
   "execution_count": 127,
   "id": "7aa8ef54",
   "metadata": {},
   "outputs": [
    {
     "data": {
      "text/plain": [
       "array(['покупка жилья', 'приобретение автомобиля',\n",
       "       'дополнительное образование', 'сыграть свадьбу',\n",
       "       'операции с жильем', 'образование', 'на проведение свадьбы',\n",
       "       'покупка жилья для семьи', 'покупка недвижимости',\n",
       "       'покупка коммерческой недвижимости', 'покупка жилой недвижимости',\n",
       "       'строительство собственной недвижимости', 'недвижимость',\n",
       "       'строительство недвижимости', 'на покупку подержанного автомобиля',\n",
       "       'на покупку своего автомобиля',\n",
       "       'операции с коммерческой недвижимостью',\n",
       "       'строительство жилой недвижимости', 'жилье',\n",
       "       'операции со своей недвижимостью', 'автомобили',\n",
       "       'заняться образованием', 'сделка с подержанным автомобилем',\n",
       "       'получение образования', 'автомобиль', 'свадьба',\n",
       "       'получение дополнительного образования', 'покупка своего жилья',\n",
       "       'операции с недвижимостью', 'получение высшего образования',\n",
       "       'свой автомобиль', 'сделка с автомобилем',\n",
       "       'профильное образование', 'высшее образование',\n",
       "       'покупка жилья для сдачи', 'на покупку автомобиля', 'ремонт жилью',\n",
       "       'заняться высшим образованием'], dtype=object)"
      ]
     },
     "execution_count": 127,
     "metadata": {},
     "output_type": "execute_result"
    }
   ],
   "source": [
    "data['purpose'].unique()"
   ]
  },
  {
   "cell_type": "code",
   "execution_count": 128,
   "id": "36377f20",
   "metadata": {},
   "outputs": [],
   "source": [
    "# категоризация значений в столбце purpose\n",
    "\n",
    "def categorize_purpose(str):\n",
    "    if 'авто' in str:\n",
    "        return 'операции с автомобилем'\n",
    "    elif 'жиль' in str or 'движ' in str:\n",
    "        return 'операции с недвижимостью'\n",
    "    elif 'свадьб' in str:\n",
    "        return 'проведение свадьбы'\n",
    "    elif 'образ' in str:\n",
    "        return 'получение образования'\n",
    "    else:\n",
    "        return 'прочее'\n",
    "\n",
    "# Создание нового столбца с категориями\n",
    "data['purpose_category'] = data['purpose'].apply(categorize_purpose)\n"
   ]
  },
  {
   "cell_type": "code",
   "execution_count": null,
   "id": "b2e4eeb3",
   "metadata": {},
   "outputs": [],
   "source": []
  },
  {
   "cell_type": "markdown",
   "id": "ff7f0a3e",
   "metadata": {},
   "source": [
    "### Проверка дубликатов"
   ]
  },
  {
   "cell_type": "code",
   "execution_count": 129,
   "id": "d34a4325",
   "metadata": {
    "id": "d34a4325"
   },
   "outputs": [
    {
     "data": {
      "text/plain": [
       "np.int64(71)"
      ]
     },
     "execution_count": 129,
     "metadata": {},
     "output_type": "execute_result"
    }
   ],
   "source": [
    "data.duplicated().sum()"
   ]
  },
  {
   "cell_type": "code",
   "execution_count": 130,
   "id": "6e1a6499",
   "metadata": {
    "id": "6e1a6499",
    "scrolled": true
   },
   "outputs": [],
   "source": [
    "# удаление дубликатов\n",
    "data = data.drop_duplicates()"
   ]
  },
  {
   "cell_type": "markdown",
   "id": "c2cb346a",
   "metadata": {},
   "source": [
    "## Есть ли зависимость между количеством детей и возвратом кредита в срок"
   ]
  },
  {
   "cell_type": "markdown",
   "id": "34dbd6de",
   "metadata": {},
   "source": [
    "Рассчет доли невозврата кредита в зависимости от количества детей:"
   ]
  },
  {
   "cell_type": "code",
   "execution_count": 131,
   "id": "51e4480a",
   "metadata": {},
   "outputs": [
    {
     "data": {
      "text/html": [
       "<div>\n",
       "<style scoped>\n",
       "    .dataframe tbody tr th:only-of-type {\n",
       "        vertical-align: middle;\n",
       "    }\n",
       "\n",
       "    .dataframe tbody tr th {\n",
       "        vertical-align: top;\n",
       "    }\n",
       "\n",
       "    .dataframe thead tr th {\n",
       "        text-align: left;\n",
       "    }\n",
       "\n",
       "    .dataframe thead tr:last-of-type th {\n",
       "        text-align: right;\n",
       "    }\n",
       "</style>\n",
       "<table border=\"1\" class=\"dataframe\">\n",
       "  <thead>\n",
       "    <tr>\n",
       "      <th></th>\n",
       "      <th>sum</th>\n",
       "      <th>count</th>\n",
       "      <th>mean</th>\n",
       "    </tr>\n",
       "    <tr>\n",
       "      <th></th>\n",
       "      <th>debt</th>\n",
       "      <th>debt</th>\n",
       "      <th>debt</th>\n",
       "    </tr>\n",
       "    <tr>\n",
       "      <th>children</th>\n",
       "      <th></th>\n",
       "      <th></th>\n",
       "      <th></th>\n",
       "    </tr>\n",
       "  </thead>\n",
       "  <tbody>\n",
       "    <tr>\n",
       "      <th>0</th>\n",
       "      <td>1058</td>\n",
       "      <td>14022</td>\n",
       "      <td>0.075453</td>\n",
       "    </tr>\n",
       "    <tr>\n",
       "      <th>1</th>\n",
       "      <td>441</td>\n",
       "      <td>4792</td>\n",
       "      <td>0.092028</td>\n",
       "    </tr>\n",
       "    <tr>\n",
       "      <th>2</th>\n",
       "      <td>194</td>\n",
       "      <td>2039</td>\n",
       "      <td>0.095145</td>\n",
       "    </tr>\n",
       "    <tr>\n",
       "      <th>3</th>\n",
       "      <td>27</td>\n",
       "      <td>328</td>\n",
       "      <td>0.082317</td>\n",
       "    </tr>\n",
       "    <tr>\n",
       "      <th>4</th>\n",
       "      <td>4</td>\n",
       "      <td>41</td>\n",
       "      <td>0.097561</td>\n",
       "    </tr>\n",
       "    <tr>\n",
       "      <th>5</th>\n",
       "      <td>0</td>\n",
       "      <td>9</td>\n",
       "      <td>0.000000</td>\n",
       "    </tr>\n",
       "  </tbody>\n",
       "</table>\n",
       "</div>"
      ],
      "text/plain": [
       "           sum  count      mean\n",
       "          debt   debt      debt\n",
       "children                       \n",
       "0         1058  14022  0.075453\n",
       "1          441   4792  0.092028\n",
       "2          194   2039  0.095145\n",
       "3           27    328  0.082317\n",
       "4            4     41  0.097561\n",
       "5            0      9  0.000000"
      ]
     },
     "metadata": {},
     "output_type": "display_data"
    }
   ],
   "source": [
    "display(data.pivot_table(index=['children'], values='debt', aggfunc=['sum','count','mean']))"
   ]
  },
  {
   "cell_type": "markdown",
   "id": "5d183bf3",
   "metadata": {},
   "source": [
    "**Вывод**"
   ]
  },
  {
   "cell_type": "markdown",
   "id": "c42b8041",
   "metadata": {},
   "source": [
    "1. Максимальный процент невозврата кредита у клиентов с 4 детьми.\n",
    "2. При наличии одного и двух детей процент невозврата практически одинаковый (9,23% и 9,45% соответственно), следует обратить внимание, что количество случаев при 1 ребенке более чем в 2 раза превышает при 2 детях.\n",
    "3. У клиентов с 5 детьми отсутствуют случаи не возврата кредита в срок."
   ]
  },
  {
   "cell_type": "markdown",
   "id": "1414a8d3",
   "metadata": {},
   "source": [
    "## Зависимость между семейным положением и возвратом кредита в срок"
   ]
  },
  {
   "cell_type": "markdown",
   "id": "46653957",
   "metadata": {},
   "source": [
    "Рассчитаем процент не возврата кредита в зависимости от семейного положения:\n"
   ]
  },
  {
   "cell_type": "code",
   "execution_count": 132,
   "id": "b402e362",
   "metadata": {},
   "outputs": [
    {
     "data": {
      "text/html": [
       "<div>\n",
       "<style scoped>\n",
       "    .dataframe tbody tr th:only-of-type {\n",
       "        vertical-align: middle;\n",
       "    }\n",
       "\n",
       "    .dataframe tbody tr th {\n",
       "        vertical-align: top;\n",
       "    }\n",
       "\n",
       "    .dataframe thead tr th {\n",
       "        text-align: left;\n",
       "    }\n",
       "\n",
       "    .dataframe thead tr:last-of-type th {\n",
       "        text-align: right;\n",
       "    }\n",
       "</style>\n",
       "<table border=\"1\" class=\"dataframe\">\n",
       "  <thead>\n",
       "    <tr>\n",
       "      <th></th>\n",
       "      <th>sum</th>\n",
       "      <th>count</th>\n",
       "      <th>mean</th>\n",
       "    </tr>\n",
       "    <tr>\n",
       "      <th></th>\n",
       "      <th>debt</th>\n",
       "      <th>debt</th>\n",
       "      <th>debt</th>\n",
       "    </tr>\n",
       "    <tr>\n",
       "      <th>family_status_id</th>\n",
       "      <th></th>\n",
       "      <th></th>\n",
       "      <th></th>\n",
       "    </tr>\n",
       "  </thead>\n",
       "  <tbody>\n",
       "    <tr>\n",
       "      <th>Не женат / не замужем</th>\n",
       "      <td>62</td>\n",
       "      <td>946</td>\n",
       "      <td>0.065539</td>\n",
       "    </tr>\n",
       "    <tr>\n",
       "      <th>в разводе</th>\n",
       "      <td>84</td>\n",
       "      <td>1179</td>\n",
       "      <td>0.071247</td>\n",
       "    </tr>\n",
       "    <tr>\n",
       "      <th>вдовец / вдова</th>\n",
       "      <td>272</td>\n",
       "      <td>2780</td>\n",
       "      <td>0.097842</td>\n",
       "    </tr>\n",
       "    <tr>\n",
       "      <th>гражданский брак</th>\n",
       "      <td>383</td>\n",
       "      <td>4113</td>\n",
       "      <td>0.093119</td>\n",
       "    </tr>\n",
       "    <tr>\n",
       "      <th>женат / замужем</th>\n",
       "      <td>923</td>\n",
       "      <td>12213</td>\n",
       "      <td>0.075575</td>\n",
       "    </tr>\n",
       "  </tbody>\n",
       "</table>\n",
       "</div>"
      ],
      "text/plain": [
       "                       sum  count      mean\n",
       "                      debt   debt      debt\n",
       "family_status_id                           \n",
       "Не женат / не замужем   62    946  0.065539\n",
       "в разводе               84   1179  0.071247\n",
       "вдовец / вдова         272   2780  0.097842\n",
       "гражданский брак       383   4113  0.093119\n",
       "женат / замужем        923  12213  0.075575"
      ]
     },
     "metadata": {},
     "output_type": "display_data"
    }
   ],
   "source": [
    "# замена в столбце 'family_status_id' имеющиеся цифры на определения в соответствии таблицей соответствия\n",
    "data['family_status_id'] = data['family_status_id'].replace(\n",
    "    {0: 'женат / замужем', 1: 'гражданский брак', 2: 'Не женат / не замужем', 3: 'в разводе', 4: 'вдовец / вдова'})\n",
    "\n",
    "\n",
    "# рассчитаем долю не возврата кредита в зависимости от семейного положения:\n",
    "\n",
    "display(data.pivot_table(index=['family_status_id'],\n",
    "        values='debt', aggfunc=['sum', 'count', 'mean']))"
   ]
  },
  {
   "cell_type": "markdown",
   "id": "9db8fb15",
   "metadata": {},
   "source": [
    "**Вывод**"
   ]
  },
  {
   "cell_type": "markdown",
   "id": "23de57b6",
   "metadata": {},
   "source": [
    "1. Максимальный процент невозврата кредита у клиентов с семейным положением \"вдовец / вдова\" и \"гражданский брак\" (9,76 и 9,28 соответственно). Что вполне ожидаемо, т.к. существует либо недостаток средств в случае \"вдовы\", либо отсутствие \"семейного\" бюджета\" при проживании в \"гражданском браке\".\n",
    "2. У клиентов с семейным положением \"не женат\" самый низкий процент невозврата - 6,62.\n",
    "3. Если обобщить категории по отношению к браку, можно сказать, что состоящие или состоявшие в браке заемщики реже допускают просрочки."
   ]
  },
  {
   "cell_type": "markdown",
   "id": "398d0966",
   "metadata": {},
   "source": [
    "## Зависимость между уровнем дохода и возвратом кредита в срок"
   ]
  },
  {
   "cell_type": "code",
   "execution_count": 134,
   "id": "cee35bf9",
   "metadata": {},
   "outputs": [
    {
     "data": {
      "text/html": [
       "<div>\n",
       "<style scoped>\n",
       "    .dataframe tbody tr th:only-of-type {\n",
       "        vertical-align: middle;\n",
       "    }\n",
       "\n",
       "    .dataframe tbody tr th {\n",
       "        vertical-align: top;\n",
       "    }\n",
       "\n",
       "    .dataframe thead tr th {\n",
       "        text-align: left;\n",
       "    }\n",
       "\n",
       "    .dataframe thead tr:last-of-type th {\n",
       "        text-align: right;\n",
       "    }\n",
       "</style>\n",
       "<table border=\"1\" class=\"dataframe\">\n",
       "  <thead>\n",
       "    <tr>\n",
       "      <th></th>\n",
       "      <th>sum</th>\n",
       "      <th>count</th>\n",
       "      <th>mean</th>\n",
       "    </tr>\n",
       "    <tr>\n",
       "      <th></th>\n",
       "      <th>debt</th>\n",
       "      <th>debt</th>\n",
       "      <th>debt</th>\n",
       "    </tr>\n",
       "    <tr>\n",
       "      <th>total_income_category</th>\n",
       "      <th></th>\n",
       "      <th></th>\n",
       "      <th></th>\n",
       "    </tr>\n",
       "  </thead>\n",
       "  <tbody>\n",
       "    <tr>\n",
       "      <th>A</th>\n",
       "      <td>2</td>\n",
       "      <td>25</td>\n",
       "      <td>0.080000</td>\n",
       "    </tr>\n",
       "    <tr>\n",
       "      <th>B</th>\n",
       "      <td>353</td>\n",
       "      <td>4988</td>\n",
       "      <td>0.070770</td>\n",
       "    </tr>\n",
       "    <tr>\n",
       "      <th>C</th>\n",
       "      <td>1346</td>\n",
       "      <td>15849</td>\n",
       "      <td>0.084926</td>\n",
       "    </tr>\n",
       "    <tr>\n",
       "      <th>D</th>\n",
       "      <td>21</td>\n",
       "      <td>347</td>\n",
       "      <td>0.060519</td>\n",
       "    </tr>\n",
       "    <tr>\n",
       "      <th>E</th>\n",
       "      <td>2</td>\n",
       "      <td>22</td>\n",
       "      <td>0.090909</td>\n",
       "    </tr>\n",
       "  </tbody>\n",
       "</table>\n",
       "</div>"
      ],
      "text/plain": [
       "                        sum  count      mean\n",
       "                       debt   debt      debt\n",
       "total_income_category                       \n",
       "A                         2     25  0.080000\n",
       "B                       353   4988  0.070770\n",
       "C                      1346  15849  0.084926\n",
       "D                        21    347  0.060519\n",
       "E                         2     22  0.090909"
      ]
     },
     "metadata": {},
     "output_type": "display_data"
    }
   ],
   "source": [
    "# рассчет долм невозврата кредита в зависимости от уровня дохода:\n",
    "display(data.pivot_table(index=['total_income_category'],\n",
    "        values='debt', aggfunc=['sum', 'count', 'mean']))"
   ]
  },
  {
   "cell_type": "markdown",
   "id": "33f503c3",
   "metadata": {},
   "source": [
    "**Вывод**"
   ]
  },
  {
   "cell_type": "markdown",
   "id": "48768ab0",
   "metadata": {},
   "source": [
    "1. Максимальный процент невозврата кредита у клиентов с уровнем дохода категории E (0–30000) - 9.09.\n",
    "2. У клиентов с уровнем дохода категории A (выше 1 000 001) и C (50 001–200 000) приблизительно одинаковый процент невозврата (8 и 8,49 соответственно).\n",
    "3. Самый низкий процент невозврата у клиентов с уровнем дохода категории D (30 001–50 000) - 6.17.\n",
    "4. Самые многочисленные выборки, это категории дохода B и С Если сравнить только их, то зависимость будет следующая, чем выше доход, тем ниже процент невозврата."
   ]
  },
  {
   "cell_type": "markdown",
   "id": "a95662f1",
   "metadata": {},
   "source": [
    "## Влияние разных целей кредита на его возврат в срок"
   ]
  },
  {
   "cell_type": "code",
   "execution_count": 84,
   "id": "3c733649",
   "metadata": {},
   "outputs": [
    {
     "data": {
      "text/html": [
       "<div>\n",
       "<style scoped>\n",
       "    .dataframe tbody tr th:only-of-type {\n",
       "        vertical-align: middle;\n",
       "    }\n",
       "\n",
       "    .dataframe tbody tr th {\n",
       "        vertical-align: top;\n",
       "    }\n",
       "\n",
       "    .dataframe thead tr th {\n",
       "        text-align: left;\n",
       "    }\n",
       "\n",
       "    .dataframe thead tr:last-of-type th {\n",
       "        text-align: right;\n",
       "    }\n",
       "</style>\n",
       "<table border=\"1\" class=\"dataframe\">\n",
       "  <thead>\n",
       "    <tr>\n",
       "      <th></th>\n",
       "      <th>sum</th>\n",
       "      <th>count</th>\n",
       "      <th>mean</th>\n",
       "    </tr>\n",
       "    <tr>\n",
       "      <th></th>\n",
       "      <th>debt</th>\n",
       "      <th>debt</th>\n",
       "      <th>debt</th>\n",
       "    </tr>\n",
       "    <tr>\n",
       "      <th>purpose_category</th>\n",
       "      <th></th>\n",
       "      <th></th>\n",
       "      <th></th>\n",
       "    </tr>\n",
       "  </thead>\n",
       "  <tbody>\n",
       "    <tr>\n",
       "      <th>операции с автомобилем</th>\n",
       "      <td>397</td>\n",
       "      <td>4258</td>\n",
       "      <td>0.093236</td>\n",
       "    </tr>\n",
       "    <tr>\n",
       "      <th>операции с недвижимостью</th>\n",
       "      <td>777</td>\n",
       "      <td>10704</td>\n",
       "      <td>0.072590</td>\n",
       "    </tr>\n",
       "    <tr>\n",
       "      <th>получение образования</th>\n",
       "      <td>369</td>\n",
       "      <td>3970</td>\n",
       "      <td>0.092947</td>\n",
       "    </tr>\n",
       "    <tr>\n",
       "      <th>проведение свадьбы</th>\n",
       "      <td>181</td>\n",
       "      <td>2299</td>\n",
       "      <td>0.078730</td>\n",
       "    </tr>\n",
       "  </tbody>\n",
       "</table>\n",
       "</div>"
      ],
      "text/plain": [
       "                          sum  count      mean\n",
       "                         debt   debt      debt\n",
       "purpose_category                              \n",
       "операции с автомобилем    397   4258  0.093236\n",
       "операции с недвижимостью  777  10704  0.072590\n",
       "получение образования     369   3970  0.092947\n",
       "проведение свадьбы        181   2299  0.078730"
      ]
     },
     "metadata": {},
     "output_type": "display_data"
    }
   ],
   "source": [
    "display(data.pivot_table(index=['purpose_category'], values='debt', aggfunc=['sum','count','mean']))"
   ]
  },
  {
   "cell_type": "markdown",
   "id": "b9881412",
   "metadata": {},
   "source": [
    "**Вывод**"
   ]
  },
  {
   "cell_type": "markdown",
   "id": "704b97dc",
   "metadata": {},
   "source": [
    "1. Максимальный процент невозврата кредита у клиентов с целью кредита \"операции с автомобилем\" и \"получение образования\" (9,34 и 9,25 соответственно).\n",
    "2. Самый низкий процент невозврата у клиентов с целью кредита \"операции с недвижимостью\"- 7,25.\n",
    "3. Количество клиентов с целью кредита \"операции с недвижимостью\" сопоставимо с суммой количества клиентов по оставшимся трем категориям."
   ]
  },
  {
   "cell_type": "markdown",
   "id": "8d0198b2",
   "metadata": {},
   "source": [
    "#### Возможные причины появления пропусков в исходных данных."
   ]
  },
  {
   "cell_type": "markdown",
   "id": "43de687b",
   "metadata": {},
   "source": [
    "Предположения о возникновении пропусков: человеческий фактор или техническая ошибка.\n",
    "1. Часть заемщиков не захотела раскрывать свои данные о доходах и трудовой деятельности.\n",
    "2. Возможно наполнение датасета шло из различных источников, не предполагающих заполнения каких-либо данных. Проверить можно связавшись с источником, в данном случае работаем с тем,что имеем."
   ]
  },
  {
   "cell_type": "markdown",
   "id": "6ec6e594",
   "metadata": {},
   "source": [
    "### Общий вывод."
   ]
  },
  {
   "cell_type": "markdown",
   "id": "24463e69",
   "metadata": {},
   "source": [
    "Портрет благонадежного кредитора, исходя из предоставленных данных, сформировался следующий:\n",
    "\n",
    "Не имеющий детей, но имеющий опыт жизни в браке (а лучше всего разведенный или вдовый) человек с доходом выше 200 000 рублей. С другой стороны, к наименее надежным кредиторам относятся не имевшие опыта жизни в браке люди, обремененные детьми, с доходом ниже 200 000 рублей, берущие кредит на покупку автомобиля."
   ]
  }
 ],
 "metadata": {
  "ExecuteTimeLog": [
   {
    "duration": 46,
    "start_time": "2023-06-06T04:27:30.106Z"
   },
   {
    "duration": 7,
    "start_time": "2023-06-06T04:27:58.424Z"
   },
   {
    "duration": 425,
    "start_time": "2023-06-06T04:47:02.646Z"
   },
   {
    "duration": 129,
    "start_time": "2023-06-06T04:47:03.073Z"
   },
   {
    "duration": 13,
    "start_time": "2023-06-06T04:47:03.204Z"
   },
   {
    "duration": 32,
    "start_time": "2023-06-06T04:47:03.219Z"
   },
   {
    "duration": 75,
    "start_time": "2023-06-06T04:47:03.252Z"
   },
   {
    "duration": 0,
    "start_time": "2023-06-06T04:47:03.330Z"
   },
   {
    "duration": 0,
    "start_time": "2023-06-06T04:47:03.331Z"
   },
   {
    "duration": 0,
    "start_time": "2023-06-06T04:47:03.332Z"
   },
   {
    "duration": 0,
    "start_time": "2023-06-06T04:47:03.333Z"
   },
   {
    "duration": 0,
    "start_time": "2023-06-06T04:47:03.334Z"
   },
   {
    "duration": 0,
    "start_time": "2023-06-06T04:47:03.335Z"
   },
   {
    "duration": 0,
    "start_time": "2023-06-06T04:47:03.336Z"
   },
   {
    "duration": 0,
    "start_time": "2023-06-06T04:47:03.337Z"
   },
   {
    "duration": 0,
    "start_time": "2023-06-06T04:47:03.338Z"
   },
   {
    "duration": 0,
    "start_time": "2023-06-06T04:47:03.339Z"
   },
   {
    "duration": 0,
    "start_time": "2023-06-06T04:47:03.340Z"
   },
   {
    "duration": 0,
    "start_time": "2023-06-06T04:47:03.341Z"
   },
   {
    "duration": 1,
    "start_time": "2023-06-06T04:47:03.342Z"
   },
   {
    "duration": 0,
    "start_time": "2023-06-06T04:47:03.343Z"
   },
   {
    "duration": 0,
    "start_time": "2023-06-06T04:47:03.344Z"
   },
   {
    "duration": 0,
    "start_time": "2023-06-06T04:47:03.356Z"
   },
   {
    "duration": 0,
    "start_time": "2023-06-06T04:47:03.357Z"
   },
   {
    "duration": 424,
    "start_time": "2023-06-06T06:27:22.242Z"
   },
   {
    "duration": 83,
    "start_time": "2023-06-06T06:27:22.668Z"
   },
   {
    "duration": 11,
    "start_time": "2023-06-06T06:27:22.752Z"
   },
   {
    "duration": 27,
    "start_time": "2023-06-06T06:27:22.764Z"
   },
   {
    "duration": 45,
    "start_time": "2023-06-06T06:27:22.793Z"
   },
   {
    "duration": 44,
    "start_time": "2023-06-06T06:27:22.840Z"
   },
   {
    "duration": 23,
    "start_time": "2023-06-06T06:27:22.886Z"
   },
   {
    "duration": 19,
    "start_time": "2023-06-06T06:27:22.911Z"
   },
   {
    "duration": 10,
    "start_time": "2023-06-06T06:27:22.932Z"
   },
   {
    "duration": 7,
    "start_time": "2023-06-06T06:27:22.944Z"
   },
   {
    "duration": 14,
    "start_time": "2023-06-06T06:27:22.953Z"
   },
   {
    "duration": 5,
    "start_time": "2023-06-06T06:27:22.969Z"
   },
   {
    "duration": 10,
    "start_time": "2023-06-06T06:27:22.976Z"
   },
   {
    "duration": 62,
    "start_time": "2023-06-06T06:27:22.989Z"
   },
   {
    "duration": 34,
    "start_time": "2023-06-06T06:27:23.053Z"
   },
   {
    "duration": 13,
    "start_time": "2023-06-06T06:27:23.089Z"
   },
   {
    "duration": 39,
    "start_time": "2023-06-06T06:27:23.104Z"
   },
   {
    "duration": 15,
    "start_time": "2023-06-06T06:27:23.145Z"
   },
   {
    "duration": 39,
    "start_time": "2023-06-06T06:27:23.162Z"
   },
   {
    "duration": 32,
    "start_time": "2023-06-06T06:27:23.203Z"
   },
   {
    "duration": 29,
    "start_time": "2023-06-06T06:27:23.237Z"
   },
   {
    "duration": 39,
    "start_time": "2023-06-06T06:27:23.268Z"
   },
   {
    "duration": 41,
    "start_time": "2023-06-09T03:13:44.784Z"
   },
   {
    "duration": 6,
    "start_time": "2023-06-09T03:14:43.683Z"
   },
   {
    "duration": 357,
    "start_time": "2023-06-09T03:14:58.409Z"
   },
   {
    "duration": 293,
    "start_time": "2023-06-09T03:14:58.771Z"
   },
   {
    "duration": 9,
    "start_time": "2023-06-09T03:14:59.065Z"
   },
   {
    "duration": 30,
    "start_time": "2023-06-09T03:14:59.077Z"
   },
   {
    "duration": 17,
    "start_time": "2023-06-09T03:14:59.109Z"
   },
   {
    "duration": 21,
    "start_time": "2023-06-09T03:14:59.127Z"
   },
   {
    "duration": 7,
    "start_time": "2023-06-09T03:14:59.150Z"
   },
   {
    "duration": 5,
    "start_time": "2023-06-09T03:14:59.159Z"
   },
   {
    "duration": 31,
    "start_time": "2023-06-09T03:14:59.165Z"
   },
   {
    "duration": 22,
    "start_time": "2023-06-09T03:14:59.198Z"
   },
   {
    "duration": 8,
    "start_time": "2023-06-09T03:14:59.221Z"
   },
   {
    "duration": 10,
    "start_time": "2023-06-09T03:14:59.231Z"
   },
   {
    "duration": 8,
    "start_time": "2023-06-09T03:14:59.243Z"
   },
   {
    "duration": 7,
    "start_time": "2023-06-09T03:14:59.252Z"
   },
   {
    "duration": 19,
    "start_time": "2023-06-09T03:14:59.260Z"
   },
   {
    "duration": 19,
    "start_time": "2023-06-09T03:14:59.281Z"
   },
   {
    "duration": 22,
    "start_time": "2023-06-09T03:14:59.302Z"
   },
   {
    "duration": 14,
    "start_time": "2023-06-09T03:14:59.326Z"
   },
   {
    "duration": 22,
    "start_time": "2023-06-09T03:14:59.341Z"
   },
   {
    "duration": 28,
    "start_time": "2023-06-09T03:14:59.365Z"
   },
   {
    "duration": 21,
    "start_time": "2023-06-09T03:14:59.394Z"
   },
   {
    "duration": 15,
    "start_time": "2023-06-09T03:14:59.417Z"
   },
   {
    "duration": 14,
    "start_time": "2023-06-09T03:16:18.004Z"
   },
   {
    "duration": 11,
    "start_time": "2023-06-09T03:18:33.930Z"
   },
   {
    "duration": 3,
    "start_time": "2023-06-09T03:18:40.178Z"
   },
   {
    "duration": 12,
    "start_time": "2023-06-09T03:23:31.166Z"
   },
   {
    "duration": 384,
    "start_time": "2023-06-09T03:23:47.839Z"
   },
   {
    "duration": 72,
    "start_time": "2023-06-09T03:23:48.225Z"
   },
   {
    "duration": 10,
    "start_time": "2023-06-09T03:23:48.298Z"
   },
   {
    "duration": 22,
    "start_time": "2023-06-09T03:23:48.309Z"
   },
   {
    "duration": 12,
    "start_time": "2023-06-09T03:23:48.332Z"
   },
   {
    "duration": 13,
    "start_time": "2023-06-09T03:23:48.345Z"
   },
   {
    "duration": 14,
    "start_time": "2023-06-09T03:23:48.359Z"
   },
   {
    "duration": 25,
    "start_time": "2023-06-09T03:23:48.374Z"
   },
   {
    "duration": 2,
    "start_time": "2023-06-09T03:23:48.401Z"
   },
   {
    "duration": 6,
    "start_time": "2023-06-09T03:23:48.405Z"
   },
   {
    "duration": 5,
    "start_time": "2023-06-09T03:23:48.412Z"
   },
   {
    "duration": 5,
    "start_time": "2023-06-09T03:23:48.418Z"
   },
   {
    "duration": 4,
    "start_time": "2023-06-09T03:23:48.425Z"
   },
   {
    "duration": 5,
    "start_time": "2023-06-09T03:23:48.431Z"
   },
   {
    "duration": 8,
    "start_time": "2023-06-09T03:23:48.437Z"
   },
   {
    "duration": 9,
    "start_time": "2023-06-09T03:23:48.447Z"
   },
   {
    "duration": 7,
    "start_time": "2023-06-09T03:23:48.458Z"
   },
   {
    "duration": 5,
    "start_time": "2023-06-09T03:23:48.467Z"
   },
   {
    "duration": 10,
    "start_time": "2023-06-09T03:23:48.473Z"
   },
   {
    "duration": 12,
    "start_time": "2023-06-09T03:23:48.484Z"
   },
   {
    "duration": 11,
    "start_time": "2023-06-09T03:23:48.498Z"
   },
   {
    "duration": 8,
    "start_time": "2023-06-09T03:23:48.510Z"
   },
   {
    "duration": 11,
    "start_time": "2023-06-09T03:51:20.631Z"
   },
   {
    "duration": 4,
    "start_time": "2023-06-09T03:52:08.497Z"
   },
   {
    "duration": 11,
    "start_time": "2023-06-09T04:37:04.648Z"
   },
   {
    "duration": 13,
    "start_time": "2023-06-09T04:37:15.498Z"
   },
   {
    "duration": 6,
    "start_time": "2023-06-09T04:40:23.354Z"
   },
   {
    "duration": 4,
    "start_time": "2023-06-09T04:49:21.176Z"
   },
   {
    "duration": 4,
    "start_time": "2023-06-09T04:50:18.817Z"
   },
   {
    "duration": 9,
    "start_time": "2023-06-09T04:50:23.769Z"
   },
   {
    "duration": 5,
    "start_time": "2023-06-09T04:50:29.994Z"
   },
   {
    "duration": 3,
    "start_time": "2023-06-09T04:52:57.049Z"
   },
   {
    "duration": 9,
    "start_time": "2023-06-09T04:53:05.333Z"
   },
   {
    "duration": 67,
    "start_time": "2023-06-09T05:03:14.185Z"
   },
   {
    "duration": 17,
    "start_time": "2023-06-09T05:04:23.352Z"
   },
   {
    "duration": 32,
    "start_time": "2023-06-09T05:05:08.078Z"
   },
   {
    "duration": 390,
    "start_time": "2023-06-09T05:06:26.994Z"
   },
   {
    "duration": 72,
    "start_time": "2023-06-09T05:06:27.386Z"
   },
   {
    "duration": 10,
    "start_time": "2023-06-09T05:06:27.460Z"
   },
   {
    "duration": 22,
    "start_time": "2023-06-09T05:06:27.472Z"
   },
   {
    "duration": 13,
    "start_time": "2023-06-09T05:06:27.496Z"
   },
   {
    "duration": 13,
    "start_time": "2023-06-09T05:06:27.511Z"
   },
   {
    "duration": 4,
    "start_time": "2023-06-09T05:06:27.525Z"
   },
   {
    "duration": 14,
    "start_time": "2023-06-09T05:06:27.530Z"
   },
   {
    "duration": 28,
    "start_time": "2023-06-09T05:06:27.546Z"
   },
   {
    "duration": 16,
    "start_time": "2023-06-09T05:06:27.578Z"
   },
   {
    "duration": 6,
    "start_time": "2023-06-09T05:06:27.596Z"
   },
   {
    "duration": 47,
    "start_time": "2023-06-09T05:06:27.604Z"
   },
   {
    "duration": 22,
    "start_time": "2023-06-09T05:06:27.653Z"
   },
   {
    "duration": 4,
    "start_time": "2023-06-09T05:06:27.677Z"
   },
   {
    "duration": 12,
    "start_time": "2023-06-09T05:06:27.683Z"
   },
   {
    "duration": 21,
    "start_time": "2023-06-09T05:06:27.697Z"
   },
   {
    "duration": 54,
    "start_time": "2023-06-09T05:06:27.720Z"
   },
   {
    "duration": 3,
    "start_time": "2023-06-09T05:06:27.776Z"
   },
   {
    "duration": 7,
    "start_time": "2023-06-09T05:06:27.781Z"
   },
   {
    "duration": 5,
    "start_time": "2023-06-09T05:06:27.790Z"
   },
   {
    "duration": 5,
    "start_time": "2023-06-09T05:06:27.797Z"
   },
   {
    "duration": 12,
    "start_time": "2023-06-09T05:06:27.804Z"
   },
   {
    "duration": 2,
    "start_time": "2023-06-09T05:07:04.325Z"
   },
   {
    "duration": 66,
    "start_time": "2023-06-09T05:11:52.950Z"
   },
   {
    "duration": 3,
    "start_time": "2023-06-09T05:11:56.417Z"
   },
   {
    "duration": 10,
    "start_time": "2023-06-09T05:11:58.571Z"
   }
  ],
  "colab": {
   "provenance": []
  },
  "kernelspec": {
   "display_name": "Python 3 (ipykernel)",
   "language": "python",
   "name": "python3"
  },
  "language_info": {
   "codemirror_mode": {
    "name": "ipython",
    "version": 3
   },
   "file_extension": ".py",
   "mimetype": "text/x-python",
   "name": "python",
   "nbconvert_exporter": "python",
   "pygments_lexer": "ipython3",
   "version": "3.12.4"
  },
  "toc": {
   "base_numbering": 1,
   "nav_menu": {},
   "number_sections": true,
   "sideBar": true,
   "skip_h1_title": true,
   "title_cell": "Table of Contents",
   "title_sidebar": "Contents",
   "toc_cell": false,
   "toc_position": {},
   "toc_section_display": true,
   "toc_window_display": false
  }
 },
 "nbformat": 4,
 "nbformat_minor": 5
}
