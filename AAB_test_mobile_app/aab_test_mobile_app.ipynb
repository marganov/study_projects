{
 "cells": [
  {
   "cell_type": "markdown",
   "metadata": {},
   "source": [
    "# Исследование поведения пользователей мобильного приложения и проведение AAB теста\n",
    "\n",
    "**Предварительный план работы:**\n",
    " - Изучить воронку продаж.\n",
    " - Узнать, как пользователи доходят до покупки. \n",
    " - Сколько пользователей доходит до покупки, а сколько — «застревает» на предыдущих шагах и на каких именно.\n",
    " - Исследовать результаты A/A/B-эксперимента.\n",
    " - Принять решение по результатам A/A/B-теста.\n",
    " - \n",
    "## Изучение общей информации\n"
   ]
  },
  {
   "cell_type": "code",
   "execution_count": 27,
   "metadata": {},
   "outputs": [],
   "source": [
    "# импорт библиотек\n",
    "import pandas as pd\n",
    "import matplotlib.pyplot as plt\n",
    "import plotly.express as px\n",
    "from plotly import graph_objects as go\n",
    "import seaborn as sns\n",
    "from statsmodels.stats.proportion import proportions_ztest\n",
    "from scipy import stats\n",
    "import numpy as np\n",
    "import scipy.stats as st\n",
    "import math as mth"
   ]
  },
  {
   "cell_type": "code",
   "execution_count": 28,
   "metadata": {},
   "outputs": [],
   "source": [
    "# чтение файла\n",
    "logs = pd.read_csv('datasets/logs_exp.csv', sep='\\t')"
   ]
  },
  {
   "cell_type": "code",
   "execution_count": 29,
   "metadata": {},
   "outputs": [
    {
     "name": "stdout",
     "output_type": "stream",
     "text": [
      "<class 'pandas.core.frame.DataFrame'>\n",
      "RangeIndex: 244126 entries, 0 to 244125\n",
      "Data columns (total 4 columns):\n",
      " #   Column          Non-Null Count   Dtype \n",
      "---  ------          --------------   ----- \n",
      " 0   EventName       244126 non-null  object\n",
      " 1   DeviceIDHash    244126 non-null  int64 \n",
      " 2   EventTimestamp  244126 non-null  int64 \n",
      " 3   ExpId           244126 non-null  int64 \n",
      "dtypes: int64(3), object(1)\n",
      "memory usage: 7.5+ MB\n"
     ]
    }
   ],
   "source": [
    "logs.info()"
   ]
  },
  {
   "cell_type": "code",
   "execution_count": 30,
   "metadata": {},
   "outputs": [
    {
     "data": {
      "text/html": [
       "<div>\n",
       "<style scoped>\n",
       "    .dataframe tbody tr th:only-of-type {\n",
       "        vertical-align: middle;\n",
       "    }\n",
       "\n",
       "    .dataframe tbody tr th {\n",
       "        vertical-align: top;\n",
       "    }\n",
       "\n",
       "    .dataframe thead th {\n",
       "        text-align: right;\n",
       "    }\n",
       "</style>\n",
       "<table border=\"1\" class=\"dataframe\">\n",
       "  <thead>\n",
       "    <tr style=\"text-align: right;\">\n",
       "      <th></th>\n",
       "      <th>EventName</th>\n",
       "      <th>DeviceIDHash</th>\n",
       "      <th>EventTimestamp</th>\n",
       "      <th>ExpId</th>\n",
       "    </tr>\n",
       "  </thead>\n",
       "  <tbody>\n",
       "    <tr>\n",
       "      <th>0</th>\n",
       "      <td>MainScreenAppear</td>\n",
       "      <td>4575588528974610257</td>\n",
       "      <td>1564029816</td>\n",
       "      <td>246</td>\n",
       "    </tr>\n",
       "    <tr>\n",
       "      <th>1</th>\n",
       "      <td>MainScreenAppear</td>\n",
       "      <td>7416695313311560658</td>\n",
       "      <td>1564053102</td>\n",
       "      <td>246</td>\n",
       "    </tr>\n",
       "    <tr>\n",
       "      <th>2</th>\n",
       "      <td>PaymentScreenSuccessful</td>\n",
       "      <td>3518123091307005509</td>\n",
       "      <td>1564054127</td>\n",
       "      <td>248</td>\n",
       "    </tr>\n",
       "    <tr>\n",
       "      <th>3</th>\n",
       "      <td>CartScreenAppear</td>\n",
       "      <td>3518123091307005509</td>\n",
       "      <td>1564054127</td>\n",
       "      <td>248</td>\n",
       "    </tr>\n",
       "    <tr>\n",
       "      <th>4</th>\n",
       "      <td>PaymentScreenSuccessful</td>\n",
       "      <td>6217807653094995999</td>\n",
       "      <td>1564055322</td>\n",
       "      <td>248</td>\n",
       "    </tr>\n",
       "  </tbody>\n",
       "</table>\n",
       "</div>"
      ],
      "text/plain": [
       "                 EventName         DeviceIDHash  EventTimestamp  ExpId\n",
       "0         MainScreenAppear  4575588528974610257      1564029816    246\n",
       "1         MainScreenAppear  7416695313311560658      1564053102    246\n",
       "2  PaymentScreenSuccessful  3518123091307005509      1564054127    248\n",
       "3         CartScreenAppear  3518123091307005509      1564054127    248\n",
       "4  PaymentScreenSuccessful  6217807653094995999      1564055322    248"
      ]
     },
     "execution_count": 30,
     "metadata": {},
     "output_type": "execute_result"
    }
   ],
   "source": [
    "logs.head()"
   ]
  },
  {
   "cell_type": "markdown",
   "metadata": {},
   "source": [
    "**Вывод** \n",
    "\n",
    "Данные представляют собой набор событий, с соответствующей этому событию временной меткой, произошедшему с определенным пользователем.\n",
    "\n",
    "## Подготовка данных\n",
    "\n",
    "### Замена названий столбцов"
   ]
  },
  {
   "cell_type": "code",
   "execution_count": 31,
   "metadata": {},
   "outputs": [],
   "source": [
    "# замена названий столбцов\n",
    "logs = logs.rename(columns={'EventName': 'event', 'DeviceIDHash': 'user_id', 'EventTimestamp': 'date_time', 'ExpId': 'group'})"
   ]
  },
  {
   "cell_type": "code",
   "execution_count": 32,
   "metadata": {},
   "outputs": [],
   "source": [
    "# замена названий групп\n",
    "logs['group'] = logs['group'].astype(object)\n",
    "logs.loc[logs['group'].isin([246, 247, 248]), 'group'] = logs['group'].replace({246: 'A1', 247: 'A2', 248: 'B'})"
   ]
  },
  {
   "cell_type": "code",
   "execution_count": 33,
   "metadata": {},
   "outputs": [
    {
     "data": {
      "text/plain": [
       "Index(['event', 'user_id', 'date_time', 'group'], dtype='object')"
      ]
     },
     "metadata": {},
     "output_type": "display_data"
    },
    {
     "data": {
      "text/plain": [
       "array(['A1', 'B', 'A2'], dtype=object)"
      ]
     },
     "execution_count": 33,
     "metadata": {},
     "output_type": "execute_result"
    }
   ],
   "source": [
    "# проверка изменений\n",
    "display(logs.columns)\n",
    "logs['group'].unique()"
   ]
  },
  {
   "cell_type": "markdown",
   "metadata": {},
   "source": [
    "### Проверка пропусков и типов данных."
   ]
  },
  {
   "cell_type": "code",
   "execution_count": 34,
   "metadata": {},
   "outputs": [
    {
     "data": {
      "text/plain": [
       "event        0\n",
       "user_id      0\n",
       "date_time    0\n",
       "group        0\n",
       "dtype: int64"
      ]
     },
     "execution_count": 34,
     "metadata": {},
     "output_type": "execute_result"
    }
   ],
   "source": [
    "# проверка пропусков\n",
    "logs.isnull().sum()"
   ]
  },
  {
   "cell_type": "markdown",
   "metadata": {},
   "source": [
    "Приведем к нужному типу даты столбец `date_time`. В файле, данные предоставлены в секундах. Так же поищем дубликаты."
   ]
  },
  {
   "cell_type": "code",
   "execution_count": 35,
   "metadata": {},
   "outputs": [],
   "source": [
    "logs['date_time'] = pd.to_datetime(logs['date_time'], unit='s')"
   ]
  },
  {
   "cell_type": "code",
   "execution_count": 36,
   "metadata": {},
   "outputs": [
    {
     "data": {
      "text/plain": [
       "'Дубликатов в данных: 413'"
      ]
     },
     "metadata": {},
     "output_type": "display_data"
    },
    {
     "data": {
      "text/plain": [
       "'Доля дубликатов в таблице: 0.17%'"
      ]
     },
     "metadata": {},
     "output_type": "display_data"
    },
    {
     "data": {
      "text/plain": [
       "'Дубликатов в данных после удаления: 0'"
      ]
     },
     "metadata": {},
     "output_type": "display_data"
    }
   ],
   "source": [
    "# поиск и дальнейшие действия с дубликатами\n",
    "display(f\"Дубликатов в данных: {logs.duplicated().sum()}\")\n",
    "display('Доля дубликатов в таблице: {:.2%}'.format(logs.duplicated().sum() / len(logs)))\n",
    "\n",
    "logs = logs.drop_duplicates()\n",
    "\n",
    "display(f\"Дубликатов в данных после удаления: {logs.duplicated().sum()}\")"
   ]
  },
  {
   "cell_type": "markdown",
   "metadata": {},
   "source": [
    "### Добавление столбца даты и времени и отдельного столбца с датами"
   ]
  },
  {
   "cell_type": "code",
   "execution_count": 37,
   "metadata": {},
   "outputs": [],
   "source": [
    "logs['date'] = pd.to_datetime(logs['date_time'].dt.date)"
   ]
  },
  {
   "cell_type": "code",
   "execution_count": 38,
   "metadata": {},
   "outputs": [
    {
     "data": {
      "text/html": [
       "<div>\n",
       "<style scoped>\n",
       "    .dataframe tbody tr th:only-of-type {\n",
       "        vertical-align: middle;\n",
       "    }\n",
       "\n",
       "    .dataframe tbody tr th {\n",
       "        vertical-align: top;\n",
       "    }\n",
       "\n",
       "    .dataframe thead th {\n",
       "        text-align: right;\n",
       "    }\n",
       "</style>\n",
       "<table border=\"1\" class=\"dataframe\">\n",
       "  <thead>\n",
       "    <tr style=\"text-align: right;\">\n",
       "      <th></th>\n",
       "      <th>event</th>\n",
       "      <th>user_id</th>\n",
       "      <th>date_time</th>\n",
       "      <th>group</th>\n",
       "      <th>date</th>\n",
       "    </tr>\n",
       "  </thead>\n",
       "  <tbody>\n",
       "    <tr>\n",
       "      <th>0</th>\n",
       "      <td>MainScreenAppear</td>\n",
       "      <td>4575588528974610257</td>\n",
       "      <td>2019-07-25 04:43:36</td>\n",
       "      <td>A1</td>\n",
       "      <td>2019-07-25</td>\n",
       "    </tr>\n",
       "    <tr>\n",
       "      <th>1</th>\n",
       "      <td>MainScreenAppear</td>\n",
       "      <td>7416695313311560658</td>\n",
       "      <td>2019-07-25 11:11:42</td>\n",
       "      <td>A1</td>\n",
       "      <td>2019-07-25</td>\n",
       "    </tr>\n",
       "    <tr>\n",
       "      <th>2</th>\n",
       "      <td>PaymentScreenSuccessful</td>\n",
       "      <td>3518123091307005509</td>\n",
       "      <td>2019-07-25 11:28:47</td>\n",
       "      <td>B</td>\n",
       "      <td>2019-07-25</td>\n",
       "    </tr>\n",
       "    <tr>\n",
       "      <th>3</th>\n",
       "      <td>CartScreenAppear</td>\n",
       "      <td>3518123091307005509</td>\n",
       "      <td>2019-07-25 11:28:47</td>\n",
       "      <td>B</td>\n",
       "      <td>2019-07-25</td>\n",
       "    </tr>\n",
       "    <tr>\n",
       "      <th>4</th>\n",
       "      <td>PaymentScreenSuccessful</td>\n",
       "      <td>6217807653094995999</td>\n",
       "      <td>2019-07-25 11:48:42</td>\n",
       "      <td>B</td>\n",
       "      <td>2019-07-25</td>\n",
       "    </tr>\n",
       "  </tbody>\n",
       "</table>\n",
       "</div>"
      ],
      "text/plain": [
       "                     event              user_id           date_time group  \\\n",
       "0         MainScreenAppear  4575588528974610257 2019-07-25 04:43:36    A1   \n",
       "1         MainScreenAppear  7416695313311560658 2019-07-25 11:11:42    A1   \n",
       "2  PaymentScreenSuccessful  3518123091307005509 2019-07-25 11:28:47     B   \n",
       "3         CartScreenAppear  3518123091307005509 2019-07-25 11:28:47     B   \n",
       "4  PaymentScreenSuccessful  6217807653094995999 2019-07-25 11:48:42     B   \n",
       "\n",
       "        date  \n",
       "0 2019-07-25  \n",
       "1 2019-07-25  \n",
       "2 2019-07-25  \n",
       "3 2019-07-25  \n",
       "4 2019-07-25  "
      ]
     },
     "execution_count": 38,
     "metadata": {},
     "output_type": "execute_result"
    }
   ],
   "source": [
    "# проверка\n",
    "logs.head()"
   ]
  },
  {
   "cell_type": "markdown",
   "metadata": {},
   "source": [
    "**Вывод**\n",
    "1. Заменены названия столбцов.\n",
    "2. Заменены названия групп в столбце `group` на удобные:\n",
    "  - `A1` первая контрольная группа,\n",
    "  - `A2` вторая контрольная группа,\n",
    "  - `B` контрольная группа.\n",
    "3. Пропуски проверены и необнаружены.\n",
    "4. Дубликатов обнаружено незначительных 0.17%, было принято решение их удалить.\n",
    "5. Столбец `date_time` приведен к временному типу данных.\n",
    "6. К фрейму добавлен столбец `date` с датой события.\n",
    "\n",
    "## Изучение данных\n",
    "\n",
    "### Число событий в логе"
   ]
  },
  {
   "cell_type": "code",
   "execution_count": 39,
   "metadata": {},
   "outputs": [
    {
     "data": {
      "text/plain": [
       "'В логе содержится 5 уникальных событий, с названиями MainScreenAppear, PaymentScreenSuccessful, CartScreenAppear, OffersScreenAppear, Tutorial'"
      ]
     },
     "metadata": {},
     "output_type": "display_data"
    },
    {
     "data": {
      "text/plain": [
       "'Всего событий: 243713'"
      ]
     },
     "metadata": {},
     "output_type": "display_data"
    }
   ],
   "source": [
    "# подсчет собыытий\n",
    "display(f\"В логе содержится {logs['event'].nunique()} уникальных событий, с названиями {', '.join(logs['event'].unique())}\")\n",
    "display(f\"Всего событий: {len(logs['event'])}\")"
   ]
  },
  {
   "cell_type": "markdown",
   "metadata": {},
   "source": [
    "### Число пользователей в логе"
   ]
  },
  {
   "cell_type": "code",
   "execution_count": 40,
   "metadata": {},
   "outputs": [
    {
     "data": {
      "text/plain": [
       "'В логе 7551 пользователей'"
      ]
     },
     "metadata": {},
     "output_type": "display_data"
    }
   ],
   "source": [
    "display(f\"В логе {logs['user_id'].nunique()} пользователей\")"
   ]
  },
  {
   "cell_type": "markdown",
   "metadata": {},
   "source": [
    "### Число событий  на пользователя"
   ]
  },
  {
   "cell_type": "code",
   "execution_count": 41,
   "metadata": {},
   "outputs": [
    {
     "data": {
      "text/plain": [
       "'Среднее количество событий на пользователя: 32'"
      ]
     },
     "metadata": {},
     "output_type": "display_data"
    }
   ],
   "source": [
    "events_per_user = logs.groupby('user_id')['event'].count().reset_index()\n",
    "display(f\"Среднее количество событий на пользователя: {round(events_per_user['event'].mean())}\")"
   ]
  },
  {
   "cell_type": "markdown",
   "metadata": {},
   "source": [
    "### Данные за период"
   ]
  },
  {
   "cell_type": "code",
   "execution_count": 42,
   "metadata": {},
   "outputs": [
    {
     "data": {
      "text/plain": [
       "'Данные за период с 2019-07-25 по 2019-08-07'"
      ]
     },
     "metadata": {},
     "output_type": "display_data"
    }
   ],
   "source": [
    "display(f\"Данные за период с {logs['date'].dt.date.min()} по {logs['date'].dt.date.max()}\")"
   ]
  },
  {
   "cell_type": "markdown",
   "metadata": {},
   "source": [
    "### Количество событий в зависимости от времени в разрезе групп"
   ]
  },
  {
   "cell_type": "code",
   "execution_count": 43,
   "metadata": {},
   "outputs": [
    {
     "data": {
      "image/png": "[encoded data removed]",
      "text/plain": [
       "<Figure size 1000x300 with 1 Axes>"
      ]
     },
     "metadata": {},
     "output_type": "display_data"
    }
   ],
   "source": [
    "group_A1 = logs[logs['group'] == 'A1']\n",
    "group_A1['date_time'].hist(bins=100, figsize=(10,3))\n",
    "plt.title('Гистограмма событий по дате и времени в контрольной группе А1')\n",
    "plt.ylabel('Кол-во событий')\n",
    "plt.xlabel('Дата')\n",
    "plt.xticks(rotation=90)\n",
    "plt.show()"
   ]
  },
  {
   "cell_type": "code",
   "execution_count": 44,
   "metadata": {},
   "outputs": [
    {
     "data": {
      "image/png": "[encoded data removed]",
      "text/plain": [
       "<Figure size 1000x300 with 1 Axes>"
      ]
     },
     "metadata": {},
     "output_type": "display_data"
    }
   ],
   "source": [
    "group_A2 = logs[logs['group'] == 'A2']\n",
    "group_A2['date_time'].hist(bins=100, figsize=(10,3))\n",
    "plt.title('Гистограмма событий по дате и времени в контрольной группе A2')\n",
    "plt.ylabel('Кол-во событий')\n",
    "plt.xlabel('Дата')\n",
    "plt.xticks(rotation=90)\n",
    "plt.show()"
   ]
  },
  {
   "cell_type": "code",
   "execution_count": 45,
   "metadata": {},
   "outputs": [
    {
     "data": {
      "image/png": "[encoded data removed]",
      "text/plain": [
       "<Figure size 1000x300 with 1 Axes>"
      ]
     },
     "metadata": {},
     "output_type": "display_data"
    }
   ],
   "source": [
    "group_B = logs[logs['group'] == 'B']\n",
    "group_B['date_time'].hist(bins=100, figsize=(10,3))\n",
    "plt.title('Гистограмма событий по дате и времени в эксперементальной группе B')\n",
    "plt.ylabel('Кол-во событий')\n",
    "plt.xlabel('Дата')\n",
    "plt.xticks(rotation=90)\n",
    "plt.show()"
   ]
  },
  {
   "cell_type": "markdown",
   "metadata": {},
   "source": [
    "Судя по гисограммам, мы располагаем не полными данными за весь период. Для предотвращения \"перекашивания\" данных, определим 1 августа, как момент полных данных. Отфильтруем события произошедшие до 1 августа и построим гистограмму с актуальными данными. Строить три гистограммы в разрезе групп на данном этапе смысла нет."
   ]
  },
  {
   "cell_type": "code",
   "execution_count": 46,
   "metadata": {},
   "outputs": [
    {
     "data": {
      "image/png": "[encoded data removed]",
      "text/plain": [
       "<Figure size 1000x300 with 1 Axes>"
      ]
     },
     "metadata": {},
     "output_type": "display_data"
    }
   ],
   "source": [
    "# Фильтруем данные\n",
    "logs_act = logs.query('date_time > \"2019-08-01\"')\n",
    "\n",
    "# Строим гистограмму\n",
    "logs_act['date_time'].hist(bins=100, figsize=(10,3))\n",
    "plt.title('Гистограмма событий по дате и времени')\n",
    "plt.ylabel('Кол-во событий')\n",
    "plt.xlabel('Дата')\n",
    "plt.show()"
   ]
  },
  {
   "cell_type": "markdown",
   "metadata": {},
   "source": [
    "### Количество потерянных данных"
   ]
  },
  {
   "cell_type": "code",
   "execution_count": 47,
   "metadata": {},
   "outputs": [
    {
     "data": {
      "text/plain": [
       "'Потеряли событий: 2826'"
      ]
     },
     "metadata": {},
     "output_type": "display_data"
    },
    {
     "data": {
      "text/plain": [
       "'Потеряли пользователей: 17'"
      ]
     },
     "metadata": {},
     "output_type": "display_data"
    }
   ],
   "source": [
    "# считаем потерянные данные\n",
    "display(f'Потеряли событий: {len(logs)-len(logs_act)}')\n",
    "display(f'Потеряли пользователей: {len(logs[\"user_id\"].unique())-len(logs_act[\"user_id\"].unique())}')"
   ]
  },
  {
   "cell_type": "code",
   "execution_count": 48,
   "metadata": {},
   "outputs": [
    {
     "data": {
      "text/plain": [
       "'Относительные потери событий: 1.16%'"
      ]
     },
     "metadata": {},
     "output_type": "display_data"
    },
    {
     "data": {
      "text/plain": [
       "'Относительные потери пользователей: 0.23%'"
      ]
     },
     "metadata": {},
     "output_type": "display_data"
    }
   ],
   "source": [
    "# Рассчитываем относительные потери\n",
    "total_events = len(logs)\n",
    "lost_events = len(logs) - len(logs_act)\n",
    "events_loss_ratio = lost_events / total_events\n",
    "\n",
    "total_users = len(logs['user_id'].unique())\n",
    "lost_users = len(logs['user_id'].unique()) - len(logs_act['user_id'].unique())\n",
    "users_loss_ratio = lost_users / total_users\n",
    "\n",
    "# Выводим результаты\n",
    "display(f'Относительные потери событий: {events_loss_ratio:.2%}')\n",
    "display(f'Относительные потери пользователей: {users_loss_ratio:.2%}')\n"
   ]
  },
  {
   "cell_type": "markdown",
   "metadata": {},
   "source": [
    "Потери событий и пользователей незначительны\n",
    "\n",
    "### Проверка наличия пользователей из всех трех групп"
   ]
  },
  {
   "cell_type": "code",
   "execution_count": 49,
   "metadata": {},
   "outputs": [
    {
     "data": {
      "text/html": [
       "<div>\n",
       "<style scoped>\n",
       "    .dataframe tbody tr th:only-of-type {\n",
       "        vertical-align: middle;\n",
       "    }\n",
       "\n",
       "    .dataframe tbody tr th {\n",
       "        vertical-align: top;\n",
       "    }\n",
       "\n",
       "    .dataframe thead th {\n",
       "        text-align: right;\n",
       "    }\n",
       "</style>\n",
       "<table border=\"1\" class=\"dataframe\">\n",
       "  <thead>\n",
       "    <tr style=\"text-align: right;\">\n",
       "      <th></th>\n",
       "      <th>user_id</th>\n",
       "    </tr>\n",
       "    <tr>\n",
       "      <th>group</th>\n",
       "      <th></th>\n",
       "    </tr>\n",
       "  </thead>\n",
       "  <tbody>\n",
       "    <tr>\n",
       "      <th>A1</th>\n",
       "      <td>2484</td>\n",
       "    </tr>\n",
       "    <tr>\n",
       "      <th>A2</th>\n",
       "      <td>2513</td>\n",
       "    </tr>\n",
       "    <tr>\n",
       "      <th>B</th>\n",
       "      <td>2537</td>\n",
       "    </tr>\n",
       "  </tbody>\n",
       "</table>\n",
       "</div>"
      ],
      "text/plain": [
       "       user_id\n",
       "group         \n",
       "A1        2484\n",
       "A2        2513\n",
       "B         2537"
      ]
     },
     "execution_count": 49,
     "metadata": {},
     "output_type": "execute_result"
    }
   ],
   "source": [
    "count_users_per_group = logs_act.groupby('group').agg({'user_id': 'nunique'})\n",
    "count_users_per_group"
   ]
  },
  {
   "cell_type": "markdown",
   "metadata": {},
   "source": [
    "Посчитали пользователей в разрезе групп. Количество разнится незначительно.\n",
    "\n",
    "## Шаг 4. Изучение воронки событий\n",
    "\n",
    "### Частота событий"
   ]
  },
  {
   "cell_type": "code",
   "execution_count": 50,
   "metadata": {},
   "outputs": [
    {
     "data": {
      "text/plain": [
       "event\n",
       "MainScreenAppear           117328\n",
       "OffersScreenAppear          46333\n",
       "CartScreenAppear            42303\n",
       "PaymentScreenSuccessful     33918\n",
       "Tutorial                     1005\n",
       "Name: count, dtype: int64"
      ]
     },
     "metadata": {},
     "output_type": "display_data"
    }
   ],
   "source": [
    "display(logs_act['event'].value_counts())"
   ]
  },
  {
   "cell_type": "markdown",
   "metadata": {},
   "source": [
    "1. Главный экран. (Пользователь взаимодействует с главным экраном приложения.)\n",
    "2. Каталог предложений. (Пользователь переходит к каталогу предложений с главного экрана.)\n",
    "3. Карточка товара. (Пользователь выбирает конкретный товар из каталога и переходит на карточку товара для получения подробной информации.)\n",
    "4. Экран с подтверждением успешной оплаты. (После выбора товара, пользователь совершает оплату, и если операция успешна, появляется экран с подтверждением оплаты.)\n",
    "5. Руководство пользователя. (Пользователь знакомится с общей информацией о приложении.)\n",
    "\n",
    "Присутствие `Tutorial` в событиях:\n",
    " - `Tutorial` – событие с самым низким уровнем участия.\n",
    " - Ознакомление с продуктом происходит на начальном этапе и пользователи пропускают этот этап по факту его не проходя.\n",
    " - Если включим `Tutorial` в воронку, это исказит данные.\n",
    "\n",
    "**Решение**:\n",
    "`Tutorial` в дальнейшем анализе не рассматривать.\n",
    "\n",
    "### Подсчет пользователей совершивших каждое из этих событий."
   ]
  },
  {
   "cell_type": "code",
   "execution_count": 51,
   "metadata": {},
   "outputs": [],
   "source": [
    "logs_funnel_users = (logs_act[logs_act['event'] != 'Tutorial']\n",
    "                    .groupby('event')['user_id'].nunique()\n",
    "                    .sort_values(ascending=False)\n",
    "                    .head(4)\n",
    "                    .reset_index(name='total_users')\n",
    "                    .assign(percent=lambda x: x['total_users'] / logs_act['user_id'].nunique() * 100)\n",
    "                   )\n"
   ]
  },
  {
   "cell_type": "code",
   "execution_count": 52,
   "metadata": {},
   "outputs": [
    {
     "data": {
      "text/html": [
       "<div>\n",
       "<style scoped>\n",
       "    .dataframe tbody tr th:only-of-type {\n",
       "        vertical-align: middle;\n",
       "    }\n",
       "\n",
       "    .dataframe tbody tr th {\n",
       "        vertical-align: top;\n",
       "    }\n",
       "\n",
       "    .dataframe thead th {\n",
       "        text-align: right;\n",
       "    }\n",
       "</style>\n",
       "<table border=\"1\" class=\"dataframe\">\n",
       "  <thead>\n",
       "    <tr style=\"text-align: right;\">\n",
       "      <th></th>\n",
       "      <th>event</th>\n",
       "      <th>total_users</th>\n",
       "      <th>percent</th>\n",
       "    </tr>\n",
       "  </thead>\n",
       "  <tbody>\n",
       "    <tr>\n",
       "      <th>0</th>\n",
       "      <td>MainScreenAppear</td>\n",
       "      <td>7419</td>\n",
       "      <td>98.473586</td>\n",
       "    </tr>\n",
       "    <tr>\n",
       "      <th>1</th>\n",
       "      <td>OffersScreenAppear</td>\n",
       "      <td>4593</td>\n",
       "      <td>60.963632</td>\n",
       "    </tr>\n",
       "    <tr>\n",
       "      <th>2</th>\n",
       "      <td>CartScreenAppear</td>\n",
       "      <td>3734</td>\n",
       "      <td>49.561986</td>\n",
       "    </tr>\n",
       "    <tr>\n",
       "      <th>3</th>\n",
       "      <td>PaymentScreenSuccessful</td>\n",
       "      <td>3539</td>\n",
       "      <td>46.973719</td>\n",
       "    </tr>\n",
       "  </tbody>\n",
       "</table>\n",
       "</div>"
      ],
      "text/plain": [
       "                     event  total_users    percent\n",
       "0         MainScreenAppear         7419  98.473586\n",
       "1       OffersScreenAppear         4593  60.963632\n",
       "2         CartScreenAppear         3734  49.561986\n",
       "3  PaymentScreenSuccessful         3539  46.973719"
      ]
     },
     "execution_count": 52,
     "metadata": {},
     "output_type": "execute_result"
    }
   ],
   "source": [
    "logs_funnel_users"
   ]
  },
  {
   "cell_type": "markdown",
   "metadata": {},
   "source": [
    "### Порядок событий"
   ]
  },
  {
   "cell_type": "markdown",
   "metadata": {},
   "source": [
    "1. Главный экран. (Пользователь взаимодействует с главным экраном приложения.)\n",
    "2. Каталог предложений. (Пользователь переходит к каталогу предложений с главного экрана.)\n",
    "3. Карточка товара. (Пользователь выбирает конкретный товар из каталога и переходит на карточку товара для получения подробной информации.)\n",
    "4. Экран с подтверждением успешной оплаты. (После выбора товара, пользователь совершает оплату, и если операция успешна, появляется экран с подтверждением оплаты.)\n",
    "\n",
    "В последовательную цепочку выстраиваются все события, кроме Tutorial."
   ]
  },
  {
   "cell_type": "markdown",
   "metadata": {},
   "source": [
    "### Относительные показатели пользователей в разрезе событий"
   ]
  },
  {
   "cell_type": "code",
   "execution_count": 53,
   "metadata": {},
   "outputs": [
    {
     "data": {
      "application/vnd.plotly.v1+json": {
       "config": {
        "plotlyServerURL": "https://plot.ly"
       },
       "data": [
        {
         "opacity": 1,
         "textinfo": "value+percent previous",
         "textposition": "inside",
         "type": "funnel",
         "x": [
          7419,
          4593,
          3734,
          3539
         ],
         "y": [
          "MainScreenAppear",
          "OffersScreenAppear",
          "CartScreenAppear",
          "PaymentScreenSuccessful"
         ]
        }
       ],
       "layout": {
        "template": {
         "data": {
          "bar": [
           {
            "error_x": {
             "color": "#2a3f5f"
            },
            "error_y": {
             "color": "#2a3f5f"
            },
            "marker": {
             "line": {
              "color": "#E5ECF6",
              "width": 0.5
             },
             "pattern": {
              "fillmode": "overlay",
              "size": 10,
              "solidity": 0.2
             }
            },
            "type": "bar"
           }
          ],
          "barpolar": [
           {
            "marker": {
             "line": {
              "color": "#E5ECF6",
              "width": 0.5
             },
             "pattern": {
              "fillmode": "overlay",
              "size": 10,
              "solidity": 0.2
             }
            },
            "type": "barpolar"
           }
          ],
          "carpet": [
           {
            "aaxis": {
             "endlinecolor": "#2a3f5f",
             "gridcolor": "white",
             "linecolor": "white",
             "minorgridcolor": "white",
             "startlinecolor": "#2a3f5f"
            },
            "baxis": {
             "endlinecolor": "#2a3f5f",
             "gridcolor": "white",
             "linecolor": "white",
             "minorgridcolor": "white",
             "startlinecolor": "#2a3f5f"
            },
            "type": "carpet"
           }
          ],
          "choropleth": [
           {
            "colorbar": {
             "outlinewidth": 0,
             "ticks": ""
            },
            "type": "choropleth"
           }
          ],
          "contour": [
           {
            "colorbar": {
             "outlinewidth": 0,
             "ticks": ""
            },
            "colorscale": [
             [
              0,
              "#0d0887"
             ],
             [
              0.1111111111111111,
              "#46039f"
             ],
             [
              0.2222222222222222,
              "#7201a8"
             ],
             [
              0.3333333333333333,
              "#9c179e"
             ],
             [
              0.4444444444444444,
              "#bd3786"
             ],
             [
              0.5555555555555556,
              "#d8576b"
             ],
             [
              0.6666666666666666,
              "#ed7953"
             ],
             [
              0.7777777777777778,
              "#fb9f3a"
             ],
             [
              0.8888888888888888,
              "#fdca26"
             ],
             [
              1,
              "#f0f921"
             ]
            ],
            "type": "contour"
           }
          ],
          "contourcarpet": [
           {
            "colorbar": {
             "outlinewidth": 0,
             "ticks": ""
            },
            "type": "contourcarpet"
           }
          ],
          "heatmap": [
           {
            "colorbar": {
             "outlinewidth": 0,
             "ticks": ""
            },
            "colorscale": [
             [
              0,
              "#0d0887"
             ],
             [
              0.1111111111111111,
              "#46039f"
             ],
             [
              0.2222222222222222,
              "#7201a8"
             ],
             [
              0.3333333333333333,
              "#9c179e"
             ],
             [
              0.4444444444444444,
              "#bd3786"
             ],
             [
              0.5555555555555556,
              "#d8576b"
             ],
             [
              0.6666666666666666,
              "#ed7953"
             ],
             [
              0.7777777777777778,
              "#fb9f3a"
             ],
             [
              0.8888888888888888,
              "#fdca26"
             ],
             [
              1,
              "#f0f921"
             ]
            ],
            "type": "heatmap"
           }
          ],
          "heatmapgl": [
           {
            "colorbar": {
             "outlinewidth": 0,
             "ticks": ""
            },
            "colorscale": [
             [
              0,
              "#0d0887"
             ],
             [
              0.1111111111111111,
              "#46039f"
             ],
             [
              0.2222222222222222,
              "#7201a8"
             ],
             [
              0.3333333333333333,
              "#9c179e"
             ],
             [
              0.4444444444444444,
              "#bd3786"
             ],
             [
              0.5555555555555556,
              "#d8576b"
             ],
             [
              0.6666666666666666,
              "#ed7953"
             ],
             [
              0.7777777777777778,
              "#fb9f3a"
             ],
             [
              0.8888888888888888,
              "#fdca26"
             ],
             [
              1,
              "#f0f921"
             ]
            ],
            "type": "heatmapgl"
           }
          ],
          "histogram": [
           {
            "marker": {
             "pattern": {
              "fillmode": "overlay",
              "size": 10,
              "solidity": 0.2
             }
            },
            "type": "histogram"
           }
          ],
          "histogram2d": [
           {
            "colorbar": {
             "outlinewidth": 0,
             "ticks": ""
            },
            "colorscale": [
             [
              0,
              "#0d0887"
             ],
             [
              0.1111111111111111,
              "#46039f"
             ],
             [
              0.2222222222222222,
              "#7201a8"
             ],
             [
              0.3333333333333333,
              "#9c179e"
             ],
             [
              0.4444444444444444,
              "#bd3786"
             ],
             [
              0.5555555555555556,
              "#d8576b"
             ],
             [
              0.6666666666666666,
              "#ed7953"
             ],
             [
              0.7777777777777778,
              "#fb9f3a"
             ],
             [
              0.8888888888888888,
              "#fdca26"
             ],
             [
              1,
              "#f0f921"
             ]
            ],
            "type": "histogram2d"
           }
          ],
          "histogram2dcontour": [
           {
            "colorbar": {
             "outlinewidth": 0,
             "ticks": ""
            },
            "colorscale": [
             [
              0,
              "#0d0887"
             ],
             [
              0.1111111111111111,
              "#46039f"
             ],
             [
              0.2222222222222222,
              "#7201a8"
             ],
             [
              0.3333333333333333,
              "#9c179e"
             ],
             [
              0.4444444444444444,
              "#bd3786"
             ],
             [
              0.5555555555555556,
              "#d8576b"
             ],
             [
              0.6666666666666666,
              "#ed7953"
             ],
             [
              0.7777777777777778,
              "#fb9f3a"
             ],
             [
              0.8888888888888888,
              "#fdca26"
             ],
             [
              1,
              "#f0f921"
             ]
            ],
            "type": "histogram2dcontour"
           }
          ],
          "mesh3d": [
           {
            "colorbar": {
             "outlinewidth": 0,
             "ticks": ""
            },
            "type": "mesh3d"
           }
          ],
          "parcoords": [
           {
            "line": {
             "colorbar": {
              "outlinewidth": 0,
              "ticks": ""
             }
            },
            "type": "parcoords"
           }
          ],
          "pie": [
           {
            "automargin": true,
            "type": "pie"
           }
          ],
          "scatter": [
           {
            "fillpattern": {
             "fillmode": "overlay",
             "size": 10,
             "solidity": 0.2
            },
            "type": "scatter"
           }
          ],
          "scatter3d": [
           {
            "line": {
             "colorbar": {
              "outlinewidth": 0,
              "ticks": ""
             }
            },
            "marker": {
             "colorbar": {
              "outlinewidth": 0,
              "ticks": ""
             }
            },
            "type": "scatter3d"
           }
          ],
          "scattercarpet": [
           {
            "marker": {
             "colorbar": {
              "outlinewidth": 0,
              "ticks": ""
             }
            },
            "type": "scattercarpet"
           }
          ],
          "scattergeo": [
           {
            "marker": {
             "colorbar": {
              "outlinewidth": 0,
              "ticks": ""
             }
            },
            "type": "scattergeo"
           }
          ],
          "scattergl": [
           {
            "marker": {
             "colorbar": {
              "outlinewidth": 0,
              "ticks": ""
             }
            },
            "type": "scattergl"
           }
          ],
          "scattermapbox": [
           {
            "marker": {
             "colorbar": {
              "outlinewidth": 0,
              "ticks": ""
             }
            },
            "type": "scattermapbox"
           }
          ],
          "scatterpolar": [
           {
            "marker": {
             "colorbar": {
              "outlinewidth": 0,
              "ticks": ""
             }
            },
            "type": "scatterpolar"
           }
          ],
          "scatterpolargl": [
           {
            "marker": {
             "colorbar": {
              "outlinewidth": 0,
              "ticks": ""
             }
            },
            "type": "scatterpolargl"
           }
          ],
          "scatterternary": [
           {
            "marker": {
             "colorbar": {
              "outlinewidth": 0,
              "ticks": ""
             }
            },
            "type": "scatterternary"
           }
          ],
          "surface": [
           {
            "colorbar": {
             "outlinewidth": 0,
             "ticks": ""
            },
            "colorscale": [
             [
              0,
              "#0d0887"
             ],
             [
              0.1111111111111111,
              "#46039f"
             ],
             [
              0.2222222222222222,
              "#7201a8"
             ],
             [
              0.3333333333333333,
              "#9c179e"
             ],
             [
              0.4444444444444444,
              "#bd3786"
             ],
             [
              0.5555555555555556,
              "#d8576b"
             ],
             [
              0.6666666666666666,
              "#ed7953"
             ],
             [
              0.7777777777777778,
              "#fb9f3a"
             ],
             [
              0.8888888888888888,
              "#fdca26"
             ],
             [
              1,
              "#f0f921"
             ]
            ],
            "type": "surface"
           }
          ],
          "table": [
           {
            "cells": {
             "fill": {
              "color": "#EBF0F8"
             },
             "line": {
              "color": "white"
             }
            },
            "header": {
             "fill": {
              "color": "#C8D4E3"
             },
             "line": {
              "color": "white"
             }
            },
            "type": "table"
           }
          ]
         },
         "layout": {
          "annotationdefaults": {
           "arrowcolor": "#2a3f5f",
           "arrowhead": 0,
           "arrowwidth": 1
          },
          "autotypenumbers": "strict",
          "coloraxis": {
           "colorbar": {
            "outlinewidth": 0,
            "ticks": ""
           }
          },
          "colorscale": {
           "diverging": [
            [
             0,
             "#8e0152"
            ],
            [
             0.1,
             "#c51b7d"
            ],
            [
             0.2,
             "#de77ae"
            ],
            [
             0.3,
             "#f1b6da"
            ],
            [
             0.4,
             "#fde0ef"
            ],
            [
             0.5,
             "#f7f7f7"
            ],
            [
             0.6,
             "#e6f5d0"
            ],
            [
             0.7,
             "#b8e186"
            ],
            [
             0.8,
             "#7fbc41"
            ],
            [
             0.9,
             "#4d9221"
            ],
            [
             1,
             "#276419"
            ]
           ],
           "sequential": [
            [
             0,
             "#0d0887"
            ],
            [
             0.1111111111111111,
             "#46039f"
            ],
            [
             0.2222222222222222,
             "#7201a8"
            ],
            [
             0.3333333333333333,
             "#9c179e"
            ],
            [
             0.4444444444444444,
             "#bd3786"
            ],
            [
             0.5555555555555556,
             "#d8576b"
            ],
            [
             0.6666666666666666,
             "#ed7953"
            ],
            [
             0.7777777777777778,
             "#fb9f3a"
            ],
            [
             0.8888888888888888,
             "#fdca26"
            ],
            [
             1,
             "#f0f921"
            ]
           ],
           "sequentialminus": [
            [
             0,
             "#0d0887"
            ],
            [
             0.1111111111111111,
             "#46039f"
            ],
            [
             0.2222222222222222,
             "#7201a8"
            ],
            [
             0.3333333333333333,
             "#9c179e"
            ],
            [
             0.4444444444444444,
             "#bd3786"
            ],
            [
             0.5555555555555556,
             "#d8576b"
            ],
            [
             0.6666666666666666,
             "#ed7953"
            ],
            [
             0.7777777777777778,
             "#fb9f3a"
            ],
            [
             0.8888888888888888,
             "#fdca26"
            ],
            [
             1,
             "#f0f921"
            ]
           ]
          },
          "colorway": [
           "#636efa",
           "#EF553B",
           "#00cc96",
           "#ab63fa",
           "#FFA15A",
           "#19d3f3",
           "#FF6692",
           "#B6E880",
           "#FF97FF",
           "#FECB52"
          ],
          "font": {
           "color": "#2a3f5f"
          },
          "geo": {
           "bgcolor": "white",
           "lakecolor": "white",
           "landcolor": "#E5ECF6",
           "showlakes": true,
           "showland": true,
           "subunitcolor": "white"
          },
          "hoverlabel": {
           "align": "left"
          },
          "hovermode": "closest",
          "mapbox": {
           "style": "light"
          },
          "paper_bgcolor": "white",
          "plot_bgcolor": "#E5ECF6",
          "polar": {
           "angularaxis": {
            "gridcolor": "white",
            "linecolor": "white",
            "ticks": ""
           },
           "bgcolor": "#E5ECF6",
           "radialaxis": {
            "gridcolor": "white",
            "linecolor": "white",
            "ticks": ""
           }
          },
          "scene": {
           "xaxis": {
            "backgroundcolor": "#E5ECF6",
            "gridcolor": "white",
            "gridwidth": 2,
            "linecolor": "white",
            "showbackground": true,
            "ticks": "",
            "zerolinecolor": "white"
           },
           "yaxis": {
            "backgroundcolor": "#E5ECF6",
            "gridcolor": "white",
            "gridwidth": 2,
            "linecolor": "white",
            "showbackground": true,
            "ticks": "",
            "zerolinecolor": "white"
           },
           "zaxis": {
            "backgroundcolor": "#E5ECF6",
            "gridcolor": "white",
            "gridwidth": 2,
            "linecolor": "white",
            "showbackground": true,
            "ticks": "",
            "zerolinecolor": "white"
           }
          },
          "shapedefaults": {
           "line": {
            "color": "#2a3f5f"
           }
          },
          "ternary": {
           "aaxis": {
            "gridcolor": "white",
            "linecolor": "white",
            "ticks": ""
           },
           "baxis": {
            "gridcolor": "white",
            "linecolor": "white",
            "ticks": ""
           },
           "bgcolor": "#E5ECF6",
           "caxis": {
            "gridcolor": "white",
            "linecolor": "white",
            "ticks": ""
           }
          },
          "title": {
           "x": 0.05
          },
          "xaxis": {
           "automargin": true,
           "gridcolor": "white",
           "linecolor": "white",
           "ticks": "",
           "title": {
            "standoff": 15
           },
           "zerolinecolor": "white",
           "zerolinewidth": 2
          },
          "yaxis": {
           "automargin": true,
           "gridcolor": "white",
           "linecolor": "white",
           "ticks": "",
           "title": {
            "standoff": 15
           },
           "zerolinecolor": "white",
           "zerolinewidth": 2
          }
         }
        },
        "title": {
         "text": "Воронка событий"
        }
       }
      }
     },
     "metadata": {},
     "output_type": "display_data"
    }
   ],
   "source": [
    "fig = go.Figure(go.Funnel(y = logs_funnel_users['event'],\n",
    "                          x = logs_funnel_users['total_users'],\n",
    "                          opacity = 1.0,\n",
    "                          textposition = 'inside',\n",
    "                          textinfo = 'value + percent previous'))\n",
    "fig.update_layout(title_text='Воронка событий')\n",
    "fig.show()"
   ]
  },
  {
   "cell_type": "markdown",
   "metadata": {},
   "source": [
    "\n",
    " - Больше всего пользователей **38%** теряется после первого события.\n",
    " - От начала и до конца доходят лишь **48%**\n",
    "\n",
    "## Анализ результатов эксперимента"
   ]
  },
  {
   "cell_type": "code",
   "execution_count": 54,
   "metadata": {},
   "outputs": [
    {
     "data": {
      "text/plain": [
       "group\n",
       "A1      2484\n",
       "A2      2513\n",
       "B       2537\n",
       "A1A2    4997\n",
       "Name: user_id, dtype: int64"
      ]
     },
     "execution_count": 54,
     "metadata": {},
     "output_type": "execute_result"
    }
   ],
   "source": [
    "user_group = logs_act.groupby('group')['user_id'].nunique()\n",
    "user_group['A1A2'] = user_group['A1'] + user_group['A2']\n",
    "user_group"
   ]
  },
  {
   "cell_type": "markdown",
   "metadata": {},
   "source": [
    "В контрольных группах А1 и А1, 2484 и 2513 пользователей соответственно. В экпериментальной группе 2537 пользователей."
   ]
  },
  {
   "cell_type": "markdown",
   "metadata": {},
   "source": [
    "Проверим, есть ли пользователи которые попали в несколько тестовых групп."
   ]
  },
  {
   "cell_type": "code",
   "execution_count": 55,
   "metadata": {},
   "outputs": [
    {
     "data": {
      "text/plain": [
       "'Пользоветели в группе A1 и A2:'"
      ]
     },
     "metadata": {},
     "output_type": "display_data"
    },
    {
     "data": {
      "text/plain": [
       "0"
      ]
     },
     "metadata": {},
     "output_type": "display_data"
    },
    {
     "data": {
      "text/plain": [
       "'Пользоветели в группе A1 и B:'"
      ]
     },
     "metadata": {},
     "output_type": "display_data"
    },
    {
     "data": {
      "text/plain": [
       "0"
      ]
     },
     "metadata": {},
     "output_type": "display_data"
    },
    {
     "data": {
      "text/plain": [
       "'Пользоветели в группе A2 и B:'"
      ]
     },
     "metadata": {},
     "output_type": "display_data"
    },
    {
     "data": {
      "text/plain": [
       "0"
      ]
     },
     "metadata": {},
     "output_type": "display_data"
    }
   ],
   "source": [
    "display('Пользоветели в группе A1 и A2:',len(logs_act.loc[logs_act['user_id'].isin(logs_act[logs_act['event']=='A1']['user_id']) & \n",
    "               logs_act['user_id'].isin(logs_act[logs_act['event']=='A2']['user_id']),'user_id'].unique()))\n",
    "display('Пользоветели в группе A1 и B:',len(logs_act.loc[logs_act['user_id'].isin(logs_act[logs_act['event']=='A1']['user_id']) & \n",
    "               logs_act['user_id'].isin(logs_act[logs_act['event']=='B']['user_id']),'user_id'].unique()))\n",
    "display('Пользоветели в группе A2 и B:',len(logs_act.loc[logs_act['user_id'].isin(logs_act[logs_act['event']=='A2']['user_id']) & \n",
    "               logs_act['user_id'].isin(logs_act[logs_act['event']=='B']['user_id']),'user_id'].unique()))"
   ]
  },
  {
   "cell_type": "markdown",
   "metadata": {},
   "source": [
    "Пользователей попавших в несколько групп нет. Количество пользователей в разрезе групп разниться не сильно. Проведение теста допустимо."
   ]
  },
  {
   "cell_type": "markdown",
   "metadata": {},
   "source": [
    "### Проверка статичтически значимой разницы между двумя контрольными группами (A1 и A2).\n",
    " \n",
    "Для проверки создадим сводную создадим таблицу с группировкой по событиям и количеством пользователей каждой группы по событиям, уберем событие `Tutorial`, отсортируем последовательность событий по воронке и добавим столбец с суммой пользователей контрольных групп."
   ]
  },
  {
   "cell_type": "code",
   "execution_count": 56,
   "metadata": {},
   "outputs": [
    {
     "data": {
      "text/html": [
       "<div>\n",
       "<style scoped>\n",
       "    .dataframe tbody tr th:only-of-type {\n",
       "        vertical-align: middle;\n",
       "    }\n",
       "\n",
       "    .dataframe tbody tr th {\n",
       "        vertical-align: top;\n",
       "    }\n",
       "\n",
       "    .dataframe thead th {\n",
       "        text-align: right;\n",
       "    }\n",
       "</style>\n",
       "<table border=\"1\" class=\"dataframe\">\n",
       "  <thead>\n",
       "    <tr style=\"text-align: right;\">\n",
       "      <th>group</th>\n",
       "      <th>event</th>\n",
       "      <th>A1</th>\n",
       "      <th>A2</th>\n",
       "      <th>B</th>\n",
       "      <th>A1A2</th>\n",
       "    </tr>\n",
       "  </thead>\n",
       "  <tbody>\n",
       "    <tr>\n",
       "      <th>0</th>\n",
       "      <td>MainScreenAppear</td>\n",
       "      <td>2450</td>\n",
       "      <td>2476</td>\n",
       "      <td>2493</td>\n",
       "      <td>4926</td>\n",
       "    </tr>\n",
       "    <tr>\n",
       "      <th>1</th>\n",
       "      <td>OffersScreenAppear</td>\n",
       "      <td>1542</td>\n",
       "      <td>1520</td>\n",
       "      <td>1531</td>\n",
       "      <td>3062</td>\n",
       "    </tr>\n",
       "    <tr>\n",
       "      <th>2</th>\n",
       "      <td>CartScreenAppear</td>\n",
       "      <td>1266</td>\n",
       "      <td>1238</td>\n",
       "      <td>1230</td>\n",
       "      <td>2504</td>\n",
       "    </tr>\n",
       "    <tr>\n",
       "      <th>3</th>\n",
       "      <td>PaymentScreenSuccessful</td>\n",
       "      <td>1200</td>\n",
       "      <td>1158</td>\n",
       "      <td>1181</td>\n",
       "      <td>2358</td>\n",
       "    </tr>\n",
       "  </tbody>\n",
       "</table>\n",
       "</div>"
      ],
      "text/plain": [
       "group                    event    A1    A2     B  A1A2\n",
       "0             MainScreenAppear  2450  2476  2493  4926\n",
       "1           OffersScreenAppear  1542  1520  1531  3062\n",
       "2             CartScreenAppear  1266  1238  1230  2504\n",
       "3      PaymentScreenSuccessful  1200  1158  1181  2358"
      ]
     },
     "execution_count": 56,
     "metadata": {},
     "output_type": "execute_result"
    }
   ],
   "source": [
    "event_group = logs_act.pivot_table(index='event', values='user_id', columns='group', aggfunc='nunique').reset_index()\n",
    "event_group = event_group.sort_values(by='A1', ascending=False)\n",
    "event_group = event_group.head(4).reset_index(drop=True)\n",
    "event_group['A1A2'] = event_group['A1'] + event_group['A2']\n",
    "event_group"
   ]
  },
  {
   "cell_type": "markdown",
   "metadata": {},
   "source": [
    "Создадим таблицу с долями"
   ]
  },
  {
   "cell_type": "code",
   "execution_count": 57,
   "metadata": {},
   "outputs": [
    {
     "data": {
      "text/html": [
       "<div>\n",
       "<style scoped>\n",
       "    .dataframe tbody tr th:only-of-type {\n",
       "        vertical-align: middle;\n",
       "    }\n",
       "\n",
       "    .dataframe tbody tr th {\n",
       "        vertical-align: top;\n",
       "    }\n",
       "\n",
       "    .dataframe thead th {\n",
       "        text-align: right;\n",
       "    }\n",
       "</style>\n",
       "<table border=\"1\" class=\"dataframe\">\n",
       "  <thead>\n",
       "    <tr style=\"text-align: right;\">\n",
       "      <th></th>\n",
       "      <th>event</th>\n",
       "      <th>A1_ratio</th>\n",
       "      <th>A2_ratio</th>\n",
       "      <th>B_ratio</th>\n",
       "      <th>A1A2_ratio</th>\n",
       "    </tr>\n",
       "  </thead>\n",
       "  <tbody>\n",
       "    <tr>\n",
       "      <th>0</th>\n",
       "      <td>MainScreenAppear</td>\n",
       "      <td>98.63</td>\n",
       "      <td>98.53</td>\n",
       "      <td>98.27</td>\n",
       "      <td>98.58</td>\n",
       "    </tr>\n",
       "    <tr>\n",
       "      <th>1</th>\n",
       "      <td>OffersScreenAppear</td>\n",
       "      <td>62.08</td>\n",
       "      <td>60.49</td>\n",
       "      <td>60.35</td>\n",
       "      <td>61.28</td>\n",
       "    </tr>\n",
       "    <tr>\n",
       "      <th>2</th>\n",
       "      <td>CartScreenAppear</td>\n",
       "      <td>50.97</td>\n",
       "      <td>49.26</td>\n",
       "      <td>48.48</td>\n",
       "      <td>50.11</td>\n",
       "    </tr>\n",
       "    <tr>\n",
       "      <th>3</th>\n",
       "      <td>PaymentScreenSuccessful</td>\n",
       "      <td>48.31</td>\n",
       "      <td>46.08</td>\n",
       "      <td>46.55</td>\n",
       "      <td>47.19</td>\n",
       "    </tr>\n",
       "  </tbody>\n",
       "</table>\n",
       "</div>"
      ],
      "text/plain": [
       "                     event  A1_ratio  A2_ratio  B_ratio  A1A2_ratio\n",
       "0         MainScreenAppear     98.63     98.53    98.27       98.58\n",
       "1       OffersScreenAppear     62.08     60.49    60.35       61.28\n",
       "2         CartScreenAppear     50.97     49.26    48.48       50.11\n",
       "3  PaymentScreenSuccessful     48.31     46.08    46.55       47.19"
      ]
     },
     "execution_count": 57,
     "metadata": {},
     "output_type": "execute_result"
    }
   ],
   "source": [
    "\n",
    "event_group_ratio = pd.DataFrame(event_group['event'])\n",
    "event_group_ratio['A1_ratio'] = (event_group['A1'] / user_group['A1'] * 100).round(2)\n",
    "event_group_ratio['A2_ratio'] = (event_group['A2'] / user_group['A2'] * 100).round(2)\n",
    "event_group_ratio['B_ratio'] = (event_group['B'] / user_group['B'] * 100).round(2)\n",
    "event_group_ratio['A1A2_ratio'] = (event_group['A1A2'] / (user_group['A1'] + user_group['A2']) * 100).round(2)\n",
    "event_group_ratio"
   ]
  },
  {
   "cell_type": "markdown",
   "metadata": {},
   "source": [
    "Гипотеза Н0: Разницы между группами А1 и А2 нет\n",
    "\n",
    "Гипотеза Н1: Разница между группами А1 и А2 есть\n",
    "\n",
    "Уровень значимости: 0.01\n",
    "Для проверки, находят ли статистические критерии разницу между группами А1 и А2 будет иплользована функция с применением Z-критерия."
   ]
  },
  {
   "cell_type": "code",
   "execution_count": 58,
   "metadata": {},
   "outputs": [],
   "source": [
    "\"\"\"\n",
    "Функция принимает на вход название групп и уровень значимости и проходя по событиям воронки проверяет \n",
    "с помощью Z-теста статистическую значимость разницы между долями от общего числа пользователей группы\n",
    "\"\"\"\n",
    "def z_test(group1, group2, alpha):\n",
    "    print('Проверка групп:',group1,'и', group2)\n",
    "    print('при уровне значимости: {:.0%}'.format(alpha))\n",
    "    \n",
    "    for i in event_group.index:\n",
    "        # пропорция успехов в первой группе:\n",
    "        p1 = event_group[group1][i] / user_group[group1]\n",
    "        \n",
    "        # пропорция успехов во второй группе:\n",
    "        p2 = event_group[group2][i] / user_group[group2]\n",
    "        \n",
    "        # пропорция успехов в комбинированном датасете:\n",
    "        p_combined = (event_group[group1][i] + event_group[group2][i]) / (user_group[group1] + user_group[group2])\n",
    "        \n",
    "        # разница пропорций в датасетах\n",
    "        difference = p1 - p2\n",
    "        \n",
    "        # считаем статистику в ст.отклонениях стандартного нормального распределения\n",
    "        z_value = (difference / mth.sqrt(p_combined * (1 - p_combined) *\n",
    "                    (1 / user_group[group1] + 1 / user_group[group2])))\n",
    "        \n",
    "        # задаем стандартное нормальное распределение (среднее 0, ст.отклонение 1)\n",
    "        distr = st.norm(0, 1) \n",
    "        \n",
    "        p_value = (1 - distr.cdf(abs(z_value))) * 2\n",
    "        \n",
    "        print('--------------------------------')\n",
    "        print()\n",
    "        print('Событие >', event_group['event'][i])\n",
    "        print()\n",
    "        print('Уровень P-value:', p_value)\n",
    "        \n",
    "        if (p_value < alpha):\n",
    "            print(\"Разница между тест группами есть\")\n",
    "        else:\n",
    "            print(\"Разницы между тест группами нет\")\n",
    "            \n",
    "        print()"
   ]
  },
  {
   "cell_type": "markdown",
   "metadata": {},
   "source": [
    "Проведем тесты между всеми группами, с уровнями статистической значимости 0.05 и 0.01"
   ]
  },
  {
   "cell_type": "code",
   "execution_count": 59,
   "metadata": {},
   "outputs": [
    {
     "name": "stdout",
     "output_type": "stream",
     "text": [
      "Проверка групп: A1 и A2\n",
      "при уровне значимости: 5%\n",
      "--------------------------------\n",
      "\n",
      "Событие > MainScreenAppear\n",
      "\n",
      "Уровень P-value: 0.7570597232046099\n",
      "Разницы между тест группами нет\n",
      "\n",
      "--------------------------------\n",
      "\n",
      "Событие > OffersScreenAppear\n",
      "\n",
      "Уровень P-value: 0.2480954578522181\n",
      "Разницы между тест группами нет\n",
      "\n",
      "--------------------------------\n",
      "\n",
      "Событие > CartScreenAppear\n",
      "\n",
      "Уровень P-value: 0.22883372237997213\n",
      "Разницы между тест группами нет\n",
      "\n",
      "--------------------------------\n",
      "\n",
      "Событие > PaymentScreenSuccessful\n",
      "\n",
      "Уровень P-value: 0.11456679313141849\n",
      "Разницы между тест группами нет\n",
      "\n"
     ]
    }
   ],
   "source": [
    "z_test(\"A1\", \"A2\", 0.05)"
   ]
  },
  {
   "cell_type": "code",
   "execution_count": 61,
   "metadata": {},
   "outputs": [
    {
     "name": "stdout",
     "output_type": "stream",
     "text": [
      "Проверка групп: A1 и A2\n",
      "при уровне значимости: 1%\n",
      "--------------------------------\n",
      "\n",
      "Событие > MainScreenAppear\n",
      "\n",
      "Уровень P-value: 0.7570597232046099\n",
      "Разницы между тест группами нет\n",
      "\n",
      "--------------------------------\n",
      "\n",
      "Событие > OffersScreenAppear\n",
      "\n",
      "Уровень P-value: 0.2480954578522181\n",
      "Разницы между тест группами нет\n",
      "\n",
      "--------------------------------\n",
      "\n",
      "Событие > CartScreenAppear\n",
      "\n",
      "Уровень P-value: 0.22883372237997213\n",
      "Разницы между тест группами нет\n",
      "\n",
      "--------------------------------\n",
      "\n",
      "Событие > PaymentScreenSuccessful\n",
      "\n",
      "Уровень P-value: 0.11456679313141849\n",
      "Разницы между тест группами нет\n",
      "\n"
     ]
    }
   ],
   "source": [
    "z_test(\"A1\", \"A2\", 0.01)"
   ]
  },
  {
   "cell_type": "code",
   "execution_count": 62,
   "metadata": {},
   "outputs": [
    {
     "name": "stdout",
     "output_type": "stream",
     "text": [
      "Проверка групп: A1 и B\n",
      "при уровне значимости: 5%\n",
      "--------------------------------\n",
      "\n",
      "Событие > MainScreenAppear\n",
      "\n",
      "Уровень P-value: 0.2949721933554552\n",
      "Разницы между тест группами нет\n",
      "\n",
      "--------------------------------\n",
      "\n",
      "Событие > OffersScreenAppear\n",
      "\n",
      "Уровень P-value: 0.20836205402738917\n",
      "Разницы между тест группами нет\n",
      "\n",
      "--------------------------------\n",
      "\n",
      "Событие > CartScreenAppear\n",
      "\n",
      "Уровень P-value: 0.07842923237520116\n",
      "Разницы между тест группами нет\n",
      "\n",
      "--------------------------------\n",
      "\n",
      "Событие > PaymentScreenSuccessful\n",
      "\n",
      "Уровень P-value: 0.2122553275697796\n",
      "Разницы между тест группами нет\n",
      "\n"
     ]
    }
   ],
   "source": [
    "z_test(\"A1\", \"B\", 0.05)"
   ]
  },
  {
   "cell_type": "code",
   "execution_count": 63,
   "metadata": {},
   "outputs": [
    {
     "name": "stdout",
     "output_type": "stream",
     "text": [
      "Проверка групп: A1 и B\n",
      "при уровне значимости: 1%\n",
      "--------------------------------\n",
      "\n",
      "Событие > MainScreenAppear\n",
      "\n",
      "Уровень P-value: 0.2949721933554552\n",
      "Разницы между тест группами нет\n",
      "\n",
      "--------------------------------\n",
      "\n",
      "Событие > OffersScreenAppear\n",
      "\n",
      "Уровень P-value: 0.20836205402738917\n",
      "Разницы между тест группами нет\n",
      "\n",
      "--------------------------------\n",
      "\n",
      "Событие > CartScreenAppear\n",
      "\n",
      "Уровень P-value: 0.07842923237520116\n",
      "Разницы между тест группами нет\n",
      "\n",
      "--------------------------------\n",
      "\n",
      "Событие > PaymentScreenSuccessful\n",
      "\n",
      "Уровень P-value: 0.2122553275697796\n",
      "Разницы между тест группами нет\n",
      "\n"
     ]
    }
   ],
   "source": [
    "z_test(\"A1\", \"B\", 0.01)"
   ]
  },
  {
   "cell_type": "code",
   "execution_count": 64,
   "metadata": {},
   "outputs": [
    {
     "name": "stdout",
     "output_type": "stream",
     "text": [
      "Проверка групп: A2 и B\n",
      "при уровне значимости: 5%\n",
      "--------------------------------\n",
      "\n",
      "Событие > MainScreenAppear\n",
      "\n",
      "Уровень P-value: 0.4587053616621515\n",
      "Разницы между тест группами нет\n",
      "\n",
      "--------------------------------\n",
      "\n",
      "Событие > OffersScreenAppear\n",
      "\n",
      "Уровень P-value: 0.9197817830592261\n",
      "Разницы между тест группами нет\n",
      "\n",
      "--------------------------------\n",
      "\n",
      "Событие > CartScreenAppear\n",
      "\n",
      "Уровень P-value: 0.5786197879539783\n",
      "Разницы между тест группами нет\n",
      "\n",
      "--------------------------------\n",
      "\n",
      "Событие > PaymentScreenSuccessful\n",
      "\n",
      "Уровень P-value: 0.7373415053803964\n",
      "Разницы между тест группами нет\n",
      "\n"
     ]
    }
   ],
   "source": [
    "z_test(\"A2\", \"B\", 0.05)"
   ]
  },
  {
   "cell_type": "code",
   "execution_count": 65,
   "metadata": {},
   "outputs": [
    {
     "name": "stdout",
     "output_type": "stream",
     "text": [
      "Проверка групп: A2 и B\n",
      "при уровне значимости: 1%\n",
      "--------------------------------\n",
      "\n",
      "Событие > MainScreenAppear\n",
      "\n",
      "Уровень P-value: 0.4587053616621515\n",
      "Разницы между тест группами нет\n",
      "\n",
      "--------------------------------\n",
      "\n",
      "Событие > OffersScreenAppear\n",
      "\n",
      "Уровень P-value: 0.9197817830592261\n",
      "Разницы между тест группами нет\n",
      "\n",
      "--------------------------------\n",
      "\n",
      "Событие > CartScreenAppear\n",
      "\n",
      "Уровень P-value: 0.5786197879539783\n",
      "Разницы между тест группами нет\n",
      "\n",
      "--------------------------------\n",
      "\n",
      "Событие > PaymentScreenSuccessful\n",
      "\n",
      "Уровень P-value: 0.7373415053803964\n",
      "Разницы между тест группами нет\n",
      "\n"
     ]
    }
   ],
   "source": [
    "z_test(\"A2\", \"B\", 0.01)"
   ]
  },
  {
   "cell_type": "code",
   "execution_count": 66,
   "metadata": {},
   "outputs": [
    {
     "name": "stdout",
     "output_type": "stream",
     "text": [
      "Проверка групп: A1A2 и B\n",
      "при уровне значимости: 5%\n",
      "--------------------------------\n",
      "\n",
      "Событие > MainScreenAppear\n",
      "\n",
      "Уровень P-value: 0.29424526837179577\n",
      "Разницы между тест группами нет\n",
      "\n",
      "--------------------------------\n",
      "\n",
      "Событие > OffersScreenAppear\n",
      "\n",
      "Уровень P-value: 0.43425549655188256\n",
      "Разницы между тест группами нет\n",
      "\n",
      "--------------------------------\n",
      "\n",
      "Событие > CartScreenAppear\n",
      "\n",
      "Уровень P-value: 0.18175875284404386\n",
      "Разницы между тест группами нет\n",
      "\n",
      "--------------------------------\n",
      "\n",
      "Событие > PaymentScreenSuccessful\n",
      "\n",
      "Уровень P-value: 0.6004294282308704\n",
      "Разницы между тест группами нет\n",
      "\n"
     ]
    }
   ],
   "source": [
    "z_test(\"A1A2\", \"B\", 0.05)"
   ]
  },
  {
   "cell_type": "code",
   "execution_count": 67,
   "metadata": {},
   "outputs": [
    {
     "name": "stdout",
     "output_type": "stream",
     "text": [
      "Проверка групп: A1A2 и B\n",
      "при уровне значимости: 1%\n",
      "--------------------------------\n",
      "\n",
      "Событие > MainScreenAppear\n",
      "\n",
      "Уровень P-value: 0.29424526837179577\n",
      "Разницы между тест группами нет\n",
      "\n",
      "--------------------------------\n",
      "\n",
      "Событие > OffersScreenAppear\n",
      "\n",
      "Уровень P-value: 0.43425549655188256\n",
      "Разницы между тест группами нет\n",
      "\n",
      "--------------------------------\n",
      "\n",
      "Событие > CartScreenAppear\n",
      "\n",
      "Уровень P-value: 0.18175875284404386\n",
      "Разницы между тест группами нет\n",
      "\n",
      "--------------------------------\n",
      "\n",
      "Событие > PaymentScreenSuccessful\n",
      "\n",
      "Уровень P-value: 0.6004294282308704\n",
      "Разницы между тест группами нет\n",
      "\n"
     ]
    }
   ],
   "source": [
    "z_test(\"A1A2\", \"B\", 0.01)"
   ]
  },
  {
   "cell_type": "markdown",
   "metadata": {},
   "source": [
    "**Общий вывод:**\n",
    "\n",
    "1. **Общая информация:**\n",
    "   - Датасет содержит информацию о событиях, ID пользователя, времени события и номере экспериментальной группы.\n",
    "   - Время событий записано в неправильном формате. Существуют события, такие как 'Появление главного экрана', 'Появление экрана оплаты', и др., которые являются частью воронки продаж на сайте.\n",
    "   - В логе есть 5 событий, в порядке убывания их популярности: показ главного экрана, показ экрана с предложением, показ экрана корзины, показ экрана с подтверждением оплаты, показ обучения.\n",
    "   - Всего 7,551 пользователь в логе. В среднем на пользователя приходится 32 события, но это число завышено из-за выбросов. Большинство пользователей имеют от 0 до 30 событий.\n",
    "\n",
    "2. **Преобразование данных:**\n",
    "   - В таблице удалены дубликаты, откорректированы типы данных, добавлен столбец с датой. Пропусков в таблице нет.\n",
    "\n",
    "3. **Воронка событий:**\n",
    "   - События формируют воронку продаж, где самое популярное - показ главного экрана, а наименее популярное событие, входящее в воронку продаж - показ экрана оплаты.\n",
    "   - Предполагаемая воронка продаж включает следующие этапы: \n",
    "     1. Пользователь видит главный экран сайта.\n",
    "     2. Пользователь переходит на товар.\n",
    "     3. Пользователь добавляет товар в корзину и переходит в нее.\n",
    "     4. Пользователь оплачивает заказ.\n",
    "   - Дополнительное событие - \"обучение\" - не является обязательным, так как на него переходит всего 4% пользователей.\n",
    "\n",
    "4. **Анализ воронки:**\n",
    "   - Подсчитан процент пользователей, проходящих каждый этап воронки от предыдущего шага.\n",
    "   - На экран с предложением переходит 62% пользователей, посмотревших главный экран.\n",
    "   - На экран с корзиной переходит 81% пользователей.\n",
    "   - На экран с успешной оплатой переходит 95% пользователей от предыдущего шага.\n",
    "   - К оплате переходит 95% пользователей от предыдущего шага, а вот к экрану с предложением проходит только 62% пользователей.\n",
    "   - От показа главного экрана до товарной оплаты доходит 48% пользователей.\n",
    "\n",
    "5. **Результаты A/B-тестирования:**\n",
    "   - Новые шрифты из группы Б не оказали влияния на поведение пользователей в приложении.\n",
    "   - Доля пользователей, совершивших покупки, осталась практически без изменений."
   ]
  }
 ],
 "metadata": {
  "ExecuteTimeLog": [
   {
    "duration": 1432,
    "start_time": "2024-02-03T13:29:11.261Z"
   },
   {
    "duration": 724,
    "start_time": "2024-02-03T13:29:12.695Z"
   },
   {
    "duration": 22,
    "start_time": "2024-02-03T13:29:13.420Z"
   },
   {
    "duration": 10,
    "start_time": "2024-02-03T13:29:13.443Z"
   },
   {
    "duration": 13,
    "start_time": "2024-02-03T13:29:13.454Z"
   },
   {
    "duration": 82,
    "start_time": "2024-02-03T13:29:13.468Z"
   },
   {
    "duration": 16,
    "start_time": "2024-02-03T13:29:13.552Z"
   },
   {
    "duration": 24,
    "start_time": "2024-02-03T13:29:13.569Z"
   },
   {
    "duration": 22,
    "start_time": "2024-02-03T13:29:13.595Z"
   },
   {
    "duration": 258,
    "start_time": "2024-02-03T13:29:13.618Z"
   },
   {
    "duration": 107,
    "start_time": "2024-02-03T13:29:13.877Z"
   },
   {
    "duration": 10,
    "start_time": "2024-02-03T13:29:13.985Z"
   },
   {
    "duration": 46,
    "start_time": "2024-02-03T13:29:13.996Z"
   },
   {
    "duration": 7,
    "start_time": "2024-02-03T13:29:14.058Z"
   },
   {
    "duration": 20,
    "start_time": "2024-02-03T13:29:14.066Z"
   },
   {
    "duration": 191,
    "start_time": "2024-02-03T13:29:14.087Z"
   },
   {
    "duration": 380,
    "start_time": "2024-02-03T13:29:14.279Z"
   },
   {
    "duration": 314,
    "start_time": "2024-02-03T13:29:14.660Z"
   },
   {
    "duration": 302,
    "start_time": "2024-02-03T13:29:14.975Z"
   },
   {
    "duration": 373,
    "start_time": "2024-02-03T13:29:15.278Z"
   },
   {
    "duration": 75,
    "start_time": "2024-02-03T13:29:15.652Z"
   },
   {
    "duration": 0,
    "start_time": "2024-02-03T13:29:15.729Z"
   },
   {
    "duration": 0,
    "start_time": "2024-02-03T13:29:15.729Z"
   },
   {
    "duration": 0,
    "start_time": "2024-02-03T13:29:15.730Z"
   },
   {
    "duration": 0,
    "start_time": "2024-02-03T13:29:15.732Z"
   },
   {
    "duration": 0,
    "start_time": "2024-02-03T13:29:15.733Z"
   },
   {
    "duration": 0,
    "start_time": "2024-02-03T13:29:15.734Z"
   },
   {
    "duration": 0,
    "start_time": "2024-02-03T13:29:15.735Z"
   },
   {
    "duration": 0,
    "start_time": "2024-02-03T13:29:15.736Z"
   },
   {
    "duration": 0,
    "start_time": "2024-02-03T13:29:15.737Z"
   },
   {
    "duration": 0,
    "start_time": "2024-02-03T13:29:15.738Z"
   },
   {
    "duration": 0,
    "start_time": "2024-02-03T13:29:15.739Z"
   },
   {
    "duration": 0,
    "start_time": "2024-02-03T13:29:15.740Z"
   },
   {
    "duration": 0,
    "start_time": "2024-02-03T13:29:15.741Z"
   },
   {
    "duration": 0,
    "start_time": "2024-02-03T13:29:15.742Z"
   },
   {
    "duration": 0,
    "start_time": "2024-02-03T13:29:15.743Z"
   },
   {
    "duration": 0,
    "start_time": "2024-02-03T13:29:15.744Z"
   },
   {
    "duration": 0,
    "start_time": "2024-02-03T13:29:15.745Z"
   },
   {
    "duration": 0,
    "start_time": "2024-02-03T13:29:15.745Z"
   },
   {
    "duration": 52,
    "start_time": "2024-02-09T06:23:58.774Z"
   },
   {
    "duration": 1423,
    "start_time": "2024-02-09T06:24:31.204Z"
   },
   {
    "duration": 715,
    "start_time": "2024-02-09T06:24:32.629Z"
   },
   {
    "duration": 23,
    "start_time": "2024-02-09T06:24:33.346Z"
   },
   {
    "duration": 10,
    "start_time": "2024-02-09T06:24:33.371Z"
   },
   {
    "duration": 6,
    "start_time": "2024-02-09T06:24:33.382Z"
   },
   {
    "duration": 82,
    "start_time": "2024-02-09T06:24:33.389Z"
   },
   {
    "duration": 20,
    "start_time": "2024-02-09T06:24:33.472Z"
   },
   {
    "duration": 26,
    "start_time": "2024-02-09T06:24:33.494Z"
   },
   {
    "duration": 7,
    "start_time": "2024-02-09T06:24:33.521Z"
   },
   {
    "duration": 315,
    "start_time": "2024-02-09T06:24:33.531Z"
   },
   {
    "duration": 103,
    "start_time": "2024-02-09T06:24:33.847Z"
   },
   {
    "duration": 13,
    "start_time": "2024-02-09T06:24:33.952Z"
   },
   {
    "duration": 42,
    "start_time": "2024-02-09T06:24:33.966Z"
   },
   {
    "duration": 6,
    "start_time": "2024-02-09T06:24:34.010Z"
   },
   {
    "duration": 42,
    "start_time": "2024-02-09T06:24:34.017Z"
   },
   {
    "duration": 164,
    "start_time": "2024-02-09T06:24:34.061Z"
   },
   {
    "duration": 385,
    "start_time": "2024-02-09T06:24:34.226Z"
   },
   {
    "duration": 289,
    "start_time": "2024-02-09T06:24:34.613Z"
   },
   {
    "duration": 324,
    "start_time": "2024-02-09T06:24:34.904Z"
   },
   {
    "duration": 386,
    "start_time": "2024-02-09T06:24:35.230Z"
   },
   {
    "duration": 99,
    "start_time": "2024-02-09T06:24:35.618Z"
   },
   {
    "duration": 0,
    "start_time": "2024-02-09T06:24:35.719Z"
   },
   {
    "duration": 0,
    "start_time": "2024-02-09T06:24:35.720Z"
   },
   {
    "duration": 0,
    "start_time": "2024-02-09T06:24:35.722Z"
   },
   {
    "duration": 0,
    "start_time": "2024-02-09T06:24:35.723Z"
   },
   {
    "duration": 0,
    "start_time": "2024-02-09T06:24:35.724Z"
   },
   {
    "duration": 0,
    "start_time": "2024-02-09T06:24:35.726Z"
   },
   {
    "duration": 0,
    "start_time": "2024-02-09T06:24:35.727Z"
   },
   {
    "duration": 0,
    "start_time": "2024-02-09T06:24:35.729Z"
   },
   {
    "duration": 0,
    "start_time": "2024-02-09T06:24:35.730Z"
   },
   {
    "duration": 0,
    "start_time": "2024-02-09T06:24:35.732Z"
   },
   {
    "duration": 1,
    "start_time": "2024-02-09T06:24:35.732Z"
   },
   {
    "duration": 1,
    "start_time": "2024-02-09T06:24:35.734Z"
   },
   {
    "duration": 0,
    "start_time": "2024-02-09T06:24:35.736Z"
   },
   {
    "duration": 0,
    "start_time": "2024-02-09T06:24:35.737Z"
   },
   {
    "duration": 0,
    "start_time": "2024-02-09T06:24:35.739Z"
   },
   {
    "duration": 0,
    "start_time": "2024-02-09T06:24:35.740Z"
   },
   {
    "duration": 0,
    "start_time": "2024-02-09T06:24:35.742Z"
   },
   {
    "duration": 0,
    "start_time": "2024-02-09T06:24:35.743Z"
   },
   {
    "duration": 1148,
    "start_time": "2024-02-09T08:37:30.401Z"
   },
   {
    "duration": 478,
    "start_time": "2024-02-09T08:37:31.550Z"
   },
   {
    "duration": 20,
    "start_time": "2024-02-09T08:37:32.030Z"
   },
   {
    "duration": 92,
    "start_time": "2024-02-09T08:37:32.052Z"
   },
   {
    "duration": 17,
    "start_time": "2024-02-09T08:37:32.145Z"
   },
   {
    "duration": 96,
    "start_time": "2024-02-09T08:37:32.164Z"
   },
   {
    "duration": 16,
    "start_time": "2024-02-09T08:37:32.261Z"
   },
   {
    "duration": 26,
    "start_time": "2024-02-09T08:37:32.279Z"
   },
   {
    "duration": 18,
    "start_time": "2024-02-09T08:37:32.306Z"
   },
   {
    "duration": 267,
    "start_time": "2024-02-09T08:37:32.326Z"
   },
   {
    "duration": 106,
    "start_time": "2024-02-09T08:37:32.595Z"
   },
   {
    "duration": 60,
    "start_time": "2024-02-09T08:37:32.703Z"
   },
   {
    "duration": 65,
    "start_time": "2024-02-09T08:37:32.765Z"
   },
   {
    "duration": 6,
    "start_time": "2024-02-09T08:37:32.832Z"
   },
   {
    "duration": 42,
    "start_time": "2024-02-09T08:37:32.839Z"
   },
   {
    "duration": 156,
    "start_time": "2024-02-09T08:37:32.882Z"
   },
   {
    "duration": 375,
    "start_time": "2024-02-09T08:37:33.046Z"
   },
   {
    "duration": 300,
    "start_time": "2024-02-09T08:37:33.423Z"
   },
   {
    "duration": 299,
    "start_time": "2024-02-09T08:37:33.725Z"
   },
   {
    "duration": 362,
    "start_time": "2024-02-09T08:37:34.026Z"
   },
   {
    "duration": 79,
    "start_time": "2024-02-09T08:37:34.389Z"
   },
   {
    "duration": 0,
    "start_time": "2024-02-09T08:37:34.470Z"
   },
   {
    "duration": 0,
    "start_time": "2024-02-09T08:37:34.471Z"
   },
   {
    "duration": 0,
    "start_time": "2024-02-09T08:37:34.472Z"
   },
   {
    "duration": 0,
    "start_time": "2024-02-09T08:37:34.473Z"
   },
   {
    "duration": 0,
    "start_time": "2024-02-09T08:37:34.474Z"
   },
   {
    "duration": 0,
    "start_time": "2024-02-09T08:37:34.475Z"
   },
   {
    "duration": 0,
    "start_time": "2024-02-09T08:37:34.476Z"
   },
   {
    "duration": 0,
    "start_time": "2024-02-09T08:37:34.478Z"
   },
   {
    "duration": 0,
    "start_time": "2024-02-09T08:37:34.479Z"
   },
   {
    "duration": 0,
    "start_time": "2024-02-09T08:37:34.480Z"
   },
   {
    "duration": 0,
    "start_time": "2024-02-09T08:37:34.480Z"
   },
   {
    "duration": 0,
    "start_time": "2024-02-09T08:37:34.481Z"
   },
   {
    "duration": 0,
    "start_time": "2024-02-09T08:37:34.482Z"
   },
   {
    "duration": 0,
    "start_time": "2024-02-09T08:37:34.483Z"
   },
   {
    "duration": 0,
    "start_time": "2024-02-09T08:37:34.484Z"
   },
   {
    "duration": 0,
    "start_time": "2024-02-09T08:37:34.485Z"
   },
   {
    "duration": 0,
    "start_time": "2024-02-09T08:37:34.487Z"
   },
   {
    "duration": 0,
    "start_time": "2024-02-09T08:37:34.488Z"
   },
   {
    "duration": 94,
    "start_time": "2024-02-09T09:19:48.523Z"
   },
   {
    "duration": 40,
    "start_time": "2024-02-09T09:20:46.280Z"
   },
   {
    "duration": 1454,
    "start_time": "2024-02-09T09:20:57.287Z"
   },
   {
    "duration": 494,
    "start_time": "2024-02-09T09:20:58.743Z"
   },
   {
    "duration": 23,
    "start_time": "2024-02-09T09:20:59.238Z"
   },
   {
    "duration": 20,
    "start_time": "2024-02-09T09:20:59.263Z"
   },
   {
    "duration": 8,
    "start_time": "2024-02-09T09:20:59.285Z"
   },
   {
    "duration": 68,
    "start_time": "2024-02-09T09:20:59.294Z"
   },
   {
    "duration": 17,
    "start_time": "2024-02-09T09:20:59.364Z"
   },
   {
    "duration": 40,
    "start_time": "2024-02-09T09:20:59.383Z"
   },
   {
    "duration": 7,
    "start_time": "2024-02-09T09:20:59.424Z"
   },
   {
    "duration": 291,
    "start_time": "2024-02-09T09:20:59.434Z"
   },
   {
    "duration": 112,
    "start_time": "2024-02-09T09:20:59.726Z"
   },
   {
    "duration": 9,
    "start_time": "2024-02-09T09:20:59.840Z"
   },
   {
    "duration": 54,
    "start_time": "2024-02-09T09:20:59.850Z"
   },
   {
    "duration": 16,
    "start_time": "2024-02-09T09:20:59.906Z"
   },
   {
    "duration": 20,
    "start_time": "2024-02-09T09:20:59.924Z"
   },
   {
    "duration": 194,
    "start_time": "2024-02-09T09:20:59.945Z"
   },
   {
    "duration": 407,
    "start_time": "2024-02-09T09:21:00.140Z"
   },
   {
    "duration": 304,
    "start_time": "2024-02-09T09:21:00.548Z"
   },
   {
    "duration": 378,
    "start_time": "2024-02-09T09:21:00.853Z"
   },
   {
    "duration": 298,
    "start_time": "2024-02-09T09:21:01.233Z"
   },
   {
    "duration": 9,
    "start_time": "2024-02-09T09:21:01.532Z"
   },
   {
    "duration": 59,
    "start_time": "2024-02-09T09:21:01.542Z"
   },
   {
    "duration": 28,
    "start_time": "2024-02-09T09:21:01.602Z"
   },
   {
    "duration": 96,
    "start_time": "2024-02-09T09:21:01.632Z"
   },
   {
    "duration": 8,
    "start_time": "2024-02-09T09:21:01.730Z"
   },
   {
    "duration": 188,
    "start_time": "2024-02-09T09:21:01.740Z"
   },
   {
    "duration": 91,
    "start_time": "2024-02-09T09:21:01.930Z"
   },
   {
    "duration": 175,
    "start_time": "2024-02-09T09:21:02.024Z"
   },
   {
    "duration": 104,
    "start_time": "2024-02-09T09:21:02.200Z"
   },
   {
    "duration": 21,
    "start_time": "2024-02-09T09:21:02.305Z"
   },
   {
    "duration": 5,
    "start_time": "2024-02-09T09:21:02.328Z"
   },
   {
    "duration": 14,
    "start_time": "2024-02-09T09:21:02.335Z"
   },
   {
    "duration": 13,
    "start_time": "2024-02-09T09:21:02.350Z"
   },
   {
    "duration": 11,
    "start_time": "2024-02-09T09:21:02.364Z"
   },
   {
    "duration": 42,
    "start_time": "2024-02-09T09:21:02.376Z"
   },
   {
    "duration": 11,
    "start_time": "2024-02-09T09:21:02.419Z"
   },
   {
    "duration": 9,
    "start_time": "2024-02-09T09:21:02.431Z"
   },
   {
    "duration": 10,
    "start_time": "2024-02-09T09:21:02.442Z"
   },
   {
    "duration": 10,
    "start_time": "2024-02-09T09:21:02.453Z"
   },
   {
    "duration": 161,
    "start_time": "2024-02-09T09:21:09.780Z"
   },
   {
    "duration": 20,
    "start_time": "2024-02-09T09:21:10.836Z"
   },
   {
    "duration": 8,
    "start_time": "2024-02-09T09:21:11.977Z"
   },
   {
    "duration": 5,
    "start_time": "2024-02-09T09:21:18.287Z"
   },
   {
    "duration": 63,
    "start_time": "2024-02-09T09:21:18.910Z"
   },
   {
    "duration": 16,
    "start_time": "2024-02-09T09:21:19.732Z"
   },
   {
    "duration": 25,
    "start_time": "2024-02-09T09:21:21.467Z"
   },
   {
    "duration": 7,
    "start_time": "2024-02-09T09:21:23.056Z"
   },
   {
    "duration": 258,
    "start_time": "2024-02-09T09:21:23.547Z"
   },
   {
    "duration": 98,
    "start_time": "2024-02-09T09:21:24.527Z"
   },
   {
    "duration": 9,
    "start_time": "2024-02-09T09:21:24.910Z"
   },
   {
    "duration": 42,
    "start_time": "2024-02-09T09:21:26.271Z"
   },
   {
    "duration": 7,
    "start_time": "2024-02-09T09:21:27.211Z"
   },
   {
    "duration": 19,
    "start_time": "2024-02-09T09:21:27.541Z"
   },
   {
    "duration": 173,
    "start_time": "2024-02-09T09:21:27.868Z"
   },
   {
    "duration": 297,
    "start_time": "2024-02-09T09:21:28.225Z"
   },
   {
    "duration": 293,
    "start_time": "2024-02-09T09:21:29.058Z"
   },
   {
    "duration": 275,
    "start_time": "2024-02-09T09:21:29.353Z"
   },
   {
    "duration": 388,
    "start_time": "2024-02-09T09:21:30.515Z"
   },
   {
    "duration": 19,
    "start_time": "2024-02-09T09:21:30.905Z"
   },
   {
    "duration": 72,
    "start_time": "2024-02-09T09:22:54.306Z"
   },
   {
    "duration": 1177,
    "start_time": "2024-02-09T14:34:02.214Z"
   },
   {
    "duration": 709,
    "start_time": "2024-02-09T14:34:03.393Z"
   },
   {
    "duration": 21,
    "start_time": "2024-02-09T14:34:04.104Z"
   },
   {
    "duration": 10,
    "start_time": "2024-02-09T14:34:04.127Z"
   },
   {
    "duration": 9,
    "start_time": "2024-02-09T14:34:04.139Z"
   },
   {
    "duration": 84,
    "start_time": "2024-02-09T14:34:04.150Z"
   },
   {
    "duration": 16,
    "start_time": "2024-02-09T14:34:04.236Z"
   },
   {
    "duration": 64,
    "start_time": "2024-02-09T14:34:04.254Z"
   },
   {
    "duration": 10,
    "start_time": "2024-02-09T14:34:04.320Z"
   },
   {
    "duration": 262,
    "start_time": "2024-02-09T14:34:04.332Z"
   },
   {
    "duration": 106,
    "start_time": "2024-02-09T14:34:04.596Z"
   },
   {
    "duration": 28,
    "start_time": "2024-02-09T14:34:04.704Z"
   },
   {
    "duration": 68,
    "start_time": "2024-02-09T14:34:04.734Z"
   },
   {
    "duration": 8,
    "start_time": "2024-02-09T14:34:04.803Z"
   },
   {
    "duration": 27,
    "start_time": "2024-02-09T14:34:04.812Z"
   },
   {
    "duration": 185,
    "start_time": "2024-02-09T14:34:04.840Z"
   },
   {
    "duration": 380,
    "start_time": "2024-02-09T14:34:05.027Z"
   },
   {
    "duration": 285,
    "start_time": "2024-02-09T14:34:05.409Z"
   },
   {
    "duration": 282,
    "start_time": "2024-02-09T14:34:05.696Z"
   },
   {
    "duration": 370,
    "start_time": "2024-02-09T14:34:05.979Z"
   },
   {
    "duration": 9,
    "start_time": "2024-02-09T14:34:06.350Z"
   },
   {
    "duration": 51,
    "start_time": "2024-02-09T14:34:06.360Z"
   },
   {
    "duration": 24,
    "start_time": "2024-02-09T14:34:06.412Z"
   },
   {
    "duration": 116,
    "start_time": "2024-02-09T14:34:06.437Z"
   },
   {
    "duration": 6,
    "start_time": "2024-02-09T14:34:06.554Z"
   },
   {
    "duration": 329,
    "start_time": "2024-02-09T14:34:06.562Z"
   },
   {
    "duration": 46,
    "start_time": "2024-02-09T14:34:06.892Z"
   },
   {
    "duration": 175,
    "start_time": "2024-02-09T14:34:06.941Z"
   },
   {
    "duration": 94,
    "start_time": "2024-02-09T14:34:07.117Z"
   },
   {
    "duration": 14,
    "start_time": "2024-02-09T14:34:07.212Z"
   },
   {
    "duration": 30,
    "start_time": "2024-02-09T14:34:07.227Z"
   },
   {
    "duration": 43,
    "start_time": "2024-02-09T14:34:07.259Z"
   },
   {
    "duration": 11,
    "start_time": "2024-02-09T14:34:07.303Z"
   },
   {
    "duration": 27,
    "start_time": "2024-02-09T14:34:07.315Z"
   },
   {
    "duration": 11,
    "start_time": "2024-02-09T14:34:07.344Z"
   },
   {
    "duration": 41,
    "start_time": "2024-02-09T14:34:07.357Z"
   },
   {
    "duration": 15,
    "start_time": "2024-02-09T14:34:07.399Z"
   },
   {
    "duration": 12,
    "start_time": "2024-02-09T14:34:07.415Z"
   },
   {
    "duration": 13,
    "start_time": "2024-02-09T14:34:07.429Z"
   },
   {
    "duration": 43,
    "start_time": "2024-02-09T14:34:24.783Z"
   },
   {
    "duration": 1542,
    "start_time": "2024-02-12T10:44:17.265Z"
   },
   {
    "duration": 511,
    "start_time": "2024-02-12T10:44:18.809Z"
   },
   {
    "duration": 24,
    "start_time": "2024-02-12T10:44:19.321Z"
   },
   {
    "duration": 10,
    "start_time": "2024-02-12T10:44:19.347Z"
   },
   {
    "duration": 20,
    "start_time": "2024-02-12T10:44:19.358Z"
   },
   {
    "duration": 72,
    "start_time": "2024-02-12T10:44:19.380Z"
   },
   {
    "duration": 36,
    "start_time": "2024-02-12T10:44:19.453Z"
   },
   {
    "duration": 32,
    "start_time": "2024-02-12T10:44:19.491Z"
   },
   {
    "duration": 29,
    "start_time": "2024-02-12T10:44:19.524Z"
   },
   {
    "duration": 292,
    "start_time": "2024-02-12T10:44:19.555Z"
   },
   {
    "duration": 116,
    "start_time": "2024-02-12T10:44:19.849Z"
   },
   {
    "duration": 16,
    "start_time": "2024-02-12T10:44:19.967Z"
   },
   {
    "duration": 53,
    "start_time": "2024-02-12T10:44:19.984Z"
   },
   {
    "duration": 7,
    "start_time": "2024-02-12T10:44:20.039Z"
   },
   {
    "duration": 36,
    "start_time": "2024-02-12T10:44:20.047Z"
   },
   {
    "duration": 187,
    "start_time": "2024-02-12T10:44:20.084Z"
   },
   {
    "duration": 408,
    "start_time": "2024-02-12T10:44:20.272Z"
   },
   {
    "duration": 305,
    "start_time": "2024-02-12T10:44:20.682Z"
   },
   {
    "duration": 352,
    "start_time": "2024-02-12T10:44:20.988Z"
   },
   {
    "duration": 429,
    "start_time": "2024-02-12T10:44:21.342Z"
   },
   {
    "duration": 28,
    "start_time": "2024-02-12T10:44:21.773Z"
   },
   {
    "duration": 14,
    "start_time": "2024-02-12T10:44:21.803Z"
   },
   {
    "duration": 45,
    "start_time": "2024-02-12T10:44:21.818Z"
   },
   {
    "duration": 44,
    "start_time": "2024-02-12T10:44:21.864Z"
   },
   {
    "duration": 97,
    "start_time": "2024-02-12T10:44:21.909Z"
   },
   {
    "duration": 8,
    "start_time": "2024-02-12T10:44:22.007Z"
   },
   {
    "duration": 412,
    "start_time": "2024-02-12T10:44:22.016Z"
   },
   {
    "duration": 77,
    "start_time": "2024-02-12T10:44:22.431Z"
   },
   {
    "duration": 205,
    "start_time": "2024-02-12T10:44:22.509Z"
   },
   {
    "duration": 98,
    "start_time": "2024-02-12T10:44:22.715Z"
   },
   {
    "duration": 16,
    "start_time": "2024-02-12T10:44:22.815Z"
   },
   {
    "duration": 6,
    "start_time": "2024-02-12T10:44:22.833Z"
   },
   {
    "duration": 22,
    "start_time": "2024-02-12T10:44:22.840Z"
   },
   {
    "duration": 36,
    "start_time": "2024-02-12T10:44:22.863Z"
   },
   {
    "duration": 11,
    "start_time": "2024-02-12T10:44:22.901Z"
   },
   {
    "duration": 10,
    "start_time": "2024-02-12T10:44:22.914Z"
   },
   {
    "duration": 12,
    "start_time": "2024-02-12T10:44:22.926Z"
   },
   {
    "duration": 44,
    "start_time": "2024-02-12T10:44:22.939Z"
   },
   {
    "duration": 18,
    "start_time": "2024-02-12T10:44:22.984Z"
   },
   {
    "duration": 14,
    "start_time": "2024-02-12T10:44:23.003Z"
   }
  ],
  "kernelspec": {
   "display_name": "Python 3 (ipykernel)",
   "language": "python",
   "name": "python3"
  },
  "language_info": {
   "codemirror_mode": {
    "name": "ipython",
    "version": 3
   },
   "file_extension": ".py",
   "mimetype": "text/x-python",
   "name": "python",
   "nbconvert_exporter": "python",
   "pygments_lexer": "ipython3",
   "version": "3.12.4"
  },
  "toc": {
   "base_numbering": 1,
   "nav_menu": {},
   "number_sections": true,
   "sideBar": true,
   "skip_h1_title": true,
   "title_cell": "Table of Contents",
   "title_sidebar": "Contents",
   "toc_cell": false,
   "toc_position": {},
   "toc_section_display": true,
   "toc_window_display": false
  }
 },
 "nbformat": 4,
 "nbformat_minor": 2
}
