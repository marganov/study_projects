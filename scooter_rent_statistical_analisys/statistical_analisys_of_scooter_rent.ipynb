{
 "cells": [
  {
   "cell_type": "markdown",
   "id": "a5c3b571",
   "metadata": {
    "id": "fd78b373"
   },
   "source": [
    "# Исследование сервиса по аренде электросамокатов\n",
    "\n",
    "## Описание проекта\n",
    "\n",
    "Перед нами данные о некоторых пользователях сервиса по аренде самокатов из нескольких городов, а также об их поездках. Необходимо проанализировать данные и проверить некоторые гипотезы, которые могут помочь бизнесу вырасти.\n",
    "Чтобы совершать поездки по городу, пользователи сервиса пользуются мобильным приложением.\n",
    "Сервисом можно пользоваться:\n",
    " - **без подписки** - абонентская плата отсутствует;\n",
    "стоимость одной минуты поездки 8 рублей; стоимость старта (начала поездки) 50 рублей;\n",
    " - **с подпиской Ultra** - абонентская плата 199 рублей в месяц; стоимость одной минуты поездки 6 рублей;\n",
    "стоимость старта бесплатно.\n",
    "\n",
    "## Описание данных\n",
    "\n",
    "В нашем распоряжении три файла о *пользователях* (имя, идентификатор пользователя, возраст, город, тип подписки), *поездках* (идетнификатор, расстояние, продолжительность, дата) и *подписках* (тип подписки, стоимость начала поездки, стоимость минуты, стоимость ежемесячного платежа).\n",
    "\n",
    "### План работы\n",
    "\n",
    "1. Ознакомиться с данными.\n",
    "2. Привести нужные данные к удобному виду.\n",
    "3. Создать новый столбец с месяцем.\n",
    "4. Проверить наличие пропущенных значений и дубликатов в датафреймах. Обработайте их, если такие значения присутствуют.\n",
    "5. Описать и визуализировать общую информацию.\n",
    "6. Объединить данные из трех таблиц.\n",
    "7. Разделить таблицы по нужному критерию.\n",
    "8. Визуализировать данные.\n",
    "9. Найти суммарное расстояние, количество поездок и суммарное время для каждого пользователя за каждый месяц.\n",
    "10. Добавить столбец с помесячной выручкой, которую принёс каждый пользователь.\n",
    "11. Проверить гипотезы.\n",
    "12. Подвести итоги работы.\n",
    "\n",
    "# Шаг 1. Загрузка данных"
   ]
  },
  {
   "cell_type": "code",
   "execution_count": 59,
   "id": "11894e9e",
   "metadata": {
    "id": "14d9840b"
   },
   "outputs": [],
   "source": [
    "#загрузка библиотек\n",
    "import pandas as pd\n",
    "import seaborn as sns\n",
    "import numpy as np\n",
    "import matplotlib.pyplot as plt\n",
    "import statsmodels.api as sm\n",
    "import scipy.stats as st"
   ]
  },
  {
   "cell_type": "code",
   "execution_count": 60,
   "id": "e4a96be2",
   "metadata": {
    "id": "ab741822",
    "scrolled": true
   },
   "outputs": [],
   "source": [
    "#чтение файлов данных\n",
    "data_users = pd.read_csv('datasets/statistical_analisys_of_scooter_rent_users.csv')\n",
    "data_subs = pd.read_csv('datasets/statistical_analisys_of_scooter_rent_subscriptions.csv')\n",
    "data_rides = pd.read_csv('datasets/statistical_analisys_of_scooter_rent_rides.csv')\n",
    "\n"
   ]
  },
  {
   "cell_type": "markdown",
   "id": "44655492",
   "metadata": {
    "id": "7fe52b74"
   },
   "source": [
    "## Изучение общей информации"
   ]
  },
  {
   "cell_type": "code",
   "execution_count": 61,
   "id": "0b18df28",
   "metadata": {
    "colab": {
     "base_uri": "https://localhost:8080/",
     "height": 206
    },
    "id": "cac0f764",
    "outputId": "a1b4b26c-a85c-4ff0-a9b1-e649aa84d225"
   },
   "outputs": [
    {
     "data": {
      "text/html": [
       "<div>\n",
       "<style scoped>\n",
       "    .dataframe tbody tr th:only-of-type {\n",
       "        vertical-align: middle;\n",
       "    }\n",
       "\n",
       "    .dataframe tbody tr th {\n",
       "        vertical-align: top;\n",
       "    }\n",
       "\n",
       "    .dataframe thead th {\n",
       "        text-align: right;\n",
       "    }\n",
       "</style>\n",
       "<table border=\"1\" class=\"dataframe\">\n",
       "  <thead>\n",
       "    <tr style=\"text-align: right;\">\n",
       "      <th></th>\n",
       "      <th>user_id</th>\n",
       "      <th>name</th>\n",
       "      <th>age</th>\n",
       "      <th>city</th>\n",
       "      <th>subscription_type</th>\n",
       "    </tr>\n",
       "  </thead>\n",
       "  <tbody>\n",
       "    <tr>\n",
       "      <th>0</th>\n",
       "      <td>1</td>\n",
       "      <td>Кира</td>\n",
       "      <td>22</td>\n",
       "      <td>Тюмень</td>\n",
       "      <td>ultra</td>\n",
       "    </tr>\n",
       "    <tr>\n",
       "      <th>1</th>\n",
       "      <td>2</td>\n",
       "      <td>Станислав</td>\n",
       "      <td>31</td>\n",
       "      <td>Омск</td>\n",
       "      <td>ultra</td>\n",
       "    </tr>\n",
       "    <tr>\n",
       "      <th>2</th>\n",
       "      <td>3</td>\n",
       "      <td>Алексей</td>\n",
       "      <td>20</td>\n",
       "      <td>Москва</td>\n",
       "      <td>ultra</td>\n",
       "    </tr>\n",
       "    <tr>\n",
       "      <th>3</th>\n",
       "      <td>4</td>\n",
       "      <td>Константин</td>\n",
       "      <td>26</td>\n",
       "      <td>Ростов-на-Дону</td>\n",
       "      <td>ultra</td>\n",
       "    </tr>\n",
       "    <tr>\n",
       "      <th>4</th>\n",
       "      <td>5</td>\n",
       "      <td>Адель</td>\n",
       "      <td>28</td>\n",
       "      <td>Омск</td>\n",
       "      <td>ultra</td>\n",
       "    </tr>\n",
       "  </tbody>\n",
       "</table>\n",
       "</div>"
      ],
      "text/plain": [
       "   user_id        name  age            city subscription_type\n",
       "0        1        Кира   22          Тюмень             ultra\n",
       "1        2   Станислав   31            Омск             ultra\n",
       "2        3     Алексей   20          Москва             ultra\n",
       "3        4  Константин   26  Ростов-на-Дону             ultra\n",
       "4        5       Адель   28            Омск             ultra"
      ]
     },
     "execution_count": 61,
     "metadata": {},
     "output_type": "execute_result"
    }
   ],
   "source": [
    "data_users.head()"
   ]
  },
  {
   "cell_type": "code",
   "execution_count": 62,
   "id": "c4e50ffb",
   "metadata": {
    "colab": {
     "base_uri": "https://localhost:8080/"
    },
    "id": "f988a05a",
    "outputId": "b2411b66-ff26-4a50-f471-c1fe1dfb43ce"
   },
   "outputs": [
    {
     "name": "stdout",
     "output_type": "stream",
     "text": [
      "<class 'pandas.core.frame.DataFrame'>\n",
      "RangeIndex: 1565 entries, 0 to 1564\n",
      "Data columns (total 5 columns):\n",
      " #   Column             Non-Null Count  Dtype \n",
      "---  ------             --------------  ----- \n",
      " 0   user_id            1565 non-null   int64 \n",
      " 1   name               1565 non-null   object\n",
      " 2   age                1565 non-null   int64 \n",
      " 3   city               1565 non-null   object\n",
      " 4   subscription_type  1565 non-null   object\n",
      "dtypes: int64(2), object(3)\n",
      "memory usage: 61.3+ KB\n"
     ]
    }
   ],
   "source": [
    "data_users.info()"
   ]
  },
  {
   "cell_type": "markdown",
   "id": "38cb1673",
   "metadata": {
    "id": "19d0d3aa"
   },
   "source": [
    "Датафрейм содержит информацию с иденетификатором пользователя, именем пользователя, возрастом, городом (использования самоката скорее всего), типом подписки на сервис. Количество строк в датафрейме **1565**. Типы данных в столбцах:\n",
    "* *идентификатор* *пользователя* - целочисленные значения,\n",
    "\n",
    "* *имя* - текстовые значения,\n",
    "\n",
    "* *возраст* - числовые,\n",
    "\n",
    "* *город* - текстовые,\n",
    "\n",
    "* *тип* *подписки* - текстовые"
   ]
  },
  {
   "cell_type": "code",
   "execution_count": 63,
   "id": "3046c29b",
   "metadata": {
    "colab": {
     "base_uri": "https://localhost:8080/",
     "height": 112
    },
    "id": "eb372962",
    "outputId": "40c95cda-ce32-48a4-c99a-072ffacd857e",
    "scrolled": true
   },
   "outputs": [
    {
     "data": {
      "text/html": [
       "<div>\n",
       "<style scoped>\n",
       "    .dataframe tbody tr th:only-of-type {\n",
       "        vertical-align: middle;\n",
       "    }\n",
       "\n",
       "    .dataframe tbody tr th {\n",
       "        vertical-align: top;\n",
       "    }\n",
       "\n",
       "    .dataframe thead th {\n",
       "        text-align: right;\n",
       "    }\n",
       "</style>\n",
       "<table border=\"1\" class=\"dataframe\">\n",
       "  <thead>\n",
       "    <tr style=\"text-align: right;\">\n",
       "      <th></th>\n",
       "      <th>subscription_type</th>\n",
       "      <th>minute_price</th>\n",
       "      <th>start_ride_price</th>\n",
       "      <th>subscription_fee</th>\n",
       "    </tr>\n",
       "  </thead>\n",
       "  <tbody>\n",
       "    <tr>\n",
       "      <th>0</th>\n",
       "      <td>free</td>\n",
       "      <td>8</td>\n",
       "      <td>50</td>\n",
       "      <td>0</td>\n",
       "    </tr>\n",
       "    <tr>\n",
       "      <th>1</th>\n",
       "      <td>ultra</td>\n",
       "      <td>6</td>\n",
       "      <td>0</td>\n",
       "      <td>199</td>\n",
       "    </tr>\n",
       "  </tbody>\n",
       "</table>\n",
       "</div>"
      ],
      "text/plain": [
       "  subscription_type  minute_price  start_ride_price  subscription_fee\n",
       "0              free             8                50                 0\n",
       "1             ultra             6                 0               199"
      ]
     },
     "execution_count": 63,
     "metadata": {},
     "output_type": "execute_result"
    }
   ],
   "source": [
    "data_subs.head()\n"
   ]
  },
  {
   "cell_type": "code",
   "execution_count": 64,
   "id": "f3290a85",
   "metadata": {
    "colab": {
     "base_uri": "https://localhost:8080/"
    },
    "id": "e52ac9af",
    "outputId": "92ffc7a0-e555-46b2-d8b0-e85ed35b2c42",
    "scrolled": true
   },
   "outputs": [
    {
     "name": "stdout",
     "output_type": "stream",
     "text": [
      "<class 'pandas.core.frame.DataFrame'>\n",
      "RangeIndex: 2 entries, 0 to 1\n",
      "Data columns (total 4 columns):\n",
      " #   Column             Non-Null Count  Dtype \n",
      "---  ------             --------------  ----- \n",
      " 0   subscription_type  2 non-null      object\n",
      " 1   minute_price       2 non-null      int64 \n",
      " 2   start_ride_price   2 non-null      int64 \n",
      " 3   subscription_fee   2 non-null      int64 \n",
      "dtypes: int64(3), object(1)\n",
      "memory usage: 196.0+ bytes\n"
     ]
    }
   ],
   "source": [
    "data_subs.info()"
   ]
  },
  {
   "cell_type": "markdown",
   "id": "1cbd6779",
   "metadata": {
    "id": "29c67079"
   },
   "source": [
    "В датафрейме содерижтся информация о подписках, ценах и различных стоимостях в следующем виде:\n",
    "\n",
    "*   тип подписки с нечисловыми значениями\n",
    "*   стоимость одной минуты поездки по соответствующей подписке с целочисленными значениями\n",
    "*   стоимость начала поездки с целочисленными значениями\n",
    "*   стоимость ежемесячного платежа с целочисленными значениями"
   ]
  },
  {
   "cell_type": "code",
   "execution_count": 65,
   "id": "beea5f6c",
   "metadata": {
    "colab": {
     "base_uri": "https://localhost:8080/",
     "height": 206
    },
    "id": "707bbf7f",
    "outputId": "9c94a3e0-f0d2-4d0b-a91a-94c762944caf"
   },
   "outputs": [
    {
     "data": {
      "text/html": [
       "<div>\n",
       "<style scoped>\n",
       "    .dataframe tbody tr th:only-of-type {\n",
       "        vertical-align: middle;\n",
       "    }\n",
       "\n",
       "    .dataframe tbody tr th {\n",
       "        vertical-align: top;\n",
       "    }\n",
       "\n",
       "    .dataframe thead th {\n",
       "        text-align: right;\n",
       "    }\n",
       "</style>\n",
       "<table border=\"1\" class=\"dataframe\">\n",
       "  <thead>\n",
       "    <tr style=\"text-align: right;\">\n",
       "      <th></th>\n",
       "      <th>user_id</th>\n",
       "      <th>distance</th>\n",
       "      <th>duration</th>\n",
       "      <th>date</th>\n",
       "    </tr>\n",
       "  </thead>\n",
       "  <tbody>\n",
       "    <tr>\n",
       "      <th>0</th>\n",
       "      <td>1</td>\n",
       "      <td>4409.919140</td>\n",
       "      <td>25.599769</td>\n",
       "      <td>2021-01-01</td>\n",
       "    </tr>\n",
       "    <tr>\n",
       "      <th>1</th>\n",
       "      <td>1</td>\n",
       "      <td>2617.592153</td>\n",
       "      <td>15.816871</td>\n",
       "      <td>2021-01-18</td>\n",
       "    </tr>\n",
       "    <tr>\n",
       "      <th>2</th>\n",
       "      <td>1</td>\n",
       "      <td>754.159807</td>\n",
       "      <td>6.232113</td>\n",
       "      <td>2021-04-20</td>\n",
       "    </tr>\n",
       "    <tr>\n",
       "      <th>3</th>\n",
       "      <td>1</td>\n",
       "      <td>2694.783254</td>\n",
       "      <td>18.511000</td>\n",
       "      <td>2021-08-11</td>\n",
       "    </tr>\n",
       "    <tr>\n",
       "      <th>4</th>\n",
       "      <td>1</td>\n",
       "      <td>4028.687306</td>\n",
       "      <td>26.265803</td>\n",
       "      <td>2021-08-28</td>\n",
       "    </tr>\n",
       "  </tbody>\n",
       "</table>\n",
       "</div>"
      ],
      "text/plain": [
       "   user_id     distance   duration        date\n",
       "0        1  4409.919140  25.599769  2021-01-01\n",
       "1        1  2617.592153  15.816871  2021-01-18\n",
       "2        1   754.159807   6.232113  2021-04-20\n",
       "3        1  2694.783254  18.511000  2021-08-11\n",
       "4        1  4028.687306  26.265803  2021-08-28"
      ]
     },
     "execution_count": 65,
     "metadata": {},
     "output_type": "execute_result"
    }
   ],
   "source": [
    "data_rides.head()"
   ]
  },
  {
   "cell_type": "code",
   "execution_count": 66,
   "id": "e73ef707",
   "metadata": {
    "colab": {
     "base_uri": "https://localhost:8080/"
    },
    "id": "b8f9c07c",
    "outputId": "476f6049-51c5-4cd8-9016-78d243815ce6",
    "scrolled": true
   },
   "outputs": [
    {
     "name": "stdout",
     "output_type": "stream",
     "text": [
      "<class 'pandas.core.frame.DataFrame'>\n",
      "RangeIndex: 18068 entries, 0 to 18067\n",
      "Data columns (total 4 columns):\n",
      " #   Column    Non-Null Count  Dtype  \n",
      "---  ------    --------------  -----  \n",
      " 0   user_id   18068 non-null  int64  \n",
      " 1   distance  18068 non-null  float64\n",
      " 2   duration  18068 non-null  float64\n",
      " 3   date      18068 non-null  object \n",
      "dtypes: float64(2), int64(1), object(1)\n",
      "memory usage: 564.8+ KB\n"
     ]
    }
   ],
   "source": [
    "data_rides.info()"
   ]
  },
  {
   "cell_type": "markdown",
   "id": "8676574d",
   "metadata": {
    "id": "b9129cd0"
   },
   "source": [
    "Датафрейм содержит в себе информацию о поездках пользователей сервиса\n",
    "*  идетификатор пользователя с целочисленным типом данных\n",
    "*  расстояние, которое пользователь проехал в текущей сессии (в метрах, *как указано в описании проекта*) с типом float\n",
    "*  продолжительность сессии (в минутах *как указано в описании проекта*) — время с того момента, как пользователь нажал кнопку «Начать поездку» до момента, как он нажал кнопку «Завершить поездку»\n",
    "*  дата совершения поездки с типом object, который мы на этапе переработки приведём к datetime\n",
    "\n",
    "## Предобработка данных\n",
    "\n",
    "### Столбец date к типу даты в pandas"
   ]
  },
  {
   "cell_type": "code",
   "execution_count": 67,
   "id": "98d0d84f",
   "metadata": {
    "id": "e69c37fe"
   },
   "outputs": [],
   "source": [
    "# меняем тип данных в столбце с датой\n",
    "data_rides['date'] = pd.to_datetime(data_rides['date'])"
   ]
  },
  {
   "cell_type": "code",
   "execution_count": 68,
   "id": "1fb31a63",
   "metadata": {
    "colab": {
     "base_uri": "https://localhost:8080/"
    },
    "id": "bf30c527",
    "outputId": "696bc327-004e-4503-f8f5-7c02f0149eda"
   },
   "outputs": [
    {
     "name": "stdout",
     "output_type": "stream",
     "text": [
      "<class 'pandas.core.frame.DataFrame'>\n",
      "RangeIndex: 18068 entries, 0 to 18067\n",
      "Data columns (total 4 columns):\n",
      " #   Column    Non-Null Count  Dtype         \n",
      "---  ------    --------------  -----         \n",
      " 0   user_id   18068 non-null  int64         \n",
      " 1   distance  18068 non-null  float64       \n",
      " 2   duration  18068 non-null  float64       \n",
      " 3   date      18068 non-null  datetime64[ns]\n",
      "dtypes: datetime64[ns](1), float64(2), int64(1)\n",
      "memory usage: 564.8 KB\n"
     ]
    }
   ],
   "source": [
    "# проверяем\n",
    "data_rides.info()"
   ]
  },
  {
   "cell_type": "markdown",
   "id": "e5654a88",
   "metadata": {
    "id": "48ee8f78"
   },
   "source": [
    "### Создание столбца с номером месяца на основе столбца date."
   ]
  },
  {
   "cell_type": "code",
   "execution_count": 69,
   "id": "576d7bd3",
   "metadata": {
    "colab": {
     "base_uri": "https://localhost:8080/"
    },
    "id": "48a48288",
    "outputId": "fad46a7f-299e-4a6e-eb0c-fe0b3ea9177e"
   },
   "outputs": [
    {
     "data": {
      "text/plain": [
       "array([2021], dtype=int32)"
      ]
     },
     "execution_count": 69,
     "metadata": {},
     "output_type": "execute_result"
    }
   ],
   "source": [
    "# Проверка, за один ли год данные\n",
    "data_rides['date'].dt.year.unique()"
   ]
  },
  {
   "cell_type": "code",
   "execution_count": 70,
   "id": "1513f96a",
   "metadata": {
    "id": "6a67e5dd"
   },
   "outputs": [],
   "source": [
    "data_rides['month'] = data_rides['date'].dt.month"
   ]
  },
  {
   "cell_type": "code",
   "execution_count": 71,
   "id": "cbd7f19b",
   "metadata": {
    "colab": {
     "base_uri": "https://localhost:8080/",
     "height": 206
    },
    "id": "f7968661",
    "outputId": "5c3fa188-7fce-42e8-aa97-97eb0a62a271"
   },
   "outputs": [
    {
     "data": {
      "text/html": [
       "<div>\n",
       "<style scoped>\n",
       "    .dataframe tbody tr th:only-of-type {\n",
       "        vertical-align: middle;\n",
       "    }\n",
       "\n",
       "    .dataframe tbody tr th {\n",
       "        vertical-align: top;\n",
       "    }\n",
       "\n",
       "    .dataframe thead th {\n",
       "        text-align: right;\n",
       "    }\n",
       "</style>\n",
       "<table border=\"1\" class=\"dataframe\">\n",
       "  <thead>\n",
       "    <tr style=\"text-align: right;\">\n",
       "      <th></th>\n",
       "      <th>user_id</th>\n",
       "      <th>distance</th>\n",
       "      <th>duration</th>\n",
       "      <th>date</th>\n",
       "      <th>month</th>\n",
       "    </tr>\n",
       "  </thead>\n",
       "  <tbody>\n",
       "    <tr>\n",
       "      <th>0</th>\n",
       "      <td>1</td>\n",
       "      <td>4409.919140</td>\n",
       "      <td>25.599769</td>\n",
       "      <td>2021-01-01</td>\n",
       "      <td>1</td>\n",
       "    </tr>\n",
       "    <tr>\n",
       "      <th>1</th>\n",
       "      <td>1</td>\n",
       "      <td>2617.592153</td>\n",
       "      <td>15.816871</td>\n",
       "      <td>2021-01-18</td>\n",
       "      <td>1</td>\n",
       "    </tr>\n",
       "    <tr>\n",
       "      <th>2</th>\n",
       "      <td>1</td>\n",
       "      <td>754.159807</td>\n",
       "      <td>6.232113</td>\n",
       "      <td>2021-04-20</td>\n",
       "      <td>4</td>\n",
       "    </tr>\n",
       "    <tr>\n",
       "      <th>3</th>\n",
       "      <td>1</td>\n",
       "      <td>2694.783254</td>\n",
       "      <td>18.511000</td>\n",
       "      <td>2021-08-11</td>\n",
       "      <td>8</td>\n",
       "    </tr>\n",
       "    <tr>\n",
       "      <th>4</th>\n",
       "      <td>1</td>\n",
       "      <td>4028.687306</td>\n",
       "      <td>26.265803</td>\n",
       "      <td>2021-08-28</td>\n",
       "      <td>8</td>\n",
       "    </tr>\n",
       "  </tbody>\n",
       "</table>\n",
       "</div>"
      ],
      "text/plain": [
       "   user_id     distance   duration       date  month\n",
       "0        1  4409.919140  25.599769 2021-01-01      1\n",
       "1        1  2617.592153  15.816871 2021-01-18      1\n",
       "2        1   754.159807   6.232113 2021-04-20      4\n",
       "3        1  2694.783254  18.511000 2021-08-11      8\n",
       "4        1  4028.687306  26.265803 2021-08-28      8"
      ]
     },
     "execution_count": 71,
     "metadata": {},
     "output_type": "execute_result"
    }
   ],
   "source": [
    "data_rides.head()"
   ]
  },
  {
   "cell_type": "markdown",
   "id": "249a4c57",
   "metadata": {
    "id": "e8390c98"
   },
   "source": [
    "### Проверка наличия пропущенных значений и дубликатов в датафреймах и их обработка, если таковые значения имеются\n",
    "\n",
    "#### Пропуски"
   ]
  },
  {
   "cell_type": "code",
   "execution_count": 72,
   "id": "adc99cb5",
   "metadata": {
    "colab": {
     "base_uri": "https://localhost:8080/"
    },
    "id": "3860d61a",
    "outputId": "5ab44a25-331a-4ee8-8a2d-e88d7c25c04e"
   },
   "outputs": [
    {
     "data": {
      "text/plain": [
       "user_id     0\n",
       "distance    0\n",
       "duration    0\n",
       "date        0\n",
       "month       0\n",
       "dtype: int64"
      ]
     },
     "execution_count": 72,
     "metadata": {},
     "output_type": "execute_result"
    }
   ],
   "source": [
    "# функция для подсчета пропусков\n",
    "def count_nulls(df):\n",
    "    return df.isnull().sum()\n",
    "count_nulls(data_subs)\n",
    "count_nulls(data_users)\n",
    "count_nulls(data_rides)"
   ]
  },
  {
   "cell_type": "markdown",
   "id": "ef22bb35",
   "metadata": {
    "id": "a9e9c002"
   },
   "source": [
    "Пропусков не обнаружено"
   ]
  },
  {
   "cell_type": "markdown",
   "id": "e4b78cb2",
   "metadata": {
    "id": "9bf95b69"
   },
   "source": [
    "Поскольку **повторения** имен, дат, возраста и даты вполне **логичны**, проверим нет ли дублирующихся строк изходя из данных по расстоянию и продолжительности сессии"
   ]
  },
  {
   "cell_type": "code",
   "execution_count": 73,
   "id": "92a7bc71",
   "metadata": {
    "colab": {
     "base_uri": "https://localhost:8080/"
    },
    "id": "8c893457",
    "outputId": "ee905357-2616-441a-db10-b4e937e672cb"
   },
   "outputs": [
    {
     "data": {
      "text/plain": [
       "array([False])"
      ]
     },
     "execution_count": 73,
     "metadata": {},
     "output_type": "execute_result"
    }
   ],
   "source": [
    "#смотрим колонку с дистанцией\n",
    "data_rides['distance'].duplicated().unique()"
   ]
  },
  {
   "cell_type": "markdown",
   "id": "259c3c3a",
   "metadata": {
    "id": "4a4efd3a"
   },
   "source": [
    "одинаковых расстояний нет"
   ]
  },
  {
   "cell_type": "code",
   "execution_count": 74,
   "id": "a863b318",
   "metadata": {
    "colab": {
     "base_uri": "https://localhost:8080/"
    },
    "id": "d5cc7e66",
    "outputId": "6f662ce2-7f92-47ce-aab7-149c39377289"
   },
   "outputs": [
    {
     "data": {
      "text/plain": [
       "array([False,  True])"
      ]
     },
     "execution_count": 74,
     "metadata": {},
     "output_type": "execute_result"
    }
   ],
   "source": [
    "data_rides['duration'].duplicated().unique()"
   ]
  },
  {
   "cell_type": "markdown",
   "id": "96cdb278",
   "metadata": {
    "id": "4a0222c4"
   },
   "source": [
    "повторения есть по продолжительности сессии, найдём эти строки"
   ]
  },
  {
   "cell_type": "code",
   "execution_count": 75,
   "id": "bce6ed54",
   "metadata": {
    "colab": {
     "base_uri": "https://localhost:8080/",
     "height": 423
    },
    "id": "9fc1c879",
    "outputId": "2c5dc850-bcc7-4264-b8b0-58da59530b30"
   },
   "outputs": [
    {
     "data": {
      "text/html": [
       "<div>\n",
       "<style scoped>\n",
       "    .dataframe tbody tr th:only-of-type {\n",
       "        vertical-align: middle;\n",
       "    }\n",
       "\n",
       "    .dataframe tbody tr th {\n",
       "        vertical-align: top;\n",
       "    }\n",
       "\n",
       "    .dataframe thead th {\n",
       "        text-align: right;\n",
       "    }\n",
       "</style>\n",
       "<table border=\"1\" class=\"dataframe\">\n",
       "  <thead>\n",
       "    <tr style=\"text-align: right;\">\n",
       "      <th></th>\n",
       "      <th>user_id</th>\n",
       "      <th>distance</th>\n",
       "      <th>duration</th>\n",
       "      <th>date</th>\n",
       "      <th>month</th>\n",
       "    </tr>\n",
       "  </thead>\n",
       "  <tbody>\n",
       "    <tr>\n",
       "      <th>6570</th>\n",
       "      <td>704</td>\n",
       "      <td>4830.824371</td>\n",
       "      <td>0.5</td>\n",
       "      <td>2021-10-14</td>\n",
       "      <td>10</td>\n",
       "    </tr>\n",
       "    <tr>\n",
       "      <th>6680</th>\n",
       "      <td>712</td>\n",
       "      <td>4684.004397</td>\n",
       "      <td>0.5</td>\n",
       "      <td>2021-03-04</td>\n",
       "      <td>3</td>\n",
       "    </tr>\n",
       "    <tr>\n",
       "      <th>6695</th>\n",
       "      <td>713</td>\n",
       "      <td>5215.642710</td>\n",
       "      <td>0.5</td>\n",
       "      <td>2021-02-25</td>\n",
       "      <td>2</td>\n",
       "    </tr>\n",
       "    <tr>\n",
       "      <th>6768</th>\n",
       "      <td>718</td>\n",
       "      <td>5197.436649</td>\n",
       "      <td>0.5</td>\n",
       "      <td>2021-02-11</td>\n",
       "      <td>2</td>\n",
       "    </tr>\n",
       "    <tr>\n",
       "      <th>6860</th>\n",
       "      <td>724</td>\n",
       "      <td>6225.520342</td>\n",
       "      <td>0.5</td>\n",
       "      <td>2021-12-16</td>\n",
       "      <td>12</td>\n",
       "    </tr>\n",
       "    <tr>\n",
       "      <th>...</th>\n",
       "      <td>...</td>\n",
       "      <td>...</td>\n",
       "      <td>...</td>\n",
       "      <td>...</td>\n",
       "      <td>...</td>\n",
       "    </tr>\n",
       "    <tr>\n",
       "      <th>17004</th>\n",
       "      <td>1460</td>\n",
       "      <td>5531.335845</td>\n",
       "      <td>0.5</td>\n",
       "      <td>2021-01-19</td>\n",
       "      <td>1</td>\n",
       "    </tr>\n",
       "    <tr>\n",
       "      <th>17242</th>\n",
       "      <td>1477</td>\n",
       "      <td>6724.932981</td>\n",
       "      <td>0.5</td>\n",
       "      <td>2021-01-12</td>\n",
       "      <td>1</td>\n",
       "    </tr>\n",
       "    <tr>\n",
       "      <th>17314</th>\n",
       "      <td>1483</td>\n",
       "      <td>4445.481070</td>\n",
       "      <td>0.5</td>\n",
       "      <td>2021-03-06</td>\n",
       "      <td>3</td>\n",
       "    </tr>\n",
       "    <tr>\n",
       "      <th>17505</th>\n",
       "      <td>1496</td>\n",
       "      <td>5722.551787</td>\n",
       "      <td>0.5</td>\n",
       "      <td>2021-02-14</td>\n",
       "      <td>2</td>\n",
       "    </tr>\n",
       "    <tr>\n",
       "      <th>17909</th>\n",
       "      <td>1524</td>\n",
       "      <td>4103.998874</td>\n",
       "      <td>0.5</td>\n",
       "      <td>2021-06-18</td>\n",
       "      <td>6</td>\n",
       "    </tr>\n",
       "  </tbody>\n",
       "</table>\n",
       "<p>94 rows × 5 columns</p>\n",
       "</div>"
      ],
      "text/plain": [
       "       user_id     distance  duration       date  month\n",
       "6570       704  4830.824371       0.5 2021-10-14     10\n",
       "6680       712  4684.004397       0.5 2021-03-04      3\n",
       "6695       713  5215.642710       0.5 2021-02-25      2\n",
       "6768       718  5197.436649       0.5 2021-02-11      2\n",
       "6860       724  6225.520342       0.5 2021-12-16     12\n",
       "...        ...          ...       ...        ...    ...\n",
       "17004     1460  5531.335845       0.5 2021-01-19      1\n",
       "17242     1477  6724.932981       0.5 2021-01-12      1\n",
       "17314     1483  4445.481070       0.5 2021-03-06      3\n",
       "17505     1496  5722.551787       0.5 2021-02-14      2\n",
       "17909     1524  4103.998874       0.5 2021-06-18      6\n",
       "\n",
       "[94 rows x 5 columns]"
      ]
     },
     "execution_count": 75,
     "metadata": {},
     "output_type": "execute_result"
    }
   ],
   "source": [
    "data_rides[data_rides['duration'].duplicated()]"
   ]
  },
  {
   "cell_type": "markdown",
   "id": "b0570b16",
   "metadata": {
    "id": "2b717658"
   },
   "source": [
    "Длительность сессии меньше минуты, при пройденных расстояниях от 4 до 6 км, что невозможно в принципе, делаем вывод, что время указано некорректно. Таких строк 94 из 18 тысяч, поскольку общей аналитической картины эти данные не изменят, принимаем решение их удалить."
   ]
  },
  {
   "cell_type": "code",
   "execution_count": 76,
   "id": "ae030fd2",
   "metadata": {
    "id": "1d008858"
   },
   "outputs": [],
   "source": [
    "data_rides = data_rides[data_rides['duration'] != 0.5]"
   ]
  },
  {
   "cell_type": "code",
   "execution_count": 77,
   "id": "5c0c3237",
   "metadata": {
    "colab": {
     "base_uri": "https://localhost:8080/"
    },
    "id": "9cb90ba4",
    "outputId": "846c2c33-fc27-4bb6-e932-141ef299bf3b"
   },
   "outputs": [
    {
     "name": "stdout",
     "output_type": "stream",
     "text": [
      "<class 'pandas.core.frame.DataFrame'>\n",
      "Index: 17973 entries, 0 to 18067\n",
      "Data columns (total 5 columns):\n",
      " #   Column    Non-Null Count  Dtype         \n",
      "---  ------    --------------  -----         \n",
      " 0   user_id   17973 non-null  int64         \n",
      " 1   distance  17973 non-null  float64       \n",
      " 2   duration  17973 non-null  float64       \n",
      " 3   date      17973 non-null  datetime64[ns]\n",
      " 4   month     17973 non-null  int32         \n",
      "dtypes: datetime64[ns](1), float64(2), int32(1), int64(1)\n",
      "memory usage: 772.3 KB\n"
     ]
    }
   ],
   "source": [
    "# проверяем\n",
    "data_rides.info()"
   ]
  },
  {
   "cell_type": "code",
   "execution_count": 78,
   "id": "a98cb387",
   "metadata": {
    "colab": {
     "base_uri": "https://localhost:8080/"
    },
    "id": "cbbc67a3",
    "outputId": "11b65657-526b-4df9-d607-67aee8838fe9"
   },
   "outputs": [
    {
     "name": "stdout",
     "output_type": "stream",
     "text": [
      "Обнаружены полные дубликаты:\n",
      "      user_id      name  age            city subscription_type\n",
      "15         16    Амалия   27       Краснодар             ultra\n",
      "42         43  Стефания   22            Омск             ultra\n",
      "46         47      Юрий   28          Тюмень             ultra\n",
      "71         72    Никита   25          Москва             ultra\n",
      "107       108     Влада   29          Тюмень             ultra\n",
      "...       ...       ...  ...             ...               ...\n",
      "1560      829     Федор   29       Пятигорск              free\n",
      "1561      809      Юрий   26            Сочи              free\n",
      "1562      307    Ясмина   19       Краснодар             ultra\n",
      "1563       47      Юрий   28          Тюмень             ultra\n",
      "1564     1045   Артемий   28  Ростов-на-Дону              free\n",
      "\n",
      "[62 rows x 5 columns]\n"
     ]
    }
   ],
   "source": [
    "duplicates_users = data_users[data_users.duplicated(keep=False)] # проверяем дубликаты в таблице с инормацией о пользователях\n",
    "\n",
    "if duplicates_users.empty:\n",
    "    print(\"Нет полных дубликатов строк.\")\n",
    "else:\n",
    "    print(\"Обнаружены полные дубликаты:\")\n",
    "    print(duplicates_users)"
   ]
  },
  {
   "cell_type": "code",
   "execution_count": 79,
   "id": "acc0bf8e",
   "metadata": {
    "id": "ab0605be"
   },
   "outputs": [],
   "source": [
    "# удаляем дубликаты и пересчитываем индексы\n",
    "data_users = data_users.drop_duplicates(ignore_index=True)\n"
   ]
  },
  {
   "cell_type": "code",
   "execution_count": 80,
   "id": "4459e9b6",
   "metadata": {
    "colab": {
     "base_uri": "https://localhost:8080/"
    },
    "id": "2fa4ef53",
    "outputId": "ab13fdbf-9aa7-4043-aa83-358e0062183e"
   },
   "outputs": [
    {
     "name": "stdout",
     "output_type": "stream",
     "text": [
      "Нет полных дубликатов строк.\n"
     ]
    }
   ],
   "source": [
    "# проверяем наличие дубликатов после удаления\n",
    "duplicates_users = data_users[data_users.duplicated(keep=False)]\n",
    "\n",
    "if duplicates_users.empty:\n",
    "    print(\"Нет полных дубликатов строк.\")\n",
    "else:\n",
    "    print(\"Обнаружены полные дубликаты:\")\n",
    "    print(duplicates_users)"
   ]
  },
  {
   "cell_type": "code",
   "execution_count": 81,
   "id": "f5c6ae5e",
   "metadata": {
    "colab": {
     "base_uri": "https://localhost:8080/"
    },
    "id": "96bd47d7",
    "outputId": "d6021160-d28e-495e-9266-9f5b0706b2d3"
   },
   "outputs": [
    {
     "name": "stdout",
     "output_type": "stream",
     "text": [
      "Нет полных дубликатов строк.\n"
     ]
    }
   ],
   "source": [
    "duplicates_rides = data_rides[data_rides.duplicated(keep=False)] # проверяем дубликаты в таблице с информацией о поездках\n",
    "\n",
    "if duplicates_rides.empty:\n",
    "    print(\"Нет полных дубликатов строк.\")\n",
    "else:\n",
    "    print(\"Обнаружены полные дубликаты:\")\n",
    "    print(duplicates_rides)\n"
   ]
  },
  {
   "cell_type": "markdown",
   "id": "1463acd1",
   "metadata": {
    "id": "01c06f72"
   },
   "source": [
    "Проверять таблицу с информацией о подписках нет смысла, поскольку в ней две строки и наличие или отсутствие дубликатов было очевидно на этапе изучения общей информации\n",
    "\n",
    "**Вывод**\n",
    "\n",
    "Данные в столбце с датой приведены к типу `datetime`, создан столбец с номером месяца на основе данных столбца **date**, найденные полные дубликаты в таблице с инфорацией о пользователях были удалены\n",
    "\n",
    "## Исследовательский анализ данных\n",
    "\n",
    "### Частота встречаемости городов"
   ]
  },
  {
   "cell_type": "code",
   "execution_count": 82,
   "id": "cb50d0c5",
   "metadata": {
    "colab": {
     "base_uri": "https://localhost:8080/"
    },
    "id": "6334b3c0",
    "outputId": "13fe80ba-b64f-40bf-ff79-17359bca362b"
   },
   "outputs": [
    {
     "data": {
      "text/plain": [
       "city\n",
       "Пятигорск         219\n",
       "Екатеринбург      204\n",
       "Ростов-на-Дону    198\n",
       "Краснодар         193\n",
       "Сочи              189\n",
       "Омск              183\n",
       "Тюмень            180\n",
       "Москва            168\n",
       "Name: count, dtype: int64"
      ]
     },
     "execution_count": 82,
     "metadata": {},
     "output_type": "execute_result"
    }
   ],
   "source": [
    "#считаем пользователей по городам\n",
    "count_users_by_city = data_users['city'].value_counts().sort_values(ascending=False)\n",
    "count_users_by_city"
   ]
  },
  {
   "cell_type": "code",
   "execution_count": 83,
   "id": "6790c8cc",
   "metadata": {
    "colab": {
     "base_uri": "https://localhost:8080/",
     "height": 333
    },
    "id": "78cd25e9",
    "outputId": "04f4e51d-85b7-462a-9b7d-826a09e89b72"
   },
   "outputs": [
    {
     "data": {
      "image/png": "[encoded data removed]",
      "text/plain": [
       "<Figure size 500x300 with 1 Axes>"
      ]
     },
     "metadata": {},
     "output_type": "display_data"
    }
   ],
   "source": [
    "plt.figure(figsize=(5, 3))\n",
    "count_users_by_city.plot(kind='barh')\n",
    "plt.xlabel('Количество пользователей')\n",
    "plt.ylabel('Город')\n",
    "plt.title('Количество пользователей по городам')\n",
    "plt.gca().invert_yaxis()\n",
    "plt.show()"
   ]
  },
  {
   "cell_type": "markdown",
   "id": "fefd26a2",
   "metadata": {
    "id": "06c24b22"
   },
   "source": [
    "Чаще всего встречается город Пятигорск, реже всего Москва. Данные распределены равномерно."
   ]
  },
  {
   "cell_type": "markdown",
   "id": "a7fd7ac1",
   "metadata": {
    "id": "ed7d56b6"
   },
   "source": [
    "### Соотношение пользователей с подпиской и без подписки"
   ]
  },
  {
   "cell_type": "code",
   "execution_count": 84,
   "id": "f9149881",
   "metadata": {
    "colab": {
     "base_uri": "https://localhost:8080/"
    },
    "id": "276ff591",
    "outputId": "086ef846-9b3b-487e-ff41-ac735e19bd57"
   },
   "outputs": [
    {
     "data": {
      "text/plain": [
       "subscription_type\n",
       "free     835\n",
       "ultra    699\n",
       "Name: count, dtype: int64"
      ]
     },
     "execution_count": 84,
     "metadata": {},
     "output_type": "execute_result"
    }
   ],
   "source": [
    "count_sub = data_users['subscription_type'].value_counts()\n",
    "count_sub"
   ]
  },
  {
   "cell_type": "code",
   "execution_count": 85,
   "id": "bd398ed4",
   "metadata": {
    "colab": {
     "base_uri": "https://localhost:8080/",
     "height": 307
    },
    "id": "f597bb08",
    "outputId": "2d8f4d8a-4452-4fae-8969-9b94db43713f"
   },
   "outputs": [
    {
     "data": {
      "text/plain": [
       "<Axes: title={'center': 'Процентное соотношение пользователей в зависимости от тарифа'}>"
      ]
     },
     "execution_count": 85,
     "metadata": {},
     "output_type": "execute_result"
    },
    {
     "data": {
      "image/png": "[encoded data removed]",
      "text/plain": [
       "<Figure size 300x300 with 1 Axes>"
      ]
     },
     "metadata": {},
     "output_type": "display_data"
    }
   ],
   "source": [
    "data_users['subscription_type'].value_counts().plot(\n",
    "    kind = 'pie',\n",
    "    y = count_sub,\n",
    "    autopct = '%1.0f%%',\n",
    "    figsize=(3,3),\n",
    "    title = 'Процентное соотношение пользователей в зависимости от тарифа', ylabel='')"
   ]
  },
  {
   "cell_type": "markdown",
   "id": "42003358",
   "metadata": {
    "id": "423c0451"
   },
   "source": [
    "### Возраст пользователей"
   ]
  },
  {
   "cell_type": "code",
   "execution_count": 86,
   "id": "181f5406",
   "metadata": {
    "colab": {
     "base_uri": "https://localhost:8080/",
     "height": 472
    },
    "id": "d96c73b4",
    "outputId": "2f1415cd-9021-4f67-eb9d-0df6a63d0ddd"
   },
   "outputs": [
    {
     "data": {
      "image/png": "[encoded data removed]",
      "text/plain": [
       "<Figure size 640x480 with 1 Axes>"
      ]
     },
     "metadata": {},
     "output_type": "display_data"
    }
   ],
   "source": [
    "sns.histplot(data=data_users, x='age', kde=True).set(title='Возраст пользователей', xlabel='Возраст', ylabel='Количество пользователей')\n",
    "plt.show()"
   ]
  },
  {
   "cell_type": "markdown",
   "id": "e4160a2c",
   "metadata": {
    "id": "fa4c45ad"
   },
   "source": [
    "Данные распределены нормально. Пик приходится на возраст от 24 до 27 лет"
   ]
  },
  {
   "cell_type": "markdown",
   "id": "dc65c07c",
   "metadata": {
    "id": "616e59f3"
   },
   "source": [
    "### Расстояние, которое пользователь преодолел за одну поездку"
   ]
  },
  {
   "cell_type": "code",
   "execution_count": 87,
   "id": "935a38e5",
   "metadata": {
    "colab": {
     "base_uri": "https://localhost:8080/"
    },
    "id": "b0cb2358",
    "outputId": "df6633d0-07b2-4ae4-b3e2-e9c57a021291"
   },
   "outputs": [
    {
     "data": {
      "text/plain": [
       "count    17973.000000\n",
       "mean      3059.863833\n",
       "std       1108.814612\n",
       "min          0.855683\n",
       "25%       2538.839628\n",
       "50%       3129.029255\n",
       "75%       3762.636244\n",
       "max       7066.003772\n",
       "Name: distance, dtype: float64"
      ]
     },
     "execution_count": 87,
     "metadata": {},
     "output_type": "execute_result"
    }
   ],
   "source": [
    "data_rides['distance'].describe()"
   ]
  },
  {
   "cell_type": "code",
   "execution_count": 88,
   "id": "1e407760",
   "metadata": {
    "colab": {
     "base_uri": "https://localhost:8080/",
     "height": 472
    },
    "id": "5b5fae6d",
    "outputId": "a12dc731-9e36-4042-cbbc-15959b668418"
   },
   "outputs": [
    {
     "data": {
      "image/png": "[encoded data removed]",
      "text/plain": [
       "<Figure size 640x480 with 1 Axes>"
      ]
     },
     "metadata": {},
     "output_type": "display_data"
    }
   ],
   "source": [
    "sns.histplot(data=data_rides, x='distance', kde=True)\n",
    "plt.title('Соотношение количества пользователей к пройденному расстоянию')\n",
    "plt.xlabel('Расстояние')\n",
    "plt.ylabel('Количество пользователей')\n",
    "plt.show(block=False)"
   ]
  },
  {
   "cell_type": "code",
   "execution_count": 89,
   "id": "35f4d376",
   "metadata": {
    "colab": {
     "base_uri": "https://localhost:8080/"
    },
    "id": "8581b24b",
    "outputId": "b8f0dfb9-762c-4242-cfd7-ab5de48a60a7"
   },
   "outputs": [
    {
     "data": {
      "text/plain": [
       "16484    7066.00\n",
       "15580    6908.49\n",
       "17171    6760.94\n",
       "10341    6671.97\n",
       "12086    6538.94\n",
       "10915    6535.39\n",
       "11319    6503.60\n",
       "11189    6456.42\n",
       "8527     6436.63\n",
       "7913     6427.05\n",
       "Name: distance, dtype: float64"
      ]
     },
     "execution_count": 89,
     "metadata": {},
     "output_type": "execute_result"
    }
   ],
   "source": [
    "# топ-10 максимальных расстояний\n",
    "round(data_rides['distance'].sort_values(ascending=False), 2).head(10)"
   ]
  },
  {
   "cell_type": "markdown",
   "id": "0aee781f",
   "metadata": {
    "id": "e49b0241"
   },
   "source": [
    "Ничего необычного не наблюдается."
   ]
  },
  {
   "cell_type": "markdown",
   "id": "2806d673",
   "metadata": {
    "id": "8e022dfd"
   },
   "source": [
    "### Продолжительность поездок"
   ]
  },
  {
   "cell_type": "code",
   "execution_count": 90,
   "id": "38839395",
   "metadata": {
    "colab": {
     "base_uri": "https://localhost:8080/"
    },
    "id": "de2ca885",
    "outputId": "f2fb1f37-c780-43b9-bb3c-dd0a4bcc1fb6"
   },
   "outputs": [
    {
     "data": {
      "text/plain": [
       "count    17973.000000\n",
       "mean        17.896480\n",
       "std          5.975424\n",
       "min          2.035632\n",
       "25%         13.670439\n",
       "50%         17.714122\n",
       "75%         21.747016\n",
       "max         40.823963\n",
       "Name: duration, dtype: float64"
      ]
     },
     "execution_count": 90,
     "metadata": {},
     "output_type": "execute_result"
    }
   ],
   "source": [
    "data_rides['duration'].describe()"
   ]
  },
  {
   "cell_type": "code",
   "execution_count": 91,
   "id": "10429aca",
   "metadata": {
    "colab": {
     "base_uri": "https://localhost:8080/",
     "height": 472
    },
    "id": "9fd76a25",
    "outputId": "6990b6b0-3e81-4540-9951-288613c9ca11"
   },
   "outputs": [
    {
     "data": {
      "image/png": "[encoded data removed]",
      "text/plain": [
       "<Figure size 640x480 with 1 Axes>"
      ]
     },
     "metadata": {},
     "output_type": "display_data"
    }
   ],
   "source": [
    "sns.histplot(data=data_rides, x='duration', kde=True)\n",
    "\n",
    "plt.title('Продолжительность поездок')\n",
    "plt.xlabel('Минуты')\n",
    "plt.ylabel('Число пользователей')\n",
    "plt.show()"
   ]
  },
  {
   "cell_type": "markdown",
   "id": "d71a74b4",
   "metadata": {
    "id": "53f47dd1"
   },
   "source": [
    "Данные распределены нормально. В среднем сервис используется 17 минут, максимальноое время использования 40 минут, минимальное время две минуты"
   ]
  },
  {
   "cell_type": "markdown",
   "id": "69e55d62",
   "metadata": {
    "id": "6ae34718"
   },
   "source": [
    "### Общий вывод по исследовательскому анализу"
   ]
  },
  {
   "cell_type": "markdown",
   "id": "ff53b152",
   "metadata": {
    "id": "ee130fb6"
   },
   "source": [
    "Данные по всем аспектам распределены нормально, выбросы отсутствуют. Приблизительный портрет среднего пользователя следующий:\n",
    "> Человек от 22 до 30 лет, проезжающий в среднем рассотяние в 3 км за 17 минут."
   ]
  },
  {
   "cell_type": "markdown",
   "id": "84d40119",
   "metadata": {
    "id": "27926e53"
   },
   "source": [
    "## Объединение данных"
   ]
  },
  {
   "cell_type": "markdown",
   "id": "98b63867",
   "metadata": {
    "id": "2d088dc4"
   },
   "source": [
    "### Объединение данных о пользователях, поездках и подписках в один датафрейм методом merge()."
   ]
  },
  {
   "cell_type": "code",
   "execution_count": 92,
   "id": "1097faee",
   "metadata": {
    "id": "7c76ff11"
   },
   "outputs": [],
   "source": [
    "data_united = data_users.merge(data_rides, left_on='user_id', right_on='user_id')\n",
    "data_united = data_united.merge(data_subs, left_on='subscription_type', right_on='subscription_type')"
   ]
  },
  {
   "cell_type": "code",
   "execution_count": 93,
   "id": "9aa4a0eb",
   "metadata": {
    "colab": {
     "base_uri": "https://localhost:8080/",
     "height": 147
    },
    "id": "f7f71647",
    "outputId": "284b117d-fdc9-4e92-f579-dea936fa57e4"
   },
   "outputs": [
    {
     "data": {
      "text/html": [
       "<div>\n",
       "<style scoped>\n",
       "    .dataframe tbody tr th:only-of-type {\n",
       "        vertical-align: middle;\n",
       "    }\n",
       "\n",
       "    .dataframe tbody tr th {\n",
       "        vertical-align: top;\n",
       "    }\n",
       "\n",
       "    .dataframe thead th {\n",
       "        text-align: right;\n",
       "    }\n",
       "</style>\n",
       "<table border=\"1\" class=\"dataframe\">\n",
       "  <thead>\n",
       "    <tr style=\"text-align: right;\">\n",
       "      <th></th>\n",
       "      <th>user_id</th>\n",
       "      <th>name</th>\n",
       "      <th>age</th>\n",
       "      <th>city</th>\n",
       "      <th>subscription_type</th>\n",
       "      <th>distance</th>\n",
       "      <th>duration</th>\n",
       "      <th>date</th>\n",
       "      <th>month</th>\n",
       "      <th>minute_price</th>\n",
       "      <th>start_ride_price</th>\n",
       "      <th>subscription_fee</th>\n",
       "    </tr>\n",
       "  </thead>\n",
       "  <tbody>\n",
       "    <tr>\n",
       "      <th>0</th>\n",
       "      <td>1</td>\n",
       "      <td>Кира</td>\n",
       "      <td>22</td>\n",
       "      <td>Тюмень</td>\n",
       "      <td>ultra</td>\n",
       "      <td>4409.919140</td>\n",
       "      <td>25.599769</td>\n",
       "      <td>2021-01-01</td>\n",
       "      <td>1</td>\n",
       "      <td>6</td>\n",
       "      <td>0</td>\n",
       "      <td>199</td>\n",
       "    </tr>\n",
       "    <tr>\n",
       "      <th>1</th>\n",
       "      <td>1</td>\n",
       "      <td>Кира</td>\n",
       "      <td>22</td>\n",
       "      <td>Тюмень</td>\n",
       "      <td>ultra</td>\n",
       "      <td>2617.592153</td>\n",
       "      <td>15.816871</td>\n",
       "      <td>2021-01-18</td>\n",
       "      <td>1</td>\n",
       "      <td>6</td>\n",
       "      <td>0</td>\n",
       "      <td>199</td>\n",
       "    </tr>\n",
       "  </tbody>\n",
       "</table>\n",
       "</div>"
      ],
      "text/plain": [
       "   user_id  name  age    city subscription_type     distance   duration  \\\n",
       "0        1  Кира   22  Тюмень             ultra  4409.919140  25.599769   \n",
       "1        1  Кира   22  Тюмень             ultra  2617.592153  15.816871   \n",
       "\n",
       "        date  month  minute_price  start_ride_price  subscription_fee  \n",
       "0 2021-01-01      1             6                 0               199  \n",
       "1 2021-01-18      1             6                 0               199  "
      ]
     },
     "execution_count": 93,
     "metadata": {},
     "output_type": "execute_result"
    }
   ],
   "source": [
    "data_united.head(2)"
   ]
  },
  {
   "cell_type": "code",
   "execution_count": 94,
   "id": "24228c2b",
   "metadata": {
    "colab": {
     "base_uri": "https://localhost:8080/"
    },
    "id": "0e38f1a6",
    "outputId": "45f18aba-ce43-47d4-ba82-658414ed5aa5"
   },
   "outputs": [
    {
     "name": "stdout",
     "output_type": "stream",
     "text": [
      "Количество строк в таблице 1: 17973\n",
      "Количество строк в таблице 2: 17973\n",
      "Количество строк в таблице 3: 1534\n",
      "Количество строк в таблице 4: 2\n"
     ]
    }
   ],
   "source": [
    "data_check = [data_united, data_rides, data_users, data_subs]\n",
    "for i, data in enumerate(data_check):\n",
    "    rows = data.shape[0]\n",
    "    print(f\"Количество строк в таблице {i + 1}: {rows}\")"
   ]
  },
  {
   "cell_type": "markdown",
   "id": "31844c8c",
   "metadata": {
    "id": "531c1ace"
   },
   "source": [
    "### Создание ещё двух датафреймов из датафрейма, созданного на предыдущем этапе:\n",
    "\n",
    "#### Без подписки (**free**)"
   ]
  },
  {
   "cell_type": "code",
   "execution_count": 95,
   "id": "82eaa1c7",
   "metadata": {
    "id": "2c6f47fe"
   },
   "outputs": [
    {
     "data": {
      "text/html": [
       "<div>\n",
       "<style scoped>\n",
       "    .dataframe tbody tr th:only-of-type {\n",
       "        vertical-align: middle;\n",
       "    }\n",
       "\n",
       "    .dataframe tbody tr th {\n",
       "        vertical-align: top;\n",
       "    }\n",
       "\n",
       "    .dataframe thead th {\n",
       "        text-align: right;\n",
       "    }\n",
       "</style>\n",
       "<table border=\"1\" class=\"dataframe\">\n",
       "  <thead>\n",
       "    <tr style=\"text-align: right;\">\n",
       "      <th></th>\n",
       "      <th>user_id</th>\n",
       "      <th>name</th>\n",
       "      <th>age</th>\n",
       "      <th>city</th>\n",
       "      <th>subscription_type</th>\n",
       "      <th>distance</th>\n",
       "      <th>duration</th>\n",
       "      <th>date</th>\n",
       "      <th>month</th>\n",
       "      <th>minute_price</th>\n",
       "      <th>start_ride_price</th>\n",
       "      <th>subscription_fee</th>\n",
       "    </tr>\n",
       "  </thead>\n",
       "  <tbody>\n",
       "    <tr>\n",
       "      <th>6500</th>\n",
       "      <td>700</td>\n",
       "      <td>Айдар</td>\n",
       "      <td>22</td>\n",
       "      <td>Омск</td>\n",
       "      <td>free</td>\n",
       "      <td>2515.690719</td>\n",
       "      <td>14.944286</td>\n",
       "      <td>2021-01-02</td>\n",
       "      <td>1</td>\n",
       "      <td>8</td>\n",
       "      <td>50</td>\n",
       "      <td>0</td>\n",
       "    </tr>\n",
       "    <tr>\n",
       "      <th>6501</th>\n",
       "      <td>700</td>\n",
       "      <td>Айдар</td>\n",
       "      <td>22</td>\n",
       "      <td>Омск</td>\n",
       "      <td>free</td>\n",
       "      <td>846.932642</td>\n",
       "      <td>16.234663</td>\n",
       "      <td>2021-02-01</td>\n",
       "      <td>2</td>\n",
       "      <td>8</td>\n",
       "      <td>50</td>\n",
       "      <td>0</td>\n",
       "    </tr>\n",
       "    <tr>\n",
       "      <th>6502</th>\n",
       "      <td>700</td>\n",
       "      <td>Айдар</td>\n",
       "      <td>22</td>\n",
       "      <td>Омск</td>\n",
       "      <td>free</td>\n",
       "      <td>4004.434142</td>\n",
       "      <td>20.016628</td>\n",
       "      <td>2021-02-04</td>\n",
       "      <td>2</td>\n",
       "      <td>8</td>\n",
       "      <td>50</td>\n",
       "      <td>0</td>\n",
       "    </tr>\n",
       "    <tr>\n",
       "      <th>6503</th>\n",
       "      <td>700</td>\n",
       "      <td>Айдар</td>\n",
       "      <td>22</td>\n",
       "      <td>Омск</td>\n",
       "      <td>free</td>\n",
       "      <td>1205.911290</td>\n",
       "      <td>9.782872</td>\n",
       "      <td>2021-02-10</td>\n",
       "      <td>2</td>\n",
       "      <td>8</td>\n",
       "      <td>50</td>\n",
       "      <td>0</td>\n",
       "    </tr>\n",
       "    <tr>\n",
       "      <th>6504</th>\n",
       "      <td>700</td>\n",
       "      <td>Айдар</td>\n",
       "      <td>22</td>\n",
       "      <td>Омск</td>\n",
       "      <td>free</td>\n",
       "      <td>3047.379435</td>\n",
       "      <td>17.427673</td>\n",
       "      <td>2021-02-14</td>\n",
       "      <td>2</td>\n",
       "      <td>8</td>\n",
       "      <td>50</td>\n",
       "      <td>0</td>\n",
       "    </tr>\n",
       "    <tr>\n",
       "      <th>...</th>\n",
       "      <td>...</td>\n",
       "      <td>...</td>\n",
       "      <td>...</td>\n",
       "      <td>...</td>\n",
       "      <td>...</td>\n",
       "      <td>...</td>\n",
       "      <td>...</td>\n",
       "      <td>...</td>\n",
       "      <td>...</td>\n",
       "      <td>...</td>\n",
       "      <td>...</td>\n",
       "      <td>...</td>\n",
       "    </tr>\n",
       "    <tr>\n",
       "      <th>17968</th>\n",
       "      <td>1534</td>\n",
       "      <td>Альберт</td>\n",
       "      <td>25</td>\n",
       "      <td>Краснодар</td>\n",
       "      <td>free</td>\n",
       "      <td>3781.098080</td>\n",
       "      <td>19.822962</td>\n",
       "      <td>2021-11-04</td>\n",
       "      <td>11</td>\n",
       "      <td>8</td>\n",
       "      <td>50</td>\n",
       "      <td>0</td>\n",
       "    </tr>\n",
       "    <tr>\n",
       "      <th>17969</th>\n",
       "      <td>1534</td>\n",
       "      <td>Альберт</td>\n",
       "      <td>25</td>\n",
       "      <td>Краснодар</td>\n",
       "      <td>free</td>\n",
       "      <td>2840.423057</td>\n",
       "      <td>21.409799</td>\n",
       "      <td>2021-11-16</td>\n",
       "      <td>11</td>\n",
       "      <td>8</td>\n",
       "      <td>50</td>\n",
       "      <td>0</td>\n",
       "    </tr>\n",
       "    <tr>\n",
       "      <th>17970</th>\n",
       "      <td>1534</td>\n",
       "      <td>Альберт</td>\n",
       "      <td>25</td>\n",
       "      <td>Краснодар</td>\n",
       "      <td>free</td>\n",
       "      <td>3826.185507</td>\n",
       "      <td>18.435051</td>\n",
       "      <td>2021-11-18</td>\n",
       "      <td>11</td>\n",
       "      <td>8</td>\n",
       "      <td>50</td>\n",
       "      <td>0</td>\n",
       "    </tr>\n",
       "    <tr>\n",
       "      <th>17971</th>\n",
       "      <td>1534</td>\n",
       "      <td>Альберт</td>\n",
       "      <td>25</td>\n",
       "      <td>Краснодар</td>\n",
       "      <td>free</td>\n",
       "      <td>2902.308661</td>\n",
       "      <td>16.674362</td>\n",
       "      <td>2021-11-27</td>\n",
       "      <td>11</td>\n",
       "      <td>8</td>\n",
       "      <td>50</td>\n",
       "      <td>0</td>\n",
       "    </tr>\n",
       "    <tr>\n",
       "      <th>17972</th>\n",
       "      <td>1534</td>\n",
       "      <td>Альберт</td>\n",
       "      <td>25</td>\n",
       "      <td>Краснодар</td>\n",
       "      <td>free</td>\n",
       "      <td>2371.711192</td>\n",
       "      <td>15.893917</td>\n",
       "      <td>2021-12-29</td>\n",
       "      <td>12</td>\n",
       "      <td>8</td>\n",
       "      <td>50</td>\n",
       "      <td>0</td>\n",
       "    </tr>\n",
       "  </tbody>\n",
       "</table>\n",
       "<p>11473 rows × 12 columns</p>\n",
       "</div>"
      ],
      "text/plain": [
       "       user_id     name  age       city subscription_type     distance  \\\n",
       "6500       700    Айдар   22       Омск              free  2515.690719   \n",
       "6501       700    Айдар   22       Омск              free   846.932642   \n",
       "6502       700    Айдар   22       Омск              free  4004.434142   \n",
       "6503       700    Айдар   22       Омск              free  1205.911290   \n",
       "6504       700    Айдар   22       Омск              free  3047.379435   \n",
       "...        ...      ...  ...        ...               ...          ...   \n",
       "17968     1534  Альберт   25  Краснодар              free  3781.098080   \n",
       "17969     1534  Альберт   25  Краснодар              free  2840.423057   \n",
       "17970     1534  Альберт   25  Краснодар              free  3826.185507   \n",
       "17971     1534  Альберт   25  Краснодар              free  2902.308661   \n",
       "17972     1534  Альберт   25  Краснодар              free  2371.711192   \n",
       "\n",
       "        duration       date  month  minute_price  start_ride_price  \\\n",
       "6500   14.944286 2021-01-02      1             8                50   \n",
       "6501   16.234663 2021-02-01      2             8                50   \n",
       "6502   20.016628 2021-02-04      2             8                50   \n",
       "6503    9.782872 2021-02-10      2             8                50   \n",
       "6504   17.427673 2021-02-14      2             8                50   \n",
       "...          ...        ...    ...           ...               ...   \n",
       "17968  19.822962 2021-11-04     11             8                50   \n",
       "17969  21.409799 2021-11-16     11             8                50   \n",
       "17970  18.435051 2021-11-18     11             8                50   \n",
       "17971  16.674362 2021-11-27     11             8                50   \n",
       "17972  15.893917 2021-12-29     12             8                50   \n",
       "\n",
       "       subscription_fee  \n",
       "6500                  0  \n",
       "6501                  0  \n",
       "6502                  0  \n",
       "6503                  0  \n",
       "6504                  0  \n",
       "...                 ...  \n",
       "17968                 0  \n",
       "17969                 0  \n",
       "17970                 0  \n",
       "17971                 0  \n",
       "17972                 0  \n",
       "\n",
       "[11473 rows x 12 columns]"
      ]
     },
     "execution_count": 95,
     "metadata": {},
     "output_type": "execute_result"
    }
   ],
   "source": [
    "# создаем датафрейм с информацией о пользователях без подписки\n",
    "free_sub = data_united.query(\"`subscription_type` == 'free'\")\n",
    "free_sub"
   ]
  },
  {
   "cell_type": "markdown",
   "id": "b69c536c",
   "metadata": {
    "id": "d6130eff"
   },
   "source": [
    "#### С подпиской (**ultra**)"
   ]
  },
  {
   "cell_type": "code",
   "execution_count": 96,
   "id": "14040b7e",
   "metadata": {
    "id": "7a2dfa96"
   },
   "outputs": [
    {
     "data": {
      "text/html": [
       "<div>\n",
       "<style scoped>\n",
       "    .dataframe tbody tr th:only-of-type {\n",
       "        vertical-align: middle;\n",
       "    }\n",
       "\n",
       "    .dataframe tbody tr th {\n",
       "        vertical-align: top;\n",
       "    }\n",
       "\n",
       "    .dataframe thead th {\n",
       "        text-align: right;\n",
       "    }\n",
       "</style>\n",
       "<table border=\"1\" class=\"dataframe\">\n",
       "  <thead>\n",
       "    <tr style=\"text-align: right;\">\n",
       "      <th></th>\n",
       "      <th>user_id</th>\n",
       "      <th>name</th>\n",
       "      <th>age</th>\n",
       "      <th>city</th>\n",
       "      <th>subscription_type</th>\n",
       "      <th>distance</th>\n",
       "      <th>duration</th>\n",
       "      <th>date</th>\n",
       "      <th>month</th>\n",
       "      <th>minute_price</th>\n",
       "      <th>start_ride_price</th>\n",
       "      <th>subscription_fee</th>\n",
       "    </tr>\n",
       "  </thead>\n",
       "  <tbody>\n",
       "    <tr>\n",
       "      <th>0</th>\n",
       "      <td>1</td>\n",
       "      <td>Кира</td>\n",
       "      <td>22</td>\n",
       "      <td>Тюмень</td>\n",
       "      <td>ultra</td>\n",
       "      <td>4409.919140</td>\n",
       "      <td>25.599769</td>\n",
       "      <td>2021-01-01</td>\n",
       "      <td>1</td>\n",
       "      <td>6</td>\n",
       "      <td>0</td>\n",
       "      <td>199</td>\n",
       "    </tr>\n",
       "    <tr>\n",
       "      <th>1</th>\n",
       "      <td>1</td>\n",
       "      <td>Кира</td>\n",
       "      <td>22</td>\n",
       "      <td>Тюмень</td>\n",
       "      <td>ultra</td>\n",
       "      <td>2617.592153</td>\n",
       "      <td>15.816871</td>\n",
       "      <td>2021-01-18</td>\n",
       "      <td>1</td>\n",
       "      <td>6</td>\n",
       "      <td>0</td>\n",
       "      <td>199</td>\n",
       "    </tr>\n",
       "    <tr>\n",
       "      <th>2</th>\n",
       "      <td>1</td>\n",
       "      <td>Кира</td>\n",
       "      <td>22</td>\n",
       "      <td>Тюмень</td>\n",
       "      <td>ultra</td>\n",
       "      <td>754.159807</td>\n",
       "      <td>6.232113</td>\n",
       "      <td>2021-04-20</td>\n",
       "      <td>4</td>\n",
       "      <td>6</td>\n",
       "      <td>0</td>\n",
       "      <td>199</td>\n",
       "    </tr>\n",
       "    <tr>\n",
       "      <th>3</th>\n",
       "      <td>1</td>\n",
       "      <td>Кира</td>\n",
       "      <td>22</td>\n",
       "      <td>Тюмень</td>\n",
       "      <td>ultra</td>\n",
       "      <td>2694.783254</td>\n",
       "      <td>18.511000</td>\n",
       "      <td>2021-08-11</td>\n",
       "      <td>8</td>\n",
       "      <td>6</td>\n",
       "      <td>0</td>\n",
       "      <td>199</td>\n",
       "    </tr>\n",
       "    <tr>\n",
       "      <th>4</th>\n",
       "      <td>1</td>\n",
       "      <td>Кира</td>\n",
       "      <td>22</td>\n",
       "      <td>Тюмень</td>\n",
       "      <td>ultra</td>\n",
       "      <td>4028.687306</td>\n",
       "      <td>26.265803</td>\n",
       "      <td>2021-08-28</td>\n",
       "      <td>8</td>\n",
       "      <td>6</td>\n",
       "      <td>0</td>\n",
       "      <td>199</td>\n",
       "    </tr>\n",
       "    <tr>\n",
       "      <th>...</th>\n",
       "      <td>...</td>\n",
       "      <td>...</td>\n",
       "      <td>...</td>\n",
       "      <td>...</td>\n",
       "      <td>...</td>\n",
       "      <td>...</td>\n",
       "      <td>...</td>\n",
       "      <td>...</td>\n",
       "      <td>...</td>\n",
       "      <td>...</td>\n",
       "      <td>...</td>\n",
       "      <td>...</td>\n",
       "    </tr>\n",
       "    <tr>\n",
       "      <th>6495</th>\n",
       "      <td>699</td>\n",
       "      <td>Оксана</td>\n",
       "      <td>22</td>\n",
       "      <td>Москва</td>\n",
       "      <td>ultra</td>\n",
       "      <td>3973.046497</td>\n",
       "      <td>24.671163</td>\n",
       "      <td>2021-08-29</td>\n",
       "      <td>8</td>\n",
       "      <td>6</td>\n",
       "      <td>0</td>\n",
       "      <td>199</td>\n",
       "    </tr>\n",
       "    <tr>\n",
       "      <th>6496</th>\n",
       "      <td>699</td>\n",
       "      <td>Оксана</td>\n",
       "      <td>22</td>\n",
       "      <td>Москва</td>\n",
       "      <td>ultra</td>\n",
       "      <td>3288.702563</td>\n",
       "      <td>15.892886</td>\n",
       "      <td>2021-09-12</td>\n",
       "      <td>9</td>\n",
       "      <td>6</td>\n",
       "      <td>0</td>\n",
       "      <td>199</td>\n",
       "    </tr>\n",
       "    <tr>\n",
       "      <th>6497</th>\n",
       "      <td>699</td>\n",
       "      <td>Оксана</td>\n",
       "      <td>22</td>\n",
       "      <td>Москва</td>\n",
       "      <td>ultra</td>\n",
       "      <td>3076.159348</td>\n",
       "      <td>14.389525</td>\n",
       "      <td>2021-09-26</td>\n",
       "      <td>9</td>\n",
       "      <td>6</td>\n",
       "      <td>0</td>\n",
       "      <td>199</td>\n",
       "    </tr>\n",
       "    <tr>\n",
       "      <th>6498</th>\n",
       "      <td>699</td>\n",
       "      <td>Оксана</td>\n",
       "      <td>22</td>\n",
       "      <td>Москва</td>\n",
       "      <td>ultra</td>\n",
       "      <td>4707.845501</td>\n",
       "      <td>15.839579</td>\n",
       "      <td>2021-10-17</td>\n",
       "      <td>10</td>\n",
       "      <td>6</td>\n",
       "      <td>0</td>\n",
       "      <td>199</td>\n",
       "    </tr>\n",
       "    <tr>\n",
       "      <th>6499</th>\n",
       "      <td>699</td>\n",
       "      <td>Оксана</td>\n",
       "      <td>22</td>\n",
       "      <td>Москва</td>\n",
       "      <td>ultra</td>\n",
       "      <td>3202.890770</td>\n",
       "      <td>25.217345</td>\n",
       "      <td>2021-12-03</td>\n",
       "      <td>12</td>\n",
       "      <td>6</td>\n",
       "      <td>0</td>\n",
       "      <td>199</td>\n",
       "    </tr>\n",
       "  </tbody>\n",
       "</table>\n",
       "<p>6500 rows × 12 columns</p>\n",
       "</div>"
      ],
      "text/plain": [
       "      user_id    name  age    city subscription_type     distance   duration  \\\n",
       "0           1    Кира   22  Тюмень             ultra  4409.919140  25.599769   \n",
       "1           1    Кира   22  Тюмень             ultra  2617.592153  15.816871   \n",
       "2           1    Кира   22  Тюмень             ultra   754.159807   6.232113   \n",
       "3           1    Кира   22  Тюмень             ultra  2694.783254  18.511000   \n",
       "4           1    Кира   22  Тюмень             ultra  4028.687306  26.265803   \n",
       "...       ...     ...  ...     ...               ...          ...        ...   \n",
       "6495      699  Оксана   22  Москва             ultra  3973.046497  24.671163   \n",
       "6496      699  Оксана   22  Москва             ultra  3288.702563  15.892886   \n",
       "6497      699  Оксана   22  Москва             ultra  3076.159348  14.389525   \n",
       "6498      699  Оксана   22  Москва             ultra  4707.845501  15.839579   \n",
       "6499      699  Оксана   22  Москва             ultra  3202.890770  25.217345   \n",
       "\n",
       "           date  month  minute_price  start_ride_price  subscription_fee  \n",
       "0    2021-01-01      1             6                 0               199  \n",
       "1    2021-01-18      1             6                 0               199  \n",
       "2    2021-04-20      4             6                 0               199  \n",
       "3    2021-08-11      8             6                 0               199  \n",
       "4    2021-08-28      8             6                 0               199  \n",
       "...         ...    ...           ...               ...               ...  \n",
       "6495 2021-08-29      8             6                 0               199  \n",
       "6496 2021-09-12      9             6                 0               199  \n",
       "6497 2021-09-26      9             6                 0               199  \n",
       "6498 2021-10-17     10             6                 0               199  \n",
       "6499 2021-12-03     12             6                 0               199  \n",
       "\n",
       "[6500 rows x 12 columns]"
      ]
     },
     "execution_count": 96,
     "metadata": {},
     "output_type": "execute_result"
    }
   ],
   "source": [
    "# создаем датафрейм с информацией о пользователях с подпиской Ultra\n",
    "ultra_sub = data_united.query(\"`subscription_type` == 'ultra'\")\n",
    "ultra_sub"
   ]
  },
  {
   "cell_type": "markdown",
   "id": "5c3d7db1",
   "metadata": {
    "id": "1c7ea064"
   },
   "source": [
    "### Визуализация информации о расстоянии и времени поездок для пользователей обеих категорий."
   ]
  },
  {
   "cell_type": "code",
   "execution_count": 97,
   "id": "07ac8040",
   "metadata": {
    "colab": {
     "base_uri": "https://localhost:8080/",
     "height": 410
    },
    "id": "de75f9f1",
    "outputId": "7139cab2-4574-4cb6-f18e-c3b016ee79df"
   },
   "outputs": [
    {
     "data": {
      "image/png": "[encoded data removed]",
      "text/plain": [
       "<Figure size 1200x400 with 2 Axes>"
      ]
     },
     "metadata": {},
     "output_type": "display_data"
    }
   ],
   "source": [
    "fig, axes = plt.subplots(1, 2, figsize=(12, 4))\n",
    "\n",
    "# гистограмма расстояний\n",
    "sns.histplot(data=free_sub, x='distance', kde=True, ax=axes[0], color='blue', label='Без подписки')\n",
    "sns.histplot(data=ultra_sub, x='distance', kde=True, ax=axes[0], color='orange', label='Тариф Ultra')\n",
    "\n",
    "# заголовок и подписи осей(расстояния)\n",
    "axes[0].set_title('Сравнение расстояний по тарифам')\n",
    "axes[0].set_xlabel('Расстояние, м')\n",
    "axes[0].set_ylabel('Количество поездок')\n",
    "\n",
    "# легенда(расстояния)\n",
    "axes[0].legend()\n",
    "\n",
    "# гистограмма времени поездок\n",
    "sns.histplot(data=free_sub, x='duration', kde=True, ax=axes[1], color='blue', label='Без подписки')\n",
    "sns.histplot(data=ultra_sub, x='duration', kde=True, ax=axes[1], color='orange', label='Тариф Ultra')\n",
    "\n",
    "# заголовок и подписи осей(время)\n",
    "axes[1].set_title('Сравнение времени поездки по тарифам')\n",
    "axes[1].set_xlabel('Время поездки, минуты')\n",
    "axes[1].set_ylabel('Количество поездок')\n",
    "\n",
    "# легенда(время)\n",
    "axes[1].legend()\n",
    "\n",
    "plt.show()"
   ]
  },
  {
   "cell_type": "markdown",
   "id": "a7ed75d7",
   "metadata": {
    "id": "3ca5ce2c"
   },
   "source": [
    "**Вывод**\n",
    "\n",
    "Объединили данные о пользователях, поездках и тарифах в один датафрейм - `full_data`.\n",
    "\n",
    "Выделили два датафрейма на основе `full_data`:\n",
    "\n",
    ">`free_sub` - Информация о пользователях с бесплатным тарифом\n",
    "\n",
    ">`ultra_sub` - Информация о пользователях с платным тарифом\n",
    "Визуализировали информацию о расстоянии и времени для каждого из тарифов.\n",
    "\n",
    "Анализируя данные по пользователям с разными тарифами, мы видим следующие закономерности:\n",
    "\n",
    "**Без подписки**:\n",
    "\n",
    "Пользователи с бесплатным тарифом склонны к долгим поездкам, часто превышая 10 минут, и многие из них проезжают от 2 до 5 километров, причем некоторые пользователи даже достигают 6 или 6.5 километров. Это может свидетельствовать о том, что для них важно удобство и доступность такси, и они могут использовать его для более длительных поездок, возможно, в рамках повседневных перемещений или деловых встреч.\n",
    "\n",
    "**Тариф Ultra**:\n",
    "\n",
    "В случае с платным тарифом, основное время поездки находится в промежутке от 15 до 25 минут. Пик расстояния, который приходится на 3 километра, указывает на то, что пользователи с этим тарифом вероятно используют такси для более коротких поездок, возможно, для передвижений по городу или для экономии времени в процессе поездки.\n",
    "\n",
    "В целом, можно сделать вывод, что пользователи с бесплатным тарифом более склонны к долгим поездкам и более дальним расстояниям, в то время как пользователи с платным тарифом предпочитают более короткие поездки и оптимизацию времени.\n",
    "\n",
    "## Подсчёт выручки\n",
    "\n",
    "### Создание датафрейма с агрегированными данными о поездках на основе датафрейма с объединёнными данными\n",
    "\n",
    "Ищем суммарное расстояние, количество поездок и суммарное время для каждого пользователя за каждый месяц."
   ]
  },
  {
   "cell_type": "code",
   "execution_count": 98,
   "id": "06198cee",
   "metadata": {
    "id": "2e49c686"
   },
   "outputs": [],
   "source": [
    "# округляем расстояния\n",
    "data_united['duration'] = np.ceil(data_united['duration'])"
   ]
  },
  {
   "cell_type": "code",
   "execution_count": 99,
   "id": "db40b7ba",
   "metadata": {
    "id": "7e5c1c37"
   },
   "outputs": [],
   "source": [
    "# создаем таблицу с агрегированными данными\n",
    "total_data = data_united.groupby(['month', 'user_id']).agg(\n",
    "    distance=pd.NamedAgg(column='distance', aggfunc='sum'),\n",
    "    duration=pd.NamedAgg(column='duration', aggfunc='sum'),\n",
    "    subscription_type=pd.NamedAgg(column='subscription_type', aggfunc='min'),\n",
    "    count_trips=pd.NamedAgg(column='name', aggfunc='count')\n",
    ").reset_index()"
   ]
  },
  {
   "cell_type": "code",
   "execution_count": 100,
   "id": "3d8e2ff0",
   "metadata": {
    "id": "-SsOfpANluil"
   },
   "outputs": [],
   "source": [
    "# к сводной таблице присоединяем таблицу с подписками\n",
    "total_data = total_data.merge(data_subs, on='subscription_type', how='left')"
   ]
  },
  {
   "cell_type": "code",
   "execution_count": 101,
   "id": "eeb17de1",
   "metadata": {
    "colab": {
     "base_uri": "https://localhost:8080/",
     "height": 206
    },
    "id": "ca6314f3",
    "outputId": "4ed85192-3ec2-4ef0-f44f-7af32d30e695"
   },
   "outputs": [
    {
     "data": {
      "text/html": [
       "<div>\n",
       "<style scoped>\n",
       "    .dataframe tbody tr th:only-of-type {\n",
       "        vertical-align: middle;\n",
       "    }\n",
       "\n",
       "    .dataframe tbody tr th {\n",
       "        vertical-align: top;\n",
       "    }\n",
       "\n",
       "    .dataframe thead th {\n",
       "        text-align: right;\n",
       "    }\n",
       "</style>\n",
       "<table border=\"1\" class=\"dataframe\">\n",
       "  <thead>\n",
       "    <tr style=\"text-align: right;\">\n",
       "      <th></th>\n",
       "      <th>month</th>\n",
       "      <th>user_id</th>\n",
       "      <th>distance</th>\n",
       "      <th>duration</th>\n",
       "      <th>subscription_type</th>\n",
       "      <th>count_trips</th>\n",
       "      <th>minute_price</th>\n",
       "      <th>start_ride_price</th>\n",
       "      <th>subscription_fee</th>\n",
       "    </tr>\n",
       "  </thead>\n",
       "  <tbody>\n",
       "    <tr>\n",
       "      <th>66</th>\n",
       "      <td>1</td>\n",
       "      <td>132</td>\n",
       "      <td>3431.825431</td>\n",
       "      <td>25.0</td>\n",
       "      <td>ultra</td>\n",
       "      <td>1</td>\n",
       "      <td>6</td>\n",
       "      <td>0</td>\n",
       "      <td>199</td>\n",
       "    </tr>\n",
       "    <tr>\n",
       "      <th>67</th>\n",
       "      <td>1</td>\n",
       "      <td>134</td>\n",
       "      <td>3472.323073</td>\n",
       "      <td>13.0</td>\n",
       "      <td>ultra</td>\n",
       "      <td>1</td>\n",
       "      <td>6</td>\n",
       "      <td>0</td>\n",
       "      <td>199</td>\n",
       "    </tr>\n",
       "    <tr>\n",
       "      <th>68</th>\n",
       "      <td>1</td>\n",
       "      <td>136</td>\n",
       "      <td>3076.212814</td>\n",
       "      <td>19.0</td>\n",
       "      <td>ultra</td>\n",
       "      <td>1</td>\n",
       "      <td>6</td>\n",
       "      <td>0</td>\n",
       "      <td>199</td>\n",
       "    </tr>\n",
       "    <tr>\n",
       "      <th>69</th>\n",
       "      <td>1</td>\n",
       "      <td>138</td>\n",
       "      <td>2971.122027</td>\n",
       "      <td>20.0</td>\n",
       "      <td>ultra</td>\n",
       "      <td>1</td>\n",
       "      <td>6</td>\n",
       "      <td>0</td>\n",
       "      <td>199</td>\n",
       "    </tr>\n",
       "    <tr>\n",
       "      <th>70</th>\n",
       "      <td>1</td>\n",
       "      <td>139</td>\n",
       "      <td>3152.419511</td>\n",
       "      <td>30.0</td>\n",
       "      <td>ultra</td>\n",
       "      <td>1</td>\n",
       "      <td>6</td>\n",
       "      <td>0</td>\n",
       "      <td>199</td>\n",
       "    </tr>\n",
       "  </tbody>\n",
       "</table>\n",
       "</div>"
      ],
      "text/plain": [
       "    month  user_id     distance  duration subscription_type  count_trips  \\\n",
       "66      1      132  3431.825431      25.0             ultra            1   \n",
       "67      1      134  3472.323073      13.0             ultra            1   \n",
       "68      1      136  3076.212814      19.0             ultra            1   \n",
       "69      1      138  2971.122027      20.0             ultra            1   \n",
       "70      1      139  3152.419511      30.0             ultra            1   \n",
       "\n",
       "    minute_price  start_ride_price  subscription_fee  \n",
       "66             6                 0               199  \n",
       "67             6                 0               199  \n",
       "68             6                 0               199  \n",
       "69             6                 0               199  \n",
       "70             6                 0               199  "
      ]
     },
     "execution_count": 101,
     "metadata": {},
     "output_type": "execute_result"
    }
   ],
   "source": [
    "# сортируем по месяцу\n",
    "total_data.sort_values(by='month').head()"
   ]
  },
  {
   "cell_type": "markdown",
   "id": "4084ea27",
   "metadata": {
    "id": "30f00f34"
   },
   "source": [
    "### Добавляем столбец с помесячной выручкой, которую принёс каждый пользователь."
   ]
  },
  {
   "cell_type": "code",
   "execution_count": 102,
   "id": "df6fca91",
   "metadata": {},
   "outputs": [],
   "source": [
    "# функция для расчета рыручки\n",
    "def revenue_per_month(row):\n",
    "    revenue = row['start_ride_price'] * row['count_trips']# стоимость старта поездки за одну поездку\n",
    "    revenue += row['duration'] * row['minute_price']  # стоимость по времени\n",
    "    return revenue + row['subscription_fee']"
   ]
  },
  {
   "cell_type": "code",
   "execution_count": 103,
   "id": "709dcf8a",
   "metadata": {
    "id": "372bd174"
   },
   "outputs": [],
   "source": [
    "# применяем функцию\n",
    "total_data['revenue_per_month'] = total_data.apply(revenue_per_month, axis=1)"
   ]
  },
  {
   "cell_type": "code",
   "execution_count": 104,
   "id": "939168f4",
   "metadata": {},
   "outputs": [],
   "source": [
    "# группируем данные по пользователю и месяцу, и суммируем выручку\n",
    "revenue_per_month = total_data.groupby(['user_id', 'subscription_type'])['revenue_per_month'].sum().reset_index()"
   ]
  },
  {
   "cell_type": "code",
   "execution_count": 105,
   "id": "2430b06c",
   "metadata": {
    "colab": {
     "base_uri": "https://localhost:8080/",
     "height": 257
    },
    "id": "c4e3cb12",
    "outputId": "b23d7b1f-262e-4bc9-b24b-1a78c20c4ab8",
    "scrolled": true
   },
   "outputs": [
    {
     "data": {
      "text/html": [
       "<div>\n",
       "<style scoped>\n",
       "    .dataframe tbody tr th:only-of-type {\n",
       "        vertical-align: middle;\n",
       "    }\n",
       "\n",
       "    .dataframe tbody tr th {\n",
       "        vertical-align: top;\n",
       "    }\n",
       "\n",
       "    .dataframe thead th {\n",
       "        text-align: right;\n",
       "    }\n",
       "</style>\n",
       "<table border=\"1\" class=\"dataframe\">\n",
       "  <thead>\n",
       "    <tr style=\"text-align: right;\">\n",
       "      <th></th>\n",
       "      <th>month</th>\n",
       "      <th>user_id</th>\n",
       "      <th>distance</th>\n",
       "      <th>duration</th>\n",
       "      <th>subscription_type</th>\n",
       "      <th>count_trips</th>\n",
       "      <th>minute_price</th>\n",
       "      <th>start_ride_price</th>\n",
       "      <th>subscription_fee</th>\n",
       "      <th>revenue_per_month</th>\n",
       "    </tr>\n",
       "  </thead>\n",
       "  <tbody>\n",
       "    <tr>\n",
       "      <th>0</th>\n",
       "      <td>1</td>\n",
       "      <td>1</td>\n",
       "      <td>7027.511294</td>\n",
       "      <td>42.0</td>\n",
       "      <td>ultra</td>\n",
       "      <td>2</td>\n",
       "      <td>6</td>\n",
       "      <td>0</td>\n",
       "      <td>199</td>\n",
       "      <td>451.0</td>\n",
       "    </tr>\n",
       "    <tr>\n",
       "      <th>1</th>\n",
       "      <td>1</td>\n",
       "      <td>3</td>\n",
       "      <td>3061.777147</td>\n",
       "      <td>13.0</td>\n",
       "      <td>ultra</td>\n",
       "      <td>1</td>\n",
       "      <td>6</td>\n",
       "      <td>0</td>\n",
       "      <td>199</td>\n",
       "      <td>277.0</td>\n",
       "    </tr>\n",
       "    <tr>\n",
       "      <th>2</th>\n",
       "      <td>1</td>\n",
       "      <td>5</td>\n",
       "      <td>3914.646990</td>\n",
       "      <td>13.0</td>\n",
       "      <td>ultra</td>\n",
       "      <td>1</td>\n",
       "      <td>6</td>\n",
       "      <td>0</td>\n",
       "      <td>199</td>\n",
       "      <td>277.0</td>\n",
       "    </tr>\n",
       "    <tr>\n",
       "      <th>3</th>\n",
       "      <td>1</td>\n",
       "      <td>7</td>\n",
       "      <td>6478.080979</td>\n",
       "      <td>28.0</td>\n",
       "      <td>ultra</td>\n",
       "      <td>2</td>\n",
       "      <td>6</td>\n",
       "      <td>0</td>\n",
       "      <td>199</td>\n",
       "      <td>367.0</td>\n",
       "    </tr>\n",
       "    <tr>\n",
       "      <th>4</th>\n",
       "      <td>1</td>\n",
       "      <td>12</td>\n",
       "      <td>3577.151148</td>\n",
       "      <td>33.0</td>\n",
       "      <td>ultra</td>\n",
       "      <td>1</td>\n",
       "      <td>6</td>\n",
       "      <td>0</td>\n",
       "      <td>199</td>\n",
       "      <td>397.0</td>\n",
       "    </tr>\n",
       "    <tr>\n",
       "      <th>...</th>\n",
       "      <td>...</td>\n",
       "      <td>...</td>\n",
       "      <td>...</td>\n",
       "      <td>...</td>\n",
       "      <td>...</td>\n",
       "      <td>...</td>\n",
       "      <td>...</td>\n",
       "      <td>...</td>\n",
       "      <td>...</td>\n",
       "      <td>...</td>\n",
       "    </tr>\n",
       "    <tr>\n",
       "      <th>11295</th>\n",
       "      <td>12</td>\n",
       "      <td>1525</td>\n",
       "      <td>4597.854350</td>\n",
       "      <td>34.0</td>\n",
       "      <td>free</td>\n",
       "      <td>1</td>\n",
       "      <td>8</td>\n",
       "      <td>50</td>\n",
       "      <td>0</td>\n",
       "      <td>322.0</td>\n",
       "    </tr>\n",
       "    <tr>\n",
       "      <th>11296</th>\n",
       "      <td>12</td>\n",
       "      <td>1526</td>\n",
       "      <td>3644.121544</td>\n",
       "      <td>23.0</td>\n",
       "      <td>free</td>\n",
       "      <td>1</td>\n",
       "      <td>8</td>\n",
       "      <td>50</td>\n",
       "      <td>0</td>\n",
       "      <td>234.0</td>\n",
       "    </tr>\n",
       "    <tr>\n",
       "      <th>11297</th>\n",
       "      <td>12</td>\n",
       "      <td>1528</td>\n",
       "      <td>3998.569324</td>\n",
       "      <td>11.0</td>\n",
       "      <td>free</td>\n",
       "      <td>1</td>\n",
       "      <td>8</td>\n",
       "      <td>50</td>\n",
       "      <td>0</td>\n",
       "      <td>138.0</td>\n",
       "    </tr>\n",
       "    <tr>\n",
       "      <th>11298</th>\n",
       "      <td>12</td>\n",
       "      <td>1532</td>\n",
       "      <td>6111.889853</td>\n",
       "      <td>42.0</td>\n",
       "      <td>free</td>\n",
       "      <td>2</td>\n",
       "      <td>8</td>\n",
       "      <td>50</td>\n",
       "      <td>0</td>\n",
       "      <td>436.0</td>\n",
       "    </tr>\n",
       "    <tr>\n",
       "      <th>11299</th>\n",
       "      <td>12</td>\n",
       "      <td>1534</td>\n",
       "      <td>2371.711192</td>\n",
       "      <td>16.0</td>\n",
       "      <td>free</td>\n",
       "      <td>1</td>\n",
       "      <td>8</td>\n",
       "      <td>50</td>\n",
       "      <td>0</td>\n",
       "      <td>178.0</td>\n",
       "    </tr>\n",
       "  </tbody>\n",
       "</table>\n",
       "<p>11300 rows × 10 columns</p>\n",
       "</div>"
      ],
      "text/plain": [
       "       month  user_id     distance  duration subscription_type  count_trips  \\\n",
       "0          1        1  7027.511294      42.0             ultra            2   \n",
       "1          1        3  3061.777147      13.0             ultra            1   \n",
       "2          1        5  3914.646990      13.0             ultra            1   \n",
       "3          1        7  6478.080979      28.0             ultra            2   \n",
       "4          1       12  3577.151148      33.0             ultra            1   \n",
       "...      ...      ...          ...       ...               ...          ...   \n",
       "11295     12     1525  4597.854350      34.0              free            1   \n",
       "11296     12     1526  3644.121544      23.0              free            1   \n",
       "11297     12     1528  3998.569324      11.0              free            1   \n",
       "11298     12     1532  6111.889853      42.0              free            2   \n",
       "11299     12     1534  2371.711192      16.0              free            1   \n",
       "\n",
       "       minute_price  start_ride_price  subscription_fee  revenue_per_month  \n",
       "0                 6                 0               199              451.0  \n",
       "1                 6                 0               199              277.0  \n",
       "2                 6                 0               199              277.0  \n",
       "3                 6                 0               199              367.0  \n",
       "4                 6                 0               199              397.0  \n",
       "...             ...               ...               ...                ...  \n",
       "11295             8                50                 0              322.0  \n",
       "11296             8                50                 0              234.0  \n",
       "11297             8                50                 0              138.0  \n",
       "11298             8                50                 0              436.0  \n",
       "11299             8                50                 0              178.0  \n",
       "\n",
       "[11300 rows x 10 columns]"
      ]
     },
     "execution_count": 105,
     "metadata": {},
     "output_type": "execute_result"
    }
   ],
   "source": [
    "total_data.query('user_id == 1')\n",
    "total_data"
   ]
  },
  {
   "cell_type": "markdown",
   "id": "d948484c",
   "metadata": {
    "id": "f166a498"
   },
   "source": [
    "**Вывод**\n",
    "\n",
    "*   Создан новый датафрейм total_data с агрегированными данными, сгруппированными по месяцам и пользователям\n",
    "*   Посчитано суммарное расстояние, количество поездок и суммарное время для каждого пользователя за каждый месяц\n",
    "*   Добавлен новый столбец  с помесячной выручкой, которую принес каждый пользователь\n",
    "\n",
    "## Проверка гипотез\n",
    "\n",
    "### Первая гипотеза:\n",
    "\n",
    "> Тратят ли пользователи с подпиской больше времени на поездки? Если да, то пользователи с подпиской могут быть «выгоднее» для компании.\n",
    " - H0: Пользователи с подпиской на сервис не тратят больше времени на поездки, чем пользователи без подписки.\n",
    "\n",
    " - H1: Пользователи с подпиской на сервис тратят больше времени на поездки, чем пользователи без подписки."
   ]
  },
  {
   "cell_type": "code",
   "execution_count": 106,
   "id": "e098e5da",
   "metadata": {
    "colab": {
     "base_uri": "https://localhost:8080/"
    },
    "id": "b2ef2202",
    "outputId": "0bc084f8-b4fb-4769-af3b-1586a2f016ac"
   },
   "outputs": [
    {
     "name": "stdout",
     "output_type": "stream",
     "text": [
      "Гипотеза отвергнута\n"
     ]
    }
   ],
   "source": [
    "# проводим t-тест\n",
    "ultra = ultra_sub['duration']\n",
    "free = free_sub['duration']\n",
    "\n",
    "t_stat, p_value, _ = sm.stats.ttest_ind(ultra, free, alternative='larger')\n",
    "\n",
    "alpha = 0.05\n",
    "\n",
    "if p_value < alpha:\n",
    "    print('Гипотеза отвергнута')\n",
    "else:\n",
    "    print('Не удалось отвергнуть гипотезу')"
   ]
  },
  {
   "cell_type": "code",
   "execution_count": 107,
   "id": "2f564221",
   "metadata": {
    "colab": {
     "base_uri": "https://localhost:8080/",
     "height": 472
    },
    "id": "11ed99fa",
    "outputId": "0ae49fe2-528f-458c-cfcb-e7e62b5420f5"
   },
   "outputs": [
    {
     "data": {
      "image/png": "[encoded data removed]",
      "text/plain": [
       "<Figure size 640x480 with 1 Axes>"
      ]
     },
     "metadata": {},
     "output_type": "display_data"
    }
   ],
   "source": [
    "ax = sns.barplot(x = 'month', y = 'duration', hue = \"subscription_type\", data = data_united,\n",
    "            palette = ['yellow', 'orange'])\n",
    "ax.set(xlabel='Номер месяца', ylabel='Продолжительность поездок',\n",
    "       title='Распределение продолжительности поездок по видам подписок и месяцам')\n",
    "plt.show()"
   ]
  },
  {
   "cell_type": "code",
   "execution_count": 108,
   "id": "d5ca5daf",
   "metadata": {
    "colab": {
     "base_uri": "https://localhost:8080/"
    },
    "id": "1571ca76",
    "outputId": "62aeefed-78f9-410c-e932-c023208a0354"
   },
   "outputs": [
    {
     "data": {
      "text/plain": [
       "subscription_type\n",
       "free     18.030855\n",
       "ultra    19.037692\n",
       "Name: duration, dtype: float64"
      ]
     },
     "execution_count": 108,
     "metadata": {},
     "output_type": "execute_result"
    }
   ],
   "source": [
    "# выводим средние значения продолжительности поездок\n",
    "average_duration = data_united.groupby('subscription_type')['duration'].mean()\n",
    "average_duration"
   ]
  },
  {
   "cell_type": "markdown",
   "id": "5905af8d",
   "metadata": {
    "id": "2119ead6"
   },
   "source": [
    "**Вывод**\n",
    "\n",
    "Гипотеза о том, что время поездки пользователей на тарифе **ultra** равно времени поездки пользователей на тарифе **free**, была проверена и отвергнута. Это означает, что существует статистически значимое различие во времени поездки между пользователями, подписанными на тариф **ultra**, и пользователями с тарифом **free**.\n",
    "\n",
    "### Вторая гипотеза:\n",
    "\n",
    "> Расстояние одной поездки в 3130 метров — оптимальное с точки зрения износа самоката. Можно ли сказать, что среднее расстояние, которое проезжают пользователи с подпиской за одну поездку, не превышает 3130 метров?\n",
    " - H0: Среднее расстояние, которое проезжают пользователи с подпиской за одну поездку, равна 3130 метров.\n",
    " - H1: Среднее расстояние, которое проезжают пользователи с подпиской за одну поездку, превышает 3130 метров."
   ]
  },
  {
   "cell_type": "code",
   "execution_count": 109,
   "id": "a10ff7b3",
   "metadata": {
    "colab": {
     "base_uri": "https://localhost:8080/"
    },
    "id": "3e46c345",
    "outputId": "95f71e76-acec-4e97-c8a7-eb72c5563e0b"
   },
   "outputs": [
    {
     "name": "stdout",
     "output_type": "stream",
     "text": [
      "0.9195368847849785\n",
      "Не удалось отвергнуть гипотезу\n"
     ]
    }
   ],
   "source": [
    "ultra_dist = ultra_sub['distance']\n",
    "\n",
    "interested_value = 3130.0\n",
    "\n",
    "alpha = .05\n",
    "\n",
    "results = st.ttest_1samp(ultra_dist, interested_value, alternative='greater')\n",
    "\n",
    "print(results.pvalue)\n",
    "\n",
    "if (results.pvalue < alpha):\n",
    "    print('Гипотеза отвергнута')\n",
    "else:\n",
    "    print('Не удалось отвергнуть гипотезу')"
   ]
  },
  {
   "cell_type": "markdown",
   "id": "c554a018",
   "metadata": {
    "id": "13195980"
   },
   "source": [
    "**Вывод**\n",
    "\n",
    "В результате проведенного t-теста, мы исследовали гипотезу о среднем расстоянии, которое проезжают пользователи с подпиской за одну поездку, и оптимальном расстоянии в 3130 метров с точки зрения износа самоката. На основании полученных данных, мы не обнаружили статистически значимого доказательства того, что среднее расстояние, пройденное пользователями, превышает установленное оптимальное значение в 3130 метров.\n",
    "\n",
    "### Третья гипотеза:\n",
    "\n",
    " - H0 Помесячная выручка от пользователей с подпиской по месяцам равна выручке от пользователей без подписки.\n",
    " - H1 Помесячная выручка от пользователей с подпиской по месяцам выше, чем выручка от пользователей без подписки."
   ]
  },
  {
   "cell_type": "code",
   "execution_count": 110,
   "id": "687f9e33",
   "metadata": {
    "colab": {
     "base_uri": "https://localhost:8080/"
    },
    "id": "061bff29",
    "outputId": "82b0a0c1-2b15-4512-8274-48f4897645a3"
   },
   "outputs": [
    {
     "name": "stdout",
     "output_type": "stream",
     "text": [
      "2.0314113674863288e-30\n",
      "Гипотеза отвергнута\n"
     ]
    }
   ],
   "source": [
    "ultra_per_mnth = total_data.loc[total_data.subscription_type == 'ultra', 'revenue_per_month']\n",
    "free_per_mnth = total_data.loc[total_data.subscription_type == 'free', 'revenue_per_month']\n",
    "\n",
    "results = st.ttest_ind(ultra_per_mnth, free_per_mnth, alternative = 'greater')\n",
    "\n",
    "alpha = 0.05\n",
    "\n",
    "print(results.pvalue)\n",
    "\n",
    "if results.pvalue < alpha:\n",
    "    print('Гипотеза отвергнута')\n",
    "else:\n",
    "    print('Не удалось отвергнуть нулевую гипотезу')"
   ]
  },
  {
   "cell_type": "code",
   "execution_count": 111,
   "id": "b6478ca2",
   "metadata": {
    "colab": {
     "base_uri": "https://localhost:8080/"
    },
    "id": "jHNQdooBp6it",
    "outputId": "8938ac57-90e0-4fe5-870d-2777e3a04f44"
   },
   "outputs": [
    {
     "data": {
      "text/plain": [
       "subscription_type\n",
       "free     329.332644\n",
       "ultra    362.792191\n",
       "Name: revenue_per_month, dtype: float64"
      ]
     },
     "execution_count": 111,
     "metadata": {},
     "output_type": "execute_result"
    }
   ],
   "source": [
    "# выводим средние значения\n",
    "average_revenue = total_data.groupby('subscription_type')['revenue_per_month'].mean()\n",
    "average_revenue"
   ]
  },
  {
   "cell_type": "markdown",
   "id": "6d9f6834",
   "metadata": {
    "id": "7c09088d"
   },
   "source": [
    "**Вывод**\n",
    "\n",
    "Гипотеза, которая была выдвинута, состояла в том, что помесячная выручка от пользователей с тарифом **ultra**, равна выручке от пользователей, использующих серис без подписки. Однако, после проведения t-теста, результаты не подтвердили данную гипотезу.\n",
    "\n",
    "### Четвертая гипотеза:\n",
    "\n",
    "> Техническая команда сервиса обновила сервера, с которыми взаимодействует мобильное приложение. Она надеется, что из-за этого количество обращений в техподдержку значимо снизилось. Некоторый файл содержит для каждого пользователя данные о количестве обращений до обновления и после него.Какой тест вам понадобился бы для проверки этой гипотезы?\n",
    "Есть два массива данных: `before_update` и `after_update`, где каждый элемент соответствует количеству обращений.\n",
    "\n",
    "\n",
    "```python\n",
    "# Выполнение t-теста для зависимых (парных) выборок\n",
    "t_statistic, p_value = stats.ttest_rel(before_update, after_update, alternative='greater')\n",
    "\n",
    "# Вывод результатов\n",
    "if p_value < 0.05:  # Уровень значимости 0.05\n",
    "    print(\"Существует статистически значимая разница между количеством обращений до и после обновления.\")\n",
    "else:\n",
    "    print(\"Нет статистически значимой разницы между количеством обращений до и после обновления.\")\n",
    "```\n",
    "\n",
    "\n",
    "Ответ на вопрос:  t-тест для сравнения средних значений двух парных выборок.\n",
    "\n",
    "**Вывод** проведенного исследования\n",
    "\n",
    "**> Изучили общую информацию:**\n",
    "\n",
    "1. Загрузили 3 датафрейма: с пользователями, информацией о поездках, информацией о подписках;\n",
    "\n",
    "2. проверили данные на пропуски, их не оказалось ни в одной таблице;\n",
    "3. поменяли тип данных у столбца date из датафрейма **data_rides** к типу даты;\n",
    "4. добавили столбец **month** с номером месяца. И удалили дубликаты строк из датафрейма с пользователями.\n",
    "\n",
    "**> Провели исследовательский анализ данных:**\n",
    "\n",
    "1. вывели, что количество пользователей по городам распределено примерно одинаково, нет выдающихся значений. Лидером по количеству пользователей является Пятигорск - 219 пользователей. Меньше всего пользователей в Москве - 168.\n",
    "2. пользователей, использующих бесплатную подписку больше - 835 человек, что является ~54% от общего числа пользователей. На платной подписке сидит 699 пользователей, что соответственно является ~46%.\n",
    "3. возраст пользователей укладывается в промежуток от 20 до 30 лет\n",
    "В основном пользователи проезжают от 2.5 км до 4 км.\n",
    "4. чаще всего длительность поездки состовляет 13 - 22 минут\n",
    "5. объединили данные о пользователях, поездках и подписках в один датафрейм. На основе объединенного датафрейма создали еще 2 датафрейма:\n",
    "\n",
    ">>для пользователей с ultra подпиской;\n",
    "\n",
    ">>для пользователей с free подпиской.\n",
    "\n",
    "Дальше визуализировали информацию о расстоянии и времени поездки для пользоватей каждого тарифа.\n",
    "\n",
    "- Для бесплатного тарифа время поездки составляет от 10 до 30 минут, и проезжают от 2 до 5 км, есть пользователи, которые проехали даже 6, 6.5 км.\n",
    "- Платный тариф. В основном время укладывается в промежуток от 15 до 25 минут. Пик расстояния приходится на 3км.\n",
    "7. Нашли суммарное расстояние, количество поездок и суммарное время для каждого пользователя за каждый месяц - вывели все данные в отдельный датафрейм **total_data**. Добавили в датафрейм **total_data** столбец с помесячной выручкой **revenue_per_month**.\n",
    "\n",
    "8. Проверили гипотезы:\n",
    "\n",
    "- Пользователи с подпиской не тратят больше времени на поездки, чем пользователи на бесплатном тарифе. *Отвергли нулевую гипотезу*.\n",
    "- Пользователи с подпиской проезжают расстояние 3130 метров за одну поездку. *Не удалось отвергнуть нулевую гипотезу*.\n",
    "- Помесячная выручка от пользователей с подпиской равна выручке от пользователей без подписки. *Отвергли нулевую гипотезу*."
   ]
  }
 ],
 "metadata": {
  "ExecuteTimeLog": [
   {
    "duration": 1424,
    "start_time": "2023-09-12T07:01:16.406Z"
   },
   {
    "duration": 116,
    "start_time": "2023-09-12T07:01:17.832Z"
   },
   {
    "duration": 0,
    "start_time": "2023-09-12T07:01:17.951Z"
   },
   {
    "duration": 0,
    "start_time": "2023-09-12T07:01:17.953Z"
   },
   {
    "duration": 0,
    "start_time": "2023-09-12T07:01:17.954Z"
   },
   {
    "duration": 0,
    "start_time": "2023-09-12T07:01:17.956Z"
   },
   {
    "duration": 0,
    "start_time": "2023-09-12T07:01:17.957Z"
   },
   {
    "duration": 0,
    "start_time": "2023-09-12T07:01:17.958Z"
   },
   {
    "duration": 0,
    "start_time": "2023-09-12T07:01:17.959Z"
   },
   {
    "duration": 0,
    "start_time": "2023-09-12T07:01:17.960Z"
   },
   {
    "duration": 0,
    "start_time": "2023-09-12T07:01:17.961Z"
   },
   {
    "duration": 0,
    "start_time": "2023-09-12T07:01:17.962Z"
   },
   {
    "duration": 0,
    "start_time": "2023-09-12T07:01:17.963Z"
   },
   {
    "duration": 0,
    "start_time": "2023-09-12T07:01:17.964Z"
   },
   {
    "duration": 0,
    "start_time": "2023-09-12T07:01:17.965Z"
   },
   {
    "duration": 0,
    "start_time": "2023-09-12T07:01:17.966Z"
   },
   {
    "duration": 0,
    "start_time": "2023-09-12T07:01:17.967Z"
   },
   {
    "duration": 0,
    "start_time": "2023-09-12T07:01:17.968Z"
   },
   {
    "duration": 0,
    "start_time": "2023-09-12T07:01:17.969Z"
   },
   {
    "duration": 0,
    "start_time": "2023-09-12T07:01:17.971Z"
   },
   {
    "duration": 0,
    "start_time": "2023-09-12T07:01:17.972Z"
   },
   {
    "duration": 0,
    "start_time": "2023-09-12T07:01:17.974Z"
   },
   {
    "duration": 0,
    "start_time": "2023-09-12T07:01:17.975Z"
   },
   {
    "duration": 0,
    "start_time": "2023-09-12T07:01:17.976Z"
   },
   {
    "duration": 0,
    "start_time": "2023-09-12T07:01:17.977Z"
   },
   {
    "duration": 0,
    "start_time": "2023-09-12T07:01:17.978Z"
   },
   {
    "duration": 0,
    "start_time": "2023-09-12T07:01:17.979Z"
   },
   {
    "duration": 0,
    "start_time": "2023-09-12T07:01:17.980Z"
   },
   {
    "duration": 0,
    "start_time": "2023-09-12T07:01:17.981Z"
   },
   {
    "duration": 0,
    "start_time": "2023-09-12T07:01:17.982Z"
   },
   {
    "duration": 0,
    "start_time": "2023-09-12T07:01:17.984Z"
   },
   {
    "duration": 0,
    "start_time": "2023-09-12T07:01:17.985Z"
   },
   {
    "duration": 0,
    "start_time": "2023-09-12T07:01:17.986Z"
   },
   {
    "duration": 0,
    "start_time": "2023-09-12T07:01:17.987Z"
   },
   {
    "duration": 0,
    "start_time": "2023-09-12T07:01:17.988Z"
   },
   {
    "duration": 0,
    "start_time": "2023-09-12T07:01:18.047Z"
   },
   {
    "duration": 0,
    "start_time": "2023-09-12T07:01:18.048Z"
   },
   {
    "duration": 0,
    "start_time": "2023-09-12T07:01:18.049Z"
   },
   {
    "duration": 0,
    "start_time": "2023-09-12T07:01:18.050Z"
   },
   {
    "duration": 0,
    "start_time": "2023-09-12T07:01:18.051Z"
   },
   {
    "duration": 0,
    "start_time": "2023-09-12T07:01:18.052Z"
   },
   {
    "duration": 0,
    "start_time": "2023-09-12T07:01:18.054Z"
   },
   {
    "duration": 0,
    "start_time": "2023-09-12T07:01:18.055Z"
   },
   {
    "duration": 0,
    "start_time": "2023-09-12T07:01:18.056Z"
   },
   {
    "duration": 0,
    "start_time": "2023-09-12T07:01:18.057Z"
   },
   {
    "duration": 0,
    "start_time": "2023-09-12T07:01:18.059Z"
   },
   {
    "duration": 0,
    "start_time": "2023-09-12T07:01:18.060Z"
   },
   {
    "duration": 0,
    "start_time": "2023-09-12T07:01:18.061Z"
   },
   {
    "duration": 0,
    "start_time": "2023-09-12T07:01:18.062Z"
   },
   {
    "duration": 0,
    "start_time": "2023-09-12T07:01:18.063Z"
   },
   {
    "duration": 0,
    "start_time": "2023-09-12T07:01:18.065Z"
   },
   {
    "duration": 0,
    "start_time": "2023-09-12T07:01:18.066Z"
   },
   {
    "duration": 201,
    "start_time": "2023-09-12T07:03:33.409Z"
   },
   {
    "duration": 1349,
    "start_time": "2023-09-12T07:03:40.472Z"
   },
   {
    "duration": 70,
    "start_time": "2023-09-12T07:03:41.823Z"
   },
   {
    "duration": 14,
    "start_time": "2023-09-12T07:03:41.895Z"
   },
   {
    "duration": 28,
    "start_time": "2023-09-12T07:03:41.912Z"
   },
   {
    "duration": 28,
    "start_time": "2023-09-12T07:03:41.942Z"
   },
   {
    "duration": 27,
    "start_time": "2023-09-12T07:03:41.972Z"
   },
   {
    "duration": 33,
    "start_time": "2023-09-12T07:03:42.000Z"
   },
   {
    "duration": 23,
    "start_time": "2023-09-12T07:03:42.035Z"
   },
   {
    "duration": 20,
    "start_time": "2023-09-12T07:03:42.060Z"
   },
   {
    "duration": 19,
    "start_time": "2023-09-12T07:03:42.083Z"
   },
   {
    "duration": 24,
    "start_time": "2023-09-12T07:03:42.104Z"
   },
   {
    "duration": 6,
    "start_time": "2023-09-12T07:03:42.130Z"
   },
   {
    "duration": 21,
    "start_time": "2023-09-12T07:03:42.138Z"
   },
   {
    "duration": 9,
    "start_time": "2023-09-12T07:03:42.162Z"
   },
   {
    "duration": 12,
    "start_time": "2023-09-12T07:03:42.173Z"
   },
   {
    "duration": 10,
    "start_time": "2023-09-12T07:03:42.187Z"
   },
   {
    "duration": 33,
    "start_time": "2023-09-12T07:03:42.199Z"
   },
   {
    "duration": 5,
    "start_time": "2023-09-12T07:03:42.234Z"
   },
   {
    "duration": 18,
    "start_time": "2023-09-12T07:03:42.241Z"
   },
   {
    "duration": 50,
    "start_time": "2023-09-12T07:03:42.261Z"
   },
   {
    "duration": 177,
    "start_time": "2023-09-12T07:03:42.313Z"
   },
   {
    "duration": 6,
    "start_time": "2023-09-12T07:03:42.492Z"
   },
   {
    "duration": 109,
    "start_time": "2023-09-12T07:03:42.499Z"
   },
   {
    "duration": 177,
    "start_time": "2023-09-12T07:03:42.610Z"
   },
   {
    "duration": 9,
    "start_time": "2023-09-12T07:03:42.789Z"
   },
   {
    "duration": 527,
    "start_time": "2023-09-12T07:03:42.800Z"
   },
   {
    "duration": 8,
    "start_time": "2023-09-12T07:03:43.328Z"
   },
   {
    "duration": 29,
    "start_time": "2023-09-12T07:03:43.349Z"
   },
   {
    "duration": 210,
    "start_time": "2023-09-12T07:03:43.379Z"
   },
   {
    "duration": 18,
    "start_time": "2023-09-12T07:03:43.591Z"
   },
   {
    "duration": 53,
    "start_time": "2023-09-12T07:03:43.610Z"
   },
   {
    "duration": 122,
    "start_time": "2023-09-12T07:03:43.665Z"
   },
   {
    "duration": 59,
    "start_time": "2023-09-12T07:03:43.789Z"
   },
   {
    "duration": 31,
    "start_time": "2023-09-12T07:03:43.850Z"
   },
   {
    "duration": 25,
    "start_time": "2023-09-12T07:03:43.883Z"
   },
   {
    "duration": 222,
    "start_time": "2023-09-12T07:03:43.910Z"
   },
   {
    "duration": 190,
    "start_time": "2023-09-12T07:03:44.134Z"
   },
   {
    "duration": 203,
    "start_time": "2023-09-12T07:03:44.326Z"
   },
   {
    "duration": 260,
    "start_time": "2023-09-12T07:03:44.530Z"
   },
   {
    "duration": 1032,
    "start_time": "2023-09-12T07:03:44.792Z"
   },
   {
    "duration": 4,
    "start_time": "2023-09-12T07:03:45.826Z"
   },
   {
    "duration": 22,
    "start_time": "2023-09-12T07:03:45.831Z"
   },
   {
    "duration": 5,
    "start_time": "2023-09-12T07:03:45.854Z"
   },
   {
    "duration": 14,
    "start_time": "2023-09-12T07:03:45.860Z"
   },
   {
    "duration": 4,
    "start_time": "2023-09-12T07:03:45.876Z"
   },
   {
    "duration": 168,
    "start_time": "2023-09-12T07:03:45.881Z"
   },
   {
    "duration": 6,
    "start_time": "2023-09-12T07:03:46.051Z"
   },
   {
    "duration": 118,
    "start_time": "2023-09-12T07:03:46.059Z"
   },
   {
    "duration": 5,
    "start_time": "2023-09-12T07:03:46.179Z"
   },
   {
    "duration": 914,
    "start_time": "2023-09-12T07:03:46.186Z"
   },
   {
    "duration": 5,
    "start_time": "2023-09-12T07:03:47.101Z"
   },
   {
    "duration": 18,
    "start_time": "2023-09-12T07:03:47.108Z"
   },
   {
    "duration": 12,
    "start_time": "2023-09-12T07:12:18.932Z"
   },
   {
    "duration": 1546,
    "start_time": "2023-10-17T15:52:59.851Z"
   },
   {
    "duration": 304,
    "start_time": "2023-10-17T15:53:01.400Z"
   },
   {
    "duration": 14,
    "start_time": "2023-10-17T15:53:01.706Z"
   },
   {
    "duration": 140,
    "start_time": "2023-10-17T15:53:01.723Z"
   },
   {
    "duration": 88,
    "start_time": "2023-10-17T15:53:01.865Z"
   },
   {
    "duration": 91,
    "start_time": "2023-10-17T15:53:01.955Z"
   },
   {
    "duration": 78,
    "start_time": "2023-10-17T15:53:02.048Z"
   },
   {
    "duration": 105,
    "start_time": "2023-10-17T15:53:02.128Z"
   },
   {
    "duration": 43,
    "start_time": "2023-10-17T15:53:02.235Z"
   },
   {
    "duration": 41,
    "start_time": "2023-10-17T15:53:02.282Z"
   },
   {
    "duration": 44,
    "start_time": "2023-10-17T15:53:02.326Z"
   },
   {
    "duration": 30,
    "start_time": "2023-10-17T15:53:02.373Z"
   },
   {
    "duration": 36,
    "start_time": "2023-10-17T15:53:02.405Z"
   },
   {
    "duration": 70,
    "start_time": "2023-10-17T15:53:02.443Z"
   },
   {
    "duration": 54,
    "start_time": "2023-10-17T15:53:02.514Z"
   },
   {
    "duration": 35,
    "start_time": "2023-10-17T15:53:02.571Z"
   },
   {
    "duration": 102,
    "start_time": "2023-10-17T15:53:02.608Z"
   },
   {
    "duration": 59,
    "start_time": "2023-10-17T15:53:02.713Z"
   },
   {
    "duration": 90,
    "start_time": "2023-10-17T15:53:02.774Z"
   },
   {
    "duration": 188,
    "start_time": "2023-10-17T15:53:02.866Z"
   },
   {
    "duration": 277,
    "start_time": "2023-10-17T15:53:03.056Z"
   },
   {
    "duration": 94,
    "start_time": "2023-10-17T15:53:03.336Z"
   },
   {
    "duration": 54,
    "start_time": "2023-10-17T15:53:03.432Z"
   },
   {
    "duration": 34,
    "start_time": "2023-10-17T15:53:03.488Z"
   },
   {
    "duration": 203,
    "start_time": "2023-10-17T15:53:03.524Z"
   },
   {
    "duration": 8,
    "start_time": "2023-10-17T15:53:03.729Z"
   },
   {
    "duration": 130,
    "start_time": "2023-10-17T15:53:03.739Z"
   },
   {
    "duration": 207,
    "start_time": "2023-10-17T15:53:03.874Z"
   },
   {
    "duration": 11,
    "start_time": "2023-10-17T15:53:04.083Z"
   },
   {
    "duration": 644,
    "start_time": "2023-10-17T15:53:04.096Z"
   },
   {
    "duration": 18,
    "start_time": "2023-10-17T15:53:04.742Z"
   },
   {
    "duration": 20,
    "start_time": "2023-10-17T15:53:04.763Z"
   },
   {
    "duration": 448,
    "start_time": "2023-10-17T15:53:04.785Z"
   },
   {
    "duration": 28,
    "start_time": "2023-10-17T15:53:05.236Z"
   },
   {
    "duration": 13,
    "start_time": "2023-10-17T15:53:05.265Z"
   },
   {
    "duration": 32,
    "start_time": "2023-10-17T15:53:05.280Z"
   },
   {
    "duration": 33,
    "start_time": "2023-10-17T15:53:05.314Z"
   },
   {
    "duration": 14,
    "start_time": "2023-10-17T15:53:05.349Z"
   },
   {
    "duration": 58,
    "start_time": "2023-10-17T15:53:05.365Z"
   },
   {
    "duration": 456,
    "start_time": "2023-10-17T15:53:05.425Z"
   },
   {
    "duration": 384,
    "start_time": "2023-10-17T15:53:05.883Z"
   },
   {
    "duration": 271,
    "start_time": "2023-10-17T15:53:06.269Z"
   },
   {
    "duration": 272,
    "start_time": "2023-10-17T15:53:06.542Z"
   },
   {
    "duration": 869,
    "start_time": "2023-10-17T15:53:06.817Z"
   },
   {
    "duration": 12,
    "start_time": "2023-10-17T15:53:07.688Z"
   },
   {
    "duration": 5,
    "start_time": "2023-10-17T15:53:07.702Z"
   },
   {
    "duration": 169,
    "start_time": "2023-10-17T15:53:07.708Z"
   },
   {
    "duration": 20,
    "start_time": "2023-10-17T15:53:07.879Z"
   },
   {
    "duration": 19,
    "start_time": "2023-10-17T15:53:07.901Z"
   },
   {
    "duration": 9,
    "start_time": "2023-10-17T15:53:07.922Z"
   },
   {
    "duration": 125,
    "start_time": "2023-10-17T15:53:07.933Z"
   },
   {
    "duration": 1113,
    "start_time": "2023-10-17T15:53:08.061Z"
   },
   {
    "duration": 6,
    "start_time": "2023-10-17T15:53:09.177Z"
   },
   {
    "duration": 21,
    "start_time": "2023-10-17T15:53:09.185Z"
   },
   {
    "duration": 24,
    "start_time": "2023-10-17T15:55:41.689Z"
   },
   {
    "duration": 1580,
    "start_time": "2023-10-17T15:59:32.316Z"
   },
   {
    "duration": 77,
    "start_time": "2023-10-17T15:59:33.898Z"
   },
   {
    "duration": 13,
    "start_time": "2023-10-17T15:59:33.977Z"
   },
   {
    "duration": 15,
    "start_time": "2023-10-17T15:59:33.993Z"
   },
   {
    "duration": 55,
    "start_time": "2023-10-17T15:59:34.010Z"
   },
   {
    "duration": 30,
    "start_time": "2023-10-17T15:59:34.066Z"
   },
   {
    "duration": 17,
    "start_time": "2023-10-17T15:59:34.097Z"
   },
   {
    "duration": 16,
    "start_time": "2023-10-17T15:59:34.116Z"
   },
   {
    "duration": 15,
    "start_time": "2023-10-17T15:59:34.134Z"
   },
   {
    "duration": 19,
    "start_time": "2023-10-17T15:59:34.152Z"
   },
   {
    "duration": 17,
    "start_time": "2023-10-17T15:59:34.172Z"
   },
   {
    "duration": 6,
    "start_time": "2023-10-17T15:59:34.190Z"
   },
   {
    "duration": 14,
    "start_time": "2023-10-17T15:59:34.198Z"
   },
   {
    "duration": 19,
    "start_time": "2023-10-17T15:59:34.215Z"
   },
   {
    "duration": 20,
    "start_time": "2023-10-17T15:59:34.237Z"
   },
   {
    "duration": 6,
    "start_time": "2023-10-17T15:59:34.259Z"
   },
   {
    "duration": 32,
    "start_time": "2023-10-17T15:59:34.266Z"
   },
   {
    "duration": 7,
    "start_time": "2023-10-17T15:59:34.300Z"
   },
   {
    "duration": 14,
    "start_time": "2023-10-17T15:59:34.308Z"
   },
   {
    "duration": 11,
    "start_time": "2023-10-17T15:59:34.325Z"
   },
   {
    "duration": 7,
    "start_time": "2023-10-17T15:59:34.356Z"
   },
   {
    "duration": 15,
    "start_time": "2023-10-17T15:59:34.364Z"
   },
   {
    "duration": 18,
    "start_time": "2023-10-17T15:59:34.381Z"
   },
   {
    "duration": 7,
    "start_time": "2023-10-17T15:59:34.401Z"
   },
   {
    "duration": 204,
    "start_time": "2023-10-17T15:59:34.410Z"
   },
   {
    "duration": 7,
    "start_time": "2023-10-17T15:59:34.616Z"
   },
   {
    "duration": 120,
    "start_time": "2023-10-17T15:59:34.626Z"
   },
   {
    "duration": 231,
    "start_time": "2023-10-17T15:59:34.750Z"
   },
   {
    "duration": 11,
    "start_time": "2023-10-17T15:59:34.983Z"
   },
   {
    "duration": 642,
    "start_time": "2023-10-17T15:59:34.996Z"
   },
   {
    "duration": 16,
    "start_time": "2023-10-17T15:59:35.640Z"
   },
   {
    "duration": 27,
    "start_time": "2023-10-17T15:59:35.659Z"
   },
   {
    "duration": 488,
    "start_time": "2023-10-17T15:59:35.689Z"
   },
   {
    "duration": 19,
    "start_time": "2023-10-17T15:59:36.179Z"
   },
   {
    "duration": 15,
    "start_time": "2023-10-17T15:59:36.200Z"
   },
   {
    "duration": 31,
    "start_time": "2023-10-17T15:59:36.218Z"
   },
   {
    "duration": 26,
    "start_time": "2023-10-17T15:59:36.252Z"
   },
   {
    "duration": 11,
    "start_time": "2023-10-17T15:59:36.280Z"
   },
   {
    "duration": 29,
    "start_time": "2023-10-17T15:59:36.293Z"
   },
   {
    "duration": 441,
    "start_time": "2023-10-17T15:59:36.324Z"
   },
   {
    "duration": 407,
    "start_time": "2023-10-17T15:59:36.768Z"
   },
   {
    "duration": 290,
    "start_time": "2023-10-17T15:59:37.178Z"
   },
   {
    "duration": 268,
    "start_time": "2023-10-17T15:59:37.470Z"
   },
   {
    "duration": 888,
    "start_time": "2023-10-17T15:59:37.740Z"
   },
   {
    "duration": 29,
    "start_time": "2023-10-17T15:59:38.630Z"
   },
   {
    "duration": 4,
    "start_time": "2023-10-17T15:59:38.661Z"
   },
   {
    "duration": 189,
    "start_time": "2023-10-17T15:59:38.667Z"
   },
   {
    "duration": 37,
    "start_time": "2023-10-17T15:59:38.859Z"
   },
   {
    "duration": 22,
    "start_time": "2023-10-17T15:59:38.899Z"
   },
   {
    "duration": 11,
    "start_time": "2023-10-17T15:59:38.924Z"
   },
   {
    "duration": 36,
    "start_time": "2023-10-17T15:59:38.938Z"
   },
   {
    "duration": 1011,
    "start_time": "2023-10-17T15:59:39.058Z"
   },
   {
    "duration": 6,
    "start_time": "2023-10-17T15:59:40.071Z"
   },
   {
    "duration": 33,
    "start_time": "2023-10-17T15:59:40.079Z"
   },
   {
    "duration": 1505,
    "start_time": "2023-10-18T14:57:50.166Z"
   },
   {
    "duration": 69,
    "start_time": "2023-10-18T14:57:51.673Z"
   },
   {
    "duration": 23,
    "start_time": "2023-10-18T14:57:51.744Z"
   },
   {
    "duration": 13,
    "start_time": "2023-10-18T14:57:51.769Z"
   },
   {
    "duration": 11,
    "start_time": "2023-10-18T14:57:51.783Z"
   },
   {
    "duration": 28,
    "start_time": "2023-10-18T14:57:51.795Z"
   },
   {
    "duration": 25,
    "start_time": "2023-10-18T14:57:51.825Z"
   },
   {
    "duration": 14,
    "start_time": "2023-10-18T14:57:51.852Z"
   },
   {
    "duration": 16,
    "start_time": "2023-10-18T14:57:51.868Z"
   },
   {
    "duration": 67,
    "start_time": "2023-10-18T14:57:51.886Z"
   },
   {
    "duration": 24,
    "start_time": "2023-10-18T14:57:51.957Z"
   },
   {
    "duration": 13,
    "start_time": "2023-10-18T14:57:51.983Z"
   },
   {
    "duration": 13,
    "start_time": "2023-10-18T14:57:51.997Z"
   },
   {
    "duration": 49,
    "start_time": "2023-10-18T14:57:52.011Z"
   },
   {
    "duration": 22,
    "start_time": "2023-10-18T14:57:52.062Z"
   },
   {
    "duration": 10,
    "start_time": "2023-10-18T14:57:52.086Z"
   },
   {
    "duration": 32,
    "start_time": "2023-10-18T14:57:52.097Z"
   },
   {
    "duration": 10,
    "start_time": "2023-10-18T14:57:52.131Z"
   },
   {
    "duration": 36,
    "start_time": "2023-10-18T14:57:52.142Z"
   },
   {
    "duration": 51,
    "start_time": "2023-10-18T14:57:52.180Z"
   },
   {
    "duration": 62,
    "start_time": "2023-10-18T14:57:52.233Z"
   },
   {
    "duration": 29,
    "start_time": "2023-10-18T14:57:52.297Z"
   },
   {
    "duration": 87,
    "start_time": "2023-10-18T14:57:52.329Z"
   },
   {
    "duration": 59,
    "start_time": "2023-10-18T14:57:52.418Z"
   },
   {
    "duration": 193,
    "start_time": "2023-10-18T14:57:52.479Z"
   },
   {
    "duration": 6,
    "start_time": "2023-10-18T14:57:52.674Z"
   },
   {
    "duration": 116,
    "start_time": "2023-10-18T14:57:52.682Z"
   },
   {
    "duration": 212,
    "start_time": "2023-10-18T14:57:52.802Z"
   },
   {
    "duration": 10,
    "start_time": "2023-10-18T14:57:53.016Z"
   },
   {
    "duration": 605,
    "start_time": "2023-10-18T14:57:53.028Z"
   },
   {
    "duration": 12,
    "start_time": "2023-10-18T14:57:53.635Z"
   },
   {
    "duration": 47,
    "start_time": "2023-10-18T14:57:53.649Z"
   },
   {
    "duration": 597,
    "start_time": "2023-10-18T14:57:53.697Z"
   },
   {
    "duration": 24,
    "start_time": "2023-10-18T14:57:54.296Z"
   },
   {
    "duration": 38,
    "start_time": "2023-10-18T14:57:54.322Z"
   },
   {
    "duration": 22,
    "start_time": "2023-10-18T14:57:54.366Z"
   },
   {
    "duration": 43,
    "start_time": "2023-10-18T14:57:54.390Z"
   },
   {
    "duration": 44,
    "start_time": "2023-10-18T14:57:54.435Z"
   },
   {
    "duration": 37,
    "start_time": "2023-10-18T14:57:54.480Z"
   },
   {
    "duration": 41,
    "start_time": "2023-10-18T14:57:54.518Z"
   },
   {
    "duration": 432,
    "start_time": "2023-10-18T14:57:54.561Z"
   },
   {
    "duration": 453,
    "start_time": "2023-10-18T14:57:54.995Z"
   },
   {
    "duration": 271,
    "start_time": "2023-10-18T14:57:55.455Z"
   },
   {
    "duration": 267,
    "start_time": "2023-10-18T14:57:55.728Z"
   },
   {
    "duration": 1292,
    "start_time": "2023-10-18T14:57:55.997Z"
   },
   {
    "duration": 4,
    "start_time": "2023-10-18T14:57:57.291Z"
   },
   {
    "duration": 878,
    "start_time": "2023-10-18T14:57:57.297Z"
   },
   {
    "duration": 10,
    "start_time": "2023-10-18T14:57:58.177Z"
   },
   {
    "duration": 11,
    "start_time": "2023-10-18T14:57:58.189Z"
   },
   {
    "duration": 10,
    "start_time": "2023-10-18T14:57:58.201Z"
   },
   {
    "duration": 183,
    "start_time": "2023-10-18T14:57:58.213Z"
   },
   {
    "duration": 13,
    "start_time": "2023-10-18T14:57:58.397Z"
   },
   {
    "duration": 44,
    "start_time": "2023-10-18T14:57:58.412Z"
   },
   {
    "duration": 1126,
    "start_time": "2023-10-18T14:57:58.461Z"
   },
   {
    "duration": 7,
    "start_time": "2023-10-18T14:57:59.588Z"
   },
   {
    "duration": 14,
    "start_time": "2023-10-18T14:57:59.597Z"
   },
   {
    "duration": 19,
    "start_time": "2023-10-18T14:57:59.613Z"
   },
   {
    "duration": 6,
    "start_time": "2023-10-18T15:00:07.865Z"
   },
   {
    "duration": 1440,
    "start_time": "2023-10-18T15:06:41.190Z"
   },
   {
    "duration": 73,
    "start_time": "2023-10-18T15:06:42.632Z"
   },
   {
    "duration": 163,
    "start_time": "2023-10-18T15:06:42.707Z"
   },
   {
    "duration": 21,
    "start_time": "2023-10-18T15:06:42.871Z"
   },
   {
    "duration": 10,
    "start_time": "2023-10-18T15:06:42.894Z"
   },
   {
    "duration": 17,
    "start_time": "2023-10-18T15:06:42.906Z"
   },
   {
    "duration": 31,
    "start_time": "2023-10-18T15:06:42.925Z"
   },
   {
    "duration": 12,
    "start_time": "2023-10-18T15:06:42.958Z"
   },
   {
    "duration": 7,
    "start_time": "2023-10-18T15:06:42.972Z"
   },
   {
    "duration": 17,
    "start_time": "2023-10-18T15:06:42.981Z"
   },
   {
    "duration": 6,
    "start_time": "2023-10-18T15:06:43.000Z"
   },
   {
    "duration": 6,
    "start_time": "2023-10-18T15:06:43.007Z"
   },
   {
    "duration": 41,
    "start_time": "2023-10-18T15:06:43.015Z"
   },
   {
    "duration": 12,
    "start_time": "2023-10-18T15:06:43.062Z"
   },
   {
    "duration": 6,
    "start_time": "2023-10-18T15:06:43.076Z"
   },
   {
    "duration": 6,
    "start_time": "2023-10-18T15:06:43.084Z"
   },
   {
    "duration": 18,
    "start_time": "2023-10-18T15:06:43.092Z"
   },
   {
    "duration": 9,
    "start_time": "2023-10-18T15:06:43.111Z"
   },
   {
    "duration": 40,
    "start_time": "2023-10-18T15:06:43.122Z"
   },
   {
    "duration": 14,
    "start_time": "2023-10-18T15:06:43.164Z"
   },
   {
    "duration": 14,
    "start_time": "2023-10-18T15:06:43.180Z"
   },
   {
    "duration": 8,
    "start_time": "2023-10-18T15:06:43.196Z"
   },
   {
    "duration": 12,
    "start_time": "2023-10-18T15:06:43.206Z"
   },
   {
    "duration": 34,
    "start_time": "2023-10-18T15:06:43.220Z"
   },
   {
    "duration": 175,
    "start_time": "2023-10-18T15:06:43.256Z"
   },
   {
    "duration": 6,
    "start_time": "2023-10-18T15:06:43.433Z"
   },
   {
    "duration": 106,
    "start_time": "2023-10-18T15:06:43.445Z"
   },
   {
    "duration": 217,
    "start_time": "2023-10-18T15:06:43.554Z"
   },
   {
    "duration": 9,
    "start_time": "2023-10-18T15:06:43.772Z"
   },
   {
    "duration": 651,
    "start_time": "2023-10-18T15:06:43.783Z"
   },
   {
    "duration": 12,
    "start_time": "2023-10-18T15:06:44.447Z"
   },
   {
    "duration": 12,
    "start_time": "2023-10-18T15:06:44.461Z"
   },
   {
    "duration": 483,
    "start_time": "2023-10-18T15:06:44.475Z"
   },
   {
    "duration": 17,
    "start_time": "2023-10-18T15:06:44.960Z"
   },
   {
    "duration": 12,
    "start_time": "2023-10-18T15:06:44.979Z"
   },
   {
    "duration": 131,
    "start_time": "2023-10-18T15:06:44.993Z"
   },
   {
    "duration": 50,
    "start_time": "2023-10-18T15:06:45.126Z"
   },
   {
    "duration": 89,
    "start_time": "2023-10-18T15:06:45.178Z"
   },
   {
    "duration": 31,
    "start_time": "2023-10-18T15:06:45.269Z"
   },
   {
    "duration": 33,
    "start_time": "2023-10-18T15:06:45.302Z"
   },
   {
    "duration": 427,
    "start_time": "2023-10-18T15:06:45.340Z"
   },
   {
    "duration": 394,
    "start_time": "2023-10-18T15:06:45.769Z"
   },
   {
    "duration": 294,
    "start_time": "2023-10-18T15:06:46.165Z"
   },
   {
    "duration": 255,
    "start_time": "2023-10-18T15:06:46.464Z"
   },
   {
    "duration": 1261,
    "start_time": "2023-10-18T15:06:46.720Z"
   },
   {
    "duration": 4,
    "start_time": "2023-10-18T15:06:47.983Z"
   },
   {
    "duration": 966,
    "start_time": "2023-10-18T15:06:47.989Z"
   },
   {
    "duration": 11,
    "start_time": "2023-10-18T15:06:48.958Z"
   },
   {
    "duration": 12,
    "start_time": "2023-10-18T15:06:48.971Z"
   },
   {
    "duration": 37,
    "start_time": "2023-10-18T15:06:48.986Z"
   },
   {
    "duration": 176,
    "start_time": "2023-10-18T15:06:49.025Z"
   },
   {
    "duration": 18,
    "start_time": "2023-10-18T15:06:49.203Z"
   },
   {
    "duration": 33,
    "start_time": "2023-10-18T15:06:49.224Z"
   },
   {
    "duration": 1131,
    "start_time": "2023-10-18T15:06:49.262Z"
   },
   {
    "duration": 11,
    "start_time": "2023-10-18T15:06:50.395Z"
   },
   {
    "duration": 5,
    "start_time": "2023-10-18T15:06:50.408Z"
   },
   {
    "duration": 34,
    "start_time": "2023-10-18T15:06:50.415Z"
   },
   {
    "duration": 2381,
    "start_time": "2023-10-19T15:56:50.240Z"
   },
   {
    "duration": 323,
    "start_time": "2023-10-19T15:56:52.623Z"
   },
   {
    "duration": 15,
    "start_time": "2023-10-19T15:56:52.948Z"
   },
   {
    "duration": 26,
    "start_time": "2023-10-19T15:56:52.966Z"
   },
   {
    "duration": 22,
    "start_time": "2023-10-19T15:56:52.994Z"
   },
   {
    "duration": 27,
    "start_time": "2023-10-19T15:56:53.018Z"
   },
   {
    "duration": 28,
    "start_time": "2023-10-19T15:56:53.048Z"
   },
   {
    "duration": 22,
    "start_time": "2023-10-19T15:56:53.078Z"
   },
   {
    "duration": 8,
    "start_time": "2023-10-19T15:56:53.102Z"
   },
   {
    "duration": 29,
    "start_time": "2023-10-19T15:56:53.113Z"
   },
   {
    "duration": 11,
    "start_time": "2023-10-19T15:56:53.144Z"
   },
   {
    "duration": 14,
    "start_time": "2023-10-19T15:56:53.162Z"
   },
   {
    "duration": 19,
    "start_time": "2023-10-19T15:56:53.178Z"
   },
   {
    "duration": 16,
    "start_time": "2023-10-19T15:56:53.199Z"
   },
   {
    "duration": 7,
    "start_time": "2023-10-19T15:56:53.217Z"
   },
   {
    "duration": 25,
    "start_time": "2023-10-19T15:56:53.226Z"
   },
   {
    "duration": 29,
    "start_time": "2023-10-19T15:56:53.254Z"
   },
   {
    "duration": 8,
    "start_time": "2023-10-19T15:56:53.285Z"
   },
   {
    "duration": 20,
    "start_time": "2023-10-19T15:56:53.295Z"
   },
   {
    "duration": 27,
    "start_time": "2023-10-19T15:56:53.317Z"
   },
   {
    "duration": 32,
    "start_time": "2023-10-19T15:56:53.346Z"
   },
   {
    "duration": 24,
    "start_time": "2023-10-19T15:56:53.380Z"
   },
   {
    "duration": 26,
    "start_time": "2023-10-19T15:56:53.406Z"
   },
   {
    "duration": 23,
    "start_time": "2023-10-19T15:56:53.434Z"
   },
   {
    "duration": 190,
    "start_time": "2023-10-19T15:56:53.459Z"
   },
   {
    "duration": 10,
    "start_time": "2023-10-19T15:56:53.651Z"
   },
   {
    "duration": 129,
    "start_time": "2023-10-19T15:56:53.664Z"
   },
   {
    "duration": 238,
    "start_time": "2023-10-19T15:56:53.797Z"
   },
   {
    "duration": 23,
    "start_time": "2023-10-19T15:56:54.036Z"
   },
   {
    "duration": 686,
    "start_time": "2023-10-19T15:56:54.061Z"
   },
   {
    "duration": 14,
    "start_time": "2023-10-19T15:56:54.749Z"
   },
   {
    "duration": 34,
    "start_time": "2023-10-19T15:56:54.765Z"
   },
   {
    "duration": 537,
    "start_time": "2023-10-19T15:56:54.801Z"
   },
   {
    "duration": 23,
    "start_time": "2023-10-19T15:56:55.340Z"
   },
   {
    "duration": 13,
    "start_time": "2023-10-19T15:56:55.365Z"
   },
   {
    "duration": 9,
    "start_time": "2023-10-19T15:56:55.380Z"
   },
   {
    "duration": 24,
    "start_time": "2023-10-19T15:56:55.391Z"
   },
   {
    "duration": 42,
    "start_time": "2023-10-19T15:56:55.417Z"
   },
   {
    "duration": 17,
    "start_time": "2023-10-19T15:56:55.461Z"
   },
   {
    "duration": 32,
    "start_time": "2023-10-19T15:56:55.480Z"
   },
   {
    "duration": 1222,
    "start_time": "2023-10-19T15:56:55.514Z"
   },
   {
    "duration": 4,
    "start_time": "2023-10-19T15:56:56.738Z"
   },
   {
    "duration": 917,
    "start_time": "2023-10-19T15:56:56.744Z"
   },
   {
    "duration": 12,
    "start_time": "2023-10-19T15:56:57.664Z"
   },
   {
    "duration": 27,
    "start_time": "2023-10-19T15:56:57.678Z"
   },
   {
    "duration": 16,
    "start_time": "2023-10-19T15:56:57.707Z"
   },
   {
    "duration": 214,
    "start_time": "2023-10-19T15:56:57.725Z"
   },
   {
    "duration": 34,
    "start_time": "2023-10-19T15:56:57.941Z"
   },
   {
    "duration": 82,
    "start_time": "2023-10-19T15:56:57.977Z"
   },
   {
    "duration": 1160,
    "start_time": "2023-10-19T15:56:58.062Z"
   },
   {
    "duration": 10,
    "start_time": "2023-10-19T15:56:59.224Z"
   },
   {
    "duration": 29,
    "start_time": "2023-10-19T15:56:59.237Z"
   },
   {
    "duration": 41,
    "start_time": "2023-10-19T15:56:59.269Z"
   },
   {
    "duration": 17,
    "start_time": "2023-10-19T15:56:59.312Z"
   },
   {
    "duration": 8,
    "start_time": "2023-10-19T15:58:00.413Z"
   },
   {
    "duration": 1567,
    "start_time": "2023-10-19T16:01:24.242Z"
   },
   {
    "duration": 79,
    "start_time": "2023-10-19T16:01:25.811Z"
   },
   {
    "duration": 16,
    "start_time": "2023-10-19T16:01:25.892Z"
   },
   {
    "duration": 14,
    "start_time": "2023-10-19T16:01:25.911Z"
   },
   {
    "duration": 25,
    "start_time": "2023-10-19T16:01:25.928Z"
   },
   {
    "duration": 22,
    "start_time": "2023-10-19T16:01:25.956Z"
   },
   {
    "duration": 15,
    "start_time": "2023-10-19T16:01:25.980Z"
   },
   {
    "duration": 14,
    "start_time": "2023-10-19T16:01:25.997Z"
   },
   {
    "duration": 8,
    "start_time": "2023-10-19T16:01:26.013Z"
   },
   {
    "duration": 22,
    "start_time": "2023-10-19T16:01:26.023Z"
   },
   {
    "duration": 9,
    "start_time": "2023-10-19T16:01:26.060Z"
   },
   {
    "duration": 15,
    "start_time": "2023-10-19T16:01:26.072Z"
   },
   {
    "duration": 11,
    "start_time": "2023-10-19T16:01:26.089Z"
   },
   {
    "duration": 13,
    "start_time": "2023-10-19T16:01:26.102Z"
   },
   {
    "duration": 7,
    "start_time": "2023-10-19T16:01:26.116Z"
   },
   {
    "duration": 33,
    "start_time": "2023-10-19T16:01:26.125Z"
   },
   {
    "duration": 27,
    "start_time": "2023-10-19T16:01:26.161Z"
   },
   {
    "duration": 7,
    "start_time": "2023-10-19T16:01:26.191Z"
   },
   {
    "duration": 17,
    "start_time": "2023-10-19T16:01:26.200Z"
   },
   {
    "duration": 18,
    "start_time": "2023-10-19T16:01:26.219Z"
   },
   {
    "duration": 28,
    "start_time": "2023-10-19T16:01:26.239Z"
   },
   {
    "duration": 25,
    "start_time": "2023-10-19T16:01:26.270Z"
   },
   {
    "duration": 29,
    "start_time": "2023-10-19T16:01:26.297Z"
   },
   {
    "duration": 25,
    "start_time": "2023-10-19T16:01:26.328Z"
   },
   {
    "duration": 176,
    "start_time": "2023-10-19T16:01:26.355Z"
   },
   {
    "duration": 6,
    "start_time": "2023-10-19T16:01:26.533Z"
   },
   {
    "duration": 112,
    "start_time": "2023-10-19T16:01:26.540Z"
   },
   {
    "duration": 242,
    "start_time": "2023-10-19T16:01:26.656Z"
   },
   {
    "duration": 10,
    "start_time": "2023-10-19T16:01:26.900Z"
   },
   {
    "duration": 664,
    "start_time": "2023-10-19T16:01:26.911Z"
   },
   {
    "duration": 9,
    "start_time": "2023-10-19T16:01:27.577Z"
   },
   {
    "duration": 26,
    "start_time": "2023-10-19T16:01:27.587Z"
   },
   {
    "duration": 556,
    "start_time": "2023-10-19T16:01:27.615Z"
   },
   {
    "duration": 20,
    "start_time": "2023-10-19T16:01:28.173Z"
   },
   {
    "duration": 14,
    "start_time": "2023-10-19T16:01:28.195Z"
   },
   {
    "duration": 20,
    "start_time": "2023-10-19T16:01:28.211Z"
   },
   {
    "duration": 33,
    "start_time": "2023-10-19T16:01:28.233Z"
   },
   {
    "duration": 23,
    "start_time": "2023-10-19T16:01:28.270Z"
   },
   {
    "duration": 16,
    "start_time": "2023-10-19T16:01:28.294Z"
   },
   {
    "duration": 22,
    "start_time": "2023-10-19T16:01:28.312Z"
   },
   {
    "duration": 1343,
    "start_time": "2023-10-19T16:01:28.336Z"
   },
   {
    "duration": 4,
    "start_time": "2023-10-19T16:01:29.681Z"
   },
   {
    "duration": 961,
    "start_time": "2023-10-19T16:01:29.687Z"
   },
   {
    "duration": 16,
    "start_time": "2023-10-19T16:01:30.650Z"
   },
   {
    "duration": 47,
    "start_time": "2023-10-19T16:01:30.669Z"
   },
   {
    "duration": 33,
    "start_time": "2023-10-19T16:01:30.718Z"
   },
   {
    "duration": 245,
    "start_time": "2023-10-19T16:01:30.753Z"
   },
   {
    "duration": 17,
    "start_time": "2023-10-19T16:01:31.000Z"
   },
   {
    "duration": 112,
    "start_time": "2023-10-19T16:01:31.019Z"
   },
   {
    "duration": 1136,
    "start_time": "2023-10-19T16:01:31.163Z"
   },
   {
    "duration": 10,
    "start_time": "2023-10-19T16:01:32.301Z"
   },
   {
    "duration": 108,
    "start_time": "2023-10-19T16:01:32.312Z"
   },
   {
    "duration": 231,
    "start_time": "2023-10-19T16:01:32.422Z"
   },
   {
    "duration": 37,
    "start_time": "2023-10-19T16:01:32.654Z"
   },
   {
    "duration": 1626,
    "start_time": "2023-10-19T16:09:02.516Z"
   },
   {
    "duration": 204,
    "start_time": "2023-10-19T16:09:04.144Z"
   },
   {
    "duration": 10,
    "start_time": "2023-10-19T16:09:04.350Z"
   },
   {
    "duration": 11,
    "start_time": "2023-10-19T16:09:04.362Z"
   },
   {
    "duration": 10,
    "start_time": "2023-10-19T16:09:04.374Z"
   },
   {
    "duration": 14,
    "start_time": "2023-10-19T16:09:04.386Z"
   },
   {
    "duration": 27,
    "start_time": "2023-10-19T16:09:04.402Z"
   },
   {
    "duration": 41,
    "start_time": "2023-10-19T16:09:04.430Z"
   },
   {
    "duration": 11,
    "start_time": "2023-10-19T16:09:04.473Z"
   },
   {
    "duration": 26,
    "start_time": "2023-10-19T16:09:04.487Z"
   },
   {
    "duration": 10,
    "start_time": "2023-10-19T16:09:04.515Z"
   },
   {
    "duration": 10,
    "start_time": "2023-10-19T16:09:04.527Z"
   },
   {
    "duration": 21,
    "start_time": "2023-10-19T16:09:04.538Z"
   },
   {
    "duration": 29,
    "start_time": "2023-10-19T16:09:04.560Z"
   },
   {
    "duration": 19,
    "start_time": "2023-10-19T16:09:04.591Z"
   },
   {
    "duration": 15,
    "start_time": "2023-10-19T16:09:04.612Z"
   },
   {
    "duration": 32,
    "start_time": "2023-10-19T16:09:04.629Z"
   },
   {
    "duration": 5,
    "start_time": "2023-10-19T16:09:04.663Z"
   },
   {
    "duration": 33,
    "start_time": "2023-10-19T16:09:04.670Z"
   },
   {
    "duration": 16,
    "start_time": "2023-10-19T16:09:04.705Z"
   },
   {
    "duration": 5,
    "start_time": "2023-10-19T16:09:04.723Z"
   },
   {
    "duration": 9,
    "start_time": "2023-10-19T16:09:04.730Z"
   },
   {
    "duration": 20,
    "start_time": "2023-10-19T16:09:04.740Z"
   },
   {
    "duration": 13,
    "start_time": "2023-10-19T16:09:04.762Z"
   },
   {
    "duration": 166,
    "start_time": "2023-10-19T16:09:04.777Z"
   },
   {
    "duration": 6,
    "start_time": "2023-10-19T16:09:04.945Z"
   },
   {
    "duration": 101,
    "start_time": "2023-10-19T16:09:04.953Z"
   },
   {
    "duration": 201,
    "start_time": "2023-10-19T16:09:05.058Z"
   },
   {
    "duration": 8,
    "start_time": "2023-10-19T16:09:05.261Z"
   },
   {
    "duration": 619,
    "start_time": "2023-10-19T16:09:05.270Z"
   },
   {
    "duration": 20,
    "start_time": "2023-10-19T16:09:05.891Z"
   },
   {
    "duration": 12,
    "start_time": "2023-10-19T16:09:05.913Z"
   },
   {
    "duration": 519,
    "start_time": "2023-10-19T16:09:05.927Z"
   },
   {
    "duration": 16,
    "start_time": "2023-10-19T16:09:06.448Z"
   },
   {
    "duration": 15,
    "start_time": "2023-10-19T16:09:06.465Z"
   },
   {
    "duration": 8,
    "start_time": "2023-10-19T16:09:06.481Z"
   },
   {
    "duration": 21,
    "start_time": "2023-10-19T16:09:06.491Z"
   },
   {
    "duration": 20,
    "start_time": "2023-10-19T16:09:06.514Z"
   },
   {
    "duration": 7,
    "start_time": "2023-10-19T16:09:06.536Z"
   },
   {
    "duration": 18,
    "start_time": "2023-10-19T16:09:06.544Z"
   },
   {
    "duration": 1148,
    "start_time": "2023-10-19T16:09:06.564Z"
   },
   {
    "duration": 6,
    "start_time": "2023-10-19T16:09:07.714Z"
   },
   {
    "duration": 896,
    "start_time": "2023-10-19T16:09:07.722Z"
   },
   {
    "duration": 8,
    "start_time": "2023-10-19T16:09:08.619Z"
   },
   {
    "duration": 32,
    "start_time": "2023-10-19T16:09:08.629Z"
   },
   {
    "duration": 32,
    "start_time": "2023-10-19T16:09:08.663Z"
   },
   {
    "duration": 212,
    "start_time": "2023-10-19T16:09:08.697Z"
   },
   {
    "duration": 14,
    "start_time": "2023-10-19T16:09:08.910Z"
   },
   {
    "duration": 33,
    "start_time": "2023-10-19T16:09:08.926Z"
   },
   {
    "duration": 894,
    "start_time": "2023-10-19T16:09:09.008Z"
   },
   {
    "duration": 7,
    "start_time": "2023-10-19T16:09:09.907Z"
   },
   {
    "duration": 6,
    "start_time": "2023-10-19T16:09:09.916Z"
   },
   {
    "duration": 13,
    "start_time": "2023-10-19T16:09:09.923Z"
   },
   {
    "duration": 24,
    "start_time": "2023-10-19T16:09:09.938Z"
   },
   {
    "duration": 4,
    "start_time": "2023-10-19T16:10:19.762Z"
   },
   {
    "duration": 188,
    "start_time": "2023-10-19T16:10:22.009Z"
   },
   {
    "duration": 13,
    "start_time": "2023-10-19T16:10:23.185Z"
   },
   {
    "duration": 1701,
    "start_time": "2023-10-19T17:57:56.703Z"
   },
   {
    "duration": 321,
    "start_time": "2023-10-19T17:57:58.407Z"
   },
   {
    "duration": 16,
    "start_time": "2023-10-19T17:57:58.730Z"
   },
   {
    "duration": 15,
    "start_time": "2023-10-19T17:57:58.748Z"
   },
   {
    "duration": 10,
    "start_time": "2023-10-19T17:57:58.765Z"
   },
   {
    "duration": 13,
    "start_time": "2023-10-19T17:57:58.777Z"
   },
   {
    "duration": 37,
    "start_time": "2023-10-19T17:57:58.792Z"
   },
   {
    "duration": 22,
    "start_time": "2023-10-19T17:57:58.832Z"
   },
   {
    "duration": 11,
    "start_time": "2023-10-19T17:57:58.857Z"
   },
   {
    "duration": 32,
    "start_time": "2023-10-19T17:57:58.872Z"
   },
   {
    "duration": 9,
    "start_time": "2023-10-19T17:57:58.907Z"
   },
   {
    "duration": 32,
    "start_time": "2023-10-19T17:57:58.919Z"
   },
   {
    "duration": 43,
    "start_time": "2023-10-19T17:57:58.954Z"
   },
   {
    "duration": 23,
    "start_time": "2023-10-19T17:57:58.999Z"
   },
   {
    "duration": 5,
    "start_time": "2023-10-19T17:57:59.025Z"
   },
   {
    "duration": 23,
    "start_time": "2023-10-19T17:57:59.033Z"
   },
   {
    "duration": 43,
    "start_time": "2023-10-19T17:57:59.058Z"
   },
   {
    "duration": 8,
    "start_time": "2023-10-19T17:57:59.104Z"
   },
   {
    "duration": 23,
    "start_time": "2023-10-19T17:57:59.114Z"
   },
   {
    "duration": 26,
    "start_time": "2023-10-19T17:57:59.140Z"
   },
   {
    "duration": 6,
    "start_time": "2023-10-19T17:57:59.168Z"
   },
   {
    "duration": 14,
    "start_time": "2023-10-19T17:57:59.177Z"
   },
   {
    "duration": 11,
    "start_time": "2023-10-19T17:57:59.193Z"
   },
   {
    "duration": 14,
    "start_time": "2023-10-19T17:57:59.206Z"
   },
   {
    "duration": 195,
    "start_time": "2023-10-19T17:57:59.221Z"
   },
   {
    "duration": 6,
    "start_time": "2023-10-19T17:57:59.418Z"
   },
   {
    "duration": 112,
    "start_time": "2023-10-19T17:57:59.426Z"
   },
   {
    "duration": 223,
    "start_time": "2023-10-19T17:57:59.543Z"
   },
   {
    "duration": 9,
    "start_time": "2023-10-19T17:57:59.769Z"
   },
   {
    "duration": 672,
    "start_time": "2023-10-19T17:57:59.780Z"
   },
   {
    "duration": 9,
    "start_time": "2023-10-19T17:58:00.457Z"
   },
   {
    "duration": 33,
    "start_time": "2023-10-19T17:58:00.468Z"
   },
   {
    "duration": 560,
    "start_time": "2023-10-19T17:58:00.503Z"
   },
   {
    "duration": 20,
    "start_time": "2023-10-19T17:58:01.065Z"
   },
   {
    "duration": 34,
    "start_time": "2023-10-19T17:58:01.088Z"
   },
   {
    "duration": 41,
    "start_time": "2023-10-19T17:58:01.124Z"
   },
   {
    "duration": 45,
    "start_time": "2023-10-19T17:58:01.166Z"
   },
   {
    "duration": 55,
    "start_time": "2023-10-19T17:58:01.213Z"
   },
   {
    "duration": 79,
    "start_time": "2023-10-19T17:58:01.270Z"
   },
   {
    "duration": 63,
    "start_time": "2023-10-19T17:58:01.350Z"
   },
   {
    "duration": 1192,
    "start_time": "2023-10-19T17:58:01.415Z"
   },
   {
    "duration": 4,
    "start_time": "2023-10-19T17:58:02.610Z"
   },
   {
    "duration": 1008,
    "start_time": "2023-10-19T17:58:02.616Z"
   },
   {
    "duration": 8,
    "start_time": "2023-10-19T17:58:03.626Z"
   },
   {
    "duration": 42,
    "start_time": "2023-10-19T17:58:03.636Z"
   },
   {
    "duration": 9,
    "start_time": "2023-10-19T17:58:03.680Z"
   },
   {
    "duration": 230,
    "start_time": "2023-10-19T17:58:03.691Z"
   },
   {
    "duration": 16,
    "start_time": "2023-10-19T17:58:03.923Z"
   },
   {
    "duration": 170,
    "start_time": "2023-10-19T17:58:03.941Z"
   },
   {
    "duration": 1075,
    "start_time": "2023-10-19T17:58:04.112Z"
   },
   {
    "duration": 8,
    "start_time": "2023-10-19T17:58:05.189Z"
   },
   {
    "duration": 30,
    "start_time": "2023-10-19T17:58:05.198Z"
   },
   {
    "duration": 33,
    "start_time": "2023-10-19T17:58:05.230Z"
   },
   {
    "duration": 32,
    "start_time": "2023-10-19T17:58:05.265Z"
   },
   {
    "duration": 10,
    "start_time": "2023-10-19T17:59:00.352Z"
   },
   {
    "duration": 44,
    "start_time": "2023-10-20T04:08:45.749Z"
   },
   {
    "duration": 1536,
    "start_time": "2023-10-20T04:08:54.534Z"
   },
   {
    "duration": 201,
    "start_time": "2023-10-20T04:08:56.071Z"
   },
   {
    "duration": 12,
    "start_time": "2023-10-20T04:08:56.274Z"
   },
   {
    "duration": 25,
    "start_time": "2023-10-20T04:08:56.288Z"
   },
   {
    "duration": 27,
    "start_time": "2023-10-20T04:08:56.315Z"
   },
   {
    "duration": 38,
    "start_time": "2023-10-20T04:08:56.344Z"
   },
   {
    "duration": 18,
    "start_time": "2023-10-20T04:08:56.384Z"
   },
   {
    "duration": 27,
    "start_time": "2023-10-20T04:08:56.404Z"
   },
   {
    "duration": 18,
    "start_time": "2023-10-20T04:08:56.433Z"
   },
   {
    "duration": 19,
    "start_time": "2023-10-20T04:08:56.453Z"
   },
   {
    "duration": 19,
    "start_time": "2023-10-20T04:08:56.474Z"
   },
   {
    "duration": 17,
    "start_time": "2023-10-20T04:08:56.495Z"
   },
   {
    "duration": 52,
    "start_time": "2023-10-20T04:08:56.514Z"
   },
   {
    "duration": 33,
    "start_time": "2023-10-20T04:08:56.568Z"
   },
   {
    "duration": 8,
    "start_time": "2023-10-20T04:08:56.602Z"
   },
   {
    "duration": 13,
    "start_time": "2023-10-20T04:08:56.612Z"
   },
   {
    "duration": 14,
    "start_time": "2023-10-20T04:08:56.627Z"
   },
   {
    "duration": 5,
    "start_time": "2023-10-20T04:08:56.642Z"
   },
   {
    "duration": 9,
    "start_time": "2023-10-20T04:08:56.649Z"
   },
   {
    "duration": 14,
    "start_time": "2023-10-20T04:08:56.660Z"
   },
   {
    "duration": 11,
    "start_time": "2023-10-20T04:08:56.675Z"
   },
   {
    "duration": 22,
    "start_time": "2023-10-20T04:08:56.687Z"
   },
   {
    "duration": 13,
    "start_time": "2023-10-20T04:08:56.710Z"
   },
   {
    "duration": 6,
    "start_time": "2023-10-20T04:08:56.725Z"
   },
   {
    "duration": 156,
    "start_time": "2023-10-20T04:08:56.732Z"
   },
   {
    "duration": 6,
    "start_time": "2023-10-20T04:08:56.889Z"
   },
   {
    "duration": 87,
    "start_time": "2023-10-20T04:08:56.897Z"
   },
   {
    "duration": 194,
    "start_time": "2023-10-20T04:08:56.987Z"
   },
   {
    "duration": 10,
    "start_time": "2023-10-20T04:08:57.183Z"
   },
   {
    "duration": 558,
    "start_time": "2023-10-20T04:08:57.206Z"
   },
   {
    "duration": 8,
    "start_time": "2023-10-20T04:08:57.766Z"
   },
   {
    "duration": 9,
    "start_time": "2023-10-20T04:08:57.776Z"
   },
   {
    "duration": 438,
    "start_time": "2023-10-20T04:08:57.787Z"
   },
   {
    "duration": 16,
    "start_time": "2023-10-20T04:08:58.227Z"
   },
   {
    "duration": 31,
    "start_time": "2023-10-20T04:08:58.244Z"
   },
   {
    "duration": 30,
    "start_time": "2023-10-20T04:08:58.276Z"
   },
   {
    "duration": 27,
    "start_time": "2023-10-20T04:08:58.308Z"
   },
   {
    "duration": 18,
    "start_time": "2023-10-20T04:08:58.337Z"
   },
   {
    "duration": 7,
    "start_time": "2023-10-20T04:08:58.357Z"
   },
   {
    "duration": 21,
    "start_time": "2023-10-20T04:08:58.365Z"
   },
   {
    "duration": 1035,
    "start_time": "2023-10-20T04:08:58.388Z"
   },
   {
    "duration": 4,
    "start_time": "2023-10-20T04:08:59.425Z"
   },
   {
    "duration": 751,
    "start_time": "2023-10-20T04:08:59.431Z"
   },
   {
    "duration": 8,
    "start_time": "2023-10-20T04:09:00.184Z"
   },
   {
    "duration": 61,
    "start_time": "2023-10-20T04:09:00.194Z"
   },
   {
    "duration": 38,
    "start_time": "2023-10-20T04:09:00.257Z"
   },
   {
    "duration": 202,
    "start_time": "2023-10-20T04:09:00.297Z"
   },
   {
    "duration": 15,
    "start_time": "2023-10-20T04:09:00.501Z"
   },
   {
    "duration": 15,
    "start_time": "2023-10-20T04:13:05.667Z"
   },
   {
    "duration": 21,
    "start_time": "2023-10-20T04:13:11.203Z"
   },
   {
    "duration": 13,
    "start_time": "2023-10-20T04:13:22.170Z"
   },
   {
    "duration": 185,
    "start_time": "2023-10-20T04:54:34.126Z"
   },
   {
    "duration": 3,
    "start_time": "2023-10-20T05:00:06.215Z"
   },
   {
    "duration": 162,
    "start_time": "2023-10-20T05:00:07.389Z"
   },
   {
    "duration": 96,
    "start_time": "2023-10-20T05:00:08.631Z"
   },
   {
    "duration": 13,
    "start_time": "2023-10-20T05:00:32.005Z"
   },
   {
    "duration": 10,
    "start_time": "2023-10-20T05:00:51.601Z"
   },
   {
    "duration": 7,
    "start_time": "2023-10-20T05:01:04.446Z"
   },
   {
    "duration": 15,
    "start_time": "2023-10-20T05:01:06.692Z"
   },
   {
    "duration": 24,
    "start_time": "2023-10-20T05:08:54.963Z"
   },
   {
    "duration": 13,
    "start_time": "2023-10-20T05:09:03.682Z"
   },
   {
    "duration": 4,
    "start_time": "2023-10-20T05:11:16.942Z"
   },
   {
    "duration": 3,
    "start_time": "2023-10-20T05:15:31.777Z"
   },
   {
    "duration": 170,
    "start_time": "2023-10-20T05:15:33.821Z"
   },
   {
    "duration": 10,
    "start_time": "2023-10-20T05:15:35.611Z"
   },
   {
    "duration": 14,
    "start_time": "2023-10-20T05:15:37.189Z"
   },
   {
    "duration": 2009,
    "start_time": "2023-10-20T13:52:09.072Z"
   },
   {
    "duration": 71,
    "start_time": "2023-10-20T13:52:11.083Z"
   },
   {
    "duration": 15,
    "start_time": "2023-10-20T13:52:11.155Z"
   },
   {
    "duration": 30,
    "start_time": "2023-10-20T13:52:11.172Z"
   },
   {
    "duration": 20,
    "start_time": "2023-10-20T13:52:11.204Z"
   },
   {
    "duration": 41,
    "start_time": "2023-10-20T13:52:11.226Z"
   },
   {
    "duration": 20,
    "start_time": "2023-10-20T13:52:11.269Z"
   },
   {
    "duration": 25,
    "start_time": "2023-10-20T13:52:11.290Z"
   },
   {
    "duration": 13,
    "start_time": "2023-10-20T13:52:11.317Z"
   },
   {
    "duration": 13,
    "start_time": "2023-10-20T13:52:11.332Z"
   },
   {
    "duration": 22,
    "start_time": "2023-10-20T13:52:11.347Z"
   },
   {
    "duration": 19,
    "start_time": "2023-10-20T13:52:11.371Z"
   },
   {
    "duration": 11,
    "start_time": "2023-10-20T13:52:11.391Z"
   },
   {
    "duration": 23,
    "start_time": "2023-10-20T13:52:11.404Z"
   },
   {
    "duration": 24,
    "start_time": "2023-10-20T13:52:11.429Z"
   },
   {
    "duration": 22,
    "start_time": "2023-10-20T13:52:11.455Z"
   },
   {
    "duration": 20,
    "start_time": "2023-10-20T13:52:11.478Z"
   },
   {
    "duration": 9,
    "start_time": "2023-10-20T13:52:11.499Z"
   },
   {
    "duration": 17,
    "start_time": "2023-10-20T13:52:11.510Z"
   },
   {
    "duration": 15,
    "start_time": "2023-10-20T13:52:11.529Z"
   },
   {
    "duration": 8,
    "start_time": "2023-10-20T13:52:11.545Z"
   },
   {
    "duration": 13,
    "start_time": "2023-10-20T13:52:11.554Z"
   },
   {
    "duration": 11,
    "start_time": "2023-10-20T13:52:11.569Z"
   },
   {
    "duration": 21,
    "start_time": "2023-10-20T13:52:11.581Z"
   },
   {
    "duration": 175,
    "start_time": "2023-10-20T13:52:11.604Z"
   },
   {
    "duration": 7,
    "start_time": "2023-10-20T13:52:11.780Z"
   },
   {
    "duration": 135,
    "start_time": "2023-10-20T13:52:11.789Z"
   },
   {
    "duration": 219,
    "start_time": "2023-10-20T13:52:11.928Z"
   },
   {
    "duration": 9,
    "start_time": "2023-10-20T13:52:12.149Z"
   },
   {
    "duration": 641,
    "start_time": "2023-10-20T13:52:12.160Z"
   },
   {
    "duration": 8,
    "start_time": "2023-10-20T13:52:12.803Z"
   },
   {
    "duration": 15,
    "start_time": "2023-10-20T13:52:12.813Z"
   },
   {
    "duration": 432,
    "start_time": "2023-10-20T13:52:12.829Z"
   },
   {
    "duration": 19,
    "start_time": "2023-10-20T13:52:13.263Z"
   },
   {
    "duration": 27,
    "start_time": "2023-10-20T13:52:13.284Z"
   },
   {
    "duration": 15,
    "start_time": "2023-10-20T13:52:13.312Z"
   },
   {
    "duration": 21,
    "start_time": "2023-10-20T13:52:13.328Z"
   },
   {
    "duration": 26,
    "start_time": "2023-10-20T13:52:13.350Z"
   },
   {
    "duration": 16,
    "start_time": "2023-10-20T13:52:13.378Z"
   },
   {
    "duration": 24,
    "start_time": "2023-10-20T13:52:13.396Z"
   },
   {
    "duration": 1269,
    "start_time": "2023-10-20T13:52:13.422Z"
   },
   {
    "duration": 13,
    "start_time": "2023-10-20T13:52:14.693Z"
   },
   {
    "duration": 979,
    "start_time": "2023-10-20T13:52:14.708Z"
   },
   {
    "duration": 12,
    "start_time": "2023-10-20T13:52:15.689Z"
   },
   {
    "duration": 140,
    "start_time": "2023-10-20T13:52:15.703Z"
   },
   {
    "duration": 14,
    "start_time": "2023-10-20T13:52:15.845Z"
   },
   {
    "duration": 203,
    "start_time": "2023-10-20T13:52:15.861Z"
   },
   {
    "duration": 10,
    "start_time": "2023-10-20T13:52:16.065Z"
   },
   {
    "duration": 50,
    "start_time": "2023-10-20T13:52:16.077Z"
   },
   {
    "duration": 33,
    "start_time": "2023-10-20T13:52:16.130Z"
   },
   {
    "duration": 1073,
    "start_time": "2023-10-20T13:52:16.165Z"
   },
   {
    "duration": 7,
    "start_time": "2023-10-20T13:52:17.240Z"
   },
   {
    "duration": 25,
    "start_time": "2023-10-20T13:52:17.249Z"
   },
   {
    "duration": 26,
    "start_time": "2023-10-20T13:52:17.276Z"
   },
   {
    "duration": 8,
    "start_time": "2023-10-20T13:52:17.304Z"
   },
   {
    "duration": 6,
    "start_time": "2023-10-20T13:52:38.342Z"
   },
   {
    "duration": 9,
    "start_time": "2023-10-23T04:13:18.857Z"
   },
   {
    "duration": 1848,
    "start_time": "2023-10-23T04:13:29.678Z"
   },
   {
    "duration": 247,
    "start_time": "2023-10-23T04:13:31.533Z"
   },
   {
    "duration": 18,
    "start_time": "2023-10-23T04:13:31.782Z"
   },
   {
    "duration": 23,
    "start_time": "2023-10-23T04:13:31.810Z"
   },
   {
    "duration": 42,
    "start_time": "2023-10-23T04:13:31.835Z"
   },
   {
    "duration": 35,
    "start_time": "2023-10-23T04:13:31.878Z"
   },
   {
    "duration": 26,
    "start_time": "2023-10-23T04:13:31.919Z"
   },
   {
    "duration": 42,
    "start_time": "2023-10-23T04:13:31.947Z"
   },
   {
    "duration": 21,
    "start_time": "2023-10-23T04:13:31.991Z"
   },
   {
    "duration": 31,
    "start_time": "2023-10-23T04:13:32.025Z"
   },
   {
    "duration": 8,
    "start_time": "2023-10-23T04:13:32.058Z"
   },
   {
    "duration": 22,
    "start_time": "2023-10-23T04:13:32.067Z"
   },
   {
    "duration": 33,
    "start_time": "2023-10-23T04:13:32.091Z"
   },
   {
    "duration": 12,
    "start_time": "2023-10-23T04:13:32.126Z"
   },
   {
    "duration": 20,
    "start_time": "2023-10-23T04:13:32.140Z"
   },
   {
    "duration": 19,
    "start_time": "2023-10-23T04:13:32.161Z"
   },
   {
    "duration": 27,
    "start_time": "2023-10-23T04:13:32.181Z"
   },
   {
    "duration": 18,
    "start_time": "2023-10-23T04:13:32.209Z"
   },
   {
    "duration": 40,
    "start_time": "2023-10-23T04:13:32.229Z"
   },
   {
    "duration": 27,
    "start_time": "2023-10-23T04:13:32.272Z"
   },
   {
    "duration": 32,
    "start_time": "2023-10-23T04:13:32.301Z"
   },
   {
    "duration": 61,
    "start_time": "2023-10-23T04:13:32.335Z"
   },
   {
    "duration": 71,
    "start_time": "2023-10-23T04:13:32.399Z"
   },
   {
    "duration": 21,
    "start_time": "2023-10-23T04:13:32.472Z"
   },
   {
    "duration": 189,
    "start_time": "2023-10-23T04:13:32.495Z"
   },
   {
    "duration": 5,
    "start_time": "2023-10-23T04:13:32.686Z"
   },
   {
    "duration": 114,
    "start_time": "2023-10-23T04:13:32.709Z"
   },
   {
    "duration": 215,
    "start_time": "2023-10-23T04:13:32.830Z"
   },
   {
    "duration": 11,
    "start_time": "2023-10-23T04:13:33.047Z"
   },
   {
    "duration": 792,
    "start_time": "2023-10-23T04:13:33.060Z"
   },
   {
    "duration": 8,
    "start_time": "2023-10-23T04:13:33.854Z"
   },
   {
    "duration": 15,
    "start_time": "2023-10-23T04:13:33.864Z"
   },
   {
    "duration": 585,
    "start_time": "2023-10-23T04:13:33.881Z"
   },
   {
    "duration": 22,
    "start_time": "2023-10-23T04:13:34.468Z"
   },
   {
    "duration": 22,
    "start_time": "2023-10-23T04:13:34.493Z"
   },
   {
    "duration": 18,
    "start_time": "2023-10-23T04:13:34.521Z"
   },
   {
    "duration": 28,
    "start_time": "2023-10-23T04:13:34.541Z"
   },
   {
    "duration": 31,
    "start_time": "2023-10-23T04:13:34.571Z"
   },
   {
    "duration": 40,
    "start_time": "2023-10-23T04:13:34.604Z"
   },
   {
    "duration": 33,
    "start_time": "2023-10-23T04:13:34.648Z"
   },
   {
    "duration": 1295,
    "start_time": "2023-10-23T04:13:34.684Z"
   },
   {
    "duration": 4,
    "start_time": "2023-10-23T04:13:35.982Z"
   },
   {
    "duration": 997,
    "start_time": "2023-10-23T04:13:35.988Z"
   },
   {
    "duration": 23,
    "start_time": "2023-10-23T04:13:36.987Z"
   },
   {
    "duration": 21,
    "start_time": "2023-10-23T04:13:37.017Z"
   },
   {
    "duration": 3,
    "start_time": "2023-10-23T04:13:37.040Z"
   },
   {
    "duration": 192,
    "start_time": "2023-10-23T04:13:37.045Z"
   },
   {
    "duration": 11,
    "start_time": "2023-10-23T04:13:37.241Z"
   },
   {
    "duration": 35,
    "start_time": "2023-10-23T04:13:37.253Z"
   },
   {
    "duration": 42,
    "start_time": "2023-10-23T04:13:37.291Z"
   },
   {
    "duration": 1225,
    "start_time": "2023-10-23T04:13:37.335Z"
   },
   {
    "duration": 9,
    "start_time": "2023-10-23T04:13:38.562Z"
   },
   {
    "duration": 18,
    "start_time": "2023-10-23T04:13:38.573Z"
   },
   {
    "duration": 23,
    "start_time": "2023-10-23T04:13:38.601Z"
   },
   {
    "duration": 14,
    "start_time": "2023-10-23T04:13:38.628Z"
   },
   {
    "duration": 14,
    "start_time": "2023-10-23T04:15:39.039Z"
   },
   {
    "duration": 15,
    "start_time": "2023-10-23T04:15:50.782Z"
   },
   {
    "duration": 21,
    "start_time": "2023-10-23T04:16:16.197Z"
   },
   {
    "duration": 14,
    "start_time": "2023-10-23T04:16:21.159Z"
   },
   {
    "duration": 18,
    "start_time": "2023-10-23T04:16:28.330Z"
   },
   {
    "duration": 16,
    "start_time": "2023-10-23T04:16:33.392Z"
   },
   {
    "duration": 159,
    "start_time": "2023-10-23T04:17:29.728Z"
   },
   {
    "duration": 18,
    "start_time": "2023-10-23T04:18:02.119Z"
   },
   {
    "duration": 14,
    "start_time": "2023-10-23T04:18:11.533Z"
   },
   {
    "duration": 17,
    "start_time": "2023-10-23T04:18:26.430Z"
   },
   {
    "duration": 1408,
    "start_time": "2023-10-23T07:56:35.087Z"
   },
   {
    "duration": 67,
    "start_time": "2023-10-23T07:56:36.497Z"
   },
   {
    "duration": 11,
    "start_time": "2023-10-23T07:56:36.565Z"
   },
   {
    "duration": 49,
    "start_time": "2023-10-23T07:56:36.579Z"
   },
   {
    "duration": 33,
    "start_time": "2023-10-23T07:56:36.629Z"
   },
   {
    "duration": 19,
    "start_time": "2023-10-23T07:56:36.664Z"
   },
   {
    "duration": 18,
    "start_time": "2023-10-23T07:56:36.685Z"
   },
   {
    "duration": 14,
    "start_time": "2023-10-23T07:56:36.705Z"
   },
   {
    "duration": 6,
    "start_time": "2023-10-23T07:56:36.720Z"
   },
   {
    "duration": 11,
    "start_time": "2023-10-23T07:56:36.729Z"
   },
   {
    "duration": 6,
    "start_time": "2023-10-23T07:56:36.742Z"
   },
   {
    "duration": 5,
    "start_time": "2023-10-23T07:56:36.749Z"
   },
   {
    "duration": 32,
    "start_time": "2023-10-23T07:56:36.756Z"
   },
   {
    "duration": 30,
    "start_time": "2023-10-23T07:56:36.789Z"
   },
   {
    "duration": 15,
    "start_time": "2023-10-23T07:56:36.820Z"
   },
   {
    "duration": 10,
    "start_time": "2023-10-23T07:56:36.836Z"
   },
   {
    "duration": 33,
    "start_time": "2023-10-23T07:56:36.848Z"
   },
   {
    "duration": 38,
    "start_time": "2023-10-23T07:56:36.883Z"
   },
   {
    "duration": 26,
    "start_time": "2023-10-23T07:56:36.923Z"
   },
   {
    "duration": 25,
    "start_time": "2023-10-23T07:56:36.951Z"
   },
   {
    "duration": 35,
    "start_time": "2023-10-23T07:56:36.978Z"
   },
   {
    "duration": 18,
    "start_time": "2023-10-23T07:56:37.015Z"
   },
   {
    "duration": 12,
    "start_time": "2023-10-23T07:56:37.035Z"
   },
   {
    "duration": 23,
    "start_time": "2023-10-23T07:56:37.049Z"
   },
   {
    "duration": 172,
    "start_time": "2023-10-23T07:56:37.074Z"
   },
   {
    "duration": 6,
    "start_time": "2023-10-23T07:56:37.247Z"
   },
   {
    "duration": 100,
    "start_time": "2023-10-23T07:56:37.255Z"
   },
   {
    "duration": 200,
    "start_time": "2023-10-23T07:56:37.359Z"
   },
   {
    "duration": 10,
    "start_time": "2023-10-23T07:56:37.560Z"
   },
   {
    "duration": 639,
    "start_time": "2023-10-23T07:56:37.571Z"
   },
   {
    "duration": 7,
    "start_time": "2023-10-23T07:56:38.212Z"
   },
   {
    "duration": 15,
    "start_time": "2023-10-23T07:56:38.221Z"
   },
   {
    "duration": 449,
    "start_time": "2023-10-23T07:56:38.243Z"
   },
   {
    "duration": 15,
    "start_time": "2023-10-23T07:56:38.694Z"
   },
   {
    "duration": 22,
    "start_time": "2023-10-23T07:56:38.711Z"
   },
   {
    "duration": 17,
    "start_time": "2023-10-23T07:56:38.735Z"
   },
   {
    "duration": 37,
    "start_time": "2023-10-23T07:56:38.754Z"
   },
   {
    "duration": 26,
    "start_time": "2023-10-23T07:56:38.793Z"
   },
   {
    "duration": 9,
    "start_time": "2023-10-23T07:56:38.821Z"
   },
   {
    "duration": 18,
    "start_time": "2023-10-23T07:56:38.832Z"
   },
   {
    "duration": 1133,
    "start_time": "2023-10-23T07:56:38.851Z"
   },
   {
    "duration": 3,
    "start_time": "2023-10-23T07:56:39.986Z"
   },
   {
    "duration": 825,
    "start_time": "2023-10-23T07:56:39.991Z"
   },
   {
    "duration": 6,
    "start_time": "2023-10-23T07:56:40.818Z"
   },
   {
    "duration": 25,
    "start_time": "2023-10-23T07:56:40.826Z"
   },
   {
    "duration": 3,
    "start_time": "2023-10-23T07:56:40.853Z"
   },
   {
    "duration": 208,
    "start_time": "2023-10-23T07:56:40.857Z"
   },
   {
    "duration": 7,
    "start_time": "2023-10-23T07:56:41.067Z"
   },
   {
    "duration": 34,
    "start_time": "2023-10-23T07:56:41.076Z"
   },
   {
    "duration": 38,
    "start_time": "2023-10-23T07:56:41.111Z"
   },
   {
    "duration": 953,
    "start_time": "2023-10-23T07:56:41.151Z"
   },
   {
    "duration": 6,
    "start_time": "2023-10-23T07:56:42.106Z"
   },
   {
    "duration": 20,
    "start_time": "2023-10-23T07:56:42.114Z"
   },
   {
    "duration": 27,
    "start_time": "2023-10-23T07:56:42.135Z"
   },
   {
    "duration": 32,
    "start_time": "2023-10-23T07:56:42.164Z"
   },
   {
    "duration": 6,
    "start_time": "2023-10-23T07:57:08.277Z"
   },
   {
    "duration": 1811,
    "start_time": "2023-10-23T10:00:59.304Z"
   },
   {
    "duration": 309,
    "start_time": "2023-10-23T10:01:01.118Z"
   },
   {
    "duration": 15,
    "start_time": "2023-10-23T10:01:01.429Z"
   },
   {
    "duration": 60,
    "start_time": "2023-10-23T10:01:01.446Z"
   },
   {
    "duration": 83,
    "start_time": "2023-10-23T10:01:01.508Z"
   },
   {
    "duration": 72,
    "start_time": "2023-10-23T10:01:01.593Z"
   },
   {
    "duration": 101,
    "start_time": "2023-10-23T10:01:01.667Z"
   },
   {
    "duration": 67,
    "start_time": "2023-10-23T10:01:01.770Z"
   },
   {
    "duration": 62,
    "start_time": "2023-10-23T10:01:01.839Z"
   },
   {
    "duration": 80,
    "start_time": "2023-10-23T10:01:01.904Z"
   },
   {
    "duration": 78,
    "start_time": "2023-10-23T10:01:01.986Z"
   },
   {
    "duration": 76,
    "start_time": "2023-10-23T10:01:02.066Z"
   },
   {
    "duration": 59,
    "start_time": "2023-10-23T10:01:02.144Z"
   },
   {
    "duration": 63,
    "start_time": "2023-10-23T10:01:02.205Z"
   },
   {
    "duration": 42,
    "start_time": "2023-10-23T10:01:02.269Z"
   },
   {
    "duration": 49,
    "start_time": "2023-10-23T10:01:02.313Z"
   },
   {
    "duration": 50,
    "start_time": "2023-10-23T10:01:02.364Z"
   },
   {
    "duration": 27,
    "start_time": "2023-10-23T10:01:02.416Z"
   },
   {
    "duration": 48,
    "start_time": "2023-10-23T10:01:02.444Z"
   },
   {
    "duration": 38,
    "start_time": "2023-10-23T10:01:02.494Z"
   },
   {
    "duration": 35,
    "start_time": "2023-10-23T10:01:02.535Z"
   },
   {
    "duration": 37,
    "start_time": "2023-10-23T10:01:02.573Z"
   },
   {
    "duration": 38,
    "start_time": "2023-10-23T10:01:02.612Z"
   },
   {
    "duration": 34,
    "start_time": "2023-10-23T10:01:02.652Z"
   },
   {
    "duration": 202,
    "start_time": "2023-10-23T10:01:02.688Z"
   },
   {
    "duration": 7,
    "start_time": "2023-10-23T10:01:02.892Z"
   },
   {
    "duration": 193,
    "start_time": "2023-10-23T10:01:02.901Z"
   },
   {
    "duration": 246,
    "start_time": "2023-10-23T10:01:03.097Z"
   },
   {
    "duration": 20,
    "start_time": "2023-10-23T10:01:03.345Z"
   },
   {
    "duration": 592,
    "start_time": "2023-10-23T10:01:03.367Z"
   },
   {
    "duration": 9,
    "start_time": "2023-10-23T10:01:03.962Z"
   },
   {
    "duration": 10,
    "start_time": "2023-10-23T10:01:03.973Z"
   },
   {
    "duration": 547,
    "start_time": "2023-10-23T10:01:03.985Z"
   },
   {
    "duration": 24,
    "start_time": "2023-10-23T10:01:04.534Z"
   },
   {
    "duration": 13,
    "start_time": "2023-10-23T10:01:04.560Z"
   },
   {
    "duration": 10,
    "start_time": "2023-10-23T10:01:04.575Z"
   },
   {
    "duration": 13,
    "start_time": "2023-10-23T10:01:04.587Z"
   },
   {
    "duration": 21,
    "start_time": "2023-10-23T10:01:04.602Z"
   },
   {
    "duration": 33,
    "start_time": "2023-10-23T10:01:04.625Z"
   },
   {
    "duration": 21,
    "start_time": "2023-10-23T10:01:04.660Z"
   },
   {
    "duration": 1230,
    "start_time": "2023-10-23T10:01:04.683Z"
   },
   {
    "duration": 4,
    "start_time": "2023-10-23T10:01:05.915Z"
   },
   {
    "duration": 958,
    "start_time": "2023-10-23T10:01:05.922Z"
   },
   {
    "duration": 9,
    "start_time": "2023-10-23T10:01:06.882Z"
   },
   {
    "duration": 33,
    "start_time": "2023-10-23T10:01:06.893Z"
   },
   {
    "duration": 4,
    "start_time": "2023-10-23T10:01:12.580Z"
   },
   {
    "duration": 210,
    "start_time": "2023-10-23T10:01:15.455Z"
   },
   {
    "duration": 12,
    "start_time": "2023-10-23T10:01:16.819Z"
   },
   {
    "duration": 16,
    "start_time": "2023-10-23T10:01:22.094Z"
   },
   {
    "duration": 21,
    "start_time": "2023-10-23T10:01:55.934Z"
   },
   {
    "duration": 4,
    "start_time": "2023-10-23T10:02:15.417Z"
   },
   {
    "duration": 174,
    "start_time": "2023-10-23T10:02:16.092Z"
   },
   {
    "duration": 8,
    "start_time": "2023-10-23T10:02:16.616Z"
   },
   {
    "duration": 16,
    "start_time": "2023-10-23T10:02:21.693Z"
   },
   {
    "duration": 19,
    "start_time": "2023-10-23T10:02:27.789Z"
   },
   {
    "duration": 4,
    "start_time": "2023-10-23T10:03:22.388Z"
   },
   {
    "duration": 203,
    "start_time": "2023-10-23T10:03:23.072Z"
   },
   {
    "duration": 9,
    "start_time": "2023-10-23T10:03:23.493Z"
   },
   {
    "duration": 20,
    "start_time": "2023-10-23T10:03:28.827Z"
   },
   {
    "duration": 20,
    "start_time": "2023-10-23T10:03:33.409Z"
   },
   {
    "duration": 1890,
    "start_time": "2023-10-23T16:39:35.063Z"
   },
   {
    "duration": 211,
    "start_time": "2023-10-23T16:39:36.956Z"
   },
   {
    "duration": 13,
    "start_time": "2023-10-23T16:39:37.169Z"
   },
   {
    "duration": 17,
    "start_time": "2023-10-23T16:39:37.183Z"
   },
   {
    "duration": 21,
    "start_time": "2023-10-23T16:39:37.202Z"
   },
   {
    "duration": 38,
    "start_time": "2023-10-23T16:39:37.225Z"
   },
   {
    "duration": 13,
    "start_time": "2023-10-23T16:39:37.265Z"
   },
   {
    "duration": 54,
    "start_time": "2023-10-23T16:39:37.279Z"
   },
   {
    "duration": 7,
    "start_time": "2023-10-23T16:39:37.335Z"
   },
   {
    "duration": 21,
    "start_time": "2023-10-23T16:39:37.344Z"
   },
   {
    "duration": 11,
    "start_time": "2023-10-23T16:39:37.367Z"
   },
   {
    "duration": 15,
    "start_time": "2023-10-23T16:39:37.379Z"
   },
   {
    "duration": 11,
    "start_time": "2023-10-23T16:39:37.396Z"
   },
   {
    "duration": 10,
    "start_time": "2023-10-23T16:39:37.410Z"
   },
   {
    "duration": 26,
    "start_time": "2023-10-23T16:39:37.422Z"
   },
   {
    "duration": 8,
    "start_time": "2023-10-23T16:39:37.450Z"
   },
   {
    "duration": 34,
    "start_time": "2023-10-23T16:39:37.460Z"
   },
   {
    "duration": 7,
    "start_time": "2023-10-23T16:39:37.496Z"
   },
   {
    "duration": 34,
    "start_time": "2023-10-23T16:39:37.505Z"
   },
   {
    "duration": 27,
    "start_time": "2023-10-23T16:39:37.541Z"
   },
   {
    "duration": 15,
    "start_time": "2023-10-23T16:39:37.569Z"
   },
   {
    "duration": 39,
    "start_time": "2023-10-23T16:39:37.585Z"
   },
   {
    "duration": 34,
    "start_time": "2023-10-23T16:39:37.626Z"
   },
   {
    "duration": 7,
    "start_time": "2023-10-23T16:39:37.662Z"
   },
   {
    "duration": 169,
    "start_time": "2023-10-23T16:39:37.672Z"
   },
   {
    "duration": 9,
    "start_time": "2023-10-23T16:39:37.843Z"
   },
   {
    "duration": 109,
    "start_time": "2023-10-23T16:39:37.854Z"
   },
   {
    "duration": 228,
    "start_time": "2023-10-23T16:39:37.964Z"
   },
   {
    "duration": 8,
    "start_time": "2023-10-23T16:39:38.194Z"
   },
   {
    "duration": 633,
    "start_time": "2023-10-23T16:39:38.204Z"
   },
   {
    "duration": 14,
    "start_time": "2023-10-23T16:39:38.839Z"
   },
   {
    "duration": 12,
    "start_time": "2023-10-23T16:39:38.854Z"
   },
   {
    "duration": 449,
    "start_time": "2023-10-23T16:39:38.868Z"
   },
   {
    "duration": 16,
    "start_time": "2023-10-23T16:39:39.320Z"
   },
   {
    "duration": 12,
    "start_time": "2023-10-23T16:39:39.347Z"
   },
   {
    "duration": 79,
    "start_time": "2023-10-23T16:39:39.360Z"
   },
   {
    "duration": 72,
    "start_time": "2023-10-23T16:39:39.441Z"
   },
   {
    "duration": 42,
    "start_time": "2023-10-23T16:39:39.514Z"
   },
   {
    "duration": 47,
    "start_time": "2023-10-23T16:39:39.558Z"
   },
   {
    "duration": 31,
    "start_time": "2023-10-23T16:39:39.607Z"
   },
   {
    "duration": 1126,
    "start_time": "2023-10-23T16:39:39.642Z"
   },
   {
    "duration": 3,
    "start_time": "2023-10-23T16:39:40.770Z"
   },
   {
    "duration": 867,
    "start_time": "2023-10-23T16:39:40.775Z"
   },
   {
    "duration": 10,
    "start_time": "2023-10-23T16:39:41.643Z"
   },
   {
    "duration": 23,
    "start_time": "2023-10-23T16:39:41.654Z"
   },
   {
    "duration": 3,
    "start_time": "2023-10-23T16:39:41.679Z"
   },
   {
    "duration": 217,
    "start_time": "2023-10-23T16:39:41.684Z"
   },
   {
    "duration": 8,
    "start_time": "2023-10-23T16:39:41.902Z"
   },
   {
    "duration": 13,
    "start_time": "2023-10-23T16:39:41.912Z"
   },
   {
    "duration": 35,
    "start_time": "2023-10-23T16:39:41.927Z"
   },
   {
    "duration": 11,
    "start_time": "2023-10-23T16:39:41.964Z"
   },
   {
    "duration": 1060,
    "start_time": "2023-10-23T16:39:41.978Z"
   },
   {
    "duration": 12,
    "start_time": "2023-10-23T16:39:43.040Z"
   },
   {
    "duration": 7,
    "start_time": "2023-10-23T16:39:43.053Z"
   },
   {
    "duration": 27,
    "start_time": "2023-10-23T16:39:43.061Z"
   },
   {
    "duration": 18,
    "start_time": "2023-10-23T16:39:43.090Z"
   },
   {
    "duration": 6,
    "start_time": "2023-10-23T16:40:18.922Z"
   }
  ],
  "celltoolbar": "Отсутствует",
  "colab": {
   "provenance": []
  },
  "kernelspec": {
   "display_name": "Python 3 (ipykernel)",
   "language": "python",
   "name": "python3"
  },
  "language_info": {
   "codemirror_mode": {
    "name": "ipython",
    "version": 3
   },
   "file_extension": ".py",
   "mimetype": "text/x-python",
   "name": "python",
   "nbconvert_exporter": "python",
   "pygments_lexer": "ipython3",
   "version": "3.12.4"
  },
  "toc": {
   "base_numbering": 1,
   "nav_menu": {},
   "number_sections": true,
   "sideBar": true,
   "skip_h1_title": true,
   "title_cell": "Table of Contents",
   "title_sidebar": "Contents",
   "toc_cell": false,
   "toc_position": {},
   "toc_section_display": true,
   "toc_window_display": false
  }
 },
 "nbformat": 4,
 "nbformat_minor": 5
}
