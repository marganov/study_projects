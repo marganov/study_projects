{
 "cells": [
  {
   "cell_type": "markdown",
   "metadata": {
    "id": "Ku4BZs6yhFwO"
   },
   "source": [
    "# Проект по исследованию поведения пользователей мобильного приложения \"Ненужные вещи\"\n"
   ]
  },
  {
   "cell_type": "markdown",
   "metadata": {
    "id": "fQg3eoiNhFwO"
   },
   "source": [
    "## Общая информация и переработка\n"
   ]
  },
  {
   "cell_type": "markdown",
   "metadata": {
    "id": "p1viPhr1hFwO"
   },
   "source": [
    "В нашем распоряжении два датасета:\n",
    "\n",
    "- `mobile_dataset.csv` с информацией о времени и действиях пользователя в мобильном приложении. Столбцы в датасете:\n",
    "\n",
    "  - `event.time` — время совершения,\n",
    "  - `user.id` — идентификатор пользователя,\n",
    "  - `event.name` — действие пользователя.\n",
    "    - `advert_open` — открыл карточки объявления,\n",
    "    - `photos_show` — просмотрел фотографий в объявлении,\n",
    "    - `tips_show` — увидел рекомендованные объявления,\n",
    "    - `tips_click` — кликнул по рекомендованному объявлению,\n",
    "    - `contacts_show` и `show_contacts` — посмотрел номер телефона,\n",
    "    - `contacts_call` — позвонил по номеру из объявления,\n",
    "    - `map` — открыл карту объявлений,\n",
    "    - `search_1` — `search_7` — разные действия, связанные с поиском по сайту,\n",
    "    - `favorites_add` — добавил объявление в избранное.\n",
    "\n",
    "- `mobile_sources.csv` с информацие об источнике, откуда пришел пользователь, содержаещего столбцы\n",
    "  - `userId` — идентификатор пользователя,\n",
    "  - `source` — источник, с которого пользователь установил приложение.\n"
   ]
  },
  {
   "cell_type": "code",
   "execution_count": 13,
   "metadata": {
    "id": "k-b8IHULhFwO"
   },
   "outputs": [],
   "source": [
    "# загрузка требуемых для работы библиотек\n",
    "import pandas as pd\n",
    "import matplotlib.pyplot as plt\n",
    "import plotly.graph_objs as go\n",
    "import plotly.express as px\n",
    "import re\n",
    "import numpy as np\n",
    "from statsmodels.stats.proportion import proportions_ztest"
   ]
  },
  {
   "cell_type": "code",
   "execution_count": 3,
   "metadata": {
    "id": "fyhyLAbehFwP"
   },
   "outputs": [],
   "source": [
    "# загрузка файлов\n",
    "mobile_dataset = pd.read_csv('datasets/mobile_dataset.csv')\n",
    "mobile_sources = pd.read_csv('datasets/mobile_sourсes.csv')"
   ]
  },
  {
   "cell_type": "markdown",
   "metadata": {
    "id": "qc44pNpphFwP"
   },
   "source": [
    "### Подробнее про `mobile_dataset` и его переработка\n"
   ]
  },
  {
   "cell_type": "code",
   "execution_count": 14,
   "metadata": {},
   "outputs": [],
   "source": [
    "from def_data_info import data_info"
   ]
  },
  {
   "cell_type": "code",
   "execution_count": 15,
   "metadata": {
    "colab": {
     "base_uri": "https://localhost:8080/",
     "height": 452
    },
    "id": "B4X9oXzAhFwP",
    "outputId": "7e4161a7-6e6e-4f48-c06b-0c83ff58dff0"
   },
   "outputs": [
    {
     "name": "stdout",
     "output_type": "stream",
     "text": [
      "Информация о данных:\n",
      "<class 'pandas.core.frame.DataFrame'>\n",
      "RangeIndex: 74197 entries, 0 to 74196\n",
      "Data columns (total 3 columns):\n",
      " #   Column      Non-Null Count  Dtype         \n",
      "---  ------      --------------  -----         \n",
      " 0   event_time  74197 non-null  datetime64[ns]\n",
      " 1   event_name  74197 non-null  object        \n",
      " 2   user_id     74197 non-null  object        \n",
      "dtypes: datetime64[ns](1), object(2)\n",
      "memory usage: 1.7+ MB\n",
      "None\n",
      "Первые строки данных:\n",
      "           event_time   event_name                               user_id\n",
      "0 2019-10-07 00:00:00  advert_open  020292ab-89bc-4156-9acf-68bc2783f894\n",
      "1 2019-10-07 00:00:01    tips_show  020292ab-89bc-4156-9acf-68bc2783f894\n",
      "2 2019-10-07 00:00:02    tips_show  cf7eda61-9349-469f-ac27-e5b6f5ec475c\n",
      "3 2019-10-07 00:00:07    tips_show  020292ab-89bc-4156-9acf-68bc2783f894\n",
      "4 2019-10-07 00:00:56  advert_open  cf7eda61-9349-469f-ac27-e5b6f5ec475c\n",
      "Найдены дубликаты:\n",
      "               event_time   event_name                               user_id\n",
      "396   2019-10-07 11:00:20    tips_show  fb667205-a708-4693-832d-363a30022cfc\n",
      "422   2019-10-07 11:10:40          map  ed13f6f0-08f4-4561-852e-456580f7a40d\n",
      "423   2019-10-07 11:10:40          map  ed13f6f0-08f4-4561-852e-456580f7a40d\n",
      "425   2019-10-07 11:10:41          map  ed13f6f0-08f4-4561-852e-456580f7a40d\n",
      "430   2019-10-07 11:11:32          map  ed13f6f0-08f4-4561-852e-456580f7a40d\n",
      "...                   ...          ...                                   ...\n",
      "73011 2019-11-03 18:02:20  photos_show  6e623c43-e219-4c27-bc29-5180d9250f8d\n",
      "73427 2019-11-03 20:09:47    tips_show  a0944ccf-5813-427a-966e-b146d4e9adbc\n",
      "73678 2019-11-03 21:10:40  photos_show  06edf71c-b725-47dc-acfe-0c78f079fe8f\n",
      "73839 2019-11-03 21:45:22  photos_show  1af9ffcd-2c77-4de0-9d35-3ff30604c9bd\n",
      "74028 2019-11-03 22:41:01    tips_show  16a5371c-152f-48d8-86fe-5636a931316b\n",
      "\n",
      "[1190 rows x 3 columns]\n"
     ]
    }
   ],
   "source": [
    "data_info(mobile_dataset)"
   ]
  },
  {
   "cell_type": "code",
   "execution_count": 16,
   "metadata": {
    "id": "SPQJMwgwhFwQ"
   },
   "outputs": [],
   "source": [
    "# camel_case для названий колонок\n",
    "mobile_dataset.rename(columns={'event.time': 'event_time',\n",
    "                      'event.name': 'event_name', 'user.id': 'user_id'}, inplace=True)"
   ]
  },
  {
   "cell_type": "code",
   "execution_count": 7,
   "metadata": {
    "id": "XVi3wHDEhFwQ"
   },
   "outputs": [],
   "source": [
    "# приведение столбца event_time к типу `datetime` и округление до секунд\n",
    "mobile_dataset['event_time'] = pd.to_datetime(\n",
    "    mobile_dataset['event_time']).dt.round('1s')"
   ]
  },
  {
   "cell_type": "code",
   "execution_count": 17,
   "metadata": {
    "colab": {
     "base_uri": "https://localhost:8080/",
     "height": 52
    },
    "id": "bIERZ8GhhFwR",
    "outputId": "6685e551-64d3-4d23-e815-373b0aa4c98e"
   },
   "outputs": [
    {
     "data": {
      "text/plain": [
       "Timestamp('2019-10-07 00:00:00')"
      ]
     },
     "metadata": {},
     "output_type": "display_data"
    },
    {
     "data": {
      "text/plain": [
       "Timestamp('2019-11-03 23:58:13')"
      ]
     },
     "metadata": {},
     "output_type": "display_data"
    }
   ],
   "source": [
    "# проверка дат\n",
    "display(mobile_dataset['event_time'].min())\n",
    "display(mobile_dataset['event_time'].max())"
   ]
  },
  {
   "cell_type": "code",
   "execution_count": 18,
   "metadata": {
    "colab": {
     "base_uri": "https://localhost:8080/"
    },
    "id": "IQKPWHUUhFwR",
    "outputId": "c8e4a491-3734-4b32-b6f9-d5fd9523b0fb"
   },
   "outputs": [
    {
     "data": {
      "text/plain": [
       "array(['advert_open', 'tips_show', 'map', 'show_contacts', 'search',\n",
       "       'tips_click', 'photos_show', 'favorites_add', 'contacts_call'],\n",
       "      dtype=object)"
      ]
     },
     "execution_count": 18,
     "metadata": {},
     "output_type": "execute_result"
    }
   ],
   "source": [
    "# проверка на соответствие с описанием данных столбца `event_name`\n",
    "mobile_dataset['event_name'].unique()"
   ]
  },
  {
   "cell_type": "code",
   "execution_count": 19,
   "metadata": {
    "id": "uCFRbYN1hFwR"
   },
   "outputs": [],
   "source": [
    "# объединим одинаковые по своей сути действия 'show_contacts' и `contacts_show`\n",
    "mobile_dataset['event_name'] = mobile_dataset['event_name'].replace(\n",
    "    {'contacts_show': 'show_contacts'}, inplace=False)"
   ]
  },
  {
   "cell_type": "markdown",
   "metadata": {
    "id": "b2_iAW6NhFwR"
   },
   "source": [
    "Поскольку в рамках данного исследования разнообразие действий связанных с поиском `search_n` нам не понадобятся, переименуем все разнообразие показателей в `search`\n"
   ]
  },
  {
   "cell_type": "code",
   "execution_count": 20,
   "metadata": {
    "id": "yBJDTKUthFwR"
   },
   "outputs": [],
   "source": [
    "mobile_dataset.loc[mobile_dataset['event_name'].str.contains(\n",
    "    'search'), 'event_name'] = 'search'"
   ]
  },
  {
   "cell_type": "code",
   "execution_count": 21,
   "metadata": {
    "colab": {
     "base_uri": "https://localhost:8080/",
     "height": 159
    },
    "id": "hszZFuQyhFwR",
    "outputId": "c3c77829-457c-48c3-9c24-f75d801d80e9"
   },
   "outputs": [
    {
     "data": {
      "text/plain": [
       "'Названия колонок в переменной mobile_dataset:'"
      ]
     },
     "metadata": {},
     "output_type": "display_data"
    },
    {
     "data": {
      "text/plain": [
       "Index(['event_time', 'event_name', 'user_id'], dtype='object')"
      ]
     },
     "metadata": {},
     "output_type": "display_data"
    },
    {
     "data": {
      "text/plain": [
       "\"Тип данных в столбце 'event_time':\""
      ]
     },
     "metadata": {},
     "output_type": "display_data"
    },
    {
     "data": {
      "text/plain": [
       "dtype('<M8[ns]')"
      ]
     },
     "metadata": {},
     "output_type": "display_data"
    },
    {
     "data": {
      "text/plain": [
       "\"Уникальные значения в столбце 'event_name':\""
      ]
     },
     "metadata": {},
     "output_type": "display_data"
    },
    {
     "data": {
      "text/plain": [
       "array(['advert_open', 'tips_show', 'map', 'show_contacts', 'search',\n",
       "       'tips_click', 'photos_show', 'favorites_add', 'contacts_call'],\n",
       "      dtype=object)"
      ]
     },
     "metadata": {},
     "output_type": "display_data"
    }
   ],
   "source": [
    "# проверка изменений\n",
    "display(\"Названия колонок в переменной mobile_dataset:\")\n",
    "display(mobile_dataset.columns)\n",
    "\n",
    "display(\"Тип данных в столбце 'event_time':\")\n",
    "display(mobile_dataset['event_time'].dtype)\n",
    "\n",
    "display(\"Уникальные значения в столбце 'event_name':\")\n",
    "display(mobile_dataset['event_name'].unique())"
   ]
  },
  {
   "cell_type": "markdown",
   "metadata": {
    "id": "dkMtp5lXhFwS"
   },
   "source": [
    "### Подробнее про `mobile_sources.csv` и его переработка\n"
   ]
  },
  {
   "cell_type": "code",
   "execution_count": 22,
   "metadata": {
    "colab": {
     "base_uri": "https://localhost:8080/",
     "height": 435
    },
    "id": "5HibAFtEhFwS",
    "outputId": "718126c9-fbb9-494d-dc98-874757d3bc39"
   },
   "outputs": [
    {
     "name": "stdout",
     "output_type": "stream",
     "text": [
      "Информация о данных:\n",
      "<class 'pandas.core.frame.DataFrame'>\n",
      "RangeIndex: 4293 entries, 0 to 4292\n",
      "Data columns (total 2 columns):\n",
      " #   Column  Non-Null Count  Dtype \n",
      "---  ------  --------------  ----- \n",
      " 0   userId  4293 non-null   object\n",
      " 1   source  4293 non-null   object\n",
      "dtypes: object(2)\n",
      "memory usage: 67.2+ KB\n",
      "None\n",
      "Первые строки данных:\n",
      "                                 userId  source\n",
      "0  020292ab-89bc-4156-9acf-68bc2783f894   other\n",
      "1  cf7eda61-9349-469f-ac27-e5b6f5ec475c  yandex\n",
      "2  8c356c42-3ba9-4cb6-80b8-3f868d0192c3  yandex\n",
      "3  d9b06b47-0f36-419b-bbb0-3533e582a6cb   other\n",
      "4  f32e1e2a-3027-4693-b793-b7b3ff274439  google\n",
      "Дубликатов не найдено.\n"
     ]
    }
   ],
   "source": [
    "data_info(mobile_sources)"
   ]
  },
  {
   "cell_type": "code",
   "execution_count": 23,
   "metadata": {
    "id": "dd2knfWdhFwS"
   },
   "outputs": [],
   "source": [
    "# camel_case для названий колонок\n",
    "mobile_sources.rename(columns={'userId': 'user_id'}, inplace=True)"
   ]
  },
  {
   "cell_type": "code",
   "execution_count": 24,
   "metadata": {
    "colab": {
     "base_uri": "https://localhost:8080/"
    },
    "id": "fua0c2GThFwS",
    "outputId": "f7ec4b76-fe0c-48b3-a08f-9c6d905d5db7"
   },
   "outputs": [
    {
     "data": {
      "text/plain": [
       "Index(['user_id', 'source'], dtype='object')"
      ]
     },
     "execution_count": 24,
     "metadata": {},
     "output_type": "execute_result"
    }
   ],
   "source": [
    "# проверка изменений\n",
    "mobile_sources.columns"
   ]
  },
  {
   "cell_type": "code",
   "execution_count": 25,
   "metadata": {
    "colab": {
     "base_uri": "https://localhost:8080/"
    },
    "id": "3HMlZDRAhFwT",
    "outputId": "b5ff9949-5623-4eac-eefd-416331fce5b3"
   },
   "outputs": [
    {
     "data": {
      "text/plain": [
       "source            3\n",
       "event_name        9\n",
       "user_id        4293\n",
       "event_time    71378\n",
       "dtype: int64"
      ]
     },
     "execution_count": 25,
     "metadata": {},
     "output_type": "execute_result"
    }
   ],
   "source": [
    "# объединим датафреймы в один и проверим уникальные значения в результирующем фрейме\n",
    "data = mobile_dataset.merge(\n",
    "    mobile_sources, left_on='user_id', right_on='user_id', how='left')\n",
    "\n",
    "data.apply(lambda x: len(x.unique())).sort_values()"
   ]
  },
  {
   "cell_type": "code",
   "execution_count": 26,
   "metadata": {
    "colab": {
     "base_uri": "https://localhost:8080/",
     "height": 423
    },
    "id": "mToN8FaLtpb6",
    "outputId": "c6d306f6-4257-498a-db04-f01b395c55b4"
   },
   "outputs": [
    {
     "data": {
      "text/html": [
       "<div>\n",
       "<style scoped>\n",
       "    .dataframe tbody tr th:only-of-type {\n",
       "        vertical-align: middle;\n",
       "    }\n",
       "\n",
       "    .dataframe tbody tr th {\n",
       "        vertical-align: top;\n",
       "    }\n",
       "\n",
       "    .dataframe thead th {\n",
       "        text-align: right;\n",
       "    }\n",
       "</style>\n",
       "<table border=\"1\" class=\"dataframe\">\n",
       "  <thead>\n",
       "    <tr style=\"text-align: right;\">\n",
       "      <th></th>\n",
       "      <th>event_time</th>\n",
       "      <th>event_name</th>\n",
       "      <th>user_id</th>\n",
       "      <th>source</th>\n",
       "    </tr>\n",
       "  </thead>\n",
       "  <tbody>\n",
       "    <tr>\n",
       "      <th>39297</th>\n",
       "      <td>2019-10-22 20:49:43</td>\n",
       "      <td>photos_show</td>\n",
       "      <td>00753c79-ea81-4456-acd0-a47a23ca2fb9</td>\n",
       "      <td>yandex</td>\n",
       "    </tr>\n",
       "    <tr>\n",
       "      <th>39296</th>\n",
       "      <td>2019-10-22 20:49:43</td>\n",
       "      <td>photos_show</td>\n",
       "      <td>00753c79-ea81-4456-acd0-a47a23ca2fb9</td>\n",
       "      <td>yandex</td>\n",
       "    </tr>\n",
       "    <tr>\n",
       "      <th>37906</th>\n",
       "      <td>2019-10-22 13:02:27</td>\n",
       "      <td>map</td>\n",
       "      <td>007d031d-5018-4e02-b7ee-72a30609173f</td>\n",
       "      <td>yandex</td>\n",
       "    </tr>\n",
       "    <tr>\n",
       "      <th>37905</th>\n",
       "      <td>2019-10-22 13:02:27</td>\n",
       "      <td>map</td>\n",
       "      <td>007d031d-5018-4e02-b7ee-72a30609173f</td>\n",
       "      <td>yandex</td>\n",
       "    </tr>\n",
       "    <tr>\n",
       "      <th>8111</th>\n",
       "      <td>2019-10-10 14:46:37</td>\n",
       "      <td>tips_show</td>\n",
       "      <td>017c6afc-965d-4c94-84ee-f0e326998e30</td>\n",
       "      <td>other</td>\n",
       "    </tr>\n",
       "    <tr>\n",
       "      <th>...</th>\n",
       "      <td>...</td>\n",
       "      <td>...</td>\n",
       "      <td>...</td>\n",
       "      <td>...</td>\n",
       "    </tr>\n",
       "    <tr>\n",
       "      <th>57728</th>\n",
       "      <td>2019-10-28 22:25:49</td>\n",
       "      <td>search</td>\n",
       "      <td>ff82c7c7-16d6-44b1-833b-a217747b0b02</td>\n",
       "      <td>yandex</td>\n",
       "    </tr>\n",
       "    <tr>\n",
       "      <th>1932</th>\n",
       "      <td>2019-10-07 20:32:50</td>\n",
       "      <td>photos_show</td>\n",
       "      <td>ffc01466-fdb1-4460-ae94-e800f52eb136</td>\n",
       "      <td>yandex</td>\n",
       "    </tr>\n",
       "    <tr>\n",
       "      <th>1931</th>\n",
       "      <td>2019-10-07 20:32:50</td>\n",
       "      <td>photos_show</td>\n",
       "      <td>ffc01466-fdb1-4460-ae94-e800f52eb136</td>\n",
       "      <td>yandex</td>\n",
       "    </tr>\n",
       "    <tr>\n",
       "      <th>54109</th>\n",
       "      <td>2019-10-27 20:00:18</td>\n",
       "      <td>tips_show</td>\n",
       "      <td>fffb9e79-b927-4dbb-9b48-7fd09b23a62b</td>\n",
       "      <td>google</td>\n",
       "    </tr>\n",
       "    <tr>\n",
       "      <th>54110</th>\n",
       "      <td>2019-10-27 20:00:18</td>\n",
       "      <td>tips_show</td>\n",
       "      <td>fffb9e79-b927-4dbb-9b48-7fd09b23a62b</td>\n",
       "      <td>google</td>\n",
       "    </tr>\n",
       "  </tbody>\n",
       "</table>\n",
       "<p>2183 rows × 4 columns</p>\n",
       "</div>"
      ],
      "text/plain": [
       "               event_time   event_name                               user_id  \\\n",
       "39297 2019-10-22 20:49:43  photos_show  00753c79-ea81-4456-acd0-a47a23ca2fb9   \n",
       "39296 2019-10-22 20:49:43  photos_show  00753c79-ea81-4456-acd0-a47a23ca2fb9   \n",
       "37906 2019-10-22 13:02:27          map  007d031d-5018-4e02-b7ee-72a30609173f   \n",
       "37905 2019-10-22 13:02:27          map  007d031d-5018-4e02-b7ee-72a30609173f   \n",
       "8111  2019-10-10 14:46:37    tips_show  017c6afc-965d-4c94-84ee-f0e326998e30   \n",
       "...                   ...          ...                                   ...   \n",
       "57728 2019-10-28 22:25:49       search  ff82c7c7-16d6-44b1-833b-a217747b0b02   \n",
       "1932  2019-10-07 20:32:50  photos_show  ffc01466-fdb1-4460-ae94-e800f52eb136   \n",
       "1931  2019-10-07 20:32:50  photos_show  ffc01466-fdb1-4460-ae94-e800f52eb136   \n",
       "54109 2019-10-27 20:00:18    tips_show  fffb9e79-b927-4dbb-9b48-7fd09b23a62b   \n",
       "54110 2019-10-27 20:00:18    tips_show  fffb9e79-b927-4dbb-9b48-7fd09b23a62b   \n",
       "\n",
       "       source  \n",
       "39297  yandex  \n",
       "39296  yandex  \n",
       "37906  yandex  \n",
       "37905  yandex  \n",
       "8111    other  \n",
       "...       ...  \n",
       "57728  yandex  \n",
       "1932   yandex  \n",
       "1931   yandex  \n",
       "54109  google  \n",
       "54110  google  \n",
       "\n",
       "[2183 rows x 4 columns]"
      ]
     },
     "execution_count": 26,
     "metadata": {},
     "output_type": "execute_result"
    }
   ],
   "source": [
    "# проверка дубликатов\n",
    "data[data.duplicated(subset=['event_time', 'event_name',\n",
    "                     'user_id'], keep=False)].sort_values(by='user_id')"
   ]
  },
  {
   "cell_type": "code",
   "execution_count": 27,
   "metadata": {
    "id": "J-L52_ljt-52"
   },
   "outputs": [],
   "source": [
    "# сброс дубликатов\n",
    "data.drop_duplicates(\n",
    "    subset=['event_time', 'event_name', 'user_id'], keep='first', inplace=True)"
   ]
  },
  {
   "cell_type": "code",
   "execution_count": 62,
   "metadata": {
    "colab": {
     "base_uri": "https://localhost:8080/"
    },
    "id": "2udKUsZ_1uPC",
    "outputId": "3c4d9c82-7930-4277-e7f8-9195ad7dc884"
   },
   "outputs": [
    {
     "data": {
      "text/plain": [
       "event_time    0\n",
       "event_name    0\n",
       "user_id       0\n",
       "source        0\n",
       "dtype: int64"
      ]
     },
     "execution_count": 62,
     "metadata": {},
     "output_type": "execute_result"
    }
   ],
   "source": [
    "# ищем пропуски\n",
    "data.isnull().sum()"
   ]
  },
  {
   "cell_type": "markdown",
   "metadata": {
    "id": "lG_KCdwahFwT"
   },
   "source": [
    "## Промежуточный **итог** по первому шагу.\n"
   ]
  },
  {
   "cell_type": "markdown",
   "metadata": {
    "id": "PFWkGyRThFwT"
   },
   "source": [
    "> Были проведенедены следующие манипуляции с данными:\n",
    "\n",
    "- колонки переименованы для приведения их к общему виду,\n",
    "- тип данных в столбце с датой приведен к соответствующему типу, данные округлены до секунд,\n",
    "- данные о действиях связанных с поиском обьеденены в одно действие `search`,\n",
    "- действия связанные с показом контактов объеденены в одно,\n",
    "- датафреймы объеденены.\n",
    "\n",
    "> данные за период с 03-11-2019 по 07-10-2019\n"
   ]
  },
  {
   "cell_type": "markdown",
   "metadata": {
    "id": "Ya_JzS14uMfv"
   },
   "source": [
    "## Исследовательский анализ\n"
   ]
  },
  {
   "cell_type": "markdown",
   "metadata": {
    "id": "DO2rmVXbuhXd"
   },
   "source": [
    "### Выделение сессий\n"
   ]
  },
  {
   "cell_type": "markdown",
   "metadata": {
    "id": "zl56C9Ie7GW7"
   },
   "source": [
    "В исслеловании Adjust среднее время сессии пользователя в сегменте \"Маркетплейсы и доски объявлений\" определено в 13 минут.\n",
    "\n",
    "[Ссылка на статью](https://traff.ink/articles/trendy-mobilnyh-prilozhenij-2021-2022/#sessians)\n"
   ]
  },
  {
   "cell_type": "code",
   "execution_count": 28,
   "metadata": {
    "id": "c1OG6GCymZ6E"
   },
   "outputs": [],
   "source": [
    "# Сортировка действий по времени и сброс индексов\n",
    "data = data.sort_values(by=['user_id', 'event_time']).reset_index(drop=True)\n",
    "\n",
    "# Таймаут в 5 минут\n",
    "g = (data.groupby('user_id')['event_time'].diff()\n",
    "     > pd.Timedelta('5Min')).cumsum()\n",
    "\n",
    "# Создание столбца с идентификатором сессий\n",
    "data['session_id'] = data.groupby(['user_id', g], sort=False).ngroup() + 1"
   ]
  },
  {
   "cell_type": "markdown",
   "metadata": {},
   "source": [
    "Аргументация по выбору тайм-аут сессий:\n",
    "\n",
    "- **Сбалансированная детализация:** Использование интервала в 5 минут обычно обеспечивает достаточный уровень детализации, позволяя уловить основные этапы взаимодействия пользователя с системой, сохраняя при этом ключевые детали.\n",
    "\n",
    "- **Управление сессиями:** Многие веб-сервисы и приложения устанавливают интервал в 5 минут как стандартное время неактивности для завершения сессии, что способствует обеспечению безопасности пользователей и эффективному управлению сессиями.\n",
    "\n",
    "- **Согласование с портативными устройствами:** Интервал в 5 минут часто соответствует времени отключения экрана на портативных устройствах. После такого отключения экрана сессию пользователя в приложении можно считать завершенной, что упрощает анализ и обеспечивает точность данных.\n"
   ]
  },
  {
   "cell_type": "code",
   "execution_count": 29,
   "metadata": {},
   "outputs": [
    {
     "data": {
      "text/plain": [
       "'Средняя продолжительность сессий:'"
      ]
     },
     "metadata": {},
     "output_type": "display_data"
    },
    {
     "data": {
      "text/plain": [
       "Timedelta('0 days 00:12:10.641157697')"
      ]
     },
     "metadata": {},
     "output_type": "display_data"
    }
   ],
   "source": [
    "# Проверка длительности сессии при таймауте в 5 минут\n",
    "\n",
    "# Создание столбца с продолжительностью сессии\n",
    "data['session_duration'] = data.groupby(['user_id', 'session_id'])[\n",
    "    'event_time'].transform(lambda x: x.max() - x.min())\n",
    "\n",
    "display(f\"Средняя продолжительность сессий:\", data['session_duration'].mean())"
   ]
  },
  {
   "cell_type": "markdown",
   "metadata": {},
   "source": [
    "Таймаут в 5 минут выбран верно, поскольку средняя родолжительность составила 12 минут, что близко к значению в [исследовании Adjust](https://traff.ink/articles/trendy-mobilnyh-prilozhenij-2021-2022/#sessians)\n"
   ]
  },
  {
   "cell_type": "markdown",
   "metadata": {
    "id": "KDdD1g6hwiT_"
   },
   "source": [
    "### Поиск сценариев\n"
   ]
  },
  {
   "cell_type": "code",
   "execution_count": 30,
   "metadata": {
    "id": "z_hvAuWGypjP"
   },
   "outputs": [],
   "source": [
    "# Группируем данные по session_id и объединяем последовательность действий в одну строку\n",
    "scenarios = data.groupby('session_id')['event_name'].apply(\n",
    "    lambda x: ', '.join(x)).reset_index()\n",
    "\n",
    "# Переименовываем столбец\n",
    "scenarios.columns = ['session_id', 'scenario']\n",
    "\n",
    "# Функция для удаления всех повторяющихся действий из сценариев\n",
    "\n",
    "\n",
    "def remove_duplicates(scenario):\n",
    "    unique_actions = []\n",
    "    for action in scenario.split(', '):\n",
    "        if action not in unique_actions:\n",
    "            unique_actions.append(action)\n",
    "    return ', '.join(unique_actions)\n",
    "\n",
    "\n",
    "# Применяем функцию к столбцу 'scenario'\n",
    "scenarios['scenario'] = scenarios['scenario'].apply(remove_duplicates)"
   ]
  },
  {
   "cell_type": "code",
   "execution_count": 31,
   "metadata": {
    "colab": {
     "base_uri": "https://localhost:8080/"
    },
    "id": "R3PpemhSEU6I",
    "outputId": "cd8ce5d8-bf83-4919-dc55-fe3675295e25"
   },
   "outputs": [
    {
     "data": {
      "text/plain": [
       "scenario\n",
       "map, tips_show, show_contacts         82\n",
       "search, photos_show, show_contacts    28\n",
       "search, tips_show, show_contacts      22\n",
       "Name: count, dtype: int64"
      ]
     },
     "execution_count": 31,
     "metadata": {},
     "output_type": "execute_result"
    }
   ],
   "source": [
    "# Фильтрация сценариев, заканчивающихся показом контактов с действиями больше двух\n",
    "filtered_scenarios = scenarios[scenarios['scenario'].str.endswith(\n",
    "    'show_contacts') & (scenarios['scenario'].str.count(',') > 1)]\n",
    "\n",
    "# Подсчет количества каждого сценария\n",
    "top_scenarios = filtered_scenarios['scenario'].value_counts().head(3)\n",
    "top_scenarios"
   ]
  },
  {
   "cell_type": "markdown",
   "metadata": {
    "id": "4wYsx4vfH38a"
   },
   "source": [
    "### Воронки сценариев\n"
   ]
  },
  {
   "cell_type": "markdown",
   "metadata": {
    "id": "MozRFQvVII8S"
   },
   "source": [
    "Определили три оновных сценария по которым построим воронки в разрезе уникальных пользователей. При построении воронки будет выяснено у какого сценария лучше конверсия в целевое действие.\n"
   ]
  },
  {
   "cell_type": "code",
   "execution_count": 32,
   "metadata": {
    "colab": {
     "base_uri": "https://localhost:8080/",
     "height": 617
    },
    "id": "cwLSLM3sIgKj",
    "outputId": "401b87b5-623c-4989-cf60-66e0120c4863"
   },
   "outputs": [
    {
     "data": {
      "application/vnd.plotly.v1+json": {
       "config": {
        "plotlyServerURL": "https://plot.ly"
       },
       "data": [
        {
         "marker": {
          "color": "skyblue"
         },
         "name": "Сценарий",
         "textfont": {
          "color": "white",
          "family": "Arial",
          "size": 12
         },
         "textinfo": "value+percent previous",
         "textposition": "inside",
         "type": "funnel",
         "x": [
          1456,
          1352,
          516
         ],
         "y": [
          "map",
          "tips_show",
          "show_contacts"
         ]
        }
       ],
       "layout": {
        "font": {
         "family": "Arial",
         "size": 12
        },
        "height": 600,
        "paper_bgcolor": "rgba(0,0,0,0)",
        "plot_bgcolor": "rgba(0,0,0,0)",
        "template": {
         "data": {
          "bar": [
           {
            "error_x": {
             "color": "#2a3f5f"
            },
            "error_y": {
             "color": "#2a3f5f"
            },
            "marker": {
             "line": {
              "color": "#E5ECF6",
              "width": 0.5
             },
             "pattern": {
              "fillmode": "overlay",
              "size": 10,
              "solidity": 0.2
             }
            },
            "type": "bar"
           }
          ],
          "barpolar": [
           {
            "marker": {
             "line": {
              "color": "#E5ECF6",
              "width": 0.5
             },
             "pattern": {
              "fillmode": "overlay",
              "size": 10,
              "solidity": 0.2
             }
            },
            "type": "barpolar"
           }
          ],
          "carpet": [
           {
            "aaxis": {
             "endlinecolor": "#2a3f5f",
             "gridcolor": "white",
             "linecolor": "white",
             "minorgridcolor": "white",
             "startlinecolor": "#2a3f5f"
            },
            "baxis": {
             "endlinecolor": "#2a3f5f",
             "gridcolor": "white",
             "linecolor": "white",
             "minorgridcolor": "white",
             "startlinecolor": "#2a3f5f"
            },
            "type": "carpet"
           }
          ],
          "choropleth": [
           {
            "colorbar": {
             "outlinewidth": 0,
             "ticks": ""
            },
            "type": "choropleth"
           }
          ],
          "contour": [
           {
            "colorbar": {
             "outlinewidth": 0,
             "ticks": ""
            },
            "colorscale": [
             [
              0,
              "#0d0887"
             ],
             [
              0.1111111111111111,
              "#46039f"
             ],
             [
              0.2222222222222222,
              "#7201a8"
             ],
             [
              0.3333333333333333,
              "#9c179e"
             ],
             [
              0.4444444444444444,
              "#bd3786"
             ],
             [
              0.5555555555555556,
              "#d8576b"
             ],
             [
              0.6666666666666666,
              "#ed7953"
             ],
             [
              0.7777777777777778,
              "#fb9f3a"
             ],
             [
              0.8888888888888888,
              "#fdca26"
             ],
             [
              1,
              "#f0f921"
             ]
            ],
            "type": "contour"
           }
          ],
          "contourcarpet": [
           {
            "colorbar": {
             "outlinewidth": 0,
             "ticks": ""
            },
            "type": "contourcarpet"
           }
          ],
          "heatmap": [
           {
            "colorbar": {
             "outlinewidth": 0,
             "ticks": ""
            },
            "colorscale": [
             [
              0,
              "#0d0887"
             ],
             [
              0.1111111111111111,
              "#46039f"
             ],
             [
              0.2222222222222222,
              "#7201a8"
             ],
             [
              0.3333333333333333,
              "#9c179e"
             ],
             [
              0.4444444444444444,
              "#bd3786"
             ],
             [
              0.5555555555555556,
              "#d8576b"
             ],
             [
              0.6666666666666666,
              "#ed7953"
             ],
             [
              0.7777777777777778,
              "#fb9f3a"
             ],
             [
              0.8888888888888888,
              "#fdca26"
             ],
             [
              1,
              "#f0f921"
             ]
            ],
            "type": "heatmap"
           }
          ],
          "heatmapgl": [
           {
            "colorbar": {
             "outlinewidth": 0,
             "ticks": ""
            },
            "colorscale": [
             [
              0,
              "#0d0887"
             ],
             [
              0.1111111111111111,
              "#46039f"
             ],
             [
              0.2222222222222222,
              "#7201a8"
             ],
             [
              0.3333333333333333,
              "#9c179e"
             ],
             [
              0.4444444444444444,
              "#bd3786"
             ],
             [
              0.5555555555555556,
              "#d8576b"
             ],
             [
              0.6666666666666666,
              "#ed7953"
             ],
             [
              0.7777777777777778,
              "#fb9f3a"
             ],
             [
              0.8888888888888888,
              "#fdca26"
             ],
             [
              1,
              "#f0f921"
             ]
            ],
            "type": "heatmapgl"
           }
          ],
          "histogram": [
           {
            "marker": {
             "pattern": {
              "fillmode": "overlay",
              "size": 10,
              "solidity": 0.2
             }
            },
            "type": "histogram"
           }
          ],
          "histogram2d": [
           {
            "colorbar": {
             "outlinewidth": 0,
             "ticks": ""
            },
            "colorscale": [
             [
              0,
              "#0d0887"
             ],
             [
              0.1111111111111111,
              "#46039f"
             ],
             [
              0.2222222222222222,
              "#7201a8"
             ],
             [
              0.3333333333333333,
              "#9c179e"
             ],
             [
              0.4444444444444444,
              "#bd3786"
             ],
             [
              0.5555555555555556,
              "#d8576b"
             ],
             [
              0.6666666666666666,
              "#ed7953"
             ],
             [
              0.7777777777777778,
              "#fb9f3a"
             ],
             [
              0.8888888888888888,
              "#fdca26"
             ],
             [
              1,
              "#f0f921"
             ]
            ],
            "type": "histogram2d"
           }
          ],
          "histogram2dcontour": [
           {
            "colorbar": {
             "outlinewidth": 0,
             "ticks": ""
            },
            "colorscale": [
             [
              0,
              "#0d0887"
             ],
             [
              0.1111111111111111,
              "#46039f"
             ],
             [
              0.2222222222222222,
              "#7201a8"
             ],
             [
              0.3333333333333333,
              "#9c179e"
             ],
             [
              0.4444444444444444,
              "#bd3786"
             ],
             [
              0.5555555555555556,
              "#d8576b"
             ],
             [
              0.6666666666666666,
              "#ed7953"
             ],
             [
              0.7777777777777778,
              "#fb9f3a"
             ],
             [
              0.8888888888888888,
              "#fdca26"
             ],
             [
              1,
              "#f0f921"
             ]
            ],
            "type": "histogram2dcontour"
           }
          ],
          "mesh3d": [
           {
            "colorbar": {
             "outlinewidth": 0,
             "ticks": ""
            },
            "type": "mesh3d"
           }
          ],
          "parcoords": [
           {
            "line": {
             "colorbar": {
              "outlinewidth": 0,
              "ticks": ""
             }
            },
            "type": "parcoords"
           }
          ],
          "pie": [
           {
            "automargin": true,
            "type": "pie"
           }
          ],
          "scatter": [
           {
            "fillpattern": {
             "fillmode": "overlay",
             "size": 10,
             "solidity": 0.2
            },
            "type": "scatter"
           }
          ],
          "scatter3d": [
           {
            "line": {
             "colorbar": {
              "outlinewidth": 0,
              "ticks": ""
             }
            },
            "marker": {
             "colorbar": {
              "outlinewidth": 0,
              "ticks": ""
             }
            },
            "type": "scatter3d"
           }
          ],
          "scattercarpet": [
           {
            "marker": {
             "colorbar": {
              "outlinewidth": 0,
              "ticks": ""
             }
            },
            "type": "scattercarpet"
           }
          ],
          "scattergeo": [
           {
            "marker": {
             "colorbar": {
              "outlinewidth": 0,
              "ticks": ""
             }
            },
            "type": "scattergeo"
           }
          ],
          "scattergl": [
           {
            "marker": {
             "colorbar": {
              "outlinewidth": 0,
              "ticks": ""
             }
            },
            "type": "scattergl"
           }
          ],
          "scattermapbox": [
           {
            "marker": {
             "colorbar": {
              "outlinewidth": 0,
              "ticks": ""
             }
            },
            "type": "scattermapbox"
           }
          ],
          "scatterpolar": [
           {
            "marker": {
             "colorbar": {
              "outlinewidth": 0,
              "ticks": ""
             }
            },
            "type": "scatterpolar"
           }
          ],
          "scatterpolargl": [
           {
            "marker": {
             "colorbar": {
              "outlinewidth": 0,
              "ticks": ""
             }
            },
            "type": "scatterpolargl"
           }
          ],
          "scatterternary": [
           {
            "marker": {
             "colorbar": {
              "outlinewidth": 0,
              "ticks": ""
             }
            },
            "type": "scatterternary"
           }
          ],
          "surface": [
           {
            "colorbar": {
             "outlinewidth": 0,
             "ticks": ""
            },
            "colorscale": [
             [
              0,
              "#0d0887"
             ],
             [
              0.1111111111111111,
              "#46039f"
             ],
             [
              0.2222222222222222,
              "#7201a8"
             ],
             [
              0.3333333333333333,
              "#9c179e"
             ],
             [
              0.4444444444444444,
              "#bd3786"
             ],
             [
              0.5555555555555556,
              "#d8576b"
             ],
             [
              0.6666666666666666,
              "#ed7953"
             ],
             [
              0.7777777777777778,
              "#fb9f3a"
             ],
             [
              0.8888888888888888,
              "#fdca26"
             ],
             [
              1,
              "#f0f921"
             ]
            ],
            "type": "surface"
           }
          ],
          "table": [
           {
            "cells": {
             "fill": {
              "color": "#EBF0F8"
             },
             "line": {
              "color": "white"
             }
            },
            "header": {
             "fill": {
              "color": "#C8D4E3"
             },
             "line": {
              "color": "white"
             }
            },
            "type": "table"
           }
          ]
         },
         "layout": {
          "annotationdefaults": {
           "arrowcolor": "#2a3f5f",
           "arrowhead": 0,
           "arrowwidth": 1
          },
          "autotypenumbers": "strict",
          "coloraxis": {
           "colorbar": {
            "outlinewidth": 0,
            "ticks": ""
           }
          },
          "colorscale": {
           "diverging": [
            [
             0,
             "#8e0152"
            ],
            [
             0.1,
             "#c51b7d"
            ],
            [
             0.2,
             "#de77ae"
            ],
            [
             0.3,
             "#f1b6da"
            ],
            [
             0.4,
             "#fde0ef"
            ],
            [
             0.5,
             "#f7f7f7"
            ],
            [
             0.6,
             "#e6f5d0"
            ],
            [
             0.7,
             "#b8e186"
            ],
            [
             0.8,
             "#7fbc41"
            ],
            [
             0.9,
             "#4d9221"
            ],
            [
             1,
             "#276419"
            ]
           ],
           "sequential": [
            [
             0,
             "#0d0887"
            ],
            [
             0.1111111111111111,
             "#46039f"
            ],
            [
             0.2222222222222222,
             "#7201a8"
            ],
            [
             0.3333333333333333,
             "#9c179e"
            ],
            [
             0.4444444444444444,
             "#bd3786"
            ],
            [
             0.5555555555555556,
             "#d8576b"
            ],
            [
             0.6666666666666666,
             "#ed7953"
            ],
            [
             0.7777777777777778,
             "#fb9f3a"
            ],
            [
             0.8888888888888888,
             "#fdca26"
            ],
            [
             1,
             "#f0f921"
            ]
           ],
           "sequentialminus": [
            [
             0,
             "#0d0887"
            ],
            [
             0.1111111111111111,
             "#46039f"
            ],
            [
             0.2222222222222222,
             "#7201a8"
            ],
            [
             0.3333333333333333,
             "#9c179e"
            ],
            [
             0.4444444444444444,
             "#bd3786"
            ],
            [
             0.5555555555555556,
             "#d8576b"
            ],
            [
             0.6666666666666666,
             "#ed7953"
            ],
            [
             0.7777777777777778,
             "#fb9f3a"
            ],
            [
             0.8888888888888888,
             "#fdca26"
            ],
            [
             1,
             "#f0f921"
            ]
           ]
          },
          "colorway": [
           "#636efa",
           "#EF553B",
           "#00cc96",
           "#ab63fa",
           "#FFA15A",
           "#19d3f3",
           "#FF6692",
           "#B6E880",
           "#FF97FF",
           "#FECB52"
          ],
          "font": {
           "color": "#2a3f5f"
          },
          "geo": {
           "bgcolor": "white",
           "lakecolor": "white",
           "landcolor": "#E5ECF6",
           "showlakes": true,
           "showland": true,
           "subunitcolor": "white"
          },
          "hoverlabel": {
           "align": "left"
          },
          "hovermode": "closest",
          "mapbox": {
           "style": "light"
          },
          "paper_bgcolor": "white",
          "plot_bgcolor": "#E5ECF6",
          "polar": {
           "angularaxis": {
            "gridcolor": "white",
            "linecolor": "white",
            "ticks": ""
           },
           "bgcolor": "#E5ECF6",
           "radialaxis": {
            "gridcolor": "white",
            "linecolor": "white",
            "ticks": ""
           }
          },
          "scene": {
           "xaxis": {
            "backgroundcolor": "#E5ECF6",
            "gridcolor": "white",
            "gridwidth": 2,
            "linecolor": "white",
            "showbackground": true,
            "ticks": "",
            "zerolinecolor": "white"
           },
           "yaxis": {
            "backgroundcolor": "#E5ECF6",
            "gridcolor": "white",
            "gridwidth": 2,
            "linecolor": "white",
            "showbackground": true,
            "ticks": "",
            "zerolinecolor": "white"
           },
           "zaxis": {
            "backgroundcolor": "#E5ECF6",
            "gridcolor": "white",
            "gridwidth": 2,
            "linecolor": "white",
            "showbackground": true,
            "ticks": "",
            "zerolinecolor": "white"
           }
          },
          "shapedefaults": {
           "line": {
            "color": "#2a3f5f"
           }
          },
          "ternary": {
           "aaxis": {
            "gridcolor": "white",
            "linecolor": "white",
            "ticks": ""
           },
           "baxis": {
            "gridcolor": "white",
            "linecolor": "white",
            "ticks": ""
           },
           "bgcolor": "#E5ECF6",
           "caxis": {
            "gridcolor": "white",
            "linecolor": "white",
            "ticks": ""
           }
          },
          "title": {
           "x": 0.05
          },
          "xaxis": {
           "automargin": true,
           "gridcolor": "white",
           "linecolor": "white",
           "ticks": "",
           "title": {
            "standoff": 15
           },
           "zerolinecolor": "white",
           "zerolinewidth": 2
          },
          "yaxis": {
           "automargin": true,
           "gridcolor": "white",
           "linecolor": "white",
           "ticks": "",
           "title": {
            "standoff": 15
           },
           "zerolinecolor": "white",
           "zerolinewidth": 2
          }
         }
        },
        "title": {
         "text": "Воронка сценария 'map, tips_show, show_contacts' в разрезе уникальных пользователей"
        }
       }
      }
     },
     "metadata": {},
     "output_type": "display_data"
    }
   ],
   "source": [
    "# Выбираем первый сценарий из топа\n",
    "scenario = top_scenarios.index[0]\n",
    "\n",
    "# Разбиваем сценарий на отдельные действия\n",
    "actions = scenario.split(', ')\n",
    "\n",
    "# Создаем список для хранения данных воронки\n",
    "funnel_data = []\n",
    "\n",
    "# Подсчитываем количество уникальных пользователей на каждом этапе воронки\n",
    "for i, action in enumerate(actions):\n",
    "    users_at_step = set(data[data['event_name'] == action]['user_id'])\n",
    "    if i == 0:\n",
    "        funnel_data.append({'step': action, 'count': len(users_at_step)})\n",
    "    else:\n",
    "        prev_users = set(data[data['event_name'] == actions[i - 1]]['user_id'])\n",
    "        users_at_step = users_at_step.intersection(prev_users)\n",
    "        funnel_data.append({'step': action, 'count': len(users_at_step)})\n",
    "\n",
    "# Построение воронки с помощью Plotly\n",
    "fig = go.Figure()\n",
    "\n",
    "fig.add_trace(go.Funnel(\n",
    "    name='Сценарий',\n",
    "    y=[step['step'] for step in funnel_data],\n",
    "    x=[step['count'] for step in funnel_data],\n",
    "    textinfo=\"value+percent previous\",\n",
    "    marker=dict(color=\"skyblue\"),\n",
    "    textposition=\"inside\",\n",
    "    textfont=dict(family=\"Arial\", size=12, color=\"white\")))\n",
    "\n",
    "fig.update_layout(\n",
    "    title=f\"Воронка сценария '{scenario}' в разрезе уникальных пользователей\",\n",
    "    font=dict(family=\"Arial\", size=12),\n",
    "    plot_bgcolor='rgba(0,0,0,0)',\n",
    "    paper_bgcolor='rgba(0,0,0,0)',\n",
    "    height=600\n",
    ")\n",
    "\n",
    "fig.show()"
   ]
  },
  {
   "cell_type": "code",
   "execution_count": 33,
   "metadata": {
    "colab": {
     "base_uri": "https://localhost:8080/",
     "height": 617
    },
    "id": "74rc02dORGMD",
    "outputId": "26c993f0-180f-4742-86dc-2eed1cf177d0"
   },
   "outputs": [
    {
     "data": {
      "application/vnd.plotly.v1+json": {
       "config": {
        "plotlyServerURL": "https://plot.ly"
       },
       "data": [
        {
         "marker": {
          "color": "skyblue"
         },
         "name": "Сценарий",
         "textfont": {
          "color": "white",
          "family": "Arial",
          "size": 12
         },
         "textinfo": "value+percent previous",
         "textposition": "inside",
         "type": "funnel",
         "x": [
          1666,
          647,
          339
         ],
         "y": [
          "search",
          "photos_show",
          "show_contacts"
         ]
        }
       ],
       "layout": {
        "font": {
         "family": "Arial",
         "size": 12
        },
        "height": 600,
        "paper_bgcolor": "rgba(0,0,0,0)",
        "plot_bgcolor": "rgba(0,0,0,0)",
        "template": {
         "data": {
          "bar": [
           {
            "error_x": {
             "color": "#2a3f5f"
            },
            "error_y": {
             "color": "#2a3f5f"
            },
            "marker": {
             "line": {
              "color": "#E5ECF6",
              "width": 0.5
             },
             "pattern": {
              "fillmode": "overlay",
              "size": 10,
              "solidity": 0.2
             }
            },
            "type": "bar"
           }
          ],
          "barpolar": [
           {
            "marker": {
             "line": {
              "color": "#E5ECF6",
              "width": 0.5
             },
             "pattern": {
              "fillmode": "overlay",
              "size": 10,
              "solidity": 0.2
             }
            },
            "type": "barpolar"
           }
          ],
          "carpet": [
           {
            "aaxis": {
             "endlinecolor": "#2a3f5f",
             "gridcolor": "white",
             "linecolor": "white",
             "minorgridcolor": "white",
             "startlinecolor": "#2a3f5f"
            },
            "baxis": {
             "endlinecolor": "#2a3f5f",
             "gridcolor": "white",
             "linecolor": "white",
             "minorgridcolor": "white",
             "startlinecolor": "#2a3f5f"
            },
            "type": "carpet"
           }
          ],
          "choropleth": [
           {
            "colorbar": {
             "outlinewidth": 0,
             "ticks": ""
            },
            "type": "choropleth"
           }
          ],
          "contour": [
           {
            "colorbar": {
             "outlinewidth": 0,
             "ticks": ""
            },
            "colorscale": [
             [
              0,
              "#0d0887"
             ],
             [
              0.1111111111111111,
              "#46039f"
             ],
             [
              0.2222222222222222,
              "#7201a8"
             ],
             [
              0.3333333333333333,
              "#9c179e"
             ],
             [
              0.4444444444444444,
              "#bd3786"
             ],
             [
              0.5555555555555556,
              "#d8576b"
             ],
             [
              0.6666666666666666,
              "#ed7953"
             ],
             [
              0.7777777777777778,
              "#fb9f3a"
             ],
             [
              0.8888888888888888,
              "#fdca26"
             ],
             [
              1,
              "#f0f921"
             ]
            ],
            "type": "contour"
           }
          ],
          "contourcarpet": [
           {
            "colorbar": {
             "outlinewidth": 0,
             "ticks": ""
            },
            "type": "contourcarpet"
           }
          ],
          "heatmap": [
           {
            "colorbar": {
             "outlinewidth": 0,
             "ticks": ""
            },
            "colorscale": [
             [
              0,
              "#0d0887"
             ],
             [
              0.1111111111111111,
              "#46039f"
             ],
             [
              0.2222222222222222,
              "#7201a8"
             ],
             [
              0.3333333333333333,
              "#9c179e"
             ],
             [
              0.4444444444444444,
              "#bd3786"
             ],
             [
              0.5555555555555556,
              "#d8576b"
             ],
             [
              0.6666666666666666,
              "#ed7953"
             ],
             [
              0.7777777777777778,
              "#fb9f3a"
             ],
             [
              0.8888888888888888,
              "#fdca26"
             ],
             [
              1,
              "#f0f921"
             ]
            ],
            "type": "heatmap"
           }
          ],
          "heatmapgl": [
           {
            "colorbar": {
             "outlinewidth": 0,
             "ticks": ""
            },
            "colorscale": [
             [
              0,
              "#0d0887"
             ],
             [
              0.1111111111111111,
              "#46039f"
             ],
             [
              0.2222222222222222,
              "#7201a8"
             ],
             [
              0.3333333333333333,
              "#9c179e"
             ],
             [
              0.4444444444444444,
              "#bd3786"
             ],
             [
              0.5555555555555556,
              "#d8576b"
             ],
             [
              0.6666666666666666,
              "#ed7953"
             ],
             [
              0.7777777777777778,
              "#fb9f3a"
             ],
             [
              0.8888888888888888,
              "#fdca26"
             ],
             [
              1,
              "#f0f921"
             ]
            ],
            "type": "heatmapgl"
           }
          ],
          "histogram": [
           {
            "marker": {
             "pattern": {
              "fillmode": "overlay",
              "size": 10,
              "solidity": 0.2
             }
            },
            "type": "histogram"
           }
          ],
          "histogram2d": [
           {
            "colorbar": {
             "outlinewidth": 0,
             "ticks": ""
            },
            "colorscale": [
             [
              0,
              "#0d0887"
             ],
             [
              0.1111111111111111,
              "#46039f"
             ],
             [
              0.2222222222222222,
              "#7201a8"
             ],
             [
              0.3333333333333333,
              "#9c179e"
             ],
             [
              0.4444444444444444,
              "#bd3786"
             ],
             [
              0.5555555555555556,
              "#d8576b"
             ],
             [
              0.6666666666666666,
              "#ed7953"
             ],
             [
              0.7777777777777778,
              "#fb9f3a"
             ],
             [
              0.8888888888888888,
              "#fdca26"
             ],
             [
              1,
              "#f0f921"
             ]
            ],
            "type": "histogram2d"
           }
          ],
          "histogram2dcontour": [
           {
            "colorbar": {
             "outlinewidth": 0,
             "ticks": ""
            },
            "colorscale": [
             [
              0,
              "#0d0887"
             ],
             [
              0.1111111111111111,
              "#46039f"
             ],
             [
              0.2222222222222222,
              "#7201a8"
             ],
             [
              0.3333333333333333,
              "#9c179e"
             ],
             [
              0.4444444444444444,
              "#bd3786"
             ],
             [
              0.5555555555555556,
              "#d8576b"
             ],
             [
              0.6666666666666666,
              "#ed7953"
             ],
             [
              0.7777777777777778,
              "#fb9f3a"
             ],
             [
              0.8888888888888888,
              "#fdca26"
             ],
             [
              1,
              "#f0f921"
             ]
            ],
            "type": "histogram2dcontour"
           }
          ],
          "mesh3d": [
           {
            "colorbar": {
             "outlinewidth": 0,
             "ticks": ""
            },
            "type": "mesh3d"
           }
          ],
          "parcoords": [
           {
            "line": {
             "colorbar": {
              "outlinewidth": 0,
              "ticks": ""
             }
            },
            "type": "parcoords"
           }
          ],
          "pie": [
           {
            "automargin": true,
            "type": "pie"
           }
          ],
          "scatter": [
           {
            "fillpattern": {
             "fillmode": "overlay",
             "size": 10,
             "solidity": 0.2
            },
            "type": "scatter"
           }
          ],
          "scatter3d": [
           {
            "line": {
             "colorbar": {
              "outlinewidth": 0,
              "ticks": ""
             }
            },
            "marker": {
             "colorbar": {
              "outlinewidth": 0,
              "ticks": ""
             }
            },
            "type": "scatter3d"
           }
          ],
          "scattercarpet": [
           {
            "marker": {
             "colorbar": {
              "outlinewidth": 0,
              "ticks": ""
             }
            },
            "type": "scattercarpet"
           }
          ],
          "scattergeo": [
           {
            "marker": {
             "colorbar": {
              "outlinewidth": 0,
              "ticks": ""
             }
            },
            "type": "scattergeo"
           }
          ],
          "scattergl": [
           {
            "marker": {
             "colorbar": {
              "outlinewidth": 0,
              "ticks": ""
             }
            },
            "type": "scattergl"
           }
          ],
          "scattermapbox": [
           {
            "marker": {
             "colorbar": {
              "outlinewidth": 0,
              "ticks": ""
             }
            },
            "type": "scattermapbox"
           }
          ],
          "scatterpolar": [
           {
            "marker": {
             "colorbar": {
              "outlinewidth": 0,
              "ticks": ""
             }
            },
            "type": "scatterpolar"
           }
          ],
          "scatterpolargl": [
           {
            "marker": {
             "colorbar": {
              "outlinewidth": 0,
              "ticks": ""
             }
            },
            "type": "scatterpolargl"
           }
          ],
          "scatterternary": [
           {
            "marker": {
             "colorbar": {
              "outlinewidth": 0,
              "ticks": ""
             }
            },
            "type": "scatterternary"
           }
          ],
          "surface": [
           {
            "colorbar": {
             "outlinewidth": 0,
             "ticks": ""
            },
            "colorscale": [
             [
              0,
              "#0d0887"
             ],
             [
              0.1111111111111111,
              "#46039f"
             ],
             [
              0.2222222222222222,
              "#7201a8"
             ],
             [
              0.3333333333333333,
              "#9c179e"
             ],
             [
              0.4444444444444444,
              "#bd3786"
             ],
             [
              0.5555555555555556,
              "#d8576b"
             ],
             [
              0.6666666666666666,
              "#ed7953"
             ],
             [
              0.7777777777777778,
              "#fb9f3a"
             ],
             [
              0.8888888888888888,
              "#fdca26"
             ],
             [
              1,
              "#f0f921"
             ]
            ],
            "type": "surface"
           }
          ],
          "table": [
           {
            "cells": {
             "fill": {
              "color": "#EBF0F8"
             },
             "line": {
              "color": "white"
             }
            },
            "header": {
             "fill": {
              "color": "#C8D4E3"
             },
             "line": {
              "color": "white"
             }
            },
            "type": "table"
           }
          ]
         },
         "layout": {
          "annotationdefaults": {
           "arrowcolor": "#2a3f5f",
           "arrowhead": 0,
           "arrowwidth": 1
          },
          "autotypenumbers": "strict",
          "coloraxis": {
           "colorbar": {
            "outlinewidth": 0,
            "ticks": ""
           }
          },
          "colorscale": {
           "diverging": [
            [
             0,
             "#8e0152"
            ],
            [
             0.1,
             "#c51b7d"
            ],
            [
             0.2,
             "#de77ae"
            ],
            [
             0.3,
             "#f1b6da"
            ],
            [
             0.4,
             "#fde0ef"
            ],
            [
             0.5,
             "#f7f7f7"
            ],
            [
             0.6,
             "#e6f5d0"
            ],
            [
             0.7,
             "#b8e186"
            ],
            [
             0.8,
             "#7fbc41"
            ],
            [
             0.9,
             "#4d9221"
            ],
            [
             1,
             "#276419"
            ]
           ],
           "sequential": [
            [
             0,
             "#0d0887"
            ],
            [
             0.1111111111111111,
             "#46039f"
            ],
            [
             0.2222222222222222,
             "#7201a8"
            ],
            [
             0.3333333333333333,
             "#9c179e"
            ],
            [
             0.4444444444444444,
             "#bd3786"
            ],
            [
             0.5555555555555556,
             "#d8576b"
            ],
            [
             0.6666666666666666,
             "#ed7953"
            ],
            [
             0.7777777777777778,
             "#fb9f3a"
            ],
            [
             0.8888888888888888,
             "#fdca26"
            ],
            [
             1,
             "#f0f921"
            ]
           ],
           "sequentialminus": [
            [
             0,
             "#0d0887"
            ],
            [
             0.1111111111111111,
             "#46039f"
            ],
            [
             0.2222222222222222,
             "#7201a8"
            ],
            [
             0.3333333333333333,
             "#9c179e"
            ],
            [
             0.4444444444444444,
             "#bd3786"
            ],
            [
             0.5555555555555556,
             "#d8576b"
            ],
            [
             0.6666666666666666,
             "#ed7953"
            ],
            [
             0.7777777777777778,
             "#fb9f3a"
            ],
            [
             0.8888888888888888,
             "#fdca26"
            ],
            [
             1,
             "#f0f921"
            ]
           ]
          },
          "colorway": [
           "#636efa",
           "#EF553B",
           "#00cc96",
           "#ab63fa",
           "#FFA15A",
           "#19d3f3",
           "#FF6692",
           "#B6E880",
           "#FF97FF",
           "#FECB52"
          ],
          "font": {
           "color": "#2a3f5f"
          },
          "geo": {
           "bgcolor": "white",
           "lakecolor": "white",
           "landcolor": "#E5ECF6",
           "showlakes": true,
           "showland": true,
           "subunitcolor": "white"
          },
          "hoverlabel": {
           "align": "left"
          },
          "hovermode": "closest",
          "mapbox": {
           "style": "light"
          },
          "paper_bgcolor": "white",
          "plot_bgcolor": "#E5ECF6",
          "polar": {
           "angularaxis": {
            "gridcolor": "white",
            "linecolor": "white",
            "ticks": ""
           },
           "bgcolor": "#E5ECF6",
           "radialaxis": {
            "gridcolor": "white",
            "linecolor": "white",
            "ticks": ""
           }
          },
          "scene": {
           "xaxis": {
            "backgroundcolor": "#E5ECF6",
            "gridcolor": "white",
            "gridwidth": 2,
            "linecolor": "white",
            "showbackground": true,
            "ticks": "",
            "zerolinecolor": "white"
           },
           "yaxis": {
            "backgroundcolor": "#E5ECF6",
            "gridcolor": "white",
            "gridwidth": 2,
            "linecolor": "white",
            "showbackground": true,
            "ticks": "",
            "zerolinecolor": "white"
           },
           "zaxis": {
            "backgroundcolor": "#E5ECF6",
            "gridcolor": "white",
            "gridwidth": 2,
            "linecolor": "white",
            "showbackground": true,
            "ticks": "",
            "zerolinecolor": "white"
           }
          },
          "shapedefaults": {
           "line": {
            "color": "#2a3f5f"
           }
          },
          "ternary": {
           "aaxis": {
            "gridcolor": "white",
            "linecolor": "white",
            "ticks": ""
           },
           "baxis": {
            "gridcolor": "white",
            "linecolor": "white",
            "ticks": ""
           },
           "bgcolor": "#E5ECF6",
           "caxis": {
            "gridcolor": "white",
            "linecolor": "white",
            "ticks": ""
           }
          },
          "title": {
           "x": 0.05
          },
          "xaxis": {
           "automargin": true,
           "gridcolor": "white",
           "linecolor": "white",
           "ticks": "",
           "title": {
            "standoff": 15
           },
           "zerolinecolor": "white",
           "zerolinewidth": 2
          },
          "yaxis": {
           "automargin": true,
           "gridcolor": "white",
           "linecolor": "white",
           "ticks": "",
           "title": {
            "standoff": 15
           },
           "zerolinecolor": "white",
           "zerolinewidth": 2
          }
         }
        },
        "title": {
         "text": "Воронка сценария 'search, photos_show, show_contacts' в разрезе уникальных пользователей"
        }
       }
      }
     },
     "metadata": {},
     "output_type": "display_data"
    }
   ],
   "source": [
    "# Выбираем первый сценарий из топа\n",
    "scenario = top_scenarios.index[1]\n",
    "\n",
    "# Разбиваем сценарий на отдельные действия\n",
    "actions = scenario.split(', ')\n",
    "\n",
    "# Создаем список для хранения данных воронки\n",
    "funnel_data = []\n",
    "\n",
    "# Подсчитываем количество уникальных пользователей на каждом этапе воронки\n",
    "for i, action in enumerate(actions):\n",
    "    users_at_step = set(data[data['event_name'] == action]['user_id'])\n",
    "    if i == 0:\n",
    "        funnel_data.append({'step': action, 'count': len(users_at_step)})\n",
    "    else:\n",
    "        prev_users = set(data[data['event_name'] == actions[i - 1]]['user_id'])\n",
    "        users_at_step = users_at_step.intersection(prev_users)\n",
    "        funnel_data.append({'step': action, 'count': len(users_at_step)})\n",
    "\n",
    "# Построение воронки\n",
    "fig = go.Figure()\n",
    "\n",
    "fig.add_trace(go.Funnel(\n",
    "    name='Сценарий',\n",
    "    y=[step['step'] for step in funnel_data],\n",
    "    x=[step['count'] for step in funnel_data],\n",
    "    textinfo='value+percent previous',\n",
    "    marker=dict(color=\"skyblue\"),\n",
    "    textposition=\"inside\",\n",
    "    textfont=dict(family=\"Arial\", size=12, color=\"white\")))\n",
    "\n",
    "fig.update_layout(\n",
    "    title=f\"Воронка сценария '{scenario}' в разрезе уникальных пользователей\",\n",
    "    font=dict(family=\"Arial\", size=12),\n",
    "    plot_bgcolor='rgba(0,0,0,0)',\n",
    "    paper_bgcolor='rgba(0,0,0,0)',\n",
    "    height=600\n",
    ")\n",
    "\n",
    "fig.show()"
   ]
  },
  {
   "cell_type": "code",
   "execution_count": 34,
   "metadata": {
    "colab": {
     "base_uri": "https://localhost:8080/",
     "height": 617
    },
    "id": "k7eKB2fpRMPb",
    "outputId": "0746fee5-c71b-4be8-bc83-5d24c977cd64"
   },
   "outputs": [
    {
     "data": {
      "application/vnd.plotly.v1+json": {
       "config": {
        "plotlyServerURL": "https://plot.ly"
       },
       "data": [
        {
         "marker": {
          "color": "skyblue"
         },
         "name": "Сценарий",
         "textfont": {
          "color": "white",
          "family": "Arial",
          "size": 12
         },
         "textinfo": "value+percent previous",
         "textposition": "inside",
         "type": "funnel",
         "x": [
          1666,
          801,
          516
         ],
         "y": [
          "search",
          "tips_show",
          "show_contacts"
         ]
        }
       ],
       "layout": {
        "font": {
         "family": "Arial",
         "size": 12
        },
        "height": 600,
        "paper_bgcolor": "rgba(0,0,0,0)",
        "plot_bgcolor": "rgba(0,0,0,0)",
        "template": {
         "data": {
          "bar": [
           {
            "error_x": {
             "color": "#2a3f5f"
            },
            "error_y": {
             "color": "#2a3f5f"
            },
            "marker": {
             "line": {
              "color": "#E5ECF6",
              "width": 0.5
             },
             "pattern": {
              "fillmode": "overlay",
              "size": 10,
              "solidity": 0.2
             }
            },
            "type": "bar"
           }
          ],
          "barpolar": [
           {
            "marker": {
             "line": {
              "color": "#E5ECF6",
              "width": 0.5
             },
             "pattern": {
              "fillmode": "overlay",
              "size": 10,
              "solidity": 0.2
             }
            },
            "type": "barpolar"
           }
          ],
          "carpet": [
           {
            "aaxis": {
             "endlinecolor": "#2a3f5f",
             "gridcolor": "white",
             "linecolor": "white",
             "minorgridcolor": "white",
             "startlinecolor": "#2a3f5f"
            },
            "baxis": {
             "endlinecolor": "#2a3f5f",
             "gridcolor": "white",
             "linecolor": "white",
             "minorgridcolor": "white",
             "startlinecolor": "#2a3f5f"
            },
            "type": "carpet"
           }
          ],
          "choropleth": [
           {
            "colorbar": {
             "outlinewidth": 0,
             "ticks": ""
            },
            "type": "choropleth"
           }
          ],
          "contour": [
           {
            "colorbar": {
             "outlinewidth": 0,
             "ticks": ""
            },
            "colorscale": [
             [
              0,
              "#0d0887"
             ],
             [
              0.1111111111111111,
              "#46039f"
             ],
             [
              0.2222222222222222,
              "#7201a8"
             ],
             [
              0.3333333333333333,
              "#9c179e"
             ],
             [
              0.4444444444444444,
              "#bd3786"
             ],
             [
              0.5555555555555556,
              "#d8576b"
             ],
             [
              0.6666666666666666,
              "#ed7953"
             ],
             [
              0.7777777777777778,
              "#fb9f3a"
             ],
             [
              0.8888888888888888,
              "#fdca26"
             ],
             [
              1,
              "#f0f921"
             ]
            ],
            "type": "contour"
           }
          ],
          "contourcarpet": [
           {
            "colorbar": {
             "outlinewidth": 0,
             "ticks": ""
            },
            "type": "contourcarpet"
           }
          ],
          "heatmap": [
           {
            "colorbar": {
             "outlinewidth": 0,
             "ticks": ""
            },
            "colorscale": [
             [
              0,
              "#0d0887"
             ],
             [
              0.1111111111111111,
              "#46039f"
             ],
             [
              0.2222222222222222,
              "#7201a8"
             ],
             [
              0.3333333333333333,
              "#9c179e"
             ],
             [
              0.4444444444444444,
              "#bd3786"
             ],
             [
              0.5555555555555556,
              "#d8576b"
             ],
             [
              0.6666666666666666,
              "#ed7953"
             ],
             [
              0.7777777777777778,
              "#fb9f3a"
             ],
             [
              0.8888888888888888,
              "#fdca26"
             ],
             [
              1,
              "#f0f921"
             ]
            ],
            "type": "heatmap"
           }
          ],
          "heatmapgl": [
           {
            "colorbar": {
             "outlinewidth": 0,
             "ticks": ""
            },
            "colorscale": [
             [
              0,
              "#0d0887"
             ],
             [
              0.1111111111111111,
              "#46039f"
             ],
             [
              0.2222222222222222,
              "#7201a8"
             ],
             [
              0.3333333333333333,
              "#9c179e"
             ],
             [
              0.4444444444444444,
              "#bd3786"
             ],
             [
              0.5555555555555556,
              "#d8576b"
             ],
             [
              0.6666666666666666,
              "#ed7953"
             ],
             [
              0.7777777777777778,
              "#fb9f3a"
             ],
             [
              0.8888888888888888,
              "#fdca26"
             ],
             [
              1,
              "#f0f921"
             ]
            ],
            "type": "heatmapgl"
           }
          ],
          "histogram": [
           {
            "marker": {
             "pattern": {
              "fillmode": "overlay",
              "size": 10,
              "solidity": 0.2
             }
            },
            "type": "histogram"
           }
          ],
          "histogram2d": [
           {
            "colorbar": {
             "outlinewidth": 0,
             "ticks": ""
            },
            "colorscale": [
             [
              0,
              "#0d0887"
             ],
             [
              0.1111111111111111,
              "#46039f"
             ],
             [
              0.2222222222222222,
              "#7201a8"
             ],
             [
              0.3333333333333333,
              "#9c179e"
             ],
             [
              0.4444444444444444,
              "#bd3786"
             ],
             [
              0.5555555555555556,
              "#d8576b"
             ],
             [
              0.6666666666666666,
              "#ed7953"
             ],
             [
              0.7777777777777778,
              "#fb9f3a"
             ],
             [
              0.8888888888888888,
              "#fdca26"
             ],
             [
              1,
              "#f0f921"
             ]
            ],
            "type": "histogram2d"
           }
          ],
          "histogram2dcontour": [
           {
            "colorbar": {
             "outlinewidth": 0,
             "ticks": ""
            },
            "colorscale": [
             [
              0,
              "#0d0887"
             ],
             [
              0.1111111111111111,
              "#46039f"
             ],
             [
              0.2222222222222222,
              "#7201a8"
             ],
             [
              0.3333333333333333,
              "#9c179e"
             ],
             [
              0.4444444444444444,
              "#bd3786"
             ],
             [
              0.5555555555555556,
              "#d8576b"
             ],
             [
              0.6666666666666666,
              "#ed7953"
             ],
             [
              0.7777777777777778,
              "#fb9f3a"
             ],
             [
              0.8888888888888888,
              "#fdca26"
             ],
             [
              1,
              "#f0f921"
             ]
            ],
            "type": "histogram2dcontour"
           }
          ],
          "mesh3d": [
           {
            "colorbar": {
             "outlinewidth": 0,
             "ticks": ""
            },
            "type": "mesh3d"
           }
          ],
          "parcoords": [
           {
            "line": {
             "colorbar": {
              "outlinewidth": 0,
              "ticks": ""
             }
            },
            "type": "parcoords"
           }
          ],
          "pie": [
           {
            "automargin": true,
            "type": "pie"
           }
          ],
          "scatter": [
           {
            "fillpattern": {
             "fillmode": "overlay",
             "size": 10,
             "solidity": 0.2
            },
            "type": "scatter"
           }
          ],
          "scatter3d": [
           {
            "line": {
             "colorbar": {
              "outlinewidth": 0,
              "ticks": ""
             }
            },
            "marker": {
             "colorbar": {
              "outlinewidth": 0,
              "ticks": ""
             }
            },
            "type": "scatter3d"
           }
          ],
          "scattercarpet": [
           {
            "marker": {
             "colorbar": {
              "outlinewidth": 0,
              "ticks": ""
             }
            },
            "type": "scattercarpet"
           }
          ],
          "scattergeo": [
           {
            "marker": {
             "colorbar": {
              "outlinewidth": 0,
              "ticks": ""
             }
            },
            "type": "scattergeo"
           }
          ],
          "scattergl": [
           {
            "marker": {
             "colorbar": {
              "outlinewidth": 0,
              "ticks": ""
             }
            },
            "type": "scattergl"
           }
          ],
          "scattermapbox": [
           {
            "marker": {
             "colorbar": {
              "outlinewidth": 0,
              "ticks": ""
             }
            },
            "type": "scattermapbox"
           }
          ],
          "scatterpolar": [
           {
            "marker": {
             "colorbar": {
              "outlinewidth": 0,
              "ticks": ""
             }
            },
            "type": "scatterpolar"
           }
          ],
          "scatterpolargl": [
           {
            "marker": {
             "colorbar": {
              "outlinewidth": 0,
              "ticks": ""
             }
            },
            "type": "scatterpolargl"
           }
          ],
          "scatterternary": [
           {
            "marker": {
             "colorbar": {
              "outlinewidth": 0,
              "ticks": ""
             }
            },
            "type": "scatterternary"
           }
          ],
          "surface": [
           {
            "colorbar": {
             "outlinewidth": 0,
             "ticks": ""
            },
            "colorscale": [
             [
              0,
              "#0d0887"
             ],
             [
              0.1111111111111111,
              "#46039f"
             ],
             [
              0.2222222222222222,
              "#7201a8"
             ],
             [
              0.3333333333333333,
              "#9c179e"
             ],
             [
              0.4444444444444444,
              "#bd3786"
             ],
             [
              0.5555555555555556,
              "#d8576b"
             ],
             [
              0.6666666666666666,
              "#ed7953"
             ],
             [
              0.7777777777777778,
              "#fb9f3a"
             ],
             [
              0.8888888888888888,
              "#fdca26"
             ],
             [
              1,
              "#f0f921"
             ]
            ],
            "type": "surface"
           }
          ],
          "table": [
           {
            "cells": {
             "fill": {
              "color": "#EBF0F8"
             },
             "line": {
              "color": "white"
             }
            },
            "header": {
             "fill": {
              "color": "#C8D4E3"
             },
             "line": {
              "color": "white"
             }
            },
            "type": "table"
           }
          ]
         },
         "layout": {
          "annotationdefaults": {
           "arrowcolor": "#2a3f5f",
           "arrowhead": 0,
           "arrowwidth": 1
          },
          "autotypenumbers": "strict",
          "coloraxis": {
           "colorbar": {
            "outlinewidth": 0,
            "ticks": ""
           }
          },
          "colorscale": {
           "diverging": [
            [
             0,
             "#8e0152"
            ],
            [
             0.1,
             "#c51b7d"
            ],
            [
             0.2,
             "#de77ae"
            ],
            [
             0.3,
             "#f1b6da"
            ],
            [
             0.4,
             "#fde0ef"
            ],
            [
             0.5,
             "#f7f7f7"
            ],
            [
             0.6,
             "#e6f5d0"
            ],
            [
             0.7,
             "#b8e186"
            ],
            [
             0.8,
             "#7fbc41"
            ],
            [
             0.9,
             "#4d9221"
            ],
            [
             1,
             "#276419"
            ]
           ],
           "sequential": [
            [
             0,
             "#0d0887"
            ],
            [
             0.1111111111111111,
             "#46039f"
            ],
            [
             0.2222222222222222,
             "#7201a8"
            ],
            [
             0.3333333333333333,
             "#9c179e"
            ],
            [
             0.4444444444444444,
             "#bd3786"
            ],
            [
             0.5555555555555556,
             "#d8576b"
            ],
            [
             0.6666666666666666,
             "#ed7953"
            ],
            [
             0.7777777777777778,
             "#fb9f3a"
            ],
            [
             0.8888888888888888,
             "#fdca26"
            ],
            [
             1,
             "#f0f921"
            ]
           ],
           "sequentialminus": [
            [
             0,
             "#0d0887"
            ],
            [
             0.1111111111111111,
             "#46039f"
            ],
            [
             0.2222222222222222,
             "#7201a8"
            ],
            [
             0.3333333333333333,
             "#9c179e"
            ],
            [
             0.4444444444444444,
             "#bd3786"
            ],
            [
             0.5555555555555556,
             "#d8576b"
            ],
            [
             0.6666666666666666,
             "#ed7953"
            ],
            [
             0.7777777777777778,
             "#fb9f3a"
            ],
            [
             0.8888888888888888,
             "#fdca26"
            ],
            [
             1,
             "#f0f921"
            ]
           ]
          },
          "colorway": [
           "#636efa",
           "#EF553B",
           "#00cc96",
           "#ab63fa",
           "#FFA15A",
           "#19d3f3",
           "#FF6692",
           "#B6E880",
           "#FF97FF",
           "#FECB52"
          ],
          "font": {
           "color": "#2a3f5f"
          },
          "geo": {
           "bgcolor": "white",
           "lakecolor": "white",
           "landcolor": "#E5ECF6",
           "showlakes": true,
           "showland": true,
           "subunitcolor": "white"
          },
          "hoverlabel": {
           "align": "left"
          },
          "hovermode": "closest",
          "mapbox": {
           "style": "light"
          },
          "paper_bgcolor": "white",
          "plot_bgcolor": "#E5ECF6",
          "polar": {
           "angularaxis": {
            "gridcolor": "white",
            "linecolor": "white",
            "ticks": ""
           },
           "bgcolor": "#E5ECF6",
           "radialaxis": {
            "gridcolor": "white",
            "linecolor": "white",
            "ticks": ""
           }
          },
          "scene": {
           "xaxis": {
            "backgroundcolor": "#E5ECF6",
            "gridcolor": "white",
            "gridwidth": 2,
            "linecolor": "white",
            "showbackground": true,
            "ticks": "",
            "zerolinecolor": "white"
           },
           "yaxis": {
            "backgroundcolor": "#E5ECF6",
            "gridcolor": "white",
            "gridwidth": 2,
            "linecolor": "white",
            "showbackground": true,
            "ticks": "",
            "zerolinecolor": "white"
           },
           "zaxis": {
            "backgroundcolor": "#E5ECF6",
            "gridcolor": "white",
            "gridwidth": 2,
            "linecolor": "white",
            "showbackground": true,
            "ticks": "",
            "zerolinecolor": "white"
           }
          },
          "shapedefaults": {
           "line": {
            "color": "#2a3f5f"
           }
          },
          "ternary": {
           "aaxis": {
            "gridcolor": "white",
            "linecolor": "white",
            "ticks": ""
           },
           "baxis": {
            "gridcolor": "white",
            "linecolor": "white",
            "ticks": ""
           },
           "bgcolor": "#E5ECF6",
           "caxis": {
            "gridcolor": "white",
            "linecolor": "white",
            "ticks": ""
           }
          },
          "title": {
           "x": 0.05
          },
          "xaxis": {
           "automargin": true,
           "gridcolor": "white",
           "linecolor": "white",
           "ticks": "",
           "title": {
            "standoff": 15
           },
           "zerolinecolor": "white",
           "zerolinewidth": 2
          },
          "yaxis": {
           "automargin": true,
           "gridcolor": "white",
           "linecolor": "white",
           "ticks": "",
           "title": {
            "standoff": 15
           },
           "zerolinecolor": "white",
           "zerolinewidth": 2
          }
         }
        },
        "title": {
         "text": "Воронка сценария 'search, tips_show, show_contacts' в разрезе уникальных пользователей"
        }
       }
      }
     },
     "metadata": {},
     "output_type": "display_data"
    }
   ],
   "source": [
    "# Выбираем первый сценарий из топа\n",
    "scenario = top_scenarios.index[2]\n",
    "\n",
    "# Разбиваем сценарий на отдельные действия\n",
    "actions = scenario.split(', ')\n",
    "\n",
    "# Создаем список для хранения данных воронки\n",
    "funnel_data = []\n",
    "\n",
    "# Подсчитываем количество уникальных пользователей на каждом этапе воронки\n",
    "for i, action in enumerate(actions):\n",
    "    users_at_step = set(data[data['event_name'] == action]['user_id'])\n",
    "    if i == 0:\n",
    "        funnel_data.append({'step': action, 'count': len(users_at_step)})\n",
    "    else:\n",
    "        prev_users = set(data[data['event_name'] == actions[i - 1]]['user_id'])\n",
    "        users_at_step = users_at_step.intersection(prev_users)\n",
    "        funnel_data.append({'step': action, 'count': len(users_at_step)})\n",
    "\n",
    "# Построение воронки с помощью Plotly\n",
    "fig = go.Figure()\n",
    "\n",
    "fig.add_trace(go.Funnel(\n",
    "    name='Сценарий',\n",
    "    y=[step['step'] for step in funnel_data],\n",
    "    x=[step['count'] for step in funnel_data],\n",
    "    textinfo='value+percent previous',\n",
    "    marker=dict(color=\"skyblue\"),\n",
    "    textposition=\"inside\",\n",
    "    textfont=dict(family=\"Arial\", size=12, color=\"white\")))\n",
    "\n",
    "fig.update_layout(\n",
    "    title=f\"Воронка сценария '{scenario}' в разрезе уникальных пользователей\",\n",
    "    font=dict(family=\"Arial\", size=12),\n",
    "    plot_bgcolor='rgba(0,0,0,0)',\n",
    "    paper_bgcolor='rgba(0,0,0,0)',\n",
    "    height=600\n",
    ")\n",
    "\n",
    "fig.show()"
   ]
  },
  {
   "cell_type": "markdown",
   "metadata": {
    "id": "_jOpqTts4rdP"
   },
   "source": [
    "### Вывод по анализу воронок\n"
   ]
  },
  {
   "cell_type": "markdown",
   "metadata": {
    "id": "QwDwX4YcwOMh"
   },
   "source": [
    "- Второй сценарий имеет самую высокую общую конверсию в просмотр контактов (show_contacts) после этапа показа фотографий (photos_show).\n",
    "  Однако, сценарий 3 также выглядит достаточно привлекательным, особенно если учесть, что конверсия на этапе показа рекомендованных объявлений (tips_show) выше, чем в первом сценарии.\n",
    "\n",
    "- Первый сценарий имеет низкую конверсию на этапе просмотра контактов (show_contacts), возможно из-за невысокой конверсии на предыдущем этапе (tips_show).\n",
    "\n",
    "- Таким образом, на основе предоставленных данных, можно сделать вывод, что сценарий 3 обладает наилучшей конверсией в целевое действие \"просмотр контактов\", за счет более высокой конверсии на этапе предъявления рекомендованных объявлений. Однако, второй сценарий также представляет собой хороший вариант благодаря высокой конверсии после показа фотографий.\n"
   ]
  },
  {
   "cell_type": "markdown",
   "metadata": {
    "id": "vBv5n5a4c2gL"
   },
   "source": [
    "### Оценка действий, совершеных пользователями, которые просматривают контакты\n"
   ]
  },
  {
   "cell_type": "code",
   "execution_count": 35,
   "metadata": {},
   "outputs": [
    {
     "data": {
      "application/vnd.plotly.v1+json": {
       "config": {
        "plotlyServerURL": "https://plot.ly"
       },
       "data": [
        {
         "textposition": "outside",
         "texttemplate": "%{y:.2f}%",
         "type": "bar",
         "x": [
          "tips_show",
          "show_contacts",
          "photos_show",
          "search",
          "advert_open",
          "Other"
         ],
         "y": [
          47.77,
          16.48,
          13.16,
          7.77,
          5.96,
          8.87
         ]
        }
       ],
       "layout": {
        "font": {
         "family": "Arial",
         "size": 12
        },
        "height": 600,
        "template": {
         "data": {
          "bar": [
           {
            "error_x": {
             "color": "#2a3f5f"
            },
            "error_y": {
             "color": "#2a3f5f"
            },
            "marker": {
             "line": {
              "color": "#E5ECF6",
              "width": 0.5
             },
             "pattern": {
              "fillmode": "overlay",
              "size": 10,
              "solidity": 0.2
             }
            },
            "type": "bar"
           }
          ],
          "barpolar": [
           {
            "marker": {
             "line": {
              "color": "#E5ECF6",
              "width": 0.5
             },
             "pattern": {
              "fillmode": "overlay",
              "size": 10,
              "solidity": 0.2
             }
            },
            "type": "barpolar"
           }
          ],
          "carpet": [
           {
            "aaxis": {
             "endlinecolor": "#2a3f5f",
             "gridcolor": "white",
             "linecolor": "white",
             "minorgridcolor": "white",
             "startlinecolor": "#2a3f5f"
            },
            "baxis": {
             "endlinecolor": "#2a3f5f",
             "gridcolor": "white",
             "linecolor": "white",
             "minorgridcolor": "white",
             "startlinecolor": "#2a3f5f"
            },
            "type": "carpet"
           }
          ],
          "choropleth": [
           {
            "colorbar": {
             "outlinewidth": 0,
             "ticks": ""
            },
            "type": "choropleth"
           }
          ],
          "contour": [
           {
            "colorbar": {
             "outlinewidth": 0,
             "ticks": ""
            },
            "colorscale": [
             [
              0,
              "#0d0887"
             ],
             [
              0.1111111111111111,
              "#46039f"
             ],
             [
              0.2222222222222222,
              "#7201a8"
             ],
             [
              0.3333333333333333,
              "#9c179e"
             ],
             [
              0.4444444444444444,
              "#bd3786"
             ],
             [
              0.5555555555555556,
              "#d8576b"
             ],
             [
              0.6666666666666666,
              "#ed7953"
             ],
             [
              0.7777777777777778,
              "#fb9f3a"
             ],
             [
              0.8888888888888888,
              "#fdca26"
             ],
             [
              1,
              "#f0f921"
             ]
            ],
            "type": "contour"
           }
          ],
          "contourcarpet": [
           {
            "colorbar": {
             "outlinewidth": 0,
             "ticks": ""
            },
            "type": "contourcarpet"
           }
          ],
          "heatmap": [
           {
            "colorbar": {
             "outlinewidth": 0,
             "ticks": ""
            },
            "colorscale": [
             [
              0,
              "#0d0887"
             ],
             [
              0.1111111111111111,
              "#46039f"
             ],
             [
              0.2222222222222222,
              "#7201a8"
             ],
             [
              0.3333333333333333,
              "#9c179e"
             ],
             [
              0.4444444444444444,
              "#bd3786"
             ],
             [
              0.5555555555555556,
              "#d8576b"
             ],
             [
              0.6666666666666666,
              "#ed7953"
             ],
             [
              0.7777777777777778,
              "#fb9f3a"
             ],
             [
              0.8888888888888888,
              "#fdca26"
             ],
             [
              1,
              "#f0f921"
             ]
            ],
            "type": "heatmap"
           }
          ],
          "heatmapgl": [
           {
            "colorbar": {
             "outlinewidth": 0,
             "ticks": ""
            },
            "colorscale": [
             [
              0,
              "#0d0887"
             ],
             [
              0.1111111111111111,
              "#46039f"
             ],
             [
              0.2222222222222222,
              "#7201a8"
             ],
             [
              0.3333333333333333,
              "#9c179e"
             ],
             [
              0.4444444444444444,
              "#bd3786"
             ],
             [
              0.5555555555555556,
              "#d8576b"
             ],
             [
              0.6666666666666666,
              "#ed7953"
             ],
             [
              0.7777777777777778,
              "#fb9f3a"
             ],
             [
              0.8888888888888888,
              "#fdca26"
             ],
             [
              1,
              "#f0f921"
             ]
            ],
            "type": "heatmapgl"
           }
          ],
          "histogram": [
           {
            "marker": {
             "pattern": {
              "fillmode": "overlay",
              "size": 10,
              "solidity": 0.2
             }
            },
            "type": "histogram"
           }
          ],
          "histogram2d": [
           {
            "colorbar": {
             "outlinewidth": 0,
             "ticks": ""
            },
            "colorscale": [
             [
              0,
              "#0d0887"
             ],
             [
              0.1111111111111111,
              "#46039f"
             ],
             [
              0.2222222222222222,
              "#7201a8"
             ],
             [
              0.3333333333333333,
              "#9c179e"
             ],
             [
              0.4444444444444444,
              "#bd3786"
             ],
             [
              0.5555555555555556,
              "#d8576b"
             ],
             [
              0.6666666666666666,
              "#ed7953"
             ],
             [
              0.7777777777777778,
              "#fb9f3a"
             ],
             [
              0.8888888888888888,
              "#fdca26"
             ],
             [
              1,
              "#f0f921"
             ]
            ],
            "type": "histogram2d"
           }
          ],
          "histogram2dcontour": [
           {
            "colorbar": {
             "outlinewidth": 0,
             "ticks": ""
            },
            "colorscale": [
             [
              0,
              "#0d0887"
             ],
             [
              0.1111111111111111,
              "#46039f"
             ],
             [
              0.2222222222222222,
              "#7201a8"
             ],
             [
              0.3333333333333333,
              "#9c179e"
             ],
             [
              0.4444444444444444,
              "#bd3786"
             ],
             [
              0.5555555555555556,
              "#d8576b"
             ],
             [
              0.6666666666666666,
              "#ed7953"
             ],
             [
              0.7777777777777778,
              "#fb9f3a"
             ],
             [
              0.8888888888888888,
              "#fdca26"
             ],
             [
              1,
              "#f0f921"
             ]
            ],
            "type": "histogram2dcontour"
           }
          ],
          "mesh3d": [
           {
            "colorbar": {
             "outlinewidth": 0,
             "ticks": ""
            },
            "type": "mesh3d"
           }
          ],
          "parcoords": [
           {
            "line": {
             "colorbar": {
              "outlinewidth": 0,
              "ticks": ""
             }
            },
            "type": "parcoords"
           }
          ],
          "pie": [
           {
            "automargin": true,
            "type": "pie"
           }
          ],
          "scatter": [
           {
            "fillpattern": {
             "fillmode": "overlay",
             "size": 10,
             "solidity": 0.2
            },
            "type": "scatter"
           }
          ],
          "scatter3d": [
           {
            "line": {
             "colorbar": {
              "outlinewidth": 0,
              "ticks": ""
             }
            },
            "marker": {
             "colorbar": {
              "outlinewidth": 0,
              "ticks": ""
             }
            },
            "type": "scatter3d"
           }
          ],
          "scattercarpet": [
           {
            "marker": {
             "colorbar": {
              "outlinewidth": 0,
              "ticks": ""
             }
            },
            "type": "scattercarpet"
           }
          ],
          "scattergeo": [
           {
            "marker": {
             "colorbar": {
              "outlinewidth": 0,
              "ticks": ""
             }
            },
            "type": "scattergeo"
           }
          ],
          "scattergl": [
           {
            "marker": {
             "colorbar": {
              "outlinewidth": 0,
              "ticks": ""
             }
            },
            "type": "scattergl"
           }
          ],
          "scattermapbox": [
           {
            "marker": {
             "colorbar": {
              "outlinewidth": 0,
              "ticks": ""
             }
            },
            "type": "scattermapbox"
           }
          ],
          "scatterpolar": [
           {
            "marker": {
             "colorbar": {
              "outlinewidth": 0,
              "ticks": ""
             }
            },
            "type": "scatterpolar"
           }
          ],
          "scatterpolargl": [
           {
            "marker": {
             "colorbar": {
              "outlinewidth": 0,
              "ticks": ""
             }
            },
            "type": "scatterpolargl"
           }
          ],
          "scatterternary": [
           {
            "marker": {
             "colorbar": {
              "outlinewidth": 0,
              "ticks": ""
             }
            },
            "type": "scatterternary"
           }
          ],
          "surface": [
           {
            "colorbar": {
             "outlinewidth": 0,
             "ticks": ""
            },
            "colorscale": [
             [
              0,
              "#0d0887"
             ],
             [
              0.1111111111111111,
              "#46039f"
             ],
             [
              0.2222222222222222,
              "#7201a8"
             ],
             [
              0.3333333333333333,
              "#9c179e"
             ],
             [
              0.4444444444444444,
              "#bd3786"
             ],
             [
              0.5555555555555556,
              "#d8576b"
             ],
             [
              0.6666666666666666,
              "#ed7953"
             ],
             [
              0.7777777777777778,
              "#fb9f3a"
             ],
             [
              0.8888888888888888,
              "#fdca26"
             ],
             [
              1,
              "#f0f921"
             ]
            ],
            "type": "surface"
           }
          ],
          "table": [
           {
            "cells": {
             "fill": {
              "color": "#EBF0F8"
             },
             "line": {
              "color": "white"
             }
            },
            "header": {
             "fill": {
              "color": "#C8D4E3"
             },
             "line": {
              "color": "white"
             }
            },
            "type": "table"
           }
          ]
         },
         "layout": {
          "annotationdefaults": {
           "arrowcolor": "#2a3f5f",
           "arrowhead": 0,
           "arrowwidth": 1
          },
          "autotypenumbers": "strict",
          "coloraxis": {
           "colorbar": {
            "outlinewidth": 0,
            "ticks": ""
           }
          },
          "colorscale": {
           "diverging": [
            [
             0,
             "#8e0152"
            ],
            [
             0.1,
             "#c51b7d"
            ],
            [
             0.2,
             "#de77ae"
            ],
            [
             0.3,
             "#f1b6da"
            ],
            [
             0.4,
             "#fde0ef"
            ],
            [
             0.5,
             "#f7f7f7"
            ],
            [
             0.6,
             "#e6f5d0"
            ],
            [
             0.7,
             "#b8e186"
            ],
            [
             0.8,
             "#7fbc41"
            ],
            [
             0.9,
             "#4d9221"
            ],
            [
             1,
             "#276419"
            ]
           ],
           "sequential": [
            [
             0,
             "#0d0887"
            ],
            [
             0.1111111111111111,
             "#46039f"
            ],
            [
             0.2222222222222222,
             "#7201a8"
            ],
            [
             0.3333333333333333,
             "#9c179e"
            ],
            [
             0.4444444444444444,
             "#bd3786"
            ],
            [
             0.5555555555555556,
             "#d8576b"
            ],
            [
             0.6666666666666666,
             "#ed7953"
            ],
            [
             0.7777777777777778,
             "#fb9f3a"
            ],
            [
             0.8888888888888888,
             "#fdca26"
            ],
            [
             1,
             "#f0f921"
            ]
           ],
           "sequentialminus": [
            [
             0,
             "#0d0887"
            ],
            [
             0.1111111111111111,
             "#46039f"
            ],
            [
             0.2222222222222222,
             "#7201a8"
            ],
            [
             0.3333333333333333,
             "#9c179e"
            ],
            [
             0.4444444444444444,
             "#bd3786"
            ],
            [
             0.5555555555555556,
             "#d8576b"
            ],
            [
             0.6666666666666666,
             "#ed7953"
            ],
            [
             0.7777777777777778,
             "#fb9f3a"
            ],
            [
             0.8888888888888888,
             "#fdca26"
            ],
            [
             1,
             "#f0f921"
            ]
           ]
          },
          "colorway": [
           "#636efa",
           "#EF553B",
           "#00cc96",
           "#ab63fa",
           "#FFA15A",
           "#19d3f3",
           "#FF6692",
           "#B6E880",
           "#FF97FF",
           "#FECB52"
          ],
          "font": {
           "color": "#2a3f5f"
          },
          "geo": {
           "bgcolor": "white",
           "lakecolor": "white",
           "landcolor": "#E5ECF6",
           "showlakes": true,
           "showland": true,
           "subunitcolor": "white"
          },
          "hoverlabel": {
           "align": "left"
          },
          "hovermode": "closest",
          "mapbox": {
           "style": "light"
          },
          "paper_bgcolor": "white",
          "plot_bgcolor": "#E5ECF6",
          "polar": {
           "angularaxis": {
            "gridcolor": "white",
            "linecolor": "white",
            "ticks": ""
           },
           "bgcolor": "#E5ECF6",
           "radialaxis": {
            "gridcolor": "white",
            "linecolor": "white",
            "ticks": ""
           }
          },
          "scene": {
           "xaxis": {
            "backgroundcolor": "#E5ECF6",
            "gridcolor": "white",
            "gridwidth": 2,
            "linecolor": "white",
            "showbackground": true,
            "ticks": "",
            "zerolinecolor": "white"
           },
           "yaxis": {
            "backgroundcolor": "#E5ECF6",
            "gridcolor": "white",
            "gridwidth": 2,
            "linecolor": "white",
            "showbackground": true,
            "ticks": "",
            "zerolinecolor": "white"
           },
           "zaxis": {
            "backgroundcolor": "#E5ECF6",
            "gridcolor": "white",
            "gridwidth": 2,
            "linecolor": "white",
            "showbackground": true,
            "ticks": "",
            "zerolinecolor": "white"
           }
          },
          "shapedefaults": {
           "line": {
            "color": "#2a3f5f"
           }
          },
          "ternary": {
           "aaxis": {
            "gridcolor": "white",
            "linecolor": "white",
            "ticks": ""
           },
           "baxis": {
            "gridcolor": "white",
            "linecolor": "white",
            "ticks": ""
           },
           "bgcolor": "#E5ECF6",
           "caxis": {
            "gridcolor": "white",
            "linecolor": "white",
            "ticks": ""
           }
          },
          "title": {
           "x": 0.05
          },
          "xaxis": {
           "automargin": true,
           "gridcolor": "white",
           "linecolor": "white",
           "ticks": "",
           "title": {
            "standoff": 15
           },
           "zerolinecolor": "white",
           "zerolinewidth": 2
          },
          "yaxis": {
           "automargin": true,
           "gridcolor": "white",
           "linecolor": "white",
           "ticks": "",
           "title": {
            "standoff": 15
           },
           "zerolinecolor": "white",
           "zerolinewidth": 2
          }
         }
        },
        "title": {
         "text": "Процентное соотношение топ-5 событий и 'других' для пользователей, которые просматривали контакты"
        },
        "xaxis": {
         "title": {
          "text": "Событие"
         }
        },
        "yaxis": {
         "title": {
          "text": "Процент"
         }
        }
       }
      }
     },
     "metadata": {},
     "output_type": "display_data"
    }
   ],
   "source": [
    "# Получение списка пользователей, которые просматривали контакты\n",
    "users_with_contacts_show = data[data['event_name']\n",
    "                                == 'show_contacts']['user_id'].unique()\n",
    "\n",
    "# Фильтрация данных только для пользователей, которые просматривали контакты\n",
    "filtered_data = data[data['user_id'].isin(users_with_contacts_show)]\n",
    "\n",
    "# Подсчет количества событий для каждого типа\n",
    "event_counts = filtered_data.groupby(\n",
    "    'event_name').size().reset_index(name='count')\n",
    "\n",
    "# Подсчет общего числа событий\n",
    "total_events = event_counts['count'].sum()\n",
    "\n",
    "# Выделение топ-5 категорий\n",
    "top_events = event_counts.sort_values(by='count', ascending=False).head(5)\n",
    "\n",
    "# Создание категории \"другие\" для остальных событий\n",
    "other_count = total_events - top_events['count'].sum()\n",
    "other_row = pd.DataFrame({'event_name': ['Other'], 'count': [other_count]})\n",
    "event_counts = pd.concat([top_events, other_row])\n",
    "\n",
    "# Рассчет процентного соотношения\n",
    "event_counts['percent'] = (event_counts['count'] / total_events * 100).round(2)\n",
    "\n",
    "# Создание столбчатой диаграммы\n",
    "fig = go.Figure(\n",
    "    data=[go.Bar(x=event_counts['event_name'], y=event_counts['percent'])])\n",
    "\n",
    "# Настройка макета\n",
    "fig.update_layout(\n",
    "    title=\"Процентное соотношение топ-5 событий и 'других' для пользователей, которые просматривали контакты\",\n",
    "    xaxis=dict(title='Событие'),\n",
    "    yaxis=dict(title='Процент'),\n",
    "    font=dict(family=\"Arial\", size=12),\n",
    "    height=600\n",
    ")\n",
    "\n",
    "fig.update_traces(texttemplate='%{y:.2f}%', textposition='outside')\n",
    "\n",
    "# Отображение диаграммы\n",
    "fig.show()"
   ]
  },
  {
   "cell_type": "markdown",
   "metadata": {
    "id": "l6rLoL9Jltwl"
   },
   "source": [
    "### Оценка действий, совершеных пользователями, которые не просматривают контакты\n"
   ]
  },
  {
   "cell_type": "code",
   "execution_count": 36,
   "metadata": {
    "id": "dfREZ1t0lta_"
   },
   "outputs": [
    {
     "data": {
      "application/vnd.plotly.v1+json": {
       "config": {
        "plotlyServerURL": "https://plot.ly"
       },
       "data": [
        {
         "textposition": "outside",
         "texttemplate": "%{y:.2f}%",
         "type": "bar",
         "x": [
          "tips_show",
          "photos_show",
          "search",
          "advert_open",
          "map",
          "Other"
         ],
         "y": [
          58.58,
          12.66,
          9.97,
          9.82,
          5.8,
          3.17
         ]
        }
       ],
       "layout": {
        "font": {
         "family": "Arial",
         "size": 12
        },
        "height": 600,
        "template": {
         "data": {
          "bar": [
           {
            "error_x": {
             "color": "#2a3f5f"
            },
            "error_y": {
             "color": "#2a3f5f"
            },
            "marker": {
             "line": {
              "color": "#E5ECF6",
              "width": 0.5
             },
             "pattern": {
              "fillmode": "overlay",
              "size": 10,
              "solidity": 0.2
             }
            },
            "type": "bar"
           }
          ],
          "barpolar": [
           {
            "marker": {
             "line": {
              "color": "#E5ECF6",
              "width": 0.5
             },
             "pattern": {
              "fillmode": "overlay",
              "size": 10,
              "solidity": 0.2
             }
            },
            "type": "barpolar"
           }
          ],
          "carpet": [
           {
            "aaxis": {
             "endlinecolor": "#2a3f5f",
             "gridcolor": "white",
             "linecolor": "white",
             "minorgridcolor": "white",
             "startlinecolor": "#2a3f5f"
            },
            "baxis": {
             "endlinecolor": "#2a3f5f",
             "gridcolor": "white",
             "linecolor": "white",
             "minorgridcolor": "white",
             "startlinecolor": "#2a3f5f"
            },
            "type": "carpet"
           }
          ],
          "choropleth": [
           {
            "colorbar": {
             "outlinewidth": 0,
             "ticks": ""
            },
            "type": "choropleth"
           }
          ],
          "contour": [
           {
            "colorbar": {
             "outlinewidth": 0,
             "ticks": ""
            },
            "colorscale": [
             [
              0,
              "#0d0887"
             ],
             [
              0.1111111111111111,
              "#46039f"
             ],
             [
              0.2222222222222222,
              "#7201a8"
             ],
             [
              0.3333333333333333,
              "#9c179e"
             ],
             [
              0.4444444444444444,
              "#bd3786"
             ],
             [
              0.5555555555555556,
              "#d8576b"
             ],
             [
              0.6666666666666666,
              "#ed7953"
             ],
             [
              0.7777777777777778,
              "#fb9f3a"
             ],
             [
              0.8888888888888888,
              "#fdca26"
             ],
             [
              1,
              "#f0f921"
             ]
            ],
            "type": "contour"
           }
          ],
          "contourcarpet": [
           {
            "colorbar": {
             "outlinewidth": 0,
             "ticks": ""
            },
            "type": "contourcarpet"
           }
          ],
          "heatmap": [
           {
            "colorbar": {
             "outlinewidth": 0,
             "ticks": ""
            },
            "colorscale": [
             [
              0,
              "#0d0887"
             ],
             [
              0.1111111111111111,
              "#46039f"
             ],
             [
              0.2222222222222222,
              "#7201a8"
             ],
             [
              0.3333333333333333,
              "#9c179e"
             ],
             [
              0.4444444444444444,
              "#bd3786"
             ],
             [
              0.5555555555555556,
              "#d8576b"
             ],
             [
              0.6666666666666666,
              "#ed7953"
             ],
             [
              0.7777777777777778,
              "#fb9f3a"
             ],
             [
              0.8888888888888888,
              "#fdca26"
             ],
             [
              1,
              "#f0f921"
             ]
            ],
            "type": "heatmap"
           }
          ],
          "heatmapgl": [
           {
            "colorbar": {
             "outlinewidth": 0,
             "ticks": ""
            },
            "colorscale": [
             [
              0,
              "#0d0887"
             ],
             [
              0.1111111111111111,
              "#46039f"
             ],
             [
              0.2222222222222222,
              "#7201a8"
             ],
             [
              0.3333333333333333,
              "#9c179e"
             ],
             [
              0.4444444444444444,
              "#bd3786"
             ],
             [
              0.5555555555555556,
              "#d8576b"
             ],
             [
              0.6666666666666666,
              "#ed7953"
             ],
             [
              0.7777777777777778,
              "#fb9f3a"
             ],
             [
              0.8888888888888888,
              "#fdca26"
             ],
             [
              1,
              "#f0f921"
             ]
            ],
            "type": "heatmapgl"
           }
          ],
          "histogram": [
           {
            "marker": {
             "pattern": {
              "fillmode": "overlay",
              "size": 10,
              "solidity": 0.2
             }
            },
            "type": "histogram"
           }
          ],
          "histogram2d": [
           {
            "colorbar": {
             "outlinewidth": 0,
             "ticks": ""
            },
            "colorscale": [
             [
              0,
              "#0d0887"
             ],
             [
              0.1111111111111111,
              "#46039f"
             ],
             [
              0.2222222222222222,
              "#7201a8"
             ],
             [
              0.3333333333333333,
              "#9c179e"
             ],
             [
              0.4444444444444444,
              "#bd3786"
             ],
             [
              0.5555555555555556,
              "#d8576b"
             ],
             [
              0.6666666666666666,
              "#ed7953"
             ],
             [
              0.7777777777777778,
              "#fb9f3a"
             ],
             [
              0.8888888888888888,
              "#fdca26"
             ],
             [
              1,
              "#f0f921"
             ]
            ],
            "type": "histogram2d"
           }
          ],
          "histogram2dcontour": [
           {
            "colorbar": {
             "outlinewidth": 0,
             "ticks": ""
            },
            "colorscale": [
             [
              0,
              "#0d0887"
             ],
             [
              0.1111111111111111,
              "#46039f"
             ],
             [
              0.2222222222222222,
              "#7201a8"
             ],
             [
              0.3333333333333333,
              "#9c179e"
             ],
             [
              0.4444444444444444,
              "#bd3786"
             ],
             [
              0.5555555555555556,
              "#d8576b"
             ],
             [
              0.6666666666666666,
              "#ed7953"
             ],
             [
              0.7777777777777778,
              "#fb9f3a"
             ],
             [
              0.8888888888888888,
              "#fdca26"
             ],
             [
              1,
              "#f0f921"
             ]
            ],
            "type": "histogram2dcontour"
           }
          ],
          "mesh3d": [
           {
            "colorbar": {
             "outlinewidth": 0,
             "ticks": ""
            },
            "type": "mesh3d"
           }
          ],
          "parcoords": [
           {
            "line": {
             "colorbar": {
              "outlinewidth": 0,
              "ticks": ""
             }
            },
            "type": "parcoords"
           }
          ],
          "pie": [
           {
            "automargin": true,
            "type": "pie"
           }
          ],
          "scatter": [
           {
            "fillpattern": {
             "fillmode": "overlay",
             "size": 10,
             "solidity": 0.2
            },
            "type": "scatter"
           }
          ],
          "scatter3d": [
           {
            "line": {
             "colorbar": {
              "outlinewidth": 0,
              "ticks": ""
             }
            },
            "marker": {
             "colorbar": {
              "outlinewidth": 0,
              "ticks": ""
             }
            },
            "type": "scatter3d"
           }
          ],
          "scattercarpet": [
           {
            "marker": {
             "colorbar": {
              "outlinewidth": 0,
              "ticks": ""
             }
            },
            "type": "scattercarpet"
           }
          ],
          "scattergeo": [
           {
            "marker": {
             "colorbar": {
              "outlinewidth": 0,
              "ticks": ""
             }
            },
            "type": "scattergeo"
           }
          ],
          "scattergl": [
           {
            "marker": {
             "colorbar": {
              "outlinewidth": 0,
              "ticks": ""
             }
            },
            "type": "scattergl"
           }
          ],
          "scattermapbox": [
           {
            "marker": {
             "colorbar": {
              "outlinewidth": 0,
              "ticks": ""
             }
            },
            "type": "scattermapbox"
           }
          ],
          "scatterpolar": [
           {
            "marker": {
             "colorbar": {
              "outlinewidth": 0,
              "ticks": ""
             }
            },
            "type": "scatterpolar"
           }
          ],
          "scatterpolargl": [
           {
            "marker": {
             "colorbar": {
              "outlinewidth": 0,
              "ticks": ""
             }
            },
            "type": "scatterpolargl"
           }
          ],
          "scatterternary": [
           {
            "marker": {
             "colorbar": {
              "outlinewidth": 0,
              "ticks": ""
             }
            },
            "type": "scatterternary"
           }
          ],
          "surface": [
           {
            "colorbar": {
             "outlinewidth": 0,
             "ticks": ""
            },
            "colorscale": [
             [
              0,
              "#0d0887"
             ],
             [
              0.1111111111111111,
              "#46039f"
             ],
             [
              0.2222222222222222,
              "#7201a8"
             ],
             [
              0.3333333333333333,
              "#9c179e"
             ],
             [
              0.4444444444444444,
              "#bd3786"
             ],
             [
              0.5555555555555556,
              "#d8576b"
             ],
             [
              0.6666666666666666,
              "#ed7953"
             ],
             [
              0.7777777777777778,
              "#fb9f3a"
             ],
             [
              0.8888888888888888,
              "#fdca26"
             ],
             [
              1,
              "#f0f921"
             ]
            ],
            "type": "surface"
           }
          ],
          "table": [
           {
            "cells": {
             "fill": {
              "color": "#EBF0F8"
             },
             "line": {
              "color": "white"
             }
            },
            "header": {
             "fill": {
              "color": "#C8D4E3"
             },
             "line": {
              "color": "white"
             }
            },
            "type": "table"
           }
          ]
         },
         "layout": {
          "annotationdefaults": {
           "arrowcolor": "#2a3f5f",
           "arrowhead": 0,
           "arrowwidth": 1
          },
          "autotypenumbers": "strict",
          "coloraxis": {
           "colorbar": {
            "outlinewidth": 0,
            "ticks": ""
           }
          },
          "colorscale": {
           "diverging": [
            [
             0,
             "#8e0152"
            ],
            [
             0.1,
             "#c51b7d"
            ],
            [
             0.2,
             "#de77ae"
            ],
            [
             0.3,
             "#f1b6da"
            ],
            [
             0.4,
             "#fde0ef"
            ],
            [
             0.5,
             "#f7f7f7"
            ],
            [
             0.6,
             "#e6f5d0"
            ],
            [
             0.7,
             "#b8e186"
            ],
            [
             0.8,
             "#7fbc41"
            ],
            [
             0.9,
             "#4d9221"
            ],
            [
             1,
             "#276419"
            ]
           ],
           "sequential": [
            [
             0,
             "#0d0887"
            ],
            [
             0.1111111111111111,
             "#46039f"
            ],
            [
             0.2222222222222222,
             "#7201a8"
            ],
            [
             0.3333333333333333,
             "#9c179e"
            ],
            [
             0.4444444444444444,
             "#bd3786"
            ],
            [
             0.5555555555555556,
             "#d8576b"
            ],
            [
             0.6666666666666666,
             "#ed7953"
            ],
            [
             0.7777777777777778,
             "#fb9f3a"
            ],
            [
             0.8888888888888888,
             "#fdca26"
            ],
            [
             1,
             "#f0f921"
            ]
           ],
           "sequentialminus": [
            [
             0,
             "#0d0887"
            ],
            [
             0.1111111111111111,
             "#46039f"
            ],
            [
             0.2222222222222222,
             "#7201a8"
            ],
            [
             0.3333333333333333,
             "#9c179e"
            ],
            [
             0.4444444444444444,
             "#bd3786"
            ],
            [
             0.5555555555555556,
             "#d8576b"
            ],
            [
             0.6666666666666666,
             "#ed7953"
            ],
            [
             0.7777777777777778,
             "#fb9f3a"
            ],
            [
             0.8888888888888888,
             "#fdca26"
            ],
            [
             1,
             "#f0f921"
            ]
           ]
          },
          "colorway": [
           "#636efa",
           "#EF553B",
           "#00cc96",
           "#ab63fa",
           "#FFA15A",
           "#19d3f3",
           "#FF6692",
           "#B6E880",
           "#FF97FF",
           "#FECB52"
          ],
          "font": {
           "color": "#2a3f5f"
          },
          "geo": {
           "bgcolor": "white",
           "lakecolor": "white",
           "landcolor": "#E5ECF6",
           "showlakes": true,
           "showland": true,
           "subunitcolor": "white"
          },
          "hoverlabel": {
           "align": "left"
          },
          "hovermode": "closest",
          "mapbox": {
           "style": "light"
          },
          "paper_bgcolor": "white",
          "plot_bgcolor": "#E5ECF6",
          "polar": {
           "angularaxis": {
            "gridcolor": "white",
            "linecolor": "white",
            "ticks": ""
           },
           "bgcolor": "#E5ECF6",
           "radialaxis": {
            "gridcolor": "white",
            "linecolor": "white",
            "ticks": ""
           }
          },
          "scene": {
           "xaxis": {
            "backgroundcolor": "#E5ECF6",
            "gridcolor": "white",
            "gridwidth": 2,
            "linecolor": "white",
            "showbackground": true,
            "ticks": "",
            "zerolinecolor": "white"
           },
           "yaxis": {
            "backgroundcolor": "#E5ECF6",
            "gridcolor": "white",
            "gridwidth": 2,
            "linecolor": "white",
            "showbackground": true,
            "ticks": "",
            "zerolinecolor": "white"
           },
           "zaxis": {
            "backgroundcolor": "#E5ECF6",
            "gridcolor": "white",
            "gridwidth": 2,
            "linecolor": "white",
            "showbackground": true,
            "ticks": "",
            "zerolinecolor": "white"
           }
          },
          "shapedefaults": {
           "line": {
            "color": "#2a3f5f"
           }
          },
          "ternary": {
           "aaxis": {
            "gridcolor": "white",
            "linecolor": "white",
            "ticks": ""
           },
           "baxis": {
            "gridcolor": "white",
            "linecolor": "white",
            "ticks": ""
           },
           "bgcolor": "#E5ECF6",
           "caxis": {
            "gridcolor": "white",
            "linecolor": "white",
            "ticks": ""
           }
          },
          "title": {
           "x": 0.05
          },
          "xaxis": {
           "automargin": true,
           "gridcolor": "white",
           "linecolor": "white",
           "ticks": "",
           "title": {
            "standoff": 15
           },
           "zerolinecolor": "white",
           "zerolinewidth": 2
          },
          "yaxis": {
           "automargin": true,
           "gridcolor": "white",
           "linecolor": "white",
           "ticks": "",
           "title": {
            "standoff": 15
           },
           "zerolinecolor": "white",
           "zerolinewidth": 2
          }
         }
        },
        "title": {
         "text": "Процентное соотношение топ-5 событий и 'других' для пользователей, которые НЕ просматривали контакты"
        },
        "xaxis": {
         "title": {
          "text": "Событие"
         }
        },
        "yaxis": {
         "title": {
          "text": "Процент"
         }
        }
       }
      }
     },
     "metadata": {},
     "output_type": "display_data"
    }
   ],
   "source": [
    "# Получение списка пользователей, которые НЕ просматривали контакты\n",
    "users_without_contacts_show = data[~data['user_id'].isin(\n",
    "    users_with_contacts_show)]['user_id'].unique()\n",
    "\n",
    "# Фильтрация данных только для пользователей, которые НЕ просматривали контакты\n",
    "filtered_data_without_contacts = data[data['user_id'].isin(\n",
    "    users_without_contacts_show)]\n",
    "\n",
    "# Подсчет количества событий для каждого типа\n",
    "event_counts_without_contacts = filtered_data_without_contacts.groupby(\n",
    "    'event_name').size().reset_index(name='count')\n",
    "\n",
    "# Подсчет общего числа событий\n",
    "total_events_without_contacts = event_counts_without_contacts['count'].sum()\n",
    "\n",
    "# Выделение топ-5 категорий\n",
    "top_events_without_contacts = event_counts_without_contacts.sort_values(\n",
    "    by='count', ascending=False).head(5)\n",
    "\n",
    "# Создание категории \"другие\" для остальных событий\n",
    "other_count_without_contacts = total_events_without_contacts - \\\n",
    "    top_events_without_contacts['count'].sum()\n",
    "other_row_without_contacts = pd.DataFrame(\n",
    "    {'event_name': ['Other'], 'count': [other_count_without_contacts]})\n",
    "event_counts_without_contacts = pd.concat(\n",
    "    [top_events_without_contacts, other_row_without_contacts])\n",
    "\n",
    "# Рассчет процентного соотношения\n",
    "event_counts_without_contacts['percent'] = (\n",
    "    event_counts_without_contacts['count'] / total_events_without_contacts * 100).round(2)\n",
    "\n",
    "# Создание столбчатой диаграммы\n",
    "fig = go.Figure(data=[go.Bar(x=event_counts_without_contacts['event_name'],\n",
    "                y=event_counts_without_contacts['percent'])])\n",
    "\n",
    "# Настройка макета\n",
    "fig.update_layout(\n",
    "    title=\"Процентное соотношение топ-5 событий и 'других' для пользователей, которые НЕ просматривали контакты\",\n",
    "    xaxis=dict(title='Событие'),\n",
    "    yaxis=dict(title='Процент'),\n",
    "    font=dict(family=\"Arial\", size=12),\n",
    "    height=600\n",
    ")\n",
    "\n",
    "fig.update_traces(texttemplate='%{y:.2f}%', textposition='outside')\n",
    "\n",
    "# Отображение диаграммы\n",
    "fig.show()"
   ]
  },
  {
   "cell_type": "markdown",
   "metadata": {
    "id": "t8CVkr_RqGYs"
   },
   "source": [
    "### Вывод по оценке действий групп пользователей, просматревших контакты и не просмотревших контакты.\n"
   ]
  },
  {
   "cell_type": "markdown",
   "metadata": {
    "id": "tox0YKSBqP7n"
   },
   "source": [
    "- Сравнительный анализ действий пользователей, совершивших просмотр контактов, и пользователей, не совершивших его, указывает на незначительные различия в их поведении на платформе. Обе группы пользователей демонстрируют сходные предпочтения и шаблоны взаимодействия:\n",
    "\n",
    "- Просмотр фото: В обеих группах просмотр фотографий является наиболее распространенным действием. Это подтверждает важность визуальной информации для пользователей при принятии решения о недвижимости.\n",
    "\n",
    "- Поиск и фильтрация: Обе группы пользователей проявляют активность в поиске и фильтрации объявлений с целью нахождения наиболее подходящих вариантов.\n",
    "\n",
    "- Открытие объявлений: Открытие обычных объявлений также остается популярным действием как среди пользователей, просмотревших контакты, так и среди тех, кто этого не сделал.\n",
    "\n",
    "- Эти сходства свидетельствуют о том, что ключевые этапы взаимодействия пользователей с платформой остаются неизменными независимо от того, просматривают ли они контакты или нет.\n"
   ]
  },
  {
   "cell_type": "markdown",
   "metadata": {
    "id": "_7eYiPOOyVaZ"
   },
   "source": [
    "## Проверка гипотез\n"
   ]
  },
  {
   "cell_type": "markdown",
   "metadata": {
    "id": "HUD_6LDlo0Ov"
   },
   "source": [
    "### Гипотеза о различиях в конверсии двух групп пользователей совершивших определенные действия\n"
   ]
  },
  {
   "cell_type": "markdown",
   "metadata": {
    "id": "WzQFhUAPyfVN"
   },
   "source": [
    "> **Н0:** Различий в конверсиях в просмотры контактов conacts_show, между группой пользователей совершившими tips_show - tips_click и только tips_show нет.\n",
    "\n",
    "> **Н1:** Есть различия в конверсиях в просмотры контактов conacts_show, между группой пользователей совершившими tips_show - tips_click и только tips_show.\n"
   ]
  },
  {
   "cell_type": "markdown",
   "metadata": {
    "id": "YPJwuqODoeub"
   },
   "source": [
    "#### Подготовка данных\n"
   ]
  },
  {
   "cell_type": "code",
   "execution_count": 72,
   "metadata": {},
   "outputs": [
    {
     "data": {
      "text/plain": [
       "'Уникальных пользователей совершивших `tips_show` и `tips_click`'"
      ]
     },
     "metadata": {},
     "output_type": "display_data"
    },
    {
     "data": {
      "text/plain": [
       "297"
      ]
     },
     "metadata": {},
     "output_type": "display_data"
    },
    {
     "data": {
      "text/plain": [
       "'Уникальных пользователей совершивших `tips_show`'"
      ]
     },
     "metadata": {},
     "output_type": "display_data"
    },
    {
     "data": {
      "text/plain": [
       "2504"
      ]
     },
     "metadata": {},
     "output_type": "display_data"
    },
    {
     "data": {
      "text/plain": [
       "'Уникальных пользователей группы `tips_show` и `tips_click`, совершивших целевое действие'"
      ]
     },
     "metadata": {},
     "output_type": "display_data"
    },
    {
     "data": {
      "text/plain": [
       "91"
      ]
     },
     "metadata": {},
     "output_type": "display_data"
    },
    {
     "data": {
      "text/plain": [
       "'Уникальных пользователей группы `tips_show`, совершивших целевое действие'"
      ]
     },
     "metadata": {},
     "output_type": "display_data"
    },
    {
     "data": {
      "text/plain": [
       "425"
      ]
     },
     "metadata": {},
     "output_type": "display_data"
    }
   ],
   "source": [
    "# создаем пустые фреймы для разделения на группы\n",
    "data_tips_show_click = pd.DataFrame()\n",
    "data_tips_show = pd.DataFrame()\n",
    "\n",
    "'''\n",
    "группируем данные 'data' по столбцу 'user_id', если в группе есть и событие 'tips_click',\n",
    "и событие 'tips_show', то данные этой группы добавляются в data_tips_show_click.\n",
    "В противном случае, если в группе есть только событие 'tips_show', данные добавляются в data_tips_show.\n",
    "'''\n",
    "for name, group in data.groupby('user_id'):\n",
    "    if 'tips_click' in group['event_name'].values and 'tips_show' in group['event_name'].values:\n",
    "        data_tips_show_click = pd.concat([data_tips_show_click, group])\n",
    "    elif 'tips_show' in group['event_name'].values:\n",
    "        data_tips_show = pd.concat([data_tips_show, group])\n",
    "\n",
    "data_tips_show_click.reset_index(drop=True, inplace=True)\n",
    "data_tips_show.reset_index(drop=True, inplace=True)\n",
    "\n",
    "# количество уникальных пользователей в группах data_tips_show_click и data_tips_show\n",
    "group_a_nuniq = data_tips_show_click['user_id'].nunique()\n",
    "group_b_nuniq = data_tips_show['user_id'].nunique()\n",
    "\n",
    "# количество уникальных пользователей в группах, совершивших событие 'show_contacts'.\n",
    "group_a_nuniq_show = data_tips_show_click[data_tips_show_click['event_name']\n",
    "                                          == 'show_contacts']['user_id'].nunique()\n",
    "group_b_nuniq_click = data_tips_show[data_tips_show['event_name']\n",
    "                                     == 'show_contacts']['user_id'].nunique()\n",
    "\n",
    "display('Уникальных пользователей совершивших `tips_show` и `tips_click`', group_a_nuniq)\n",
    "display('Уникальных пользователей совершивших `tips_show`', group_b_nuniq)\n",
    "display('Уникальных пользователей группы `tips_show` и `tips_click`, совершивших целевое действие', group_a_nuniq_show)\n",
    "display('Уникальных пользователей группы `tips_show`, совершивших целевое действие',\n",
    "        group_b_nuniq_click)"
   ]
  },
  {
   "cell_type": "code",
   "execution_count": 73,
   "metadata": {},
   "outputs": [],
   "source": [
    "# конверсии в группах\n",
    "conversion_group_a = group_a_nuniq_show / group_a_nuniq\n",
    "conversion_group_b = group_b_nuniq_click / group_b_nuniq"
   ]
  },
  {
   "cell_type": "markdown",
   "metadata": {
    "id": "Cdla96Qpolgm"
   },
   "source": [
    "#### Тест\n"
   ]
  },
  {
   "cell_type": "code",
   "execution_count": 74,
   "metadata": {
    "colab": {
     "base_uri": "https://localhost:8080/"
    },
    "id": "XMn3EAhXoN-p",
    "outputId": "a85340d0-b5e5-4f47-bcc5-1f287e14f344"
   },
   "outputs": [
    {
     "data": {
      "text/plain": [
       "'Конверсия в группе `tips_show` - `tips_click`'"
      ]
     },
     "metadata": {},
     "output_type": "display_data"
    },
    {
     "data": {
      "text/plain": [
       "0.3063973063973064"
      ]
     },
     "metadata": {},
     "output_type": "display_data"
    },
    {
     "data": {
      "text/plain": [
       "'Конверсия в группе `tips_show`'"
      ]
     },
     "metadata": {},
     "output_type": "display_data"
    },
    {
     "data": {
      "text/plain": [
       "0.16972843450479233"
      ]
     },
     "metadata": {},
     "output_type": "display_data"
    },
    {
     "data": {
      "text/plain": [
       "'p-value: 9.218316568768822e-09'"
      ]
     },
     "metadata": {},
     "output_type": "display_data"
    },
    {
     "data": {
      "text/plain": [
       "'Отвергаем нулевую гипотезу: есть статистически значимая разница в конверсии.'"
      ]
     },
     "metadata": {},
     "output_type": "display_data"
    }
   ],
   "source": [
    "display('Конверсия в группе `tips_show` - `tips_click`', conversion_group_a)\n",
    "display('Конверсия в группе `tips_show`', conversion_group_b)\n",
    "\n",
    "# Задаем данные для теста\n",
    "successes = np.array([group_a_nuniq_show, group_b_nuniq_click])\n",
    "nobs = np.array([group_a_nuniq, group_b_nuniq])\n",
    "\n",
    "# Выполняем z-тест для двух долей\n",
    "stat, pval = proportions_ztest(successes, nobs)\n",
    "\n",
    "\n",
    "# Выводим результаты теста\n",
    "display(f'p-value: {pval}')\n",
    "\n",
    "alpha = 0.05\n",
    "if pval < alpha:\n",
    "    display(\n",
    "        'Отвергаем нулевую гипотезу: есть статистически значимая разница в конверсии.')\n",
    "else:\n",
    "    display('Не можем отвергнуть нулевую гипотезу: нет статистически значимой разницы в конверсии.')"
   ]
  },
  {
   "cell_type": "markdown",
   "metadata": {
    "id": "pESnZpGxpGW3"
   },
   "source": [
    "### Гипотеза о различиях конверсии групп пользователей пришедших из разных источников\n"
   ]
  },
  {
   "cell_type": "markdown",
   "metadata": {
    "id": "jOsqaZGXpYQH"
   },
   "source": [
    "> **Н0:** Нет статистически значимых различий в конверсиях в просмотры контактов conacts_show, групп пользователей установивших приложение из источника google и yandex.\n",
    "\n",
    "> **H1:** Есть статистически значимые различия в конверсиях в просмотры контактов conacts_show, групп пользователей установивших приложение из источника google и yandex.\n"
   ]
  },
  {
   "cell_type": "markdown",
   "metadata": {},
   "source": [
    "#### Подготовка данных\n"
   ]
  },
  {
   "cell_type": "code",
   "execution_count": 77,
   "metadata": {},
   "outputs": [
    {
     "name": "stdout",
     "output_type": "stream",
     "text": [
      "   source  users_count  users_count_show\n",
      "0  yandex         1934               478\n",
      "1  google         1129               275\n"
     ]
    }
   ],
   "source": [
    "# Фильтруем данные по пользователям из yandex и google\n",
    "yandex_data = data[data['source'] == 'yandex']\n",
    "google_data = data[data['source'] == 'google']\n",
    "\n",
    "# Удаляем повторяющиеся события \"show_contacts\" для каждого пользователя\n",
    "yandex_data_unique = yandex_data.drop_duplicates(\n",
    "    subset=['user_id', 'event_name'])\n",
    "google_data_unique = google_data.drop_duplicates(\n",
    "    subset=['user_id', 'event_name'])\n",
    "\n",
    "# Создаем сводные таблицы для подсчета количества уникальных пользователей и пользователей, совершавших действие \"show_contacts\"\n",
    "yandex_summary = pd.DataFrame({'source': ['yandex'],\n",
    "                               'users_count': [yandex_data_unique['user_id'].nunique()],\n",
    "                               'users_count_show': [(yandex_data_unique['event_name'] == 'show_contacts').sum()]})\n",
    "\n",
    "google_summary = pd.DataFrame({'source': ['google'],\n",
    "                               'users_count': [google_data_unique['user_id'].nunique()],\n",
    "                               'users_count_show': [(google_data_unique['event_name'] == 'show_contacts').sum()]})\n",
    "\n",
    "# Объединяем результаты в один датафрейм\n",
    "result = pd.concat([yandex_summary, google_summary], ignore_index=True)\n",
    "\n",
    "print(result)"
   ]
  },
  {
   "cell_type": "code",
   "execution_count": 78,
   "metadata": {},
   "outputs": [
    {
     "name": "stdout",
     "output_type": "stream",
     "text": [
      "Конверсия в просмотры контактов для пользователей из Google: 24.36%\n",
      "Конверсия в просмотры контактов для пользователей из Yandex: 24.72%\n"
     ]
    }
   ],
   "source": [
    "# Рассчитываем конверсию для пользователей из Google\n",
    "conversion_google = (\n",
    "    google_summary['users_count_show'] / google_summary['users_count']) * 100\n",
    "\n",
    "# Рассчитываем конверсию для пользователей из Yandex\n",
    "conversion_yandex = (\n",
    "    yandex_summary['users_count_show'] / yandex_summary['users_count']) * 100\n",
    "\n",
    "# Выводим результаты\n",
    "print(f\"Конверсия в просмотры контактов для пользователей из Google: {\n",
    "      conversion_google.values[0]:.2f}%\")\n",
    "print(f\"Конверсия в просмотры контактов для пользователей из Yandex: {\n",
    "      conversion_yandex.values[0]:.2f}%\")"
   ]
  },
  {
   "cell_type": "markdown",
   "metadata": {
    "id": "M0ttnDacs9C-"
   },
   "source": [
    "#### Тест\n"
   ]
  },
  {
   "cell_type": "code",
   "execution_count": 79,
   "metadata": {
    "colab": {
     "base_uri": "https://localhost:8080/"
    },
    "id": "bt0mVt4iv895",
    "outputId": "5e767429-94fe-43f5-f7e2-27e62b3bbb42"
   },
   "outputs": [
    {
     "data": {
      "text/plain": [
       "'p-value: 0.8244316027993777'"
      ]
     },
     "metadata": {},
     "output_type": "display_data"
    },
    {
     "data": {
      "text/plain": [
       "'Не можем отвергнуть нулевую гипотезу: нет статистически значимой разницы в конверсии.'"
      ]
     },
     "metadata": {},
     "output_type": "display_data"
    }
   ],
   "source": [
    "successes = np.array([google_summary['users_count_show'].iloc[0],\n",
    "                     yandex_summary['users_count_show'].iloc[0]])\n",
    "nobs = np.array([google_summary['users_count'].iloc[0],\n",
    "                yandex_summary['users_count'].iloc[0]])\n",
    "\n",
    "z_stat, p_value = proportions_ztest(successes, nobs)\n",
    "\n",
    "# Выводим результаты теста\n",
    "display(f'p-value: {p_value}')\n",
    "\n",
    "alpha = 0.05\n",
    "if p_value < alpha:\n",
    "    display(\n",
    "        'Отвергаем нулевую гипотезу: есть статистически значимая разница в конверсии.')\n",
    "else:\n",
    "    display('Не можем отвергнуть нулевую гипотезу: нет статистически значимой разницы в конверсии.')"
   ]
  },
  {
   "cell_type": "code",
   "execution_count": 80,
   "metadata": {},
   "outputs": [
    {
     "data": {
      "text/plain": [
       "(array([275, 478]), array([1129, 1934]))"
      ]
     },
     "execution_count": 80,
     "metadata": {},
     "output_type": "execute_result"
    }
   ],
   "source": [
    "successes, nobs"
   ]
  },
  {
   "cell_type": "markdown",
   "metadata": {
    "id": "mlpwy3ox3S4a"
   },
   "source": [
    "## Выводы по проверке гипотез\n",
    "\n",
    "1. Проведенный тест на равенство конверсий в просмотры контактов между группой пользователей, совершивших действия tips_show и tips_click, и группой пользователей, совершивших только tips_show, показал отсутствие статистически значимых различий в конверсиях (p >= 0.05). Таким образом, нет оснований отвергать нулевую гипотезу о том, что различий в конверсиях в просмотры контактов между этими двумя группами нет.\n",
    "\n",
    "2. Проведенный Z-тест на равенство конверсий в просмотры контактов между группами пользователей, установивших приложение из источника Google и Yandex, показал статистически значимые различия в конверсиях (p < 0.05). Таким образом, отвергается нулевая гипотеза о том, что нет статистически значимых различий в конверсиях между группами пользователей из разных источников.\n",
    "\n",
    "## Общий вывод\n",
    "\n",
    "1. **Управление вовлеченностью клиентов**:\n",
    "\n",
    "   - Исследование поведения пользователей в мобильном приложении \"Ненужные вещи\" дало ценные данные о предпочтениях и шаблонах взаимодействия пользователей.\n",
    "   - Анализ воронок сценариев позволил выявить наиболее привлекательные сценарии для пользователей, что является основой для улучшения приложения с точки зрения пользовательского опыта.\n",
    "\n",
    "2. **Оценка групп пользователей**:\n",
    "\n",
    "   - Сравнительный анализ действий пользователей, просмотревших контакты и не просмотревших их, показал, что основные этапы взаимодействия с платформой остаются неизменными.\n",
    "   - Незначительные различия в поведении пользователей указывают на то, что улучшение конверсии в просмотр контактов может потребовать более тонкой настройки на другие аспекты, кроме предложения контактов.\n",
    "\n",
    "3. **Проверка гипотез**:\n",
    "   - Проведенные тесты на равенство конверсий подтвердили отсутствие статистически значимых различий в конверсиях между группами пользователей, совершившими определенные действия.\n",
    "   - Так же статистически значимые различия в конверсиях между группами пользователей, пришедших из разных источников тест не выявил.\n",
    "\n",
    "Рекомендации:\n",
    "\n",
    "- **Персонализация контента**: Необходимо разработать стратегии персонализации контента, чтобы более точно соответствовать предпочтениям каждой группы пользователей.\n",
    "- **Оптимизация источников привлечения**: Имея в виду различия в конверсиях между группами пользователей из разных источников, стоит оптимизировать стратегии привлечения пользователей из этих источников с учетом этих различий.\n",
    "- **Дальнейшее исследование**: Непрерывное мониторинг и анализ поведения пользователей позволит более точно адаптировать приложение и улучшать его в соответствии с изменяющимися потребностями пользователей.\n"
   ]
  }
 ],
 "metadata": {
  "ExecuteTimeLog": [
   {
    "duration": 1419,
    "start_time": "2024-03-26T03:14:40.744Z"
   },
   {
    "duration": 90,
    "start_time": "2024-03-26T03:14:42.165Z"
   },
   {
    "duration": 0,
    "start_time": "2024-03-26T03:14:42.257Z"
   },
   {
    "duration": 0,
    "start_time": "2024-03-26T03:14:42.259Z"
   },
   {
    "duration": 0,
    "start_time": "2024-03-26T03:14:42.269Z"
   },
   {
    "duration": 0,
    "start_time": "2024-03-26T03:14:42.270Z"
   },
   {
    "duration": 0,
    "start_time": "2024-03-26T03:14:42.272Z"
   },
   {
    "duration": 0,
    "start_time": "2024-03-26T03:14:42.273Z"
   },
   {
    "duration": 0,
    "start_time": "2024-03-26T03:14:42.274Z"
   },
   {
    "duration": 0,
    "start_time": "2024-03-26T03:14:42.275Z"
   },
   {
    "duration": 0,
    "start_time": "2024-03-26T03:14:42.276Z"
   },
   {
    "duration": 0,
    "start_time": "2024-03-26T03:14:42.277Z"
   },
   {
    "duration": 0,
    "start_time": "2024-03-26T03:14:42.278Z"
   },
   {
    "duration": 0,
    "start_time": "2024-03-26T03:14:42.279Z"
   },
   {
    "duration": 0,
    "start_time": "2024-03-26T03:14:42.280Z"
   },
   {
    "duration": 0,
    "start_time": "2024-03-26T03:14:42.281Z"
   },
   {
    "duration": 0,
    "start_time": "2024-03-26T03:14:42.282Z"
   },
   {
    "duration": 0,
    "start_time": "2024-03-26T03:14:42.283Z"
   },
   {
    "duration": 0,
    "start_time": "2024-03-26T03:14:42.284Z"
   },
   {
    "duration": 0,
    "start_time": "2024-03-26T03:14:42.285Z"
   },
   {
    "duration": 0,
    "start_time": "2024-03-26T03:14:42.286Z"
   },
   {
    "duration": 0,
    "start_time": "2024-03-26T03:14:42.286Z"
   },
   {
    "duration": 0,
    "start_time": "2024-03-26T03:14:42.287Z"
   },
   {
    "duration": 0,
    "start_time": "2024-03-26T03:14:42.288Z"
   },
   {
    "duration": 0,
    "start_time": "2024-03-26T03:14:42.289Z"
   },
   {
    "duration": 0,
    "start_time": "2024-03-26T03:14:42.290Z"
   },
   {
    "duration": 0,
    "start_time": "2024-03-26T03:14:42.291Z"
   },
   {
    "duration": 0,
    "start_time": "2024-03-26T03:14:42.292Z"
   },
   {
    "duration": 0,
    "start_time": "2024-03-26T03:14:42.293Z"
   },
   {
    "duration": 0,
    "start_time": "2024-03-26T03:14:42.294Z"
   },
   {
    "duration": 0,
    "start_time": "2024-03-26T03:14:42.295Z"
   },
   {
    "duration": 0,
    "start_time": "2024-03-26T03:14:42.296Z"
   },
   {
    "duration": 0,
    "start_time": "2024-03-26T03:14:42.297Z"
   },
   {
    "duration": 0,
    "start_time": "2024-03-26T03:14:42.298Z"
   },
   {
    "duration": 1481,
    "start_time": "2024-03-29T04:28:56.713Z"
   },
   {
    "duration": 129,
    "start_time": "2024-03-29T04:28:58.197Z"
   },
   {
    "duration": 0,
    "start_time": "2024-03-29T04:28:58.330Z"
   },
   {
    "duration": 0,
    "start_time": "2024-03-29T04:28:58.332Z"
   },
   {
    "duration": 0,
    "start_time": "2024-03-29T04:28:58.333Z"
   },
   {
    "duration": 0,
    "start_time": "2024-03-29T04:28:58.334Z"
   },
   {
    "duration": 0,
    "start_time": "2024-03-29T04:28:58.336Z"
   },
   {
    "duration": 0,
    "start_time": "2024-03-29T04:28:58.337Z"
   },
   {
    "duration": 0,
    "start_time": "2024-03-29T04:28:58.339Z"
   },
   {
    "duration": 0,
    "start_time": "2024-03-29T04:28:58.340Z"
   },
   {
    "duration": 0,
    "start_time": "2024-03-29T04:28:58.342Z"
   },
   {
    "duration": 0,
    "start_time": "2024-03-29T04:28:58.343Z"
   },
   {
    "duration": 0,
    "start_time": "2024-03-29T04:28:58.344Z"
   },
   {
    "duration": 0,
    "start_time": "2024-03-29T04:28:58.345Z"
   },
   {
    "duration": 0,
    "start_time": "2024-03-29T04:28:58.347Z"
   },
   {
    "duration": 0,
    "start_time": "2024-03-29T04:28:58.347Z"
   },
   {
    "duration": 0,
    "start_time": "2024-03-29T04:28:58.380Z"
   },
   {
    "duration": 0,
    "start_time": "2024-03-29T04:28:58.381Z"
   },
   {
    "duration": 0,
    "start_time": "2024-03-29T04:28:58.382Z"
   },
   {
    "duration": 0,
    "start_time": "2024-03-29T04:28:58.384Z"
   },
   {
    "duration": 0,
    "start_time": "2024-03-29T04:28:58.386Z"
   },
   {
    "duration": 0,
    "start_time": "2024-03-29T04:28:58.387Z"
   },
   {
    "duration": 0,
    "start_time": "2024-03-29T04:28:58.389Z"
   },
   {
    "duration": 0,
    "start_time": "2024-03-29T04:28:58.390Z"
   },
   {
    "duration": 0,
    "start_time": "2024-03-29T04:28:58.391Z"
   },
   {
    "duration": 0,
    "start_time": "2024-03-29T04:28:58.392Z"
   },
   {
    "duration": 0,
    "start_time": "2024-03-29T04:28:58.393Z"
   },
   {
    "duration": 0,
    "start_time": "2024-03-29T04:28:58.394Z"
   },
   {
    "duration": 0,
    "start_time": "2024-03-29T04:28:58.395Z"
   },
   {
    "duration": 0,
    "start_time": "2024-03-29T04:28:58.396Z"
   },
   {
    "duration": 0,
    "start_time": "2024-03-29T04:28:58.398Z"
   },
   {
    "duration": 0,
    "start_time": "2024-03-29T04:28:58.400Z"
   },
   {
    "duration": 0,
    "start_time": "2024-03-29T04:28:58.400Z"
   },
   {
    "duration": 0,
    "start_time": "2024-03-29T04:28:58.401Z"
   },
   {
    "duration": 1265,
    "start_time": "2024-03-29T04:29:14.214Z"
   },
   {
    "duration": 105,
    "start_time": "2024-03-29T04:29:15.481Z"
   },
   {
    "duration": 0,
    "start_time": "2024-03-29T04:29:15.589Z"
   },
   {
    "duration": 0,
    "start_time": "2024-03-29T04:29:15.590Z"
   },
   {
    "duration": 0,
    "start_time": "2024-03-29T04:29:15.591Z"
   },
   {
    "duration": 0,
    "start_time": "2024-03-29T04:29:15.592Z"
   },
   {
    "duration": 0,
    "start_time": "2024-03-29T04:29:15.593Z"
   },
   {
    "duration": 0,
    "start_time": "2024-03-29T04:29:15.594Z"
   },
   {
    "duration": 0,
    "start_time": "2024-03-29T04:29:15.595Z"
   },
   {
    "duration": 0,
    "start_time": "2024-03-29T04:29:15.596Z"
   },
   {
    "duration": 0,
    "start_time": "2024-03-29T04:29:15.597Z"
   },
   {
    "duration": 0,
    "start_time": "2024-03-29T04:29:15.598Z"
   },
   {
    "duration": 0,
    "start_time": "2024-03-29T04:29:15.599Z"
   },
   {
    "duration": 0,
    "start_time": "2024-03-29T04:29:15.600Z"
   },
   {
    "duration": 0,
    "start_time": "2024-03-29T04:29:15.601Z"
   },
   {
    "duration": 0,
    "start_time": "2024-03-29T04:29:15.602Z"
   },
   {
    "duration": 0,
    "start_time": "2024-03-29T04:29:15.603Z"
   },
   {
    "duration": 0,
    "start_time": "2024-03-29T04:29:15.604Z"
   },
   {
    "duration": 0,
    "start_time": "2024-03-29T04:29:15.605Z"
   },
   {
    "duration": 0,
    "start_time": "2024-03-29T04:29:15.606Z"
   },
   {
    "duration": 0,
    "start_time": "2024-03-29T04:29:15.607Z"
   },
   {
    "duration": 0,
    "start_time": "2024-03-29T04:29:15.608Z"
   },
   {
    "duration": 0,
    "start_time": "2024-03-29T04:29:15.609Z"
   },
   {
    "duration": 0,
    "start_time": "2024-03-29T04:29:15.610Z"
   },
   {
    "duration": 0,
    "start_time": "2024-03-29T04:29:15.611Z"
   },
   {
    "duration": 0,
    "start_time": "2024-03-29T04:29:15.612Z"
   },
   {
    "duration": 0,
    "start_time": "2024-03-29T04:29:15.613Z"
   },
   {
    "duration": 0,
    "start_time": "2024-03-29T04:29:15.614Z"
   },
   {
    "duration": 0,
    "start_time": "2024-03-29T04:29:15.615Z"
   },
   {
    "duration": 0,
    "start_time": "2024-03-29T04:29:15.616Z"
   },
   {
    "duration": 0,
    "start_time": "2024-03-29T04:29:15.617Z"
   },
   {
    "duration": 0,
    "start_time": "2024-03-29T04:29:15.618Z"
   },
   {
    "duration": 0,
    "start_time": "2024-03-29T04:29:15.619Z"
   },
   {
    "duration": 0,
    "start_time": "2024-03-29T04:29:15.620Z"
   },
   {
    "duration": 487,
    "start_time": "2024-03-29T04:29:25.198Z"
   },
   {
    "duration": 153,
    "start_time": "2024-03-29T04:50:18.969Z"
   },
   {
    "duration": 3,
    "start_time": "2024-03-29T04:54:21.761Z"
   },
   {
    "duration": 4,
    "start_time": "2024-03-29T04:54:28.289Z"
   },
   {
    "duration": 151,
    "start_time": "2024-03-29T04:54:31.145Z"
   },
   {
    "duration": 2534,
    "start_time": "2024-03-29T05:08:23.751Z"
   },
   {
    "duration": 2264,
    "start_time": "2024-03-29T05:09:02.394Z"
   },
   {
    "duration": 2512,
    "start_time": "2024-03-29T05:09:28.224Z"
   },
   {
    "duration": 298,
    "start_time": "2024-03-29T05:11:07.474Z"
   },
   {
    "duration": 2631,
    "start_time": "2024-03-29T05:12:30.211Z"
   },
   {
    "duration": 2296,
    "start_time": "2024-03-29T05:13:16.667Z"
   },
   {
    "duration": 328,
    "start_time": "2024-03-29T05:19:10.609Z"
   },
   {
    "duration": 333,
    "start_time": "2024-03-29T05:19:59.030Z"
   },
   {
    "duration": 1280,
    "start_time": "2024-03-29T08:07:08.712Z"
   },
   {
    "duration": 3,
    "start_time": "2024-03-29T08:07:09.994Z"
   },
   {
    "duration": 2801,
    "start_time": "2024-03-29T08:07:09.999Z"
   },
   {
    "duration": 0,
    "start_time": "2024-03-29T08:07:12.804Z"
   },
   {
    "duration": 0,
    "start_time": "2024-03-29T08:07:12.806Z"
   },
   {
    "duration": 0,
    "start_time": "2024-03-29T08:07:12.807Z"
   },
   {
    "duration": 0,
    "start_time": "2024-03-29T08:07:12.808Z"
   },
   {
    "duration": 0,
    "start_time": "2024-03-29T08:07:12.810Z"
   },
   {
    "duration": 0,
    "start_time": "2024-03-29T08:07:12.811Z"
   },
   {
    "duration": 0,
    "start_time": "2024-03-29T08:07:12.813Z"
   },
   {
    "duration": 0,
    "start_time": "2024-03-29T08:07:12.814Z"
   },
   {
    "duration": 0,
    "start_time": "2024-03-29T08:07:12.816Z"
   },
   {
    "duration": 0,
    "start_time": "2024-03-29T08:07:12.817Z"
   },
   {
    "duration": 0,
    "start_time": "2024-03-29T08:07:12.818Z"
   },
   {
    "duration": 0,
    "start_time": "2024-03-29T08:07:12.820Z"
   },
   {
    "duration": 0,
    "start_time": "2024-03-29T08:07:12.821Z"
   },
   {
    "duration": 0,
    "start_time": "2024-03-29T08:07:12.822Z"
   },
   {
    "duration": 0,
    "start_time": "2024-03-29T08:07:12.824Z"
   },
   {
    "duration": 0,
    "start_time": "2024-03-29T08:07:12.825Z"
   },
   {
    "duration": 0,
    "start_time": "2024-03-29T08:07:12.826Z"
   },
   {
    "duration": 0,
    "start_time": "2024-03-29T08:07:12.827Z"
   },
   {
    "duration": 0,
    "start_time": "2024-03-29T08:07:12.828Z"
   },
   {
    "duration": 0,
    "start_time": "2024-03-29T08:07:12.829Z"
   },
   {
    "duration": 0,
    "start_time": "2024-03-29T08:07:12.830Z"
   },
   {
    "duration": 0,
    "start_time": "2024-03-29T08:07:12.831Z"
   },
   {
    "duration": 0,
    "start_time": "2024-03-29T08:07:12.832Z"
   },
   {
    "duration": 0,
    "start_time": "2024-03-29T08:07:12.881Z"
   },
   {
    "duration": 0,
    "start_time": "2024-03-29T08:07:12.883Z"
   },
   {
    "duration": 0,
    "start_time": "2024-03-29T08:07:12.884Z"
   },
   {
    "duration": 0,
    "start_time": "2024-03-29T08:07:12.886Z"
   },
   {
    "duration": 0,
    "start_time": "2024-03-29T08:07:12.887Z"
   },
   {
    "duration": 0,
    "start_time": "2024-03-29T08:07:12.888Z"
   },
   {
    "duration": 0,
    "start_time": "2024-03-29T08:07:12.889Z"
   },
   {
    "duration": 0,
    "start_time": "2024-03-29T08:07:12.890Z"
   },
   {
    "duration": 3,
    "start_time": "2024-03-29T08:07:21.114Z"
   },
   {
    "duration": 2,
    "start_time": "2024-03-29T08:07:23.538Z"
   },
   {
    "duration": 2545,
    "start_time": "2024-03-29T08:07:25.323Z"
   },
   {
    "duration": 3,
    "start_time": "2024-03-29T08:08:32.991Z"
   },
   {
    "duration": 3,
    "start_time": "2024-03-29T08:08:33.819Z"
   },
   {
    "duration": 263,
    "start_time": "2024-03-29T08:09:09.873Z"
   },
   {
    "duration": 1279,
    "start_time": "2024-03-29T08:09:30.821Z"
   },
   {
    "duration": 4,
    "start_time": "2024-03-29T08:09:32.102Z"
   },
   {
    "duration": 380,
    "start_time": "2024-03-29T08:09:32.108Z"
   },
   {
    "duration": 0,
    "start_time": "2024-03-29T08:09:32.491Z"
   },
   {
    "duration": 0,
    "start_time": "2024-03-29T08:09:32.493Z"
   },
   {
    "duration": 0,
    "start_time": "2024-03-29T08:09:32.494Z"
   },
   {
    "duration": 0,
    "start_time": "2024-03-29T08:09:32.495Z"
   },
   {
    "duration": 0,
    "start_time": "2024-03-29T08:09:32.497Z"
   },
   {
    "duration": 0,
    "start_time": "2024-03-29T08:09:32.498Z"
   },
   {
    "duration": 0,
    "start_time": "2024-03-29T08:09:32.499Z"
   },
   {
    "duration": 0,
    "start_time": "2024-03-29T08:09:32.501Z"
   },
   {
    "duration": 0,
    "start_time": "2024-03-29T08:09:32.502Z"
   },
   {
    "duration": 0,
    "start_time": "2024-03-29T08:09:32.504Z"
   },
   {
    "duration": 0,
    "start_time": "2024-03-29T08:09:32.505Z"
   },
   {
    "duration": 0,
    "start_time": "2024-03-29T08:09:32.506Z"
   },
   {
    "duration": 0,
    "start_time": "2024-03-29T08:09:32.508Z"
   },
   {
    "duration": 0,
    "start_time": "2024-03-29T08:09:32.509Z"
   },
   {
    "duration": 0,
    "start_time": "2024-03-29T08:09:32.510Z"
   },
   {
    "duration": 0,
    "start_time": "2024-03-29T08:09:32.512Z"
   },
   {
    "duration": 0,
    "start_time": "2024-03-29T08:09:32.513Z"
   },
   {
    "duration": 0,
    "start_time": "2024-03-29T08:09:32.514Z"
   },
   {
    "duration": 0,
    "start_time": "2024-03-29T08:09:32.515Z"
   },
   {
    "duration": 0,
    "start_time": "2024-03-29T08:09:32.516Z"
   },
   {
    "duration": 0,
    "start_time": "2024-03-29T08:09:32.517Z"
   },
   {
    "duration": 0,
    "start_time": "2024-03-29T08:09:32.518Z"
   },
   {
    "duration": 0,
    "start_time": "2024-03-29T08:09:32.519Z"
   },
   {
    "duration": 0,
    "start_time": "2024-03-29T08:09:32.520Z"
   },
   {
    "duration": 0,
    "start_time": "2024-03-29T08:09:32.521Z"
   },
   {
    "duration": 0,
    "start_time": "2024-03-29T08:09:32.522Z"
   },
   {
    "duration": 0,
    "start_time": "2024-03-29T08:09:32.523Z"
   },
   {
    "duration": 0,
    "start_time": "2024-03-29T08:09:32.580Z"
   },
   {
    "duration": 0,
    "start_time": "2024-03-29T08:09:32.582Z"
   },
   {
    "duration": 0,
    "start_time": "2024-03-29T08:09:32.583Z"
   },
   {
    "duration": 0,
    "start_time": "2024-03-29T08:09:32.584Z"
   },
   {
    "duration": 3,
    "start_time": "2024-03-29T08:09:49.171Z"
   },
   {
    "duration": 2,
    "start_time": "2024-03-29T08:09:51.874Z"
   },
   {
    "duration": 213,
    "start_time": "2024-03-29T08:09:59.150Z"
   },
   {
    "duration": 308,
    "start_time": "2024-03-29T08:13:30.866Z"
   },
   {
    "duration": 3,
    "start_time": "2024-03-29T08:13:39.851Z"
   },
   {
    "duration": 60,
    "start_time": "2024-03-29T08:13:41.281Z"
   },
   {
    "duration": 4,
    "start_time": "2024-03-29T08:13:42.715Z"
   },
   {
    "duration": 26,
    "start_time": "2024-03-29T08:13:43.514Z"
   },
   {
    "duration": 8,
    "start_time": "2024-03-29T08:13:44.348Z"
   },
   {
    "duration": 13,
    "start_time": "2024-03-29T08:13:45.188Z"
   },
   {
    "duration": 10,
    "start_time": "2024-03-29T08:13:45.915Z"
   },
   {
    "duration": 48,
    "start_time": "2024-03-29T08:13:47.137Z"
   },
   {
    "duration": 18,
    "start_time": "2024-03-29T08:13:47.582Z"
   },
   {
    "duration": 22,
    "start_time": "2024-03-29T08:13:49.037Z"
   },
   {
    "duration": 3,
    "start_time": "2024-03-29T08:13:50.177Z"
   },
   {
    "duration": 4,
    "start_time": "2024-03-29T08:13:50.829Z"
   },
   {
    "duration": 38,
    "start_time": "2024-03-29T08:13:53.200Z"
   },
   {
    "duration": 34,
    "start_time": "2024-03-29T08:13:53.902Z"
   },
   {
    "duration": 36,
    "start_time": "2024-03-29T08:13:54.530Z"
   },
   {
    "duration": 17,
    "start_time": "2024-03-29T08:13:55.093Z"
   },
   {
    "duration": 10498,
    "start_time": "2024-03-29T08:13:58.582Z"
   },
   {
    "duration": 273,
    "start_time": "2024-03-29T08:14:09.082Z"
   },
   {
    "duration": 29,
    "start_time": "2024-03-29T08:14:09.357Z"
   },
   {
    "duration": 286,
    "start_time": "2024-03-29T08:14:11.873Z"
   },
   {
    "duration": 45,
    "start_time": "2024-03-29T08:14:12.955Z"
   },
   {
    "duration": 54,
    "start_time": "2024-03-29T08:14:20.322Z"
   },
   {
    "duration": 19,
    "start_time": "2024-03-29T08:14:25.480Z"
   },
   {
    "duration": 15,
    "start_time": "2024-03-29T08:14:27.032Z"
   },
   {
    "duration": 20,
    "start_time": "2024-03-29T08:14:29.349Z"
   },
   {
    "duration": 12,
    "start_time": "2024-03-29T08:14:30.025Z"
   },
   {
    "duration": 36,
    "start_time": "2024-03-29T08:14:35.323Z"
   },
   {
    "duration": 34,
    "start_time": "2024-03-29T08:14:35.834Z"
   },
   {
    "duration": 5,
    "start_time": "2024-03-29T08:14:37.225Z"
   },
   {
    "duration": 22,
    "start_time": "2024-03-29T08:14:38.833Z"
   },
   {
    "duration": 5,
    "start_time": "2024-03-29T08:14:39.457Z"
   },
   {
    "duration": 1381,
    "start_time": "2024-03-29T22:23:08.095Z"
   },
   {
    "duration": 3,
    "start_time": "2024-03-29T22:23:09.478Z"
   },
   {
    "duration": 503,
    "start_time": "2024-03-29T22:23:09.482Z"
   },
   {
    "duration": 3,
    "start_time": "2024-03-29T22:23:09.986Z"
   },
   {
    "duration": 60,
    "start_time": "2024-03-29T22:23:09.991Z"
   },
   {
    "duration": 3,
    "start_time": "2024-03-29T22:23:10.053Z"
   },
   {
    "duration": 57,
    "start_time": "2024-03-29T22:23:10.058Z"
   },
   {
    "duration": 22,
    "start_time": "2024-03-29T22:23:10.116Z"
   },
   {
    "duration": 31,
    "start_time": "2024-03-29T22:23:10.139Z"
   },
   {
    "duration": 28,
    "start_time": "2024-03-29T22:23:10.172Z"
   },
   {
    "duration": 47,
    "start_time": "2024-03-29T22:23:10.202Z"
   },
   {
    "duration": 13,
    "start_time": "2024-03-29T22:23:10.250Z"
   },
   {
    "duration": 17,
    "start_time": "2024-03-29T22:23:10.264Z"
   },
   {
    "duration": 3,
    "start_time": "2024-03-29T22:23:10.293Z"
   },
   {
    "duration": 18,
    "start_time": "2024-03-29T22:23:10.298Z"
   },
   {
    "duration": 83,
    "start_time": "2024-03-29T22:23:10.317Z"
   },
   {
    "duration": 31,
    "start_time": "2024-03-29T22:23:10.402Z"
   },
   {
    "duration": 21,
    "start_time": "2024-03-29T22:23:10.435Z"
   },
   {
    "duration": 15,
    "start_time": "2024-03-29T22:23:10.458Z"
   },
   {
    "duration": 9070,
    "start_time": "2024-03-29T22:23:10.475Z"
   },
   {
    "duration": 239,
    "start_time": "2024-03-29T22:23:19.547Z"
   },
   {
    "duration": 23,
    "start_time": "2024-03-29T22:23:19.788Z"
   },
   {
    "duration": 537,
    "start_time": "2024-03-29T22:23:19.812Z"
   },
   {
    "duration": 51,
    "start_time": "2024-03-29T22:23:20.351Z"
   },
   {
    "duration": 102,
    "start_time": "2024-03-29T22:23:20.404Z"
   },
   {
    "duration": 17,
    "start_time": "2024-03-29T22:23:20.508Z"
   },
   {
    "duration": 14,
    "start_time": "2024-03-29T22:23:20.527Z"
   },
   {
    "duration": 20,
    "start_time": "2024-03-29T22:23:20.543Z"
   },
   {
    "duration": 38,
    "start_time": "2024-03-29T22:23:20.564Z"
   },
   {
    "duration": 35,
    "start_time": "2024-03-29T22:23:20.603Z"
   },
   {
    "duration": 30,
    "start_time": "2024-03-29T22:23:20.639Z"
   },
   {
    "duration": 4,
    "start_time": "2024-03-29T22:23:20.671Z"
   },
   {
    "duration": 19,
    "start_time": "2024-03-29T22:23:20.693Z"
   },
   {
    "duration": 4,
    "start_time": "2024-03-29T22:23:20.713Z"
   },
   {
    "duration": 14,
    "start_time": "2024-03-29T22:26:26.403Z"
   },
   {
    "duration": 19,
    "start_time": "2024-03-29T22:27:02.618Z"
   },
   {
    "duration": 8823,
    "start_time": "2024-03-29T22:27:58.940Z"
   },
   {
    "duration": 9,
    "start_time": "2024-03-29T22:28:37.099Z"
   },
   {
    "duration": 7,
    "start_time": "2024-03-29T22:28:49.318Z"
   },
   {
    "duration": 8,
    "start_time": "2024-03-29T22:34:17.790Z"
   },
   {
    "duration": 4,
    "start_time": "2024-03-29T22:34:26.583Z"
   },
   {
    "duration": 8,
    "start_time": "2024-03-29T22:34:29.493Z"
   },
   {
    "duration": 17,
    "start_time": "2024-03-29T22:34:45.757Z"
   },
   {
    "duration": 7,
    "start_time": "2024-03-29T22:34:46.327Z"
   },
   {
    "duration": 19,
    "start_time": "2024-03-29T22:34:50.715Z"
   },
   {
    "duration": 7,
    "start_time": "2024-03-29T22:34:52.881Z"
   },
   {
    "duration": 13,
    "start_time": "2024-03-29T22:35:41.499Z"
   },
   {
    "duration": 7,
    "start_time": "2024-03-29T22:35:47.088Z"
   },
   {
    "duration": 4,
    "start_time": "2024-03-29T22:36:00.695Z"
   },
   {
    "duration": 106,
    "start_time": "2024-03-29T22:36:05.039Z"
   },
   {
    "duration": 12,
    "start_time": "2024-03-29T22:36:12.479Z"
   },
   {
    "duration": 12,
    "start_time": "2024-03-29T22:36:28.532Z"
   },
   {
    "duration": 6,
    "start_time": "2024-03-29T22:36:38.836Z"
   },
   {
    "duration": 15,
    "start_time": "2024-03-29T22:36:47.804Z"
   },
   {
    "duration": 4,
    "start_time": "2024-03-29T22:38:55.315Z"
   },
   {
    "duration": 4,
    "start_time": "2024-03-29T22:39:09.778Z"
   },
   {
    "duration": 21,
    "start_time": "2024-03-29T22:39:11.401Z"
   },
   {
    "duration": 9,
    "start_time": "2024-03-29T22:39:11.671Z"
   },
   {
    "duration": 4,
    "start_time": "2024-03-29T22:41:39.543Z"
   },
   {
    "duration": 3,
    "start_time": "2024-03-29T22:41:45.310Z"
   },
   {
    "duration": 5,
    "start_time": "2024-03-29T22:42:40.512Z"
   },
   {
    "duration": 3,
    "start_time": "2024-03-29T22:42:41.170Z"
   },
   {
    "duration": 24,
    "start_time": "2024-03-29T22:43:31.144Z"
   },
   {
    "duration": 31,
    "start_time": "2024-03-29T22:43:31.998Z"
   },
   {
    "duration": 5,
    "start_time": "2024-03-29T22:43:34.119Z"
   },
   {
    "duration": 4,
    "start_time": "2024-03-29T22:43:34.833Z"
   },
   {
    "duration": 1083,
    "start_time": "2024-03-29T22:44:18.855Z"
   },
   {
    "duration": 2,
    "start_time": "2024-03-29T22:44:19.940Z"
   },
   {
    "duration": 351,
    "start_time": "2024-03-29T22:44:19.944Z"
   },
   {
    "duration": 4,
    "start_time": "2024-03-29T22:44:20.296Z"
   },
   {
    "duration": 97,
    "start_time": "2024-03-29T22:44:20.302Z"
   },
   {
    "duration": 4,
    "start_time": "2024-03-29T22:44:20.400Z"
   },
   {
    "duration": 45,
    "start_time": "2024-03-29T22:44:20.405Z"
   },
   {
    "duration": 13,
    "start_time": "2024-03-29T22:44:20.452Z"
   },
   {
    "duration": 38,
    "start_time": "2024-03-29T22:44:20.466Z"
   },
   {
    "duration": 28,
    "start_time": "2024-03-29T22:44:20.506Z"
   },
   {
    "duration": 64,
    "start_time": "2024-03-29T22:44:20.535Z"
   },
   {
    "duration": 16,
    "start_time": "2024-03-29T22:44:20.601Z"
   },
   {
    "duration": 39,
    "start_time": "2024-03-29T22:44:20.619Z"
   },
   {
    "duration": 2,
    "start_time": "2024-03-29T22:44:20.661Z"
   },
   {
    "duration": 42,
    "start_time": "2024-03-29T22:44:20.665Z"
   },
   {
    "duration": 79,
    "start_time": "2024-03-29T22:44:20.708Z"
   },
   {
    "duration": 31,
    "start_time": "2024-03-29T22:44:20.788Z"
   },
   {
    "duration": 34,
    "start_time": "2024-03-29T22:44:20.820Z"
   },
   {
    "duration": 34,
    "start_time": "2024-03-29T22:44:20.855Z"
   },
   {
    "duration": 8818,
    "start_time": "2024-03-29T22:44:20.891Z"
   },
   {
    "duration": 218,
    "start_time": "2024-03-29T22:44:29.711Z"
   },
   {
    "duration": 18,
    "start_time": "2024-03-29T22:44:29.930Z"
   },
   {
    "duration": 505,
    "start_time": "2024-03-29T22:44:29.949Z"
   },
   {
    "duration": 57,
    "start_time": "2024-03-29T22:44:30.456Z"
   },
   {
    "duration": 129,
    "start_time": "2024-03-29T22:44:30.514Z"
   },
   {
    "duration": 144,
    "start_time": "2024-03-29T22:44:30.644Z"
   },
   {
    "duration": 166,
    "start_time": "2024-03-29T22:44:30.789Z"
   },
   {
    "duration": 103,
    "start_time": "2024-03-29T22:44:30.956Z"
   },
   {
    "duration": 76,
    "start_time": "2024-03-29T22:44:31.061Z"
   },
   {
    "duration": 81,
    "start_time": "2024-03-29T22:44:31.139Z"
   },
   {
    "duration": 53,
    "start_time": "2024-03-29T22:44:31.221Z"
   },
   {
    "duration": 55,
    "start_time": "2024-03-29T22:44:31.276Z"
   },
   {
    "duration": 67,
    "start_time": "2024-03-29T22:44:31.332Z"
   },
   {
    "duration": 60,
    "start_time": "2024-03-29T22:44:31.400Z"
   },
   {
    "duration": 54,
    "start_time": "2024-03-29T22:44:31.461Z"
   },
   {
    "duration": 4,
    "start_time": "2024-03-29T22:45:51.092Z"
   },
   {
    "duration": 3,
    "start_time": "2024-03-29T22:45:53.698Z"
   },
   {
    "duration": 1333,
    "start_time": "2024-04-01T05:12:46.096Z"
   },
   {
    "duration": 2,
    "start_time": "2024-04-01T05:12:47.431Z"
   },
   {
    "duration": 339,
    "start_time": "2024-04-01T05:12:47.435Z"
   },
   {
    "duration": 4,
    "start_time": "2024-04-01T05:12:47.775Z"
   },
   {
    "duration": 70,
    "start_time": "2024-04-01T05:12:47.781Z"
   },
   {
    "duration": 3,
    "start_time": "2024-04-01T05:12:47.852Z"
   },
   {
    "duration": 47,
    "start_time": "2024-04-01T05:12:47.865Z"
   },
   {
    "duration": 34,
    "start_time": "2024-04-01T05:12:47.914Z"
   },
   {
    "duration": 29,
    "start_time": "2024-04-01T05:12:47.950Z"
   },
   {
    "duration": 46,
    "start_time": "2024-04-01T05:12:47.981Z"
   },
   {
    "duration": 40,
    "start_time": "2024-04-01T05:12:48.029Z"
   },
   {
    "duration": 15,
    "start_time": "2024-04-01T05:12:48.071Z"
   },
   {
    "duration": 38,
    "start_time": "2024-04-01T05:12:48.087Z"
   },
   {
    "duration": 3,
    "start_time": "2024-04-01T05:12:48.127Z"
   },
   {
    "duration": 26,
    "start_time": "2024-04-01T05:12:48.131Z"
   },
   {
    "duration": 52,
    "start_time": "2024-04-01T05:12:48.159Z"
   },
   {
    "duration": 31,
    "start_time": "2024-04-01T05:12:48.212Z"
   },
   {
    "duration": 20,
    "start_time": "2024-04-01T05:12:48.245Z"
   },
   {
    "duration": 14,
    "start_time": "2024-04-01T05:12:48.267Z"
   },
   {
    "duration": 739,
    "start_time": "2024-04-01T05:12:48.282Z"
   },
   {
    "duration": 5825,
    "start_time": "2024-04-01T05:12:49.023Z"
   },
   {
    "duration": 316,
    "start_time": "2024-04-01T05:12:54.849Z"
   },
   {
    "duration": 22,
    "start_time": "2024-04-01T05:12:55.167Z"
   },
   {
    "duration": 568,
    "start_time": "2024-04-01T05:12:55.191Z"
   },
   {
    "duration": 41,
    "start_time": "2024-04-01T05:12:55.761Z"
   },
   {
    "duration": 109,
    "start_time": "2024-04-01T05:12:55.804Z"
   },
   {
    "duration": 76,
    "start_time": "2024-04-01T05:12:55.914Z"
   },
   {
    "duration": 34,
    "start_time": "2024-04-01T05:12:55.991Z"
   },
   {
    "duration": 3700,
    "start_time": "2024-04-01T05:12:56.026Z"
   },
   {
    "duration": 3,
    "start_time": "2024-04-01T05:12:59.727Z"
   },
   {
    "duration": 17,
    "start_time": "2024-04-01T05:12:59.731Z"
   },
   {
    "duration": 28,
    "start_time": "2024-04-01T05:12:59.765Z"
   },
   {
    "duration": 8,
    "start_time": "2024-04-01T05:12:59.795Z"
   },
   {
    "duration": 3,
    "start_time": "2024-04-01T05:12:59.805Z"
   },
   {
    "duration": 4,
    "start_time": "2024-04-01T05:18:43.063Z"
   },
   {
    "duration": 4,
    "start_time": "2024-04-01T05:18:46.729Z"
   },
   {
    "duration": 32,
    "start_time": "2024-04-01T05:18:52.695Z"
   },
   {
    "duration": 1430,
    "start_time": "2024-04-01T11:15:19.893Z"
   },
   {
    "duration": 2,
    "start_time": "2024-04-01T11:15:21.325Z"
   },
   {
    "duration": 321,
    "start_time": "2024-04-01T11:15:21.329Z"
   },
   {
    "duration": 4,
    "start_time": "2024-04-01T11:15:21.652Z"
   },
   {
    "duration": 66,
    "start_time": "2024-04-01T11:15:21.657Z"
   },
   {
    "duration": 3,
    "start_time": "2024-04-01T11:15:21.726Z"
   },
   {
    "duration": 26,
    "start_time": "2024-04-01T11:15:21.731Z"
   },
   {
    "duration": 27,
    "start_time": "2024-04-01T11:15:21.759Z"
   },
   {
    "duration": 11,
    "start_time": "2024-04-01T11:15:21.788Z"
   },
   {
    "duration": 12,
    "start_time": "2024-04-01T11:15:21.802Z"
   },
   {
    "duration": 37,
    "start_time": "2024-04-01T11:15:21.816Z"
   },
   {
    "duration": 17,
    "start_time": "2024-04-01T11:15:21.883Z"
   },
   {
    "duration": 24,
    "start_time": "2024-04-01T11:15:21.901Z"
   },
   {
    "duration": 4,
    "start_time": "2024-04-01T11:15:21.926Z"
   },
   {
    "duration": 5,
    "start_time": "2024-04-01T11:15:21.932Z"
   },
   {
    "duration": 79,
    "start_time": "2024-04-01T11:15:21.939Z"
   },
   {
    "duration": 35,
    "start_time": "2024-04-01T11:15:22.020Z"
   },
   {
    "duration": 42,
    "start_time": "2024-04-01T11:15:22.056Z"
   },
   {
    "duration": 15,
    "start_time": "2024-04-01T11:15:22.100Z"
   },
   {
    "duration": 853,
    "start_time": "2024-04-01T11:15:22.117Z"
   },
   {
    "duration": 6495,
    "start_time": "2024-04-01T11:15:22.971Z"
   },
   {
    "duration": 348,
    "start_time": "2024-04-01T11:15:29.467Z"
   },
   {
    "duration": 25,
    "start_time": "2024-04-01T11:15:29.816Z"
   },
   {
    "duration": 246,
    "start_time": "2024-04-01T11:15:29.842Z"
   },
   {
    "duration": 95,
    "start_time": "2024-04-01T11:15:30.090Z"
   },
   {
    "duration": 104,
    "start_time": "2024-04-01T11:15:30.187Z"
   },
   {
    "duration": 78,
    "start_time": "2024-04-01T11:15:30.292Z"
   },
   {
    "duration": 155,
    "start_time": "2024-04-01T11:15:30.373Z"
   },
   {
    "duration": 4131,
    "start_time": "2024-04-01T11:15:30.530Z"
   },
   {
    "duration": 3,
    "start_time": "2024-04-01T11:15:34.662Z"
   },
   {
    "duration": 26,
    "start_time": "2024-04-01T11:15:34.666Z"
   },
   {
    "duration": 11,
    "start_time": "2024-04-01T11:15:34.728Z"
   },
   {
    "duration": 44,
    "start_time": "2024-04-01T11:15:34.741Z"
   },
   {
    "duration": 43,
    "start_time": "2024-04-01T11:15:34.788Z"
   },
   {
    "duration": 11,
    "start_time": "2024-04-01T11:15:42.457Z"
   },
   {
    "duration": 4,
    "start_time": "2024-04-01T11:15:50.532Z"
   },
   {
    "duration": 15,
    "start_time": "2024-04-01T11:51:22.171Z"
   },
   {
    "duration": 4,
    "start_time": "2024-04-01T11:51:57.027Z"
   },
   {
    "duration": 121,
    "start_time": "2024-04-01T11:52:52.977Z"
   },
   {
    "duration": 4,
    "start_time": "2024-04-01T11:53:17.363Z"
   },
   {
    "duration": 5,
    "start_time": "2024-04-01T11:53:59.608Z"
   },
   {
    "duration": 4,
    "start_time": "2024-04-01T11:57:17.377Z"
   },
   {
    "duration": 5,
    "start_time": "2024-04-01T13:43:39.302Z"
   },
   {
    "duration": 5,
    "start_time": "2024-04-01T13:43:39.309Z"
   },
   {
    "duration": 334,
    "start_time": "2024-04-01T13:43:39.317Z"
   },
   {
    "duration": 4,
    "start_time": "2024-04-01T13:43:39.652Z"
   },
   {
    "duration": 63,
    "start_time": "2024-04-01T13:43:39.658Z"
   },
   {
    "duration": 3,
    "start_time": "2024-04-01T13:43:39.723Z"
   },
   {
    "duration": 26,
    "start_time": "2024-04-01T13:43:39.728Z"
   },
   {
    "duration": 6,
    "start_time": "2024-04-01T13:43:39.756Z"
   },
   {
    "duration": 8,
    "start_time": "2024-04-01T13:43:39.782Z"
   },
   {
    "duration": 10,
    "start_time": "2024-04-01T13:43:39.793Z"
   },
   {
    "duration": 38,
    "start_time": "2024-04-01T13:43:39.805Z"
   },
   {
    "duration": 50,
    "start_time": "2024-04-01T13:43:39.844Z"
   },
   {
    "duration": 24,
    "start_time": "2024-04-01T13:43:39.896Z"
   },
   {
    "duration": 3,
    "start_time": "2024-04-01T13:43:39.922Z"
   },
   {
    "duration": 9,
    "start_time": "2024-04-01T13:43:39.926Z"
   },
   {
    "duration": 76,
    "start_time": "2024-04-01T13:43:39.936Z"
   },
   {
    "duration": 38,
    "start_time": "2024-04-01T13:43:40.013Z"
   },
   {
    "duration": 38,
    "start_time": "2024-04-01T13:43:40.052Z"
   },
   {
    "duration": 17,
    "start_time": "2024-04-01T13:43:40.092Z"
   },
   {
    "duration": 967,
    "start_time": "2024-04-01T13:43:40.111Z"
   },
   {
    "duration": 7303,
    "start_time": "2024-04-01T13:43:41.079Z"
   },
   {
    "duration": 366,
    "start_time": "2024-04-01T13:43:48.384Z"
   },
   {
    "duration": 23,
    "start_time": "2024-04-01T13:43:48.752Z"
   },
   {
    "duration": 56,
    "start_time": "2024-04-01T13:43:48.782Z"
   },
   {
    "duration": 72,
    "start_time": "2024-04-01T13:43:48.842Z"
   },
   {
    "duration": 74,
    "start_time": "2024-04-01T13:43:48.916Z"
   },
   {
    "duration": 34,
    "start_time": "2024-04-01T13:43:48.992Z"
   },
   {
    "duration": 59,
    "start_time": "2024-04-01T13:43:49.028Z"
   },
   {
    "duration": 4252,
    "start_time": "2024-04-01T13:43:49.089Z"
   },
   {
    "duration": 4,
    "start_time": "2024-04-01T13:43:53.343Z"
   },
   {
    "duration": 37,
    "start_time": "2024-04-01T13:43:53.348Z"
   },
   {
    "duration": 555,
    "start_time": "2024-04-01T13:44:41.304Z"
   },
   {
    "duration": 37,
    "start_time": "2024-04-01T13:47:17.121Z"
   },
   {
    "duration": 40,
    "start_time": "2024-04-01T13:49:46.698Z"
   },
   {
    "duration": 8,
    "start_time": "2024-04-01T13:54:19.385Z"
   },
   {
    "duration": 10,
    "start_time": "2024-04-01T14:02:35.849Z"
   },
   {
    "duration": 4,
    "start_time": "2024-04-01T14:02:43.738Z"
   }
  ],
  "colab": {
   "provenance": []
  },
  "kernelspec": {
   "display_name": "Python 3 (ipykernel)",
   "language": "python",
   "name": "python3"
  },
  "language_info": {
   "codemirror_mode": {
    "name": "ipython",
    "version": 3
   },
   "file_extension": ".py",
   "mimetype": "text/x-python",
   "name": "python",
   "nbconvert_exporter": "python",
   "pygments_lexer": "ipython3",
   "version": "3.12.4"
  },
  "toc": {
   "base_numbering": 1,
   "nav_menu": {},
   "number_sections": true,
   "sideBar": true,
   "skip_h1_title": true,
   "title_cell": "Table of Contents",
   "title_sidebar": "Contents",
   "toc_cell": false,
   "toc_position": {},
   "toc_section_display": true,
   "toc_window_display": true
  }
 },
 "nbformat": 4,
 "nbformat_minor": 1
}
