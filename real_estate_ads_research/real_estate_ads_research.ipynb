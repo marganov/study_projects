{
 "cells": [
  {
   "cell_type": "markdown",
   "metadata": {
    "id": "b6Zr5vuKspKr",
    "tags": []
   },
   "source": [
    "# Исследование объявлений о продаже квартир\n",
    "\n",
    "Исходные данные — архив объявлений сервиса Яндекс.Недвижимость о продаже квартир в Санкт-Петербурге и соседних населённых пунктах за несколько лет. Часть данных сформированы пользователемя, другая часть — получены автоматически на основе картографических данных.\n",
    "\n",
    "**Задача**\n",
    "\n",
    "Установить параметры для определения рыночной стоимости объектов недвижимости.\n",
    "\n",
    "## Изучение общей информации."
   ]
  },
  {
   "cell_type": "code",
   "execution_count": 2,
   "metadata": {
    "id": "HoRG8lQ7spKw"
   },
   "outputs": [],
   "source": [
    "# импорт библиотек\n",
    "import pandas as pd\n",
    "import matplotlib.pyplot as plt"
   ]
  },
  {
   "cell_type": "code",
   "execution_count": 3,
   "metadata": {},
   "outputs": [],
   "source": [
    "pd.set_option('display.max_columns', None)"
   ]
  },
  {
   "cell_type": "code",
   "execution_count": 7,
   "metadata": {
    "id": "de1wsglCspKz"
   },
   "outputs": [],
   "source": [
    "# чтение данных\n",
    "data = pd.read_csv(\"datasets/real_estate_data.csv\", sep= '\\t')\n"
   ]
  },
  {
   "cell_type": "code",
   "execution_count": 123,
   "metadata": {},
   "outputs": [
    {
     "data": {
      "text/plain": [
       "'Информация о данных:'"
      ]
     },
     "metadata": {},
     "output_type": "display_data"
    },
    {
     "name": "stdout",
     "output_type": "stream",
     "text": [
      "<class 'pandas.core.frame.DataFrame'>\n",
      "RangeIndex: 23699 entries, 0 to 23698\n",
      "Data columns (total 22 columns):\n",
      " #   Column                Non-Null Count  Dtype  \n",
      "---  ------                --------------  -----  \n",
      " 0   total_images          23699 non-null  int64  \n",
      " 1   last_price            23699 non-null  float64\n",
      " 2   total_area            23699 non-null  float64\n",
      " 3   first_day_exposition  23699 non-null  object \n",
      " 4   rooms                 23699 non-null  int64  \n",
      " 5   ceiling_height        14504 non-null  float64\n",
      " 6   floors_total          23613 non-null  float64\n",
      " 7   living_area           21796 non-null  float64\n",
      " 8   floor                 23699 non-null  int64  \n",
      " 9   is_apartment          2775 non-null   object \n",
      " 10  studio                23699 non-null  bool   \n",
      " 11  open_plan             23699 non-null  bool   \n",
      " 12  kitchen_area          21421 non-null  float64\n",
      " 13  balcony               12180 non-null  float64\n",
      " 14  locality_name         23650 non-null  object \n",
      " 15  airports_nearest      18157 non-null  float64\n",
      " 16  cityCenters_nearest   18180 non-null  float64\n",
      " 17  parks_around3000      18181 non-null  float64\n",
      " 18  parks_nearest         8079 non-null   float64\n",
      " 19  ponds_around3000      18181 non-null  float64\n",
      " 20  ponds_nearest         9110 non-null   float64\n",
      " 21  days_exposition       20518 non-null  float64\n",
      "dtypes: bool(2), float64(14), int64(3), object(3)\n",
      "memory usage: 3.7+ MB\n"
     ]
    },
    {
     "data": {
      "text/plain": [
       "None"
      ]
     },
     "metadata": {},
     "output_type": "display_data"
    },
    {
     "data": {
      "text/plain": [
       "'\\n'"
      ]
     },
     "metadata": {},
     "output_type": "display_data"
    },
    {
     "data": {
      "text/plain": [
       "'Статистические показатели данных:'"
      ]
     },
     "metadata": {},
     "output_type": "display_data"
    },
    {
     "data": {
      "text/html": [
       "<div>\n",
       "<style scoped>\n",
       "    .dataframe tbody tr th:only-of-type {\n",
       "        vertical-align: middle;\n",
       "    }\n",
       "\n",
       "    .dataframe tbody tr th {\n",
       "        vertical-align: top;\n",
       "    }\n",
       "\n",
       "    .dataframe thead th {\n",
       "        text-align: right;\n",
       "    }\n",
       "</style>\n",
       "<table border=\"1\" class=\"dataframe\">\n",
       "  <thead>\n",
       "    <tr style=\"text-align: right;\">\n",
       "      <th></th>\n",
       "      <th>total_images</th>\n",
       "      <th>last_price</th>\n",
       "      <th>total_area</th>\n",
       "      <th>rooms</th>\n",
       "      <th>ceiling_height</th>\n",
       "      <th>floors_total</th>\n",
       "      <th>living_area</th>\n",
       "      <th>floor</th>\n",
       "      <th>kitchen_area</th>\n",
       "      <th>balcony</th>\n",
       "      <th>airports_nearest</th>\n",
       "      <th>cityCenters_nearest</th>\n",
       "      <th>parks_around3000</th>\n",
       "      <th>parks_nearest</th>\n",
       "      <th>ponds_around3000</th>\n",
       "      <th>ponds_nearest</th>\n",
       "      <th>days_exposition</th>\n",
       "    </tr>\n",
       "  </thead>\n",
       "  <tbody>\n",
       "    <tr>\n",
       "      <th>count</th>\n",
       "      <td>23699.000000</td>\n",
       "      <td>2.369900e+04</td>\n",
       "      <td>23699.000000</td>\n",
       "      <td>23699.000000</td>\n",
       "      <td>14504.000000</td>\n",
       "      <td>23613.000000</td>\n",
       "      <td>21796.000000</td>\n",
       "      <td>23699.000000</td>\n",
       "      <td>21421.000000</td>\n",
       "      <td>12180.000000</td>\n",
       "      <td>18157.000000</td>\n",
       "      <td>18180.000000</td>\n",
       "      <td>18181.000000</td>\n",
       "      <td>8079.000000</td>\n",
       "      <td>18181.000000</td>\n",
       "      <td>9110.000000</td>\n",
       "      <td>20518.000000</td>\n",
       "    </tr>\n",
       "    <tr>\n",
       "      <th>mean</th>\n",
       "      <td>9.858475</td>\n",
       "      <td>6.541549e+06</td>\n",
       "      <td>60.348651</td>\n",
       "      <td>2.070636</td>\n",
       "      <td>2.771499</td>\n",
       "      <td>10.673824</td>\n",
       "      <td>34.457852</td>\n",
       "      <td>5.892358</td>\n",
       "      <td>10.569807</td>\n",
       "      <td>1.150082</td>\n",
       "      <td>28793.672193</td>\n",
       "      <td>14191.277833</td>\n",
       "      <td>0.611408</td>\n",
       "      <td>490.804555</td>\n",
       "      <td>0.770255</td>\n",
       "      <td>517.980900</td>\n",
       "      <td>180.888634</td>\n",
       "    </tr>\n",
       "    <tr>\n",
       "      <th>std</th>\n",
       "      <td>5.682529</td>\n",
       "      <td>1.088701e+07</td>\n",
       "      <td>35.654083</td>\n",
       "      <td>1.078405</td>\n",
       "      <td>1.261056</td>\n",
       "      <td>6.597173</td>\n",
       "      <td>22.030445</td>\n",
       "      <td>4.885249</td>\n",
       "      <td>5.905438</td>\n",
       "      <td>1.071300</td>\n",
       "      <td>12630.880622</td>\n",
       "      <td>8608.386210</td>\n",
       "      <td>0.802074</td>\n",
       "      <td>342.317995</td>\n",
       "      <td>0.938346</td>\n",
       "      <td>277.720643</td>\n",
       "      <td>219.727988</td>\n",
       "    </tr>\n",
       "    <tr>\n",
       "      <th>min</th>\n",
       "      <td>0.000000</td>\n",
       "      <td>1.219000e+04</td>\n",
       "      <td>12.000000</td>\n",
       "      <td>0.000000</td>\n",
       "      <td>1.000000</td>\n",
       "      <td>1.000000</td>\n",
       "      <td>2.000000</td>\n",
       "      <td>1.000000</td>\n",
       "      <td>1.300000</td>\n",
       "      <td>0.000000</td>\n",
       "      <td>0.000000</td>\n",
       "      <td>181.000000</td>\n",
       "      <td>0.000000</td>\n",
       "      <td>1.000000</td>\n",
       "      <td>0.000000</td>\n",
       "      <td>13.000000</td>\n",
       "      <td>1.000000</td>\n",
       "    </tr>\n",
       "    <tr>\n",
       "      <th>25%</th>\n",
       "      <td>6.000000</td>\n",
       "      <td>3.400000e+06</td>\n",
       "      <td>40.000000</td>\n",
       "      <td>1.000000</td>\n",
       "      <td>2.520000</td>\n",
       "      <td>5.000000</td>\n",
       "      <td>18.600000</td>\n",
       "      <td>2.000000</td>\n",
       "      <td>7.000000</td>\n",
       "      <td>0.000000</td>\n",
       "      <td>18585.000000</td>\n",
       "      <td>9238.000000</td>\n",
       "      <td>0.000000</td>\n",
       "      <td>288.000000</td>\n",
       "      <td>0.000000</td>\n",
       "      <td>294.000000</td>\n",
       "      <td>45.000000</td>\n",
       "    </tr>\n",
       "    <tr>\n",
       "      <th>50%</th>\n",
       "      <td>9.000000</td>\n",
       "      <td>4.650000e+06</td>\n",
       "      <td>52.000000</td>\n",
       "      <td>2.000000</td>\n",
       "      <td>2.650000</td>\n",
       "      <td>9.000000</td>\n",
       "      <td>30.000000</td>\n",
       "      <td>4.000000</td>\n",
       "      <td>9.100000</td>\n",
       "      <td>1.000000</td>\n",
       "      <td>26726.000000</td>\n",
       "      <td>13098.500000</td>\n",
       "      <td>0.000000</td>\n",
       "      <td>455.000000</td>\n",
       "      <td>1.000000</td>\n",
       "      <td>502.000000</td>\n",
       "      <td>95.000000</td>\n",
       "    </tr>\n",
       "    <tr>\n",
       "      <th>75%</th>\n",
       "      <td>14.000000</td>\n",
       "      <td>6.800000e+06</td>\n",
       "      <td>69.900000</td>\n",
       "      <td>3.000000</td>\n",
       "      <td>2.800000</td>\n",
       "      <td>16.000000</td>\n",
       "      <td>42.300000</td>\n",
       "      <td>8.000000</td>\n",
       "      <td>12.000000</td>\n",
       "      <td>2.000000</td>\n",
       "      <td>37273.000000</td>\n",
       "      <td>16293.000000</td>\n",
       "      <td>1.000000</td>\n",
       "      <td>612.000000</td>\n",
       "      <td>1.000000</td>\n",
       "      <td>729.000000</td>\n",
       "      <td>232.000000</td>\n",
       "    </tr>\n",
       "    <tr>\n",
       "      <th>max</th>\n",
       "      <td>50.000000</td>\n",
       "      <td>7.630000e+08</td>\n",
       "      <td>900.000000</td>\n",
       "      <td>19.000000</td>\n",
       "      <td>100.000000</td>\n",
       "      <td>60.000000</td>\n",
       "      <td>409.700000</td>\n",
       "      <td>33.000000</td>\n",
       "      <td>112.000000</td>\n",
       "      <td>5.000000</td>\n",
       "      <td>84869.000000</td>\n",
       "      <td>65968.000000</td>\n",
       "      <td>3.000000</td>\n",
       "      <td>3190.000000</td>\n",
       "      <td>3.000000</td>\n",
       "      <td>1344.000000</td>\n",
       "      <td>1580.000000</td>\n",
       "    </tr>\n",
       "  </tbody>\n",
       "</table>\n",
       "</div>"
      ],
      "text/plain": [
       "       total_images    last_price    total_area         rooms  ceiling_height  \\\n",
       "count  23699.000000  2.369900e+04  23699.000000  23699.000000    14504.000000   \n",
       "mean       9.858475  6.541549e+06     60.348651      2.070636        2.771499   \n",
       "std        5.682529  1.088701e+07     35.654083      1.078405        1.261056   \n",
       "min        0.000000  1.219000e+04     12.000000      0.000000        1.000000   \n",
       "25%        6.000000  3.400000e+06     40.000000      1.000000        2.520000   \n",
       "50%        9.000000  4.650000e+06     52.000000      2.000000        2.650000   \n",
       "75%       14.000000  6.800000e+06     69.900000      3.000000        2.800000   \n",
       "max       50.000000  7.630000e+08    900.000000     19.000000      100.000000   \n",
       "\n",
       "       floors_total   living_area         floor  kitchen_area       balcony  \\\n",
       "count  23613.000000  21796.000000  23699.000000  21421.000000  12180.000000   \n",
       "mean      10.673824     34.457852      5.892358     10.569807      1.150082   \n",
       "std        6.597173     22.030445      4.885249      5.905438      1.071300   \n",
       "min        1.000000      2.000000      1.000000      1.300000      0.000000   \n",
       "25%        5.000000     18.600000      2.000000      7.000000      0.000000   \n",
       "50%        9.000000     30.000000      4.000000      9.100000      1.000000   \n",
       "75%       16.000000     42.300000      8.000000     12.000000      2.000000   \n",
       "max       60.000000    409.700000     33.000000    112.000000      5.000000   \n",
       "\n",
       "       airports_nearest  cityCenters_nearest  parks_around3000  parks_nearest  \\\n",
       "count      18157.000000         18180.000000      18181.000000    8079.000000   \n",
       "mean       28793.672193         14191.277833          0.611408     490.804555   \n",
       "std        12630.880622          8608.386210          0.802074     342.317995   \n",
       "min            0.000000           181.000000          0.000000       1.000000   \n",
       "25%        18585.000000          9238.000000          0.000000     288.000000   \n",
       "50%        26726.000000         13098.500000          0.000000     455.000000   \n",
       "75%        37273.000000         16293.000000          1.000000     612.000000   \n",
       "max        84869.000000         65968.000000          3.000000    3190.000000   \n",
       "\n",
       "       ponds_around3000  ponds_nearest  days_exposition  \n",
       "count      18181.000000    9110.000000     20518.000000  \n",
       "mean           0.770255     517.980900       180.888634  \n",
       "std            0.938346     277.720643       219.727988  \n",
       "min            0.000000      13.000000         1.000000  \n",
       "25%            0.000000     294.000000        45.000000  \n",
       "50%            1.000000     502.000000        95.000000  \n",
       "75%            1.000000     729.000000       232.000000  \n",
       "max            3.000000    1344.000000      1580.000000  "
      ]
     },
     "metadata": {},
     "output_type": "display_data"
    },
    {
     "data": {
      "text/plain": [
       "'\\n'"
      ]
     },
     "metadata": {},
     "output_type": "display_data"
    },
    {
     "data": {
      "text/plain": [
       "'Все столбцы данных:'"
      ]
     },
     "metadata": {},
     "output_type": "display_data"
    },
    {
     "data": {
      "text/html": [
       "<div>\n",
       "<style scoped>\n",
       "    .dataframe tbody tr th:only-of-type {\n",
       "        vertical-align: middle;\n",
       "    }\n",
       "\n",
       "    .dataframe tbody tr th {\n",
       "        vertical-align: top;\n",
       "    }\n",
       "\n",
       "    .dataframe thead th {\n",
       "        text-align: right;\n",
       "    }\n",
       "</style>\n",
       "<table border=\"1\" class=\"dataframe\">\n",
       "  <thead>\n",
       "    <tr style=\"text-align: right;\">\n",
       "      <th></th>\n",
       "      <th>total_images</th>\n",
       "      <th>last_price</th>\n",
       "      <th>total_area</th>\n",
       "      <th>first_day_exposition</th>\n",
       "      <th>rooms</th>\n",
       "      <th>ceiling_height</th>\n",
       "      <th>floors_total</th>\n",
       "      <th>living_area</th>\n",
       "      <th>floor</th>\n",
       "      <th>is_apartment</th>\n",
       "      <th>studio</th>\n",
       "      <th>open_plan</th>\n",
       "      <th>kitchen_area</th>\n",
       "      <th>balcony</th>\n",
       "      <th>locality_name</th>\n",
       "      <th>airports_nearest</th>\n",
       "      <th>cityCenters_nearest</th>\n",
       "      <th>parks_around3000</th>\n",
       "      <th>parks_nearest</th>\n",
       "      <th>ponds_around3000</th>\n",
       "      <th>ponds_nearest</th>\n",
       "      <th>days_exposition</th>\n",
       "    </tr>\n",
       "  </thead>\n",
       "  <tbody>\n",
       "    <tr>\n",
       "      <th>0</th>\n",
       "      <td>20</td>\n",
       "      <td>13000000.0</td>\n",
       "      <td>108.00</td>\n",
       "      <td>2019-03-07T00:00:00</td>\n",
       "      <td>3</td>\n",
       "      <td>2.70</td>\n",
       "      <td>16.0</td>\n",
       "      <td>51.0</td>\n",
       "      <td>8</td>\n",
       "      <td>NaN</td>\n",
       "      <td>False</td>\n",
       "      <td>False</td>\n",
       "      <td>25.00</td>\n",
       "      <td>NaN</td>\n",
       "      <td>Санкт-Петербург</td>\n",
       "      <td>18863.0</td>\n",
       "      <td>16028.0</td>\n",
       "      <td>1.0</td>\n",
       "      <td>482.0</td>\n",
       "      <td>2.0</td>\n",
       "      <td>755.0</td>\n",
       "      <td>NaN</td>\n",
       "    </tr>\n",
       "    <tr>\n",
       "      <th>1</th>\n",
       "      <td>7</td>\n",
       "      <td>3350000.0</td>\n",
       "      <td>40.40</td>\n",
       "      <td>2018-12-04T00:00:00</td>\n",
       "      <td>1</td>\n",
       "      <td>NaN</td>\n",
       "      <td>11.0</td>\n",
       "      <td>18.6</td>\n",
       "      <td>1</td>\n",
       "      <td>NaN</td>\n",
       "      <td>False</td>\n",
       "      <td>False</td>\n",
       "      <td>11.00</td>\n",
       "      <td>2.0</td>\n",
       "      <td>посёлок Шушары</td>\n",
       "      <td>12817.0</td>\n",
       "      <td>18603.0</td>\n",
       "      <td>0.0</td>\n",
       "      <td>NaN</td>\n",
       "      <td>0.0</td>\n",
       "      <td>NaN</td>\n",
       "      <td>81.0</td>\n",
       "    </tr>\n",
       "    <tr>\n",
       "      <th>2</th>\n",
       "      <td>10</td>\n",
       "      <td>5196000.0</td>\n",
       "      <td>56.00</td>\n",
       "      <td>2015-08-20T00:00:00</td>\n",
       "      <td>2</td>\n",
       "      <td>NaN</td>\n",
       "      <td>5.0</td>\n",
       "      <td>34.3</td>\n",
       "      <td>4</td>\n",
       "      <td>NaN</td>\n",
       "      <td>False</td>\n",
       "      <td>False</td>\n",
       "      <td>8.30</td>\n",
       "      <td>0.0</td>\n",
       "      <td>Санкт-Петербург</td>\n",
       "      <td>21741.0</td>\n",
       "      <td>13933.0</td>\n",
       "      <td>1.0</td>\n",
       "      <td>90.0</td>\n",
       "      <td>2.0</td>\n",
       "      <td>574.0</td>\n",
       "      <td>558.0</td>\n",
       "    </tr>\n",
       "    <tr>\n",
       "      <th>3</th>\n",
       "      <td>0</td>\n",
       "      <td>64900000.0</td>\n",
       "      <td>159.00</td>\n",
       "      <td>2015-07-24T00:00:00</td>\n",
       "      <td>3</td>\n",
       "      <td>NaN</td>\n",
       "      <td>14.0</td>\n",
       "      <td>NaN</td>\n",
       "      <td>9</td>\n",
       "      <td>NaN</td>\n",
       "      <td>False</td>\n",
       "      <td>False</td>\n",
       "      <td>NaN</td>\n",
       "      <td>0.0</td>\n",
       "      <td>Санкт-Петербург</td>\n",
       "      <td>28098.0</td>\n",
       "      <td>6800.0</td>\n",
       "      <td>2.0</td>\n",
       "      <td>84.0</td>\n",
       "      <td>3.0</td>\n",
       "      <td>234.0</td>\n",
       "      <td>424.0</td>\n",
       "    </tr>\n",
       "    <tr>\n",
       "      <th>4</th>\n",
       "      <td>2</td>\n",
       "      <td>10000000.0</td>\n",
       "      <td>100.00</td>\n",
       "      <td>2018-06-19T00:00:00</td>\n",
       "      <td>2</td>\n",
       "      <td>3.03</td>\n",
       "      <td>14.0</td>\n",
       "      <td>32.0</td>\n",
       "      <td>13</td>\n",
       "      <td>NaN</td>\n",
       "      <td>False</td>\n",
       "      <td>False</td>\n",
       "      <td>41.00</td>\n",
       "      <td>NaN</td>\n",
       "      <td>Санкт-Петербург</td>\n",
       "      <td>31856.0</td>\n",
       "      <td>8098.0</td>\n",
       "      <td>2.0</td>\n",
       "      <td>112.0</td>\n",
       "      <td>1.0</td>\n",
       "      <td>48.0</td>\n",
       "      <td>121.0</td>\n",
       "    </tr>\n",
       "    <tr>\n",
       "      <th>...</th>\n",
       "      <td>...</td>\n",
       "      <td>...</td>\n",
       "      <td>...</td>\n",
       "      <td>...</td>\n",
       "      <td>...</td>\n",
       "      <td>...</td>\n",
       "      <td>...</td>\n",
       "      <td>...</td>\n",
       "      <td>...</td>\n",
       "      <td>...</td>\n",
       "      <td>...</td>\n",
       "      <td>...</td>\n",
       "      <td>...</td>\n",
       "      <td>...</td>\n",
       "      <td>...</td>\n",
       "      <td>...</td>\n",
       "      <td>...</td>\n",
       "      <td>...</td>\n",
       "      <td>...</td>\n",
       "      <td>...</td>\n",
       "      <td>...</td>\n",
       "      <td>...</td>\n",
       "    </tr>\n",
       "    <tr>\n",
       "      <th>23694</th>\n",
       "      <td>9</td>\n",
       "      <td>9700000.0</td>\n",
       "      <td>133.81</td>\n",
       "      <td>2017-03-21T00:00:00</td>\n",
       "      <td>3</td>\n",
       "      <td>3.70</td>\n",
       "      <td>5.0</td>\n",
       "      <td>73.3</td>\n",
       "      <td>3</td>\n",
       "      <td>NaN</td>\n",
       "      <td>False</td>\n",
       "      <td>False</td>\n",
       "      <td>13.83</td>\n",
       "      <td>NaN</td>\n",
       "      <td>Санкт-Петербург</td>\n",
       "      <td>24665.0</td>\n",
       "      <td>4232.0</td>\n",
       "      <td>1.0</td>\n",
       "      <td>796.0</td>\n",
       "      <td>3.0</td>\n",
       "      <td>381.0</td>\n",
       "      <td>NaN</td>\n",
       "    </tr>\n",
       "    <tr>\n",
       "      <th>23695</th>\n",
       "      <td>14</td>\n",
       "      <td>3100000.0</td>\n",
       "      <td>59.00</td>\n",
       "      <td>2018-01-15T00:00:00</td>\n",
       "      <td>3</td>\n",
       "      <td>NaN</td>\n",
       "      <td>5.0</td>\n",
       "      <td>38.0</td>\n",
       "      <td>4</td>\n",
       "      <td>NaN</td>\n",
       "      <td>False</td>\n",
       "      <td>False</td>\n",
       "      <td>8.50</td>\n",
       "      <td>NaN</td>\n",
       "      <td>Тосно</td>\n",
       "      <td>NaN</td>\n",
       "      <td>NaN</td>\n",
       "      <td>NaN</td>\n",
       "      <td>NaN</td>\n",
       "      <td>NaN</td>\n",
       "      <td>NaN</td>\n",
       "      <td>45.0</td>\n",
       "    </tr>\n",
       "    <tr>\n",
       "      <th>23696</th>\n",
       "      <td>18</td>\n",
       "      <td>2500000.0</td>\n",
       "      <td>56.70</td>\n",
       "      <td>2018-02-11T00:00:00</td>\n",
       "      <td>2</td>\n",
       "      <td>NaN</td>\n",
       "      <td>3.0</td>\n",
       "      <td>29.7</td>\n",
       "      <td>1</td>\n",
       "      <td>NaN</td>\n",
       "      <td>False</td>\n",
       "      <td>False</td>\n",
       "      <td>NaN</td>\n",
       "      <td>NaN</td>\n",
       "      <td>село Рождествено</td>\n",
       "      <td>NaN</td>\n",
       "      <td>NaN</td>\n",
       "      <td>NaN</td>\n",
       "      <td>NaN</td>\n",
       "      <td>NaN</td>\n",
       "      <td>NaN</td>\n",
       "      <td>NaN</td>\n",
       "    </tr>\n",
       "    <tr>\n",
       "      <th>23697</th>\n",
       "      <td>13</td>\n",
       "      <td>11475000.0</td>\n",
       "      <td>76.75</td>\n",
       "      <td>2017-03-28T00:00:00</td>\n",
       "      <td>2</td>\n",
       "      <td>3.00</td>\n",
       "      <td>17.0</td>\n",
       "      <td>NaN</td>\n",
       "      <td>12</td>\n",
       "      <td>NaN</td>\n",
       "      <td>False</td>\n",
       "      <td>False</td>\n",
       "      <td>23.30</td>\n",
       "      <td>2.0</td>\n",
       "      <td>Санкт-Петербург</td>\n",
       "      <td>39140.0</td>\n",
       "      <td>10364.0</td>\n",
       "      <td>2.0</td>\n",
       "      <td>173.0</td>\n",
       "      <td>3.0</td>\n",
       "      <td>196.0</td>\n",
       "      <td>602.0</td>\n",
       "    </tr>\n",
       "    <tr>\n",
       "      <th>23698</th>\n",
       "      <td>4</td>\n",
       "      <td>1350000.0</td>\n",
       "      <td>32.30</td>\n",
       "      <td>2017-07-21T00:00:00</td>\n",
       "      <td>1</td>\n",
       "      <td>2.50</td>\n",
       "      <td>5.0</td>\n",
       "      <td>12.3</td>\n",
       "      <td>1</td>\n",
       "      <td>NaN</td>\n",
       "      <td>False</td>\n",
       "      <td>False</td>\n",
       "      <td>9.00</td>\n",
       "      <td>NaN</td>\n",
       "      <td>поселок Новый Учхоз</td>\n",
       "      <td>NaN</td>\n",
       "      <td>NaN</td>\n",
       "      <td>NaN</td>\n",
       "      <td>NaN</td>\n",
       "      <td>NaN</td>\n",
       "      <td>NaN</td>\n",
       "      <td>NaN</td>\n",
       "    </tr>\n",
       "  </tbody>\n",
       "</table>\n",
       "<p>23699 rows × 22 columns</p>\n",
       "</div>"
      ],
      "text/plain": [
       "       total_images  last_price  total_area first_day_exposition  rooms  \\\n",
       "0                20  13000000.0      108.00  2019-03-07T00:00:00      3   \n",
       "1                 7   3350000.0       40.40  2018-12-04T00:00:00      1   \n",
       "2                10   5196000.0       56.00  2015-08-20T00:00:00      2   \n",
       "3                 0  64900000.0      159.00  2015-07-24T00:00:00      3   \n",
       "4                 2  10000000.0      100.00  2018-06-19T00:00:00      2   \n",
       "...             ...         ...         ...                  ...    ...   \n",
       "23694             9   9700000.0      133.81  2017-03-21T00:00:00      3   \n",
       "23695            14   3100000.0       59.00  2018-01-15T00:00:00      3   \n",
       "23696            18   2500000.0       56.70  2018-02-11T00:00:00      2   \n",
       "23697            13  11475000.0       76.75  2017-03-28T00:00:00      2   \n",
       "23698             4   1350000.0       32.30  2017-07-21T00:00:00      1   \n",
       "\n",
       "       ceiling_height  floors_total  living_area  floor is_apartment  studio  \\\n",
       "0                2.70          16.0         51.0      8          NaN   False   \n",
       "1                 NaN          11.0         18.6      1          NaN   False   \n",
       "2                 NaN           5.0         34.3      4          NaN   False   \n",
       "3                 NaN          14.0          NaN      9          NaN   False   \n",
       "4                3.03          14.0         32.0     13          NaN   False   \n",
       "...               ...           ...          ...    ...          ...     ...   \n",
       "23694            3.70           5.0         73.3      3          NaN   False   \n",
       "23695             NaN           5.0         38.0      4          NaN   False   \n",
       "23696             NaN           3.0         29.7      1          NaN   False   \n",
       "23697            3.00          17.0          NaN     12          NaN   False   \n",
       "23698            2.50           5.0         12.3      1          NaN   False   \n",
       "\n",
       "       open_plan  kitchen_area  balcony        locality_name  \\\n",
       "0          False         25.00      NaN      Санкт-Петербург   \n",
       "1          False         11.00      2.0       посёлок Шушары   \n",
       "2          False          8.30      0.0      Санкт-Петербург   \n",
       "3          False           NaN      0.0      Санкт-Петербург   \n",
       "4          False         41.00      NaN      Санкт-Петербург   \n",
       "...          ...           ...      ...                  ...   \n",
       "23694      False         13.83      NaN      Санкт-Петербург   \n",
       "23695      False          8.50      NaN                Тосно   \n",
       "23696      False           NaN      NaN     село Рождествено   \n",
       "23697      False         23.30      2.0      Санкт-Петербург   \n",
       "23698      False          9.00      NaN  поселок Новый Учхоз   \n",
       "\n",
       "       airports_nearest  cityCenters_nearest  parks_around3000  parks_nearest  \\\n",
       "0               18863.0              16028.0               1.0          482.0   \n",
       "1               12817.0              18603.0               0.0            NaN   \n",
       "2               21741.0              13933.0               1.0           90.0   \n",
       "3               28098.0               6800.0               2.0           84.0   \n",
       "4               31856.0               8098.0               2.0          112.0   \n",
       "...                 ...                  ...               ...            ...   \n",
       "23694           24665.0               4232.0               1.0          796.0   \n",
       "23695               NaN                  NaN               NaN            NaN   \n",
       "23696               NaN                  NaN               NaN            NaN   \n",
       "23697           39140.0              10364.0               2.0          173.0   \n",
       "23698               NaN                  NaN               NaN            NaN   \n",
       "\n",
       "       ponds_around3000  ponds_nearest  days_exposition  \n",
       "0                   2.0          755.0              NaN  \n",
       "1                   0.0            NaN             81.0  \n",
       "2                   2.0          574.0            558.0  \n",
       "3                   3.0          234.0            424.0  \n",
       "4                   1.0           48.0            121.0  \n",
       "...                 ...            ...              ...  \n",
       "23694               3.0          381.0              NaN  \n",
       "23695               NaN            NaN             45.0  \n",
       "23696               NaN            NaN              NaN  \n",
       "23697               3.0          196.0            602.0  \n",
       "23698               NaN            NaN              NaN  \n",
       "\n",
       "[23699 rows x 22 columns]"
      ]
     },
     "metadata": {},
     "output_type": "display_data"
    },
    {
     "data": {
      "text/plain": [
       "'\\n'"
      ]
     },
     "metadata": {},
     "output_type": "display_data"
    },
    {
     "name": "stdout",
     "output_type": "stream",
     "text": [
      "Дубликатов не найдено.\n"
     ]
    },
    {
     "data": {
      "text/plain": [
       "'Гистограмма данных:'"
      ]
     },
     "metadata": {},
     "output_type": "display_data"
    },
    {
     "data": {
      "image/png": "[encoded data removed]",
      "text/plain": [
       "<Figure size 1500x2000 with 20 Axes>"
      ]
     },
     "metadata": {},
     "output_type": "display_data"
    }
   ],
   "source": [
    "def data_analysis(data):\n",
    "    \"\"\"\n",
    "    Функция для вывода первичной информации\n",
    "\n",
    "    Параметры:\n",
    "    data (DataFrame): DataFrame, который требуется проанализировать.\n",
    "\n",
    "    Возвращает:\n",
    "    None\n",
    "    \"\"\"\n",
    "    # Вывод основной информации о данных\n",
    "    display(\"Информация о данных:\")\n",
    "    display(data.info())\n",
    "    display(\"\\n\")\n",
    "    \n",
    "    # Вывод основных статистических показателей данных\n",
    "    display(\"Статистические показатели данных:\")\n",
    "    display(data.describe())\n",
    "    display(\"\\n\")\n",
    "    \n",
    "    # Вывод всех столбцов\n",
    "    display(\"Все столбцы данных:\")\n",
    "    display(data)\n",
    "    display(\"\\n\")\n",
    "    \n",
    "    # Поиск и вывод дубликатов\n",
    "    duplicated_rows = data[data.duplicated()]\n",
    "    if not duplicated_rows.empty:\n",
    "        print(\"Найдены дубликаты:\")\n",
    "        print(duplicated_rows)\n",
    "        print(\"\\n\")\n",
    "    else:\n",
    "        print(\"Дубликатов не найдено.\")\n",
    "\n",
    "    # Вывод гистограммы для всех столбцов\n",
    "    display(\"Гистограмма данных:\")\n",
    "    data.hist(figsize=(15, 20))\n",
    "        \n",
    "data_analysis(data)\n"
   ]
  },
  {
   "cell_type": "markdown",
   "metadata": {
    "id": "dPIJ6RgJspLA"
   },
   "source": [
    "**Вывод**\n",
    "\n",
    " - Файл с данными содержит 22 столбца (2 булевых, 3 целочисленных, 14 столбцов с плавающей точкой и 3 столбца с объектами) и 23699 записей;\n",
    " - Большинство названий столбцов выглядят адекватно и не содержат изъянов, но столбцы cityCenters_nearest, parks_around3000, ponds_around3000 и is_apartment имеют названия, несколько выбивающиеся из стандартного стиля;\n",
    " - В 14 из 22 столбцов есть пропущенные значения;\n",
    " - В столбцах last_price, airports_nearest, cityCenters_nearest, parks_nearest, ponds_nearest и days_exposition, судя по данным, все значения являются целыми числами. Эту гипотезу будет необходимо проверить на следующем шаге;\n",
    " - Столбец first_day_exposition содержит даты. На следующем шаге необходимо будет перевести его к типу datetime;\n",
    " - В столбце floors_total, судя по данным и логике (в здании не может быть дробного значения количества этажей), все значения должны быть целыми числами. На следующем шаге столбец нужно будет привести к типу int;\n",
    " - В столбце balcony, судя по данным и логике (в квартире не может быть дробного значения количества балконов), все значения должны быть целыми числами. На следующем шаге столбец нужно будет привести к типу int;\n",
    " - В столбце airports_nearest, судя по данным, все значения являются целыми числами. Эту гипотезу будет необходимо проверить на следующем шаге;\n",
    " - В столбце rooms минимальным значением является 0 комнат. Данное значение не является возможным. Данную аномалию необходимо проверить на следующем шаге;\n",
    " - В столбце ceiling_height максимальным значением является 100 м, минимальным 0 м. Это неестественные значения для данного показателя. Данные аномалии необходимо проверить на следующем шаге;\n",
    " - В столбце airports_nearest минимальным значением является 0 м. Это достаточно странно, так как получается, что продается квартира на территории аэропорта. Данную аномалию необходимо проверить на следующем шаге."
   ]
  },
  {
   "cell_type": "markdown",
   "metadata": {
    "id": "mGyfsVpxspLD",
    "tags": []
   },
   "source": [
    "## Предобработка данных\n",
    "\n",
    "### Переименование столбцов"
   ]
  },
  {
   "cell_type": "code",
   "execution_count": 8,
   "metadata": {
    "colab": {
     "base_uri": "https://localhost:8080/"
    },
    "id": "wVXZ1OzpspLF",
    "outputId": "f463d5bd-4f2f-4b29-e69c-cd3faca01526"
   },
   "outputs": [
    {
     "data": {
      "text/plain": [
       "Index(['total_images', 'last_price', 'total_area', 'first_day_exposition',\n",
       "       'rooms', 'ceiling_height', 'floors_total', 'living_area', 'floor',\n",
       "       'is_apartment', 'studio', 'open_plan', 'kitchen_area', 'balcony',\n",
       "       'locality_name', 'airports_nearest', 'cityCenters_nearest',\n",
       "       'parks_around3000', 'parks_nearest', 'ponds_around3000',\n",
       "       'ponds_nearest', 'days_exposition'],\n",
       "      dtype='object')"
      ]
     },
     "execution_count": 8,
     "metadata": {},
     "output_type": "execute_result"
    }
   ],
   "source": [
    "# Вывод списка столбцов\n",
    "data.columns"
   ]
  },
  {
   "cell_type": "code",
   "execution_count": 9,
   "metadata": {
    "id": "VF3k1nOIspLG"
   },
   "outputs": [],
   "source": [
    "# Переименование столбцов\n",
    "data = data.rename(columns={\n",
    "    \"cityCenters_nearest\": \"city_сenters_nearest\",\n",
    "    \"parks_around3000\": \"parks_around_3000\",\n",
    "    \"ponds_around3000\": \"ponds_around_3000\",\n",
    "    \"is_apartment\": \"apartment\", \"floor\": \"floor_\"\n",
    "})"
   ]
  },
  {
   "cell_type": "code",
   "execution_count": 10,
   "metadata": {
    "colab": {
     "base_uri": "https://localhost:8080/"
    },
    "id": "TUJXPbCNspLI",
    "outputId": "2233e775-db2f-4682-ff46-55146e6153ed"
   },
   "outputs": [
    {
     "data": {
      "text/plain": [
       "Index(['total_images', 'last_price', 'total_area', 'first_day_exposition',\n",
       "       'rooms', 'ceiling_height', 'floors_total', 'living_area', 'floor_',\n",
       "       'apartment', 'studio', 'open_plan', 'kitchen_area', 'balcony',\n",
       "       'locality_name', 'airports_nearest', 'city_сenters_nearest',\n",
       "       'parks_around_3000', 'parks_nearest', 'ponds_around_3000',\n",
       "       'ponds_nearest', 'days_exposition'],\n",
       "      dtype='object')"
      ]
     },
     "execution_count": 10,
     "metadata": {},
     "output_type": "execute_result"
    }
   ],
   "source": [
    "# Проверка результатов переименования\n",
    "data.columns"
   ]
  },
  {
   "cell_type": "markdown",
   "metadata": {
    "id": "WAMs_9UNspLK"
   },
   "source": [
    "### Проверка на пропуски и аномалии, изменение типов данных\n",
    "\n",
    "#### Проверка столбца total_images"
   ]
  },
  {
   "cell_type": "code",
   "execution_count": 127,
   "metadata": {
    "colab": {
     "base_uri": "https://localhost:8080/"
    },
    "id": "sX1XLOU1spLL",
    "outputId": "51d91a12-4e6e-4963-a4d8-e0b04303d910"
   },
   "outputs": [
    {
     "data": {
      "text/plain": [
       "array([20,  7, 10,  0,  2,  6,  5, 18,  9,  1, 16, 11,  8, 12, 13,  3, 15,\n",
       "       17, 14, 19, 32,  4, 35, 39, 23, 21, 27, 30, 24, 25, 28, 31, 22, 29,\n",
       "       26, 50, 42, 37], dtype=int64)"
      ]
     },
     "execution_count": 127,
     "metadata": {},
     "output_type": "execute_result"
    }
   ],
   "source": [
    "data['total_images'].unique()"
   ]
  },
  {
   "cell_type": "markdown",
   "metadata": {
    "id": "YddDy4JEspLN"
   },
   "source": [
    "#### Изменение типа столбца last_price"
   ]
  },
  {
   "cell_type": "code",
   "execution_count": 128,
   "metadata": {
    "colab": {
     "base_uri": "https://localhost:8080/"
    },
    "id": "qzc76_RQspLN",
    "outputId": "8094a36d-fa68-4cd4-ac7e-2e6632377467"
   },
   "outputs": [
    {
     "data": {
      "text/plain": [
       "0"
      ]
     },
     "execution_count": 128,
     "metadata": {},
     "output_type": "execute_result"
    }
   ],
   "source": [
    "# Проверка наличия дробных частей цены\n",
    "len(data.query('last_price % 1 != 0'))"
   ]
  },
  {
   "cell_type": "code",
   "execution_count": 129,
   "metadata": {
    "colab": {
     "base_uri": "https://localhost:8080/"
    },
    "id": "VwdYSyb3spLP",
    "outputId": "8593ff25-5793-4f86-8d7a-440f85836cf1"
   },
   "outputs": [
    {
     "data": {
      "text/plain": [
       "0        13000000\n",
       "1         3350000\n",
       "2         5196000\n",
       "3        64900000\n",
       "4        10000000\n",
       "           ...   \n",
       "23694     9700000\n",
       "23695     3100000\n",
       "23696     2500000\n",
       "23697    11475000\n",
       "23698     1350000\n",
       "Name: last_price, Length: 23699, dtype: int32"
      ]
     },
     "execution_count": 129,
     "metadata": {},
     "output_type": "execute_result"
    }
   ],
   "source": [
    "# Приведение к целочисленному типу\n",
    "data['last_price'] = data['last_price'].astype('int')\n",
    "\n",
    "# Проверка результатов приведения\n",
    "data['last_price']"
   ]
  },
  {
   "cell_type": "markdown",
   "metadata": {
    "id": "VVlBhy3IspLQ"
   },
   "source": [
    "#### Удаление аномалий в столбце total_area"
   ]
  },
  {
   "cell_type": "code",
   "execution_count": 130,
   "metadata": {
    "colab": {
     "base_uri": "https://localhost:8080/"
    },
    "id": "BopeFCrsspLQ",
    "outputId": "ab0b6f49-564e-4f64-a008-d4cc9415c7f5"
   },
   "outputs": [
    {
     "data": {
      "text/plain": [
       "count    23699.000000\n",
       "mean        60.348651\n",
       "std         35.654083\n",
       "min         12.000000\n",
       "25%         40.000000\n",
       "50%         52.000000\n",
       "75%         69.900000\n",
       "max        900.000000\n",
       "Name: total_area, dtype: float64"
      ]
     },
     "execution_count": 130,
     "metadata": {},
     "output_type": "execute_result"
    }
   ],
   "source": [
    "# Вывод основных статистических показателей столбца\n",
    "data['total_area'].describe()"
   ]
  },
  {
   "cell_type": "code",
   "execution_count": 131,
   "metadata": {
    "colab": {
     "base_uri": "https://localhost:8080/"
    },
    "id": "Wg0aebwvspLR",
    "outputId": "b56e7d1d-afbf-4d5a-c01b-e051f511d34e"
   },
   "outputs": [
    {
     "data": {
      "text/plain": [
       "11249"
      ]
     },
     "execution_count": 131,
     "metadata": {},
     "output_type": "execute_result"
    }
   ],
   "source": [
    "# Проверка наличия дробных значений с коррекцией двоичного представления чисел\n",
    "len(data.query('total_area % 1 > 1e-10'))"
   ]
  },
  {
   "cell_type": "code",
   "execution_count": 132,
   "metadata": {
    "colab": {
     "base_uri": "https://localhost:8080/",
     "height": 447
    },
    "id": "kbwIuViCspLT",
    "outputId": "c0e9045c-4f65-46a1-8e39-c0cccd261b52"
   },
   "outputs": [
    {
     "data": {
      "text/plain": [
       "<Axes: >"
      ]
     },
     "execution_count": 132,
     "metadata": {},
     "output_type": "execute_result"
    },
    {
     "data": {
      "image/png": "[encoded data removed]",
      "text/plain": [
       "<Figure size 640x480 with 1 Axes>"
      ]
     },
     "metadata": {},
     "output_type": "display_data"
    }
   ],
   "source": [
    "# Визуальная оценка распределения данных\n",
    "data['total_area'].hist(bins=900)"
   ]
  },
  {
   "cell_type": "code",
   "execution_count": 133,
   "metadata": {
    "colab": {
     "base_uri": "https://localhost:8080/",
     "height": 447
    },
    "id": "Qt4qGvr9spLU",
    "outputId": "d0d35a85-57e7-4489-f526-a16b37bedcbb"
   },
   "outputs": [
    {
     "data": {
      "text/plain": [
       "<Axes: >"
      ]
     },
     "execution_count": 133,
     "metadata": {},
     "output_type": "execute_result"
    },
    {
     "data": {
      "image/png": "[encoded data removed]",
      "text/plain": [
       "<Figure size 640x480 with 1 Axes>"
      ]
     },
     "metadata": {},
     "output_type": "display_data"
    }
   ],
   "source": [
    "# Визуальная оценка распределения основной части данных\n",
    "data.query('total_area < 100')['total_area'].hist(bins=100)"
   ]
  },
  {
   "cell_type": "code",
   "execution_count": 134,
   "metadata": {
    "colab": {
     "base_uri": "https://localhost:8080/"
    },
    "id": "mvTbkYagspLV",
    "outputId": "42150519-5beb-4f83-9065-94bff0f2783f"
   },
   "outputs": [
    {
     "data": {
      "text/plain": [
       "392"
      ]
     },
     "execution_count": 134,
     "metadata": {},
     "output_type": "execute_result"
    }
   ],
   "source": [
    "# Подсчет количества квартир с площадью менее 28 м^2\n",
    "len(data.query('total_area < 28'))"
   ]
  },
  {
   "cell_type": "code",
   "execution_count": 135,
   "metadata": {
    "colab": {
     "base_uri": "https://localhost:8080/"
    },
    "id": "Z1BcwC_PspLW",
    "outputId": "5b92265e-1a11-4081-cb76-2ca6a99778cb"
   },
   "outputs": [
    {
     "name": "stdout",
     "output_type": "stream",
     "text": [
      "0\n",
      "0\n"
     ]
    }
   ],
   "source": [
    "# Удаление квартир с площадью менее 28 м^2 и более 200 м^2\n",
    "data = data.query('28 <= total_area <= 200').reset_index(drop=True)\n",
    "\n",
    "# Проверка результатов удаления\n",
    "print(len(data.query('total_area < 28')))\n",
    "print(len(data.query('total_area > 200')))"
   ]
  },
  {
   "cell_type": "markdown",
   "metadata": {
    "id": "jLVdGZcospLY"
   },
   "source": [
    "#### Изменение типа столбца first_day_exposition"
   ]
  },
  {
   "cell_type": "code",
   "execution_count": 136,
   "metadata": {
    "colab": {
     "base_uri": "https://localhost:8080/"
    },
    "id": "Q1lhWLGFspLY",
    "outputId": "39e29342-b9bc-4a60-c2d5-f6bc32c76508"
   },
   "outputs": [
    {
     "data": {
      "text/plain": [
       "0    2019-03-07T00:00:00\n",
       "1    2018-12-04T00:00:00\n",
       "2    2015-08-20T00:00:00\n",
       "3    2015-07-24T00:00:00\n",
       "4    2018-06-19T00:00:00\n",
       "Name: first_day_exposition, dtype: object"
      ]
     },
     "execution_count": 136,
     "metadata": {},
     "output_type": "execute_result"
    }
   ],
   "source": [
    "# Оценка содержания данных\n",
    "data['first_day_exposition'].head()"
   ]
  },
  {
   "cell_type": "code",
   "execution_count": 137,
   "metadata": {
    "colab": {
     "base_uri": "https://localhost:8080/"
    },
    "id": "s8rFQF08spLZ",
    "outputId": "2421fb75-608f-488e-cfb0-2d9ee106404e"
   },
   "outputs": [
    {
     "data": {
      "text/plain": [
       "0       2019-03-07\n",
       "1       2018-12-04\n",
       "2       2015-08-20\n",
       "3       2015-07-24\n",
       "4       2018-06-19\n",
       "           ...    \n",
       "23075   2017-03-21\n",
       "23076   2018-01-15\n",
       "23077   2018-02-11\n",
       "23078   2017-03-28\n",
       "23079   2017-07-21\n",
       "Name: first_day_exposition, Length: 23080, dtype: datetime64[ns]"
      ]
     },
     "execution_count": 137,
     "metadata": {},
     "output_type": "execute_result"
    }
   ],
   "source": [
    "# Приведение данных к типу datetime\n",
    "data['first_day_exposition'] = pd.to_datetime(data['first_day_exposition'], format='%Y-%m-%dT%H:%M:%S')\n",
    "\n",
    "# Проверка результатов\n",
    "data['first_day_exposition']"
   ]
  },
  {
   "cell_type": "markdown",
   "metadata": {
    "id": "WxGHBPFzspLa"
   },
   "source": [
    "#### Удаление аномалий в столбце rooms"
   ]
  },
  {
   "cell_type": "code",
   "execution_count": 138,
   "metadata": {
    "colab": {
     "base_uri": "https://localhost:8080/"
    },
    "id": "btT1ltWPspLa",
    "outputId": "3d15aa95-4b31-43b2-ed72-390e960ed0b1"
   },
   "outputs": [
    {
     "data": {
      "text/plain": [
       "rooms\n",
       "2     7936\n",
       "1     7790\n",
       "3     5799\n",
       "4     1140\n",
       "5      265\n",
       "0       64\n",
       "6       62\n",
       "7       20\n",
       "11       2\n",
       "8        2\n",
       "Name: count, dtype: int64"
      ]
     },
     "execution_count": 138,
     "metadata": {},
     "output_type": "execute_result"
    }
   ],
   "source": [
    "# Проверка значений столбца\n",
    "data['rooms'].value_counts()"
   ]
  },
  {
   "cell_type": "code",
   "execution_count": 139,
   "metadata": {
    "colab": {
     "base_uri": "https://localhost:8080/",
     "height": 447
    },
    "id": "Uf2pyweispLc",
    "outputId": "196f86be-b3da-437f-97e9-fc7424bfdd13"
   },
   "outputs": [
    {
     "data": {
      "text/plain": [
       "<Axes: >"
      ]
     },
     "execution_count": 139,
     "metadata": {},
     "output_type": "execute_result"
    },
    {
     "data": {
      "image/png": "[encoded data removed]",
      "text/plain": [
       "<Figure size 640x480 with 1 Axes>"
      ]
     },
     "metadata": {},
     "output_type": "display_data"
    }
   ],
   "source": [
    "# Визуальная оценка распределения данных\n",
    "data['rooms'].hist(bins=20)"
   ]
  },
  {
   "cell_type": "code",
   "execution_count": 140,
   "metadata": {
    "colab": {
     "base_uri": "https://localhost:8080/"
    },
    "id": "r5GTN1KdspLd",
    "outputId": "722fbfdd-01dc-408f-ba2b-56701b0defb7"
   },
   "outputs": [
    {
     "data": {
      "text/plain": [
       "64"
      ]
     },
     "execution_count": 140,
     "metadata": {},
     "output_type": "execute_result"
    }
   ],
   "source": [
    "# Подсчет количества квартир с 0 комантами\n",
    "len(data[data['rooms'] == 0])"
   ]
  },
  {
   "cell_type": "code",
   "execution_count": 141,
   "metadata": {
    "colab": {
     "base_uri": "https://localhost:8080/",
     "height": 447
    },
    "id": "Rc5lRCI0spLf",
    "outputId": "dbcc9494-42dc-4e48-e16c-027b69be87e5"
   },
   "outputs": [
    {
     "data": {
      "text/plain": [
       "<Axes: >"
      ]
     },
     "execution_count": 141,
     "metadata": {},
     "output_type": "execute_result"
    },
    {
     "data": {
      "image/png": "[encoded data removed]",
      "text/plain": [
       "<Figure size 640x480 with 1 Axes>"
      ]
     },
     "metadata": {},
     "output_type": "display_data"
    }
   ],
   "source": [
    "# Оценка площади квартир с 0 комнат\n",
    "data.query('rooms == 0')['total_area'].hist()"
   ]
  },
  {
   "cell_type": "code",
   "execution_count": 142,
   "metadata": {
    "id": "kxcauR_mspLf"
   },
   "outputs": [],
   "source": [
    "# Замена количества комнат с 0 на 1\n",
    "data.loc[data['rooms'] == 0, 'rooms'] = 1"
   ]
  },
  {
   "cell_type": "code",
   "execution_count": 143,
   "metadata": {
    "colab": {
     "base_uri": "https://localhost:8080/"
    },
    "id": "gfH2wmYfspLf",
    "outputId": "937016b0-6d27-4930-9aa6-e4f673ce4179"
   },
   "outputs": [
    {
     "data": {
      "text/plain": [
       "rooms\n",
       "2     7936\n",
       "1     7854\n",
       "3     5799\n",
       "4     1140\n",
       "5      265\n",
       "6       62\n",
       "7       20\n",
       "11       2\n",
       "8        2\n",
       "Name: count, dtype: int64"
      ]
     },
     "execution_count": 143,
     "metadata": {},
     "output_type": "execute_result"
    }
   ],
   "source": [
    "# Проверка результатов замены\n",
    "data['rooms'].value_counts()"
   ]
  },
  {
   "cell_type": "markdown",
   "metadata": {
    "id": "VE0NzKQFspLh"
   },
   "source": [
    "#### Удаление и исправление аномалий в столбце ceiling_height"
   ]
  },
  {
   "cell_type": "code",
   "execution_count": 144,
   "metadata": {
    "id": "I_yGSg2jspLj"
   },
   "outputs": [],
   "source": [
    "# Функция для вывода доли пропущенных значений в столбце\n",
    "# column_name - (string) Название столбца\n",
    "def get_missing_values_proportion(column_name):\n",
    "    length = len(data.query(column_name + '.isnull()'))\n",
    "\n",
    "    print('Пропущенных значений - {} ({:.2%})'.format(length, length / len(data)), sep='')"
   ]
  },
  {
   "cell_type": "code",
   "execution_count": 145,
   "metadata": {
    "colab": {
     "base_uri": "https://localhost:8080/"
    },
    "id": "qCb4kHGqspLk",
    "outputId": "e43e40ff-d777-4843-cfab-564cddf07c40"
   },
   "outputs": [
    {
     "name": "stdout",
     "output_type": "stream",
     "text": [
      "Пропущенных значений - 8879 (38.47%)\n"
     ]
    }
   ],
   "source": [
    "# Оценка количества пропущенных значений\n",
    "get_missing_values_proportion('ceiling_height')"
   ]
  },
  {
   "cell_type": "code",
   "execution_count": 146,
   "metadata": {
    "colab": {
     "base_uri": "https://localhost:8080/"
    },
    "id": "ZjV_NQLYspLm",
    "outputId": "9bbf2edc-7623-44e7-dc13-c62de317333f"
   },
   "outputs": [
    {
     "data": {
      "text/plain": [
       "count    14201.000000\n",
       "mean         2.756819\n",
       "std          0.953399\n",
       "min          1.000000\n",
       "25%          2.500000\n",
       "50%          2.650000\n",
       "75%          2.800000\n",
       "max         32.000000\n",
       "Name: ceiling_height, dtype: float64"
      ]
     },
     "execution_count": 146,
     "metadata": {},
     "output_type": "execute_result"
    }
   ],
   "source": [
    "# Вывод основных статистических показателей столбца\n",
    "data['ceiling_height'].describe()"
   ]
  },
  {
   "cell_type": "code",
   "execution_count": 147,
   "metadata": {
    "colab": {
     "base_uri": "https://localhost:8080/",
     "height": 447
    },
    "id": "HqgCiplEspLm",
    "outputId": "58616f57-1007-4a42-9d46-edc65152255f"
   },
   "outputs": [
    {
     "data": {
      "text/plain": [
       "<Axes: >"
      ]
     },
     "execution_count": 147,
     "metadata": {},
     "output_type": "execute_result"
    },
    {
     "data": {
      "image/png": "[encoded data removed]",
      "text/plain": [
       "<Figure size 640x480 with 1 Axes>"
      ]
     },
     "metadata": {},
     "output_type": "display_data"
    }
   ],
   "source": [
    "# Визуальная оценка распределения данных\n",
    "data['ceiling_height'].hist(bins=32)"
   ]
  },
  {
   "cell_type": "code",
   "execution_count": 148,
   "metadata": {
    "colab": {
     "base_uri": "https://localhost:8080/",
     "height": 447
    },
    "id": "6CzVCOWwspLo",
    "outputId": "af5ef852-4d18-4a35-883a-72fd882532e5"
   },
   "outputs": [
    {
     "data": {
      "text/plain": [
       "<Axes: >"
      ]
     },
     "execution_count": 148,
     "metadata": {},
     "output_type": "execute_result"
    },
    {
     "data": {
      "image/png": "[encoded data removed]",
      "text/plain": [
       "<Figure size 640x480 with 1 Axes>"
      ]
     },
     "metadata": {},
     "output_type": "display_data"
    }
   ],
   "source": [
    "# Визуальная оценка распределения основной части данных\n",
    "data.query('ceiling_height < 5')['ceiling_height'].hist(bins=50)"
   ]
  },
  {
   "cell_type": "code",
   "execution_count": 149,
   "metadata": {
    "colab": {
     "base_uri": "https://localhost:8080/",
     "height": 447
    },
    "id": "pparwoi4spLo",
    "outputId": "c767640b-8e89-4677-d9c0-1543d5fc2e49"
   },
   "outputs": [
    {
     "data": {
      "text/plain": [
       "<Axes: >"
      ]
     },
     "execution_count": 149,
     "metadata": {},
     "output_type": "execute_result"
    },
    {
     "data": {
      "image/png": "[encoded data removed]",
      "text/plain": [
       "<Figure size 640x480 with 1 Axes>"
      ]
     },
     "metadata": {},
     "output_type": "display_data"
    }
   ],
   "source": [
    "# Визуальная оценка распределения данных с аномально большими значениями\n",
    "data.query('ceiling_height > 5')['ceiling_height'].hist(bins=50)"
   ]
  },
  {
   "cell_type": "code",
   "execution_count": 150,
   "metadata": {
    "colab": {
     "base_uri": "https://localhost:8080/"
    },
    "id": "aVxorytXspLp",
    "outputId": "5b9d1f56-2ad7-4585-d3cb-9cd65640e6c4"
   },
   "outputs": [
    {
     "data": {
      "text/plain": [
       "102"
      ]
     },
     "execution_count": 150,
     "metadata": {},
     "output_type": "execute_result"
    }
   ],
   "source": [
    "# Подсчет количества квартир с аномальными значениями высоты потолка\n",
    "len(data.query('ceiling_height < 2.5 or ceiling_height > 5'))"
   ]
  },
  {
   "cell_type": "code",
   "execution_count": 151,
   "metadata": {
    "id": "xbniliOFspLr"
   },
   "outputs": [],
   "source": [
    "# Исправление значений у квартир с выстой потолка более и равной 25 м\n",
    "data.loc[data['ceiling_height'] >= 25, 'ceiling_height'] /= 10"
   ]
  },
  {
   "cell_type": "code",
   "execution_count": 152,
   "metadata": {
    "colab": {
     "base_uri": "https://localhost:8080/",
     "height": 447
    },
    "id": "amVtpwryspLr",
    "outputId": "64b4bd3b-c807-401a-fa03-0eb443f3f31f"
   },
   "outputs": [
    {
     "data": {
      "text/plain": [
       "<Axes: >"
      ]
     },
     "execution_count": 152,
     "metadata": {},
     "output_type": "execute_result"
    },
    {
     "data": {
      "image/png": "[encoded data removed]",
      "text/plain": [
       "<Figure size 640x480 with 1 Axes>"
      ]
     },
     "metadata": {},
     "output_type": "display_data"
    }
   ],
   "source": [
    "# Проверка результатов исправления\n",
    "data.query('5 < ceiling_height < 40')['ceiling_height'].hist(bins=50)"
   ]
  },
  {
   "cell_type": "code",
   "execution_count": 153,
   "metadata": {
    "colab": {
     "base_uri": "https://localhost:8080/",
     "height": 447
    },
    "id": "wwVoU_TCspLs",
    "outputId": "258ed816-dda3-4617-f903-cd80e0404cec"
   },
   "outputs": [
    {
     "data": {
      "text/plain": [
       "<Axes: >"
      ]
     },
     "execution_count": 153,
     "metadata": {},
     "output_type": "execute_result"
    },
    {
     "data": {
      "image/png": "[encoded data removed]",
      "text/plain": [
       "<Figure size 640x480 with 1 Axes>"
      ]
     },
     "metadata": {},
     "output_type": "display_data"
    }
   ],
   "source": [
    "# Удаление аномальных значений\n",
    "data = data.query('2.5 <= ceiling_height < 7.5 or ceiling_height.isnull()').reset_index(drop=True)\n",
    "\n",
    "# Проверка результатов удаления\n",
    "data['ceiling_height'].hist()"
   ]
  },
  {
   "cell_type": "code",
   "execution_count": 154,
   "metadata": {
    "colab": {
     "base_uri": "https://localhost:8080/"
    },
    "id": "W2nw7SROspLt",
    "outputId": "40d0ecec-ec81-460d-f813-062b3ac4168d"
   },
   "outputs": [
    {
     "name": "stdout",
     "output_type": "stream",
     "text": [
      "Пропущенных значений - 8879 (38.60%)\n"
     ]
    }
   ],
   "source": [
    "# Подсчет количества пропущенных значений\n",
    "get_missing_values_proportion('ceiling_height')"
   ]
  },
  {
   "cell_type": "markdown",
   "metadata": {
    "id": "byuxGhUKspLu"
   },
   "source": [
    "#### Удаление пропусков и изменение типа столбца floors_total"
   ]
  },
  {
   "cell_type": "code",
   "execution_count": 155,
   "metadata": {
    "colab": {
     "base_uri": "https://localhost:8080/"
    },
    "id": "W6PjVJtOspLv",
    "outputId": "33c7d19e-597b-4c6e-dbea-4f339c5fb79b"
   },
   "outputs": [
    {
     "data": {
      "text/plain": [
       "floors_total\n",
       "5.0     5648\n",
       "9.0     3717\n",
       "16.0    1341\n",
       "12.0    1334\n",
       "4.0     1160\n",
       "10.0    1159\n",
       "25.0    1031\n",
       "6.0      855\n",
       "17.0     808\n",
       "3.0      642\n",
       "7.0      567\n",
       "14.0     537\n",
       "18.0     479\n",
       "24.0     439\n",
       "8.0      368\n",
       "2.0      361\n",
       "15.0     354\n",
       "23.0     341\n",
       "19.0     314\n",
       "22.0     274\n",
       "20.0     266\n",
       "13.0     228\n",
       "11.0     199\n",
       "27.0     158\n",
       "21.0     146\n",
       "26.0     124\n",
       "1.0       23\n",
       "35.0      22\n",
       "28.0      21\n",
       "36.0       3\n",
       "34.0       1\n",
       "60.0       1\n",
       "29.0       1\n",
       "33.0       1\n",
       "52.0       1\n",
       "Name: count, dtype: int64"
      ]
     },
     "execution_count": 155,
     "metadata": {},
     "output_type": "execute_result"
    }
   ],
   "source": [
    "# Проверка значений столбца\n",
    "data['floors_total'].value_counts()"
   ]
  },
  {
   "cell_type": "code",
   "execution_count": 156,
   "metadata": {
    "colab": {
     "base_uri": "https://localhost:8080/"
    },
    "id": "8BFcxIEJspLw",
    "outputId": "d4ec5ea8-2a36-427f-8d88-a94a61dc40d1"
   },
   "outputs": [
    {
     "name": "stdout",
     "output_type": "stream",
     "text": [
      "Пропущенных значений - 76 (0.33%)\n"
     ]
    }
   ],
   "source": [
    "# Подсчет количества пропущенных значений\n",
    "get_missing_values_proportion('floors_total')"
   ]
  },
  {
   "cell_type": "code",
   "execution_count": 157,
   "metadata": {
    "colab": {
     "base_uri": "https://localhost:8080/",
     "height": 661
    },
    "id": "2nBLJKyzspLy",
    "outputId": "88cab3e4-0c75-4343-f0be-a7cc2b43026b"
   },
   "outputs": [
    {
     "data": {
      "text/html": [
       "<div>\n",
       "<style scoped>\n",
       "    .dataframe tbody tr th:only-of-type {\n",
       "        vertical-align: middle;\n",
       "    }\n",
       "\n",
       "    .dataframe tbody tr th {\n",
       "        vertical-align: top;\n",
       "    }\n",
       "\n",
       "    .dataframe thead th {\n",
       "        text-align: right;\n",
       "    }\n",
       "</style>\n",
       "<table border=\"1\" class=\"dataframe\">\n",
       "  <thead>\n",
       "    <tr style=\"text-align: right;\">\n",
       "      <th></th>\n",
       "      <th>total_images</th>\n",
       "      <th>last_price</th>\n",
       "      <th>total_area</th>\n",
       "      <th>first_day_exposition</th>\n",
       "      <th>rooms</th>\n",
       "      <th>ceiling_height</th>\n",
       "      <th>floors_total</th>\n",
       "      <th>living_area</th>\n",
       "      <th>floor_</th>\n",
       "      <th>apartment</th>\n",
       "      <th>studio</th>\n",
       "      <th>open_plan</th>\n",
       "      <th>kitchen_area</th>\n",
       "      <th>balcony</th>\n",
       "      <th>locality_name</th>\n",
       "      <th>airports_nearest</th>\n",
       "      <th>city_сenters_nearest</th>\n",
       "      <th>parks_around_3000</th>\n",
       "      <th>parks_nearest</th>\n",
       "      <th>ponds_around_3000</th>\n",
       "      <th>ponds_nearest</th>\n",
       "      <th>days_exposition</th>\n",
       "    </tr>\n",
       "  </thead>\n",
       "  <tbody>\n",
       "    <tr>\n",
       "      <th>183</th>\n",
       "      <td>12</td>\n",
       "      <td>11640000</td>\n",
       "      <td>65.2</td>\n",
       "      <td>2018-10-02</td>\n",
       "      <td>2</td>\n",
       "      <td>NaN</td>\n",
       "      <td>NaN</td>\n",
       "      <td>30.80</td>\n",
       "      <td>4</td>\n",
       "      <td>NaN</td>\n",
       "      <td>False</td>\n",
       "      <td>False</td>\n",
       "      <td>12.00</td>\n",
       "      <td>NaN</td>\n",
       "      <td>Санкт-Петербург</td>\n",
       "      <td>39197.0</td>\n",
       "      <td>12373.0</td>\n",
       "      <td>1.0</td>\n",
       "      <td>123.0</td>\n",
       "      <td>0.0</td>\n",
       "      <td>NaN</td>\n",
       "      <td>49.0</td>\n",
       "    </tr>\n",
       "    <tr>\n",
       "      <th>232</th>\n",
       "      <td>4</td>\n",
       "      <td>2438033</td>\n",
       "      <td>28.1</td>\n",
       "      <td>2016-11-23</td>\n",
       "      <td>1</td>\n",
       "      <td>NaN</td>\n",
       "      <td>NaN</td>\n",
       "      <td>20.75</td>\n",
       "      <td>1</td>\n",
       "      <td>NaN</td>\n",
       "      <td>False</td>\n",
       "      <td>False</td>\n",
       "      <td>NaN</td>\n",
       "      <td>0.0</td>\n",
       "      <td>Санкт-Петербург</td>\n",
       "      <td>22041.0</td>\n",
       "      <td>17369.0</td>\n",
       "      <td>0.0</td>\n",
       "      <td>NaN</td>\n",
       "      <td>1.0</td>\n",
       "      <td>374.0</td>\n",
       "      <td>251.0</td>\n",
       "    </tr>\n",
       "    <tr>\n",
       "      <th>449</th>\n",
       "      <td>4</td>\n",
       "      <td>9788348</td>\n",
       "      <td>70.8</td>\n",
       "      <td>2015-08-01</td>\n",
       "      <td>2</td>\n",
       "      <td>NaN</td>\n",
       "      <td>NaN</td>\n",
       "      <td>38.40</td>\n",
       "      <td>12</td>\n",
       "      <td>NaN</td>\n",
       "      <td>False</td>\n",
       "      <td>False</td>\n",
       "      <td>10.63</td>\n",
       "      <td>0.0</td>\n",
       "      <td>Санкт-Петербург</td>\n",
       "      <td>37364.0</td>\n",
       "      <td>8322.0</td>\n",
       "      <td>2.0</td>\n",
       "      <td>309.0</td>\n",
       "      <td>2.0</td>\n",
       "      <td>706.0</td>\n",
       "      <td>727.0</td>\n",
       "    </tr>\n",
       "    <tr>\n",
       "      <th>652</th>\n",
       "      <td>4</td>\n",
       "      <td>6051191</td>\n",
       "      <td>93.6</td>\n",
       "      <td>2017-04-06</td>\n",
       "      <td>3</td>\n",
       "      <td>NaN</td>\n",
       "      <td>NaN</td>\n",
       "      <td>47.10</td>\n",
       "      <td>8</td>\n",
       "      <td>NaN</td>\n",
       "      <td>False</td>\n",
       "      <td>False</td>\n",
       "      <td>16.80</td>\n",
       "      <td>0.0</td>\n",
       "      <td>Санкт-Петербург</td>\n",
       "      <td>22041.0</td>\n",
       "      <td>17369.0</td>\n",
       "      <td>0.0</td>\n",
       "      <td>NaN</td>\n",
       "      <td>1.0</td>\n",
       "      <td>374.0</td>\n",
       "      <td>123.0</td>\n",
       "    </tr>\n",
       "    <tr>\n",
       "      <th>1697</th>\n",
       "      <td>5</td>\n",
       "      <td>3600000</td>\n",
       "      <td>39.0</td>\n",
       "      <td>2017-04-22</td>\n",
       "      <td>1</td>\n",
       "      <td>NaN</td>\n",
       "      <td>NaN</td>\n",
       "      <td>NaN</td>\n",
       "      <td>9</td>\n",
       "      <td>NaN</td>\n",
       "      <td>False</td>\n",
       "      <td>False</td>\n",
       "      <td>NaN</td>\n",
       "      <td>0.0</td>\n",
       "      <td>Санкт-Петербург</td>\n",
       "      <td>22735.0</td>\n",
       "      <td>11618.0</td>\n",
       "      <td>1.0</td>\n",
       "      <td>835.0</td>\n",
       "      <td>1.0</td>\n",
       "      <td>652.0</td>\n",
       "      <td>77.0</td>\n",
       "    </tr>\n",
       "    <tr>\n",
       "      <th>...</th>\n",
       "      <td>...</td>\n",
       "      <td>...</td>\n",
       "      <td>...</td>\n",
       "      <td>...</td>\n",
       "      <td>...</td>\n",
       "      <td>...</td>\n",
       "      <td>...</td>\n",
       "      <td>...</td>\n",
       "      <td>...</td>\n",
       "      <td>...</td>\n",
       "      <td>...</td>\n",
       "      <td>...</td>\n",
       "      <td>...</td>\n",
       "      <td>...</td>\n",
       "      <td>...</td>\n",
       "      <td>...</td>\n",
       "      <td>...</td>\n",
       "      <td>...</td>\n",
       "      <td>...</td>\n",
       "      <td>...</td>\n",
       "      <td>...</td>\n",
       "      <td>...</td>\n",
       "    </tr>\n",
       "    <tr>\n",
       "      <th>21875</th>\n",
       "      <td>5</td>\n",
       "      <td>8500000</td>\n",
       "      <td>63.5</td>\n",
       "      <td>2017-05-24</td>\n",
       "      <td>2</td>\n",
       "      <td>2.8</td>\n",
       "      <td>NaN</td>\n",
       "      <td>NaN</td>\n",
       "      <td>3</td>\n",
       "      <td>NaN</td>\n",
       "      <td>False</td>\n",
       "      <td>False</td>\n",
       "      <td>NaN</td>\n",
       "      <td>NaN</td>\n",
       "      <td>Санкт-Петербург</td>\n",
       "      <td>51340.0</td>\n",
       "      <td>15363.0</td>\n",
       "      <td>0.0</td>\n",
       "      <td>NaN</td>\n",
       "      <td>1.0</td>\n",
       "      <td>853.0</td>\n",
       "      <td>512.0</td>\n",
       "    </tr>\n",
       "    <tr>\n",
       "      <th>21984</th>\n",
       "      <td>4</td>\n",
       "      <td>4574160</td>\n",
       "      <td>64.5</td>\n",
       "      <td>2017-04-02</td>\n",
       "      <td>2</td>\n",
       "      <td>NaN</td>\n",
       "      <td>NaN</td>\n",
       "      <td>31.70</td>\n",
       "      <td>20</td>\n",
       "      <td>NaN</td>\n",
       "      <td>False</td>\n",
       "      <td>False</td>\n",
       "      <td>14.40</td>\n",
       "      <td>0.0</td>\n",
       "      <td>Санкт-Петербург</td>\n",
       "      <td>22041.0</td>\n",
       "      <td>17369.0</td>\n",
       "      <td>0.0</td>\n",
       "      <td>NaN</td>\n",
       "      <td>1.0</td>\n",
       "      <td>374.0</td>\n",
       "      <td>127.0</td>\n",
       "    </tr>\n",
       "    <tr>\n",
       "      <th>22133</th>\n",
       "      <td>0</td>\n",
       "      <td>14569263</td>\n",
       "      <td>110.4</td>\n",
       "      <td>2016-11-20</td>\n",
       "      <td>3</td>\n",
       "      <td>NaN</td>\n",
       "      <td>NaN</td>\n",
       "      <td>45.38</td>\n",
       "      <td>6</td>\n",
       "      <td>NaN</td>\n",
       "      <td>False</td>\n",
       "      <td>False</td>\n",
       "      <td>23.42</td>\n",
       "      <td>0.0</td>\n",
       "      <td>Санкт-Петербург</td>\n",
       "      <td>19095.0</td>\n",
       "      <td>4529.0</td>\n",
       "      <td>0.0</td>\n",
       "      <td>NaN</td>\n",
       "      <td>0.0</td>\n",
       "      <td>NaN</td>\n",
       "      <td>260.0</td>\n",
       "    </tr>\n",
       "    <tr>\n",
       "      <th>22893</th>\n",
       "      <td>0</td>\n",
       "      <td>21187872</td>\n",
       "      <td>123.3</td>\n",
       "      <td>2017-04-25</td>\n",
       "      <td>3</td>\n",
       "      <td>NaN</td>\n",
       "      <td>NaN</td>\n",
       "      <td>50.40</td>\n",
       "      <td>18</td>\n",
       "      <td>NaN</td>\n",
       "      <td>False</td>\n",
       "      <td>False</td>\n",
       "      <td>23.60</td>\n",
       "      <td>0.0</td>\n",
       "      <td>Санкт-Петербург</td>\n",
       "      <td>19095.0</td>\n",
       "      <td>4529.0</td>\n",
       "      <td>0.0</td>\n",
       "      <td>NaN</td>\n",
       "      <td>0.0</td>\n",
       "      <td>NaN</td>\n",
       "      <td>104.0</td>\n",
       "    </tr>\n",
       "    <tr>\n",
       "      <th>22960</th>\n",
       "      <td>6</td>\n",
       "      <td>3063600</td>\n",
       "      <td>43.8</td>\n",
       "      <td>2016-11-28</td>\n",
       "      <td>1</td>\n",
       "      <td>2.7</td>\n",
       "      <td>NaN</td>\n",
       "      <td>14.00</td>\n",
       "      <td>8</td>\n",
       "      <td>NaN</td>\n",
       "      <td>False</td>\n",
       "      <td>False</td>\n",
       "      <td>15.50</td>\n",
       "      <td>2.0</td>\n",
       "      <td>Санкт-Петербург</td>\n",
       "      <td>8426.0</td>\n",
       "      <td>12082.0</td>\n",
       "      <td>2.0</td>\n",
       "      <td>24.0</td>\n",
       "      <td>1.0</td>\n",
       "      <td>271.0</td>\n",
       "      <td>246.0</td>\n",
       "    </tr>\n",
       "  </tbody>\n",
       "</table>\n",
       "<p>76 rows × 22 columns</p>\n",
       "</div>"
      ],
      "text/plain": [
       "       total_images  last_price  total_area first_day_exposition  rooms  \\\n",
       "183              12    11640000        65.2           2018-10-02      2   \n",
       "232               4     2438033        28.1           2016-11-23      1   \n",
       "449               4     9788348        70.8           2015-08-01      2   \n",
       "652               4     6051191        93.6           2017-04-06      3   \n",
       "1697              5     3600000        39.0           2017-04-22      1   \n",
       "...             ...         ...         ...                  ...    ...   \n",
       "21875             5     8500000        63.5           2017-05-24      2   \n",
       "21984             4     4574160        64.5           2017-04-02      2   \n",
       "22133             0    14569263       110.4           2016-11-20      3   \n",
       "22893             0    21187872       123.3           2017-04-25      3   \n",
       "22960             6     3063600        43.8           2016-11-28      1   \n",
       "\n",
       "       ceiling_height  floors_total  living_area  floor_ apartment  studio  \\\n",
       "183               NaN           NaN        30.80       4       NaN   False   \n",
       "232               NaN           NaN        20.75       1       NaN   False   \n",
       "449               NaN           NaN        38.40      12       NaN   False   \n",
       "652               NaN           NaN        47.10       8       NaN   False   \n",
       "1697              NaN           NaN          NaN       9       NaN   False   \n",
       "...               ...           ...          ...     ...       ...     ...   \n",
       "21875             2.8           NaN          NaN       3       NaN   False   \n",
       "21984             NaN           NaN        31.70      20       NaN   False   \n",
       "22133             NaN           NaN        45.38       6       NaN   False   \n",
       "22893             NaN           NaN        50.40      18       NaN   False   \n",
       "22960             2.7           NaN        14.00       8       NaN   False   \n",
       "\n",
       "       open_plan  kitchen_area  balcony    locality_name  airports_nearest  \\\n",
       "183        False         12.00      NaN  Санкт-Петербург           39197.0   \n",
       "232        False           NaN      0.0  Санкт-Петербург           22041.0   \n",
       "449        False         10.63      0.0  Санкт-Петербург           37364.0   \n",
       "652        False         16.80      0.0  Санкт-Петербург           22041.0   \n",
       "1697       False           NaN      0.0  Санкт-Петербург           22735.0   \n",
       "...          ...           ...      ...              ...               ...   \n",
       "21875      False           NaN      NaN  Санкт-Петербург           51340.0   \n",
       "21984      False         14.40      0.0  Санкт-Петербург           22041.0   \n",
       "22133      False         23.42      0.0  Санкт-Петербург           19095.0   \n",
       "22893      False         23.60      0.0  Санкт-Петербург           19095.0   \n",
       "22960      False         15.50      2.0  Санкт-Петербург            8426.0   \n",
       "\n",
       "       city_сenters_nearest  parks_around_3000  parks_nearest  \\\n",
       "183                 12373.0                1.0          123.0   \n",
       "232                 17369.0                0.0            NaN   \n",
       "449                  8322.0                2.0          309.0   \n",
       "652                 17369.0                0.0            NaN   \n",
       "1697                11618.0                1.0          835.0   \n",
       "...                     ...                ...            ...   \n",
       "21875               15363.0                0.0            NaN   \n",
       "21984               17369.0                0.0            NaN   \n",
       "22133                4529.0                0.0            NaN   \n",
       "22893                4529.0                0.0            NaN   \n",
       "22960               12082.0                2.0           24.0   \n",
       "\n",
       "       ponds_around_3000  ponds_nearest  days_exposition  \n",
       "183                  0.0            NaN             49.0  \n",
       "232                  1.0          374.0            251.0  \n",
       "449                  2.0          706.0            727.0  \n",
       "652                  1.0          374.0            123.0  \n",
       "1697                 1.0          652.0             77.0  \n",
       "...                  ...            ...              ...  \n",
       "21875                1.0          853.0            512.0  \n",
       "21984                1.0          374.0            127.0  \n",
       "22133                0.0            NaN            260.0  \n",
       "22893                0.0            NaN            104.0  \n",
       "22960                1.0          271.0            246.0  \n",
       "\n",
       "[76 rows x 22 columns]"
      ]
     },
     "execution_count": 157,
     "metadata": {},
     "output_type": "execute_result"
    }
   ],
   "source": [
    "# Проверка гипотезы о том, что количество этажей не указано, когда в доме 1 этаж\n",
    "data.query('floors_total.isnull()')"
   ]
  },
  {
   "cell_type": "code",
   "execution_count": 158,
   "metadata": {
    "colab": {
     "base_uri": "https://localhost:8080/"
    },
    "id": "hTwepCq8spLz",
    "outputId": "23182099-b756-41a0-8576-e2639fa8a102"
   },
   "outputs": [
    {
     "name": "stdout",
     "output_type": "stream",
     "text": [
      "Пропущенных значений - 0 (0.00%)\n"
     ]
    }
   ],
   "source": [
    "# Удаление записей с пропущенными значениями\n",
    "data.dropna(subset=['floors_total'], inplace=True)\n",
    "data = data.reset_index(drop=True)\n",
    "\n",
    "# Проверка результатов удаления\n",
    "get_missing_values_proportion('floors_total')"
   ]
  },
  {
   "cell_type": "code",
   "execution_count": 159,
   "metadata": {
    "colab": {
     "base_uri": "https://localhost:8080/"
    },
    "id": "SRCEzvGcspL0",
    "outputId": "48ab25a7-da02-408a-a4c8-527b96f63477"
   },
   "outputs": [
    {
     "data": {
      "text/plain": [
       "0        16\n",
       "1        11\n",
       "2         5\n",
       "3        14\n",
       "4        14\n",
       "         ..\n",
       "22919     5\n",
       "22920     5\n",
       "22921     3\n",
       "22922    17\n",
       "22923     5\n",
       "Name: floors_total, Length: 22924, dtype: int32"
      ]
     },
     "execution_count": 159,
     "metadata": {},
     "output_type": "execute_result"
    }
   ],
   "source": [
    "# Приведение к целочисленному типу\n",
    "data['floors_total'] = data['floors_total'].astype('int')\n",
    "\n",
    "# Проверка результатов приведения\n",
    "data['floors_total']"
   ]
  },
  {
   "cell_type": "markdown",
   "metadata": {
    "id": "qWeFHOJtspL1"
   },
   "source": [
    "#### Заполнение пропусков и смена типа столбца apartment"
   ]
  },
  {
   "cell_type": "code",
   "execution_count": 160,
   "metadata": {
    "colab": {
     "base_uri": "https://localhost:8080/"
    },
    "id": "5KmY-BFNspL2",
    "outputId": "f2c227f1-6dcb-47fd-c479-9f1c8b6e3e69"
   },
   "outputs": [
    {
     "name": "stdout",
     "output_type": "stream",
     "text": [
      "Пропущенных значений - 20224 (88.22%)\n"
     ]
    },
    {
     "data": {
      "text/plain": [
       "apartment\n",
       "False    2655\n",
       "True       45\n",
       "Name: count, dtype: int64"
      ]
     },
     "execution_count": 160,
     "metadata": {},
     "output_type": "execute_result"
    }
   ],
   "source": [
    "# Подсчет количества пропущенных значений\n",
    "get_missing_values_proportion('apartment')\n",
    "\n",
    "# Оценка распределения значений\n",
    "data['apartment'].value_counts()"
   ]
  },
  {
   "cell_type": "code",
   "execution_count": 161,
   "metadata": {
    "colab": {
     "base_uri": "https://localhost:8080/"
    },
    "id": "oGZyr0cGspL2",
    "outputId": "918a35db-928b-4aa9-833d-8b911b93f9f1"
   },
   "outputs": [
    {
     "name": "stderr",
     "output_type": "stream",
     "text": [
      "C:\\Users\\marganov_aleksei\\AppData\\Local\\Temp\\ipykernel_4300\\3475156095.py:2: FutureWarning: Downcasting object dtype arrays on .fillna, .ffill, .bfill is deprecated and will change in a future version. Call result.infer_objects(copy=False) instead. To opt-in to the future behavior, set `pd.set_option('future.no_silent_downcasting', True)`\n",
      "  data['apartment'] = data['apartment'].fillna(False)\n"
     ]
    },
    {
     "data": {
      "text/plain": [
       "apartment\n",
       "False    22879\n",
       "True        45\n",
       "Name: count, dtype: int64"
      ]
     },
     "execution_count": 161,
     "metadata": {},
     "output_type": "execute_result"
    }
   ],
   "source": [
    "# Замена пропущенных значений\n",
    "data['apartment'] = data['apartment'].fillna(False)\n",
    "\n",
    "# Проверка результатов замены\n",
    "data['apartment'].value_counts()"
   ]
  },
  {
   "cell_type": "code",
   "execution_count": 162,
   "metadata": {
    "colab": {
     "base_uri": "https://localhost:8080/"
    },
    "id": "Mfih5xFFspL3",
    "outputId": "88304d4c-a4a9-4b51-fec2-ca514ad93cba"
   },
   "outputs": [
    {
     "data": {
      "text/plain": [
       "0        False\n",
       "1        False\n",
       "2        False\n",
       "3        False\n",
       "4        False\n",
       "         ...  \n",
       "22919    False\n",
       "22920    False\n",
       "22921    False\n",
       "22922    False\n",
       "22923    False\n",
       "Name: apartment, Length: 22924, dtype: bool"
      ]
     },
     "execution_count": 162,
     "metadata": {},
     "output_type": "execute_result"
    }
   ],
   "source": [
    "# Приведение к булевому типу\n",
    "data['apartment'] = data['apartment'].astype('bool')\n",
    "\n",
    "# Проверка результатов приведения\n",
    "data['apartment']"
   ]
  },
  {
   "cell_type": "markdown",
   "metadata": {
    "id": "oeTrSE0tspL4"
   },
   "source": [
    "#### Проверка столбца studio"
   ]
  },
  {
   "cell_type": "code",
   "execution_count": 163,
   "metadata": {
    "colab": {
     "base_uri": "https://localhost:8080/"
    },
    "id": "jPx1Id33spL5",
    "outputId": "6f8e1de8-ed73-4dc6-9ca8-e8dee6bec0f2"
   },
   "outputs": [
    {
     "data": {
      "text/plain": [
       "studio\n",
       "False    22875\n",
       "True        49\n",
       "Name: count, dtype: int64"
      ]
     },
     "execution_count": 163,
     "metadata": {},
     "output_type": "execute_result"
    }
   ],
   "source": [
    "data['studio'].value_counts()"
   ]
  },
  {
   "cell_type": "markdown",
   "metadata": {
    "id": "NE6226STspL6"
   },
   "source": [
    "#### Проверка столбца open_plan"
   ]
  },
  {
   "cell_type": "code",
   "execution_count": 164,
   "metadata": {
    "colab": {
     "base_uri": "https://localhost:8080/"
    },
    "id": "Z8sj_MxNspL7",
    "outputId": "df4bc658-9be8-4d75-b465-98258856786d"
   },
   "outputs": [
    {
     "data": {
      "text/plain": [
       "open_plan\n",
       "False    22897\n",
       "True        27\n",
       "Name: count, dtype: int64"
      ]
     },
     "execution_count": 164,
     "metadata": {},
     "output_type": "execute_result"
    }
   ],
   "source": [
    "data['open_plan'].value_counts()"
   ]
  },
  {
   "cell_type": "markdown",
   "metadata": {
    "id": "JWBOI3e6spL7"
   },
   "source": [
    "#### Удаление пропусков в столбце locality_name, создание столбца clean_locality_name без дубликатов, категоризация типов населенных пунктов, создание цифровых представлений названий и типов населенных пунктов"
   ]
  },
  {
   "cell_type": "code",
   "execution_count": 165,
   "metadata": {
    "colab": {
     "base_uri": "https://localhost:8080/"
    },
    "id": "9y7XXp3LspL8",
    "outputId": "2b593835-7747-488f-9e56-52720e2afb7c"
   },
   "outputs": [
    {
     "data": {
      "text/plain": [
       "locality_name\n",
       "Санкт-Петербург                                      15208\n",
       "посёлок Мурино                                         463\n",
       "посёлок Шушары                                         431\n",
       "Всеволожск                                             389\n",
       "Пушкин                                                 360\n",
       "                                                     ...  \n",
       "посёлок при железнодорожной станции Приветнинское        1\n",
       "поселок Гладкое                                          1\n",
       "посёлок городского типа Рябово                           1\n",
       "поселок городского типа Рябово                           1\n",
       "посёлок Дзержинского                                     1\n",
       "Name: count, Length: 359, dtype: int64"
      ]
     },
     "execution_count": 165,
     "metadata": {},
     "output_type": "execute_result"
    }
   ],
   "source": [
    "# Проверка значений столбца\n",
    "data['locality_name'].value_counts()"
   ]
  },
  {
   "cell_type": "code",
   "execution_count": 166,
   "metadata": {
    "colab": {
     "base_uri": "https://localhost:8080/"
    },
    "id": "iRswc08cspL9",
    "outputId": "25a780f5-fb0e-480a-ca2f-72d2e108e31c"
   },
   "outputs": [
    {
     "name": "stdout",
     "output_type": "stream",
     "text": [
      "Пропущенных значений - 48 (0.21%)\n"
     ]
    }
   ],
   "source": [
    "# Подсчет количества пустых значений\n",
    "get_missing_values_proportion('locality_name')"
   ]
  },
  {
   "cell_type": "code",
   "execution_count": 167,
   "metadata": {
    "colab": {
     "base_uri": "https://localhost:8080/"
    },
    "id": "KS0lj3IJspL-",
    "outputId": "9157c8ad-6359-40bd-f47c-89fb207b2c02"
   },
   "outputs": [
    {
     "name": "stdout",
     "output_type": "stream",
     "text": [
      "Пропущенных значений - 0 (0.00%)\n"
     ]
    }
   ],
   "source": [
    "# Удаление пусты значений\n",
    "data.dropna(subset=['locality_name'], inplace=True)\n",
    "data = data.reset_index(drop=True)\n",
    "\n",
    "# Проверка результатов удаления\n",
    "get_missing_values_proportion('locality_name')"
   ]
  },
  {
   "cell_type": "code",
   "execution_count": 168,
   "metadata": {
    "colab": {
     "base_uri": "https://localhost:8080/"
    },
    "id": "dD35jMbLspMA",
    "outputId": "21dd21d8-7a64-46ac-a74d-d6831e4d5591"
   },
   "outputs": [
    {
     "data": {
      "text/plain": [
       "359"
      ]
     },
     "execution_count": 168,
     "metadata": {},
     "output_type": "execute_result"
    }
   ],
   "source": [
    "# Подсчет уникальных населенных пунктов\n",
    "len(data['locality_name'].unique())"
   ]
  },
  {
   "cell_type": "code",
   "execution_count": 11,
   "metadata": {
    "colab": {
     "base_uri": "https://localhost:8080/"
    },
    "id": "Kk09pQ1espMB",
    "outputId": "d0cc7ccf-f922-4f80-ccd7-d6ebc44c5d3b"
   },
   "outputs": [
    {
     "ename": "ModuleNotFoundError",
     "evalue": "No module named 'pymystem3'",
     "output_type": "error",
     "traceback": [
      "\u001b[1;31m---------------------------------------------------------------------------\u001b[0m",
      "\u001b[1;31mModuleNotFoundError\u001b[0m                       Traceback (most recent call last)",
      "Cell \u001b[1;32mIn[11], line 1\u001b[0m\n\u001b[1;32m----> 1\u001b[0m \u001b[38;5;28;01mfrom\u001b[39;00m \u001b[38;5;21;01mpymystem3\u001b[39;00m \u001b[38;5;28;01mimport\u001b[39;00m Mystem\n\u001b[0;32m      3\u001b[0m m \u001b[38;5;241m=\u001b[39m Mystem()\n",
      "\u001b[1;31mModuleNotFoundError\u001b[0m: No module named 'pymystem3'"
     ]
    }
   ],
   "source": [
    "from pymystem3 import Mystem\n",
    "\n",
    "m = Mystem()"
   ]
  },
  {
   "cell_type": "code",
   "execution_count": 115,
   "metadata": {},
   "outputs": [],
   "source": [
    "# Функция для очистки названий насленных пунктов и удаления дубликатов\n",
    "# name - (string) Название населенного пункта\n",
    "# возвращает - (string) Очищенное название населенного пункта\n",
    "def get_clean_locality_name(name):\n",
    "    splited_name = name.split(' ')\n",
    "\n",
    "    # Разделение назавания на тип и название насленного пункта\n",
    "    locality_type = []\n",
    "    locality_name = []\n",
    "\n",
    "    name_started = False\n",
    "    for word in splited_name:\n",
    "        if word[0].isupper() or word == 'имени':\n",
    "            name_started = True\n",
    "\n",
    "        if name_started:\n",
    "            locality_name.append(word)\n",
    "        else:\n",
    "            locality_type.append(word)\n",
    "\n",
    "    locality_name = ' '.join(locality_name)\n",
    "\n",
    "    # Если название не имеет типа, то он возвращается\n",
    "    if len(locality_type) == 0:\n",
    "        return locality_name\n",
    "\n",
    "    # Определение типа насленного пункта\n",
    "    locality_type = m.lemmatize(' '.join(locality_type))\n",
    "\n",
    "    if 'поселок' in locality_type:\n",
    "        if 'городской' in locality_type:\n",
    "            new_type = 'поселок городского типа'\n",
    "        elif 'станция' in locality_type:\n",
    "            new_type = 'поселок при железнодорожной станции'\n",
    "        elif 'коттеджный' in locality_type:\n",
    "            new_type = 'коттеджный поселок'\n",
    "        else:\n",
    "            new_type = 'поселок'\n",
    "    elif 'деревня' in locality_type:\n",
    "        new_type = 'деревня'\n",
    "    elif 'товарищество' in locality_type:\n",
    "        new_type = 'садовое товарищество'\n",
    "    elif 'село' in locality_type:\n",
    "        new_type = 'село'\n",
    "    else:\n",
    "        new_type = 'undefined'\n",
    "\n",
    "    locality_type = ''.join(locality_type)[:-1]\n",
    "\n",
    "    return new_type + ' ' + locality_name"
   ]
  },
  {
   "cell_type": "code",
   "execution_count": 116,
   "metadata": {},
   "outputs": [],
   "source": [
    "# Создание столбца clean_locality_name с очищенными названиями населенных пунктов\n",
    "data['clean_locality_name'] = data['locality_name'].apply(get_clean_locality_name)"
   ]
  },
  {
   "cell_type": "code",
   "execution_count": 117,
   "metadata": {
    "colab": {
     "base_uri": "https://localhost:8080/"
    },
    "id": "WEM9dE-qspME",
    "outputId": "0ca1bab0-e2ce-40ed-9b8b-d496fec81016"
   },
   "outputs": [
    {
     "data": {
      "text/plain": [
       "clean_locality_name\n",
       "Санкт-Петербург           15208\n",
       "undefined Мурино            489\n",
       "undefined Шушары            431\n",
       "Всеволожск                  389\n",
       "Пушкин                      360\n",
       "                          ...  \n",
       "undefined Алексеевка          1\n",
       "undefined Белоостров          1\n",
       "деревня Пельгора              1\n",
       "undefined Каложицы            1\n",
       "undefined Дзержинского        1\n",
       "Name: count, Length: 313, dtype: int64"
      ]
     },
     "execution_count": 117,
     "metadata": {},
     "output_type": "execute_result"
    }
   ],
   "source": [
    "# Проверка результатов создания\n",
    "data['clean_locality_name'].value_counts()"
   ]
  },
  {
   "cell_type": "code",
   "execution_count": 118,
   "metadata": {
    "id": "PYlnsMTjspME"
   },
   "outputs": [],
   "source": [
    "# Функция для получения типа населенного пункта\n",
    "# name - (string) Название населенного пункта\n",
    "# возвращает - (string) Тип населенного пункта\n",
    "def get_clean_locality_type(name):\n",
    "    splited_name = name.split(' ')\n",
    "\n",
    "    # Разделение назавания на тип и название насленного пункта\n",
    "    locality_type = []\n",
    "    locality_name = []\n",
    "\n",
    "    name_started = False\n",
    "    for word in splited_name:\n",
    "        if word[0].isupper() or word == 'имени':\n",
    "            name_started = True\n",
    "\n",
    "        if name_started:\n",
    "            locality_name.append(word)\n",
    "        else:\n",
    "            locality_type.append(word)\n",
    "\n",
    "    locality_name = ' '.join(locality_name)\n",
    "\n",
    "    # Если название не имеет типа, то он возвращается\n",
    "    if len(locality_type) == 0:\n",
    "        return 'без типа'\n",
    "\n",
    "    # Определение типа насленного пункта\n",
    "    locality_type = m.lemmatize(' '.join(locality_type))\n",
    "\n",
    "    if 'поселок' in locality_type:\n",
    "        if 'городской' in locality_type:\n",
    "            new_type = 'поселок городского типа'\n",
    "        elif 'станция' in locality_type:\n",
    "            new_type = 'поселок при железнодорожной станции'\n",
    "        elif 'коттеджный' in locality_type:\n",
    "            new_type = 'коттеджный поселок'\n",
    "        else:\n",
    "            new_type = 'поселок'\n",
    "    elif 'деревня' in locality_type:\n",
    "        new_type = 'деревня'\n",
    "    elif 'товарищество' in locality_type:\n",
    "        new_type = 'садовое товарищество'\n",
    "    elif 'село' in locality_type:\n",
    "        new_type = 'село'\n",
    "    else:\n",
    "        new_type = 'undefined'\n",
    "\n",
    "    locality_type = ''.join(locality_type)[:-1]\n",
    "\n",
    "    return new_type"
   ]
  },
  {
   "cell_type": "code",
   "execution_count": 119,
   "metadata": {
    "id": "UgV8_HmfspMF"
   },
   "outputs": [
    {
     "ename": "ValueError",
     "evalue": "I/O operation on closed file",
     "output_type": "error",
     "traceback": [
      "\u001b[1;31m---------------------------------------------------------------------------\u001b[0m",
      "\u001b[1;31mValueError\u001b[0m                                Traceback (most recent call last)",
      "Cell \u001b[1;32mIn[119], line 2\u001b[0m\n\u001b[0;32m      1\u001b[0m \u001b[38;5;66;03m# Категоризация данных по типу населенного пункта\u001b[39;00m\n\u001b[1;32m----> 2\u001b[0m data[\u001b[38;5;124m'\u001b[39m\u001b[38;5;124mclean_locality_type\u001b[39m\u001b[38;5;124m'\u001b[39m] \u001b[38;5;241m=\u001b[39m \u001b[43mdata\u001b[49m\u001b[43m[\u001b[49m\u001b[38;5;124;43m'\u001b[39;49m\u001b[38;5;124;43mclean_locality_name\u001b[39;49m\u001b[38;5;124;43m'\u001b[39;49m\u001b[43m]\u001b[49m\u001b[38;5;241;43m.\u001b[39;49m\u001b[43mapply\u001b[49m\u001b[43m(\u001b[49m\u001b[43mget_clean_locality_type\u001b[49m\u001b[43m)\u001b[49m\n",
      "File \u001b[1;32m~\\AppData\\Roaming\\Python\\Python312\\site-packages\\pandas\\core\\series.py:4904\u001b[0m, in \u001b[0;36mSeries.apply\u001b[1;34m(self, func, convert_dtype, args, by_row, **kwargs)\u001b[0m\n\u001b[0;32m   4769\u001b[0m \u001b[38;5;28;01mdef\u001b[39;00m \u001b[38;5;21mapply\u001b[39m(\n\u001b[0;32m   4770\u001b[0m     \u001b[38;5;28mself\u001b[39m,\n\u001b[0;32m   4771\u001b[0m     func: AggFuncType,\n\u001b[1;32m   (...)\u001b[0m\n\u001b[0;32m   4776\u001b[0m     \u001b[38;5;241m*\u001b[39m\u001b[38;5;241m*\u001b[39mkwargs,\n\u001b[0;32m   4777\u001b[0m ) \u001b[38;5;241m-\u001b[39m\u001b[38;5;241m>\u001b[39m DataFrame \u001b[38;5;241m|\u001b[39m Series:\n\u001b[0;32m   4778\u001b[0m \u001b[38;5;250m    \u001b[39m\u001b[38;5;124;03m\"\"\"\u001b[39;00m\n\u001b[0;32m   4779\u001b[0m \u001b[38;5;124;03m    Invoke function on values of Series.\u001b[39;00m\n\u001b[0;32m   4780\u001b[0m \n\u001b[1;32m   (...)\u001b[0m\n\u001b[0;32m   4895\u001b[0m \u001b[38;5;124;03m    dtype: float64\u001b[39;00m\n\u001b[0;32m   4896\u001b[0m \u001b[38;5;124;03m    \"\"\"\u001b[39;00m\n\u001b[0;32m   4897\u001b[0m     \u001b[38;5;28;01mreturn\u001b[39;00m \u001b[43mSeriesApply\u001b[49m\u001b[43m(\u001b[49m\n\u001b[0;32m   4898\u001b[0m \u001b[43m        \u001b[49m\u001b[38;5;28;43mself\u001b[39;49m\u001b[43m,\u001b[49m\n\u001b[0;32m   4899\u001b[0m \u001b[43m        \u001b[49m\u001b[43mfunc\u001b[49m\u001b[43m,\u001b[49m\n\u001b[0;32m   4900\u001b[0m \u001b[43m        \u001b[49m\u001b[43mconvert_dtype\u001b[49m\u001b[38;5;241;43m=\u001b[39;49m\u001b[43mconvert_dtype\u001b[49m\u001b[43m,\u001b[49m\n\u001b[0;32m   4901\u001b[0m \u001b[43m        \u001b[49m\u001b[43mby_row\u001b[49m\u001b[38;5;241;43m=\u001b[39;49m\u001b[43mby_row\u001b[49m\u001b[43m,\u001b[49m\n\u001b[0;32m   4902\u001b[0m \u001b[43m        \u001b[49m\u001b[43margs\u001b[49m\u001b[38;5;241;43m=\u001b[39;49m\u001b[43margs\u001b[49m\u001b[43m,\u001b[49m\n\u001b[0;32m   4903\u001b[0m \u001b[43m        \u001b[49m\u001b[43mkwargs\u001b[49m\u001b[38;5;241;43m=\u001b[39;49m\u001b[43mkwargs\u001b[49m\u001b[43m,\u001b[49m\n\u001b[1;32m-> 4904\u001b[0m \u001b[43m    \u001b[49m\u001b[43m)\u001b[49m\u001b[38;5;241;43m.\u001b[39;49m\u001b[43mapply\u001b[49m\u001b[43m(\u001b[49m\u001b[43m)\u001b[49m\n",
      "File \u001b[1;32m~\\AppData\\Roaming\\Python\\Python312\\site-packages\\pandas\\core\\apply.py:1427\u001b[0m, in \u001b[0;36mSeriesApply.apply\u001b[1;34m(self)\u001b[0m\n\u001b[0;32m   1424\u001b[0m     \u001b[38;5;28;01mreturn\u001b[39;00m \u001b[38;5;28mself\u001b[39m\u001b[38;5;241m.\u001b[39mapply_compat()\n\u001b[0;32m   1426\u001b[0m \u001b[38;5;66;03m# self.func is Callable\u001b[39;00m\n\u001b[1;32m-> 1427\u001b[0m \u001b[38;5;28;01mreturn\u001b[39;00m \u001b[38;5;28;43mself\u001b[39;49m\u001b[38;5;241;43m.\u001b[39;49m\u001b[43mapply_standard\u001b[49m\u001b[43m(\u001b[49m\u001b[43m)\u001b[49m\n",
      "File \u001b[1;32m~\\AppData\\Roaming\\Python\\Python312\\site-packages\\pandas\\core\\apply.py:1507\u001b[0m, in \u001b[0;36mSeriesApply.apply_standard\u001b[1;34m(self)\u001b[0m\n\u001b[0;32m   1501\u001b[0m \u001b[38;5;66;03m# row-wise access\u001b[39;00m\n\u001b[0;32m   1502\u001b[0m \u001b[38;5;66;03m# apply doesn't have a `na_action` keyword and for backward compat reasons\u001b[39;00m\n\u001b[0;32m   1503\u001b[0m \u001b[38;5;66;03m# we need to give `na_action=\"ignore\"` for categorical data.\u001b[39;00m\n\u001b[0;32m   1504\u001b[0m \u001b[38;5;66;03m# TODO: remove the `na_action=\"ignore\"` when that default has been changed in\u001b[39;00m\n\u001b[0;32m   1505\u001b[0m \u001b[38;5;66;03m#  Categorical (GH51645).\u001b[39;00m\n\u001b[0;32m   1506\u001b[0m action \u001b[38;5;241m=\u001b[39m \u001b[38;5;124m\"\u001b[39m\u001b[38;5;124mignore\u001b[39m\u001b[38;5;124m\"\u001b[39m \u001b[38;5;28;01mif\u001b[39;00m \u001b[38;5;28misinstance\u001b[39m(obj\u001b[38;5;241m.\u001b[39mdtype, CategoricalDtype) \u001b[38;5;28;01melse\u001b[39;00m \u001b[38;5;28;01mNone\u001b[39;00m\n\u001b[1;32m-> 1507\u001b[0m mapped \u001b[38;5;241m=\u001b[39m \u001b[43mobj\u001b[49m\u001b[38;5;241;43m.\u001b[39;49m\u001b[43m_map_values\u001b[49m\u001b[43m(\u001b[49m\n\u001b[0;32m   1508\u001b[0m \u001b[43m    \u001b[49m\u001b[43mmapper\u001b[49m\u001b[38;5;241;43m=\u001b[39;49m\u001b[43mcurried\u001b[49m\u001b[43m,\u001b[49m\u001b[43m \u001b[49m\u001b[43mna_action\u001b[49m\u001b[38;5;241;43m=\u001b[39;49m\u001b[43maction\u001b[49m\u001b[43m,\u001b[49m\u001b[43m \u001b[49m\u001b[43mconvert\u001b[49m\u001b[38;5;241;43m=\u001b[39;49m\u001b[38;5;28;43mself\u001b[39;49m\u001b[38;5;241;43m.\u001b[39;49m\u001b[43mconvert_dtype\u001b[49m\n\u001b[0;32m   1509\u001b[0m \u001b[43m\u001b[49m\u001b[43m)\u001b[49m\n\u001b[0;32m   1511\u001b[0m \u001b[38;5;28;01mif\u001b[39;00m \u001b[38;5;28mlen\u001b[39m(mapped) \u001b[38;5;129;01mand\u001b[39;00m \u001b[38;5;28misinstance\u001b[39m(mapped[\u001b[38;5;241m0\u001b[39m], ABCSeries):\n\u001b[0;32m   1512\u001b[0m     \u001b[38;5;66;03m# GH#43986 Need to do list(mapped) in order to get treated as nested\u001b[39;00m\n\u001b[0;32m   1513\u001b[0m     \u001b[38;5;66;03m#  See also GH#25959 regarding EA support\u001b[39;00m\n\u001b[0;32m   1514\u001b[0m     \u001b[38;5;28;01mreturn\u001b[39;00m obj\u001b[38;5;241m.\u001b[39m_constructor_expanddim(\u001b[38;5;28mlist\u001b[39m(mapped), index\u001b[38;5;241m=\u001b[39mobj\u001b[38;5;241m.\u001b[39mindex)\n",
      "File \u001b[1;32m~\\AppData\\Roaming\\Python\\Python312\\site-packages\\pandas\\core\\base.py:921\u001b[0m, in \u001b[0;36mIndexOpsMixin._map_values\u001b[1;34m(self, mapper, na_action, convert)\u001b[0m\n\u001b[0;32m    918\u001b[0m \u001b[38;5;28;01mif\u001b[39;00m \u001b[38;5;28misinstance\u001b[39m(arr, ExtensionArray):\n\u001b[0;32m    919\u001b[0m     \u001b[38;5;28;01mreturn\u001b[39;00m arr\u001b[38;5;241m.\u001b[39mmap(mapper, na_action\u001b[38;5;241m=\u001b[39mna_action)\n\u001b[1;32m--> 921\u001b[0m \u001b[38;5;28;01mreturn\u001b[39;00m \u001b[43malgorithms\u001b[49m\u001b[38;5;241;43m.\u001b[39;49m\u001b[43mmap_array\u001b[49m\u001b[43m(\u001b[49m\u001b[43marr\u001b[49m\u001b[43m,\u001b[49m\u001b[43m \u001b[49m\u001b[43mmapper\u001b[49m\u001b[43m,\u001b[49m\u001b[43m \u001b[49m\u001b[43mna_action\u001b[49m\u001b[38;5;241;43m=\u001b[39;49m\u001b[43mna_action\u001b[49m\u001b[43m,\u001b[49m\u001b[43m \u001b[49m\u001b[43mconvert\u001b[49m\u001b[38;5;241;43m=\u001b[39;49m\u001b[43mconvert\u001b[49m\u001b[43m)\u001b[49m\n",
      "File \u001b[1;32m~\\AppData\\Roaming\\Python\\Python312\\site-packages\\pandas\\core\\algorithms.py:1743\u001b[0m, in \u001b[0;36mmap_array\u001b[1;34m(arr, mapper, na_action, convert)\u001b[0m\n\u001b[0;32m   1741\u001b[0m values \u001b[38;5;241m=\u001b[39m arr\u001b[38;5;241m.\u001b[39mastype(\u001b[38;5;28mobject\u001b[39m, copy\u001b[38;5;241m=\u001b[39m\u001b[38;5;28;01mFalse\u001b[39;00m)\n\u001b[0;32m   1742\u001b[0m \u001b[38;5;28;01mif\u001b[39;00m na_action \u001b[38;5;129;01mis\u001b[39;00m \u001b[38;5;28;01mNone\u001b[39;00m:\n\u001b[1;32m-> 1743\u001b[0m     \u001b[38;5;28;01mreturn\u001b[39;00m \u001b[43mlib\u001b[49m\u001b[38;5;241;43m.\u001b[39;49m\u001b[43mmap_infer\u001b[49m\u001b[43m(\u001b[49m\u001b[43mvalues\u001b[49m\u001b[43m,\u001b[49m\u001b[43m \u001b[49m\u001b[43mmapper\u001b[49m\u001b[43m,\u001b[49m\u001b[43m \u001b[49m\u001b[43mconvert\u001b[49m\u001b[38;5;241;43m=\u001b[39;49m\u001b[43mconvert\u001b[49m\u001b[43m)\u001b[49m\n\u001b[0;32m   1744\u001b[0m \u001b[38;5;28;01melse\u001b[39;00m:\n\u001b[0;32m   1745\u001b[0m     \u001b[38;5;28;01mreturn\u001b[39;00m lib\u001b[38;5;241m.\u001b[39mmap_infer_mask(\n\u001b[0;32m   1746\u001b[0m         values, mapper, mask\u001b[38;5;241m=\u001b[39misna(values)\u001b[38;5;241m.\u001b[39mview(np\u001b[38;5;241m.\u001b[39muint8), convert\u001b[38;5;241m=\u001b[39mconvert\n\u001b[0;32m   1747\u001b[0m     )\n",
      "File \u001b[1;32mlib.pyx:2972\u001b[0m, in \u001b[0;36mpandas._libs.lib.map_infer\u001b[1;34m()\u001b[0m\n",
      "Cell \u001b[1;32mIn[118], line 28\u001b[0m, in \u001b[0;36mget_clean_locality_type\u001b[1;34m(name)\u001b[0m\n\u001b[0;32m     25\u001b[0m     \u001b[38;5;28;01mreturn\u001b[39;00m \u001b[38;5;124m'\u001b[39m\u001b[38;5;124mбез типа\u001b[39m\u001b[38;5;124m'\u001b[39m\n\u001b[0;32m     27\u001b[0m \u001b[38;5;66;03m# Определение типа насленного пункта\u001b[39;00m\n\u001b[1;32m---> 28\u001b[0m locality_type \u001b[38;5;241m=\u001b[39m \u001b[43mm\u001b[49m\u001b[38;5;241;43m.\u001b[39;49m\u001b[43mlemmatize\u001b[49m\u001b[43m(\u001b[49m\u001b[38;5;124;43m'\u001b[39;49m\u001b[38;5;124;43m \u001b[39;49m\u001b[38;5;124;43m'\u001b[39;49m\u001b[38;5;241;43m.\u001b[39;49m\u001b[43mjoin\u001b[49m\u001b[43m(\u001b[49m\u001b[43mlocality_type\u001b[49m\u001b[43m)\u001b[49m\u001b[43m)\u001b[49m\n\u001b[0;32m     30\u001b[0m \u001b[38;5;28;01mif\u001b[39;00m \u001b[38;5;124m'\u001b[39m\u001b[38;5;124mпоселок\u001b[39m\u001b[38;5;124m'\u001b[39m \u001b[38;5;129;01min\u001b[39;00m locality_type:\n\u001b[0;32m     31\u001b[0m     \u001b[38;5;28;01mif\u001b[39;00m \u001b[38;5;124m'\u001b[39m\u001b[38;5;124mгородской\u001b[39m\u001b[38;5;124m'\u001b[39m \u001b[38;5;129;01min\u001b[39;00m locality_type:\n",
      "File \u001b[1;32m~\\AppData\\Roaming\\Python\\Python312\\site-packages\\pymystem3\\mystem.py:265\u001b[0m, in \u001b[0;36mMystem.lemmatize\u001b[1;34m(self, text)\u001b[0m\n\u001b[0;32m    254\u001b[0m \u001b[38;5;250m\u001b[39m\u001b[38;5;124;03m\"\"\"\u001b[39;00m\n\u001b[0;32m    255\u001b[0m \u001b[38;5;124;03mMake morphology analysis for a text and return list of lemmas.\u001b[39;00m\n\u001b[0;32m    256\u001b[0m \n\u001b[1;32m   (...)\u001b[0m\n\u001b[0;32m    260\u001b[0m \u001b[38;5;124;03m:rtype:         list\u001b[39;00m\n\u001b[0;32m    261\u001b[0m \u001b[38;5;124;03m\"\"\"\u001b[39;00m\n\u001b[0;32m    263\u001b[0m need_encode \u001b[38;5;241m=\u001b[39m (sys\u001b[38;5;241m.\u001b[39mversion_info[\u001b[38;5;241m0\u001b[39m] \u001b[38;5;241m<\u001b[39m \u001b[38;5;241m3\u001b[39m \u001b[38;5;129;01mand\u001b[39;00m \u001b[38;5;28misinstance\u001b[39m(text, \u001b[38;5;28mstr\u001b[39m))\n\u001b[1;32m--> 265\u001b[0m infos \u001b[38;5;241m=\u001b[39m \u001b[38;5;28;43mself\u001b[39;49m\u001b[38;5;241;43m.\u001b[39;49m\u001b[43manalyze\u001b[49m\u001b[43m(\u001b[49m\u001b[43mtext\u001b[49m\u001b[43m)\u001b[49m\n\u001b[0;32m    266\u001b[0m lemmas \u001b[38;5;241m=\u001b[39m \u001b[38;5;28mlist\u001b[39m(\u001b[38;5;28mfilter\u001b[39m(\u001b[38;5;28;01mNone\u001b[39;00m, \u001b[38;5;28mmap\u001b[39m(\u001b[38;5;28mself\u001b[39m\u001b[38;5;241m.\u001b[39m_get_lemma, infos)))\n\u001b[0;32m    268\u001b[0m \u001b[38;5;28;01mif\u001b[39;00m need_encode \u001b[38;5;129;01mis\u001b[39;00m \u001b[38;5;28;01mTrue\u001b[39;00m:\n",
      "File \u001b[1;32m~\\AppData\\Roaming\\Python\\Python312\\site-packages\\pymystem3\\mystem.py:250\u001b[0m, in \u001b[0;36mMystem.analyze\u001b[1;34m(self, text)\u001b[0m\n\u001b[0;32m    248\u001b[0m result \u001b[38;5;241m=\u001b[39m []\n\u001b[0;32m    249\u001b[0m \u001b[38;5;28;01mfor\u001b[39;00m line \u001b[38;5;129;01min\u001b[39;00m text\u001b[38;5;241m.\u001b[39msplitlines():\n\u001b[1;32m--> 250\u001b[0m     result\u001b[38;5;241m.\u001b[39mextend(\u001b[38;5;28;43mself\u001b[39;49m\u001b[38;5;241;43m.\u001b[39;49m\u001b[43m_analyze_impl\u001b[49m\u001b[43m(\u001b[49m\u001b[43mline\u001b[49m\u001b[43m)\u001b[49m)\n\u001b[0;32m    251\u001b[0m \u001b[38;5;28;01mreturn\u001b[39;00m result\n",
      "File \u001b[1;32m~\\AppData\\Roaming\\Python\\Python312\\site-packages\\pymystem3\\mystem.py:310\u001b[0m, in \u001b[0;36mMystem._analyze_impl\u001b[1;34m(self, text)\u001b[0m\n\u001b[0;32m    307\u001b[0m \u001b[38;5;28;01mif\u001b[39;00m \u001b[38;5;28mself\u001b[39m\u001b[38;5;241m.\u001b[39m_proc \u001b[38;5;129;01mis\u001b[39;00m \u001b[38;5;28;01mNone\u001b[39;00m:\n\u001b[0;32m    308\u001b[0m     \u001b[38;5;28mself\u001b[39m\u001b[38;5;241m.\u001b[39m_start_mystem()\n\u001b[1;32m--> 310\u001b[0m \u001b[38;5;28;43mself\u001b[39;49m\u001b[38;5;241;43m.\u001b[39;49m\u001b[43m_procin\u001b[49m\u001b[38;5;241;43m.\u001b[39;49m\u001b[43mwrite\u001b[49m\u001b[43m(\u001b[49m\u001b[43mtext\u001b[49m\u001b[43m)\u001b[49m\n\u001b[0;32m    311\u001b[0m \u001b[38;5;28mself\u001b[39m\u001b[38;5;241m.\u001b[39m_procin\u001b[38;5;241m.\u001b[39mwrite(_NL)\n\u001b[0;32m    313\u001b[0m out, _ \u001b[38;5;241m=\u001b[39m \u001b[38;5;28mself\u001b[39m\u001b[38;5;241m.\u001b[39m_proc\u001b[38;5;241m.\u001b[39mcommunicate()\n",
      "\u001b[1;31mValueError\u001b[0m: I/O operation on closed file"
     ]
    }
   ],
   "source": [
    "# Категоризация данных по типу населенного пункта\n",
    "data['clean_locality_type'] = data['clean_locality_name'].apply(get_clean_locality_type)"
   ]
  },
  {
   "cell_type": "code",
   "execution_count": null,
   "metadata": {
    "colab": {
     "base_uri": "https://localhost:8080/"
    },
    "id": "VqfS1bHDspMH",
    "outputId": "7693898a-412d-43c3-892e-86f27b896560"
   },
   "outputs": [],
   "source": [
    "# Проверка результатов категоризации\n",
    "data['clean_locality_type'].value_counts()"
   ]
  },
  {
   "cell_type": "code",
   "execution_count": null,
   "metadata": {
    "id": "COzi0N6uspMH"
   },
   "outputs": [],
   "source": [
    "# Определение уникальных типов населенных пунктов\n",
    "unique_types = list(data['clean_locality_type'].unique())\n",
    "\n",
    "# Функция для получения цифрового представления типа населенного пункта\n",
    "# type - (string) Тип населенного пункта\n",
    "# возвращает - (string) Цифровое представления типа населенного пункта\n",
    "def get_clean_locality_type_number(type):\n",
    "    return unique_types.index(type)"
   ]
  },
  {
   "cell_type": "code",
   "execution_count": null,
   "metadata": {
    "colab": {
     "base_uri": "https://localhost:8080/"
    },
    "id": "bcwRPcZcspMI",
    "outputId": "3bf2a961-c727-406b-e94b-968e24f10b95"
   },
   "outputs": [],
   "source": [
    "# Создание столбца с цифровым представлением типа населенного пункта\n",
    "data['clean_locality_type_number'] = data['clean_locality_type'].apply(get_clean_locality_type_number)\n",
    "\n",
    "# Проверка результатов создания\n",
    "data.groupby('clean_locality_type')['clean_locality_type_number'].value_counts()"
   ]
  },
  {
   "cell_type": "code",
   "execution_count": null,
   "metadata": {
    "id": "qQjKOHKnspMI"
   },
   "outputs": [],
   "source": [
    "# Определение уникальных названий населенных пунктов\n",
    "unique_names = list(data['clean_locality_name'].unique())\n",
    "\n",
    "# Функция для получения цифрового представления названия населенного пункта\n",
    "# name - (string) Название населенного пункта\n",
    "# возвращает - (string) Цифровое представления названия населенного пункта\n",
    "def get_clean_locality_name_number(name):\n",
    "    return unique_names.index(name)"
   ]
  },
  {
   "cell_type": "code",
   "execution_count": null,
   "metadata": {
    "colab": {
     "base_uri": "https://localhost:8080/"
    },
    "id": "YrTnfiBrspMK",
    "outputId": "805ff593-e22b-416e-c3a6-70454fbebfaa"
   },
   "outputs": [],
   "source": [
    "# Создание столбца с цифровым представлением названия населенного пункта\n",
    "data['clean_locality_name_number'] = data['clean_locality_name'].apply(get_clean_locality_name_number)\n",
    "\n",
    "# Проверка результатов создания\n",
    "data.groupby('clean_locality_name')['clean_locality_name_number'].value_counts()"
   ]
  },
  {
   "cell_type": "markdown",
   "metadata": {
    "id": "5HfeKqPdspML"
   },
   "source": [
    "#### Удаление аномальных значений в столбце living_area"
   ]
  },
  {
   "cell_type": "code",
   "execution_count": null,
   "metadata": {
    "colab": {
     "base_uri": "https://localhost:8080/"
    },
    "id": "C_tV-h3nspMN",
    "outputId": "de093fb3-e3df-471c-e6ba-e28d29aa51bc"
   },
   "outputs": [],
   "source": [
    "# Вывод основных статистических параметров столбца\n",
    "data['living_area'].describe()"
   ]
  },
  {
   "cell_type": "code",
   "execution_count": null,
   "metadata": {
    "colab": {
     "base_uri": "https://localhost:8080/",
     "height": 661
    },
    "id": "bYH8-5utspMO",
    "outputId": "437355cb-e523-4ca7-d2da-706123300ea3"
   },
   "outputs": [],
   "source": [
    "# Визуальная оценка расперделения значений\n",
    "data['living_area'].hist(bins=409, figsize=(15, 10))"
   ]
  },
  {
   "cell_type": "code",
   "execution_count": null,
   "metadata": {
    "colab": {
     "base_uri": "https://localhost:8080/",
     "height": 447
    },
    "id": "GOiOAi7fspMP",
    "outputId": "0926f660-6af7-493b-a8fc-87d71c1886b1"
   },
   "outputs": [],
   "source": [
    "# Визуальная оценка распределения значений, меньших 14 м\n",
    "data.query('living_area < 14')['living_area'].hist(bins=14)"
   ]
  },
  {
   "cell_type": "code",
   "execution_count": null,
   "metadata": {
    "colab": {
     "base_uri": "https://localhost:8080/"
    },
    "id": "AbUuu4aospMR",
    "outputId": "3e6998c0-51ee-400e-d234-a2ff552fa275"
   },
   "outputs": [],
   "source": [
    "# Подсчет количества квартир с жилой площадью менее 14 м\n",
    "len(data.query('living_area < 14'))"
   ]
  },
  {
   "cell_type": "code",
   "execution_count": null,
   "metadata": {
    "colab": {
     "base_uri": "https://localhost:8080/"
    },
    "id": "13zibm29spMU",
    "outputId": "bb13c99c-75d7-4923-8cf4-f9976ff5a681"
   },
   "outputs": [],
   "source": [
    "# Удаление записей с жилой площадью менее 14 м\n",
    "data = data.query('living_area >= 14 or living_area.isnull()').reset_index(drop=True)\n",
    "\n",
    "# Проверка результатов удаления\n",
    "len(data.query('living_area < 14'))"
   ]
  },
  {
   "cell_type": "code",
   "execution_count": null,
   "metadata": {
    "colab": {
     "base_uri": "https://localhost:8080/"
    },
    "id": "DVgGMueGspMW",
    "outputId": "10566efd-8ed7-4fa7-ecc5-760c9e232aa9"
   },
   "outputs": [],
   "source": [
    "# Подсчет колисества пропущенных значений\n",
    "get_missing_values_proportion('living_area')"
   ]
  },
  {
   "cell_type": "code",
   "execution_count": null,
   "metadata": {
    "colab": {
     "base_uri": "https://localhost:8080/"
    },
    "id": "Pq0rENWOspMc",
    "outputId": "ac36d9c5-fd58-40c0-c6f6-f4dc78c1d0ee"
   },
   "outputs": [],
   "source": [
    "# Проверка наличия квартир со значением жилой площади, большим, чем значение общей площади\n",
    "len(data.query('living_area >= total_area'))"
   ]
  },
  {
   "cell_type": "markdown",
   "metadata": {
    "id": "tjjf4MRvspMd"
   },
   "source": [
    "#### Проверка столбца floor"
   ]
  },
  {
   "cell_type": "code",
   "execution_count": null,
   "metadata": {
    "colab": {
     "base_uri": "https://localhost:8080/"
    },
    "id": "4wZ67x4jspMe",
    "outputId": "bc891106-e79d-4e11-e06b-f56e0aa76aee"
   },
   "outputs": [],
   "source": [
    "# Вывод основных статистических параметров столбца\n",
    "data['floor_'].describe()"
   ]
  },
  {
   "cell_type": "code",
   "execution_count": null,
   "metadata": {
    "colab": {
     "base_uri": "https://localhost:8080/"
    },
    "id": "qBEG8frespMf",
    "outputId": "2b52d301-40a7-4809-f03b-690b557f132b"
   },
   "outputs": [],
   "source": [
    "# Проверка наличия квартир со этажом, большим, чем общее количество этажей в здании\n",
    "len(data.query('floor_ > floors_total'))"
   ]
  },
  {
   "cell_type": "markdown",
   "metadata": {
    "id": "kTtH21r6spMh"
   },
   "source": [
    "#### Проверка столбца kitchen_area"
   ]
  },
  {
   "cell_type": "code",
   "execution_count": null,
   "metadata": {
    "colab": {
     "base_uri": "https://localhost:8080/"
    },
    "id": "hZwyT9iJspMh",
    "outputId": "e8422b16-b979-4b28-939f-797d0e6a7272"
   },
   "outputs": [],
   "source": [
    "# Вывод основных статистических параметров столбца\n",
    "data['kitchen_area'].describe()"
   ]
  },
  {
   "cell_type": "code",
   "execution_count": null,
   "metadata": {
    "colab": {
     "base_uri": "https://localhost:8080/",
     "height": 659
    },
    "id": "DX4gLvrLspMh",
    "outputId": "041f14ef-bf23-41d3-ec42-a54cec1a1c3f"
   },
   "outputs": [],
   "source": [
    "# Визуальная оценка расперделения значений\n",
    "data['kitchen_area'].hist(bins=112, figsize=(15, 10))"
   ]
  },
  {
   "cell_type": "code",
   "execution_count": null,
   "metadata": {
    "colab": {
     "base_uri": "https://localhost:8080/"
    },
    "id": "X74J114UspMj",
    "outputId": "0b61fa6b-b7f8-4f9b-f7ff-757d163d2700"
   },
   "outputs": [],
   "source": [
    "# Проверка наличия квартир со значением площади кухни, большим, чем значение общей площади\n",
    "len(data.query('kitchen_area >= total_area'))"
   ]
  },
  {
   "cell_type": "code",
   "execution_count": null,
   "metadata": {
    "colab": {
     "base_uri": "https://localhost:8080/"
    },
    "id": "VkWCkMeaspMk",
    "outputId": "c771f904-172b-4708-a838-1a218aeeaec4"
   },
   "outputs": [],
   "source": [
    "# Подсчет количества пропущенных значений\n",
    "get_missing_values_proportion('kitchen_area')"
   ]
  },
  {
   "cell_type": "markdown",
   "metadata": {
    "id": "9HiwNkYRspMl"
   },
   "source": [
    "#### Заполнение пропусков и приведение к целочисленному типу столбца balcony"
   ]
  },
  {
   "cell_type": "code",
   "execution_count": null,
   "metadata": {
    "colab": {
     "base_uri": "https://localhost:8080/"
    },
    "id": "9hUFFJW8spMl",
    "outputId": "4075b042-56ff-4554-bd74-24b9813fe89c"
   },
   "outputs": [],
   "source": [
    "# Вывод основных статистических параметров столбца\n",
    "data['balcony'].describe()"
   ]
  },
  {
   "cell_type": "code",
   "execution_count": null,
   "metadata": {
    "colab": {
     "base_uri": "https://localhost:8080/"
    },
    "id": "WrDIOFbsspMm",
    "outputId": "f59514e2-9f4a-4311-9517-eb6747aee68d"
   },
   "outputs": [],
   "source": [
    "# Оценка значений столбца\n",
    "data['balcony'].value_counts()"
   ]
  },
  {
   "cell_type": "code",
   "execution_count": null,
   "metadata": {
    "colab": {
     "base_uri": "https://localhost:8080/"
    },
    "id": "XR-KmxiPspMn",
    "outputId": "1e706ba9-a73f-4540-9453-c477395f7b4e"
   },
   "outputs": [],
   "source": [
    "# Подсчет количества пропущенных значений\n",
    "get_missing_values_proportion('balcony')"
   ]
  },
  {
   "cell_type": "code",
   "execution_count": null,
   "metadata": {
    "colab": {
     "base_uri": "https://localhost:8080/"
    },
    "id": "LrMVlzEyspMo",
    "outputId": "b9c74eec-24eb-4048-837e-96c0f2326620"
   },
   "outputs": [],
   "source": [
    "# Замена пропущенных значений на 0\n",
    "data['balcony'] = data['balcony'].fillna(0)\n",
    "\n",
    "# Проверка результатов замены\n",
    "get_missing_values_proportion('balcony')"
   ]
  },
  {
   "cell_type": "code",
   "execution_count": null,
   "metadata": {
    "colab": {
     "base_uri": "https://localhost:8080/"
    },
    "id": "fwM-9qO0spMp",
    "outputId": "8ddb97b0-965f-4402-86bc-6ddcd14b0786"
   },
   "outputs": [],
   "source": [
    "# Приведение столбца к целочисленному типу\n",
    "data['balcony'] = data['balcony'].astype('int')\n",
    "\n",
    "# Проверка результатов приведения\n",
    "data['balcony']"
   ]
  },
  {
   "cell_type": "markdown",
   "metadata": {
    "id": "DVXs6gXRspMq"
   },
   "source": [
    "#### Заполнение пропусков в столбце airports_nearest"
   ]
  },
  {
   "cell_type": "code",
   "execution_count": null,
   "metadata": {
    "colab": {
     "base_uri": "https://localhost:8080/"
    },
    "id": "px50ZOKIspMr",
    "outputId": "ce15df0e-f29b-4e9a-92fd-85ca712e8ff8"
   },
   "outputs": [],
   "source": [
    "# Вывод основных статистических параметров столбца\n",
    "data['airports_nearest'].describe()"
   ]
  },
  {
   "cell_type": "code",
   "execution_count": null,
   "metadata": {
    "colab": {
     "base_uri": "https://localhost:8080/",
     "height": 0
    },
    "id": "FNEVFrIuspMs",
    "outputId": "6b0041c6-a1f7-4ab4-9474-1949f642fa90"
   },
   "outputs": [],
   "source": [
    "# Визуальная оценка распределения данных\n",
    "data['airports_nearest'].hist(bins=100, figsize=(15, 10))"
   ]
  },
  {
   "cell_type": "code",
   "execution_count": null,
   "metadata": {
    "colab": {
     "base_uri": "https://localhost:8080/",
     "height": 0
    },
    "id": "dn8taFPkspMt",
    "outputId": "15fe80bc-ac1f-4b37-875a-ad48f295dc5d"
   },
   "outputs": [],
   "source": [
    "# Оценка квартир с аномальным значением расстояния до аэропорта (0) и их количества\n",
    "data.query('airports_nearest < 4000')"
   ]
  },
  {
   "cell_type": "code",
   "execution_count": null,
   "metadata": {
    "colab": {
     "base_uri": "https://localhost:8080/"
    },
    "id": "Y3AIQosFspMu",
    "outputId": "77734bdb-c496-4c6e-e34f-2505840062ba"
   },
   "outputs": [],
   "source": [
    "# Подсчет количества квартир с указанной информацией о расстоянии до ближайшего аэропорта для каждого населенного пункта\n",
    "airports_nearest_stat = data.pivot_table(index='clean_locality_name', values='airports_nearest', aggfunc='count')\n",
    "\n",
    "# Подсчет и анализ населенных пунктов, где нет квартир с указанным до аэропорта расстоянием\n",
    "len(airports_nearest_stat.query('airports_nearest == 0'))"
   ]
  },
  {
   "cell_type": "code",
   "execution_count": null,
   "metadata": {
    "colab": {
     "base_uri": "https://localhost:8080/"
    },
    "id": "F5FMAXS0spMu",
    "outputId": "b7b54bb4-34ae-4671-8377-85546990f293"
   },
   "outputs": [],
   "source": [
    "# Подсчет количества пропущенных значений\n",
    "get_missing_values_proportion('airports_nearest')"
   ]
  },
  {
   "cell_type": "code",
   "execution_count": null,
   "metadata": {
    "colab": {
     "base_uri": "https://localhost:8080/",
     "height": 0
    },
    "id": "ZuEORxE_spMw",
    "outputId": "681efac4-783c-4464-886d-e327d55d239b"
   },
   "outputs": [],
   "source": [
    "# Проверка гипотезы, что расстояние до аэропорта в одном населенном пункте будет схожим\n",
    "(\n",
    "    data\n",
    "    .query('clean_locality_name != \"Санкт-Петербург\"')\n",
    "    .plot(x='airports_nearest', y='clean_locality_name_number', kind='scatter', figsize=(15, 10))\n",
    ")"
   ]
  },
  {
   "cell_type": "code",
   "execution_count": null,
   "metadata": {
    "colab": {
     "base_uri": "https://localhost:8080/",
     "height": 0
    },
    "id": "n-SeA93IspMw",
    "outputId": "4afd72e0-4744-490e-d631-cecec179f26c"
   },
   "outputs": [],
   "source": [
    "# Проверка гипотезы, что расстояние до аэропорта внутри Санкт-Петербурга будет иметь значительный размах\n",
    "(\n",
    "    data\n",
    "    .query('clean_locality_name == \"Санкт-Петербург\"')\n",
    "    .boxplot(column='airports_nearest')\n",
    ")"
   ]
  },
  {
   "cell_type": "code",
   "execution_count": null,
   "metadata": {
    "colab": {
     "base_uri": "https://localhost:8080/"
    },
    "id": "qF_dr7MAspMy",
    "outputId": "57617ac1-2768-4e91-f638-8cc7d35dd682"
   },
   "outputs": [],
   "source": [
    "# Подсчет пропусков в Санкт-Петербурге\n",
    "len(data.query('clean_locality_name == \"Санкт-Петербург\" and airports_nearest.isnull()'))"
   ]
  },
  {
   "cell_type": "code",
   "execution_count": null,
   "metadata": {
    "id": "t68WhPYBspMz"
   },
   "outputs": [],
   "source": [
    "# Функция для расчета медианного значения расстояния до ближайшего аэропорта для квартир из одного населенного пунтка\n",
    "# row - (Series) Строка из набора данных\n",
    "# возвращает - (float) Медиана расстояния до ближайшего аэропорта\n",
    "def get_airports_nearest_median(row):\n",
    "    return data[\n",
    "        (data['clean_locality_name'] == row['clean_locality_name']) &\n",
    "        (data['airports_nearest'].isnull() == False)\n",
    "    ]['airports_nearest'].median()"
   ]
  },
  {
   "cell_type": "code",
   "execution_count": null,
   "metadata": {
    "colab": {
     "base_uri": "https://localhost:8080/"
    },
    "id": "PlnY_U5VspM0",
    "outputId": "54a02882-bf8f-42df-c692-2c5150579430"
   },
   "outputs": [],
   "source": [
    "# Заполнение пропусков и аномалий медианными значениями\n",
    "data.loc[((data['airports_nearest'].isnull()) | (data['airports_nearest'] == 0)) & (data['clean_locality_name'] != 'Санкт-Петербург'), 'airports_nearest'] = data[((data['airports_nearest'].isnull()) | (data['airports_nearest'] == 0)) & (data['clean_locality_name'] != 'Санкт-Петербург')].apply(get_airports_nearest_median, axis=1)\n",
    "\n",
    "# Оценка резульатов заполнения\n",
    "get_missing_values_proportion('airports_nearest')"
   ]
  },
  {
   "cell_type": "markdown",
   "metadata": {
    "id": "Kbzn-6CSspM0"
   },
   "source": [
    "#### Заполнение пропусков в столбце city_сenters_nearest"
   ]
  },
  {
   "cell_type": "code",
   "execution_count": null,
   "metadata": {
    "colab": {
     "base_uri": "https://localhost:8080/"
    },
    "id": "RL1rSK9ospM1",
    "outputId": "654dbbca-55ea-4ded-adbf-9a651ca0b715"
   },
   "outputs": [],
   "source": [
    "# Вывод основных статистических параметров столбца\n",
    "data['city_сenters_nearest'].describe()"
   ]
  },
  {
   "cell_type": "code",
   "execution_count": null,
   "metadata": {
    "colab": {
     "base_uri": "https://localhost:8080/",
     "height": 664
    },
    "id": "5KIhhw8fspM2",
    "outputId": "ac70ea08-2453-4a47-a528-9570fbd3380f"
   },
   "outputs": [],
   "source": [
    "# Визуальная оценка распределения данных\n",
    "data['city_сenters_nearest'].hist(bins=600, figsize=(15,10))"
   ]
  },
  {
   "cell_type": "code",
   "execution_count": null,
   "metadata": {
    "colab": {
     "base_uri": "https://localhost:8080/"
    },
    "id": "752P_2e9spM2",
    "outputId": "5e4a97b3-49bc-490a-ba6c-304b489bb920"
   },
   "outputs": [],
   "source": [
    "# Определение населенных пунктов с возможно, аномально большими значениями расстояния до центра населенного пункта\n",
    "data.query('city_сenters_nearest > 38000')['locality_name'].unique()"
   ]
  },
  {
   "cell_type": "code",
   "execution_count": null,
   "metadata": {
    "colab": {
     "base_uri": "https://localhost:8080/"
    },
    "id": "oRkV0bjMspM2",
    "outputId": "a29eae89-d7d1-4812-f0dd-cd8f769256d6"
   },
   "outputs": [],
   "source": [
    "# Определение населенных пунктов с предположительно нормальными значениями расстояния до центра населенного пункта\n",
    "data.query('city_сenters_nearest < 20000')['locality_name'].unique()"
   ]
  },
  {
   "cell_type": "code",
   "execution_count": null,
   "metadata": {
    "colab": {
     "base_uri": "https://localhost:8080/"
    },
    "id": "7P_muPsispM3",
    "outputId": "9433b6c1-17a4-44c2-eb98-bbf43c4ffa67"
   },
   "outputs": [],
   "source": [
    "# Подсчет количества пропущенных значений\n",
    "get_missing_values_proportion('city_сenters_nearest')"
   ]
  },
  {
   "cell_type": "code",
   "execution_count": null,
   "metadata": {
    "colab": {
     "base_uri": "https://localhost:8080/"
    },
    "id": "V_cKa9Q5spM4",
    "outputId": "3df91946-087b-4320-9eb1-fdd79522d29a"
   },
   "outputs": [],
   "source": [
    "# Проверка степени корреляции значений столбца со значениями других столбцов\n",
    "data.corr()['city_сenters_nearest'].sort_values()"
   ]
  },
  {
   "cell_type": "code",
   "execution_count": null,
   "metadata": {
    "colab": {
     "base_uri": "https://localhost:8080/",
     "height": 669
    },
    "id": "q-H0BvnyspM5",
    "outputId": "dbf69f3c-4adf-4b69-df46-b5041a5feaee"
   },
   "outputs": [],
   "source": [
    "# Проверка гипотезы, что расстояние до центра Санкт-Петербурга в одном населенном пункте будет схожим\n",
    "(\n",
    "    data\n",
    "    .query('clean_locality_name != \"Санкт-Петербург\"')\n",
    "    .plot(x='city_сenters_nearest', y='clean_locality_name_number', kind='scatter', figsize=(15, 10))\n",
    ")"
   ]
  },
  {
   "cell_type": "code",
   "execution_count": null,
   "metadata": {
    "colab": {
     "base_uri": "https://localhost:8080/",
     "height": 447
    },
    "id": "E4XezTjjspM6",
    "outputId": "ca896aa3-4338-47fc-b798-211074d29f28"
   },
   "outputs": [],
   "source": [
    "# Проверка гипотезы, что расстояние центра Санкт-Петербурга внутри Санкт-Петербурга будет иметь значительный размах\n",
    "(\n",
    "    data\n",
    "    .query('clean_locality_name == \"Санкт-Петербург\"')\n",
    "    .boxplot(column='city_сenters_nearest')\n",
    ")"
   ]
  },
  {
   "cell_type": "code",
   "execution_count": null,
   "metadata": {
    "colab": {
     "base_uri": "https://localhost:8080/"
    },
    "id": "e7wEPG5MspM8",
    "outputId": "0d717a99-5eb5-45f6-f249-99c22368c5c7"
   },
   "outputs": [],
   "source": [
    "# Подсчет пропусков в Санкт-Петербурге\n",
    "len(data.query('clean_locality_name == \"Санкт-Петербург\" and city_сenters_nearest.isnull()'))"
   ]
  },
  {
   "cell_type": "code",
   "execution_count": null,
   "metadata": {
    "id": "F9Waeb6rspM8"
   },
   "outputs": [],
   "source": [
    "# Функция для расчета медианного значения расстояния до центра Санкт-Петербурга для квартир из одного населенного пунтка\n",
    "# row - (Series) Строка из набора данных\n",
    "# возвращает - (float) Медиана расстояния до центра Санкт-Петербурга\n",
    "def get_city_centers_nearest_median(row):\n",
    "    return data[\n",
    "        (data['clean_locality_name'] == row['clean_locality_name']) &\n",
    "        (data['city_сenters_nearest'].isnull() == False)\n",
    "    ]['city_сenters_nearest'].median()"
   ]
  },
  {
   "cell_type": "markdown",
   "metadata": {
    "id": "NgR_lIFtspNA"
   },
   "source": [
    "#### Заполнение пропусков и приведение к целочисленному типу столбца parks_around_3000"
   ]
  },
  {
   "cell_type": "code",
   "execution_count": null,
   "metadata": {
    "colab": {
     "base_uri": "https://localhost:8080/"
    },
    "id": "n9ZpAhOcspNA",
    "outputId": "d055e791-e547-4e59-b9b7-85cbb66564f6"
   },
   "outputs": [],
   "source": [
    "# Вывод основных статистических параметров столбца\n",
    "data['parks_around_3000'].describe()"
   ]
  },
  {
   "cell_type": "code",
   "execution_count": null,
   "metadata": {
    "colab": {
     "base_uri": "https://localhost:8080/"
    },
    "id": "hrNS9vMEspNY",
    "outputId": "bafcd3b4-a9ee-4f94-af53-93eb798130a3"
   },
   "outputs": [],
   "source": [
    "# Оценка значений столбца\n",
    "data['parks_around_3000'].value_counts()"
   ]
  },
  {
   "cell_type": "code",
   "execution_count": null,
   "metadata": {
    "colab": {
     "base_uri": "https://localhost:8080/"
    },
    "id": "lReS-QbLspNZ",
    "outputId": "3c1cd284-095d-4e83-8595-2192317ead21"
   },
   "outputs": [],
   "source": [
    "# Подсчет количества пропущенных значений\n",
    "get_missing_values_proportion('parks_around_3000')"
   ]
  },
  {
   "cell_type": "code",
   "execution_count": null,
   "metadata": {
    "colab": {
     "base_uri": "https://localhost:8080/"
    },
    "id": "T7AEwquzspNa",
    "outputId": "aba14e55-a309-4e43-aa86-f1833dec5cbe"
   },
   "outputs": [],
   "source": [
    "# Проверка наличия информации о расстоянии до ближайшего парка для пропущенных значений\n",
    "len(data.query('parks_around_3000.isnull() and ~parks_nearest.isnull()'))"
   ]
  },
  {
   "cell_type": "code",
   "execution_count": null,
   "metadata": {
    "colab": {
     "base_uri": "https://localhost:8080/"
    },
    "id": "HCjknpNvspNb",
    "outputId": "bb78f08e-8a71-4232-c5d9-87fafc34bfc3"
   },
   "outputs": [],
   "source": [
    "# Заполнение оставшихся пропусков 0\n",
    "data['parks_around_3000'] = data['parks_around_3000'].fillna(0)\n",
    "\n",
    "# Проверка результатов заполнения\n",
    "get_missing_values_proportion('parks_around_3000')"
   ]
  },
  {
   "cell_type": "code",
   "execution_count": null,
   "metadata": {
    "colab": {
     "base_uri": "https://localhost:8080/"
    },
    "id": "7HoJ-cwfspNb",
    "outputId": "0f993133-a419-4a17-94e4-2fde112fb1da"
   },
   "outputs": [],
   "source": [
    "# Приведение столбца к целочисленному типу\n",
    "data['parks_around_3000'] = data['parks_around_3000'].astype('int')\n",
    "\n",
    "# Проверка результатов приведения\n",
    "data['parks_around_3000']"
   ]
  },
  {
   "cell_type": "markdown",
   "metadata": {
    "id": "FM1LALesspNc"
   },
   "source": [
    "#### Заполнение пропусков в столбце parks_nearest"
   ]
  },
  {
   "cell_type": "code",
   "execution_count": null,
   "metadata": {
    "colab": {
     "base_uri": "https://localhost:8080/"
    },
    "id": "7j0zNr2YspNd",
    "outputId": "d285eb4e-2ba5-4801-f603-7824af89a63c"
   },
   "outputs": [],
   "source": [
    "# Вывод основных статистических параметров столбца\n",
    "data['parks_nearest'].describe()"
   ]
  },
  {
   "cell_type": "code",
   "execution_count": null,
   "metadata": {
    "colab": {
     "base_uri": "https://localhost:8080/"
    },
    "id": "QEyJ-BnkspNe",
    "outputId": "431ebd77-e7f7-48ae-9380-3cc65a1b9d78"
   },
   "outputs": [],
   "source": [
    "# Проверка наличия дробных значений\n",
    "len(data.query('parks_nearest % 1 != 0'))"
   ]
  },
  {
   "cell_type": "code",
   "execution_count": null,
   "metadata": {
    "colab": {
     "base_uri": "https://localhost:8080/",
     "height": 447
    },
    "id": "Bv3Nr1SdspNf",
    "outputId": "2a6498c8-0f8e-4f5d-88f0-1c71a6327523"
   },
   "outputs": [],
   "source": [
    "data['parks_nearest'].hist(bins=100)"
   ]
  },
  {
   "cell_type": "code",
   "execution_count": null,
   "metadata": {
    "colab": {
     "base_uri": "https://localhost:8080/"
    },
    "id": "_l32lJJRspNg",
    "outputId": "b709ab7d-a479-426a-cd20-302434c95c72"
   },
   "outputs": [],
   "source": [
    "# Подсчет количества пропущенных значений\n",
    "get_missing_values_proportion('parks_nearest')"
   ]
  },
  {
   "cell_type": "code",
   "execution_count": null,
   "metadata": {
    "colab": {
     "base_uri": "https://localhost:8080/"
    },
    "id": "ZLXC_ImgspNh",
    "outputId": "e20a5254-b2e9-412b-d989-2ec321df4687"
   },
   "outputs": [],
   "source": [
    "# Проверка гипотезы о том, что количество пропусков в столбце parks_nearest равно количеству нулевых значений в столбце arks_around_3000\n",
    "len(data.query('parks_around_3000 == 0'))"
   ]
  },
  {
   "cell_type": "markdown",
   "metadata": {
    "id": "BGsT-Mu0spNh"
   },
   "source": [
    "#### Заполнение пропусков и приведение к целочисленному типу столбца ponds_around_3000"
   ]
  },
  {
   "cell_type": "code",
   "execution_count": null,
   "metadata": {
    "colab": {
     "base_uri": "https://localhost:8080/"
    },
    "id": "l2YOz6gFspNi",
    "outputId": "c94fffef-6a12-4590-b83e-af3e3f7ddda3"
   },
   "outputs": [],
   "source": [
    "# Вывод основных статистических параметров столбца\n",
    "data['ponds_around_3000'].describe()"
   ]
  },
  {
   "cell_type": "code",
   "execution_count": null,
   "metadata": {
    "colab": {
     "base_uri": "https://localhost:8080/"
    },
    "id": "O_0_K1LKspNi",
    "outputId": "94de1b1d-2a84-4b19-baf9-8e5339f7e347"
   },
   "outputs": [],
   "source": [
    "# Оценка значений столбца\n",
    "data['ponds_around_3000'].value_counts()"
   ]
  },
  {
   "cell_type": "code",
   "execution_count": null,
   "metadata": {
    "colab": {
     "base_uri": "https://localhost:8080/"
    },
    "id": "oEX2OXZwspNj",
    "outputId": "ca0e1d41-cf3e-42f0-dda6-e3ad425836be"
   },
   "outputs": [],
   "source": [
    "# Подсчет количества пропущенных значений\n",
    "get_missing_values_proportion('ponds_around_3000')"
   ]
  },
  {
   "cell_type": "code",
   "execution_count": null,
   "metadata": {
    "colab": {
     "base_uri": "https://localhost:8080/"
    },
    "id": "YQ0Vc_ZHspNl",
    "outputId": "edccf1b2-9526-4ddc-b23b-5d6797a045f6"
   },
   "outputs": [],
   "source": [
    "# Проверка наличия информации о расстоянии до ближайшего пруда для пропущенных значений\n",
    "len(data.query('ponds_around_3000.isnull() and ~ponds_around_3000.isnull()'))"
   ]
  },
  {
   "cell_type": "code",
   "execution_count": null,
   "metadata": {
    "colab": {
     "base_uri": "https://localhost:8080/"
    },
    "id": "-n2LIm7HspNm",
    "outputId": "9ffea47b-1c82-4fe3-fd6e-df8a911b528f"
   },
   "outputs": [],
   "source": [
    "# Заполнение оставшихся пропусков 0\n",
    "data['ponds_around_3000'] = data['ponds_around_3000'].fillna(0)\n",
    "\n",
    "# Проверка результатов заполнения\n",
    "get_missing_values_proportion('ponds_around_3000')"
   ]
  },
  {
   "cell_type": "code",
   "execution_count": null,
   "metadata": {
    "colab": {
     "base_uri": "https://localhost:8080/"
    },
    "id": "YLf0R7YVspNn",
    "outputId": "257d97d3-8640-44b0-b3a1-8b712bdb124e"
   },
   "outputs": [],
   "source": [
    "# Приведение столбца к целочисленному типу\n",
    "data['ponds_around_3000'] = data['ponds_around_3000'].astype('int')\n",
    "\n",
    "# Проверка результатов приведения\n",
    "data['ponds_around_3000']"
   ]
  },
  {
   "cell_type": "markdown",
   "metadata": {
    "id": "LNgFe0r1spNo"
   },
   "source": [
    "#### Заполнение пропусков в столбце ponds_nearest"
   ]
  },
  {
   "cell_type": "code",
   "execution_count": null,
   "metadata": {
    "colab": {
     "base_uri": "https://localhost:8080/"
    },
    "id": "isJLdEb4spNo",
    "outputId": "620c8629-6872-4b79-f74e-7bb91381621b"
   },
   "outputs": [],
   "source": [
    "# Вывод основных статистических параметров столбца\n",
    "data['ponds_nearest'].describe()"
   ]
  },
  {
   "cell_type": "code",
   "execution_count": null,
   "metadata": {
    "colab": {
     "base_uri": "https://localhost:8080/"
    },
    "id": "Gs1fR0r9spNp",
    "outputId": "b74a6be0-0345-455d-a9cb-8d60618a82db"
   },
   "outputs": [],
   "source": [
    "# Проверка наличия дробных значений\n",
    "len(data.query('ponds_nearest % 1 != 0'))"
   ]
  },
  {
   "cell_type": "code",
   "execution_count": null,
   "metadata": {
    "colab": {
     "base_uri": "https://localhost:8080/",
     "height": 447
    },
    "id": "CvKhHK12spNq",
    "outputId": "ea16a1c9-c5d2-4888-f8c5-4b24825b3bbb"
   },
   "outputs": [],
   "source": [
    "data['ponds_nearest'].hist(bins=100)"
   ]
  },
  {
   "cell_type": "code",
   "execution_count": null,
   "metadata": {
    "colab": {
     "base_uri": "https://localhost:8080/"
    },
    "id": "ycO8hXtdspNr",
    "outputId": "61eb881d-3103-46b4-c38b-04977284f380"
   },
   "outputs": [],
   "source": [
    "# Подсчет количества пропущенных значений\n",
    "get_missing_values_proportion('ponds_nearest')"
   ]
  },
  {
   "cell_type": "code",
   "execution_count": null,
   "metadata": {
    "colab": {
     "base_uri": "https://localhost:8080/"
    },
    "id": "pnCBIO4XspNs",
    "outputId": "08066c13-6b95-402f-f6db-263139c57082"
   },
   "outputs": [],
   "source": [
    "# Проверка гипотезы о том, что количество пропусков в столбце ponds_nearest равно количеству нулевых значений в столбце arks_around_3000\n",
    "len(data.query('ponds_around_3000 == 0'))"
   ]
  },
  {
   "cell_type": "markdown",
   "metadata": {
    "id": "tTBs7e70spNs"
   },
   "source": [
    "#### Заполнение пропусков в столбце days_exposition"
   ]
  },
  {
   "cell_type": "code",
   "execution_count": null,
   "metadata": {
    "colab": {
     "base_uri": "https://localhost:8080/"
    },
    "id": "JF8EjdcDspNu",
    "outputId": "1e600e0d-28aa-4378-ad9f-9cfcae49eb69"
   },
   "outputs": [],
   "source": [
    "# Вывод основных статистических параметров столбца\n",
    "data['days_exposition'].describe()"
   ]
  },
  {
   "cell_type": "code",
   "execution_count": null,
   "metadata": {
    "colab": {
     "base_uri": "https://localhost:8080/"
    },
    "id": "GLiu4dJpspNu",
    "outputId": "acaed023-e9c4-4d18-d74a-4bf4872c0b91"
   },
   "outputs": [],
   "source": [
    "# Проверка наличия дробных значений с коррекцией двоичного представления чисел\n",
    "len(data.query('days_exposition % 1 > 1e-10'))"
   ]
  },
  {
   "cell_type": "code",
   "execution_count": null,
   "metadata": {
    "colab": {
     "base_uri": "https://localhost:8080/",
     "height": 659
    },
    "id": "urPy3KB8spNv",
    "outputId": "83f42da0-e04b-4b18-e53d-079b20fbd1f8"
   },
   "outputs": [],
   "source": [
    "data['days_exposition'].hist(bins=100, figsize=(15, 10))"
   ]
  },
  {
   "cell_type": "code",
   "execution_count": null,
   "metadata": {
    "colab": {
     "base_uri": "https://localhost:8080/"
    },
    "id": "O3arRBK1spNw",
    "outputId": "bbca811d-e494-454e-8f36-aed937de0639"
   },
   "outputs": [],
   "source": [
    "# Подсчет количества пропущенных значений\n",
    "get_missing_values_proportion('days_exposition')"
   ]
  },
  {
   "cell_type": "markdown",
   "metadata": {
    "id": "yXyIl-jyspNx"
   },
   "source": [
    "#### Заполнение пропусков в столбце ceiling_height"
   ]
  },
  {
   "cell_type": "code",
   "execution_count": null,
   "metadata": {
    "colab": {
     "base_uri": "https://localhost:8080/"
    },
    "id": "Yqg0azfdspNx",
    "outputId": "598dc664-683f-41f0-a3ed-7c45810c2edc"
   },
   "outputs": [],
   "source": [
    "# Проверка корреляции значений столбца ceiling_height с другими столбцами\n",
    "data.corr()['ceiling_height'].sort_values()"
   ]
  },
  {
   "cell_type": "code",
   "execution_count": null,
   "metadata": {
    "colab": {
     "base_uri": "https://localhost:8080/",
     "height": 1000
    },
    "id": "fk8KuD58spNy",
    "outputId": "4cf32c88-8523-4518-c2b4-fe2b923bad49"
   },
   "outputs": [],
   "source": [
    "# Визуальная проверка корреляции значений столбца ceiling_height со столбцами, показывающими наибольшую степень корреляции\n",
    "data.plot(x='total_area', y='ceiling_height', kind='scatter')\n",
    "data.plot(x='living_area', y='ceiling_height', kind='scatter')\n",
    "data.plot(x='kitchen_area', y='ceiling_height', kind='scatter')\n",
    "data.plot(x='last_price', y='ceiling_height', kind='scatter')"
   ]
  },
  {
   "cell_type": "code",
   "execution_count": null,
   "metadata": {
    "colab": {
     "base_uri": "https://localhost:8080/",
     "height": 467
    },
    "id": "WeajsA3fspNz",
    "outputId": "39708915-3062-44b8-92ae-2b1bd33b16ef"
   },
   "outputs": [],
   "source": [
    "# Проверка гипотезы о том, что в одном населенном пунке одинаковая высота потолков\n",
    "data.plot(x='ceiling_height', y='clean_locality_name_number', kind='scatter')"
   ]
  },
  {
   "cell_type": "code",
   "execution_count": null,
   "metadata": {
    "id": "0O243mfKspN1"
   },
   "outputs": [],
   "source": [
    "# Функция для расчета медианного значения высоты потолка для схожих квартир\n",
    "# row - (Series) Строка из набора данных\n",
    "# возвращает - (float) Медиана высоты потолка\n",
    "def get_ceiling_height_median(row):\n",
    "    return data[\n",
    "        (data.index != row.name) &\n",
    "        (data['floors_total'] == row['floors_total']) &\n",
    "        (data['clean_locality_name'] == row['clean_locality_name']) &\n",
    "        ((data['total_area'] // 10) == (row['total_area'] // 10)) &\n",
    "        ((data['city_сenters_nearest'] // 1000) == (row['city_сenters_nearest'] // 1000)) &\n",
    "        (data['ceiling_height'].isnull() == False)\n",
    "    ]['ceiling_height'].median()"
   ]
  },
  {
   "cell_type": "code",
   "execution_count": null,
   "metadata": {
    "colab": {
     "base_uri": "https://localhost:8080/",
     "height": 671
    },
    "id": "00rIC4NRspN2",
    "outputId": "ff5b257a-4127-4788-f7b0-2d4f354a01b8"
   },
   "outputs": [],
   "source": [
    "# Создание столбца для апробации функции расчета медианного значения\n",
    "data.loc[data['ceiling_height'].isnull() == False, 'ceiling_height_median'] = data.apply(get_ceiling_height_median, axis=1)\n",
    "\n",
    "# Проверка результатов апробации\n",
    "data.plot(x='ceiling_height', y='ceiling_height_median', kind='scatter', figsize=(15, 10))\n",
    "data['ceiling_height'].corr(data['ceiling_height_median'])"
   ]
  },
  {
   "cell_type": "code",
   "execution_count": null,
   "metadata": {
    "id": "hc1CsFeWspN3"
   },
   "outputs": [],
   "source": [
    "# Замена пропусков на медианные значения\n",
    "data.loc[data['ceiling_height'].isnull(), 'ceiling_height'] = data[data['ceiling_height'].isnull()].apply(get_ceiling_height_median, axis=1)"
   ]
  },
  {
   "cell_type": "code",
   "execution_count": null,
   "metadata": {
    "colab": {
     "base_uri": "https://localhost:8080/"
    },
    "id": "qbJmd4AEspN4",
    "outputId": "846eb2f5-7293-4015-ece0-c9d075dc22d2"
   },
   "outputs": [],
   "source": [
    "# Проверка результатов замены\n",
    "get_missing_values_proportion('ceiling_height')"
   ]
  },
  {
   "cell_type": "markdown",
   "metadata": {
    "id": "vXO-dZStspN5"
   },
   "source": [
    "#### Заполнение пропусков в столбцах living_area и kitchen_area"
   ]
  },
  {
   "cell_type": "code",
   "execution_count": null,
   "metadata": {
    "colab": {
     "base_uri": "https://localhost:8080/"
    },
    "id": "dAc1X5qmspN5",
    "outputId": "5999183f-90eb-47b8-fca1-7fcc0c95fa30"
   },
   "outputs": [],
   "source": [
    "# Подсчет пропусков\n",
    "get_missing_values_proportion('living_area')\n",
    "get_missing_values_proportion('kitchen_area')"
   ]
  },
  {
   "cell_type": "code",
   "execution_count": null,
   "metadata": {
    "colab": {
     "base_uri": "https://localhost:8080/"
    },
    "id": "d-KnxPEHspN6",
    "outputId": "48204de8-f67d-4644-ae10-dd4ff5709f83"
   },
   "outputs": [],
   "source": [
    "# Проверка корреляции значений столбца living_area с другими столбцами\n",
    "data.corr()['living_area'].sort_values()"
   ]
  },
  {
   "cell_type": "code",
   "execution_count": null,
   "metadata": {
    "colab": {
     "base_uri": "https://localhost:8080/",
     "height": 900
    },
    "id": "U2HpdkBbspN7",
    "outputId": "c852f86e-afb2-465e-d9c4-462c743ccae5"
   },
   "outputs": [],
   "source": [
    "data.plot(x='living_area', y='total_area', kind='scatter')\n",
    "data.plot(x='living_area', y='rooms', kind='scatter')"
   ]
  },
  {
   "cell_type": "code",
   "execution_count": null,
   "metadata": {
    "id": "ATIfg3BIspN7"
   },
   "outputs": [],
   "source": [
    "# Функция для расчета медианного значения жилой площади для схожих квартир\n",
    "# row - (Series) Строка из набора данных\n",
    "# возвращает - (float) Медиана жилой площади\n",
    "def get_living_area_median(row):\n",
    "    return data[\n",
    "        (data.index != row.name) &\n",
    "        ((data['total_area'] // 5) == (row['total_area'] // 5)) &\n",
    "        (data['rooms'] == row['rooms']) &\n",
    "        (data['living_area'].isnull() == False)\n",
    "    ]['living_area'].median()"
   ]
  },
  {
   "cell_type": "code",
   "execution_count": null,
   "metadata": {
    "colab": {
     "base_uri": "https://localhost:8080/",
     "height": 669
    },
    "id": "DDTkkBy7spN8",
    "outputId": "c0e301ae-4aa4-4af3-f08b-7de94561f7ce"
   },
   "outputs": [],
   "source": [
    "# Создание столбца для апробации функции расчета медианного значения\n",
    "data.loc[data['living_area'].isnull() == False, 'living_area_median'] = data.apply(get_living_area_median, axis=1)\n",
    "\n",
    "# Проверка результатов апробации\n",
    "data.plot(x='living_area', y='living_area_median', kind='scatter', figsize=(15, 10))\n",
    "data['living_area'].corr(data['living_area_median'])"
   ]
  },
  {
   "cell_type": "code",
   "execution_count": null,
   "metadata": {
    "colab": {
     "base_uri": "https://localhost:8080/"
    },
    "id": "4SHI7BNHspN9",
    "outputId": "03468777-d5f6-4e65-b2ad-d9a8e7aa365c"
   },
   "outputs": [],
   "source": [
    "# Замена пропусков на медианные значения\n",
    "data.loc[data['living_area'].isnull(), 'living_area'] = data[data['living_area'].isnull()].apply(get_living_area_median, axis=1)\n",
    "\n",
    "# Проверка результатов замены\n",
    "get_missing_values_proportion('living_area')"
   ]
  },
  {
   "cell_type": "code",
   "execution_count": null,
   "metadata": {
    "colab": {
     "base_uri": "https://localhost:8080/"
    },
    "id": "gi2yVYHgspN-",
    "outputId": "e5d92774-4327-4c6a-c004-1e27493dce4d"
   },
   "outputs": [],
   "source": [
    "# Удаление записей с пропущенными значениями\n",
    "data.dropna(subset=['living_area'], inplace=True)\n",
    "data = data.reset_index(drop=True)\n",
    "\n",
    "# Проверка результатов удаления\n",
    "get_missing_values_proportion('living_area')"
   ]
  },
  {
   "cell_type": "code",
   "execution_count": null,
   "metadata": {
    "colab": {
     "base_uri": "https://localhost:8080/"
    },
    "id": "keM7WZSGspN_",
    "outputId": "69b01261-c99e-4d60-c74d-facb03c0a21a"
   },
   "outputs": [],
   "source": [
    "# Проверка корреляции значений столбца living_area с другими столбцами\n",
    "data.corr()['kitchen_area'].sort_values()"
   ]
  },
  {
   "cell_type": "code",
   "execution_count": null,
   "metadata": {
    "colab": {
     "base_uri": "https://localhost:8080/",
     "height": 900
    },
    "id": "ke4ddSS1spOA",
    "outputId": "251d07d6-992d-4284-b80a-d386bc32eec0"
   },
   "outputs": [],
   "source": [
    "data.plot(x='kitchen_area', y='total_area', kind='scatter')\n",
    "data.plot(x='kitchen_area', y='living_area', kind='scatter')"
   ]
  },
  {
   "cell_type": "code",
   "execution_count": null,
   "metadata": {
    "id": "bOT-8TczspOB"
   },
   "outputs": [],
   "source": [
    "# Функция для расчета медианного значения площади кухни для схожих квартир\n",
    "# row - (Series) Строка из набора данных\n",
    "# возвращает - (float) Медиана площади кухни\n",
    "def get_kitchen_area_median(row):\n",
    "    return data[\n",
    "        (data.index != row.name) &\n",
    "        ((data['total_area'] // 5) == (row['total_area'] // 5)) &\n",
    "        ((data['living_area'] // 5) == (row['living_area'] // 5)) &\n",
    "        (data['ceiling_height'] == row['ceiling_height']) &\n",
    "        (data['kitchen_area'].isnull() == False)\n",
    "    ]['kitchen_area'].median()"
   ]
  },
  {
   "cell_type": "code",
   "execution_count": null,
   "metadata": {
    "colab": {
     "base_uri": "https://localhost:8080/",
     "height": 674
    },
    "id": "5MzrvCVTspOB",
    "outputId": "fae8a25a-e0ef-41f2-c59d-6e5349242d42"
   },
   "outputs": [],
   "source": [
    "# Создание столбца для апробации функции расчета медианного значения\n",
    "data.loc[data['kitchen_area'].isnull() == False, 'kitchen_area_median'] = data.apply(get_kitchen_area_median, axis=1)\n",
    "\n",
    "# Проверка результатов апробации\n",
    "data.plot(x='kitchen_area', y='kitchen_area_median', kind='scatter', figsize=(15, 10))\n",
    "data['kitchen_area'].corr(data['kitchen_area_median'])"
   ]
  },
  {
   "cell_type": "code",
   "execution_count": null,
   "metadata": {
    "colab": {
     "base_uri": "https://localhost:8080/"
    },
    "id": "R7bPAdnlspOC",
    "outputId": "959a29ee-c57e-4ce1-d92c-04222720846b"
   },
   "outputs": [],
   "source": [
    "# Замена пропусков на медианные значения\n",
    "data.loc[data['kitchen_area'].isnull(), 'kitchen_area'] = data[data['kitchen_area'].isnull()].apply(get_kitchen_area_median, axis=1)\n",
    "\n",
    "# Проверка результатов замены\n",
    "get_missing_values_proportion('kitchen_area')"
   ]
  },
  {
   "cell_type": "code",
   "execution_count": null,
   "metadata": {
    "id": "Gk886dFZspOC"
   },
   "outputs": [],
   "source": [
    "# Удаление ненужных столбцов\n",
    "data = data.drop(columns=['ceiling_height_median', 'living_area_median', 'kitchen_area_median'])"
   ]
  },
  {
   "cell_type": "code",
   "execution_count": null,
   "metadata": {
    "colab": {
     "base_uri": "https://localhost:8080/"
    },
    "id": "VH6xSE2IspOD",
    "outputId": "38045782-d691-4f65-83c4-0dd014280c20"
   },
   "outputs": [],
   "source": [
    "# Проверка результатов преодобработки данных\n",
    "data.info()"
   ]
  },
  {
   "cell_type": "markdown",
   "metadata": {
    "id": "g41OcwDvspOE"
   },
   "source": [
    "### Выводы (шаг 2)"
   ]
  },
  {
   "cell_type": "markdown",
   "metadata": {
    "id": "taOCpErRspOE"
   },
   "source": [
    "__В ходе предобработки данных была выполнена следующая работа:__\n",
    "\n",
    "Переименовано 4 столбца для их соответствия общей стилистики нейминга.\n",
    "\n",
    "Проведена проверка столбца __total_images__ на пропуски и аномалии - таковых не выявлено.\n",
    "\n",
    "У столбца __last_price__ изменен тип на целочисленный с целью экономии памяти.\n",
    "\n",
    "В столбце __total_area__ были найдены аномально маленькие значения - менее 28 $м^2$. По нормативам площадь квартиры должна составлять не менее 28 $м^2$ (http://gsps.ru/poleznoe/minimalnaya-ploshchad-pomeshcheniy-kvartiry.php). В связи с этим было принято решение удалить аномальные значения, которые составляют незначительную часть выборки.\n",
    "\n",
    "Столбец __first_day_exposition__ приведен к типу datetime.\n",
    "\n",
    "В столбце __room__ было обнаружено незначительное количество (65) записей со значением столбца 0. Было обнаружено, что эти квартиры имеют маленькую площадь. Был сделан вывод, что, скорее всего, это маленькие квартиры с 1 комнатой. В связи с этим значение 0 в столбце было заменено на 1.\n",
    "\n",
    "В столбце __floors_total__ было обнаружено незначительное количество пропусков (0.33%). Эти записи были удалены ввиду их малого количества. Столбец был приведен к целочисленному типу с целью экономии памяти.\n",
    "\n",
    "В столбце __apartment__ было обнаружено значительное количество пропусков (88.25%). В связи с тем, что количество апартаментов, как и студий и квартир со свободной планировкой очень мало, было решено заполнить пропуски False. Столбец был приведен к типу bool с целью экономии памяти.\n",
    "\n",
    "Проведена проверка столбцов __studio__ и __open_plan__ на пропуски - таковых не выявлено.\n",
    "\n",
    "В столбце __locality_name__ было обнаружено незначительное количество пропусков (0.21%). Эти записи были удалены ввиду их малого количества. На основе столбца __locality_name__ были созданы следующие столбцы:\n",
    "- __clean_locality_name__, содержащий очищенные от дубликатов названия населенных пунктов;\n",
    "- __clean_locality_type__, содержащий категоризированные типы населенных пунктов;\n",
    "- __clean_locality_type_number__, содержащий цифровое представление столбца __clean_locality_type__. Оно необходимо для упрощения построения графиков;\n",
    "- __clean_locality_name_number__, содержащий цифровое представление столбца __cclean_locality_name__. Оно необходимо для упрощения построения графиков.\n",
    "\n",
    "Проведена проверка столбца __floors__ на пропуски и аномалии - таковых не выявлено.\n",
    "\n",
    "В столбце __balcony__ было обнаружено значительное количество пропусков (48.69%). В связи с тем, что во многих квартирах может не быть балконов, было решено заполнить пропуски 0. Столбец был приведен к типу int с целью экономии памяти.\n",
    "\n",
    "В столбце __airports_nearest__ было обнаружено значительное количество пропусков (22.95%), а также 1 запись с аномальным значением - 0 м до аэропорта. Было выявлено, что в расстояние до аэропорта в одном населенном пункте (за исключением Санкт-Петербурга, так как он имеет большую площадь) схожее, поэтому часть пропусков было заменено на медианное значение расстояния в населенном пункте. Но в большинстве населенных пунктов (292) вообще не фигурирует ни одной записи о расстоянии до аэропорта. В связи с этим было заполнено лишь 0.02% данных.\n",
    "\n",
    "В столбце __city_center_nearest__ было обнаружено значительное количество пропусков (22.85%). Было выявлено, что расстояние измеряется не до центра населенного пункта, а до центра Санкт-Петербурга. Также было выявлено, что в расстояние до центра в одном населенном пункте (за исключением Санкт-Петербурга, так как он имеет большую площадь) схожее, поэтому часть пропусков было заменено на медианное значение расстояния в населенном пунке. Но в большинстве населенных пунктов вообще не фигурирует ни одной записи о расстоянии до центра. В связи с этим было заполнено лишь 0.03% данных. Остальные пропуски было решено заполнить -1, чтобы можно было отличить пропуски от данных и привести к целочисленному типу. Хоть столбец и является важным для одной из целей исследование, отсутствие какой-либо корреляции с другими столбцами, не позволяет заполнить пропуски.\n",
    "\n",
    "В столбце __praks_around_3000__ было обнаружено значительное количество пропусков (22.85%). Также было выявлено, что в столбце __parks_nearest__:\n",
    "- отсутствуют данные о парках далее 3 км;\n",
    "- отсутствуют данные для записей, где есть пропуски в столбце __praks_around_3000__;\n",
    "- количество пропусков составляет 65.60% и равно сумме пропусков и нулевых значений в столбце __praks_around_3000__.\n",
    "В связи с этим было принято решение заполнить пропуски в столбце __praks_around_3000__ \"0\", а в столбце __parks_nearest__ \"-1\", так как, скорее всего, пропуски означают отсуствие прудов в радиусе 3 км.\n",
    "\n",
    "В столбцах __ponds_around_3000__ и __ponds_nearest__ ситуация повторилась, за исключением того, что данные столбца __ponds_nearest__ имеют максимальное значение около 1350 м. В связи с этим, возможно, дано не верное определение столбца __ponds_around_3000__, и они оба несут информацию о пруда в радиусе 1.5. Но данную информацию необходимо уточнять у поставщика данных.\n",
    "\n",
    "В столбце __days_exposition__ было обнаружено значительное количество пропусков (13.62%). В связи с тем, что пропуски в столбце не подлежат восстановлению на основе каких-либо других данных, было решено заполнить пропуски -1, чтобы можно было отличить пропуски от данных и привести к целочисленному типу. Столбец был приведен к типу int с целью экономии памяти.\n",
    "\n",
    "В столбце __ceiling_height__ было обнаружено незначительное количество аномалий (102) - высота потолка ниже 2.5 м и выше 5 м. Значения более 25 м было решено разделить на 10, так как их было чуть больше других, что может свидетельствовать о том, что клиент забыл поставить точку в дробном числе. Остальные аномалии были удалены в виду их малого количества. Также в столбце было обнаружено значительное количество пропусков (38.58%). Было выявлено, что медиана высота потолка в схожих домах коррелирует на уровне 0.71. Гипотеза строилась на основе того, что квартиры в одном населенном пунке, со схожим расстоянием до цента, одинаковым количеством этажей и схожей площадью - это квартиры в одном или похожих по типу застройки домах, где высота потолка будет схожа. Пропуски были заполнены медианными значениями. После заполнения в столбце осталось 16% пропусков, которые, хоть и влияют на цель исследования, но не могут быть заполнены.\n",
    "\n",
    "В столбце __living_area__ были найдены аномально маленькие значения - менее 28 $м^2$. По нормативам жилая площадь квартиры должна составлять не менее 14 $м^2$ (http://gsps.ru/poleznoe/minimalnaya-ploshchad-pomeshcheniy-kvartiry.php). В связи с этим было принято решение удалить аномальные значения, которые составляют незначительную часть выборки (262 шт). Также в столбце было обнаружено значительное количество пропусков (7.91%). Было выявлено, что жилая площадь очень сильно коррелирует с общей площадью квартиры и количеством комнат (коэффициент корреляции Пирсона - 0.94 и 0.85, соответственно). На основе этого пропуски были заполнены медианным значением в схожих по этим двум критериям квартирах (полученные для заполненных значениях медианы в ходе тестирования коррелировали с реальными на уровне 0.95). Оставшиеся пропуски составили незначительные 0.1% и были удалены.\n",
    "\n",
    "В столбце __kitchen_area__ было обнаружено значительное количество пропусков (8.37%). Было выявлено, что площадь кухни определенным образом коррелирует с общей площадью квартиры, жилой площадью и высотой потолка (коэффициент корреляции Пирсона - 0.43, 0.44 и 0.62, соответственно). На основе этого пропуски были заполнены медианным значением в схожих по этим критериям квартирах (полученные для заполненных значениях медианы в ходе тестирования коррелировали с реальными на уровне 0.72). Оставшиеся пропуски составили 3.1%.\n",
    "\n",
    "В большинстве столбцов пропуски были успешно заполнены, незначительное количество данных удалено. В реальной ситуации заполнение пропусков должно быть согласовано с поставщиком данных. Многие пропуски удастся после этого полностью восстановить. Также видно, что многие пропуски - результат ошибок в алгоритмах, а не следствие действия пользователя. Например, расстояние до центра города или аэропорта явно вычисляется какой-либо системой, а не вручную указывается пользователем."
   ]
  },
  {
   "cell_type": "markdown",
   "metadata": {
    "id": "CdXbZ6nKspOG",
    "tags": []
   },
   "source": [
    "## Шаг 3. Посчитайте и добавьте в таблицу"
   ]
  },
  {
   "cell_type": "markdown",
   "metadata": {
    "id": "2v7Nk0hospOH"
   },
   "source": [
    "### Цена квадратного метра"
   ]
  },
  {
   "cell_type": "code",
   "execution_count": null,
   "metadata": {
    "colab": {
     "base_uri": "https://localhost:8080/"
    },
    "id": "54RTwKPMspOI",
    "outputId": "4de7cf5f-1cb6-48b8-b4b8-a9867049dac4"
   },
   "outputs": [],
   "source": [
    "# Расчет цены квадратного метра\n",
    "data['m2_price'] = data['last_price'] / data['total_area']\n",
    "\n",
    "# Проверка расчета\n",
    "data['m2_price'].head()"
   ]
  },
  {
   "cell_type": "markdown",
   "metadata": {
    "id": "5zLOPbhMspOJ"
   },
   "source": [
    "### День недели, месяц и год публикации объявления"
   ]
  },
  {
   "cell_type": "code",
   "execution_count": null,
   "metadata": {
    "colab": {
     "base_uri": "https://localhost:8080/",
     "height": 206
    },
    "id": "HEG0WQiMspOJ",
    "outputId": "bc6be4e3-d557-444a-89b7-0958dbefc616"
   },
   "outputs": [],
   "source": [
    "# Расчет дня недели публикации объявления\n",
    "data['exposition_day_of_week'] = data['first_day_exposition'].dt.dayofweek\n",
    "\n",
    "# Проверка расчета\n",
    "data.loc[:4, ['first_day_exposition', 'exposition_day_of_week']]"
   ]
  },
  {
   "cell_type": "code",
   "execution_count": null,
   "metadata": {
    "colab": {
     "base_uri": "https://localhost:8080/",
     "height": 206
    },
    "id": "JgVV3vnuspOK",
    "outputId": "ac82c1a6-6646-4b16-9fd9-9ce14275abf3"
   },
   "outputs": [],
   "source": [
    "# Расчет месяца публикации объявления\n",
    "data['exposition_month'] = data['first_day_exposition'].dt.month\n",
    "\n",
    "# Проверка расчета\n",
    "data.loc[:4, ['first_day_exposition', 'exposition_month']]"
   ]
  },
  {
   "cell_type": "code",
   "execution_count": null,
   "metadata": {
    "colab": {
     "base_uri": "https://localhost:8080/",
     "height": 206
    },
    "id": "4FCSUwZMspOL",
    "outputId": "abd3943a-deed-4806-b12e-2c06b02b0a7f"
   },
   "outputs": [],
   "source": [
    "# Расчет года публикации объявления\n",
    "data['exposition_year'] = data['first_day_exposition'].dt.year\n",
    "\n",
    "# Проверка расчета\n",
    "data.loc[:4, ['first_day_exposition', 'exposition_year']]"
   ]
  },
  {
   "cell_type": "markdown",
   "metadata": {
    "id": "4tbf-KI9spOM"
   },
   "source": [
    "### Этаж квартиры (варианты — первый, последний, другой)"
   ]
  },
  {
   "cell_type": "code",
   "execution_count": null,
   "metadata": {
    "colab": {
     "base_uri": "https://localhost:8080/"
    },
    "id": "xBX_8buJspON",
    "outputId": "a9e32a14-062d-401e-cfb2-622604a956d3"
   },
   "outputs": [],
   "source": [
    "# Проверка количества домов с одним этажем\n",
    "len(data.query('floors_total == 1'))"
   ]
  },
  {
   "cell_type": "code",
   "execution_count": null,
   "metadata": {
    "id": "OBFGGL5CspON"
   },
   "outputs": [],
   "source": [
    "# Функция для определения типа этажа\n",
    "# row - (Series) Строка данных\n",
    "# возвращает - (String) Тип этажа\n",
    "def get_floor_category(row):\n",
    "    if row['floor_'] == 1:\n",
    "        if row['floor_'] == row['floors_total']:\n",
    "            return 'другой'\n",
    "\n",
    "        return 'первый'\n",
    "    if row['floor_'] == row['floors_total']:\n",
    "        return 'последний'\n",
    "\n",
    "    return 'другой'"
   ]
  },
  {
   "cell_type": "code",
   "execution_count": null,
   "metadata": {
    "colab": {
     "base_uri": "https://localhost:8080/",
     "height": 206
    },
    "id": "jeezPe96spOO",
    "outputId": "ea032191-ff32-4191-d514-cdd62429ef9c"
   },
   "outputs": [],
   "source": [
    "# Расчет типа этажа квартиры\n",
    "data['floor_type'] = data.apply(get_floor_category, axis=1)\n",
    "\n",
    "# Проверка расчета\n",
    "data.loc[:4, ['floor_', 'floors_total', 'floor_type']]"
   ]
  },
  {
   "cell_type": "code",
   "execution_count": null,
   "metadata": {
    "colab": {
     "base_uri": "https://localhost:8080/"
    },
    "id": "ghVvu3VUspOP",
    "outputId": "c692e80c-49ab-4b74-b592-a9af6e890f43"
   },
   "outputs": [],
   "source": [
    "# Проверка расчета для последних этажей\n",
    "data.query('floor_ == floors_total')['floor_type'].head()"
   ]
  },
  {
   "cell_type": "code",
   "execution_count": null,
   "metadata": {
    "colab": {
     "base_uri": "https://localhost:8080/"
    },
    "id": "BQJKP5NRspOP",
    "outputId": "45ace641-678d-44e6-b5d3-d4e0687e5f93"
   },
   "outputs": [],
   "source": [
    "# Проверка расчета для домов с одним этажем\n",
    "data.query('floors_total == 1')['floor_type'].head()"
   ]
  },
  {
   "cell_type": "markdown",
   "metadata": {
    "id": "VReJgluxspOP"
   },
   "source": [
    "### Cоотношение жилой и общей площади"
   ]
  },
  {
   "cell_type": "code",
   "execution_count": null,
   "metadata": {
    "colab": {
     "base_uri": "https://localhost:8080/"
    },
    "id": "jtp0sHMyspOQ",
    "outputId": "3fcf1435-bd16-46e3-ebf2-cf9d88a3933e"
   },
   "outputs": [],
   "source": [
    "# Расчет соотношения жилой и общей площади\n",
    "data['living_total_area_ratio'] = data['living_area'] / data['total_area']\n",
    "\n",
    "# Проверка расчета\n",
    "data['living_total_area_ratio'].head()"
   ]
  },
  {
   "cell_type": "markdown",
   "metadata": {
    "id": "9NvHpeIjspOS"
   },
   "source": [
    "### Отношение площади кухни к общей"
   ]
  },
  {
   "cell_type": "code",
   "execution_count": null,
   "metadata": {
    "colab": {
     "base_uri": "https://localhost:8080/"
    },
    "id": "Wk9InoRvspOT",
    "outputId": "fa82d4e0-7b64-4efe-dcbc-756772d98b20"
   },
   "outputs": [],
   "source": [
    "# Расчет отношения площади кухни к общей\n",
    "data['kitchen_total_area_ratio'] = data['kitchen_area'] / data['total_area']\n",
    "\n",
    "# Проверка расчета\n",
    "data['kitchen_total_area_ratio'].head()"
   ]
  },
  {
   "cell_type": "markdown",
   "metadata": {
    "id": "s2dLqtNgspOU"
   },
   "source": [
    "### Выводы (шаг 3)"
   ]
  },
  {
   "cell_type": "markdown",
   "metadata": {
    "id": "Eda3uU6gspOV"
   },
   "source": [
    "Выполнены все необходимые расчеты.\n",
    "\n",
    "Для квартир в домах с одним этажем указан тип этажа \"другой\"."
   ]
  },
  {
   "cell_type": "markdown",
   "metadata": {
    "id": "YQ9gICcIspOV",
    "tags": []
   },
   "source": [
    "## Шаг 4. Проведите исследовательский анализ данных и выполните инструкции:"
   ]
  },
  {
   "cell_type": "markdown",
   "metadata": {
    "id": "IOkummMIspOW"
   },
   "source": [
    "### Анализ площади, цены, числа комнат и высоты потолков"
   ]
  },
  {
   "cell_type": "markdown",
   "metadata": {
    "id": "TRz-LqnOspOW"
   },
   "source": [
    "#### Изучение столбца total_area"
   ]
  },
  {
   "cell_type": "code",
   "execution_count": null,
   "metadata": {
    "colab": {
     "base_uri": "https://localhost:8080/"
    },
    "id": "iU7Ki_S5spOX",
    "outputId": "cb44a06b-46bd-4b88-d80d-81738b1c20e7"
   },
   "outputs": [],
   "source": [
    "# Вывод основных статистических параметров столбца\n",
    "data['total_area'].describe()"
   ]
  },
  {
   "cell_type": "code",
   "execution_count": null,
   "metadata": {
    "colab": {
     "base_uri": "https://localhost:8080/",
     "height": 664
    },
    "id": "qdqrGPB5spOY",
    "outputId": "2c80c907-d80c-4800-859a-2a88dc36c1fc"
   },
   "outputs": [],
   "source": [
    "# Вывод гистограммы столбца\n",
    "data['total_area'].hist(bins=900, figsize=(15, 10))"
   ]
  },
  {
   "cell_type": "code",
   "execution_count": null,
   "metadata": {
    "colab": {
     "base_uri": "https://localhost:8080/",
     "height": 664
    },
    "id": "CLuRQVbtspOY",
    "outputId": "76e09eb2-3c23-46b8-c0f1-730faa32831f"
   },
   "outputs": [],
   "source": [
    "# Вывод гистограммы основной части данных столбца\n",
    "data.query('total_area <= 200')['total_area'].hist(bins=200, figsize=(15, 10))"
   ]
  },
  {
   "cell_type": "code",
   "execution_count": null,
   "metadata": {
    "colab": {
     "base_uri": "https://localhost:8080/",
     "height": 668
    },
    "id": "GdUxTcBDspOZ",
    "outputId": "67e04978-f205-4601-a4e1-ed2dca8c9f0c"
   },
   "outputs": [],
   "source": [
    "# Вывод гистограммы \"хвоста\" данных столбца\n",
    "data.query('total_area > 200')['total_area'].hist(bins=200, figsize=(15, 10))"
   ]
  },
  {
   "cell_type": "markdown",
   "metadata": {
    "id": "c2idsaTYWm47"
   },
   "source": [
    "Основную долю рынка занимают квартиры с площадью от 30 до 50 квадратных метров (т.е., предположительно однокомнтаные и двухкомнатные квартиры). Количество квартир с площадью более 60 квадратных метров резко снижается. Самая большая площадь квартиры - 900 кв. метров. Квартир с очень маленькой площадью (до 25 кв. метров) тоже немного."
   ]
  },
  {
   "cell_type": "markdown",
   "metadata": {
    "id": "pqI_9w3CspOa"
   },
   "source": [
    "#### Изучение столбца living_area"
   ]
  },
  {
   "cell_type": "code",
   "execution_count": null,
   "metadata": {
    "colab": {
     "base_uri": "https://localhost:8080/"
    },
    "id": "-d1xVFwPspOa",
    "outputId": "c844b548-e7f1-486f-a7ab-2a1a58672d46"
   },
   "outputs": [],
   "source": [
    "# Вывод основных статистических параметров столбца\n",
    "data['living_area'].describe()"
   ]
  },
  {
   "cell_type": "code",
   "execution_count": null,
   "metadata": {
    "colab": {
     "base_uri": "https://localhost:8080/",
     "height": 659
    },
    "id": "mNNaH5phspOb",
    "outputId": "796e7215-58e2-4dbc-fee1-5e2727524c4f"
   },
   "outputs": [],
   "source": [
    "# Вывод гистограммы столбца\n",
    "data['living_area'].hist(bins=409, figsize=(15, 10))"
   ]
  },
  {
   "cell_type": "code",
   "execution_count": null,
   "metadata": {
    "colab": {
     "base_uri": "https://localhost:8080/",
     "height": 659
    },
    "id": "Gn1YsuGHspOc",
    "outputId": "8e99da06-91cc-4131-f5c0-7cd365ebc562"
   },
   "outputs": [],
   "source": [
    "# Вывод гистограммы основной части данных столбца\n",
    "data.query('living_area <= 100')['living_area'].hist(bins=100, figsize=(15, 10))"
   ]
  },
  {
   "cell_type": "code",
   "execution_count": null,
   "metadata": {
    "colab": {
     "base_uri": "https://localhost:8080/",
     "height": 668
    },
    "id": "UTfTeqsLspOc",
    "outputId": "d670e68c-c54f-4050-da71-c84a4efe265f"
   },
   "outputs": [],
   "source": [
    "# Вывод гистограммы \"хвоста\" данных столбца\n",
    "data.query('living_area > 100')['living_area'].hist(bins=100, figsize=(15, 10))"
   ]
  },
  {
   "cell_type": "markdown",
   "metadata": {
    "id": "ZweG_kP9spOd"
   },
   "source": [
    "#### Изучение столбца kitchen_area"
   ]
  },
  {
   "cell_type": "code",
   "execution_count": null,
   "metadata": {
    "colab": {
     "base_uri": "https://localhost:8080/"
    },
    "id": "FTZgvps1spOe",
    "outputId": "333e54b6-2e3b-4a10-f4c9-7f14d87be783"
   },
   "outputs": [],
   "source": [
    "# Вывод основных статистических параметров столбца\n",
    "data['kitchen_area'].describe()"
   ]
  },
  {
   "cell_type": "code",
   "execution_count": null,
   "metadata": {
    "colab": {
     "base_uri": "https://localhost:8080/",
     "height": 659
    },
    "id": "NPxoPEtfspOf",
    "outputId": "cb34658d-b192-44c5-8111-edc589ffca72"
   },
   "outputs": [],
   "source": [
    "# Вывод гистограммы столбца\n",
    "data['kitchen_area'].hist(bins=409, figsize=(15, 10))"
   ]
  },
  {
   "cell_type": "code",
   "execution_count": null,
   "metadata": {
    "colab": {
     "base_uri": "https://localhost:8080/",
     "height": 447
    },
    "id": "w-PFjLhwspOf",
    "outputId": "b32fe2a2-9f47-4480-c2da-ed468570852f"
   },
   "outputs": [],
   "source": [
    "# Вывод гистограммы основной части данных столбца\n",
    "data.query('kitchen_area <= 20')['kitchen_area'].hist(bins=200)"
   ]
  },
  {
   "cell_type": "code",
   "execution_count": null,
   "metadata": {
    "colab": {
     "base_uri": "https://localhost:8080/",
     "height": 447
    },
    "id": "l2EJuJUKspOg",
    "outputId": "c26d6ed5-cc8d-4719-8dff-9da9d8359f31"
   },
   "outputs": [],
   "source": [
    "# Вывод гистограммы \"хвоста\" данных столбца\n",
    "data.query('kitchen_area > 20')['living_area'].hist(bins=200)"
   ]
  },
  {
   "cell_type": "markdown",
   "metadata": {
    "id": "YqFlNTUXspOh"
   },
   "source": [
    "#### Изучение столбца last_price"
   ]
  },
  {
   "cell_type": "code",
   "execution_count": null,
   "metadata": {
    "colab": {
     "base_uri": "https://localhost:8080/"
    },
    "id": "dmFkrSP6spOh",
    "outputId": "79214bd2-63ae-4e00-c81e-6a99480d8655"
   },
   "outputs": [],
   "source": [
    "# Вывод основных статистических параметров столбца\n",
    "data['last_price'].describe()"
   ]
  },
  {
   "cell_type": "code",
   "execution_count": null,
   "metadata": {
    "colab": {
     "base_uri": "https://localhost:8080/",
     "height": 671
    },
    "id": "JFcJlPmUspOi",
    "outputId": "79e19c29-90f4-4054-8ba6-9619d7ee426b"
   },
   "outputs": [],
   "source": [
    "# Вывод гистограммы столбца\n",
    "data['last_price'].hist(bins=793, figsize=(15, 10))"
   ]
  },
  {
   "cell_type": "code",
   "execution_count": null,
   "metadata": {
    "colab": {
     "base_uri": "https://localhost:8080/",
     "height": 673
    },
    "id": "LTARiF-CspOj",
    "outputId": "1250cd0d-c42c-4f2d-dbaf-2db48eed3a19"
   },
   "outputs": [],
   "source": [
    "# Вывод гистограммы приближенно основной части данных столбца\n",
    "data.query('last_price <= 1e8')['last_price'].hist(bins=400, figsize=(15, 10))"
   ]
  },
  {
   "cell_type": "code",
   "execution_count": null,
   "metadata": {
    "colab": {
     "base_uri": "https://localhost:8080/",
     "height": 678
    },
    "id": "pBmJHPmNspOk",
    "outputId": "855b73ba-3f99-47c0-d532-45071393b00c"
   },
   "outputs": [],
   "source": [
    "# Вывод гистограммы основной части данных столбца\n",
    "data.query('last_price <= 0.2e8')['last_price'].hist(bins=200, figsize=(15, 10))"
   ]
  },
  {
   "cell_type": "code",
   "execution_count": null,
   "metadata": {
    "colab": {
     "base_uri": "https://localhost:8080/",
     "height": 162
    },
    "id": "Fcq0t9QCspOl",
    "outputId": "cc639c97-cca5-42dd-de79-9df8af7c9129"
   },
   "outputs": [],
   "source": [
    "# Проверка обнаруженной аномалии\n",
    "data.query('last_price <= 0.004e8')"
   ]
  },
  {
   "cell_type": "code",
   "execution_count": null,
   "metadata": {
    "colab": {
     "base_uri": "https://localhost:8080/"
    },
    "id": "WwGpLb97spOm",
    "outputId": "9f089434-34f8-49ca-bec8-9c144af43664"
   },
   "outputs": [],
   "source": [
    "# Очистка данных от аномалии\n",
    "data = data.query('last_price > 0.004e8')\n",
    "\n",
    "# Проверка результатов очистки\n",
    "len(data.query('last_price <= 0.004e8'))"
   ]
  },
  {
   "cell_type": "code",
   "execution_count": null,
   "metadata": {
    "colab": {
     "base_uri": "https://localhost:8080/",
     "height": 465
    },
    "id": "XBTCgfCCspOn",
    "outputId": "70c90291-d709-43db-d74e-3582c4de011e"
   },
   "outputs": [],
   "source": [
    "# Вывод гистограммы \"хвоста\" данных столбца\n",
    "data.query('last_price > 1e8')['last_price'].hist(bins=100)"
   ]
  },
  {
   "cell_type": "code",
   "execution_count": null,
   "metadata": {
    "colab": {
     "base_uri": "https://localhost:8080/",
     "height": 462
    },
    "id": "aoDvhgFpspOo",
    "outputId": "df651188-d85f-44fb-b4bd-c28587474e1d"
   },
   "outputs": [],
   "source": [
    "data.query('last_price <= 0.2e8').boxplot(column='last_price')"
   ]
  },
  {
   "cell_type": "markdown",
   "metadata": {
    "id": "gCxiIpLfgzz0"
   },
   "source": [
    "Количество квартир с ценой примерно до 3,5-3,9 млн. рублей равномерно растет, достигая пика. После этого значения количество квартир с ценой выше пиковой также равномерно снижается. Здесь выделяется квартира с максимальной стоимостью в 763 млн. рублей"
   ]
  },
  {
   "cell_type": "markdown",
   "metadata": {
    "id": "n_IBV5gPspOo"
   },
   "source": [
    "#### Изучение столбца rooms"
   ]
  },
  {
   "cell_type": "code",
   "execution_count": null,
   "metadata": {
    "colab": {
     "base_uri": "https://localhost:8080/"
    },
    "id": "pWNM0N2OspOp",
    "outputId": "c9899cee-1219-4482-c095-89760282eda3"
   },
   "outputs": [],
   "source": [
    "# Вывод основных статистических параметров столбца\n",
    "data['rooms'].describe()"
   ]
  },
  {
   "cell_type": "code",
   "execution_count": null,
   "metadata": {
    "colab": {
     "base_uri": "https://localhost:8080/",
     "height": 447
    },
    "id": "Jnwxpzg8spOq",
    "outputId": "89944923-f65f-49e3-f440-14ac36d39757"
   },
   "outputs": [],
   "source": [
    "# Вывод гистограммы столбца\n",
    "data['rooms'].hist(bins=19)"
   ]
  },
  {
   "cell_type": "code",
   "execution_count": null,
   "metadata": {
    "colab": {
     "base_uri": "https://localhost:8080/",
     "height": 447
    },
    "id": "VPw_lYBtspOq",
    "outputId": "2c18adfd-3763-4258-bcdf-a8c83ffde16c"
   },
   "outputs": [],
   "source": [
    "# Вывод гистограммы основной части данных столбца\n",
    "data.query('rooms <= 7')['rooms'].hist(bins=7)"
   ]
  },
  {
   "cell_type": "code",
   "execution_count": null,
   "metadata": {
    "colab": {
     "base_uri": "https://localhost:8080/",
     "height": 447
    },
    "id": "rgBB5izRspOr",
    "outputId": "f403908e-e51d-4d0e-9145-371dfbc95678"
   },
   "outputs": [],
   "source": [
    "# Вывод гистограммы \"хвоста\" данных столбца\n",
    "data.query('rooms > 7')['rooms'].hist(bins=12)"
   ]
  },
  {
   "cell_type": "markdown",
   "metadata": {
    "id": "0gzLkZ0UieiG"
   },
   "source": [
    "Основную долю объявлений составляют одно- и двухкомнатные квартиры. Трехкомнатных квартир  меньше. Четырехкомнатных квартир тоже немало - чуть более 1000 объявлений. Остальные квартиры представлены крайне редко."
   ]
  },
  {
   "cell_type": "markdown",
   "metadata": {
    "id": "hHVtebCxspOt"
   },
   "source": [
    "#### Изучение столбца ceiling_height"
   ]
  },
  {
   "cell_type": "code",
   "execution_count": null,
   "metadata": {
    "colab": {
     "base_uri": "https://localhost:8080/"
    },
    "id": "StFoQtlGspOu",
    "outputId": "7788813b-2f0c-4b10-d32b-dbae84162175"
   },
   "outputs": [],
   "source": [
    "# Вывод основных статистических параметров столбца\n",
    "data['ceiling_height'].describe()"
   ]
  },
  {
   "cell_type": "code",
   "execution_count": null,
   "metadata": {
    "colab": {
     "base_uri": "https://localhost:8080/",
     "height": 447
    },
    "id": "DVJOW_nBspOw",
    "outputId": "c71b46d4-4d83-45b1-c5dc-6171308d5f3a"
   },
   "outputs": [],
   "source": [
    "# Вывод гистограммы столбца\n",
    "data['ceiling_height'].hist(bins=60)"
   ]
  },
  {
   "cell_type": "code",
   "execution_count": null,
   "metadata": {
    "colab": {
     "base_uri": "https://localhost:8080/",
     "height": 447
    },
    "id": "eYzIjBmmspOw",
    "outputId": "cfcf21fa-fea7-45b3-fdf9-e9d3f3cf215a"
   },
   "outputs": [],
   "source": [
    "# Вывод гистограммы основной части данных столбца\n",
    "data.query('ceiling_height <= 3.5')['ceiling_height'].hist(bins=35)"
   ]
  },
  {
   "cell_type": "code",
   "execution_count": null,
   "metadata": {
    "colab": {
     "base_uri": "https://localhost:8080/",
     "height": 447
    },
    "id": "VL1SnJ93spOx",
    "outputId": "ccd97263-341f-4067-fee4-68b14d71ac77"
   },
   "outputs": [],
   "source": [
    "# Вывод гистограммы \"хвоста\" данных столбца\n",
    "data.query('ceiling_height > 3.5')['ceiling_height'].hist(bins=25)"
   ]
  },
  {
   "cell_type": "markdown",
   "metadata": {
    "id": "5tTHDZLYjzpq"
   },
   "source": [
    "В основном высота потолков составляет от 2,4 до 2,8 метра."
   ]
  },
  {
   "cell_type": "markdown",
   "metadata": {
    "id": "MRjqMSc2lzqu"
   },
   "source": [
    "#### Изучение столбца floor"
   ]
  },
  {
   "cell_type": "code",
   "execution_count": null,
   "metadata": {
    "colab": {
     "base_uri": "https://localhost:8080/"
    },
    "id": "7e--akiDmERH",
    "outputId": "e03d7992-c7b9-4755-d003-906feb928b12"
   },
   "outputs": [],
   "source": [
    "data['floor_'].describe()"
   ]
  },
  {
   "cell_type": "code",
   "execution_count": null,
   "metadata": {
    "colab": {
     "base_uri": "https://localhost:8080/",
     "height": 535
    },
    "id": "e97xIBkHmQ0L",
    "outputId": "f2158933-e9ef-4833-94c2-b0fce4f05082"
   },
   "outputs": [],
   "source": [
    "data.hist('floor_', bins=40, figsize=(12,6))"
   ]
  },
  {
   "cell_type": "markdown",
   "metadata": {
    "id": "jHMxwJt2mvqg"
   },
   "source": [
    " Квартиры, указанные в объявлениях, в основном находятся на этажах с 1 по 5. Предположительно это связано с тем, что много объявлений о продаже квартир выставлено в пятиэтажных домах. Понятно, что в домах с большей этажностью квартиры тоже продаются на этажах с 1 по 5."
   ]
  },
  {
   "cell_type": "markdown",
   "metadata": {
    "id": "O-gLvYUTlsXT"
   },
   "source": [
    "#### Изучение столбца floors_total"
   ]
  },
  {
   "cell_type": "code",
   "execution_count": null,
   "metadata": {
    "colab": {
     "base_uri": "https://localhost:8080/"
    },
    "id": "WGPtzSa4lHJ-",
    "outputId": "f71ae1a9-6a50-4367-ded0-5b1736536b82"
   },
   "outputs": [],
   "source": [
    "data['floors_total'].describe()"
   ]
  },
  {
   "cell_type": "code",
   "execution_count": null,
   "metadata": {
    "colab": {
     "base_uri": "https://localhost:8080/",
     "height": 1000
    },
    "id": "WbLECPjkmgCT",
    "outputId": "837ca3c0-421e-4b41-c5f6-3d7677cf9785"
   },
   "outputs": [],
   "source": [
    "data.hist('floors_total',bins=50, range=(0,16), figsize=(12,6))\n",
    "data.hist('floors_total',bins=50, range=(16,60), figsize=(12,6))"
   ]
  },
  {
   "cell_type": "markdown",
   "metadata": {
    "id": "OYSzoBvinEl_"
   },
   "source": [
    "Пятиэтажных домов действительно гораздо больше в объявлениях, чем всех остальных - практически 6000. Далее следуют девятиэтажные дома - их примерно 3800. Остальные дома представлены менее широко."
   ]
  },
  {
   "cell_type": "markdown",
   "metadata": {
    "id": "F2QEVqnqnkG3"
   },
   "source": [
    "#### Изучение столбца cityCenters_nearest"
   ]
  },
  {
   "cell_type": "code",
   "execution_count": null,
   "metadata": {
    "colab": {
     "base_uri": "https://localhost:8080/"
    },
    "id": "iG7qhU0sn98t",
    "outputId": "e67c7cdd-a158-436b-ce67-828852e0e313"
   },
   "outputs": [],
   "source": [
    "data['city_сenters_nearest'].describe()"
   ]
  },
  {
   "cell_type": "code",
   "execution_count": null,
   "metadata": {
    "colab": {
     "base_uri": "https://localhost:8080/",
     "height": 535
    },
    "id": "JbNTJ55loHSj",
    "outputId": "bcc7decf-275d-4101-e223-5ed02f68cf78"
   },
   "outputs": [],
   "source": [
    "data.hist('city_сenters_nearest', bins=50, figsize=(12,6))"
   ]
  },
  {
   "cell_type": "markdown",
   "metadata": {
    "id": "X2ruG6KDonOM"
   },
   "source": [
    "Несколько пиков разной степени выраженности:\n",
    "\n",
    "около 5000 метров;\n",
    "от 11000 до 16000 метров;\n",
    "около 30000 метров;\n",
    "около 50000 метров.\n",
    "Первый пик может быть вызван тем, что много объявлений размещено в небольших городах, где расстояние до центра города будет невелико.\n",
    "\n",
    "Второй пик типичен для крупных городов (в нашем случае - Санкт-Петербург). Здесь основные продажи приходятся на квартиры, которые расположены не на очень большом расстоянии до центра города.\n",
    "\n",
    "Третий и четвертый пики типичны также для больших городов (это типичные спальные районы, расположенные на очень большом расстоянии до центра города)."
   ]
  },
  {
   "cell_type": "markdown",
   "metadata": {
    "id": "pXmU1PAUpl8m"
   },
   "source": [
    "#### Изучение столбца airports_nearest"
   ]
  },
  {
   "cell_type": "code",
   "execution_count": null,
   "metadata": {
    "colab": {
     "base_uri": "https://localhost:8080/"
    },
    "id": "73E2fKOSpvj1",
    "outputId": "32779eac-df48-46c6-d109-6bb6d2b71b2a"
   },
   "outputs": [],
   "source": [
    "data['airports_nearest'].describe()"
   ]
  },
  {
   "cell_type": "code",
   "execution_count": null,
   "metadata": {
    "colab": {
     "base_uri": "https://localhost:8080/",
     "height": 535
    },
    "id": "cvzs0gSktWNg",
    "outputId": "9e6ecbb3-12b3-4a30-e940-1e10604b2bc5"
   },
   "outputs": [],
   "source": [
    "data.hist('airports_nearest', bins=50, figsize=(12,6))"
   ]
  },
  {
   "cell_type": "markdown",
   "metadata": {
    "id": "zXBmCYPHuKjz"
   },
   "source": [
    "В основном квартиры продаются в домах, расположенных на расстоянии от 11000 до 37000 метров от ближайшего аэропорта. Однако есть пик на 51000 метров. Эта картина адекватно описывает реальное расположение аэропорта вблизи городов. Во-первых, аэропорт должен находиться на адекватном расстоянии от крупного населенного пункта (Санкт-Петербурга). По данным Яндекса, расстояние по прямой от центра Петербурга до аэропорта Пулково - 62 км. Во-вторых, вокруг аэропорта может быть много небольших населенных пунктов, расстояние до которых вполне может быть менее 40 км"
   ]
  },
  {
   "cell_type": "markdown",
   "metadata": {
    "id": "j3OCxywWubyh"
   },
   "source": [
    "#### Изучение столбца parks_nearest"
   ]
  },
  {
   "cell_type": "code",
   "execution_count": null,
   "metadata": {
    "colab": {
     "base_uri": "https://localhost:8080/"
    },
    "id": "c0zAhZoGu55I",
    "outputId": "032c9271-77e4-4f63-f232-e1b2e970ca6f"
   },
   "outputs": [],
   "source": [
    "data['parks_nearest'].describe()"
   ]
  },
  {
   "cell_type": "code",
   "execution_count": null,
   "metadata": {
    "colab": {
     "base_uri": "https://localhost:8080/",
     "height": 539
    },
    "id": "otYjLQPNus7S",
    "outputId": "cfb0a99c-22d2-4d26-e6ac-dafb56533339"
   },
   "outputs": [],
   "source": [
    "data.hist('parks_nearest', bins=50, figsize=(12,6))"
   ]
  },
  {
   "cell_type": "markdown",
   "metadata": {
    "id": "OKDcdwhux4FT"
   },
   "source": [
    "Ближайшие парки, в основном, расположены в пределах 800 метров от дома."
   ]
  },
  {
   "cell_type": "markdown",
   "metadata": {
    "id": "jbT_udVNyI3k"
   },
   "source": [
    "#### Изучение параметров \"exposition_day_of_week\" и \"exposition_month\"."
   ]
  },
  {
   "cell_type": "code",
   "execution_count": null,
   "metadata": {
    "colab": {
     "base_uri": "https://localhost:8080/",
     "height": 535
    },
    "id": "klPevhPbycys",
    "outputId": "2327466d-105e-4dad-e418-e8d6fde72728"
   },
   "outputs": [],
   "source": [
    "data.hist('exposition_day_of_week', bins=7, figsize=(12,6))"
   ]
  },
  {
   "cell_type": "code",
   "execution_count": null,
   "metadata": {
    "colab": {
     "base_uri": "https://localhost:8080/",
     "height": 535
    },
    "id": "zf8MLARkutdl",
    "outputId": "76253d6a-399b-4072-e7cb-ec8e3eda5f01"
   },
   "outputs": [],
   "source": [
    "data.hist('exposition_month', bins=12, figsize=(12,6))"
   ]
  },
  {
   "cell_type": "markdown",
   "metadata": {
    "id": "ke_m-1Un26c8"
   },
   "source": [
    "В  будние дни размещение обьявлений шло чаще приерно в два раза\n",
    "В январе, мае и декабре размещались реже, чем в другие месяцы (связано с праздниками?). Пик размещений приходится на февраль. Летом объявления размещаются в среднем одинаково, а в сентябре начинается рост, который достигает пика в ноябре."
   ]
  },
  {
   "cell_type": "code",
   "execution_count": null,
   "metadata": {},
   "outputs": [],
   "source": [
    "#функция, определяющая категорию этажа:\n",
    "def floors_category(row):\n",
    "    if row['floor_'] == 1:\n",
    "        return 'первый'\n",
    "    elif row['floor_'] == row['floors_total']:\n",
    "        return 'последний'\n",
    "    else:\n",
    "        return 'другой'\n",
    "\n",
    "#применяем метод apply и функцию floors_category к созданному столбцу floor_group:\n",
    "data['floor_group'] = data.apply(floors_category, axis=1)  \n"
   ]
  },
  {
   "cell_type": "code",
   "execution_count": null,
   "metadata": {},
   "outputs": [],
   "source": [
    "plt.bar(data['floor_group'], data['last_price'])\n",
    "plt.xlabel('Тип этажа')\n",
    "plt.ylabel('Цена')\n",
    "plt.title('Зависимость цены от типа этажа')\n",
    "plt.show()"
   ]
  },
  {
   "cell_type": "markdown",
   "metadata": {
    "id": "JsNHyBv1spOy"
   },
   "source": [
    "### Анализ времени продажи квартиры"
   ]
  },
  {
   "cell_type": "code",
   "execution_count": null,
   "metadata": {
    "colab": {
     "base_uri": "https://localhost:8080/"
    },
    "id": "ii8xV94wspOz",
    "outputId": "6d9688ec-2205-4919-9d9e-68601df9e568"
   },
   "outputs": [],
   "source": [
    "# Вывод основных статистических параметров столбца\n",
    "data['days_exposition'].describe()"
   ]
  },
  {
   "cell_type": "code",
   "execution_count": null,
   "metadata": {
    "colab": {
     "base_uri": "https://localhost:8080/",
     "height": 659
    },
    "id": "VHXHTYB-spO0",
    "outputId": "b38916a9-f8a4-4826-b4a5-dceb51deef13"
   },
   "outputs": [],
   "source": [
    "# Вывод гистограммы столбца\n",
    "data['days_exposition'].hist(bins=160, figsize=(15, 10))"
   ]
  },
  {
   "cell_type": "code",
   "execution_count": null,
   "metadata": {
    "colab": {
     "base_uri": "https://localhost:8080/",
     "height": 664
    },
    "id": "EXfwGMDBspO0",
    "outputId": "c84aec00-6ae3-4bba-89a5-05bbd84b6e46"
   },
   "outputs": [],
   "source": [
    "# Вывод гистограммы основной части данных столбца\n",
    "data.query('days_exposition < 200')['days_exposition'].hist(bins=160, figsize=(15, 10))"
   ]
  },
  {
   "cell_type": "code",
   "execution_count": null,
   "metadata": {
    "colab": {
     "base_uri": "https://localhost:8080/",
     "height": 664
    },
    "id": "5JXlBEWkspO1",
    "outputId": "f8d86b77-1bed-4a72-eacd-489cc1f49c03"
   },
   "outputs": [],
   "source": [
    "# Вывод гистограммы для подробного исследования всплесков\n",
    "data.query('days_exposition < 70')['days_exposition'].hist(bins=160, figsize=(15, 10))"
   ]
  },
  {
   "cell_type": "code",
   "execution_count": null,
   "metadata": {
    "colab": {
     "base_uri": "https://localhost:8080/"
    },
    "id": "1Ix_on-jspO3",
    "outputId": "90030ae6-a91e-41df-a7f6-d5c12541e1a8"
   },
   "outputs": [],
   "source": [
    "# Вывод среднего и медианы\n",
    "print('Среднее - {:.1f}'.format(data['days_exposition'].mean()))\n",
    "print('Медиана - {:.0f}'.format(data['days_exposition'].median()))"
   ]
  },
  {
   "cell_type": "code",
   "execution_count": null,
   "metadata": {
    "colab": {
     "base_uri": "https://localhost:8080/",
     "height": 447
    },
    "id": "mlb5LPyKspO4",
    "outputId": "9dca28c9-de3b-428f-9631-318d092699ac"
   },
   "outputs": [],
   "source": [
    "# Вывод диаграммы размаха столбца\n",
    "data.boxplot(column='days_exposition')"
   ]
  },
  {
   "cell_type": "markdown",
   "metadata": {
    "id": "i4XDxrgq9Vvh"
   },
   "source": [
    "Продажа в среднем занимает 3 месяца, если квартира продалась быстрее,это можно считать быстрой продажей, нелобычно долгая продажа более трёх месяцев"
   ]
  },
  {
   "cell_type": "markdown",
   "metadata": {
    "id": "AyXAPR2EKuqR"
   },
   "source": [
    "# Удаление редких и выбивающихся значений"
   ]
  },
  {
   "cell_type": "code",
   "execution_count": null,
   "metadata": {
    "id": "Y_G-xT8iHTo7"
   },
   "outputs": [],
   "source": [
    "# Функция для получения столбца без аномалий (outliers)\n",
    "# column_name - (String) Название столбца\n",
    "# возвращает - (DataFrame) Датафрейм с удаленными аномалиями\n",
    "def delete_outliers(column_name):\n",
    "    iqr = 1.5 * (data[column_name].quantile(.75) - data[column_name].quantile(.25))\n",
    "\n",
    "    maximum = data[column_name].quantile(.75) + iqr\n",
    "    minimum = data[column_name].quantile(.25) - iqr\n",
    "\n",
    "    return data[(minimum <= data[column_name]) & (data[column_name] <= maximum)][column_name]"
   ]
  },
  {
   "cell_type": "code",
   "execution_count": null,
   "metadata": {
    "id": "QHgf-cXPHVic"
   },
   "outputs": [],
   "source": [
    "def count_outliers(column_name):\n",
    "    iqr = 1.5 * (data[column_name].quantile(.75) - data[column_name].quantile(.25))\n",
    "\n",
    "    maximum = data[column_name].quantile(.75) + iqr\n",
    "    print('Максимум -', maximum)\n",
    "\n",
    "    minimum = data[column_name].quantile(.25) - iqr\n",
    "    print('Минимум -', minimum)\n",
    "\n",
    "    outliers = len(data.query(column_name + ' < @minimum or ' + column_name + ' > @maximum'))\n",
    "\n",
    "    print('Количество аутлаеров - {} ({:.2%})'.format(outliers, outliers / len(data.query('~' + column_name + '.isnull()'))))"
   ]
  },
  {
   "cell_type": "markdown",
   "metadata": {
    "id": "tRCUeMJxKAG5"
   },
   "source": [
    "#### Столбец total_images"
   ]
  },
  {
   "cell_type": "code",
   "execution_count": null,
   "metadata": {
    "colab": {
     "base_uri": "https://localhost:8080/"
    },
    "id": "rJ7AhGyYHso_",
    "outputId": "5427d4a3-8dfe-4e0c-bed1-10a0b7323671"
   },
   "outputs": [],
   "source": [
    "# Вывод основных статистических параметров столбца\n",
    "data['total_images'].describe()"
   ]
  },
  {
   "cell_type": "code",
   "execution_count": null,
   "metadata": {
    "colab": {
     "base_uri": "https://localhost:8080/",
     "height": 447
    },
    "id": "zTmReGW2HxDJ",
    "outputId": "6c1e537a-28c8-4290-de0f-0f0025d3b29e"
   },
   "outputs": [],
   "source": [
    "# Визуальная оценка распределения данных\n",
    "data['total_images'].hist(bins=50)"
   ]
  },
  {
   "cell_type": "code",
   "execution_count": null,
   "metadata": {
    "colab": {
     "base_uri": "https://localhost:8080/",
     "height": 447
    },
    "id": "bWMtfeEmH13f",
    "outputId": "ba654ea1-782a-4696-a99f-a68a52c13ba0"
   },
   "outputs": [],
   "source": [
    "# Визуальная проверка наличия аномалий\n",
    "data.boxplot(column='total_images')"
   ]
  },
  {
   "cell_type": "code",
   "execution_count": null,
   "metadata": {
    "colab": {
     "base_uri": "https://localhost:8080/",
     "height": 390
    },
    "id": "skyTdYXrH1oN",
    "outputId": "99cbda54-7628-43c0-e4dc-0b516b144f53"
   },
   "outputs": [],
   "source": [
    "# Оценка количества аутлаеров\n",
    "count_outliers('total_images')"
   ]
  },
  {
   "cell_type": "code",
   "execution_count": null,
   "metadata": {
    "colab": {
     "base_uri": "https://localhost:8080/"
    },
    "id": "TCPhsLQPH1RL",
    "outputId": "eaeadb58-e659-4c36-a78a-6566bd0471d5"
   },
   "outputs": [],
   "source": [
    "delete_outliers('total_images')"
   ]
  },
  {
   "cell_type": "markdown",
   "metadata": {
    "id": "PQjvdyV_IKQr"
   },
   "source": [
    "#### Столбец last_price"
   ]
  },
  {
   "cell_type": "code",
   "execution_count": null,
   "metadata": {
    "colab": {
     "base_uri": "https://localhost:8080/"
    },
    "id": "VREzB9vhIMcT",
    "outputId": "443b1324-e07b-4692-bd81-bc3d09bf7956"
   },
   "outputs": [],
   "source": [
    "# Вывод основных статистических параметров столбца\n",
    "data['last_price'].describe()"
   ]
  },
  {
   "cell_type": "code",
   "execution_count": null,
   "metadata": {
    "colab": {
     "base_uri": "https://localhost:8080/",
     "height": 465
    },
    "id": "XYpeQFC2INH4",
    "outputId": "65b0a701-99b3-4af8-c9f6-761a71111e93"
   },
   "outputs": [],
   "source": [
    "# Визуальная оценка распределения данных\n",
    "data['last_price'].hist(bins=800)"
   ]
  },
  {
   "cell_type": "code",
   "execution_count": null,
   "metadata": {
    "colab": {
     "base_uri": "https://localhost:8080/",
     "height": 462
    },
    "id": "ZQQU4Kz7H1EH",
    "outputId": "ce8e6962-2b13-4902-d014-38a9c0104211"
   },
   "outputs": [],
   "source": [
    "# Визуальная проверка наличия аномалий\n",
    "data.boxplot(column='last_price')"
   ]
  },
  {
   "cell_type": "code",
   "execution_count": null,
   "metadata": {
    "colab": {
     "base_uri": "https://localhost:8080/",
     "height": 390
    },
    "id": "7t2r909tH03o",
    "outputId": "5c0ac372-6901-4869-c7ea-dd509e4219db"
   },
   "outputs": [],
   "source": [
    "# Оценка количества аутлаеров\n",
    "count_outliers('last_price')"
   ]
  },
  {
   "cell_type": "markdown",
   "metadata": {
    "id": "pJa4JShrIihH"
   },
   "source": [
    "#### Столбец total_area"
   ]
  },
  {
   "cell_type": "code",
   "execution_count": null,
   "metadata": {
    "colab": {
     "base_uri": "https://localhost:8080/"
    },
    "id": "BR8QHUe0H0mb",
    "outputId": "eb976eee-50c1-4b07-d2c4-9577dc1b1baf"
   },
   "outputs": [],
   "source": [
    "# Вывод основных статистических параметров столбца\n",
    "data['total_area'].describe()"
   ]
  },
  {
   "cell_type": "code",
   "execution_count": null,
   "metadata": {
    "colab": {
     "base_uri": "https://localhost:8080/",
     "height": 448
    },
    "id": "yVjCNL8YH0Oa",
    "outputId": "aa8effef-81bd-4894-d992-7cf2a1569572"
   },
   "outputs": [],
   "source": [
    "# Визуальная оценка распределения данных\n",
    "data['total_area'].hist(bins=900)"
   ]
  },
  {
   "cell_type": "code",
   "execution_count": null,
   "metadata": {
    "colab": {
     "base_uri": "https://localhost:8080/",
     "height": 447
    },
    "id": "MywqlTmRIwsR",
    "outputId": "711cf796-9e73-413a-d028-67da71d6c821"
   },
   "outputs": [],
   "source": [
    "# Визуальная проверка наличия аномалий\n",
    "data.boxplot(column='total_area')"
   ]
  },
  {
   "cell_type": "code",
   "execution_count": null,
   "metadata": {
    "colab": {
     "base_uri": "https://localhost:8080/",
     "height": 390
    },
    "id": "RWF14HT0Iwbk",
    "outputId": "dc008858-cdc1-4327-888e-fe157b8ddbe5"
   },
   "outputs": [],
   "source": [
    "# Оценка количества аутлаеров\n",
    "count_outliers('total_area')"
   ]
  },
  {
   "cell_type": "markdown",
   "metadata": {
    "id": "_brN5Ti6I30S"
   },
   "source": [
    "#### Столбец rooms"
   ]
  },
  {
   "cell_type": "code",
   "execution_count": null,
   "metadata": {
    "colab": {
     "base_uri": "https://localhost:8080/"
    },
    "id": "ysJVmnkAIwIk",
    "outputId": "43a03335-e40d-451e-da6e-4f13229cf670"
   },
   "outputs": [],
   "source": [
    "# Вывод основных статистических параметров столбца\n",
    "data['rooms'].describe()"
   ]
  },
  {
   "cell_type": "code",
   "execution_count": null,
   "metadata": {
    "colab": {
     "base_uri": "https://localhost:8080/",
     "height": 447
    },
    "id": "kMu3HTjOIv2w",
    "outputId": "8b0291cb-d43d-4b0d-c08e-a6b6336a747e"
   },
   "outputs": [],
   "source": [
    "# Визуальная оценка распределения данных\n",
    "data['rooms'].hist(bins=19)"
   ]
  },
  {
   "cell_type": "code",
   "execution_count": null,
   "metadata": {
    "colab": {
     "base_uri": "https://localhost:8080/",
     "height": 447
    },
    "id": "lS5FghwdIvhs",
    "outputId": "3de77754-2363-4b69-f6fa-31605c729a0b"
   },
   "outputs": [],
   "source": [
    "# Визуальная проверка наличия аномалий\n",
    "data.boxplot(column='rooms')"
   ]
  },
  {
   "cell_type": "code",
   "execution_count": null,
   "metadata": {
    "colab": {
     "base_uri": "https://localhost:8080/",
     "height": 390
    },
    "id": "r8npOmO6IvL-",
    "outputId": "939b3b71-8e92-451b-a2cc-2083ebcec8a3"
   },
   "outputs": [],
   "source": [
    "# Оценка количества аутлаеров\n",
    "count_outliers('rooms')"
   ]
  },
  {
   "cell_type": "code",
   "execution_count": null,
   "metadata": {
    "colab": {
     "base_uri": "https://localhost:8080/",
     "height": 447
    },
    "id": "p3banqS2Iu3S",
    "outputId": "6add14ec-38c7-49ac-dd06-bae75927bad9"
   },
   "outputs": [],
   "source": [
    "# Удаление аутлаеров\n",
    "data['rooms'] = delete_outliers('rooms')\n",
    "\n",
    "# Проверка результатов удаления\n",
    "data['rooms'].hist(bins=6)"
   ]
  },
  {
   "cell_type": "markdown",
   "metadata": {
    "id": "fTTESZSYJLCE"
   },
   "source": [
    "#### Столбец ceiling_height"
   ]
  },
  {
   "cell_type": "code",
   "execution_count": null,
   "metadata": {
    "colab": {
     "base_uri": "https://localhost:8080/"
    },
    "id": "kDP8yw19IueN",
    "outputId": "e2818b2f-da6a-4320-a6a6-0bfb0c73d9ec"
   },
   "outputs": [],
   "source": [
    "# Вывод основных статистических параметров столбца\n",
    "data['ceiling_height'].describe()"
   ]
  },
  {
   "cell_type": "code",
   "execution_count": null,
   "metadata": {
    "colab": {
     "base_uri": "https://localhost:8080/",
     "height": 447
    },
    "id": "1oq-gJpTIuGb",
    "outputId": "f09ade8c-a83f-449b-b2ff-55641a6f71ba"
   },
   "outputs": [],
   "source": [
    "# Визуальная оценка распределения данных\n",
    "data['ceiling_height'].hist(bins=6)"
   ]
  },
  {
   "cell_type": "code",
   "execution_count": null,
   "metadata": {
    "colab": {
     "base_uri": "https://localhost:8080/",
     "height": 447
    },
    "id": "e-i-5bg6Is82",
    "outputId": "5b3d6df6-a000-4ed8-f819-2e3809f560fb"
   },
   "outputs": [],
   "source": [
    "# Визуальная проверка наличия аномалий\n",
    "data.boxplot(column='ceiling_height')"
   ]
  },
  {
   "cell_type": "code",
   "execution_count": null,
   "metadata": {
    "colab": {
     "base_uri": "https://localhost:8080/",
     "height": 390
    },
    "id": "TY1vziByIsWx",
    "outputId": "06886c50-16bc-4ec3-e195-45476753f5c8"
   },
   "outputs": [],
   "source": [
    "# Оценка количества аутлаеров\n",
    "count_outliers('ceiling_height')"
   ]
  },
  {
   "cell_type": "markdown",
   "metadata": {
    "id": "WSnfwWUnJeWg"
   },
   "source": [
    "#### Столбец floors_total"
   ]
  },
  {
   "cell_type": "code",
   "execution_count": null,
   "metadata": {
    "colab": {
     "base_uri": "https://localhost:8080/"
    },
    "id": "eqauUawVJf2U",
    "outputId": "8be7058c-8d2d-4375-f015-3cd11526049a"
   },
   "outputs": [],
   "source": [
    "# Вывод основных статистических параметров столбца\n",
    "data['floors_total'].describe()"
   ]
  },
  {
   "cell_type": "code",
   "execution_count": null,
   "metadata": {
    "colab": {
     "base_uri": "https://localhost:8080/",
     "height": 447
    },
    "id": "K5S9l3fcJjOn",
    "outputId": "177cdbb1-f73c-4dad-f67c-72dcb94b4a13"
   },
   "outputs": [],
   "source": [
    "# Визуальная оценка распределения данных\n",
    "data['floors_total'].hist(bins=60)"
   ]
  },
  {
   "cell_type": "code",
   "execution_count": null,
   "metadata": {
    "colab": {
     "base_uri": "https://localhost:8080/",
     "height": 447
    },
    "id": "bPNGaRK2Ji7o",
    "outputId": "8794a97f-4e15-4491-df75-7e8461fd1c75"
   },
   "outputs": [],
   "source": [
    "# Визуальная проверка наличия аномалий\n",
    "data.boxplot(column='floors_total')"
   ]
  },
  {
   "cell_type": "code",
   "execution_count": null,
   "metadata": {
    "colab": {
     "base_uri": "https://localhost:8080/",
     "height": 390
    },
    "id": "oFaRSXqtJimI",
    "outputId": "f551dd22-aca7-4d7e-98d7-4d81fc2a2952"
   },
   "outputs": [],
   "source": [
    "# Оценка количества аутлаеров\n",
    "count_outliers('floors_total')"
   ]
  },
  {
   "cell_type": "code",
   "execution_count": null,
   "metadata": {
    "colab": {
     "base_uri": "https://localhost:8080/",
     "height": 447
    },
    "id": "Wlj0dufvJiSt",
    "outputId": "a4cd1bbc-0909-406e-ba30-0e8a5e403751"
   },
   "outputs": [],
   "source": [
    "# Удаление аутлаеров\n",
    "data['floors_total'] = delete_outliers('floors_total')\n",
    "\n",
    "# Проверка результатов удаления\n",
    "data['floors_total'].hist(bins=30)"
   ]
  },
  {
   "cell_type": "markdown",
   "metadata": {
    "id": "E9jZOFf2Jy5q"
   },
   "source": [
    "#### Столбец living_area"
   ]
  },
  {
   "cell_type": "code",
   "execution_count": null,
   "metadata": {
    "colab": {
     "base_uri": "https://localhost:8080/"
    },
    "id": "ddqu1Ca_Jh_Y",
    "outputId": "db1ae154-08da-42fa-8bd1-8deda8e2a809"
   },
   "outputs": [],
   "source": [
    "# Вывод основных статистических параметров столбца\n",
    "data['living_area'].describe()"
   ]
  },
  {
   "cell_type": "code",
   "execution_count": null,
   "metadata": {
    "colab": {
     "base_uri": "https://localhost:8080/",
     "height": 447
    },
    "id": "YKYr__4HJhpT",
    "outputId": "5ffa8854-489b-4837-b9d0-0884ce705f34"
   },
   "outputs": [],
   "source": [
    "# Визуальная оценка распределения данных\n",
    "data['living_area'].hist(bins=409)"
   ]
  },
  {
   "cell_type": "code",
   "execution_count": null,
   "metadata": {
    "colab": {
     "base_uri": "https://localhost:8080/",
     "height": 447
    },
    "id": "JmqNoW-hJhOj",
    "outputId": "61f6e33e-a2e3-493f-cef1-c2393427a0f7"
   },
   "outputs": [],
   "source": [
    "# Визуальная проверка наличия аномалий\n",
    "data.boxplot(column='living_area')"
   ]
  },
  {
   "cell_type": "code",
   "execution_count": null,
   "metadata": {
    "colab": {
     "base_uri": "https://localhost:8080/",
     "height": 390
    },
    "id": "g3M4mpQTJg7Q",
    "outputId": "0144d10a-9ccf-4190-a2b0-816e2376a207"
   },
   "outputs": [],
   "source": [
    "# Оценка количества аутлаеров\n",
    "count_outliers('living_area')"
   ]
  },
  {
   "cell_type": "markdown",
   "metadata": {
    "id": "spK6gah0LPLR"
   },
   "source": [
    "#### Столбец kitchen_area\n"
   ]
  },
  {
   "cell_type": "code",
   "execution_count": null,
   "metadata": {
    "colab": {
     "base_uri": "https://localhost:8080/"
    },
    "id": "4errg5YrJgne",
    "outputId": "a35570ca-5d0b-4183-eecd-b099f4361f8c"
   },
   "outputs": [],
   "source": [
    "# Вывод основных статистических параметров столбца\n",
    "data['kitchen_area'].describe()"
   ]
  },
  {
   "cell_type": "code",
   "execution_count": null,
   "metadata": {
    "colab": {
     "base_uri": "https://localhost:8080/",
     "height": 448
    },
    "id": "pqN3ooiQJgQh",
    "outputId": "21edda6c-bdc9-4282-92a9-246c9bbf671d"
   },
   "outputs": [],
   "source": [
    "# Визуальная оценка распределения данных\n",
    "data['kitchen_area'].hist(bins=112)"
   ]
  },
  {
   "cell_type": "code",
   "execution_count": null,
   "metadata": {
    "colab": {
     "base_uri": "https://localhost:8080/",
     "height": 447
    },
    "id": "V8iA0tFkIr9n",
    "outputId": "f259b0e9-6564-4b9e-8677-6e5bbff8aef4"
   },
   "outputs": [],
   "source": [
    "# Визуальная проверка наличия аномалий\n",
    "data.boxplot(column='kitchen_area')"
   ]
  },
  {
   "cell_type": "code",
   "execution_count": null,
   "metadata": {
    "colab": {
     "base_uri": "https://localhost:8080/",
     "height": 390
    },
    "id": "C4Co0Au8Lg2h",
    "outputId": "33757125-a97a-4dea-a5d6-d7a4602479bf"
   },
   "outputs": [],
   "source": [
    "# Оценка количества аутлаеров\n",
    "count_outliers('kitchen_area')"
   ]
  },
  {
   "cell_type": "markdown",
   "metadata": {
    "id": "gnq-we2oLjtJ"
   },
   "source": [
    "#### Столбец balcony"
   ]
  },
  {
   "cell_type": "code",
   "execution_count": null,
   "metadata": {
    "colab": {
     "base_uri": "https://localhost:8080/"
    },
    "id": "54U8Y41_Lgg4",
    "outputId": "0b0d10ce-33ab-4e6c-c18d-fc86ea9597ed"
   },
   "outputs": [],
   "source": [
    "# Вывод основных статистических параметров столбца\n",
    "data['balcony'].describe()"
   ]
  },
  {
   "cell_type": "code",
   "execution_count": null,
   "metadata": {
    "colab": {
     "base_uri": "https://localhost:8080/",
     "height": 447
    },
    "id": "mBP5w-i1LgRX",
    "outputId": "328043bf-9ac8-427e-dcad-55c4143646cd"
   },
   "outputs": [],
   "source": [
    "# Визуальная оценка распределения данных\n",
    "data['balcony'].hist(bins=5)"
   ]
  },
  {
   "cell_type": "code",
   "execution_count": null,
   "metadata": {
    "colab": {
     "base_uri": "https://localhost:8080/",
     "height": 447
    },
    "id": "hjEMWRm8Lf5v",
    "outputId": "9cf3486b-a1fb-4062-c448-249685fa2bfc"
   },
   "outputs": [],
   "source": [
    "# Визуальная проверка наличия аномалий\n",
    "data.boxplot(column='balcony')"
   ]
  },
  {
   "cell_type": "code",
   "execution_count": null,
   "metadata": {
    "colab": {
     "base_uri": "https://localhost:8080/",
     "height": 390
    },
    "id": "MPRYVKqYLfkl",
    "outputId": "64223793-d392-4773-c3ab-614266f563f1"
   },
   "outputs": [],
   "source": [
    "# Оценка количества аутлаеров\n",
    "count_outliers('balcony')"
   ]
  },
  {
   "cell_type": "markdown",
   "metadata": {
    "id": "ODYWVS17L0ll"
   },
   "source": [
    "#### Столбец airports_nearest"
   ]
  },
  {
   "cell_type": "code",
   "execution_count": null,
   "metadata": {
    "colab": {
     "base_uri": "https://localhost:8080/"
    },
    "id": "H9AnLWRmLfQg",
    "outputId": "d6d94f69-3cd0-43a4-995d-33197168d836"
   },
   "outputs": [],
   "source": [
    "# Вывод основных статистических параметров столбца\n",
    "data['airports_nearest'].describe()"
   ]
  },
  {
   "cell_type": "code",
   "execution_count": null,
   "metadata": {
    "colab": {
     "base_uri": "https://localhost:8080/",
     "height": 448
    },
    "id": "DVrpIQ2JLe5M",
    "outputId": "6a352d61-3c6c-41e2-e908-c87903fa8a8c"
   },
   "outputs": [],
   "source": [
    "# Визуальная оценка распределения данных\n",
    "data['airports_nearest'].hist(bins=800)"
   ]
  },
  {
   "cell_type": "code",
   "execution_count": null,
   "metadata": {
    "colab": {
     "base_uri": "https://localhost:8080/",
     "height": 447
    },
    "id": "cnLQkpWYLeiS",
    "outputId": "712251c9-3b1a-4e50-fa69-4c717bd13c53"
   },
   "outputs": [],
   "source": [
    "# Визуальная проверка наличия аномалий\n",
    "data.boxplot(column='airports_nearest')"
   ]
  },
  {
   "cell_type": "code",
   "execution_count": null,
   "metadata": {
    "colab": {
     "base_uri": "https://localhost:8080/",
     "height": 390
    },
    "id": "jW-RXo_-LeQf",
    "outputId": "a24fc0c1-c639-4262-e311-a54a37a001f0"
   },
   "outputs": [],
   "source": [
    "# Оценка количества аутлаеров\n",
    "count_outliers('airports_nearest')"
   ]
  },
  {
   "cell_type": "code",
   "execution_count": null,
   "metadata": {
    "colab": {
     "base_uri": "https://localhost:8080/",
     "height": 447
    },
    "id": "MzA16FvYLd4u",
    "outputId": "81878c63-abfc-4484-f888-6f94a480337f"
   },
   "outputs": [],
   "source": [
    "# Удаление аутлаеров\n",
    "data['airports_nearest'] = delete_outliers('airports_nearest')\n",
    "\n",
    "# Проверка результатов удаления\n",
    "data.query('airports_nearest != -1')['airports_nearest'].hist(bins=650)"
   ]
  },
  {
   "cell_type": "markdown",
   "metadata": {
    "id": "VX73ExlsMIf2"
   },
   "source": [
    "#### Столбец city_сenters_nearest"
   ]
  },
  {
   "cell_type": "code",
   "execution_count": null,
   "metadata": {
    "colab": {
     "base_uri": "https://localhost:8080/"
    },
    "id": "M8OTxTi4MJUV",
    "outputId": "5294209f-863a-4713-922e-1abe06ebdfe4"
   },
   "outputs": [],
   "source": [
    "# Вывод основных статистических параметров столбца\n",
    "data['city_сenters_nearest'].describe()"
   ]
  },
  {
   "cell_type": "code",
   "execution_count": null,
   "metadata": {
    "colab": {
     "base_uri": "https://localhost:8080/",
     "height": 447
    },
    "id": "2ewA79iMMLTe",
    "outputId": "d2435007-6ed4-4ffc-f038-05ffaf2f92c9"
   },
   "outputs": [],
   "source": [
    "# Визуальная оценка распределения данных\n",
    "data['city_сenters_nearest'].hist(bins=800)"
   ]
  },
  {
   "cell_type": "code",
   "execution_count": null,
   "metadata": {
    "colab": {
     "base_uri": "https://localhost:8080/",
     "height": 447
    },
    "id": "OBXktaS-MLDI",
    "outputId": "e137286a-0362-45ad-e3e4-c5e4c4054e14"
   },
   "outputs": [],
   "source": [
    "# Визуальная проверка наличия аномалий\n",
    "data.boxplot(column='city_сenters_nearest')"
   ]
  },
  {
   "cell_type": "code",
   "execution_count": null,
   "metadata": {
    "colab": {
     "base_uri": "https://localhost:8080/",
     "height": 390
    },
    "id": "e4M8UO5qMK1H",
    "outputId": "948fdcee-dac5-45c5-faf2-d938354ba998"
   },
   "outputs": [],
   "source": [
    "# Оценка количества аутлаеров\n",
    "count_outliers('city_сenters_nearest')"
   ]
  },
  {
   "cell_type": "markdown",
   "metadata": {
    "id": "UdmXRbZtMY_K"
   },
   "source": [
    "#### Столбец days_exposition"
   ]
  },
  {
   "cell_type": "code",
   "execution_count": null,
   "metadata": {
    "colab": {
     "base_uri": "https://localhost:8080/"
    },
    "id": "mcUtkHFVMKmm",
    "outputId": "e336c6d9-9894-4671-9bc3-e8c914306dbc"
   },
   "outputs": [],
   "source": [
    "# Вывод основных статистических параметров столбца\n",
    "data['days_exposition'].describe()"
   ]
  },
  {
   "cell_type": "code",
   "execution_count": null,
   "metadata": {
    "colab": {
     "base_uri": "https://localhost:8080/",
     "height": 447
    },
    "id": "qdr4QlH-MKWa",
    "outputId": "906a18e8-a993-4405-87ae-4158d6f66f73"
   },
   "outputs": [],
   "source": [
    "# Визуальная оценка распределения данных\n",
    "data['days_exposition'].hist(bins=1580)"
   ]
  },
  {
   "cell_type": "code",
   "execution_count": null,
   "metadata": {
    "colab": {
     "base_uri": "https://localhost:8080/",
     "height": 447
    },
    "id": "ithdomPwspP1",
    "outputId": "9d7a41b0-da57-49e2-d0e2-599e05187f9e"
   },
   "outputs": [],
   "source": [
    "# Визуальная проверка наличия аномалий\n",
    "data.query('days_exposition != -1').boxplot(column='days_exposition')"
   ]
  },
  {
   "cell_type": "code",
   "execution_count": null,
   "metadata": {
    "colab": {
     "base_uri": "https://localhost:8080/",
     "height": 390
    },
    "id": "iVxp775qspP2",
    "outputId": "57765b6e-d68d-4583-9b42-0d9886c5c740"
   },
   "outputs": [],
   "source": [
    "# Оценка количества аутлаеров\n",
    "count_outliers('days_exposition')"
   ]
  },
  {
   "cell_type": "code",
   "execution_count": null,
   "metadata": {
    "colab": {
     "base_uri": "https://localhost:8080/"
    },
    "id": "Dvvp3V4ispP3",
    "outputId": "b6ca1c94-9a87-4eec-fc3b-a71bbabcd099"
   },
   "outputs": [],
   "source": [
    "# Оценка корреляции столбца с другими\n",
    "data.corr()['days_exposition'].sort_values()"
   ]
  },
  {
   "cell_type": "code",
   "execution_count": null,
   "metadata": {
    "colab": {
     "base_uri": "https://localhost:8080/",
     "height": 467
    },
    "id": "-EQUhavkspP4",
    "outputId": "fcd3ca5e-5fb5-43d0-d9bb-3b22ee41610e"
   },
   "outputs": [],
   "source": [
    "# Оценка степени корреляции длительности размешения объявления и года выставления объявления\n",
    "data.plot(x='days_exposition', y='exposition_year', kind='scatter')"
   ]
  },
  {
   "cell_type": "code",
   "execution_count": null,
   "metadata": {
    "colab": {
     "base_uri": "https://localhost:8080/",
     "height": 468
    },
    "id": "sVYkF5-ZspP4",
    "outputId": "0f8a5e0d-ba8f-4692-9712-fa6cb7c619a0"
   },
   "outputs": [],
   "source": [
    "# Оценка степени корреляции длительности размешения объявления и даты выставления объявления\n",
    "data.plot(x='days_exposition', y='first_day_exposition', kind='scatter')"
   ]
  },
  {
   "cell_type": "markdown",
   "metadata": {
    "id": "sH19qzeOspP5"
   },
   "source": [
    "#### Столбец m2_price"
   ]
  },
  {
   "cell_type": "code",
   "execution_count": null,
   "metadata": {
    "colab": {
     "base_uri": "https://localhost:8080/",
     "height": 162
    },
    "id": "QPRKvO-CEtMV",
    "outputId": "060db939-1600-494c-b4c0-42701ddf2034"
   },
   "outputs": [],
   "source": [
    "data.head(1)"
   ]
  },
  {
   "cell_type": "code",
   "execution_count": null,
   "metadata": {
    "colab": {
     "base_uri": "https://localhost:8080/"
    },
    "id": "9EJGbCq9spP6",
    "outputId": "3fd382de-7c75-4df2-cd4d-47d37ccd0747"
   },
   "outputs": [],
   "source": [
    "# Вывод основных статистических параметров столбца\n",
    "data['m2_price'].describe()"
   ]
  },
  {
   "cell_type": "code",
   "execution_count": null,
   "metadata": {
    "colab": {
     "base_uri": "https://localhost:8080/",
     "height": 465
    },
    "id": "s1ALLnFOspP6",
    "outputId": "6e28f114-f683-4119-a9fb-1541d04f80d6"
   },
   "outputs": [],
   "source": [
    "# Визуальная оценка распределения данных\n",
    "data['m2_price'].hist(bins=200)"
   ]
  },
  {
   "cell_type": "code",
   "execution_count": null,
   "metadata": {
    "colab": {
     "base_uri": "https://localhost:8080/",
     "height": 462
    },
    "id": "vfDaplcUspP7",
    "outputId": "7559741d-1b96-4d99-d8f6-7edc5c4c6e00"
   },
   "outputs": [],
   "source": [
    "# Визуальная проверка наличия аномалий\n",
    "data.boxplot(column='m2_price')"
   ]
  },
  {
   "cell_type": "code",
   "execution_count": null,
   "metadata": {
    "colab": {
     "base_uri": "https://localhost:8080/",
     "height": 390
    },
    "id": "PDvQ1oSyspP7",
    "outputId": "a1df7795-428f-48e5-ce48-8b5c6a18d1e5"
   },
   "outputs": [],
   "source": [
    "# Оценка количества аутлаеров\n",
    "count_outliers('m2_price')"
   ]
  },
  {
   "cell_type": "markdown",
   "metadata": {
    "id": "9CQkeBSmspP8"
   },
   "source": [
    "#### Столбец living_total_area_ratio"
   ]
  },
  {
   "cell_type": "code",
   "execution_count": null,
   "metadata": {
    "colab": {
     "base_uri": "https://localhost:8080/"
    },
    "id": "-XMjZhrJspP9",
    "outputId": "3c0463f2-4f20-479c-fcb6-e4d8b1ef519e"
   },
   "outputs": [],
   "source": [
    "# Вывод основных статистических параметров столбца\n",
    "data['living_total_area_ratio'].describe()"
   ]
  },
  {
   "cell_type": "code",
   "execution_count": null,
   "metadata": {
    "colab": {
     "base_uri": "https://localhost:8080/",
     "height": 447
    },
    "id": "JBLokqZGspP9",
    "outputId": "c307bf17-6883-4bae-c7ff-00bd683b9442"
   },
   "outputs": [],
   "source": [
    "# Визуальная оценка распределения данных\n",
    "data['living_total_area_ratio'].hist(bins=100)"
   ]
  },
  {
   "cell_type": "code",
   "execution_count": null,
   "metadata": {
    "colab": {
     "base_uri": "https://localhost:8080/",
     "height": 447
    },
    "id": "6B8M6F6kspP-",
    "outputId": "658db725-8739-48a1-dee4-16c51bf9b8b3"
   },
   "outputs": [],
   "source": [
    "# Визуальная проверка наличия аномалий\n",
    "data.boxplot(column='living_total_area_ratio')"
   ]
  },
  {
   "cell_type": "code",
   "execution_count": null,
   "metadata": {
    "colab": {
     "base_uri": "https://localhost:8080/",
     "height": 390
    },
    "id": "2DLGtFjlspP_",
    "outputId": "dafe8a12-ac79-4584-ee66-5ffb0adcd27a"
   },
   "outputs": [],
   "source": [
    "# Оценка количества аутлаеров\n",
    "count_outliers('living_total_area_ratio')"
   ]
  },
  {
   "cell_type": "markdown",
   "metadata": {
    "id": "InpVsw9VspQA"
   },
   "source": [
    "#### Столбец kitchen_total_area_ratio"
   ]
  },
  {
   "cell_type": "code",
   "execution_count": null,
   "metadata": {
    "colab": {
     "base_uri": "https://localhost:8080/"
    },
    "id": "pK_YZqZmspQA",
    "outputId": "9a80bb39-e02a-468c-d905-1a5feaea31b9"
   },
   "outputs": [],
   "source": [
    "# Вывод основных статистических параметров столбца\n",
    "data['kitchen_total_area_ratio'].describe()"
   ]
  },
  {
   "cell_type": "code",
   "execution_count": null,
   "metadata": {
    "colab": {
     "base_uri": "https://localhost:8080/",
     "height": 447
    },
    "id": "hzh5k1sbspQB",
    "outputId": "67ff3179-3383-4bd0-8a44-f8e9886d1dcc"
   },
   "outputs": [],
   "source": [
    "# Визуальная оценка распределения данных\n",
    "data['kitchen_total_area_ratio'].hist(bins=100)"
   ]
  },
  {
   "cell_type": "code",
   "execution_count": null,
   "metadata": {
    "colab": {
     "base_uri": "https://localhost:8080/",
     "height": 447
    },
    "id": "2aWlDIPqspQC",
    "outputId": "446a1355-0880-418b-a4a5-91a2a1823148"
   },
   "outputs": [],
   "source": [
    "# Визуальная проверка наличия аномалий\n",
    "data.boxplot(column='kitchen_total_area_ratio')"
   ]
  },
  {
   "cell_type": "code",
   "execution_count": null,
   "metadata": {
    "colab": {
     "base_uri": "https://localhost:8080/",
     "height": 390
    },
    "id": "TKUEWeO5spQC",
    "outputId": "2a34db53-ef10-4890-e722-24586f3739f1"
   },
   "outputs": [],
   "source": [
    "# Оценка количества аутлаеров\n",
    "count_outliers('kitchen_total_area_ratio')"
   ]
  },
  {
   "cell_type": "markdown",
   "metadata": {
    "id": "WttdMlIXspQE"
   },
   "source": [
    "# Исследование цены квартир"
   ]
  },
  {
   "cell_type": "code",
   "execution_count": null,
   "metadata": {
    "colab": {
     "base_uri": "https://localhost:8080/",
     "height": 396
    },
    "id": "Zcv_U7-LR9oo",
    "outputId": "8a757f87-4afb-4654-c5ec-e8eb5d471c5a"
   },
   "outputs": [],
   "source": [
    "# компактная табличка )\n",
    "data[['last_price', 'total_area', 'living_area', 'kitchen_area', 'rooms', 'floor_', 'exposition_day_of_week', 'exposition_month', 'exposition_year' ]].corr()"
   ]
  },
  {
   "cell_type": "markdown",
   "metadata": {
    "id": "DqueEdX8Wwqn"
   },
   "source": [
    "#### корреляция цена/общая площадь, цена/жилая площадь, цена/площадь кухни"
   ]
  },
  {
   "cell_type": "code",
   "execution_count": null,
   "metadata": {
    "colab": {
     "base_uri": "https://localhost:8080/",
     "height": 0
    },
    "id": "CbDcdYlrspQF",
    "outputId": "d8c2be8c-c9d2-4a01-cb0a-ab0f1d2f015d"
   },
   "outputs": [],
   "source": [
    "# Оценка корреляции цены квартиры с ее общей площадью\n",
    "data.plot(x='total_area', y='last_price', kind='scatter')"
   ]
  },
  {
   "cell_type": "code",
   "execution_count": null,
   "metadata": {
    "colab": {
     "base_uri": "https://localhost:8080/",
     "height": 0
    },
    "id": "frhLInYyjDoi",
    "outputId": "36c9df4d-f817-415f-fc12-025da9823ec0"
   },
   "outputs": [],
   "source": [
    "data.plot(x='living_area', y='last_price', kind='scatter')"
   ]
  },
  {
   "cell_type": "code",
   "execution_count": null,
   "metadata": {
    "colab": {
     "base_uri": "https://localhost:8080/",
     "height": 0
    },
    "id": "ygPClQTWjm7o",
    "outputId": "2cf2e00c-588e-4a01-e56b-df79f35f2eec"
   },
   "outputs": [],
   "source": [
    "data.plot(x='kitchen_area', y='last_price', kind='scatter')"
   ]
  },
  {
   "cell_type": "markdown",
   "metadata": {
    "id": "GD_mayLWj31f"
   },
   "source": [
    "Цены растут с ростом метража квартир, как их общей площади, так и отдельно взятых площадей жилой и кухонной"
   ]
  },
  {
   "cell_type": "markdown",
   "metadata": {
    "id": "gae2vVr0Xi_W"
   },
   "source": [
    "#### корреляция цена/количество комнат"
   ]
  },
  {
   "cell_type": "code",
   "execution_count": null,
   "metadata": {
    "colab": {
     "base_uri": "https://localhost:8080/",
     "height": 0
    },
    "id": "zD3mfhtkspQG",
    "outputId": "2a28dcd6-1624-4f9f-c106-e349d846253c"
   },
   "outputs": [],
   "source": [
    "# Оценка корреляции цены квартиры с количеством комнат в ней\n",
    "data.plot(x='rooms', y='last_price', kind='scatter')"
   ]
  },
  {
   "cell_type": "markdown",
   "metadata": {
    "id": "Gm-sldLWXyFw"
   },
   "source": [
    "#### корреляция цена/тип этажа"
   ]
  },
  {
   "cell_type": "code",
   "execution_count": null,
   "metadata": {
    "colab": {
     "base_uri": "https://localhost:8080/",
     "height": 482
    },
    "id": "DHkFchxqspQH",
    "outputId": "60e46881-9093-43cc-bff7-d0cc966da9b1"
   },
   "outputs": [],
   "source": [
    "# Оценка корреляции цены квартиры с типом ее этажа (первый или последний)\n",
    "data.query('floor_type != \"другой\"').plot(x='floor_type', y='last_price', kind='scatter')"
   ]
  },
  {
   "cell_type": "code",
   "execution_count": null,
   "metadata": {
    "id": "YUZi1qZtspQI"
   },
   "outputs": [],
   "source": [
    "# Определение уникальных типов этажей\n",
    "unique_types = list(data['floor_type'].unique())\n",
    "\n",
    "# Функция для получения цифрового представления типа этажа\n",
    "# type - (string) Тип этажа\n",
    "# возвращает - (string) Цифровое представления типа этажа\n",
    "def get_floot_type_number(type):\n",
    "    return unique_types.index(type)"
   ]
  },
  {
   "cell_type": "code",
   "execution_count": null,
   "metadata": {
    "colab": {
     "base_uri": "https://localhost:8080/"
    },
    "id": "NCyvKVjmspQJ",
    "outputId": "9b396fc4-3b9d-4ef9-8514-eef50f1460f0"
   },
   "outputs": [],
   "source": [
    "# Создание столбца с цифровым представлением типа этажа\n",
    "data['floor_type_number'] = data['floor_type'].apply(get_floot_type_number)\n",
    "\n",
    "# Проверка результатов создания\n",
    "data.groupby('floor_type')['floor_type_number'].value_counts()"
   ]
  },
  {
   "cell_type": "code",
   "execution_count": null,
   "metadata": {
    "colab": {
     "base_uri": "https://localhost:8080/",
     "height": 734
    },
    "id": "LPLNesWIspQJ",
    "outputId": "41c5d481-9c0e-4c8b-9262-cfa9ce677037"
   },
   "outputs": [],
   "source": [
    "# Оценка распределения цены квартиры для двух типов этажей\n",
    "data.query('floor_type_number != 0 and last_price < 0.2e8').plot(x='floor_type_number', y='last_price', kind='hexbin', sharex=False, figsize=(15, 10))"
   ]
  },
  {
   "cell_type": "code",
   "execution_count": null,
   "metadata": {
    "colab": {
     "base_uri": "https://localhost:8080/",
     "height": 162
    },
    "id": "mBV_bYfSP8W1",
    "outputId": "f0628860-70c1-4d31-893a-155309168b52"
   },
   "outputs": [],
   "source": [
    "data.head(1)"
   ]
  },
  {
   "cell_type": "code",
   "execution_count": null,
   "metadata": {
    "colab": {
     "base_uri": "https://localhost:8080/",
     "height": 472
    },
    "id": "UjCEWbFRP25R",
    "outputId": "2ba09622-3020-4c76-9282-faa75cb6a024"
   },
   "outputs": [],
   "source": [
    "mean_prices = data.groupby('floor_type')['last_price'].mean()\n",
    "plt.bar(mean_prices.index, mean_prices.values)\n",
    "\n",
    "plt.xlabel('floor_type')\n",
    "plt.ylabel('mean_prices')\n",
    "plt.title('Средняя цена по типу этажа')\n",
    "\n",
    "plt.show()"
   ]
  },
  {
   "cell_type": "markdown",
   "metadata": {
    "id": "ZbpFliSUSABE"
   },
   "source": [
    "На первых этажах цены ниже"
   ]
  },
  {
   "cell_type": "markdown",
   "metadata": {
    "id": "KmcDVG4dYDoO"
   },
   "source": [
    "#### корреляция цена/удаленность от центра города"
   ]
  },
  {
   "cell_type": "code",
   "execution_count": null,
   "metadata": {
    "colab": {
     "base_uri": "https://localhost:8080/",
     "height": 690
    },
    "id": "CvywEixdspQJ",
    "outputId": "66dd4419-3187-4457-c8ef-63a37447754c"
   },
   "outputs": [],
   "source": [
    "# Оценка корреляции цены квартиры с ее удаленностью от центра\n",
    "data.plot(x='city_сenters_nearest', y='last_price', kind='scatter', figsize=(15, 10))"
   ]
  },
  {
   "cell_type": "markdown",
   "metadata": {
    "id": "OmDyH1oHYYz9"
   },
   "source": [
    "#### корреляция цена/день недели публикации объявления"
   ]
  },
  {
   "cell_type": "code",
   "execution_count": null,
   "metadata": {
    "colab": {
     "base_uri": "https://localhost:8080/",
     "height": 472
    },
    "id": "y8mIrx5lPc3r",
    "outputId": "c6f7f5a0-a2e1-4780-909f-24d8b7e71536"
   },
   "outputs": [],
   "source": [
    "mean_prices = data.groupby('exposition_day_of_week')['last_price'].mean()\n",
    "plt.bar(mean_prices.index, mean_prices.values)\n",
    "\n",
    "plt.xlabel('exposition_day_of_week')\n",
    "plt.ylabel('mean_prices')\n",
    "plt.title('Средняя цена по дням недели')\n",
    "\n",
    "plt.show()"
   ]
  },
  {
   "cell_type": "markdown",
   "metadata": {
    "id": "fELfXLspYtUR"
   },
   "source": [
    "#### корреляция цена/месяц публикации"
   ]
  },
  {
   "cell_type": "code",
   "execution_count": null,
   "metadata": {
    "colab": {
     "base_uri": "https://localhost:8080/",
     "height": 472
    },
    "id": "4qeI7BRmOPSR",
    "outputId": "89d01ade-cd89-45b4-f147-fcbe92bb54cd"
   },
   "outputs": [],
   "source": [
    "mean_prices = data.groupby('exposition_month')['last_price'].mean()\n",
    "plt.bar(mean_prices.index, mean_prices.values)\n",
    "\n",
    "plt.xlabel('exposition_month')\n",
    "plt.ylabel('mean_prices')\n",
    "plt.title('Средняя цена по месяцам продажи')\n",
    "\n",
    "plt.show()"
   ]
  },
  {
   "cell_type": "markdown",
   "metadata": {
    "id": "xrhCch50PDSq"
   },
   "source": [
    "Распределение равномерное, стоимость была выше в апреле, сентябре и декабре"
   ]
  },
  {
   "cell_type": "markdown",
   "metadata": {
    "id": "y8HN9wAPZJRM"
   },
   "source": [
    "#### корреляция цена/год публикации"
   ]
  },
  {
   "cell_type": "code",
   "execution_count": null,
   "metadata": {
    "colab": {
     "base_uri": "https://localhost:8080/",
     "height": 472
    },
    "id": "1_ZLnNsiMcIe",
    "outputId": "ccc99fec-c6c7-452a-e57c-fdf63b765c68"
   },
   "outputs": [],
   "source": [
    "mean_prices = data.groupby('exposition_year')['last_price'].mean()\n",
    "plt.bar(mean_prices.index, mean_prices.values)\n",
    "\n",
    "plt.xlabel('exposition_year')\n",
    "plt.ylabel('mean_prices')\n",
    "plt.title('Средняя цена по годам продажи')\n",
    "\n",
    "plt.show()"
   ]
  },
  {
   "cell_type": "markdown",
   "metadata": {
    "id": "0PTm_IivNxHD"
   },
   "source": [
    "Средняя цена сначала уменьшалась, далее с 2018 года начала подниматься"
   ]
  },
  {
   "cell_type": "code",
   "execution_count": null,
   "metadata": {},
   "outputs": [],
   "source": [
    "#выборка\n",
    "top_10 = data['locality_name'].value_counts().head(10)\n",
    "\n",
    "#сбросим индекс, оставив его столбцом, переименуем столбцы (заранее обозначим столбец, где будет среднее значение 1 кв.м.)\n",
    "top_10 = top_10.reset_index().rename(columns = {'locality_name':'mean','index':'locality_name'})\n",
    "top_10"
   ]
  },
  {
   "cell_type": "code",
   "execution_count": null,
   "metadata": {},
   "outputs": [],
   "source": [
    "#список для сохранения значений средней стоимости 1 кв.м.\n",
    "top_mean = []  \n",
    "\n",
    "#цикл для расчета средних значений стоимости 1 кв.м. городов в топе и добавления \n",
    "#значений в список top_mean :\n",
    "for name in top_10['locality_name']:\n",
    "    top_mean.append(round(data.query('locality_name == @name')['m2_price'].mean()))\n",
    "    \n",
    "#значения списка top_mean внесем в столбец mean датафрейма top_10\n",
    "top_10['mean'] = top_mean\n",
    "display(top_10)"
   ]
  },
  {
   "cell_type": "code",
   "execution_count": null,
   "metadata": {},
   "outputs": [],
   "source": [
    "#города с макимальной и минимальной стоимостью квартиры за м2\n",
    "top_10.query('mean == mean.min() or mean == mean.max()')"
   ]
  },
  {
   "cell_type": "markdown",
   "metadata": {
    "id": "hsjkxHGZspQS"
   },
   "source": [
    "### Центр города и стоимость километра"
   ]
  },
  {
   "cell_type": "code",
   "execution_count": null,
   "metadata": {
    "colab": {
     "base_uri": "https://localhost:8080/",
     "height": 363
    },
    "id": "w8oAha2X-F93",
    "outputId": "db74f41d-7682-43be-d5a3-5fa320639e44"
   },
   "outputs": [],
   "source": [
    "data_center_spb = data.loc[data['locality_name']=='Санкт-Петербург',['last_price', 'city_сenters_nearest']].reset_index(drop=True)\n",
    "data_center_spb.head(10)"
   ]
  },
  {
   "cell_type": "code",
   "execution_count": null,
   "metadata": {
    "colab": {
     "base_uri": "https://localhost:8080/",
     "height": 455
    },
    "id": "-AhPyBJL-4TB",
    "outputId": "4913466d-4dac-4e93-e446-f8aad209f3a7"
   },
   "outputs": [],
   "source": [
    "final_data_spb = data_center_spb.pivot_table(index='city_сenters_nearest', values='last_price', aggfunc='mean')\n",
    "final_data_spb['last_price_mln'] = final_data_spb['last_price']/1000000\n",
    "final_data_spb"
   ]
  },
  {
   "cell_type": "code",
   "execution_count": null,
   "metadata": {
    "colab": {
     "base_uri": "https://localhost:8080/",
     "height": 467
    },
    "id": "PowZ_THD_Wk9",
    "outputId": "04a38e7a-23ac-41f0-f34d-b632da831318"
   },
   "outputs": [],
   "source": [
    "final_data_spb['last_price_mln'].plot(grid=True)"
   ]
  },
  {
   "cell_type": "markdown",
   "metadata": {
    "id": "knHflFIJ_-v0"
   },
   "source": [
    "стоимость обьекта растет по мере приближения его к центру города"
   ]
  },
  {
   "cell_type": "markdown",
   "metadata": {
    "id": "vwpBArU5spQ1"
   },
   "source": [
    "### Выводы (шаг 4)"
   ]
  },
  {
   "cell_type": "markdown",
   "metadata": {
    "id": "XDjvBgVhspQ2",
    "toc-hr-collapsed": true,
    "toc-nb-collapsed": true
   },
   "source": [
    "__Анализ площади, цены, числа комнат и высоты потолков__\n",
    "\n",
    "\n",
    "Столбцы с общей, жилой и площадью кухни имеют практически Пуассоновское распределение. Это нормально, так как ожидаемо, что будет больше всего квартир с маленькой площадью, а с увеличением площади количество квартир будет уменьшатся. На гистограмме жилой площади отчетливо видны одно- и двухкомнатные квартиры, также можно увидеть трехкомнатные. Но гистограммах столбцов с общей площадью и площадью кухни также прослеживаются эти категории, но значительно мне выраженно.\n",
    "\n",
    "Анализ цены квартир показал, что цены имеют практически нормальное распределение в области до 100 млн. и некоторый хвост, который растягивается вплоть до 800 млн. Это ожидаемое, так как существует огромный сегмент обычных квартир и небольшой сегмент элитного жилья. Также была обнаружена аномалия с ценой квартиры 12 тыс., которая явно не соответствует рынку. Аномалия была удалена.\n",
    "\n",
    "Количество комнат имеет практически Пуассоновское распределение. Ожидаемо, что большинство квартир будет иметь от 1 до 3 комнат, а также существование элитного жилья.\n",
    "\n",
    "Высота потолка имеет распределение, напоминающее Пуассоновское, но с выраженными всплесками в области 2.7 м и 3 м. Скорее всего, это объясняется типовой застройкой.\n",
    "\n",
    "__Анализ времени продажи квартиры__\n",
    "\n",
    "Время продажи квартиры имеет практически Пуассоновское распределение. Среднее и медиана равны 157.2 и 74, соответственно. Видно, что их значения очень отличаются. На гистограмме видны всплески около 45, 60 и 90 дней. Возможно, это обусловлено некими ограничениями сервиса, которые снимают объявление через 1.5, 2 или 3 месяца (возможно, в зависимости от тарифа), если его не продлить. Но данную гипотезу необходимо проверять у поставщика данных. Исходя из Пуассоновского распределения данных, достаточно трудно сделать вывод о сроках продажи квартиры, но исходя из диаграммы размах и статистических данных можно утверждать, что:\n",
    "- в среднем квартиры продаются от 1.5 до 8 месяцев, наиболее часто около 3-4 месяцев;\n",
    "- если квартиру удалось продать менее чем за 1.5 месяца - это очень хорошо;\n",
    "- если квартиру не удается продать более года - это необычно долго.\n",
    "\n",
    "__Удаление редких и выбивающихся значений__\n",
    "\n",
    "В столбцах __total_images__, __rooms__, __floors_total__ и __airports_nearest__ были обнаружены выбивающиеся за рамки 1.5IRQ (усы диаграммы размаха) значения. Их доля от общего числа составлял менее 1%, поэтому они были удалены. Скорее всего, это аномалии, но, лучше уточнить данную информацию у поставщика данных.\n",
    "\n",
    "Также подобные значения были обнаружены в столбцах __last_price__, __total_area__, __ceiling_height__, __living_area__, __kitchen_area__, __balcony__, __city_center_nearest__, __days_exposition__, __m2_price__, __living_total_area_ratio__ и __kitchen_total_area_ratio__. Они не были удалены по следующим причинам:\n",
    "- __last_price__, __total_area__, __ceiling_height__, __living_area__, __kitchen_area__, __balcony__, __m2_price__, __kitchen_total_area_ration__ - распределение столбцов не является нормальным, а количество выбивающихся значений в этих столбцах достаточно велико (3-10%). Это объясняются наличием на рынке большого сильно различающихся квартир, которые сами по себе не являются аномалиями и их удаление повлечет потерю качества данных;\n",
    "- __city_center_nearest__ - наличие аномалий объясняется некоторым количеством населенных пунктов удаленных от центра Санкт-Петербурга, которые по сути не являются аномалиями;\n",
    "- __days_exposition__ - аномалии в данных объясняются кризисом 2014 года. Судя по данным, квартиры какое-то время практически не покупали. Со временем ситуация нормализовалась;\n",
    "- __living_total_area_ratio__ - количество аномалий очень мало, а у столбца наблюдается нормальное распределение. Так как усы диаграммы размаха захватывают на все данные нормального распределения, аномалиями признаны нормальные данные.\n",
    "\n",
    "__Исследование цены квартир__\n",
    "\n",
    "Наибольшим образом на цену квартиры влияют ее площадь (в том числе, жилая площадь и площадь кухни - эти значения тесно связаны с общей площадью квартиры) и высота потолков в квартире. При увеличении площади квартиры цена на нее растет, но не прямо пропорционально.\n",
    "\n",
    "От числа комнат в квартире зависит ее максимальная цена - чем больше комнат, тем она выше. Та же ситуация наблюдается с зависимостью от этажа квартиры (первого или последнего) - максимальная цена квартиры на последнем этаже больше.\n",
    "\n",
    "Также наблюдается зависимость, что у квартир более далеких от центра максимальная цена уменьшается.\n",
    "\n",
    "От дня недели и месяца, в которые было подано объявление, цена квартиры не зависит. А из-за кризиса 2014 года максимальная цена на квартиры выросла, начиная с 2015 года.\n",
    "\n",
    "Населенные пункты с наибольшим числом объявлений - Санкт-Петербург, поселок Мурино, поселок Шушары, Всеволожск, Пушкин, Колпино, Гатчина, поселок Парголово, деревня Кудровои и Выборг. Средняя стоимость $м^2$ для каждого из населенных пунктов приведена выше в тетради. Средняя цена $м^2$ для всех этих пунктов - 83 тыс. Наибольшая стоимость $м^2$ в Зеленогорске - 117.5 тыс., наименьшая - в деревне Старополье - 11 тыс.\n",
    "\n",
    "__Определение центра города__\n",
    "\n",
    "По графику зависимости цены от удаленности от центра в Санкт-Петербурге видно, что центром города можно считать площадь, в радиусе 10 км от центра.\n",
    "\n",
    "\n",
    "__Анализ квартир в центре города__\n",
    "\n",
    "В среднем, площадь квартир в центре города на 20 $м^2$ больше, чем у всех квартир. Из гистограммы распределения видно, что с ростом площади квартиры, количество квартир не в центре города стремится к 0. Особенно это проявляется после площади 100 $м^2$.\n",
    "\n",
    "Минимальная цена в центре города значительно выше - 1.8 млн в центре против 430 тыс. в общем. Средняя же цена отличается в 1.78 раз (в центре - 11.7 млн, в общем - 6.6 млн). Из гистограммы распределения видно, что с ростом цены на квартиру, количество квартир не в центре города стремится к 0. Особенно это проявляется для квартир стоимостью более 10 млн.\n",
    "\n",
    "Распределение количества комнат в центре города несколько отличается об общего - в центре города больше трехкомнатных квартир, чем однокомнатных, а в общем - наоборот. Из гистограммы распределения видно, что с ростом цены на квартиру, количество квартир не в центре города стремится к 0 - практически все пятикомнатные и все шестикомнатные квартиры находятся в центре.\n",
    "\n",
    "В среднем, высота потолка в центре не значительно отличается от всех квартир. Распределение квартир с высотой потолка менее 3 м в центре схоже с общим распределением, но начиная с 2.8 м практически все квартиры (кроме 3 м) находятся в центре.\n",
    "\n",
    "Сравнение зависимости цены квартир от различных параметров показало, что разницы между всеми квартирами и квартирами в центре города с этой точки зрения нет."
   ]
  },
  {
   "cell_type": "markdown",
   "metadata": {
    "id": "3eTd4ptnspQ4"
   },
   "source": [
    "## Шаг 5. Общий вывод"
   ]
  },
  {
   "cell_type": "markdown",
   "metadata": {
    "id": "aZtp3rAHspQ4"
   },
   "source": [
    "К основным выводам, которые можно сделать после проведенной работы, можно отнести:\n",
    "- В среднем квартиры продаются от 3-4 месяца, но гистограмма распределения продаж очень растянута и не стоит очень сильно ориентироваться на эту цифру;\n",
    "- Наибольшим образом на цену квартиры влияют ее площадь (в том числе, жилая площадь и площадь кухни) и высота потолков в квартире. При увеличении площади квартиры цена на нее растет, но не прямо пропорционально;\n",
    "- Максимальная цена зависит от количества комнат в квартире и ее удаленности от центра прям и обратно пропорционально, соответственно;\n",
    "- В центре города (радиус около 10 км) цены на квартиры резко увеличиваются;\n",
    "- Характер зависимости цены от различных параметров для квартир в центре и всех квартир не отличается."
   ]
  },
  {
   "cell_type": "markdown",
   "metadata": {
    "id": "BxVKIBwnspQ5"
   },
   "source": [
    "## Чек-лист готовности проекта"
   ]
  },
  {
   "cell_type": "markdown",
   "metadata": {
    "id": "Oo6zodJcspQ5"
   },
   "source": [
    "- [x]  открыт файл\n",
    "- [x]  файл изучен (выведены первые строки, метод info())\n",
    "\n",
    "\n",
    "- [x]  определены пропущенные значения\n",
    "- [x]  заполнены пропущенные значения\n",
    "- [x]  есть пояснение, какие пропущенные значения обнаружены\n",
    "- [x]  изменены типы данных\n",
    "- [x]  есть пояснение, в каких столбцах изменены типы и почему\n",
    "\n",
    "\n",
    "- [x]  посчитано и добавлено в таблицу: цена квадратного метра\n",
    "- [x]  посчитано и добавлено в таблицу: день недели, месяц и год публикации объявления\n",
    "- [x]  посчитано и добавлено в таблицу: этаж квартиры; варианты — первый, последний, другой\n",
    "- [x]  посчитано и добавлено в таблицу: соотношение жилой и общей площади, а также отношение площади кухни к общей\n",
    "\n",
    "\n",
    "- [x]  изучены следующие параметры: площадь, цена, число комнат, высота потолков\n",
    "- [x]  построены гистограммы для каждого параметра\n",
    "- [x]  выполнено задание: \"Изучите время продажи квартиры. Постройте гистограмму. Посчитайте среднее и медиану. Опишите, сколько обычно занимает продажа. Когда можно считать, что продажи прошли очень быстро, а когда необычно долго?\"\n",
    "- [x]  выполнено задание: \"Уберите редкие и выбивающиеся значения. Опишите, какие особенности обнаружили.\"\n",
    "- [x]  выполнено задание: \"Какие факторы больше всего влияют на стоимость квартиры? Изучите, зависит ли цена от квадратного метра, числа комнат, этажа (первого или последнего), удалённости от центра. Также изучите зависимость от даты размещения: дня недели, месяца и года. \"Выберите 10 населённых пунктов с наибольшим числом объявлений. Посчитайте среднюю цену квадратного метра в этих населённых пунктах. Выделите населённые пункты с самой высокой и низкой стоимостью жилья. Эти данные можно найти по имени в столбце '*locality_name'*. \"\n",
    "- [x]  выполнено задание: \"Изучите предложения квартир: для каждой квартиры есть информация о расстоянии до центра. Выделите квартиры в Санкт-Петербурге (*'locality_name'*). Ваша задача — выяснить, какая область входит в центр. Создайте столбец с расстоянием до центра в километрах: округлите до целых значений. После этого посчитайте среднюю цену для каждого километра. Постройте график: он должен показывать, как цена зависит от удалённости от центра. Определите границу, где график сильно меняется — это и будет центральная зона. \"\n",
    "- [x]  выполнено задание: \"Выделите сегмент квартир в центре. Проанализируйте эту территорию и изучите следующие параметры: площадь, цена, число комнат, высота потолков. Также выделите факторы, которые влияют на стоимость квартиры (число комнат, этаж, удалённость от центра, дата размещения объявления). Сделайте выводы. Отличаются ли они от общих выводов по всему городу?\"\n",
    "\n",
    "\n",
    "- [x]  в каждом этапе есть выводы\n",
    "\n",
    "\n",
    "- [x]  есть общий вывод"
   ]
  }
 ],
 "metadata": {
  "ExecuteTimeLog": [
   {
    "duration": 548,
    "start_time": "2023-08-02T11:12:53.501Z"
   },
   {
    "duration": 227,
    "start_time": "2023-08-02T11:12:54.051Z"
   },
   {
    "duration": 12,
    "start_time": "2023-08-02T11:12:54.280Z"
   },
   {
    "duration": 62,
    "start_time": "2023-08-02T11:12:54.294Z"
   },
   {
    "duration": 7,
    "start_time": "2023-08-02T11:12:54.359Z"
   },
   {
    "duration": 9,
    "start_time": "2023-08-02T11:12:54.368Z"
   },
   {
    "duration": 35,
    "start_time": "2023-08-02T11:12:54.379Z"
   },
   {
    "duration": 42,
    "start_time": "2023-08-02T11:12:54.424Z"
   },
   {
    "duration": 12,
    "start_time": "2023-08-02T11:12:54.468Z"
   },
   {
    "duration": 4457,
    "start_time": "2023-08-02T11:12:54.482Z"
   },
   {
    "duration": 0,
    "start_time": "2023-08-02T11:12:58.952Z"
   },
   {
    "duration": 0,
    "start_time": "2023-08-02T11:12:58.953Z"
   },
   {
    "duration": 0,
    "start_time": "2023-08-02T11:12:58.955Z"
   },
   {
    "duration": 0,
    "start_time": "2023-08-02T11:12:58.956Z"
   },
   {
    "duration": 0,
    "start_time": "2023-08-02T11:12:58.957Z"
   },
   {
    "duration": 0,
    "start_time": "2023-08-02T11:12:58.958Z"
   },
   {
    "duration": 0,
    "start_time": "2023-08-02T11:12:58.961Z"
   },
   {
    "duration": 0,
    "start_time": "2023-08-02T11:12:58.962Z"
   },
   {
    "duration": 0,
    "start_time": "2023-08-02T11:12:58.963Z"
   },
   {
    "duration": 0,
    "start_time": "2023-08-02T11:12:58.964Z"
   },
   {
    "duration": 0,
    "start_time": "2023-08-02T11:12:58.965Z"
   },
   {
    "duration": 0,
    "start_time": "2023-08-02T11:12:58.966Z"
   },
   {
    "duration": 0,
    "start_time": "2023-08-02T11:12:58.967Z"
   },
   {
    "duration": 0,
    "start_time": "2023-08-02T11:12:58.968Z"
   },
   {
    "duration": 0,
    "start_time": "2023-08-02T11:12:58.970Z"
   },
   {
    "duration": 0,
    "start_time": "2023-08-02T11:12:58.971Z"
   },
   {
    "duration": 0,
    "start_time": "2023-08-02T11:12:58.973Z"
   },
   {
    "duration": 0,
    "start_time": "2023-08-02T11:12:58.974Z"
   },
   {
    "duration": 0,
    "start_time": "2023-08-02T11:12:58.975Z"
   },
   {
    "duration": 0,
    "start_time": "2023-08-02T11:12:58.976Z"
   },
   {
    "duration": 0,
    "start_time": "2023-08-02T11:12:58.977Z"
   },
   {
    "duration": 0,
    "start_time": "2023-08-02T11:12:58.978Z"
   },
   {
    "duration": 0,
    "start_time": "2023-08-02T11:12:58.979Z"
   },
   {
    "duration": 0,
    "start_time": "2023-08-02T11:12:58.982Z"
   },
   {
    "duration": 0,
    "start_time": "2023-08-02T11:12:58.982Z"
   },
   {
    "duration": 0,
    "start_time": "2023-08-02T11:12:58.984Z"
   },
   {
    "duration": 0,
    "start_time": "2023-08-02T11:12:58.985Z"
   },
   {
    "duration": 0,
    "start_time": "2023-08-02T11:12:59.008Z"
   },
   {
    "duration": 0,
    "start_time": "2023-08-02T11:12:59.013Z"
   },
   {
    "duration": 0,
    "start_time": "2023-08-02T11:12:59.014Z"
   },
   {
    "duration": 0,
    "start_time": "2023-08-02T11:12:59.016Z"
   },
   {
    "duration": 0,
    "start_time": "2023-08-02T11:12:59.017Z"
   },
   {
    "duration": 0,
    "start_time": "2023-08-02T11:12:59.019Z"
   },
   {
    "duration": 0,
    "start_time": "2023-08-02T11:12:59.020Z"
   },
   {
    "duration": 0,
    "start_time": "2023-08-02T11:12:59.021Z"
   },
   {
    "duration": 0,
    "start_time": "2023-08-02T11:12:59.023Z"
   },
   {
    "duration": 0,
    "start_time": "2023-08-02T11:12:59.024Z"
   },
   {
    "duration": 0,
    "start_time": "2023-08-02T11:12:59.025Z"
   },
   {
    "duration": 0,
    "start_time": "2023-08-02T11:12:59.027Z"
   },
   {
    "duration": 0,
    "start_time": "2023-08-02T11:12:59.028Z"
   },
   {
    "duration": 0,
    "start_time": "2023-08-02T11:12:59.029Z"
   },
   {
    "duration": 0,
    "start_time": "2023-08-02T11:12:59.031Z"
   },
   {
    "duration": 0,
    "start_time": "2023-08-02T11:12:59.032Z"
   },
   {
    "duration": 0,
    "start_time": "2023-08-02T11:12:59.033Z"
   },
   {
    "duration": 0,
    "start_time": "2023-08-02T11:12:59.035Z"
   },
   {
    "duration": 0,
    "start_time": "2023-08-02T11:12:59.036Z"
   },
   {
    "duration": 0,
    "start_time": "2023-08-02T11:12:59.037Z"
   },
   {
    "duration": 0,
    "start_time": "2023-08-02T11:12:59.039Z"
   },
   {
    "duration": 0,
    "start_time": "2023-08-02T11:12:59.040Z"
   },
   {
    "duration": 0,
    "start_time": "2023-08-02T11:12:59.041Z"
   },
   {
    "duration": 0,
    "start_time": "2023-08-02T11:12:59.042Z"
   },
   {
    "duration": 0,
    "start_time": "2023-08-02T11:12:59.044Z"
   },
   {
    "duration": 0,
    "start_time": "2023-08-02T11:12:59.045Z"
   },
   {
    "duration": 0,
    "start_time": "2023-08-02T11:12:59.046Z"
   },
   {
    "duration": 0,
    "start_time": "2023-08-02T11:12:59.048Z"
   },
   {
    "duration": 0,
    "start_time": "2023-08-02T11:12:59.049Z"
   },
   {
    "duration": 0,
    "start_time": "2023-08-02T11:12:59.050Z"
   },
   {
    "duration": 0,
    "start_time": "2023-08-02T11:12:59.052Z"
   },
   {
    "duration": 0,
    "start_time": "2023-08-02T11:12:59.053Z"
   },
   {
    "duration": 0,
    "start_time": "2023-08-02T11:12:59.054Z"
   },
   {
    "duration": 0,
    "start_time": "2023-08-02T11:12:59.056Z"
   },
   {
    "duration": 0,
    "start_time": "2023-08-02T11:12:59.057Z"
   },
   {
    "duration": 0,
    "start_time": "2023-08-02T11:12:59.058Z"
   },
   {
    "duration": 0,
    "start_time": "2023-08-02T11:12:59.060Z"
   },
   {
    "duration": 0,
    "start_time": "2023-08-02T11:12:59.061Z"
   },
   {
    "duration": 0,
    "start_time": "2023-08-02T11:12:59.062Z"
   },
   {
    "duration": 0,
    "start_time": "2023-08-02T11:12:59.109Z"
   },
   {
    "duration": 0,
    "start_time": "2023-08-02T11:12:59.111Z"
   },
   {
    "duration": 0,
    "start_time": "2023-08-02T11:12:59.112Z"
   },
   {
    "duration": 0,
    "start_time": "2023-08-02T11:12:59.117Z"
   },
   {
    "duration": 0,
    "start_time": "2023-08-02T11:12:59.119Z"
   },
   {
    "duration": 0,
    "start_time": "2023-08-02T11:12:59.120Z"
   },
   {
    "duration": 0,
    "start_time": "2023-08-02T11:12:59.121Z"
   },
   {
    "duration": 0,
    "start_time": "2023-08-02T11:12:59.122Z"
   },
   {
    "duration": 0,
    "start_time": "2023-08-02T11:12:59.124Z"
   },
   {
    "duration": 0,
    "start_time": "2023-08-02T11:12:59.125Z"
   },
   {
    "duration": 0,
    "start_time": "2023-08-02T11:12:59.126Z"
   },
   {
    "duration": 0,
    "start_time": "2023-08-02T11:12:59.128Z"
   },
   {
    "duration": 0,
    "start_time": "2023-08-02T11:12:59.129Z"
   },
   {
    "duration": 0,
    "start_time": "2023-08-02T11:12:59.130Z"
   },
   {
    "duration": 0,
    "start_time": "2023-08-02T11:12:59.131Z"
   },
   {
    "duration": 0,
    "start_time": "2023-08-02T11:12:59.133Z"
   },
   {
    "duration": 0,
    "start_time": "2023-08-02T11:12:59.134Z"
   },
   {
    "duration": 0,
    "start_time": "2023-08-02T11:12:59.135Z"
   },
   {
    "duration": 0,
    "start_time": "2023-08-02T11:12:59.136Z"
   },
   {
    "duration": 0,
    "start_time": "2023-08-02T11:12:59.138Z"
   },
   {
    "duration": 0,
    "start_time": "2023-08-02T11:12:59.139Z"
   },
   {
    "duration": 0,
    "start_time": "2023-08-02T11:12:59.140Z"
   },
   {
    "duration": 0,
    "start_time": "2023-08-02T11:12:59.142Z"
   },
   {
    "duration": 0,
    "start_time": "2023-08-02T11:12:59.143Z"
   },
   {
    "duration": 0,
    "start_time": "2023-08-02T11:12:59.144Z"
   },
   {
    "duration": 0,
    "start_time": "2023-08-02T11:12:59.145Z"
   },
   {
    "duration": 1,
    "start_time": "2023-08-02T11:12:59.146Z"
   },
   {
    "duration": 0,
    "start_time": "2023-08-02T11:12:59.148Z"
   },
   {
    "duration": 0,
    "start_time": "2023-08-02T11:12:59.149Z"
   },
   {
    "duration": 0,
    "start_time": "2023-08-02T11:12:59.150Z"
   },
   {
    "duration": 0,
    "start_time": "2023-08-02T11:12:59.151Z"
   },
   {
    "duration": 0,
    "start_time": "2023-08-02T11:12:59.152Z"
   },
   {
    "duration": 0,
    "start_time": "2023-08-02T11:12:59.154Z"
   },
   {
    "duration": 0,
    "start_time": "2023-08-02T11:12:59.155Z"
   },
   {
    "duration": 0,
    "start_time": "2023-08-02T11:12:59.156Z"
   },
   {
    "duration": 0,
    "start_time": "2023-08-02T11:12:59.157Z"
   },
   {
    "duration": 0,
    "start_time": "2023-08-02T11:12:59.158Z"
   },
   {
    "duration": 0,
    "start_time": "2023-08-02T11:12:59.159Z"
   },
   {
    "duration": 0,
    "start_time": "2023-08-02T11:12:59.160Z"
   },
   {
    "duration": 0,
    "start_time": "2023-08-02T11:12:59.209Z"
   },
   {
    "duration": 0,
    "start_time": "2023-08-02T11:12:59.211Z"
   },
   {
    "duration": 0,
    "start_time": "2023-08-02T11:12:59.212Z"
   },
   {
    "duration": 0,
    "start_time": "2023-08-02T11:12:59.213Z"
   },
   {
    "duration": 1,
    "start_time": "2023-08-02T11:12:59.214Z"
   },
   {
    "duration": 0,
    "start_time": "2023-08-02T11:12:59.216Z"
   },
   {
    "duration": 0,
    "start_time": "2023-08-02T11:12:59.217Z"
   },
   {
    "duration": 0,
    "start_time": "2023-08-02T11:12:59.218Z"
   },
   {
    "duration": 0,
    "start_time": "2023-08-02T11:12:59.220Z"
   },
   {
    "duration": 0,
    "start_time": "2023-08-02T11:12:59.221Z"
   },
   {
    "duration": 0,
    "start_time": "2023-08-02T11:12:59.222Z"
   },
   {
    "duration": 0,
    "start_time": "2023-08-02T11:12:59.224Z"
   },
   {
    "duration": 0,
    "start_time": "2023-08-02T11:12:59.225Z"
   },
   {
    "duration": 0,
    "start_time": "2023-08-02T11:12:59.226Z"
   },
   {
    "duration": 0,
    "start_time": "2023-08-02T11:12:59.228Z"
   },
   {
    "duration": 0,
    "start_time": "2023-08-02T11:12:59.229Z"
   },
   {
    "duration": 0,
    "start_time": "2023-08-02T11:12:59.230Z"
   },
   {
    "duration": 0,
    "start_time": "2023-08-02T11:12:59.231Z"
   },
   {
    "duration": 0,
    "start_time": "2023-08-02T11:12:59.233Z"
   },
   {
    "duration": 0,
    "start_time": "2023-08-02T11:12:59.234Z"
   },
   {
    "duration": 0,
    "start_time": "2023-08-02T11:12:59.235Z"
   },
   {
    "duration": 0,
    "start_time": "2023-08-02T11:12:59.236Z"
   },
   {
    "duration": 0,
    "start_time": "2023-08-02T11:12:59.238Z"
   },
   {
    "duration": 0,
    "start_time": "2023-08-02T11:12:59.239Z"
   },
   {
    "duration": 0,
    "start_time": "2023-08-02T11:12:59.240Z"
   },
   {
    "duration": 0,
    "start_time": "2023-08-02T11:12:59.241Z"
   },
   {
    "duration": 0,
    "start_time": "2023-08-02T11:12:59.243Z"
   },
   {
    "duration": 0,
    "start_time": "2023-08-02T11:12:59.244Z"
   },
   {
    "duration": 0,
    "start_time": "2023-08-02T11:12:59.245Z"
   },
   {
    "duration": 0,
    "start_time": "2023-08-02T11:12:59.246Z"
   },
   {
    "duration": 0,
    "start_time": "2023-08-02T11:12:59.247Z"
   },
   {
    "duration": 0,
    "start_time": "2023-08-02T11:12:59.248Z"
   },
   {
    "duration": 0,
    "start_time": "2023-08-02T11:12:59.252Z"
   },
   {
    "duration": 0,
    "start_time": "2023-08-02T11:12:59.253Z"
   },
   {
    "duration": 0,
    "start_time": "2023-08-02T11:12:59.254Z"
   },
   {
    "duration": 0,
    "start_time": "2023-08-02T11:12:59.255Z"
   },
   {
    "duration": 0,
    "start_time": "2023-08-02T11:12:59.257Z"
   },
   {
    "duration": 0,
    "start_time": "2023-08-02T11:12:59.258Z"
   },
   {
    "duration": 0,
    "start_time": "2023-08-02T11:12:59.259Z"
   },
   {
    "duration": 0,
    "start_time": "2023-08-02T11:12:59.260Z"
   },
   {
    "duration": 0,
    "start_time": "2023-08-02T11:12:59.262Z"
   },
   {
    "duration": 0,
    "start_time": "2023-08-02T11:12:59.263Z"
   },
   {
    "duration": 0,
    "start_time": "2023-08-02T11:12:59.309Z"
   },
   {
    "duration": 0,
    "start_time": "2023-08-02T11:12:59.310Z"
   },
   {
    "duration": 0,
    "start_time": "2023-08-02T11:12:59.311Z"
   },
   {
    "duration": 0,
    "start_time": "2023-08-02T11:12:59.312Z"
   },
   {
    "duration": 0,
    "start_time": "2023-08-02T11:12:59.318Z"
   },
   {
    "duration": 0,
    "start_time": "2023-08-02T11:12:59.319Z"
   },
   {
    "duration": 0,
    "start_time": "2023-08-02T11:12:59.320Z"
   },
   {
    "duration": 0,
    "start_time": "2023-08-02T11:12:59.326Z"
   },
   {
    "duration": 0,
    "start_time": "2023-08-02T11:12:59.334Z"
   },
   {
    "duration": 0,
    "start_time": "2023-08-02T11:12:59.335Z"
   },
   {
    "duration": 0,
    "start_time": "2023-08-02T11:12:59.336Z"
   },
   {
    "duration": 0,
    "start_time": "2023-08-02T11:12:59.338Z"
   },
   {
    "duration": 0,
    "start_time": "2023-08-02T11:12:59.339Z"
   },
   {
    "duration": 0,
    "start_time": "2023-08-02T11:12:59.341Z"
   },
   {
    "duration": 0,
    "start_time": "2023-08-02T11:12:59.342Z"
   },
   {
    "duration": 0,
    "start_time": "2023-08-02T11:12:59.343Z"
   },
   {
    "duration": 0,
    "start_time": "2023-08-02T11:12:59.444Z"
   },
   {
    "duration": 0,
    "start_time": "2023-08-02T11:12:59.445Z"
   },
   {
    "duration": 0,
    "start_time": "2023-08-02T11:12:59.446Z"
   },
   {
    "duration": 0,
    "start_time": "2023-08-02T11:12:59.446Z"
   },
   {
    "duration": 0,
    "start_time": "2023-08-02T11:12:59.447Z"
   },
   {
    "duration": 0,
    "start_time": "2023-08-02T11:12:59.448Z"
   },
   {
    "duration": 0,
    "start_time": "2023-08-02T11:12:59.449Z"
   },
   {
    "duration": 0,
    "start_time": "2023-08-02T11:12:59.449Z"
   },
   {
    "duration": 0,
    "start_time": "2023-08-02T11:12:59.450Z"
   },
   {
    "duration": 0,
    "start_time": "2023-08-02T11:12:59.451Z"
   },
   {
    "duration": 0,
    "start_time": "2023-08-02T11:12:59.452Z"
   },
   {
    "duration": 0,
    "start_time": "2023-08-02T11:12:59.453Z"
   },
   {
    "duration": 0,
    "start_time": "2023-08-02T11:12:59.454Z"
   },
   {
    "duration": 0,
    "start_time": "2023-08-02T11:12:59.454Z"
   },
   {
    "duration": 0,
    "start_time": "2023-08-02T11:12:59.455Z"
   },
   {
    "duration": 0,
    "start_time": "2023-08-02T11:12:59.456Z"
   },
   {
    "duration": 0,
    "start_time": "2023-08-02T11:12:59.512Z"
   },
   {
    "duration": 0,
    "start_time": "2023-08-02T11:12:59.512Z"
   },
   {
    "duration": 0,
    "start_time": "2023-08-02T11:12:59.513Z"
   },
   {
    "duration": 0,
    "start_time": "2023-08-02T11:12:59.514Z"
   },
   {
    "duration": 1,
    "start_time": "2023-08-02T11:12:59.514Z"
   },
   {
    "duration": 0,
    "start_time": "2023-08-02T11:12:59.515Z"
   },
   {
    "duration": 0,
    "start_time": "2023-08-02T11:12:59.516Z"
   },
   {
    "duration": 0,
    "start_time": "2023-08-02T11:12:59.519Z"
   },
   {
    "duration": 1,
    "start_time": "2023-08-02T11:12:59.519Z"
   },
   {
    "duration": 0,
    "start_time": "2023-08-02T11:12:59.520Z"
   },
   {
    "duration": 0,
    "start_time": "2023-08-02T11:12:59.521Z"
   },
   {
    "duration": 0,
    "start_time": "2023-08-02T11:12:59.522Z"
   },
   {
    "duration": 0,
    "start_time": "2023-08-02T11:12:59.523Z"
   },
   {
    "duration": 0,
    "start_time": "2023-08-02T11:12:59.524Z"
   },
   {
    "duration": 0,
    "start_time": "2023-08-02T11:12:59.527Z"
   },
   {
    "duration": 0,
    "start_time": "2023-08-02T11:12:59.527Z"
   },
   {
    "duration": 0,
    "start_time": "2023-08-02T11:12:59.529Z"
   },
   {
    "duration": 0,
    "start_time": "2023-08-02T11:12:59.531Z"
   },
   {
    "duration": 0,
    "start_time": "2023-08-02T11:12:59.531Z"
   },
   {
    "duration": 0,
    "start_time": "2023-08-02T11:12:59.532Z"
   },
   {
    "duration": 0,
    "start_time": "2023-08-02T11:12:59.532Z"
   },
   {
    "duration": 0,
    "start_time": "2023-08-02T11:12:59.534Z"
   },
   {
    "duration": 0,
    "start_time": "2023-08-02T11:12:59.535Z"
   },
   {
    "duration": 0,
    "start_time": "2023-08-02T11:12:59.537Z"
   },
   {
    "duration": 0,
    "start_time": "2023-08-02T11:12:59.538Z"
   },
   {
    "duration": 0,
    "start_time": "2023-08-02T11:12:59.539Z"
   },
   {
    "duration": 0,
    "start_time": "2023-08-02T11:12:59.540Z"
   },
   {
    "duration": 0,
    "start_time": "2023-08-02T11:12:59.542Z"
   },
   {
    "duration": 0,
    "start_time": "2023-08-02T11:12:59.543Z"
   },
   {
    "duration": 0,
    "start_time": "2023-08-02T11:12:59.544Z"
   },
   {
    "duration": 0,
    "start_time": "2023-08-02T11:12:59.545Z"
   },
   {
    "duration": 0,
    "start_time": "2023-08-02T11:12:59.547Z"
   },
   {
    "duration": 0,
    "start_time": "2023-08-02T11:12:59.547Z"
   },
   {
    "duration": 0,
    "start_time": "2023-08-02T11:12:59.548Z"
   },
   {
    "duration": 0,
    "start_time": "2023-08-02T11:12:59.549Z"
   },
   {
    "duration": 0,
    "start_time": "2023-08-02T11:12:59.550Z"
   },
   {
    "duration": 0,
    "start_time": "2023-08-02T11:12:59.551Z"
   },
   {
    "duration": 0,
    "start_time": "2023-08-02T11:12:59.552Z"
   },
   {
    "duration": 0,
    "start_time": "2023-08-02T11:12:59.552Z"
   },
   {
    "duration": 0,
    "start_time": "2023-08-02T11:12:59.553Z"
   },
   {
    "duration": 0,
    "start_time": "2023-08-02T11:12:59.554Z"
   },
   {
    "duration": 0,
    "start_time": "2023-08-02T11:12:59.555Z"
   },
   {
    "duration": 0,
    "start_time": "2023-08-02T11:12:59.556Z"
   },
   {
    "duration": 0,
    "start_time": "2023-08-02T11:12:59.608Z"
   },
   {
    "duration": 0,
    "start_time": "2023-08-02T11:12:59.609Z"
   },
   {
    "duration": 0,
    "start_time": "2023-08-02T11:12:59.610Z"
   },
   {
    "duration": 0,
    "start_time": "2023-08-02T11:12:59.611Z"
   },
   {
    "duration": 0,
    "start_time": "2023-08-02T11:12:59.612Z"
   },
   {
    "duration": 0,
    "start_time": "2023-08-02T11:12:59.614Z"
   },
   {
    "duration": 0,
    "start_time": "2023-08-02T11:12:59.614Z"
   },
   {
    "duration": 0,
    "start_time": "2023-08-02T11:12:59.615Z"
   },
   {
    "duration": 0,
    "start_time": "2023-08-02T11:12:59.616Z"
   },
   {
    "duration": 0,
    "start_time": "2023-08-02T11:12:59.616Z"
   },
   {
    "duration": 0,
    "start_time": "2023-08-02T11:12:59.617Z"
   },
   {
    "duration": 0,
    "start_time": "2023-08-02T11:12:59.618Z"
   },
   {
    "duration": 0,
    "start_time": "2023-08-02T11:12:59.618Z"
   },
   {
    "duration": 0,
    "start_time": "2023-08-02T11:12:59.619Z"
   },
   {
    "duration": 0,
    "start_time": "2023-08-02T11:12:59.620Z"
   },
   {
    "duration": 0,
    "start_time": "2023-08-02T11:12:59.620Z"
   },
   {
    "duration": 0,
    "start_time": "2023-08-02T11:12:59.621Z"
   },
   {
    "duration": 0,
    "start_time": "2023-08-02T11:12:59.621Z"
   },
   {
    "duration": 0,
    "start_time": "2023-08-02T11:12:59.622Z"
   },
   {
    "duration": 0,
    "start_time": "2023-08-02T11:12:59.623Z"
   },
   {
    "duration": 0,
    "start_time": "2023-08-02T11:12:59.624Z"
   },
   {
    "duration": 0,
    "start_time": "2023-08-02T11:12:59.625Z"
   },
   {
    "duration": 0,
    "start_time": "2023-08-02T11:12:59.626Z"
   },
   {
    "duration": 0,
    "start_time": "2023-08-02T11:12:59.627Z"
   },
   {
    "duration": 0,
    "start_time": "2023-08-02T11:12:59.627Z"
   },
   {
    "duration": 0,
    "start_time": "2023-08-02T11:12:59.628Z"
   },
   {
    "duration": 0,
    "start_time": "2023-08-02T11:12:59.629Z"
   },
   {
    "duration": 0,
    "start_time": "2023-08-02T11:12:59.630Z"
   },
   {
    "duration": 0,
    "start_time": "2023-08-02T11:12:59.630Z"
   },
   {
    "duration": 0,
    "start_time": "2023-08-02T11:12:59.634Z"
   },
   {
    "duration": 0,
    "start_time": "2023-08-02T11:12:59.635Z"
   },
   {
    "duration": 0,
    "start_time": "2023-08-02T11:12:59.636Z"
   },
   {
    "duration": 0,
    "start_time": "2023-08-02T11:12:59.637Z"
   },
   {
    "duration": 0,
    "start_time": "2023-08-02T11:12:59.638Z"
   },
   {
    "duration": 0,
    "start_time": "2023-08-02T11:12:59.639Z"
   },
   {
    "duration": 0,
    "start_time": "2023-08-02T11:12:59.640Z"
   },
   {
    "duration": 0,
    "start_time": "2023-08-02T11:12:59.641Z"
   },
   {
    "duration": 0,
    "start_time": "2023-08-02T11:12:59.642Z"
   },
   {
    "duration": 0,
    "start_time": "2023-08-02T11:12:59.643Z"
   },
   {
    "duration": 0,
    "start_time": "2023-08-02T11:12:59.644Z"
   },
   {
    "duration": 0,
    "start_time": "2023-08-02T11:12:59.645Z"
   },
   {
    "duration": 0,
    "start_time": "2023-08-02T11:12:59.646Z"
   },
   {
    "duration": 0,
    "start_time": "2023-08-02T11:12:59.647Z"
   },
   {
    "duration": 0,
    "start_time": "2023-08-02T11:12:59.648Z"
   },
   {
    "duration": 0,
    "start_time": "2023-08-02T11:12:59.649Z"
   },
   {
    "duration": 0,
    "start_time": "2023-08-02T11:12:59.650Z"
   },
   {
    "duration": 0,
    "start_time": "2023-08-02T11:12:59.651Z"
   },
   {
    "duration": 0,
    "start_time": "2023-08-02T11:12:59.652Z"
   },
   {
    "duration": 0,
    "start_time": "2023-08-02T11:12:59.653Z"
   },
   {
    "duration": 0,
    "start_time": "2023-08-02T11:12:59.654Z"
   },
   {
    "duration": 0,
    "start_time": "2023-08-02T11:12:59.655Z"
   },
   {
    "duration": 0,
    "start_time": "2023-08-02T11:12:59.656Z"
   },
   {
    "duration": 0,
    "start_time": "2023-08-02T11:12:59.658Z"
   },
   {
    "duration": 0,
    "start_time": "2023-08-02T11:12:59.659Z"
   },
   {
    "duration": 0,
    "start_time": "2023-08-02T11:12:59.714Z"
   },
   {
    "duration": 0,
    "start_time": "2023-08-02T11:12:59.717Z"
   },
   {
    "duration": 0,
    "start_time": "2023-08-02T11:12:59.718Z"
   },
   {
    "duration": 1,
    "start_time": "2023-08-02T11:12:59.719Z"
   },
   {
    "duration": 1,
    "start_time": "2023-08-02T11:12:59.720Z"
   },
   {
    "duration": 0,
    "start_time": "2023-08-02T11:12:59.722Z"
   },
   {
    "duration": 0,
    "start_time": "2023-08-02T11:12:59.723Z"
   },
   {
    "duration": 0,
    "start_time": "2023-08-02T11:12:59.724Z"
   },
   {
    "duration": 0,
    "start_time": "2023-08-02T11:12:59.726Z"
   },
   {
    "duration": 0,
    "start_time": "2023-08-02T11:12:59.727Z"
   },
   {
    "duration": 0,
    "start_time": "2023-08-02T11:12:59.728Z"
   },
   {
    "duration": 0,
    "start_time": "2023-08-02T11:12:59.729Z"
   },
   {
    "duration": 0,
    "start_time": "2023-08-02T11:12:59.730Z"
   },
   {
    "duration": 0,
    "start_time": "2023-08-02T11:12:59.732Z"
   },
   {
    "duration": 0,
    "start_time": "2023-08-02T11:12:59.733Z"
   },
   {
    "duration": 0,
    "start_time": "2023-08-02T11:12:59.734Z"
   },
   {
    "duration": 0,
    "start_time": "2023-08-02T11:12:59.736Z"
   },
   {
    "duration": 0,
    "start_time": "2023-08-02T11:12:59.737Z"
   },
   {
    "duration": 0,
    "start_time": "2023-08-02T11:12:59.738Z"
   },
   {
    "duration": 0,
    "start_time": "2023-08-02T11:12:59.739Z"
   },
   {
    "duration": 0,
    "start_time": "2023-08-02T11:12:59.741Z"
   },
   {
    "duration": 0,
    "start_time": "2023-08-02T11:12:59.742Z"
   },
   {
    "duration": 0,
    "start_time": "2023-08-02T11:12:59.743Z"
   },
   {
    "duration": 0,
    "start_time": "2023-08-02T11:12:59.744Z"
   },
   {
    "duration": 99,
    "start_time": "2023-08-02T12:04:19.568Z"
   },
   {
    "duration": 22,
    "start_time": "2023-08-02T12:04:27.212Z"
   },
   {
    "duration": 455,
    "start_time": "2023-08-02T16:38:07.272Z"
   },
   {
    "duration": 167,
    "start_time": "2023-08-02T16:38:07.729Z"
   },
   {
    "duration": 16,
    "start_time": "2023-08-02T16:38:07.898Z"
   },
   {
    "duration": 86,
    "start_time": "2023-08-02T16:38:07.916Z"
   },
   {
    "duration": 16,
    "start_time": "2023-08-02T16:38:08.004Z"
   },
   {
    "duration": 20,
    "start_time": "2023-08-02T16:38:08.022Z"
   },
   {
    "duration": 40,
    "start_time": "2023-08-02T16:38:08.067Z"
   },
   {
    "duration": 20,
    "start_time": "2023-08-02T16:38:08.109Z"
   },
   {
    "duration": 20,
    "start_time": "2023-08-02T16:38:08.131Z"
   },
   {
    "duration": 37,
    "start_time": "2023-08-02T16:38:08.154Z"
   },
   {
    "duration": 31,
    "start_time": "2023-08-02T16:38:08.193Z"
   },
   {
    "duration": 16,
    "start_time": "2023-08-02T16:38:08.226Z"
   },
   {
    "duration": 42,
    "start_time": "2023-08-02T16:38:08.244Z"
   },
   {
    "duration": 29,
    "start_time": "2023-08-02T16:38:08.288Z"
   },
   {
    "duration": 1826,
    "start_time": "2023-08-02T16:38:08.319Z"
   },
   {
    "duration": 274,
    "start_time": "2023-08-02T16:38:10.148Z"
   },
   {
    "duration": 7,
    "start_time": "2023-08-02T16:38:10.424Z"
   },
   {
    "duration": 21,
    "start_time": "2023-08-02T16:38:10.433Z"
   },
   {
    "duration": 13,
    "start_time": "2023-08-02T16:38:10.455Z"
   },
   {
    "duration": 23,
    "start_time": "2023-08-02T16:38:10.470Z"
   },
   {
    "duration": 31,
    "start_time": "2023-08-02T16:38:10.495Z"
   },
   {
    "duration": 169,
    "start_time": "2023-08-02T16:38:10.528Z"
   },
   {
    "duration": 6,
    "start_time": "2023-08-02T16:38:10.699Z"
   },
   {
    "duration": 161,
    "start_time": "2023-08-02T16:38:10.707Z"
   },
   {
    "duration": 4,
    "start_time": "2023-08-02T16:38:10.870Z"
   },
   {
    "duration": 12,
    "start_time": "2023-08-02T16:38:10.876Z"
   },
   {
    "duration": 12,
    "start_time": "2023-08-02T16:38:10.889Z"
   },
   {
    "duration": 18,
    "start_time": "2023-08-02T16:38:10.905Z"
   },
   {
    "duration": 11,
    "start_time": "2023-08-02T16:38:10.925Z"
   },
   {
    "duration": 176,
    "start_time": "2023-08-02T16:38:10.938Z"
   },
   {
    "duration": 301,
    "start_time": "2023-08-02T16:38:11.116Z"
   },
   {
    "duration": 204,
    "start_time": "2023-08-02T16:38:11.418Z"
   },
   {
    "duration": 8,
    "start_time": "2023-08-02T16:38:11.624Z"
   },
   {
    "duration": 10,
    "start_time": "2023-08-02T16:38:11.634Z"
   },
   {
    "duration": 226,
    "start_time": "2023-08-02T16:38:11.646Z"
   },
   {
    "duration": 170,
    "start_time": "2023-08-02T16:38:11.874Z"
   },
   {
    "duration": 21,
    "start_time": "2023-08-02T16:38:12.046Z"
   },
   {
    "duration": 7,
    "start_time": "2023-08-02T16:38:12.070Z"
   },
   {
    "duration": 13,
    "start_time": "2023-08-02T16:38:12.079Z"
   },
   {
    "duration": 81,
    "start_time": "2023-08-02T16:38:12.094Z"
   },
   {
    "duration": 15,
    "start_time": "2023-08-02T16:38:12.177Z"
   },
   {
    "duration": 19,
    "start_time": "2023-08-02T16:38:12.194Z"
   },
   {
    "duration": 34,
    "start_time": "2023-08-02T16:38:12.215Z"
   },
   {
    "duration": 25,
    "start_time": "2023-08-02T16:38:12.251Z"
   },
   {
    "duration": 23,
    "start_time": "2023-08-02T16:38:12.278Z"
   },
   {
    "duration": 16,
    "start_time": "2023-08-02T16:38:12.303Z"
   },
   {
    "duration": 17,
    "start_time": "2023-08-02T16:38:12.321Z"
   },
   {
    "duration": 33,
    "start_time": "2023-08-02T16:38:12.340Z"
   },
   {
    "duration": 17,
    "start_time": "2023-08-02T16:38:12.375Z"
   },
   {
    "duration": 16,
    "start_time": "2023-08-02T16:38:12.394Z"
   },
   {
    "duration": 27,
    "start_time": "2023-08-02T16:38:12.412Z"
   },
   {
    "duration": 19,
    "start_time": "2023-08-02T16:38:12.441Z"
   },
   {
    "duration": 19,
    "start_time": "2023-08-02T16:38:12.462Z"
   },
   {
    "duration": 1111,
    "start_time": "2023-08-02T16:38:12.482Z"
   },
   {
    "duration": 11,
    "start_time": "2023-08-02T16:38:13.595Z"
   },
   {
    "duration": 18,
    "start_time": "2023-08-02T16:38:13.608Z"
   },
   {
    "duration": 439,
    "start_time": "2023-08-02T16:38:13.628Z"
   },
   {
    "duration": 9,
    "start_time": "2023-08-02T16:38:14.070Z"
   },
   {
    "duration": 33,
    "start_time": "2023-08-02T16:38:14.081Z"
   },
   {
    "duration": 23,
    "start_time": "2023-08-02T16:38:14.116Z"
   },
   {
    "duration": 5,
    "start_time": "2023-08-02T16:38:14.142Z"
   },
   {
    "duration": 46,
    "start_time": "2023-08-02T16:38:14.149Z"
   },
   {
    "duration": 24,
    "start_time": "2023-08-02T16:38:14.197Z"
   },
   {
    "duration": 703,
    "start_time": "2023-08-02T16:38:14.223Z"
   },
   {
    "duration": 307,
    "start_time": "2023-08-02T16:38:14.928Z"
   },
   {
    "duration": 9,
    "start_time": "2023-08-02T16:38:15.236Z"
   },
   {
    "duration": 32,
    "start_time": "2023-08-02T16:38:15.247Z"
   },
   {
    "duration": 8,
    "start_time": "2023-08-02T16:38:15.281Z"
   },
   {
    "duration": 17,
    "start_time": "2023-08-02T16:38:15.291Z"
   },
   {
    "duration": 22,
    "start_time": "2023-08-02T16:38:15.310Z"
   },
   {
    "duration": 8,
    "start_time": "2023-08-02T16:38:15.334Z"
   },
   {
    "duration": 30,
    "start_time": "2023-08-02T16:38:15.343Z"
   },
   {
    "duration": 309,
    "start_time": "2023-08-02T16:38:15.375Z"
   },
   {
    "duration": 8,
    "start_time": "2023-08-02T16:38:15.686Z"
   },
   {
    "duration": 13,
    "start_time": "2023-08-02T16:38:15.695Z"
   },
   {
    "duration": 28,
    "start_time": "2023-08-02T16:38:15.709Z"
   },
   {
    "duration": 17,
    "start_time": "2023-08-02T16:38:15.739Z"
   },
   {
    "duration": 11,
    "start_time": "2023-08-02T16:38:15.757Z"
   },
   {
    "duration": 8,
    "start_time": "2023-08-02T16:38:15.770Z"
   },
   {
    "duration": 7,
    "start_time": "2023-08-02T16:38:15.780Z"
   },
   {
    "duration": 10,
    "start_time": "2023-08-02T16:38:15.789Z"
   },
   {
    "duration": 326,
    "start_time": "2023-08-02T16:38:15.811Z"
   },
   {
    "duration": 32,
    "start_time": "2023-08-02T16:38:16.139Z"
   },
   {
    "duration": 13,
    "start_time": "2023-08-02T16:38:16.173Z"
   },
   {
    "duration": 22,
    "start_time": "2023-08-02T16:38:16.188Z"
   },
   {
    "duration": 226,
    "start_time": "2023-08-02T16:38:16.212Z"
   },
   {
    "duration": 132,
    "start_time": "2023-08-02T16:38:16.440Z"
   },
   {
    "duration": 10,
    "start_time": "2023-08-02T16:38:16.574Z"
   },
   {
    "duration": 5,
    "start_time": "2023-08-02T16:38:16.585Z"
   },
   {
    "duration": 11347,
    "start_time": "2023-08-02T16:38:16.592Z"
   },
   {
    "duration": 9,
    "start_time": "2023-08-02T16:38:27.941Z"
   },
   {
    "duration": 1170,
    "start_time": "2023-08-02T16:38:27.952Z"
   },
   {
    "duration": 8,
    "start_time": "2023-08-02T16:38:29.124Z"
   },
   {
    "duration": 13,
    "start_time": "2023-08-02T16:38:29.134Z"
   },
   {
    "duration": 26,
    "start_time": "2023-08-02T16:38:29.148Z"
   },
   {
    "duration": 44,
    "start_time": "2023-08-02T16:38:29.176Z"
   },
   {
    "duration": 233,
    "start_time": "2023-08-02T16:38:29.222Z"
   },
   {
    "duration": 145,
    "start_time": "2023-08-02T16:38:29.457Z"
   },
   {
    "duration": 10,
    "start_time": "2023-08-02T16:38:29.604Z"
   },
   {
    "duration": 6,
    "start_time": "2023-08-02T16:38:29.615Z"
   },
   {
    "duration": 11593,
    "start_time": "2023-08-02T16:38:29.623Z"
   },
   {
    "duration": 10,
    "start_time": "2023-08-02T16:38:41.218Z"
   },
   {
    "duration": 9,
    "start_time": "2023-08-02T16:38:41.229Z"
   },
   {
    "duration": 33,
    "start_time": "2023-08-02T16:38:41.240Z"
   },
   {
    "duration": 14,
    "start_time": "2023-08-02T16:38:41.276Z"
   },
   {
    "duration": 10,
    "start_time": "2023-08-02T16:38:41.292Z"
   },
   {
    "duration": 10,
    "start_time": "2023-08-02T16:38:41.304Z"
   },
   {
    "duration": 11,
    "start_time": "2023-08-02T16:38:41.315Z"
   },
   {
    "duration": 44,
    "start_time": "2023-08-02T16:38:41.328Z"
   },
   {
    "duration": 274,
    "start_time": "2023-08-02T16:38:41.375Z"
   },
   {
    "duration": 17,
    "start_time": "2023-08-02T16:38:41.651Z"
   },
   {
    "duration": 10,
    "start_time": "2023-08-02T16:38:41.670Z"
   },
   {
    "duration": 11,
    "start_time": "2023-08-02T16:38:41.681Z"
   },
   {
    "duration": 7,
    "start_time": "2023-08-02T16:38:41.693Z"
   },
   {
    "duration": 11,
    "start_time": "2023-08-02T16:38:41.702Z"
   },
   {
    "duration": 9,
    "start_time": "2023-08-02T16:38:41.714Z"
   },
   {
    "duration": 56,
    "start_time": "2023-08-02T16:38:41.725Z"
   },
   {
    "duration": 8,
    "start_time": "2023-08-02T16:38:41.783Z"
   },
   {
    "duration": 15,
    "start_time": "2023-08-02T16:38:41.793Z"
   },
   {
    "duration": 11,
    "start_time": "2023-08-02T16:38:41.810Z"
   },
   {
    "duration": 317,
    "start_time": "2023-08-02T16:38:41.822Z"
   },
   {
    "duration": 10,
    "start_time": "2023-08-02T16:38:42.141Z"
   },
   {
    "duration": 30,
    "start_time": "2023-08-02T16:38:42.153Z"
   },
   {
    "duration": 25,
    "start_time": "2023-08-02T16:38:42.186Z"
   },
   {
    "duration": 11,
    "start_time": "2023-08-02T16:38:42.213Z"
   },
   {
    "duration": 346,
    "start_time": "2023-08-02T16:38:42.226Z"
   },
   {
    "duration": 9,
    "start_time": "2023-08-02T16:38:42.574Z"
   },
   {
    "duration": 43,
    "start_time": "2023-08-02T16:38:42.586Z"
   },
   {
    "duration": 1006,
    "start_time": "2023-08-02T16:38:42.631Z"
   },
   {
    "duration": 215,
    "start_time": "2023-08-02T16:38:43.639Z"
   },
   {
    "duration": 13,
    "start_time": "2023-08-02T16:38:43.857Z"
   },
   {
    "duration": 156589,
    "start_time": "2023-08-02T16:38:43.871Z"
   },
   {
    "duration": 47078,
    "start_time": "2023-08-02T16:41:20.462Z"
   },
   {
    "duration": 10,
    "start_time": "2023-08-02T16:42:07.542Z"
   },
   {
    "duration": 22,
    "start_time": "2023-08-02T16:42:07.554Z"
   },
   {
    "duration": 40,
    "start_time": "2023-08-02T16:42:07.577Z"
   },
   {
    "duration": 391,
    "start_time": "2023-08-02T16:42:07.619Z"
   },
   {
    "duration": 4,
    "start_time": "2023-08-02T16:42:08.011Z"
   },
   {
    "duration": 71972,
    "start_time": "2023-08-02T16:42:08.017Z"
   },
   {
    "duration": 5794,
    "start_time": "2023-08-02T16:43:19.991Z"
   },
   {
    "duration": 14,
    "start_time": "2023-08-02T16:43:25.787Z"
   },
   {
    "duration": 47,
    "start_time": "2023-08-02T16:43:25.803Z"
   },
   {
    "duration": 377,
    "start_time": "2023-08-02T16:43:25.866Z"
   },
   {
    "duration": 5,
    "start_time": "2023-08-02T16:43:26.244Z"
   },
   {
    "duration": 89310,
    "start_time": "2023-08-02T16:43:26.250Z"
   },
   {
    "duration": 7562,
    "start_time": "2023-08-02T16:44:55.562Z"
   },
   {
    "duration": 5,
    "start_time": "2023-08-02T16:45:03.126Z"
   },
   {
    "duration": 22,
    "start_time": "2023-08-02T16:45:03.133Z"
   },
   {
    "duration": 7,
    "start_time": "2023-08-02T16:45:03.167Z"
   },
   {
    "duration": 31,
    "start_time": "2023-08-02T16:45:03.176Z"
   },
   {
    "duration": 12,
    "start_time": "2023-08-02T16:45:03.209Z"
   },
   {
    "duration": 14,
    "start_time": "2023-08-02T16:45:03.223Z"
   },
   {
    "duration": 31,
    "start_time": "2023-08-02T16:45:03.239Z"
   },
   {
    "duration": 4,
    "start_time": "2023-08-02T16:45:03.272Z"
   },
   {
    "duration": 542,
    "start_time": "2023-08-02T16:45:03.278Z"
   },
   {
    "duration": 11,
    "start_time": "2023-08-02T16:45:03.822Z"
   },
   {
    "duration": 11,
    "start_time": "2023-08-02T16:45:03.835Z"
   },
   {
    "duration": 24,
    "start_time": "2023-08-02T16:45:03.848Z"
   },
   {
    "duration": 14,
    "start_time": "2023-08-02T16:45:03.874Z"
   },
   {
    "duration": 13,
    "start_time": "2023-08-02T16:45:03.890Z"
   },
   {
    "duration": 1597,
    "start_time": "2023-08-02T16:45:03.905Z"
   },
   {
    "duration": 450,
    "start_time": "2023-08-02T16:45:05.504Z"
   },
   {
    "duration": 438,
    "start_time": "2023-08-02T16:45:05.956Z"
   },
   {
    "duration": 9,
    "start_time": "2023-08-02T16:45:06.396Z"
   },
   {
    "duration": 718,
    "start_time": "2023-08-02T16:45:06.407Z"
   },
   {
    "duration": 552,
    "start_time": "2023-08-02T16:45:07.127Z"
   },
   {
    "duration": 333,
    "start_time": "2023-08-02T16:45:07.681Z"
   },
   {
    "duration": 10,
    "start_time": "2023-08-02T16:45:08.015Z"
   },
   {
    "duration": 736,
    "start_time": "2023-08-02T16:45:08.026Z"
   },
   {
    "duration": 410,
    "start_time": "2023-08-02T16:45:08.764Z"
   },
   {
    "duration": 407,
    "start_time": "2023-08-02T16:45:09.176Z"
   },
   {
    "duration": 9,
    "start_time": "2023-08-02T16:45:09.585Z"
   },
   {
    "duration": 1498,
    "start_time": "2023-08-02T16:45:09.596Z"
   },
   {
    "duration": 682,
    "start_time": "2023-08-02T16:45:11.096Z"
   },
   {
    "duration": 450,
    "start_time": "2023-08-02T16:45:11.780Z"
   },
   {
    "duration": 22,
    "start_time": "2023-08-02T16:45:12.232Z"
   },
   {
    "duration": 24,
    "start_time": "2023-08-02T16:45:12.256Z"
   },
   {
    "duration": 281,
    "start_time": "2023-08-02T16:45:12.282Z"
   },
   {
    "duration": 151,
    "start_time": "2023-08-02T16:45:12.567Z"
   },
   {
    "duration": 9,
    "start_time": "2023-08-02T16:45:12.719Z"
   },
   {
    "duration": 176,
    "start_time": "2023-08-02T16:45:12.729Z"
   },
   {
    "duration": 152,
    "start_time": "2023-08-02T16:45:12.907Z"
   },
   {
    "duration": 156,
    "start_time": "2023-08-02T16:45:13.061Z"
   },
   {
    "duration": 13,
    "start_time": "2023-08-02T16:45:13.220Z"
   },
   {
    "duration": 220,
    "start_time": "2023-08-02T16:45:13.235Z"
   },
   {
    "duration": 179,
    "start_time": "2023-08-02T16:45:13.457Z"
   },
   {
    "duration": 162,
    "start_time": "2023-08-02T16:45:13.638Z"
   },
   {
    "duration": 9,
    "start_time": "2023-08-02T16:45:13.802Z"
   },
   {
    "duration": 806,
    "start_time": "2023-08-02T16:45:13.813Z"
   },
   {
    "duration": 406,
    "start_time": "2023-08-02T16:45:14.621Z"
   },
   {
    "duration": 392,
    "start_time": "2023-08-02T16:45:15.029Z"
   },
   {
    "duration": 5,
    "start_time": "2023-08-02T16:45:15.423Z"
   },
   {
    "duration": 146,
    "start_time": "2023-08-02T16:45:15.430Z"
   },
   {
    "duration": 4,
    "start_time": "2023-08-02T16:45:15.579Z"
   },
   {
    "duration": 15,
    "start_time": "2023-08-02T16:45:15.585Z"
   },
   {
    "duration": 15,
    "start_time": "2023-08-02T16:45:15.601Z"
   },
   {
    "duration": 205,
    "start_time": "2023-08-02T16:45:15.618Z"
   },
   {
    "duration": 132,
    "start_time": "2023-08-02T16:45:15.825Z"
   },
   {
    "duration": 25,
    "start_time": "2023-08-02T16:45:15.959Z"
   },
   {
    "duration": 15,
    "start_time": "2023-08-02T16:45:15.986Z"
   },
   {
    "duration": 226,
    "start_time": "2023-08-02T16:45:16.003Z"
   },
   {
    "duration": 10,
    "start_time": "2023-08-02T16:45:16.231Z"
   },
   {
    "duration": 1148,
    "start_time": "2023-08-02T16:45:16.243Z"
   },
   {
    "duration": 142,
    "start_time": "2023-08-02T16:45:17.393Z"
   },
   {
    "duration": 34,
    "start_time": "2023-08-02T16:45:17.537Z"
   },
   {
    "duration": 9,
    "start_time": "2023-08-02T16:45:17.574Z"
   },
   {
    "duration": 1773,
    "start_time": "2023-08-02T16:45:17.585Z"
   },
   {
    "duration": 135,
    "start_time": "2023-08-02T16:45:19.360Z"
   },
   {
    "duration": 20,
    "start_time": "2023-08-02T16:45:19.497Z"
   },
   {
    "duration": 8,
    "start_time": "2023-08-02T16:45:19.519Z"
   },
   {
    "duration": 193,
    "start_time": "2023-08-02T16:45:19.528Z"
   },
   {
    "duration": 129,
    "start_time": "2023-08-02T16:45:19.723Z"
   },
   {
    "duration": 26,
    "start_time": "2023-08-02T16:45:19.854Z"
   },
   {
    "duration": 166,
    "start_time": "2023-08-02T16:45:19.881Z"
   },
   {
    "duration": 19,
    "start_time": "2023-08-02T16:45:20.049Z"
   },
   {
    "duration": 165,
    "start_time": "2023-08-02T16:45:20.069Z"
   },
   {
    "duration": 146,
    "start_time": "2023-08-02T16:45:20.235Z"
   },
   {
    "duration": 23,
    "start_time": "2023-08-02T16:45:20.383Z"
   },
   {
    "duration": 10,
    "start_time": "2023-08-02T16:45:20.408Z"
   },
   {
    "duration": 236,
    "start_time": "2023-08-02T16:45:20.420Z"
   },
   {
    "duration": 131,
    "start_time": "2023-08-02T16:45:20.658Z"
   },
   {
    "duration": 19,
    "start_time": "2023-08-02T16:45:20.791Z"
   },
   {
    "duration": 194,
    "start_time": "2023-08-02T16:45:20.811Z"
   },
   {
    "duration": 10,
    "start_time": "2023-08-02T16:45:21.007Z"
   },
   {
    "duration": 678,
    "start_time": "2023-08-02T16:45:21.018Z"
   },
   {
    "duration": 148,
    "start_time": "2023-08-02T16:45:21.698Z"
   },
   {
    "duration": 35,
    "start_time": "2023-08-02T16:45:21.848Z"
   },
   {
    "duration": 26,
    "start_time": "2023-08-02T16:45:21.885Z"
   },
   {
    "duration": 279,
    "start_time": "2023-08-02T16:45:21.913Z"
   },
   {
    "duration": 135,
    "start_time": "2023-08-02T16:45:22.194Z"
   },
   {
    "duration": 24,
    "start_time": "2023-08-02T16:45:22.331Z"
   },
   {
    "duration": 9,
    "start_time": "2023-08-02T16:45:22.366Z"
   },
   {
    "duration": 148,
    "start_time": "2023-08-02T16:45:22.376Z"
   },
   {
    "duration": 120,
    "start_time": "2023-08-02T16:45:22.526Z"
   },
   {
    "duration": 28,
    "start_time": "2023-08-02T16:45:22.648Z"
   },
   {
    "duration": 13,
    "start_time": "2023-08-02T16:45:22.678Z"
   },
   {
    "duration": 1737,
    "start_time": "2023-08-02T16:45:22.693Z"
   },
   {
    "duration": 134,
    "start_time": "2023-08-02T16:45:24.433Z"
   },
   {
    "duration": 20,
    "start_time": "2023-08-02T16:45:24.569Z"
   },
   {
    "duration": 973,
    "start_time": "2023-08-02T16:45:24.591Z"
   },
   {
    "duration": 10,
    "start_time": "2023-08-02T16:45:25.567Z"
   },
   {
    "duration": 1148,
    "start_time": "2023-08-02T16:45:25.579Z"
   },
   {
    "duration": 126,
    "start_time": "2023-08-02T16:45:26.729Z"
   },
   {
    "duration": 23,
    "start_time": "2023-08-02T16:45:26.887Z"
   },
   {
    "duration": 14,
    "start_time": "2023-08-02T16:45:26.912Z"
   },
   {
    "duration": 2800,
    "start_time": "2023-08-02T16:45:26.928Z"
   },
   {
    "duration": 148,
    "start_time": "2023-08-02T16:45:29.730Z"
   },
   {
    "duration": 20,
    "start_time": "2023-08-02T16:45:29.880Z"
   },
   {
    "duration": 74,
    "start_time": "2023-08-02T16:45:29.902Z"
   },
   {
    "duration": 219,
    "start_time": "2023-08-02T16:45:29.978Z"
   },
   {
    "duration": 363,
    "start_time": "2023-08-02T16:45:30.200Z"
   },
   {
    "duration": 10,
    "start_time": "2023-08-02T16:45:30.567Z"
   },
   {
    "duration": 418,
    "start_time": "2023-08-02T16:45:30.579Z"
   },
   {
    "duration": 151,
    "start_time": "2023-08-02T16:45:31.000Z"
   },
   {
    "duration": 32,
    "start_time": "2023-08-02T16:45:31.153Z"
   },
   {
    "duration": 35,
    "start_time": "2023-08-02T16:45:31.188Z"
   },
   {
    "duration": 302,
    "start_time": "2023-08-02T16:45:31.226Z"
   },
   {
    "duration": 119,
    "start_time": "2023-08-02T16:45:31.529Z"
   },
   {
    "duration": 34,
    "start_time": "2023-08-02T16:45:31.651Z"
   },
   {
    "duration": 98,
    "start_time": "2023-08-02T16:45:31.688Z"
   },
   {
    "duration": 317,
    "start_time": "2023-08-02T16:45:31.788Z"
   },
   {
    "duration": 142,
    "start_time": "2023-08-02T16:45:32.107Z"
   },
   {
    "duration": 30,
    "start_time": "2023-08-02T16:45:32.251Z"
   },
   {
    "duration": 70,
    "start_time": "2023-08-02T16:45:32.283Z"
   },
   {
    "duration": 218,
    "start_time": "2023-08-02T16:45:32.366Z"
   },
   {
    "duration": 215,
    "start_time": "2023-08-02T16:45:32.586Z"
   },
   {
    "duration": 165,
    "start_time": "2023-08-02T16:45:32.802Z"
   },
   {
    "duration": 5,
    "start_time": "2023-08-02T16:45:32.968Z"
   },
   {
    "duration": 43,
    "start_time": "2023-08-02T16:45:32.974Z"
   },
   {
    "duration": 379,
    "start_time": "2023-08-02T16:45:33.019Z"
   },
   {
    "duration": 253,
    "start_time": "2023-08-02T16:45:33.400Z"
   },
   {
    "duration": 256,
    "start_time": "2023-08-02T16:45:33.654Z"
   },
   {
    "duration": 284,
    "start_time": "2023-08-02T16:45:33.912Z"
   },
   {
    "duration": 246,
    "start_time": "2023-08-02T16:45:34.197Z"
   },
   {
    "duration": 34,
    "start_time": "2023-08-02T16:45:34.445Z"
   },
   {
    "duration": 8,
    "start_time": "2023-08-02T16:45:34.480Z"
   },
   {
    "duration": 6,
    "start_time": "2023-08-02T16:45:34.490Z"
   },
   {
    "duration": 9,
    "start_time": "2023-08-02T16:45:34.497Z"
   },
   {
    "duration": 21,
    "start_time": "2023-08-02T16:45:34.508Z"
   },
   {
    "duration": 902,
    "start_time": "2023-08-02T16:45:34.531Z"
   },
   {
    "duration": 934,
    "start_time": "2023-08-02T16:45:35.435Z"
   },
   {
    "duration": 980,
    "start_time": "2023-08-02T16:45:36.371Z"
   },
   {
    "duration": 159,
    "start_time": "2023-08-02T16:45:37.353Z"
   },
   {
    "duration": 6,
    "start_time": "2023-08-02T16:45:37.514Z"
   },
   {
    "duration": 11,
    "start_time": "2023-08-02T16:45:37.522Z"
   },
   {
    "duration": 9,
    "start_time": "2023-08-02T16:45:37.535Z"
   },
   {
    "duration": 3142,
    "start_time": "2023-08-02T16:45:37.567Z"
   },
   {
    "duration": 4079,
    "start_time": "2023-08-02T16:45:40.712Z"
   },
   {
    "duration": 10,
    "start_time": "2023-08-02T16:45:44.793Z"
   },
   {
    "duration": 16,
    "start_time": "2023-08-02T16:45:44.804Z"
   },
   {
    "duration": 4,
    "start_time": "2023-08-02T16:45:44.822Z"
   },
   {
    "duration": 2165,
    "start_time": "2023-08-02T16:45:44.828Z"
   },
   {
    "duration": 3697,
    "start_time": "2023-08-02T16:45:46.995Z"
   },
   {
    "duration": 11,
    "start_time": "2023-08-02T16:45:50.694Z"
   },
   {
    "duration": 15,
    "start_time": "2023-08-02T16:45:50.707Z"
   },
   {
    "duration": 176,
    "start_time": "2023-08-02T16:45:50.724Z"
   },
   {
    "duration": 9,
    "start_time": "2023-08-02T16:45:50.901Z"
   },
   {
    "duration": 15,
    "start_time": "2023-08-02T16:45:50.912Z"
   },
   {
    "duration": 357,
    "start_time": "2023-08-02T16:45:50.929Z"
   },
   {
    "duration": 64,
    "start_time": "2023-08-02T16:45:51.288Z"
   },
   {
    "duration": 33,
    "start_time": "2023-08-02T16:45:51.354Z"
   },
   {
    "duration": 292,
    "start_time": "2023-08-02T16:45:51.389Z"
   },
   {
    "duration": 234,
    "start_time": "2023-08-02T16:45:51.683Z"
   },
   {
    "duration": 179,
    "start_time": "2023-08-02T16:45:51.918Z"
   },
   {
    "duration": 360,
    "start_time": "2023-08-02T16:45:52.099Z"
   },
   {
    "duration": 341,
    "start_time": "2023-08-02T16:45:52.461Z"
   },
   {
    "duration": 295,
    "start_time": "2023-08-02T16:45:52.804Z"
   },
   {
    "duration": 298,
    "start_time": "2023-08-02T16:45:53.101Z"
   },
   {
    "duration": 279,
    "start_time": "2023-08-02T16:45:53.400Z"
   },
   {
    "duration": 304,
    "start_time": "2023-08-02T16:45:53.680Z"
   },
   {
    "duration": 133,
    "start_time": "2023-08-02T17:43:06.561Z"
   },
   {
    "duration": 108,
    "start_time": "2023-08-02T17:43:39.176Z"
   },
   {
    "duration": 7,
    "start_time": "2023-08-02T17:44:34.242Z"
   },
   {
    "duration": 10,
    "start_time": "2023-08-02T17:47:55.714Z"
   },
   {
    "duration": 42,
    "start_time": "2023-08-02T17:48:05.597Z"
   },
   {
    "duration": 355,
    "start_time": "2023-08-04T09:33:41.055Z"
   },
   {
    "duration": 332,
    "start_time": "2023-08-04T09:33:42.650Z"
   },
   {
    "duration": 15,
    "start_time": "2023-08-04T09:33:50.888Z"
   },
   {
    "duration": 19,
    "start_time": "2023-08-04T09:36:52.775Z"
   },
   {
    "duration": 614,
    "start_time": "2023-08-04T09:36:58.542Z"
   },
   {
    "duration": 117,
    "start_time": "2023-08-04T09:37:18.795Z"
   },
   {
    "duration": 97,
    "start_time": "2023-08-04T09:37:45.869Z"
   },
   {
    "duration": 171,
    "start_time": "2023-08-04T09:38:00.965Z"
   },
   {
    "duration": 58,
    "start_time": "2023-08-04T09:39:52.696Z"
   },
   {
    "duration": 430,
    "start_time": "2023-08-04T09:40:46.482Z"
   },
   {
    "duration": 92,
    "start_time": "2023-08-04T09:40:46.914Z"
   },
   {
    "duration": 18,
    "start_time": "2023-08-04T09:40:47.007Z"
   },
   {
    "duration": 88,
    "start_time": "2023-08-04T09:40:47.027Z"
   },
   {
    "duration": 29,
    "start_time": "2023-08-04T09:40:47.117Z"
   },
   {
    "duration": 2246,
    "start_time": "2023-08-04T09:40:47.148Z"
   },
   {
    "duration": 15,
    "start_time": "2023-08-04T09:40:49.396Z"
   },
   {
    "duration": 23,
    "start_time": "2023-08-04T09:40:49.412Z"
   },
   {
    "duration": 24,
    "start_time": "2023-08-04T09:40:49.436Z"
   },
   {
    "duration": 12,
    "start_time": "2023-08-04T09:40:49.462Z"
   },
   {
    "duration": 20,
    "start_time": "2023-08-04T09:40:49.476Z"
   },
   {
    "duration": 29,
    "start_time": "2023-08-04T09:40:49.497Z"
   },
   {
    "duration": 18,
    "start_time": "2023-08-04T09:40:49.527Z"
   },
   {
    "duration": 15,
    "start_time": "2023-08-04T09:40:49.547Z"
   },
   {
    "duration": 1053,
    "start_time": "2023-08-04T09:40:49.564Z"
   },
   {
    "duration": 235,
    "start_time": "2023-08-04T09:40:50.619Z"
   },
   {
    "duration": 8,
    "start_time": "2023-08-04T09:40:50.856Z"
   },
   {
    "duration": 20,
    "start_time": "2023-08-04T09:40:50.866Z"
   },
   {
    "duration": 6,
    "start_time": "2023-08-04T09:40:50.909Z"
   },
   {
    "duration": 30,
    "start_time": "2023-08-04T09:40:50.916Z"
   },
   {
    "duration": 27,
    "start_time": "2023-08-04T09:40:50.947Z"
   },
   {
    "duration": 160,
    "start_time": "2023-08-04T09:40:50.975Z"
   },
   {
    "duration": 4,
    "start_time": "2023-08-04T09:40:51.137Z"
   },
   {
    "duration": 136,
    "start_time": "2023-08-04T09:40:51.143Z"
   },
   {
    "duration": 4,
    "start_time": "2023-08-04T09:40:51.280Z"
   },
   {
    "duration": 24,
    "start_time": "2023-08-04T09:40:51.285Z"
   },
   {
    "duration": 16,
    "start_time": "2023-08-04T09:40:51.311Z"
   },
   {
    "duration": 9,
    "start_time": "2023-08-04T09:40:51.329Z"
   },
   {
    "duration": 14,
    "start_time": "2023-08-04T09:40:51.339Z"
   },
   {
    "duration": 142,
    "start_time": "2023-08-04T09:40:51.355Z"
   },
   {
    "duration": 167,
    "start_time": "2023-08-04T09:40:51.499Z"
   },
   {
    "duration": 252,
    "start_time": "2023-08-04T09:40:51.668Z"
   },
   {
    "duration": 7,
    "start_time": "2023-08-04T09:40:51.921Z"
   },
   {
    "duration": 33,
    "start_time": "2023-08-04T09:40:51.930Z"
   },
   {
    "duration": 194,
    "start_time": "2023-08-04T09:40:51.964Z"
   },
   {
    "duration": 140,
    "start_time": "2023-08-04T09:40:52.159Z"
   },
   {
    "duration": 10,
    "start_time": "2023-08-04T09:40:52.301Z"
   },
   {
    "duration": 26,
    "start_time": "2023-08-04T09:40:52.313Z"
   },
   {
    "duration": 27,
    "start_time": "2023-08-04T09:40:52.341Z"
   },
   {
    "duration": 46,
    "start_time": "2023-08-04T09:40:52.370Z"
   },
   {
    "duration": 13,
    "start_time": "2023-08-04T09:40:52.422Z"
   },
   {
    "duration": 23,
    "start_time": "2023-08-04T09:40:52.437Z"
   },
   {
    "duration": 27,
    "start_time": "2023-08-04T09:40:52.461Z"
   },
   {
    "duration": 20,
    "start_time": "2023-08-04T09:40:52.490Z"
   },
   {
    "duration": 27,
    "start_time": "2023-08-04T09:40:52.512Z"
   },
   {
    "duration": 14,
    "start_time": "2023-08-04T09:40:52.541Z"
   },
   {
    "duration": 34,
    "start_time": "2023-08-04T09:40:52.557Z"
   },
   {
    "duration": 25,
    "start_time": "2023-08-04T09:40:52.592Z"
   },
   {
    "duration": 30,
    "start_time": "2023-08-04T09:40:52.619Z"
   },
   {
    "duration": 28,
    "start_time": "2023-08-04T09:40:52.651Z"
   },
   {
    "duration": 10,
    "start_time": "2023-08-04T09:40:52.681Z"
   },
   {
    "duration": 33,
    "start_time": "2023-08-04T09:40:52.692Z"
   },
   {
    "duration": 16,
    "start_time": "2023-08-04T09:40:52.726Z"
   },
   {
    "duration": 993,
    "start_time": "2023-08-04T09:40:52.743Z"
   },
   {
    "duration": 9,
    "start_time": "2023-08-04T09:40:53.738Z"
   },
   {
    "duration": 36,
    "start_time": "2023-08-04T09:40:53.748Z"
   },
   {
    "duration": 542,
    "start_time": "2023-08-04T09:40:53.786Z"
   },
   {
    "duration": 10,
    "start_time": "2023-08-04T09:40:54.331Z"
   },
   {
    "duration": 29,
    "start_time": "2023-08-04T09:40:54.342Z"
   },
   {
    "duration": 51,
    "start_time": "2023-08-04T09:40:54.373Z"
   },
   {
    "duration": 42,
    "start_time": "2023-08-04T09:40:54.426Z"
   },
   {
    "duration": 71,
    "start_time": "2023-08-04T09:40:54.470Z"
   },
   {
    "duration": 30,
    "start_time": "2023-08-04T09:40:54.542Z"
   },
   {
    "duration": 582,
    "start_time": "2023-08-04T09:40:54.574Z"
   },
   {
    "duration": 127,
    "start_time": "2023-08-04T09:40:55.158Z"
   },
   {
    "duration": 14,
    "start_time": "2023-08-04T09:40:55.287Z"
   },
   {
    "duration": 58,
    "start_time": "2023-08-04T09:40:55.302Z"
   },
   {
    "duration": 16,
    "start_time": "2023-08-04T09:40:55.362Z"
   },
   {
    "duration": 15,
    "start_time": "2023-08-04T09:40:55.380Z"
   },
   {
    "duration": 39,
    "start_time": "2023-08-04T09:40:55.397Z"
   },
   {
    "duration": 139,
    "start_time": "2023-08-04T09:40:55.438Z"
   },
   {
    "duration": 53,
    "start_time": "2023-08-04T09:40:55.579Z"
   },
   {
    "duration": 280,
    "start_time": "2023-08-04T09:40:55.633Z"
   },
   {
    "duration": 10,
    "start_time": "2023-08-04T09:40:55.916Z"
   },
   {
    "duration": 36,
    "start_time": "2023-08-04T09:40:55.928Z"
   },
   {
    "duration": 37,
    "start_time": "2023-08-04T09:40:55.966Z"
   },
   {
    "duration": 37,
    "start_time": "2023-08-04T09:40:56.005Z"
   },
   {
    "duration": 30,
    "start_time": "2023-08-04T09:40:56.044Z"
   },
   {
    "duration": 26,
    "start_time": "2023-08-04T09:40:56.076Z"
   },
   {
    "duration": 27,
    "start_time": "2023-08-04T09:40:56.105Z"
   },
   {
    "duration": 49,
    "start_time": "2023-08-04T09:40:56.134Z"
   },
   {
    "duration": 265,
    "start_time": "2023-08-04T09:40:56.185Z"
   },
   {
    "duration": 19,
    "start_time": "2023-08-04T09:40:56.451Z"
   },
   {
    "duration": 13,
    "start_time": "2023-08-04T09:40:56.471Z"
   },
   {
    "duration": 13,
    "start_time": "2023-08-04T09:40:56.500Z"
   },
   {
    "duration": 216,
    "start_time": "2023-08-04T09:40:56.516Z"
   },
   {
    "duration": 121,
    "start_time": "2023-08-04T09:40:56.733Z"
   },
   {
    "duration": 8,
    "start_time": "2023-08-04T09:40:56.856Z"
   },
   {
    "duration": 14,
    "start_time": "2023-08-04T09:40:56.866Z"
   },
   {
    "duration": 9758,
    "start_time": "2023-08-04T09:40:56.882Z"
   },
   {
    "duration": 9,
    "start_time": "2023-08-04T09:41:06.641Z"
   },
   {
    "duration": 796,
    "start_time": "2023-08-04T09:41:06.652Z"
   },
   {
    "duration": 7,
    "start_time": "2023-08-04T09:41:07.450Z"
   },
   {
    "duration": 51,
    "start_time": "2023-08-04T09:41:07.458Z"
   },
   {
    "duration": 82,
    "start_time": "2023-08-04T09:41:07.510Z"
   },
   {
    "duration": 91,
    "start_time": "2023-08-04T09:41:07.594Z"
   },
   {
    "duration": 309,
    "start_time": "2023-08-04T09:41:07.687Z"
   },
   {
    "duration": 142,
    "start_time": "2023-08-04T09:41:08.004Z"
   },
   {
    "duration": 9,
    "start_time": "2023-08-04T09:41:08.148Z"
   },
   {
    "duration": 66,
    "start_time": "2023-08-04T09:41:08.158Z"
   },
   {
    "duration": 126,
    "start_time": "2023-08-04T09:41:08.226Z"
   },
   {
    "duration": 0,
    "start_time": "2023-08-04T09:41:08.358Z"
   },
   {
    "duration": 0,
    "start_time": "2023-08-04T09:41:08.359Z"
   },
   {
    "duration": 0,
    "start_time": "2023-08-04T09:41:08.360Z"
   },
   {
    "duration": 0,
    "start_time": "2023-08-04T09:41:08.361Z"
   },
   {
    "duration": 0,
    "start_time": "2023-08-04T09:41:08.362Z"
   },
   {
    "duration": 0,
    "start_time": "2023-08-04T09:41:08.363Z"
   },
   {
    "duration": 0,
    "start_time": "2023-08-04T09:41:08.364Z"
   },
   {
    "duration": 0,
    "start_time": "2023-08-04T09:41:08.365Z"
   },
   {
    "duration": 0,
    "start_time": "2023-08-04T09:41:08.366Z"
   },
   {
    "duration": 0,
    "start_time": "2023-08-04T09:41:08.367Z"
   },
   {
    "duration": 0,
    "start_time": "2023-08-04T09:41:08.367Z"
   },
   {
    "duration": 0,
    "start_time": "2023-08-04T09:41:08.368Z"
   },
   {
    "duration": 0,
    "start_time": "2023-08-04T09:41:08.369Z"
   },
   {
    "duration": 0,
    "start_time": "2023-08-04T09:41:08.370Z"
   },
   {
    "duration": 0,
    "start_time": "2023-08-04T09:41:08.371Z"
   },
   {
    "duration": 0,
    "start_time": "2023-08-04T09:41:08.372Z"
   },
   {
    "duration": 0,
    "start_time": "2023-08-04T09:41:08.372Z"
   },
   {
    "duration": 0,
    "start_time": "2023-08-04T09:41:08.406Z"
   },
   {
    "duration": 0,
    "start_time": "2023-08-04T09:41:08.406Z"
   },
   {
    "duration": 0,
    "start_time": "2023-08-04T09:41:08.407Z"
   },
   {
    "duration": 0,
    "start_time": "2023-08-04T09:41:08.408Z"
   },
   {
    "duration": 0,
    "start_time": "2023-08-04T09:41:08.408Z"
   },
   {
    "duration": 0,
    "start_time": "2023-08-04T09:41:08.409Z"
   },
   {
    "duration": 0,
    "start_time": "2023-08-04T09:41:08.409Z"
   },
   {
    "duration": 0,
    "start_time": "2023-08-04T09:41:08.410Z"
   },
   {
    "duration": 0,
    "start_time": "2023-08-04T09:41:08.410Z"
   },
   {
    "duration": 0,
    "start_time": "2023-08-04T09:41:08.411Z"
   },
   {
    "duration": 0,
    "start_time": "2023-08-04T09:41:08.414Z"
   },
   {
    "duration": 0,
    "start_time": "2023-08-04T09:41:08.416Z"
   },
   {
    "duration": 0,
    "start_time": "2023-08-04T09:41:08.417Z"
   },
   {
    "duration": 0,
    "start_time": "2023-08-04T09:41:08.418Z"
   },
   {
    "duration": 0,
    "start_time": "2023-08-04T09:41:08.420Z"
   },
   {
    "duration": 0,
    "start_time": "2023-08-04T09:41:08.421Z"
   },
   {
    "duration": 0,
    "start_time": "2023-08-04T09:41:08.423Z"
   },
   {
    "duration": 0,
    "start_time": "2023-08-04T09:41:08.424Z"
   },
   {
    "duration": 0,
    "start_time": "2023-08-04T09:41:08.425Z"
   },
   {
    "duration": 0,
    "start_time": "2023-08-04T09:41:08.426Z"
   },
   {
    "duration": 0,
    "start_time": "2023-08-04T09:41:08.428Z"
   },
   {
    "duration": 0,
    "start_time": "2023-08-04T09:41:08.429Z"
   },
   {
    "duration": 0,
    "start_time": "2023-08-04T09:41:08.431Z"
   },
   {
    "duration": 0,
    "start_time": "2023-08-04T09:41:08.432Z"
   },
   {
    "duration": 0,
    "start_time": "2023-08-04T09:41:08.433Z"
   },
   {
    "duration": 0,
    "start_time": "2023-08-04T09:41:08.434Z"
   },
   {
    "duration": 0,
    "start_time": "2023-08-04T09:41:08.435Z"
   },
   {
    "duration": 0,
    "start_time": "2023-08-04T09:41:08.437Z"
   },
   {
    "duration": 0,
    "start_time": "2023-08-04T09:41:08.438Z"
   },
   {
    "duration": 0,
    "start_time": "2023-08-04T09:41:08.439Z"
   },
   {
    "duration": 0,
    "start_time": "2023-08-04T09:41:08.441Z"
   },
   {
    "duration": 1,
    "start_time": "2023-08-04T09:41:08.442Z"
   },
   {
    "duration": 0,
    "start_time": "2023-08-04T09:41:08.444Z"
   },
   {
    "duration": 0,
    "start_time": "2023-08-04T09:41:08.445Z"
   },
   {
    "duration": 0,
    "start_time": "2023-08-04T09:41:08.446Z"
   },
   {
    "duration": 0,
    "start_time": "2023-08-04T09:41:08.513Z"
   },
   {
    "duration": 0,
    "start_time": "2023-08-04T09:41:08.514Z"
   },
   {
    "duration": 0,
    "start_time": "2023-08-04T09:41:08.515Z"
   },
   {
    "duration": 0,
    "start_time": "2023-08-04T09:41:08.516Z"
   },
   {
    "duration": 0,
    "start_time": "2023-08-04T09:41:08.517Z"
   },
   {
    "duration": 1,
    "start_time": "2023-08-04T09:41:08.522Z"
   },
   {
    "duration": 0,
    "start_time": "2023-08-04T09:41:08.523Z"
   },
   {
    "duration": 0,
    "start_time": "2023-08-04T09:41:08.524Z"
   },
   {
    "duration": 0,
    "start_time": "2023-08-04T09:41:08.525Z"
   },
   {
    "duration": 0,
    "start_time": "2023-08-04T09:41:08.526Z"
   },
   {
    "duration": 0,
    "start_time": "2023-08-04T09:41:08.527Z"
   },
   {
    "duration": 0,
    "start_time": "2023-08-04T09:41:08.528Z"
   },
   {
    "duration": 0,
    "start_time": "2023-08-04T09:41:08.529Z"
   },
   {
    "duration": 0,
    "start_time": "2023-08-04T09:41:08.530Z"
   },
   {
    "duration": 0,
    "start_time": "2023-08-04T09:41:08.531Z"
   },
   {
    "duration": 0,
    "start_time": "2023-08-04T09:41:08.532Z"
   },
   {
    "duration": 0,
    "start_time": "2023-08-04T09:41:08.532Z"
   },
   {
    "duration": 0,
    "start_time": "2023-08-04T09:41:08.533Z"
   },
   {
    "duration": 0,
    "start_time": "2023-08-04T09:41:08.534Z"
   },
   {
    "duration": 0,
    "start_time": "2023-08-04T09:41:08.535Z"
   },
   {
    "duration": 0,
    "start_time": "2023-08-04T09:41:08.536Z"
   },
   {
    "duration": 0,
    "start_time": "2023-08-04T09:41:08.537Z"
   },
   {
    "duration": 0,
    "start_time": "2023-08-04T09:41:08.538Z"
   },
   {
    "duration": 0,
    "start_time": "2023-08-04T09:41:08.538Z"
   },
   {
    "duration": 0,
    "start_time": "2023-08-04T09:41:08.540Z"
   },
   {
    "duration": 0,
    "start_time": "2023-08-04T09:41:08.541Z"
   },
   {
    "duration": 0,
    "start_time": "2023-08-04T09:41:08.542Z"
   },
   {
    "duration": 0,
    "start_time": "2023-08-04T09:41:08.543Z"
   },
   {
    "duration": 0,
    "start_time": "2023-08-04T09:41:08.544Z"
   },
   {
    "duration": 0,
    "start_time": "2023-08-04T09:41:08.545Z"
   },
   {
    "duration": 0,
    "start_time": "2023-08-04T09:41:08.546Z"
   },
   {
    "duration": 0,
    "start_time": "2023-08-04T09:41:08.609Z"
   },
   {
    "duration": 0,
    "start_time": "2023-08-04T09:41:08.610Z"
   },
   {
    "duration": 0,
    "start_time": "2023-08-04T09:41:08.610Z"
   },
   {
    "duration": 0,
    "start_time": "2023-08-04T09:41:08.611Z"
   },
   {
    "duration": 0,
    "start_time": "2023-08-04T09:41:08.611Z"
   },
   {
    "duration": 0,
    "start_time": "2023-08-04T09:41:08.612Z"
   },
   {
    "duration": 0,
    "start_time": "2023-08-04T09:41:08.617Z"
   },
   {
    "duration": 0,
    "start_time": "2023-08-04T09:41:08.619Z"
   },
   {
    "duration": 0,
    "start_time": "2023-08-04T09:41:08.620Z"
   },
   {
    "duration": 0,
    "start_time": "2023-08-04T09:41:08.622Z"
   },
   {
    "duration": 0,
    "start_time": "2023-08-04T09:41:08.623Z"
   },
   {
    "duration": 0,
    "start_time": "2023-08-04T09:41:08.624Z"
   },
   {
    "duration": 0,
    "start_time": "2023-08-04T09:41:08.625Z"
   },
   {
    "duration": 0,
    "start_time": "2023-08-04T09:41:08.626Z"
   },
   {
    "duration": 0,
    "start_time": "2023-08-04T09:41:08.628Z"
   },
   {
    "duration": 0,
    "start_time": "2023-08-04T09:41:08.629Z"
   },
   {
    "duration": 0,
    "start_time": "2023-08-04T09:41:08.631Z"
   },
   {
    "duration": 0,
    "start_time": "2023-08-04T09:41:08.632Z"
   },
   {
    "duration": 0,
    "start_time": "2023-08-04T09:41:08.633Z"
   },
   {
    "duration": 0,
    "start_time": "2023-08-04T09:41:08.634Z"
   },
   {
    "duration": 0,
    "start_time": "2023-08-04T09:41:08.635Z"
   },
   {
    "duration": 1,
    "start_time": "2023-08-04T09:41:08.635Z"
   },
   {
    "duration": 0,
    "start_time": "2023-08-04T09:41:08.637Z"
   },
   {
    "duration": 0,
    "start_time": "2023-08-04T09:41:08.638Z"
   },
   {
    "duration": 0,
    "start_time": "2023-08-04T09:41:08.639Z"
   },
   {
    "duration": 0,
    "start_time": "2023-08-04T09:41:08.641Z"
   },
   {
    "duration": 0,
    "start_time": "2023-08-04T09:41:08.642Z"
   },
   {
    "duration": 0,
    "start_time": "2023-08-04T09:41:08.643Z"
   },
   {
    "duration": 0,
    "start_time": "2023-08-04T09:41:08.644Z"
   },
   {
    "duration": 0,
    "start_time": "2023-08-04T09:41:08.706Z"
   },
   {
    "duration": 0,
    "start_time": "2023-08-04T09:41:08.706Z"
   },
   {
    "duration": 0,
    "start_time": "2023-08-04T09:41:08.707Z"
   },
   {
    "duration": 0,
    "start_time": "2023-08-04T09:41:08.707Z"
   },
   {
    "duration": 0,
    "start_time": "2023-08-04T09:41:08.708Z"
   },
   {
    "duration": 0,
    "start_time": "2023-08-04T09:41:08.708Z"
   },
   {
    "duration": 0,
    "start_time": "2023-08-04T09:41:08.709Z"
   },
   {
    "duration": 0,
    "start_time": "2023-08-04T09:41:08.709Z"
   },
   {
    "duration": 0,
    "start_time": "2023-08-04T09:41:08.710Z"
   },
   {
    "duration": 0,
    "start_time": "2023-08-04T09:41:08.710Z"
   },
   {
    "duration": 0,
    "start_time": "2023-08-04T09:41:08.710Z"
   },
   {
    "duration": 0,
    "start_time": "2023-08-04T09:41:08.711Z"
   },
   {
    "duration": 0,
    "start_time": "2023-08-04T09:41:08.711Z"
   },
   {
    "duration": 0,
    "start_time": "2023-08-04T09:41:08.712Z"
   },
   {
    "duration": 0,
    "start_time": "2023-08-04T09:41:08.713Z"
   },
   {
    "duration": 0,
    "start_time": "2023-08-04T09:41:08.715Z"
   },
   {
    "duration": 0,
    "start_time": "2023-08-04T09:41:08.718Z"
   },
   {
    "duration": 0,
    "start_time": "2023-08-04T09:41:08.719Z"
   },
   {
    "duration": 0,
    "start_time": "2023-08-04T09:41:08.720Z"
   },
   {
    "duration": 0,
    "start_time": "2023-08-04T09:41:08.721Z"
   },
   {
    "duration": 0,
    "start_time": "2023-08-04T09:41:08.722Z"
   },
   {
    "duration": 0,
    "start_time": "2023-08-04T09:41:08.723Z"
   },
   {
    "duration": 0,
    "start_time": "2023-08-04T09:41:08.724Z"
   },
   {
    "duration": 0,
    "start_time": "2023-08-04T09:41:08.725Z"
   },
   {
    "duration": 0,
    "start_time": "2023-08-04T09:41:08.726Z"
   },
   {
    "duration": 0,
    "start_time": "2023-08-04T09:41:08.727Z"
   },
   {
    "duration": 0,
    "start_time": "2023-08-04T09:41:08.728Z"
   },
   {
    "duration": 0,
    "start_time": "2023-08-04T09:41:08.729Z"
   },
   {
    "duration": 0,
    "start_time": "2023-08-04T09:41:08.730Z"
   },
   {
    "duration": 0,
    "start_time": "2023-08-04T09:41:08.731Z"
   },
   {
    "duration": 0,
    "start_time": "2023-08-04T09:41:08.732Z"
   },
   {
    "duration": 0,
    "start_time": "2023-08-04T09:41:08.732Z"
   },
   {
    "duration": 0,
    "start_time": "2023-08-04T09:41:08.734Z"
   },
   {
    "duration": 0,
    "start_time": "2023-08-04T09:41:08.736Z"
   },
   {
    "duration": 0,
    "start_time": "2023-08-04T09:41:08.737Z"
   },
   {
    "duration": 0,
    "start_time": "2023-08-04T09:41:08.738Z"
   },
   {
    "duration": 0,
    "start_time": "2023-08-04T09:41:08.740Z"
   },
   {
    "duration": 0,
    "start_time": "2023-08-04T09:41:08.741Z"
   },
   {
    "duration": 0,
    "start_time": "2023-08-04T09:41:08.799Z"
   },
   {
    "duration": 0,
    "start_time": "2023-08-04T09:41:08.800Z"
   },
   {
    "duration": 0,
    "start_time": "2023-08-04T09:41:08.812Z"
   },
   {
    "duration": 0,
    "start_time": "2023-08-04T09:41:08.813Z"
   },
   {
    "duration": 0,
    "start_time": "2023-08-04T09:41:08.818Z"
   },
   {
    "duration": 0,
    "start_time": "2023-08-04T09:41:08.819Z"
   },
   {
    "duration": 0,
    "start_time": "2023-08-04T09:41:08.820Z"
   },
   {
    "duration": 0,
    "start_time": "2023-08-04T09:41:08.821Z"
   },
   {
    "duration": 0,
    "start_time": "2023-08-04T09:41:08.821Z"
   },
   {
    "duration": 0,
    "start_time": "2023-08-04T09:41:08.822Z"
   },
   {
    "duration": 0,
    "start_time": "2023-08-04T09:41:08.823Z"
   },
   {
    "duration": 0,
    "start_time": "2023-08-04T09:41:08.825Z"
   },
   {
    "duration": 0,
    "start_time": "2023-08-04T09:41:08.825Z"
   },
   {
    "duration": 0,
    "start_time": "2023-08-04T09:41:08.826Z"
   },
   {
    "duration": 0,
    "start_time": "2023-08-04T09:41:08.827Z"
   },
   {
    "duration": 0,
    "start_time": "2023-08-04T09:41:08.828Z"
   },
   {
    "duration": 0,
    "start_time": "2023-08-04T09:41:08.829Z"
   },
   {
    "duration": 0,
    "start_time": "2023-08-04T09:41:08.830Z"
   },
   {
    "duration": 0,
    "start_time": "2023-08-04T09:41:08.831Z"
   },
   {
    "duration": 0,
    "start_time": "2023-08-04T09:41:08.831Z"
   },
   {
    "duration": 1,
    "start_time": "2023-08-04T09:41:08.832Z"
   },
   {
    "duration": 0,
    "start_time": "2023-08-04T09:41:08.834Z"
   },
   {
    "duration": 0,
    "start_time": "2023-08-04T09:41:08.835Z"
   },
   {
    "duration": 0,
    "start_time": "2023-08-04T09:41:08.836Z"
   },
   {
    "duration": 0,
    "start_time": "2023-08-04T09:41:08.836Z"
   },
   {
    "duration": 0,
    "start_time": "2023-08-04T09:41:08.837Z"
   },
   {
    "duration": 0,
    "start_time": "2023-08-04T09:41:08.838Z"
   },
   {
    "duration": 0,
    "start_time": "2023-08-04T09:41:08.839Z"
   },
   {
    "duration": 0,
    "start_time": "2023-08-04T09:41:08.840Z"
   },
   {
    "duration": 0,
    "start_time": "2023-08-04T09:41:08.841Z"
   },
   {
    "duration": 0,
    "start_time": "2023-08-04T09:41:08.841Z"
   },
   {
    "duration": 0,
    "start_time": "2023-08-04T09:41:08.842Z"
   },
   {
    "duration": 0,
    "start_time": "2023-08-04T09:41:08.843Z"
   },
   {
    "duration": 0,
    "start_time": "2023-08-04T09:41:08.844Z"
   },
   {
    "duration": 0,
    "start_time": "2023-08-04T09:41:08.845Z"
   },
   {
    "duration": 0,
    "start_time": "2023-08-04T09:41:08.901Z"
   },
   {
    "duration": 0,
    "start_time": "2023-08-04T09:41:08.904Z"
   },
   {
    "duration": 0,
    "start_time": "2023-08-04T09:41:08.905Z"
   },
   {
    "duration": 0,
    "start_time": "2023-08-04T09:41:08.906Z"
   },
   {
    "duration": 0,
    "start_time": "2023-08-04T09:41:08.912Z"
   },
   {
    "duration": 0,
    "start_time": "2023-08-04T09:41:08.913Z"
   },
   {
    "duration": 0,
    "start_time": "2023-08-04T09:41:08.914Z"
   },
   {
    "duration": 0,
    "start_time": "2023-08-04T09:41:08.916Z"
   },
   {
    "duration": 0,
    "start_time": "2023-08-04T09:41:08.917Z"
   },
   {
    "duration": 0,
    "start_time": "2023-08-04T09:41:08.918Z"
   },
   {
    "duration": 0,
    "start_time": "2023-08-04T09:41:08.919Z"
   },
   {
    "duration": 0,
    "start_time": "2023-08-04T09:41:08.921Z"
   },
   {
    "duration": 0,
    "start_time": "2023-08-04T09:41:08.923Z"
   },
   {
    "duration": 0,
    "start_time": "2023-08-04T09:41:08.924Z"
   },
   {
    "duration": 0,
    "start_time": "2023-08-04T09:41:08.925Z"
   },
   {
    "duration": 0,
    "start_time": "2023-08-04T09:41:08.926Z"
   },
   {
    "duration": 0,
    "start_time": "2023-08-04T09:41:08.927Z"
   },
   {
    "duration": 0,
    "start_time": "2023-08-04T09:41:08.928Z"
   },
   {
    "duration": 0,
    "start_time": "2023-08-04T09:41:08.929Z"
   },
   {
    "duration": 0,
    "start_time": "2023-08-04T09:41:08.930Z"
   },
   {
    "duration": 0,
    "start_time": "2023-08-04T09:41:08.931Z"
   },
   {
    "duration": 0,
    "start_time": "2023-08-04T09:41:08.932Z"
   },
   {
    "duration": 0,
    "start_time": "2023-08-04T09:41:08.932Z"
   },
   {
    "duration": 0,
    "start_time": "2023-08-04T09:41:08.933Z"
   },
   {
    "duration": 0,
    "start_time": "2023-08-04T09:41:08.935Z"
   },
   {
    "duration": 0,
    "start_time": "2023-08-04T09:41:08.936Z"
   },
   {
    "duration": 0,
    "start_time": "2023-08-04T09:41:08.937Z"
   },
   {
    "duration": 0,
    "start_time": "2023-08-04T09:41:08.939Z"
   },
   {
    "duration": 0,
    "start_time": "2023-08-04T09:41:08.940Z"
   },
   {
    "duration": 0,
    "start_time": "2023-08-04T09:41:08.941Z"
   },
   {
    "duration": 0,
    "start_time": "2023-08-04T09:41:08.942Z"
   },
   {
    "duration": 0,
    "start_time": "2023-08-04T09:41:08.999Z"
   },
   {
    "duration": 0,
    "start_time": "2023-08-04T09:41:09.000Z"
   },
   {
    "duration": 0,
    "start_time": "2023-08-04T09:41:09.001Z"
   },
   {
    "duration": 0,
    "start_time": "2023-08-04T09:41:09.002Z"
   },
   {
    "duration": 0,
    "start_time": "2023-08-04T09:41:09.003Z"
   },
   {
    "duration": 0,
    "start_time": "2023-08-04T09:41:09.003Z"
   },
   {
    "duration": 0,
    "start_time": "2023-08-04T09:41:09.004Z"
   },
   {
    "duration": 58,
    "start_time": "2023-08-04T10:19:26.399Z"
   },
   {
    "duration": 11,
    "start_time": "2023-08-04T10:19:28.790Z"
   },
   {
    "duration": 9,
    "start_time": "2023-08-04T10:24:08.994Z"
   },
   {
    "duration": 9,
    "start_time": "2023-08-04T10:24:11.877Z"
   },
   {
    "duration": 14,
    "start_time": "2023-08-04T10:24:15.959Z"
   },
   {
    "duration": 9,
    "start_time": "2023-08-04T10:24:30.216Z"
   },
   {
    "duration": 4,
    "start_time": "2023-08-04T10:24:31.251Z"
   },
   {
    "duration": 313,
    "start_time": "2023-08-04T10:24:33.925Z"
   },
   {
    "duration": 13,
    "start_time": "2023-08-04T10:24:35.920Z"
   },
   {
    "duration": 9,
    "start_time": "2023-08-04T10:24:37.496Z"
   },
   {
    "duration": 7,
    "start_time": "2023-08-04T10:27:02.442Z"
   },
   {
    "duration": 7,
    "start_time": "2023-08-04T10:27:04.337Z"
   },
   {
    "duration": 8,
    "start_time": "2023-08-04T10:27:16.524Z"
   },
   {
    "duration": 1073,
    "start_time": "2023-08-04T10:27:17.708Z"
   },
   {
    "duration": 552,
    "start_time": "2023-08-04T10:27:18.783Z"
   },
   {
    "duration": 1088,
    "start_time": "2023-08-04T10:27:45.832Z"
   },
   {
    "duration": 537,
    "start_time": "2023-08-04T10:27:48.370Z"
   },
   {
    "duration": 373,
    "start_time": "2023-08-04T10:27:51.644Z"
   },
   {
    "duration": 9,
    "start_time": "2023-08-04T10:27:55.058Z"
   },
   {
    "duration": 594,
    "start_time": "2023-08-04T10:27:56.412Z"
   },
   {
    "duration": 271,
    "start_time": "2023-08-04T10:27:57.369Z"
   },
   {
    "duration": 264,
    "start_time": "2023-08-04T10:27:58.244Z"
   },
   {
    "duration": 8,
    "start_time": "2023-08-04T10:28:00.209Z"
   },
   {
    "duration": 772,
    "start_time": "2023-08-04T10:28:01.058Z"
   },
   {
    "duration": 3929,
    "start_time": "2023-08-04T10:28:01.832Z"
   },
   {
    "duration": 369,
    "start_time": "2023-08-04T10:28:05.764Z"
   },
   {
    "duration": 14,
    "start_time": "2023-08-04T10:28:06.135Z"
   },
   {
    "duration": 1001,
    "start_time": "2023-08-04T10:28:06.151Z"
   },
   {
    "duration": 825,
    "start_time": "2023-08-04T10:28:07.154Z"
   },
   {
    "duration": 363,
    "start_time": "2023-08-04T10:28:07.982Z"
   },
   {
    "duration": 30,
    "start_time": "2023-08-04T10:28:11.413Z"
   },
   {
    "duration": 12,
    "start_time": "2023-08-04T10:28:17.018Z"
   },
   {
    "duration": 198,
    "start_time": "2023-08-04T10:28:18.640Z"
   },
   {
    "duration": 120,
    "start_time": "2023-08-04T10:28:19.809Z"
   },
   {
    "duration": 10,
    "start_time": "2023-08-04T10:28:25.568Z"
   },
   {
    "duration": 132,
    "start_time": "2023-08-04T10:28:27.323Z"
   },
   {
    "duration": 125,
    "start_time": "2023-08-04T10:28:28.539Z"
   },
   {
    "duration": 130,
    "start_time": "2023-08-04T10:28:29.491Z"
   },
   {
    "duration": 9,
    "start_time": "2023-08-04T10:28:31.866Z"
   },
   {
    "duration": 156,
    "start_time": "2023-08-04T10:28:32.604Z"
   },
   {
    "duration": 132,
    "start_time": "2023-08-04T10:28:44.812Z"
   },
   {
    "duration": 126,
    "start_time": "2023-08-04T10:28:46.176Z"
   },
   {
    "duration": 11,
    "start_time": "2023-08-04T10:28:51.484Z"
   },
   {
    "duration": 192,
    "start_time": "2023-08-04T10:28:54.558Z"
   },
   {
    "duration": 7,
    "start_time": "2023-08-04T10:28:58.588Z"
   },
   {
    "duration": 346,
    "start_time": "2023-08-04T10:28:59.392Z"
   },
   {
    "duration": 2490,
    "start_time": "2023-08-04T10:29:01.972Z"
   },
   {
    "duration": 0,
    "start_time": "2023-08-04T10:29:04.463Z"
   },
   {
    "duration": 77,
    "start_time": "2023-08-04T10:30:41.298Z"
   },
   {
    "duration": 78,
    "start_time": "2023-08-04T10:31:48.623Z"
   },
   {
    "duration": 77,
    "start_time": "2023-08-04T10:31:52.545Z"
   },
   {
    "duration": 17,
    "start_time": "2023-08-04T10:32:59.865Z"
   },
   {
    "duration": 2417,
    "start_time": "2023-08-04T10:33:23.571Z"
   },
   {
    "duration": 16,
    "start_time": "2023-08-04T10:33:40.525Z"
   },
   {
    "duration": 17,
    "start_time": "2023-08-04T10:33:47.854Z"
   },
   {
    "duration": 8,
    "start_time": "2023-08-04T10:34:18.767Z"
   },
   {
    "duration": 9,
    "start_time": "2023-08-04T10:34:25.577Z"
   },
   {
    "duration": 10,
    "start_time": "2023-08-04T10:34:42.905Z"
   },
   {
    "duration": 12,
    "start_time": "2023-08-04T10:34:44.570Z"
   },
   {
    "duration": 196,
    "start_time": "2023-08-04T10:35:02.581Z"
   },
   {
    "duration": 9,
    "start_time": "2023-08-04T10:35:10.911Z"
   },
   {
    "duration": 161,
    "start_time": "2023-08-04T10:35:12.142Z"
   },
   {
    "duration": 10,
    "start_time": "2023-08-04T10:35:15.390Z"
   },
   {
    "duration": 170,
    "start_time": "2023-08-04T10:35:16.533Z"
   },
   {
    "duration": 140,
    "start_time": "2023-08-04T10:35:19.342Z"
   },
   {
    "duration": 165,
    "start_time": "2023-08-04T10:35:28.552Z"
   },
   {
    "duration": 9,
    "start_time": "2023-08-04T10:35:35.719Z"
   },
   {
    "duration": 319,
    "start_time": "2023-08-04T10:35:36.876Z"
   },
   {
    "duration": 310,
    "start_time": "2023-08-04T10:35:37.861Z"
   },
   {
    "duration": 309,
    "start_time": "2023-08-04T10:35:39.470Z"
   },
   {
    "duration": 6,
    "start_time": "2023-08-04T10:35:45.307Z"
   },
   {
    "duration": 5,
    "start_time": "2023-08-04T10:37:21.903Z"
   },
   {
    "duration": 119,
    "start_time": "2023-08-04T10:37:24.447Z"
   },
   {
    "duration": 3,
    "start_time": "2023-08-04T10:37:31.439Z"
   },
   {
    "duration": 4,
    "start_time": "2023-08-04T10:37:33.186Z"
   },
   {
    "duration": 8,
    "start_time": "2023-08-04T10:37:35.438Z"
   },
   {
    "duration": 155,
    "start_time": "2023-08-04T10:37:36.993Z"
   },
   {
    "duration": 98,
    "start_time": "2023-08-04T10:37:38.225Z"
   },
   {
    "duration": 16,
    "start_time": "2023-08-04T10:37:39.312Z"
   },
   {
    "duration": 12,
    "start_time": "2023-08-04T10:37:40.120Z"
   },
   {
    "duration": 8,
    "start_time": "2023-08-04T10:37:45.745Z"
   },
   {
    "duration": 1212,
    "start_time": "2023-08-04T10:37:47.683Z"
   },
   {
    "duration": 117,
    "start_time": "2023-08-04T10:37:49.257Z"
   },
   {
    "duration": 21,
    "start_time": "2023-08-04T10:37:50.762Z"
   },
   {
    "duration": 8,
    "start_time": "2023-08-04T10:37:57.442Z"
   },
   {
    "duration": 929,
    "start_time": "2023-08-04T10:37:58.539Z"
   },
   {
    "duration": 97,
    "start_time": "2023-08-04T10:38:00.563Z"
   },
   {
    "duration": 17,
    "start_time": "2023-08-04T10:38:01.774Z"
   },
   {
    "duration": 9,
    "start_time": "2023-08-04T10:38:04.169Z"
   },
   {
    "duration": 133,
    "start_time": "2023-08-04T10:38:05.051Z"
   },
   {
    "duration": 117,
    "start_time": "2023-08-04T10:38:06.068Z"
   },
   {
    "duration": 16,
    "start_time": "2023-08-04T10:38:28.217Z"
   },
   {
    "duration": 122,
    "start_time": "2023-08-04T10:38:30.041Z"
   },
   {
    "duration": 8,
    "start_time": "2023-08-04T10:38:31.800Z"
   },
   {
    "duration": 118,
    "start_time": "2023-08-04T10:38:32.569Z"
   },
   {
    "duration": 106,
    "start_time": "2023-08-04T10:38:33.370Z"
   },
   {
    "duration": 20,
    "start_time": "2023-08-04T10:38:34.146Z"
   },
   {
    "duration": 8,
    "start_time": "2023-08-04T10:38:36.335Z"
   },
   {
    "duration": 162,
    "start_time": "2023-08-04T10:38:37.361Z"
   },
   {
    "duration": 99,
    "start_time": "2023-08-04T10:38:38.386Z"
   },
   {
    "duration": 17,
    "start_time": "2023-08-04T10:38:39.425Z"
   },
   {
    "duration": 132,
    "start_time": "2023-08-04T10:38:41.155Z"
   },
   {
    "duration": 9,
    "start_time": "2023-08-04T10:38:43.585Z"
   },
   {
    "duration": 888,
    "start_time": "2023-08-04T10:38:44.589Z"
   },
   {
    "duration": 126,
    "start_time": "2023-08-04T10:38:45.479Z"
   },
   {
    "duration": 20,
    "start_time": "2023-08-04T10:38:46.546Z"
   },
   {
    "duration": 9,
    "start_time": "2023-08-04T10:38:48.296Z"
   },
   {
    "duration": 204,
    "start_time": "2023-08-04T10:38:49.169Z"
   },
   {
    "duration": 106,
    "start_time": "2023-08-04T10:38:50.123Z"
   },
   {
    "duration": 16,
    "start_time": "2023-08-04T10:38:51.091Z"
   },
   {
    "duration": 9,
    "start_time": "2023-08-04T10:38:53.058Z"
   },
   {
    "duration": 118,
    "start_time": "2023-08-04T10:38:55.039Z"
   },
   {
    "duration": 114,
    "start_time": "2023-08-04T10:38:55.160Z"
   },
   {
    "duration": 22,
    "start_time": "2023-08-04T10:38:56.171Z"
   },
   {
    "duration": 9,
    "start_time": "2023-08-04T10:38:58.058Z"
   },
   {
    "duration": 881,
    "start_time": "2023-08-04T10:38:59.156Z"
   },
   {
    "duration": 98,
    "start_time": "2023-08-04T10:39:00.052Z"
   },
   {
    "duration": 16,
    "start_time": "2023-08-04T10:39:01.236Z"
   },
   {
    "duration": 746,
    "start_time": "2023-08-04T10:39:02.309Z"
   },
   {
    "duration": 10,
    "start_time": "2023-08-04T10:39:06.283Z"
   },
   {
    "duration": 883,
    "start_time": "2023-08-04T10:39:07.358Z"
   },
   {
    "duration": 591,
    "start_time": "2023-08-04T10:39:08.566Z"
   },
   {
    "duration": 17,
    "start_time": "2023-08-04T10:39:09.678Z"
   },
   {
    "duration": 9,
    "start_time": "2023-08-04T10:39:12.388Z"
   },
   {
    "duration": 1654,
    "start_time": "2023-08-04T10:39:13.398Z"
   },
   {
    "duration": 125,
    "start_time": "2023-08-04T10:39:15.054Z"
   },
   {
    "duration": 17,
    "start_time": "2023-08-04T10:39:16.311Z"
   },
   {
    "duration": 56,
    "start_time": "2023-08-04T10:39:18.704Z"
   },
   {
    "duration": 164,
    "start_time": "2023-08-04T10:39:25.641Z"
   },
   {
    "duration": 292,
    "start_time": "2023-08-04T10:39:26.927Z"
   },
   {
    "duration": 5291,
    "start_time": "2023-08-04T10:39:33.663Z"
   },
   {
    "duration": 0,
    "start_time": "2023-08-04T10:39:38.956Z"
   },
   {
    "duration": 23,
    "start_time": "2023-08-04T10:40:31.583Z"
   },
   {
    "duration": 7,
    "start_time": "2023-08-04T10:45:34.240Z"
   },
   {
    "duration": 10,
    "start_time": "2023-08-04T10:45:44.462Z"
   },
   {
    "duration": 10,
    "start_time": "2023-08-04T10:45:49.013Z"
   },
   {
    "duration": 10,
    "start_time": "2023-08-04T10:45:50.416Z"
   },
   {
    "duration": 20,
    "start_time": "2023-08-04T10:46:18.251Z"
   },
   {
    "duration": 21,
    "start_time": "2023-08-04T10:46:20.641Z"
   },
   {
    "duration": 9,
    "start_time": "2023-08-04T10:46:25.432Z"
   },
   {
    "duration": 316,
    "start_time": "2023-08-04T10:46:38.044Z"
   },
   {
    "duration": 124,
    "start_time": "2023-08-04T10:46:46.088Z"
   },
   {
    "duration": 21,
    "start_time": "2023-08-04T10:46:50.334Z"
   },
   {
    "duration": 8,
    "start_time": "2023-08-04T10:47:02.699Z"
   },
   {
    "duration": 201,
    "start_time": "2023-08-04T10:47:03.904Z"
   },
   {
    "duration": 99,
    "start_time": "2023-08-04T10:47:04.955Z"
   },
   {
    "duration": 21,
    "start_time": "2023-08-04T10:47:06.158Z"
   },
   {
    "duration": 7,
    "start_time": "2023-08-04T10:47:07.916Z"
   },
   {
    "duration": 210,
    "start_time": "2023-08-04T10:47:08.533Z"
   },
   {
    "duration": 114,
    "start_time": "2023-08-04T10:47:09.741Z"
   },
   {
    "duration": 17,
    "start_time": "2023-08-04T10:47:11.000Z"
   },
   {
    "duration": 85,
    "start_time": "2023-08-04T10:47:23.862Z"
   },
   {
    "duration": 18,
    "start_time": "2023-08-04T10:47:26.480Z"
   },
   {
    "duration": 165,
    "start_time": "2023-08-04T11:03:49.672Z"
   },
   {
    "duration": 193,
    "start_time": "2023-08-04T11:03:52.206Z"
   },
   {
    "duration": 169,
    "start_time": "2023-08-04T11:03:54.203Z"
   },
   {
    "duration": 175,
    "start_time": "2023-08-04T11:04:07.679Z"
   },
   {
    "duration": 128,
    "start_time": "2023-08-04T11:04:33.755Z"
   },
   {
    "duration": 7,
    "start_time": "2023-08-04T11:05:56.702Z"
   },
   {
    "duration": 278332,
    "start_time": "2023-08-04T11:10:44.940Z"
   },
   {
    "duration": 219,
    "start_time": "2023-08-04T11:15:23.273Z"
   },
   {
    "duration": 168,
    "start_time": "2023-08-04T11:15:23.499Z"
   },
   {
    "duration": 13,
    "start_time": "2023-08-04T11:18:32.208Z"
   },
   {
    "duration": 74965,
    "start_time": "2023-08-04T11:18:48.480Z"
   },
   {
    "duration": 785,
    "start_time": "2023-08-08T14:01:05.824Z"
   },
   {
    "duration": 94,
    "start_time": "2023-08-08T14:01:06.611Z"
   },
   {
    "duration": 14,
    "start_time": "2023-08-08T14:01:06.709Z"
   },
   {
    "duration": 104,
    "start_time": "2023-08-08T14:01:06.725Z"
   },
   {
    "duration": 34,
    "start_time": "2023-08-08T14:01:06.831Z"
   },
   {
    "duration": 2190,
    "start_time": "2023-08-08T14:01:06.867Z"
   },
   {
    "duration": 5,
    "start_time": "2023-08-08T14:01:09.059Z"
   },
   {
    "duration": 22,
    "start_time": "2023-08-08T14:01:09.066Z"
   },
   {
    "duration": 14,
    "start_time": "2023-08-08T14:01:09.089Z"
   },
   {
    "duration": 7,
    "start_time": "2023-08-08T14:01:09.108Z"
   },
   {
    "duration": 14,
    "start_time": "2023-08-08T14:01:09.117Z"
   },
   {
    "duration": 23,
    "start_time": "2023-08-08T14:01:09.132Z"
   },
   {
    "duration": 12,
    "start_time": "2023-08-08T14:01:09.157Z"
   },
   {
    "duration": 12,
    "start_time": "2023-08-08T14:01:09.171Z"
   },
   {
    "duration": 1347,
    "start_time": "2023-08-08T14:01:09.185Z"
   },
   {
    "duration": 272,
    "start_time": "2023-08-08T14:01:10.534Z"
   },
   {
    "duration": 8,
    "start_time": "2023-08-08T14:01:10.808Z"
   },
   {
    "duration": 26,
    "start_time": "2023-08-08T14:01:10.818Z"
   },
   {
    "duration": 5,
    "start_time": "2023-08-08T14:01:10.846Z"
   },
   {
    "duration": 27,
    "start_time": "2023-08-08T14:01:10.852Z"
   },
   {
    "duration": 10,
    "start_time": "2023-08-08T14:01:10.881Z"
   },
   {
    "duration": 185,
    "start_time": "2023-08-08T14:01:10.893Z"
   },
   {
    "duration": 5,
    "start_time": "2023-08-08T14:01:11.080Z"
   },
   {
    "duration": 155,
    "start_time": "2023-08-08T14:01:11.086Z"
   },
   {
    "duration": 5,
    "start_time": "2023-08-08T14:01:11.243Z"
   },
   {
    "duration": 29,
    "start_time": "2023-08-08T14:01:11.249Z"
   },
   {
    "duration": 7,
    "start_time": "2023-08-08T14:01:11.279Z"
   },
   {
    "duration": 13,
    "start_time": "2023-08-08T14:01:11.290Z"
   },
   {
    "duration": 10,
    "start_time": "2023-08-08T14:01:11.308Z"
   },
   {
    "duration": 192,
    "start_time": "2023-08-08T14:01:11.320Z"
   },
   {
    "duration": 226,
    "start_time": "2023-08-08T14:01:11.515Z"
   },
   {
    "duration": 332,
    "start_time": "2023-08-08T14:01:11.743Z"
   },
   {
    "duration": 8,
    "start_time": "2023-08-08T14:01:12.077Z"
   },
   {
    "duration": 25,
    "start_time": "2023-08-08T14:01:12.087Z"
   },
   {
    "duration": 201,
    "start_time": "2023-08-08T14:01:12.114Z"
   },
   {
    "duration": 166,
    "start_time": "2023-08-08T14:01:12.317Z"
   },
   {
    "duration": 9,
    "start_time": "2023-08-08T14:01:12.485Z"
   },
   {
    "duration": 42,
    "start_time": "2023-08-08T14:01:12.512Z"
   },
   {
    "duration": 30,
    "start_time": "2023-08-08T14:01:12.556Z"
   },
   {
    "duration": 91,
    "start_time": "2023-08-08T14:01:12.588Z"
   },
   {
    "duration": 24,
    "start_time": "2023-08-08T14:01:12.681Z"
   },
   {
    "duration": 20,
    "start_time": "2023-08-08T14:01:12.707Z"
   },
   {
    "duration": 46,
    "start_time": "2023-08-08T14:01:12.729Z"
   },
   {
    "duration": 99,
    "start_time": "2023-08-08T14:01:12.777Z"
   },
   {
    "duration": 80,
    "start_time": "2023-08-08T14:01:12.877Z"
   },
   {
    "duration": 321,
    "start_time": "2023-08-08T14:01:12.958Z"
   },
   {
    "duration": 153,
    "start_time": "2023-08-08T14:01:13.281Z"
   },
   {
    "duration": 205,
    "start_time": "2023-08-08T14:01:13.436Z"
   },
   {
    "duration": 232,
    "start_time": "2023-08-08T14:01:13.643Z"
   },
   {
    "duration": 63,
    "start_time": "2023-08-08T14:01:13.877Z"
   },
   {
    "duration": 102,
    "start_time": "2023-08-08T14:01:13.941Z"
   },
   {
    "duration": 78,
    "start_time": "2023-08-08T14:01:14.045Z"
   },
   {
    "duration": 56,
    "start_time": "2023-08-08T14:01:14.125Z"
   },
   {
    "duration": 1749,
    "start_time": "2023-08-08T14:01:14.183Z"
   },
   {
    "duration": 14,
    "start_time": "2023-08-08T14:01:15.935Z"
   },
   {
    "duration": 37,
    "start_time": "2023-08-08T14:01:15.951Z"
   },
   {
    "duration": 482,
    "start_time": "2023-08-08T14:01:15.991Z"
   },
   {
    "duration": 7,
    "start_time": "2023-08-08T14:01:16.475Z"
   },
   {
    "duration": 70,
    "start_time": "2023-08-08T14:01:16.484Z"
   },
   {
    "duration": 208,
    "start_time": "2023-08-08T14:01:16.556Z"
   },
   {
    "duration": 34,
    "start_time": "2023-08-08T14:01:16.766Z"
   },
   {
    "duration": 58,
    "start_time": "2023-08-08T14:01:16.802Z"
   },
   {
    "duration": 106,
    "start_time": "2023-08-08T14:01:16.861Z"
   },
   {
    "duration": 869,
    "start_time": "2023-08-08T14:01:16.969Z"
   },
   {
    "duration": 569,
    "start_time": "2023-08-08T14:01:17.840Z"
   },
   {
    "duration": 11,
    "start_time": "2023-08-08T14:01:18.411Z"
   },
   {
    "duration": 188,
    "start_time": "2023-08-08T14:01:18.424Z"
   },
   {
    "duration": 11,
    "start_time": "2023-08-08T14:01:18.615Z"
   },
   {
    "duration": 84,
    "start_time": "2023-08-08T14:01:18.629Z"
   },
   {
    "duration": 26,
    "start_time": "2023-08-08T14:01:18.715Z"
   },
   {
    "duration": 673,
    "start_time": "2023-08-08T14:01:18.743Z"
   },
   {
    "duration": 97,
    "start_time": "2023-08-08T14:01:19.419Z"
   },
   {
    "duration": 1004,
    "start_time": "2023-08-08T14:01:19.519Z"
   },
   {
    "duration": 9,
    "start_time": "2023-08-08T14:01:20.526Z"
   },
   {
    "duration": 173,
    "start_time": "2023-08-08T14:01:20.537Z"
   },
   {
    "duration": 105,
    "start_time": "2023-08-08T14:01:20.713Z"
   },
   {
    "duration": 24,
    "start_time": "2023-08-08T14:01:20.820Z"
   },
   {
    "duration": 34,
    "start_time": "2023-08-08T14:01:20.909Z"
   },
   {
    "duration": 73,
    "start_time": "2023-08-08T14:01:20.946Z"
   },
   {
    "duration": 96,
    "start_time": "2023-08-08T14:01:21.021Z"
   },
   {
    "duration": 14,
    "start_time": "2023-08-08T14:01:21.119Z"
   },
   {
    "duration": 923,
    "start_time": "2023-08-08T14:01:21.217Z"
   },
   {
    "duration": 89,
    "start_time": "2023-08-08T14:01:22.142Z"
   },
   {
    "duration": 16,
    "start_time": "2023-08-08T14:01:22.233Z"
   },
   {
    "duration": 41,
    "start_time": "2023-08-08T14:01:22.309Z"
   },
   {
    "duration": 472,
    "start_time": "2023-08-08T14:01:22.352Z"
   },
   {
    "duration": 219,
    "start_time": "2023-08-08T14:01:22.826Z"
   },
   {
    "duration": 63,
    "start_time": "2023-08-08T14:01:23.047Z"
   },
   {
    "duration": 4,
    "start_time": "2023-08-08T14:01:23.112Z"
   },
   {
    "duration": 22434,
    "start_time": "2023-08-08T14:01:23.118Z"
   },
   {
    "duration": 15,
    "start_time": "2023-08-08T14:01:45.609Z"
   },
   {
    "duration": 2009,
    "start_time": "2023-08-08T14:01:45.626Z"
   },
   {
    "duration": 8,
    "start_time": "2023-08-08T14:01:47.637Z"
   },
   {
    "duration": 66,
    "start_time": "2023-08-08T14:01:47.647Z"
   },
   {
    "duration": 45,
    "start_time": "2023-08-08T14:01:47.716Z"
   },
   {
    "duration": 83,
    "start_time": "2023-08-08T14:01:47.763Z"
   },
   {
    "duration": 472,
    "start_time": "2023-08-08T14:01:47.848Z"
   },
   {
    "duration": 224,
    "start_time": "2023-08-08T14:01:48.322Z"
   },
   {
    "duration": 65,
    "start_time": "2023-08-08T14:01:48.548Z"
   },
   {
    "duration": 40,
    "start_time": "2023-08-08T14:01:48.615Z"
   },
   {
    "duration": 65,
    "start_time": "2023-08-08T14:01:48.657Z"
   },
   {
    "duration": 21,
    "start_time": "2023-08-08T14:01:48.724Z"
   },
   {
    "duration": 72,
    "start_time": "2023-08-08T14:01:48.747Z"
   },
   {
    "duration": 30,
    "start_time": "2023-08-08T14:01:48.820Z"
   },
   {
    "duration": 63,
    "start_time": "2023-08-08T14:01:48.851Z"
   },
   {
    "duration": 50,
    "start_time": "2023-08-08T14:01:48.916Z"
   },
   {
    "duration": 50,
    "start_time": "2023-08-08T14:01:48.968Z"
   },
   {
    "duration": 99,
    "start_time": "2023-08-08T14:01:49.020Z"
   },
   {
    "duration": 422,
    "start_time": "2023-08-08T14:01:49.121Z"
   },
   {
    "duration": 69,
    "start_time": "2023-08-08T14:01:49.544Z"
   },
   {
    "duration": 53,
    "start_time": "2023-08-08T14:01:49.614Z"
   },
   {
    "duration": 48,
    "start_time": "2023-08-08T14:01:49.669Z"
   },
   {
    "duration": 24,
    "start_time": "2023-08-08T14:01:49.719Z"
   },
   {
    "duration": 70,
    "start_time": "2023-08-08T14:01:49.745Z"
   },
   {
    "duration": 27,
    "start_time": "2023-08-08T14:01:49.817Z"
   },
   {
    "duration": 71,
    "start_time": "2023-08-08T14:01:49.846Z"
   },
   {
    "duration": 30,
    "start_time": "2023-08-08T14:01:49.919Z"
   },
   {
    "duration": 66,
    "start_time": "2023-08-08T14:01:49.952Z"
   },
   {
    "duration": 49,
    "start_time": "2023-08-08T14:01:50.019Z"
   },
   {
    "duration": 714,
    "start_time": "2023-08-08T14:01:50.110Z"
   },
   {
    "duration": 13,
    "start_time": "2023-08-08T14:01:50.826Z"
   },
   {
    "duration": 130,
    "start_time": "2023-08-08T14:01:50.841Z"
   },
   {
    "duration": 50,
    "start_time": "2023-08-08T14:01:50.974Z"
   },
   {
    "duration": 29,
    "start_time": "2023-08-08T14:01:51.027Z"
   },
   {
    "duration": 653,
    "start_time": "2023-08-08T14:01:51.058Z"
   },
   {
    "duration": 10,
    "start_time": "2023-08-08T14:01:51.713Z"
   },
   {
    "duration": 116,
    "start_time": "2023-08-08T14:01:51.724Z"
   },
   {
    "duration": 1398,
    "start_time": "2023-08-08T14:01:51.842Z"
   },
   {
    "duration": 471,
    "start_time": "2023-08-08T14:01:53.242Z"
   },
   {
    "duration": 4,
    "start_time": "2023-08-08T14:01:53.715Z"
   },
   {
    "duration": 134144,
    "start_time": "2023-08-08T14:01:53.721Z"
   },
   {
    "duration": 42088,
    "start_time": "2023-08-08T14:04:07.866Z"
   },
   {
    "duration": 9,
    "start_time": "2023-08-08T14:04:49.956Z"
   },
   {
    "duration": 19,
    "start_time": "2023-08-08T14:04:49.967Z"
   },
   {
    "duration": 79,
    "start_time": "2023-08-08T14:04:49.988Z"
   },
   {
    "duration": 346,
    "start_time": "2023-08-08T14:04:50.069Z"
   },
   {
    "duration": 3,
    "start_time": "2023-08-08T14:04:50.417Z"
   },
   {
    "duration": 69960,
    "start_time": "2023-08-08T14:04:50.422Z"
   },
   {
    "duration": 5350,
    "start_time": "2023-08-08T14:06:00.384Z"
   },
   {
    "duration": 13,
    "start_time": "2023-08-08T14:06:05.735Z"
   },
   {
    "duration": 61,
    "start_time": "2023-08-08T14:06:05.750Z"
   },
   {
    "duration": 444,
    "start_time": "2023-08-08T14:06:05.813Z"
   },
   {
    "duration": 5,
    "start_time": "2023-08-08T14:06:06.260Z"
   },
   {
    "duration": 82595,
    "start_time": "2023-08-08T14:06:06.267Z"
   },
   {
    "duration": 7067,
    "start_time": "2023-08-08T14:07:28.864Z"
   },
   {
    "duration": 6,
    "start_time": "2023-08-08T14:07:35.933Z"
   },
   {
    "duration": 54,
    "start_time": "2023-08-08T14:07:35.941Z"
   },
   {
    "duration": 18,
    "start_time": "2023-08-08T14:07:35.997Z"
   },
   {
    "duration": 71,
    "start_time": "2023-08-08T14:07:36.017Z"
   },
   {
    "duration": 40,
    "start_time": "2023-08-08T14:07:36.090Z"
   },
   {
    "duration": 28,
    "start_time": "2023-08-08T14:07:36.132Z"
   },
   {
    "duration": 32,
    "start_time": "2023-08-08T14:07:36.162Z"
   },
   {
    "duration": 31,
    "start_time": "2023-08-08T14:07:36.196Z"
   },
   {
    "duration": 347,
    "start_time": "2023-08-08T14:07:36.229Z"
   },
   {
    "duration": 10,
    "start_time": "2023-08-08T14:07:36.578Z"
   },
   {
    "duration": 22,
    "start_time": "2023-08-08T14:07:36.590Z"
   },
   {
    "duration": 18,
    "start_time": "2023-08-08T14:07:36.614Z"
   },
   {
    "duration": 16,
    "start_time": "2023-08-08T14:07:36.634Z"
   },
   {
    "duration": 19,
    "start_time": "2023-08-08T14:07:36.652Z"
   },
   {
    "duration": 1416,
    "start_time": "2023-08-08T14:07:36.672Z"
   },
   {
    "duration": 393,
    "start_time": "2023-08-08T14:07:38.089Z"
   },
   {
    "duration": 386,
    "start_time": "2023-08-08T14:07:38.483Z"
   },
   {
    "duration": 8,
    "start_time": "2023-08-08T14:07:38.870Z"
   },
   {
    "duration": 953,
    "start_time": "2023-08-08T14:07:38.880Z"
   },
   {
    "duration": 284,
    "start_time": "2023-08-08T14:07:39.835Z"
   },
   {
    "duration": 279,
    "start_time": "2023-08-08T14:07:40.121Z"
   },
   {
    "duration": 13,
    "start_time": "2023-08-08T14:07:40.401Z"
   },
   {
    "duration": 650,
    "start_time": "2023-08-08T14:07:40.416Z"
   },
   {
    "duration": 388,
    "start_time": "2023-08-08T14:07:41.068Z"
   },
   {
    "duration": 364,
    "start_time": "2023-08-08T14:07:41.459Z"
   },
   {
    "duration": 9,
    "start_time": "2023-08-08T14:07:41.826Z"
   },
   {
    "duration": 1415,
    "start_time": "2023-08-08T14:07:41.837Z"
   },
   {
    "duration": 626,
    "start_time": "2023-08-08T14:07:43.253Z"
   },
   {
    "duration": 424,
    "start_time": "2023-08-08T14:07:43.881Z"
   },
   {
    "duration": 26,
    "start_time": "2023-08-08T14:07:44.307Z"
   },
   {
    "duration": 18,
    "start_time": "2023-08-08T14:07:44.335Z"
   },
   {
    "duration": 253,
    "start_time": "2023-08-08T14:07:44.355Z"
   },
   {
    "duration": 140,
    "start_time": "2023-08-08T14:07:44.610Z"
   },
   {
    "duration": 8,
    "start_time": "2023-08-08T14:07:44.752Z"
   },
   {
    "duration": 161,
    "start_time": "2023-08-08T14:07:44.762Z"
   },
   {
    "duration": 156,
    "start_time": "2023-08-08T14:07:44.925Z"
   },
   {
    "duration": 153,
    "start_time": "2023-08-08T14:07:45.082Z"
   },
   {
    "duration": 10,
    "start_time": "2023-08-08T14:07:45.237Z"
   },
   {
    "duration": 263,
    "start_time": "2023-08-08T14:07:45.248Z"
   },
   {
    "duration": 172,
    "start_time": "2023-08-08T14:07:45.513Z"
   },
   {
    "duration": 150,
    "start_time": "2023-08-08T14:07:45.687Z"
   },
   {
    "duration": 9,
    "start_time": "2023-08-08T14:07:45.839Z"
   },
   {
    "duration": 665,
    "start_time": "2023-08-08T14:07:45.850Z"
   },
   {
    "duration": 10,
    "start_time": "2023-08-08T14:07:46.517Z"
   },
   {
    "duration": 411,
    "start_time": "2023-08-08T14:07:46.528Z"
   },
   {
    "duration": 9,
    "start_time": "2023-08-08T14:07:46.941Z"
   },
   {
    "duration": 223,
    "start_time": "2023-08-08T14:07:46.952Z"
   },
   {
    "duration": 10,
    "start_time": "2023-08-08T14:07:47.177Z"
   },
   {
    "duration": 209,
    "start_time": "2023-08-08T14:07:47.189Z"
   },
   {
    "duration": 12,
    "start_time": "2023-08-08T14:07:47.400Z"
   },
   {
    "duration": 198,
    "start_time": "2023-08-08T14:07:47.414Z"
   },
   {
    "duration": 170,
    "start_time": "2023-08-08T14:07:47.614Z"
   },
   {
    "duration": 156,
    "start_time": "2023-08-08T14:07:47.786Z"
   },
   {
    "duration": 9,
    "start_time": "2023-08-08T14:07:47.944Z"
   },
   {
    "duration": 384,
    "start_time": "2023-08-08T14:07:47.954Z"
   },
   {
    "duration": 358,
    "start_time": "2023-08-08T14:07:48.340Z"
   },
   {
    "duration": 355,
    "start_time": "2023-08-08T14:07:48.700Z"
   },
   {
    "duration": 5,
    "start_time": "2023-08-08T14:07:49.057Z"
   },
   {
    "duration": 135,
    "start_time": "2023-08-08T14:07:49.063Z"
   },
   {
    "duration": 3,
    "start_time": "2023-08-08T14:07:49.208Z"
   },
   {
    "duration": 12,
    "start_time": "2023-08-08T14:07:49.213Z"
   },
   {
    "duration": 24,
    "start_time": "2023-08-08T14:07:49.226Z"
   },
   {
    "duration": 204,
    "start_time": "2023-08-08T14:07:49.251Z"
   },
   {
    "duration": 121,
    "start_time": "2023-08-08T14:07:49.457Z"
   },
   {
    "duration": 28,
    "start_time": "2023-08-08T14:07:49.580Z"
   },
   {
    "duration": 13,
    "start_time": "2023-08-08T14:07:49.610Z"
   },
   {
    "duration": 9,
    "start_time": "2023-08-08T14:07:49.624Z"
   },
   {
    "duration": 1068,
    "start_time": "2023-08-08T14:07:49.635Z"
   },
   {
    "duration": 144,
    "start_time": "2023-08-08T14:07:50.708Z"
   },
   {
    "duration": 20,
    "start_time": "2023-08-08T14:07:50.854Z"
   },
   {
    "duration": 22,
    "start_time": "2023-08-08T14:07:50.876Z"
   },
   {
    "duration": 1601,
    "start_time": "2023-08-08T14:07:50.900Z"
   },
   {
    "duration": 117,
    "start_time": "2023-08-08T14:07:52.503Z"
   },
   {
    "duration": 18,
    "start_time": "2023-08-08T14:07:52.622Z"
   },
   {
    "duration": 19,
    "start_time": "2023-08-08T14:07:52.642Z"
   },
   {
    "duration": 159,
    "start_time": "2023-08-08T14:07:52.663Z"
   },
   {
    "duration": 126,
    "start_time": "2023-08-08T14:07:52.824Z"
   },
   {
    "duration": 17,
    "start_time": "2023-08-08T14:07:52.952Z"
   },
   {
    "duration": 164,
    "start_time": "2023-08-08T14:07:52.970Z"
   },
   {
    "duration": 10,
    "start_time": "2023-08-08T14:07:53.136Z"
   },
   {
    "duration": 167,
    "start_time": "2023-08-08T14:07:53.147Z"
   },
   {
    "duration": 130,
    "start_time": "2023-08-08T14:07:53.317Z"
   },
   {
    "duration": 21,
    "start_time": "2023-08-08T14:07:53.449Z"
   },
   {
    "duration": 9,
    "start_time": "2023-08-08T14:07:53.473Z"
   },
   {
    "duration": 216,
    "start_time": "2023-08-08T14:07:53.483Z"
   },
   {
    "duration": 129,
    "start_time": "2023-08-08T14:07:53.701Z"
   },
   {
    "duration": 18,
    "start_time": "2023-08-08T14:07:53.832Z"
   },
   {
    "duration": 179,
    "start_time": "2023-08-08T14:07:53.852Z"
   },
   {
    "duration": 9,
    "start_time": "2023-08-08T14:07:54.032Z"
   },
   {
    "duration": 604,
    "start_time": "2023-08-08T14:07:54.042Z"
   },
   {
    "duration": 131,
    "start_time": "2023-08-08T14:07:54.648Z"
   },
   {
    "duration": 34,
    "start_time": "2023-08-08T14:07:54.780Z"
   },
   {
    "duration": 9,
    "start_time": "2023-08-08T14:07:54.815Z"
   },
   {
    "duration": 268,
    "start_time": "2023-08-08T14:07:54.825Z"
   },
   {
    "duration": 124,
    "start_time": "2023-08-08T14:07:55.095Z"
   },
   {
    "duration": 18,
    "start_time": "2023-08-08T14:07:55.221Z"
   },
   {
    "duration": 19,
    "start_time": "2023-08-08T14:07:55.241Z"
   },
   {
    "duration": 138,
    "start_time": "2023-08-08T14:07:55.262Z"
   },
   {
    "duration": 129,
    "start_time": "2023-08-08T14:07:55.416Z"
   },
   {
    "duration": 19,
    "start_time": "2023-08-08T14:07:55.546Z"
   },
   {
    "duration": 13,
    "start_time": "2023-08-08T14:07:55.567Z"
   },
   {
    "duration": 1697,
    "start_time": "2023-08-08T14:07:55.582Z"
   },
   {
    "duration": 113,
    "start_time": "2023-08-08T14:07:57.281Z"
   },
   {
    "duration": 28,
    "start_time": "2023-08-08T14:07:57.396Z"
   },
   {
    "duration": 922,
    "start_time": "2023-08-08T14:07:57.426Z"
   },
   {
    "duration": 9,
    "start_time": "2023-08-08T14:07:58.350Z"
   },
   {
    "duration": 1059,
    "start_time": "2023-08-08T14:07:58.361Z"
   },
   {
    "duration": 148,
    "start_time": "2023-08-08T14:07:59.422Z"
   },
   {
    "duration": 19,
    "start_time": "2023-08-08T14:07:59.572Z"
   },
   {
    "duration": 22,
    "start_time": "2023-08-08T14:07:59.593Z"
   },
   {
    "duration": 2865,
    "start_time": "2023-08-08T14:07:59.616Z"
   },
   {
    "duration": 173,
    "start_time": "2023-08-08T14:08:02.483Z"
   },
   {
    "duration": 22,
    "start_time": "2023-08-08T14:08:02.658Z"
   },
   {
    "duration": 90,
    "start_time": "2023-08-08T14:08:02.682Z"
   },
   {
    "duration": 212,
    "start_time": "2023-08-08T14:08:02.774Z"
   },
   {
    "duration": 348,
    "start_time": "2023-08-08T14:08:02.988Z"
   },
   {
    "duration": 22,
    "start_time": "2023-08-08T14:08:03.338Z"
   },
   {
    "duration": 33,
    "start_time": "2023-08-08T14:08:03.362Z"
   },
   {
    "duration": 387,
    "start_time": "2023-08-08T14:08:03.397Z"
   },
   {
    "duration": 141,
    "start_time": "2023-08-08T14:08:03.786Z"
   },
   {
    "duration": 21,
    "start_time": "2023-08-08T14:08:03.929Z"
   },
   {
    "duration": 8,
    "start_time": "2023-08-08T14:08:03.952Z"
   },
   {
    "duration": 273,
    "start_time": "2023-08-08T14:08:03.962Z"
   },
   {
    "duration": 118,
    "start_time": "2023-08-08T14:08:04.236Z"
   },
   {
    "duration": 18,
    "start_time": "2023-08-08T14:08:04.356Z"
   },
   {
    "duration": 9,
    "start_time": "2023-08-08T14:08:04.376Z"
   },
   {
    "duration": 252,
    "start_time": "2023-08-08T14:08:04.409Z"
   },
   {
    "duration": 130,
    "start_time": "2023-08-08T14:08:04.663Z"
   },
   {
    "duration": 24,
    "start_time": "2023-08-08T14:08:04.795Z"
   },
   {
    "duration": 100,
    "start_time": "2023-08-08T14:08:04.821Z"
   },
   {
    "duration": 89,
    "start_time": "2023-08-08T14:08:04.922Z"
   },
   {
    "duration": 0,
    "start_time": "2023-08-08T14:08:05.013Z"
   },
   {
    "duration": 0,
    "start_time": "2023-08-08T14:08:05.015Z"
   },
   {
    "duration": 0,
    "start_time": "2023-08-08T14:08:05.017Z"
   },
   {
    "duration": 0,
    "start_time": "2023-08-08T14:08:05.019Z"
   },
   {
    "duration": 0,
    "start_time": "2023-08-08T14:08:05.020Z"
   },
   {
    "duration": 0,
    "start_time": "2023-08-08T14:08:05.021Z"
   },
   {
    "duration": 0,
    "start_time": "2023-08-08T14:08:05.023Z"
   },
   {
    "duration": 0,
    "start_time": "2023-08-08T14:08:05.025Z"
   },
   {
    "duration": 0,
    "start_time": "2023-08-08T14:08:05.026Z"
   },
   {
    "duration": 0,
    "start_time": "2023-08-08T14:08:05.028Z"
   },
   {
    "duration": 0,
    "start_time": "2023-08-08T14:08:05.030Z"
   },
   {
    "duration": 0,
    "start_time": "2023-08-08T14:08:05.031Z"
   },
   {
    "duration": 1,
    "start_time": "2023-08-08T14:08:05.032Z"
   },
   {
    "duration": 0,
    "start_time": "2023-08-08T14:08:05.034Z"
   },
   {
    "duration": 0,
    "start_time": "2023-08-08T14:08:05.035Z"
   },
   {
    "duration": 0,
    "start_time": "2023-08-08T14:08:05.037Z"
   },
   {
    "duration": 0,
    "start_time": "2023-08-08T14:08:05.039Z"
   },
   {
    "duration": 0,
    "start_time": "2023-08-08T14:08:05.041Z"
   },
   {
    "duration": 0,
    "start_time": "2023-08-08T14:08:05.042Z"
   },
   {
    "duration": 0,
    "start_time": "2023-08-08T14:08:05.043Z"
   },
   {
    "duration": 0,
    "start_time": "2023-08-08T14:08:05.046Z"
   },
   {
    "duration": 0,
    "start_time": "2023-08-08T14:08:05.047Z"
   },
   {
    "duration": 935,
    "start_time": "2023-08-30T04:39:13.487Z"
   },
   {
    "duration": 335,
    "start_time": "2023-08-30T04:39:17.346Z"
   },
   {
    "duration": 18,
    "start_time": "2023-08-30T04:39:23.170Z"
   },
   {
    "duration": 36,
    "start_time": "2023-08-30T05:35:12.980Z"
   },
   {
    "duration": 44,
    "start_time": "2023-09-04T03:34:18.986Z"
   },
   {
    "duration": 7,
    "start_time": "2023-09-04T03:34:45.980Z"
   },
   {
    "duration": 776,
    "start_time": "2023-09-04T03:35:06.844Z"
   },
   {
    "duration": 688,
    "start_time": "2023-09-04T03:35:07.622Z"
   },
   {
    "duration": 15,
    "start_time": "2023-09-04T03:35:08.311Z"
   },
   {
    "duration": 77,
    "start_time": "2023-09-04T03:35:08.329Z"
   },
   {
    "duration": 31,
    "start_time": "2023-09-04T03:35:08.407Z"
   },
   {
    "duration": 1798,
    "start_time": "2023-09-04T03:35:08.450Z"
   },
   {
    "duration": 3,
    "start_time": "2023-09-04T03:35:10.250Z"
   },
   {
    "duration": 8,
    "start_time": "2023-09-04T03:35:10.254Z"
   },
   {
    "duration": 13,
    "start_time": "2023-09-04T03:35:10.263Z"
   },
   {
    "duration": 9,
    "start_time": "2023-09-04T03:35:10.280Z"
   },
   {
    "duration": 10,
    "start_time": "2023-09-04T03:35:10.290Z"
   },
   {
    "duration": 10,
    "start_time": "2023-09-04T03:35:10.301Z"
   },
   {
    "duration": 16,
    "start_time": "2023-09-04T03:35:10.312Z"
   },
   {
    "duration": 19,
    "start_time": "2023-09-04T03:35:10.329Z"
   },
   {
    "duration": 1111,
    "start_time": "2023-09-04T03:35:10.349Z"
   },
   {
    "duration": 213,
    "start_time": "2023-09-04T03:35:11.461Z"
   },
   {
    "duration": 6,
    "start_time": "2023-09-04T03:35:11.675Z"
   },
   {
    "duration": 14,
    "start_time": "2023-09-04T03:35:11.683Z"
   },
   {
    "duration": 6,
    "start_time": "2023-09-04T03:35:11.699Z"
   },
   {
    "duration": 14,
    "start_time": "2023-09-04T03:35:11.706Z"
   },
   {
    "duration": 5,
    "start_time": "2023-09-04T03:35:11.721Z"
   },
   {
    "duration": 148,
    "start_time": "2023-09-04T03:35:11.749Z"
   },
   {
    "duration": 4,
    "start_time": "2023-09-04T03:35:11.899Z"
   },
   {
    "duration": 123,
    "start_time": "2023-09-04T03:35:11.905Z"
   },
   {
    "duration": 3,
    "start_time": "2023-09-04T03:35:12.030Z"
   },
   {
    "duration": 16,
    "start_time": "2023-09-04T03:35:12.035Z"
   },
   {
    "duration": 4,
    "start_time": "2023-09-04T03:35:12.052Z"
   },
   {
    "duration": 9,
    "start_time": "2023-09-04T03:35:12.060Z"
   },
   {
    "duration": 9,
    "start_time": "2023-09-04T03:35:12.070Z"
   },
   {
    "duration": 156,
    "start_time": "2023-09-04T03:35:12.080Z"
   },
   {
    "duration": 167,
    "start_time": "2023-09-04T03:35:12.238Z"
   },
   {
    "duration": 250,
    "start_time": "2023-09-04T03:35:12.407Z"
   },
   {
    "duration": 7,
    "start_time": "2023-09-04T03:35:12.658Z"
   },
   {
    "duration": 17,
    "start_time": "2023-09-04T03:35:12.666Z"
   },
   {
    "duration": 170,
    "start_time": "2023-09-04T03:35:12.685Z"
   },
   {
    "duration": 130,
    "start_time": "2023-09-04T03:35:12.857Z"
   },
   {
    "duration": 8,
    "start_time": "2023-09-04T03:35:12.989Z"
   },
   {
    "duration": 7,
    "start_time": "2023-09-04T03:35:12.999Z"
   },
   {
    "duration": 6,
    "start_time": "2023-09-04T03:35:13.008Z"
   },
   {
    "duration": 59,
    "start_time": "2023-09-04T03:35:13.016Z"
   },
   {
    "duration": 11,
    "start_time": "2023-09-04T03:35:13.077Z"
   },
   {
    "duration": 12,
    "start_time": "2023-09-04T03:35:13.090Z"
   },
   {
    "duration": 16,
    "start_time": "2023-09-04T03:35:13.104Z"
   },
   {
    "duration": 9,
    "start_time": "2023-09-04T03:35:13.121Z"
   },
   {
    "duration": 22,
    "start_time": "2023-09-04T03:35:13.131Z"
   },
   {
    "duration": 12,
    "start_time": "2023-09-04T03:35:13.155Z"
   },
   {
    "duration": 16,
    "start_time": "2023-09-04T03:35:13.168Z"
   },
   {
    "duration": 10,
    "start_time": "2023-09-04T03:35:13.185Z"
   },
   {
    "duration": 27,
    "start_time": "2023-09-04T03:35:13.197Z"
   },
   {
    "duration": 21,
    "start_time": "2023-09-04T03:35:13.225Z"
   },
   {
    "duration": 23,
    "start_time": "2023-09-04T03:35:13.247Z"
   },
   {
    "duration": 20,
    "start_time": "2023-09-04T03:35:13.272Z"
   },
   {
    "duration": 6,
    "start_time": "2023-09-04T03:35:13.293Z"
   },
   {
    "duration": 1166,
    "start_time": "2023-09-04T03:35:13.300Z"
   },
   {
    "duration": 8,
    "start_time": "2023-09-04T03:35:14.468Z"
   },
   {
    "duration": 7,
    "start_time": "2023-09-04T03:35:14.478Z"
   },
   {
    "duration": 312,
    "start_time": "2023-09-04T03:35:14.487Z"
   },
   {
    "duration": 7,
    "start_time": "2023-09-04T03:35:14.801Z"
   },
   {
    "duration": 12,
    "start_time": "2023-09-04T03:35:14.810Z"
   },
   {
    "duration": 27,
    "start_time": "2023-09-04T03:35:14.823Z"
   },
   {
    "duration": 5,
    "start_time": "2023-09-04T03:35:14.851Z"
   },
   {
    "duration": 33,
    "start_time": "2023-09-04T03:35:14.857Z"
   },
   {
    "duration": 8,
    "start_time": "2023-09-04T03:35:14.892Z"
   },
   {
    "duration": 593,
    "start_time": "2023-09-04T03:35:14.902Z"
   },
   {
    "duration": 135,
    "start_time": "2023-09-04T03:35:15.497Z"
   },
   {
    "duration": 16,
    "start_time": "2023-09-04T03:35:15.634Z"
   },
   {
    "duration": 30,
    "start_time": "2023-09-04T03:35:15.651Z"
   },
   {
    "duration": 18,
    "start_time": "2023-09-04T03:35:15.682Z"
   },
   {
    "duration": 5,
    "start_time": "2023-09-04T03:35:15.702Z"
   },
   {
    "duration": 21,
    "start_time": "2023-09-04T03:35:15.709Z"
   },
   {
    "duration": 159,
    "start_time": "2023-09-04T03:35:15.732Z"
   },
   {
    "duration": 12,
    "start_time": "2023-09-04T03:35:15.892Z"
   },
   {
    "duration": 295,
    "start_time": "2023-09-04T03:35:15.905Z"
   },
   {
    "duration": 6,
    "start_time": "2023-09-04T03:35:16.202Z"
   },
   {
    "duration": 8,
    "start_time": "2023-09-04T03:35:16.209Z"
   },
   {
    "duration": 8,
    "start_time": "2023-09-04T03:35:16.219Z"
   },
   {
    "duration": 23,
    "start_time": "2023-09-04T03:35:16.228Z"
   },
   {
    "duration": 7,
    "start_time": "2023-09-04T03:35:16.252Z"
   },
   {
    "duration": 10,
    "start_time": "2023-09-04T03:35:16.260Z"
   },
   {
    "duration": 7,
    "start_time": "2023-09-04T03:35:16.271Z"
   },
   {
    "duration": 8,
    "start_time": "2023-09-04T03:35:16.279Z"
   },
   {
    "duration": 266,
    "start_time": "2023-09-04T03:35:16.296Z"
   },
   {
    "duration": 18,
    "start_time": "2023-09-04T03:35:16.564Z"
   },
   {
    "duration": 12,
    "start_time": "2023-09-04T03:35:16.584Z"
   },
   {
    "duration": 9,
    "start_time": "2023-09-04T03:35:16.597Z"
   },
   {
    "duration": 186,
    "start_time": "2023-09-04T03:35:16.609Z"
   },
   {
    "duration": 98,
    "start_time": "2023-09-04T03:35:16.797Z"
   },
   {
    "duration": 8,
    "start_time": "2023-09-04T03:35:16.896Z"
   },
   {
    "duration": 9,
    "start_time": "2023-09-04T03:35:16.905Z"
   },
   {
    "duration": 9634,
    "start_time": "2023-09-04T03:35:16.916Z"
   },
   {
    "duration": 9,
    "start_time": "2023-09-04T03:35:26.551Z"
   },
   {
    "duration": 968,
    "start_time": "2023-09-04T03:35:26.561Z"
   },
   {
    "duration": 8,
    "start_time": "2023-09-04T03:35:27.530Z"
   },
   {
    "duration": 17,
    "start_time": "2023-09-04T03:35:27.548Z"
   },
   {
    "duration": 29,
    "start_time": "2023-09-04T03:35:27.566Z"
   },
   {
    "duration": 46,
    "start_time": "2023-09-04T03:35:27.596Z"
   },
   {
    "duration": 163,
    "start_time": "2023-09-04T03:35:27.644Z"
   },
   {
    "duration": 104,
    "start_time": "2023-09-04T03:35:27.809Z"
   },
   {
    "duration": 8,
    "start_time": "2023-09-04T03:35:27.914Z"
   },
   {
    "duration": 19,
    "start_time": "2023-09-04T03:35:27.924Z"
   },
   {
    "duration": 45,
    "start_time": "2023-09-04T03:35:27.944Z"
   },
   {
    "duration": 7,
    "start_time": "2023-09-04T03:35:27.991Z"
   },
   {
    "duration": 37,
    "start_time": "2023-09-04T03:35:28.000Z"
   },
   {
    "duration": 20,
    "start_time": "2023-09-04T03:35:28.038Z"
   },
   {
    "duration": 30,
    "start_time": "2023-09-04T03:35:28.059Z"
   },
   {
    "duration": 14,
    "start_time": "2023-09-04T03:35:28.091Z"
   },
   {
    "duration": 31,
    "start_time": "2023-09-04T03:35:28.107Z"
   },
   {
    "duration": 20,
    "start_time": "2023-09-04T03:35:28.140Z"
   },
   {
    "duration": 207,
    "start_time": "2023-09-04T03:35:28.162Z"
   },
   {
    "duration": 8,
    "start_time": "2023-09-04T03:35:28.371Z"
   },
   {
    "duration": 44,
    "start_time": "2023-09-04T03:35:28.380Z"
   },
   {
    "duration": 21,
    "start_time": "2023-09-04T03:35:28.425Z"
   },
   {
    "duration": 20,
    "start_time": "2023-09-04T03:35:28.448Z"
   },
   {
    "duration": 25,
    "start_time": "2023-09-04T03:35:28.469Z"
   },
   {
    "duration": 37,
    "start_time": "2023-09-04T03:35:28.496Z"
   },
   {
    "duration": 21,
    "start_time": "2023-09-04T03:35:28.535Z"
   },
   {
    "duration": 28,
    "start_time": "2023-09-04T03:35:28.557Z"
   },
   {
    "duration": 15,
    "start_time": "2023-09-04T03:35:28.587Z"
   },
   {
    "duration": 27,
    "start_time": "2023-09-04T03:35:28.604Z"
   },
   {
    "duration": 238,
    "start_time": "2023-09-04T03:35:28.633Z"
   },
   {
    "duration": 10,
    "start_time": "2023-09-04T03:35:28.873Z"
   },
   {
    "duration": 17,
    "start_time": "2023-09-04T03:35:28.885Z"
   },
   {
    "duration": 33,
    "start_time": "2023-09-04T03:35:28.904Z"
   },
   {
    "duration": 40,
    "start_time": "2023-09-04T03:35:28.939Z"
   },
   {
    "duration": 298,
    "start_time": "2023-09-04T03:35:28.980Z"
   },
   {
    "duration": 8,
    "start_time": "2023-09-04T03:35:29.280Z"
   },
   {
    "duration": 48,
    "start_time": "2023-09-04T03:35:29.289Z"
   },
   {
    "duration": 592,
    "start_time": "2023-09-04T03:35:29.338Z"
   },
   {
    "duration": 168,
    "start_time": "2023-09-04T03:35:29.931Z"
   },
   {
    "duration": 4,
    "start_time": "2023-09-04T03:35:30.100Z"
   },
   {
    "duration": 102138,
    "start_time": "2023-09-04T03:35:30.105Z"
   },
   {
    "duration": 39154,
    "start_time": "2023-09-04T03:37:12.245Z"
   },
   {
    "duration": 7,
    "start_time": "2023-09-04T03:37:51.401Z"
   },
   {
    "duration": 15,
    "start_time": "2023-09-04T03:37:51.409Z"
   },
   {
    "duration": 59,
    "start_time": "2023-09-04T03:37:51.425Z"
   },
   {
    "duration": 313,
    "start_time": "2023-09-04T03:37:51.486Z"
   },
   {
    "duration": 4,
    "start_time": "2023-09-04T03:37:51.800Z"
   },
   {
    "duration": 61825,
    "start_time": "2023-09-04T03:37:51.805Z"
   },
   {
    "duration": 4917,
    "start_time": "2023-09-04T03:38:53.632Z"
   },
   {
    "duration": 11,
    "start_time": "2023-09-04T03:38:58.551Z"
   },
   {
    "duration": 36,
    "start_time": "2023-09-04T03:38:58.564Z"
   },
   {
    "duration": 314,
    "start_time": "2023-09-04T03:38:58.602Z"
   },
   {
    "duration": 3,
    "start_time": "2023-09-04T03:38:58.918Z"
   },
   {
    "duration": 76777,
    "start_time": "2023-09-04T03:38:58.922Z"
   },
   {
    "duration": 6281,
    "start_time": "2023-09-04T03:40:15.701Z"
   },
   {
    "duration": 4,
    "start_time": "2023-09-04T03:40:21.984Z"
   },
   {
    "duration": 20,
    "start_time": "2023-09-04T03:40:21.990Z"
   },
   {
    "duration": 5,
    "start_time": "2023-09-04T03:40:22.012Z"
   },
   {
    "duration": 14,
    "start_time": "2023-09-04T03:40:22.019Z"
   },
   {
    "duration": 22,
    "start_time": "2023-09-04T03:40:22.035Z"
   },
   {
    "duration": 10,
    "start_time": "2023-09-04T03:40:22.058Z"
   },
   {
    "duration": 10,
    "start_time": "2023-09-04T03:40:22.070Z"
   },
   {
    "duration": 3,
    "start_time": "2023-09-04T03:40:22.081Z"
   },
   {
    "duration": 306,
    "start_time": "2023-09-04T03:40:22.085Z"
   },
   {
    "duration": 9,
    "start_time": "2023-09-04T03:40:22.392Z"
   },
   {
    "duration": 7,
    "start_time": "2023-09-04T03:40:22.402Z"
   },
   {
    "duration": 4,
    "start_time": "2023-09-04T03:40:22.410Z"
   },
   {
    "duration": 12,
    "start_time": "2023-09-04T03:40:22.416Z"
   },
   {
    "duration": 30,
    "start_time": "2023-09-04T03:40:22.429Z"
   },
   {
    "duration": 1222,
    "start_time": "2023-09-04T03:40:22.461Z"
   },
   {
    "duration": 356,
    "start_time": "2023-09-04T03:40:23.685Z"
   },
   {
    "duration": 360,
    "start_time": "2023-09-04T03:40:24.043Z"
   },
   {
    "duration": 9,
    "start_time": "2023-09-04T03:40:24.405Z"
   },
   {
    "duration": 794,
    "start_time": "2023-09-04T03:40:24.415Z"
   },
   {
    "duration": 244,
    "start_time": "2023-09-04T03:40:25.210Z"
   },
   {
    "duration": 237,
    "start_time": "2023-09-04T03:40:25.456Z"
   },
   {
    "duration": 7,
    "start_time": "2023-09-04T03:40:25.695Z"
   },
   {
    "duration": 596,
    "start_time": "2023-09-04T03:40:25.704Z"
   },
   {
    "duration": 331,
    "start_time": "2023-09-04T03:40:26.302Z"
   },
   {
    "duration": 325,
    "start_time": "2023-09-04T03:40:26.635Z"
   },
   {
    "duration": 7,
    "start_time": "2023-09-04T03:40:26.962Z"
   },
   {
    "duration": 1217,
    "start_time": "2023-09-04T03:40:26.971Z"
   },
   {
    "duration": 547,
    "start_time": "2023-09-04T03:40:28.190Z"
   },
   {
    "duration": 372,
    "start_time": "2023-09-04T03:40:28.738Z"
   },
   {
    "duration": 24,
    "start_time": "2023-09-04T03:40:29.112Z"
   },
   {
    "duration": 32,
    "start_time": "2023-09-04T03:40:29.138Z"
   },
   {
    "duration": 205,
    "start_time": "2023-09-04T03:40:29.171Z"
   },
   {
    "duration": 117,
    "start_time": "2023-09-04T03:40:29.378Z"
   },
   {
    "duration": 7,
    "start_time": "2023-09-04T03:40:29.496Z"
   },
   {
    "duration": 145,
    "start_time": "2023-09-04T03:40:29.504Z"
   },
   {
    "duration": 128,
    "start_time": "2023-09-04T03:40:29.651Z"
   },
   {
    "duration": 120,
    "start_time": "2023-09-04T03:40:29.781Z"
   },
   {
    "duration": 7,
    "start_time": "2023-09-04T03:40:29.903Z"
   },
   {
    "duration": 179,
    "start_time": "2023-09-04T03:40:29.912Z"
   },
   {
    "duration": 137,
    "start_time": "2023-09-04T03:40:30.092Z"
   },
   {
    "duration": 128,
    "start_time": "2023-09-04T03:40:30.231Z"
   },
   {
    "duration": 8,
    "start_time": "2023-09-04T03:40:30.360Z"
   },
   {
    "duration": 508,
    "start_time": "2023-09-04T03:40:30.369Z"
   },
   {
    "duration": 8,
    "start_time": "2023-09-04T03:40:30.879Z"
   },
   {
    "duration": 397,
    "start_time": "2023-09-04T03:40:30.888Z"
   },
   {
    "duration": 8,
    "start_time": "2023-09-04T03:40:31.287Z"
   },
   {
    "duration": 251,
    "start_time": "2023-09-04T03:40:31.296Z"
   },
   {
    "duration": 7,
    "start_time": "2023-09-04T03:40:31.550Z"
   },
   {
    "duration": 173,
    "start_time": "2023-09-04T03:40:31.559Z"
   },
   {
    "duration": 8,
    "start_time": "2023-09-04T03:40:31.733Z"
   },
   {
    "duration": 307,
    "start_time": "2023-09-04T03:40:31.743Z"
   },
   {
    "duration": 249,
    "start_time": "2023-09-04T03:40:32.051Z"
   },
   {
    "duration": 288,
    "start_time": "2023-09-04T03:40:32.302Z"
   },
   {
    "duration": 3405,
    "start_time": "2023-09-04T03:40:32.592Z"
   },
   {
    "duration": 0,
    "start_time": "2023-09-04T03:40:36.001Z"
   },
   {
    "duration": 0,
    "start_time": "2023-09-04T03:40:36.003Z"
   },
   {
    "duration": 0,
    "start_time": "2023-09-04T03:40:36.004Z"
   },
   {
    "duration": 0,
    "start_time": "2023-09-04T03:40:36.006Z"
   },
   {
    "duration": 0,
    "start_time": "2023-09-04T03:40:36.007Z"
   },
   {
    "duration": 0,
    "start_time": "2023-09-04T03:40:36.009Z"
   },
   {
    "duration": 0,
    "start_time": "2023-09-04T03:40:36.010Z"
   },
   {
    "duration": 0,
    "start_time": "2023-09-04T03:40:36.011Z"
   },
   {
    "duration": 0,
    "start_time": "2023-09-04T03:40:36.012Z"
   },
   {
    "duration": 0,
    "start_time": "2023-09-04T03:40:36.014Z"
   },
   {
    "duration": 0,
    "start_time": "2023-09-04T03:40:36.015Z"
   },
   {
    "duration": 0,
    "start_time": "2023-09-04T03:40:36.016Z"
   },
   {
    "duration": 0,
    "start_time": "2023-09-04T03:40:36.017Z"
   },
   {
    "duration": 0,
    "start_time": "2023-09-04T03:40:36.018Z"
   },
   {
    "duration": 0,
    "start_time": "2023-09-04T03:40:36.019Z"
   },
   {
    "duration": 0,
    "start_time": "2023-09-04T03:40:36.020Z"
   },
   {
    "duration": 0,
    "start_time": "2023-09-04T03:40:36.021Z"
   },
   {
    "duration": 0,
    "start_time": "2023-09-04T03:40:36.022Z"
   },
   {
    "duration": 0,
    "start_time": "2023-09-04T03:40:36.023Z"
   },
   {
    "duration": 0,
    "start_time": "2023-09-04T03:40:36.024Z"
   },
   {
    "duration": 0,
    "start_time": "2023-09-04T03:40:36.025Z"
   },
   {
    "duration": 0,
    "start_time": "2023-09-04T03:40:36.026Z"
   },
   {
    "duration": 0,
    "start_time": "2023-09-04T03:40:36.027Z"
   },
   {
    "duration": 0,
    "start_time": "2023-09-04T03:40:36.028Z"
   },
   {
    "duration": 0,
    "start_time": "2023-09-04T03:40:36.029Z"
   },
   {
    "duration": 0,
    "start_time": "2023-09-04T03:40:36.030Z"
   },
   {
    "duration": 0,
    "start_time": "2023-09-04T03:40:36.031Z"
   },
   {
    "duration": 0,
    "start_time": "2023-09-04T03:40:36.032Z"
   },
   {
    "duration": 0,
    "start_time": "2023-09-04T03:40:36.033Z"
   },
   {
    "duration": 0,
    "start_time": "2023-09-04T03:40:36.034Z"
   },
   {
    "duration": 0,
    "start_time": "2023-09-04T03:40:36.049Z"
   },
   {
    "duration": 0,
    "start_time": "2023-09-04T03:40:36.050Z"
   },
   {
    "duration": 0,
    "start_time": "2023-09-04T03:40:36.051Z"
   },
   {
    "duration": 0,
    "start_time": "2023-09-04T03:40:36.052Z"
   },
   {
    "duration": 0,
    "start_time": "2023-09-04T03:40:36.053Z"
   },
   {
    "duration": 0,
    "start_time": "2023-09-04T03:40:36.054Z"
   },
   {
    "duration": 0,
    "start_time": "2023-09-04T03:40:36.055Z"
   },
   {
    "duration": 0,
    "start_time": "2023-09-04T03:40:36.056Z"
   },
   {
    "duration": 0,
    "start_time": "2023-09-04T03:40:36.057Z"
   },
   {
    "duration": 0,
    "start_time": "2023-09-04T03:40:36.058Z"
   },
   {
    "duration": 0,
    "start_time": "2023-09-04T03:40:36.059Z"
   },
   {
    "duration": 0,
    "start_time": "2023-09-04T03:40:36.060Z"
   },
   {
    "duration": 0,
    "start_time": "2023-09-04T03:40:36.061Z"
   },
   {
    "duration": 0,
    "start_time": "2023-09-04T03:40:36.062Z"
   },
   {
    "duration": 0,
    "start_time": "2023-09-04T03:40:36.062Z"
   },
   {
    "duration": 0,
    "start_time": "2023-09-04T03:40:36.063Z"
   },
   {
    "duration": 0,
    "start_time": "2023-09-04T03:40:36.064Z"
   },
   {
    "duration": 0,
    "start_time": "2023-09-04T03:40:36.065Z"
   },
   {
    "duration": 0,
    "start_time": "2023-09-04T03:40:36.066Z"
   },
   {
    "duration": 0,
    "start_time": "2023-09-04T03:40:36.067Z"
   },
   {
    "duration": 0,
    "start_time": "2023-09-04T03:40:36.068Z"
   },
   {
    "duration": 0,
    "start_time": "2023-09-04T03:40:36.069Z"
   },
   {
    "duration": 0,
    "start_time": "2023-09-04T03:40:36.070Z"
   },
   {
    "duration": 0,
    "start_time": "2023-09-04T03:40:36.071Z"
   },
   {
    "duration": 0,
    "start_time": "2023-09-04T03:40:36.072Z"
   },
   {
    "duration": 0,
    "start_time": "2023-09-04T03:40:36.073Z"
   },
   {
    "duration": 0,
    "start_time": "2023-09-04T03:40:36.075Z"
   },
   {
    "duration": 0,
    "start_time": "2023-09-04T03:40:36.076Z"
   },
   {
    "duration": 0,
    "start_time": "2023-09-04T03:40:36.077Z"
   },
   {
    "duration": 0,
    "start_time": "2023-09-04T03:40:36.078Z"
   },
   {
    "duration": 0,
    "start_time": "2023-09-04T03:40:36.079Z"
   },
   {
    "duration": 0,
    "start_time": "2023-09-04T03:40:36.080Z"
   },
   {
    "duration": 0,
    "start_time": "2023-09-04T03:40:36.081Z"
   },
   {
    "duration": 0,
    "start_time": "2023-09-04T03:40:36.082Z"
   },
   {
    "duration": 0,
    "start_time": "2023-09-04T03:40:36.083Z"
   },
   {
    "duration": 0,
    "start_time": "2023-09-04T03:40:36.084Z"
   },
   {
    "duration": 0,
    "start_time": "2023-09-04T03:40:36.085Z"
   },
   {
    "duration": 0,
    "start_time": "2023-09-04T03:40:36.086Z"
   },
   {
    "duration": 0,
    "start_time": "2023-09-04T03:40:36.149Z"
   },
   {
    "duration": 0,
    "start_time": "2023-09-04T03:40:36.150Z"
   },
   {
    "duration": 0,
    "start_time": "2023-09-04T03:40:36.151Z"
   },
   {
    "duration": 0,
    "start_time": "2023-09-04T03:40:36.152Z"
   },
   {
    "duration": 0,
    "start_time": "2023-09-04T03:40:36.153Z"
   },
   {
    "duration": 0,
    "start_time": "2023-09-04T03:40:36.154Z"
   },
   {
    "duration": 0,
    "start_time": "2023-09-04T03:40:36.155Z"
   },
   {
    "duration": 0,
    "start_time": "2023-09-04T03:40:36.157Z"
   },
   {
    "duration": 0,
    "start_time": "2023-09-04T03:40:36.158Z"
   },
   {
    "duration": 0,
    "start_time": "2023-09-04T03:40:36.159Z"
   },
   {
    "duration": 0,
    "start_time": "2023-09-04T03:40:36.160Z"
   },
   {
    "duration": 0,
    "start_time": "2023-09-04T03:40:36.161Z"
   },
   {
    "duration": 0,
    "start_time": "2023-09-04T03:40:36.162Z"
   },
   {
    "duration": 0,
    "start_time": "2023-09-04T03:40:36.164Z"
   },
   {
    "duration": 0,
    "start_time": "2023-09-04T03:40:36.165Z"
   },
   {
    "duration": 0,
    "start_time": "2023-09-04T03:40:36.166Z"
   },
   {
    "duration": 0,
    "start_time": "2023-09-04T03:40:36.168Z"
   },
   {
    "duration": 0,
    "start_time": "2023-09-04T03:40:36.169Z"
   },
   {
    "duration": 0,
    "start_time": "2023-09-04T03:40:36.170Z"
   },
   {
    "duration": 0,
    "start_time": "2023-09-04T03:40:36.171Z"
   },
   {
    "duration": 0,
    "start_time": "2023-09-04T03:40:36.173Z"
   },
   {
    "duration": 0,
    "start_time": "2023-09-04T03:40:36.174Z"
   },
   {
    "duration": 0,
    "start_time": "2023-09-04T03:40:36.175Z"
   },
   {
    "duration": 0,
    "start_time": "2023-09-04T03:40:36.177Z"
   },
   {
    "duration": 0,
    "start_time": "2023-09-04T03:40:36.178Z"
   },
   {
    "duration": 0,
    "start_time": "2023-09-04T03:40:36.179Z"
   },
   {
    "duration": 0,
    "start_time": "2023-09-04T03:40:36.183Z"
   },
   {
    "duration": 0,
    "start_time": "2023-09-04T03:40:36.184Z"
   },
   {
    "duration": 0,
    "start_time": "2023-09-04T03:40:36.186Z"
   },
   {
    "duration": 0,
    "start_time": "2023-09-04T03:40:36.187Z"
   },
   {
    "duration": 0,
    "start_time": "2023-09-04T03:40:36.250Z"
   },
   {
    "duration": 275,
    "start_time": "2023-09-04T03:44:46.810Z"
   },
   {
    "duration": 28,
    "start_time": "2023-09-04T03:45:29.676Z"
   },
   {
    "duration": 31830,
    "start_time": "2023-09-04T04:01:36.867Z"
   },
   {
    "duration": 69,
    "start_time": "2023-09-04T04:07:39.583Z"
   },
   {
    "duration": 7,
    "start_time": "2023-09-04T04:10:07.560Z"
   },
   {
    "duration": 21,
    "start_time": "2023-09-04T04:18:11.550Z"
   },
   {
    "duration": 20,
    "start_time": "2023-09-04T04:25:42.359Z"
   },
   {
    "duration": 8,
    "start_time": "2023-09-04T04:26:30.543Z"
   },
   {
    "duration": 11,
    "start_time": "2023-09-04T04:29:14.586Z"
   },
   {
    "duration": 8,
    "start_time": "2023-09-04T04:29:59.285Z"
   },
   {
    "duration": 37,
    "start_time": "2023-09-04T04:30:54.869Z"
   },
   {
    "duration": 10,
    "start_time": "2023-09-04T04:33:09.793Z"
   },
   {
    "duration": 210,
    "start_time": "2023-09-04T04:39:03.262Z"
   },
   {
    "duration": 738,
    "start_time": "2023-09-04T04:41:49.325Z"
   },
   {
    "duration": 91,
    "start_time": "2023-09-04T04:41:50.065Z"
   },
   {
    "duration": 14,
    "start_time": "2023-09-04T04:41:50.157Z"
   },
   {
    "duration": 76,
    "start_time": "2023-09-04T04:41:50.173Z"
   },
   {
    "duration": 28,
    "start_time": "2023-09-04T04:41:50.251Z"
   },
   {
    "duration": 1827,
    "start_time": "2023-09-04T04:41:50.281Z"
   },
   {
    "duration": 4,
    "start_time": "2023-09-04T04:41:52.110Z"
   },
   {
    "duration": 14,
    "start_time": "2023-09-04T04:41:52.116Z"
   },
   {
    "duration": 17,
    "start_time": "2023-09-04T04:41:52.132Z"
   },
   {
    "duration": 9,
    "start_time": "2023-09-04T04:41:52.152Z"
   },
   {
    "duration": 12,
    "start_time": "2023-09-04T04:41:52.162Z"
   },
   {
    "duration": 7,
    "start_time": "2023-09-04T04:41:52.176Z"
   },
   {
    "duration": 30,
    "start_time": "2023-09-04T04:41:52.185Z"
   },
   {
    "duration": 9,
    "start_time": "2023-09-04T04:41:52.216Z"
   },
   {
    "duration": 1181,
    "start_time": "2023-09-04T04:41:52.226Z"
   },
   {
    "duration": 246,
    "start_time": "2023-09-04T04:41:53.409Z"
   },
   {
    "duration": 7,
    "start_time": "2023-09-04T04:41:53.656Z"
   },
   {
    "duration": 20,
    "start_time": "2023-09-04T04:41:53.664Z"
   },
   {
    "duration": 7,
    "start_time": "2023-09-04T04:41:53.686Z"
   },
   {
    "duration": 38,
    "start_time": "2023-09-04T04:41:53.694Z"
   },
   {
    "duration": 8,
    "start_time": "2023-09-04T04:41:53.733Z"
   },
   {
    "duration": 166,
    "start_time": "2023-09-04T04:41:53.743Z"
   },
   {
    "duration": 6,
    "start_time": "2023-09-04T04:41:53.910Z"
   },
   {
    "duration": 135,
    "start_time": "2023-09-04T04:41:53.918Z"
   },
   {
    "duration": 4,
    "start_time": "2023-09-04T04:41:54.054Z"
   },
   {
    "duration": 15,
    "start_time": "2023-09-04T04:41:54.059Z"
   },
   {
    "duration": 5,
    "start_time": "2023-09-04T04:41:54.075Z"
   },
   {
    "duration": 9,
    "start_time": "2023-09-04T04:41:54.084Z"
   },
   {
    "duration": 10,
    "start_time": "2023-09-04T04:41:54.095Z"
   },
   {
    "duration": 167,
    "start_time": "2023-09-04T04:41:54.106Z"
   },
   {
    "duration": 169,
    "start_time": "2023-09-04T04:41:54.275Z"
   },
   {
    "duration": 274,
    "start_time": "2023-09-04T04:41:54.449Z"
   },
   {
    "duration": 6,
    "start_time": "2023-09-04T04:41:54.725Z"
   },
   {
    "duration": 7,
    "start_time": "2023-09-04T04:41:54.732Z"
   },
   {
    "duration": 169,
    "start_time": "2023-09-04T04:41:54.750Z"
   },
   {
    "duration": 140,
    "start_time": "2023-09-04T04:41:54.921Z"
   },
   {
    "duration": 7,
    "start_time": "2023-09-04T04:41:55.063Z"
   },
   {
    "duration": 12,
    "start_time": "2023-09-04T04:41:55.072Z"
   },
   {
    "duration": 8,
    "start_time": "2023-09-04T04:41:55.085Z"
   },
   {
    "duration": 40,
    "start_time": "2023-09-04T04:41:55.094Z"
   },
   {
    "duration": 17,
    "start_time": "2023-09-04T04:41:55.136Z"
   },
   {
    "duration": 5,
    "start_time": "2023-09-04T04:41:55.154Z"
   },
   {
    "duration": 17,
    "start_time": "2023-09-04T04:41:55.161Z"
   },
   {
    "duration": 7,
    "start_time": "2023-09-04T04:41:55.179Z"
   },
   {
    "duration": 11,
    "start_time": "2023-09-04T04:41:55.187Z"
   },
   {
    "duration": 11,
    "start_time": "2023-09-04T04:41:55.199Z"
   },
   {
    "duration": 8,
    "start_time": "2023-09-04T04:41:55.211Z"
   },
   {
    "duration": 19,
    "start_time": "2023-09-04T04:41:55.220Z"
   },
   {
    "duration": 15,
    "start_time": "2023-09-04T04:41:55.240Z"
   },
   {
    "duration": 12,
    "start_time": "2023-09-04T04:41:55.256Z"
   },
   {
    "duration": 11,
    "start_time": "2023-09-04T04:41:55.270Z"
   },
   {
    "duration": 4,
    "start_time": "2023-09-04T04:41:55.283Z"
   },
   {
    "duration": 6,
    "start_time": "2023-09-04T04:41:55.289Z"
   },
   {
    "duration": 1066,
    "start_time": "2023-09-04T04:41:55.297Z"
   },
   {
    "duration": 8,
    "start_time": "2023-09-04T04:41:56.365Z"
   },
   {
    "duration": 5,
    "start_time": "2023-09-04T04:41:56.375Z"
   },
   {
    "duration": 306,
    "start_time": "2023-09-04T04:41:56.382Z"
   },
   {
    "duration": 7,
    "start_time": "2023-09-04T04:41:56.689Z"
   },
   {
    "duration": 25,
    "start_time": "2023-09-04T04:41:56.698Z"
   },
   {
    "duration": 22,
    "start_time": "2023-09-04T04:41:56.725Z"
   },
   {
    "duration": 5,
    "start_time": "2023-09-04T04:41:56.748Z"
   },
   {
    "duration": 24,
    "start_time": "2023-09-04T04:41:56.755Z"
   },
   {
    "duration": 9,
    "start_time": "2023-09-04T04:41:56.780Z"
   },
   {
    "duration": 639,
    "start_time": "2023-09-04T04:41:56.790Z"
   },
   {
    "duration": 154,
    "start_time": "2023-09-04T04:41:57.431Z"
   },
   {
    "duration": 7,
    "start_time": "2023-09-04T04:41:57.587Z"
   },
   {
    "duration": 20,
    "start_time": "2023-09-04T04:41:57.596Z"
   },
   {
    "duration": 6,
    "start_time": "2023-09-04T04:41:57.618Z"
   },
   {
    "duration": 27,
    "start_time": "2023-09-04T04:41:57.626Z"
   },
   {
    "duration": 7,
    "start_time": "2023-09-04T04:41:57.655Z"
   },
   {
    "duration": 155,
    "start_time": "2023-09-04T04:41:57.663Z"
   },
   {
    "duration": 22,
    "start_time": "2023-09-04T04:41:57.819Z"
   },
   {
    "duration": 244,
    "start_time": "2023-09-04T04:41:57.842Z"
   },
   {
    "duration": 624,
    "start_time": "2023-09-04T06:57:50.797Z"
   },
   {
    "duration": 143,
    "start_time": "2023-09-04T06:57:51.423Z"
   },
   {
    "duration": 15,
    "start_time": "2023-09-04T06:57:51.568Z"
   },
   {
    "duration": 82,
    "start_time": "2023-09-04T06:57:51.585Z"
   },
   {
    "duration": 31,
    "start_time": "2023-09-04T06:57:51.669Z"
   },
   {
    "duration": 2045,
    "start_time": "2023-09-04T06:57:51.701Z"
   },
   {
    "duration": 4,
    "start_time": "2023-09-04T06:57:53.747Z"
   },
   {
    "duration": 16,
    "start_time": "2023-09-04T06:57:53.752Z"
   },
   {
    "duration": 5,
    "start_time": "2023-09-04T06:57:53.769Z"
   },
   {
    "duration": 6,
    "start_time": "2023-09-04T06:57:53.776Z"
   },
   {
    "duration": 11,
    "start_time": "2023-09-04T06:57:53.783Z"
   },
   {
    "duration": 7,
    "start_time": "2023-09-04T06:57:53.796Z"
   },
   {
    "duration": 10,
    "start_time": "2023-09-04T06:57:53.804Z"
   },
   {
    "duration": 34,
    "start_time": "2023-09-04T06:57:53.815Z"
   },
   {
    "duration": 1280,
    "start_time": "2023-09-04T06:57:53.851Z"
   },
   {
    "duration": 231,
    "start_time": "2023-09-04T06:57:55.133Z"
   },
   {
    "duration": 7,
    "start_time": "2023-09-04T06:57:55.366Z"
   },
   {
    "duration": 17,
    "start_time": "2023-09-04T06:57:55.375Z"
   },
   {
    "duration": 5,
    "start_time": "2023-09-04T06:57:55.394Z"
   },
   {
    "duration": 12,
    "start_time": "2023-09-04T06:57:55.400Z"
   },
   {
    "duration": 5,
    "start_time": "2023-09-04T06:57:55.413Z"
   },
   {
    "duration": 151,
    "start_time": "2023-09-04T06:57:55.444Z"
   },
   {
    "duration": 5,
    "start_time": "2023-09-04T06:57:55.597Z"
   },
   {
    "duration": 141,
    "start_time": "2023-09-04T06:57:55.603Z"
   },
   {
    "duration": 4,
    "start_time": "2023-09-04T06:57:55.746Z"
   },
   {
    "duration": 7,
    "start_time": "2023-09-04T06:57:55.751Z"
   },
   {
    "duration": 9,
    "start_time": "2023-09-04T06:57:55.759Z"
   },
   {
    "duration": 8,
    "start_time": "2023-09-04T06:57:55.772Z"
   },
   {
    "duration": 11,
    "start_time": "2023-09-04T06:57:55.782Z"
   },
   {
    "duration": 161,
    "start_time": "2023-09-04T06:57:55.795Z"
   },
   {
    "duration": 171,
    "start_time": "2023-09-04T06:57:55.958Z"
   },
   {
    "duration": 294,
    "start_time": "2023-09-04T06:57:56.130Z"
   },
   {
    "duration": 7,
    "start_time": "2023-09-04T06:57:56.426Z"
   },
   {
    "duration": 4,
    "start_time": "2023-09-04T06:57:56.445Z"
   },
   {
    "duration": 188,
    "start_time": "2023-09-04T06:57:56.450Z"
   },
   {
    "duration": 136,
    "start_time": "2023-09-04T06:57:56.644Z"
   },
   {
    "duration": 7,
    "start_time": "2023-09-04T06:57:56.782Z"
   },
   {
    "duration": 8,
    "start_time": "2023-09-04T06:57:56.790Z"
   },
   {
    "duration": 11,
    "start_time": "2023-09-04T06:57:56.799Z"
   },
   {
    "duration": 45,
    "start_time": "2023-09-04T06:57:56.811Z"
   },
   {
    "duration": 12,
    "start_time": "2023-09-04T06:57:56.858Z"
   },
   {
    "duration": 7,
    "start_time": "2023-09-04T06:57:56.871Z"
   },
   {
    "duration": 14,
    "start_time": "2023-09-04T06:57:56.879Z"
   },
   {
    "duration": 7,
    "start_time": "2023-09-04T06:57:56.895Z"
   },
   {
    "duration": 42,
    "start_time": "2023-09-04T06:57:56.904Z"
   },
   {
    "duration": 5,
    "start_time": "2023-09-04T06:57:56.948Z"
   },
   {
    "duration": 21,
    "start_time": "2023-09-04T06:57:56.955Z"
   },
   {
    "duration": 12,
    "start_time": "2023-09-04T06:57:56.977Z"
   },
   {
    "duration": 11,
    "start_time": "2023-09-04T06:57:56.991Z"
   },
   {
    "duration": 18,
    "start_time": "2023-09-04T06:57:57.004Z"
   },
   {
    "duration": 5,
    "start_time": "2023-09-04T06:57:57.024Z"
   },
   {
    "duration": 18,
    "start_time": "2023-09-04T06:57:57.030Z"
   },
   {
    "duration": 6,
    "start_time": "2023-09-04T06:57:57.050Z"
   },
   {
    "duration": 958,
    "start_time": "2023-09-04T06:57:57.058Z"
   },
   {
    "duration": 8,
    "start_time": "2023-09-04T06:57:58.018Z"
   },
   {
    "duration": 19,
    "start_time": "2023-09-04T06:57:58.028Z"
   },
   {
    "duration": 329,
    "start_time": "2023-09-04T06:57:58.049Z"
   },
   {
    "duration": 7,
    "start_time": "2023-09-04T06:57:58.380Z"
   },
   {
    "duration": 7,
    "start_time": "2023-09-04T06:57:58.388Z"
   },
   {
    "duration": 18,
    "start_time": "2023-09-04T06:57:58.396Z"
   },
   {
    "duration": 5,
    "start_time": "2023-09-04T06:57:58.415Z"
   },
   {
    "duration": 43,
    "start_time": "2023-09-04T06:57:58.421Z"
   },
   {
    "duration": 11,
    "start_time": "2023-09-04T06:57:58.465Z"
   },
   {
    "duration": 617,
    "start_time": "2023-09-04T06:57:58.477Z"
   },
   {
    "duration": 144,
    "start_time": "2023-09-04T06:57:59.095Z"
   },
   {
    "duration": 8,
    "start_time": "2023-09-04T06:57:59.243Z"
   },
   {
    "duration": 15,
    "start_time": "2023-09-04T06:57:59.253Z"
   },
   {
    "duration": 6,
    "start_time": "2023-09-04T06:57:59.270Z"
   },
   {
    "duration": 6,
    "start_time": "2023-09-04T06:57:59.278Z"
   },
   {
    "duration": 9,
    "start_time": "2023-09-04T06:57:59.285Z"
   },
   {
    "duration": 163,
    "start_time": "2023-09-04T06:57:59.295Z"
   },
   {
    "duration": 12,
    "start_time": "2023-09-04T06:57:59.459Z"
   },
   {
    "duration": 275,
    "start_time": "2023-09-04T06:57:59.473Z"
   },
   {
    "duration": 6,
    "start_time": "2023-09-04T06:57:59.750Z"
   },
   {
    "duration": 16,
    "start_time": "2023-09-04T06:57:59.757Z"
   },
   {
    "duration": 8,
    "start_time": "2023-09-04T06:57:59.775Z"
   },
   {
    "duration": 4,
    "start_time": "2023-09-04T06:57:59.785Z"
   },
   {
    "duration": 13,
    "start_time": "2023-09-04T06:57:59.790Z"
   },
   {
    "duration": 7,
    "start_time": "2023-09-04T06:57:59.804Z"
   },
   {
    "duration": 9,
    "start_time": "2023-09-04T06:57:59.812Z"
   },
   {
    "duration": 27,
    "start_time": "2023-09-04T06:57:59.822Z"
   },
   {
    "duration": 255,
    "start_time": "2023-09-04T06:57:59.857Z"
   },
   {
    "duration": 21,
    "start_time": "2023-09-04T06:58:00.114Z"
   },
   {
    "duration": 22,
    "start_time": "2023-09-04T06:58:00.144Z"
   },
   {
    "duration": 48,
    "start_time": "2023-09-04T06:58:00.169Z"
   },
   {
    "duration": 205,
    "start_time": "2023-09-04T06:58:00.219Z"
   },
   {
    "duration": 107,
    "start_time": "2023-09-04T06:58:00.425Z"
   },
   {
    "duration": 17,
    "start_time": "2023-09-04T06:58:00.533Z"
   },
   {
    "duration": 44,
    "start_time": "2023-09-04T06:58:00.551Z"
   },
   {
    "duration": 10453,
    "start_time": "2023-09-04T06:58:00.596Z"
   },
   {
    "duration": 10,
    "start_time": "2023-09-04T06:58:11.051Z"
   },
   {
    "duration": 944,
    "start_time": "2023-09-04T06:58:11.062Z"
   },
   {
    "duration": 8,
    "start_time": "2023-09-04T06:58:12.007Z"
   },
   {
    "duration": 18,
    "start_time": "2023-09-04T06:58:12.017Z"
   },
   {
    "duration": 14,
    "start_time": "2023-09-04T06:58:12.036Z"
   },
   {
    "duration": 45,
    "start_time": "2023-09-04T06:58:12.052Z"
   },
   {
    "duration": 180,
    "start_time": "2023-09-04T06:58:12.098Z"
   },
   {
    "duration": 120,
    "start_time": "2023-09-04T06:58:12.280Z"
   },
   {
    "duration": 8,
    "start_time": "2023-09-04T06:58:12.402Z"
   },
   {
    "duration": 11,
    "start_time": "2023-09-04T06:58:12.411Z"
   },
   {
    "duration": 48,
    "start_time": "2023-09-04T06:58:12.424Z"
   },
   {
    "duration": 13,
    "start_time": "2023-09-04T06:58:12.474Z"
   },
   {
    "duration": 19,
    "start_time": "2023-09-04T06:58:12.489Z"
   },
   {
    "duration": 17,
    "start_time": "2023-09-04T06:58:12.509Z"
   },
   {
    "duration": 24,
    "start_time": "2023-09-04T06:58:12.527Z"
   },
   {
    "duration": 32,
    "start_time": "2023-09-04T06:58:12.552Z"
   },
   {
    "duration": 13,
    "start_time": "2023-09-04T06:58:12.585Z"
   },
   {
    "duration": 23,
    "start_time": "2023-09-04T06:58:12.599Z"
   },
   {
    "duration": 206,
    "start_time": "2023-09-04T06:58:12.623Z"
   },
   {
    "duration": 17,
    "start_time": "2023-09-04T06:58:12.830Z"
   },
   {
    "duration": 42,
    "start_time": "2023-09-04T06:58:12.848Z"
   },
   {
    "duration": 23,
    "start_time": "2023-09-04T06:58:12.892Z"
   },
   {
    "duration": 7,
    "start_time": "2023-09-04T06:58:12.917Z"
   },
   {
    "duration": 69,
    "start_time": "2023-09-04T06:58:12.926Z"
   },
   {
    "duration": 34,
    "start_time": "2023-09-04T06:58:12.996Z"
   },
   {
    "duration": 17,
    "start_time": "2023-09-04T06:58:13.032Z"
   },
   {
    "duration": 7,
    "start_time": "2023-09-04T06:58:13.051Z"
   },
   {
    "duration": 14,
    "start_time": "2023-09-04T06:58:13.059Z"
   },
   {
    "duration": 9,
    "start_time": "2023-09-04T06:58:13.075Z"
   },
   {
    "duration": 238,
    "start_time": "2023-09-04T06:58:13.085Z"
   },
   {
    "duration": 8,
    "start_time": "2023-09-04T06:58:13.325Z"
   },
   {
    "duration": 6,
    "start_time": "2023-09-04T06:58:13.344Z"
   },
   {
    "duration": 9,
    "start_time": "2023-09-04T06:58:13.352Z"
   },
   {
    "duration": 7,
    "start_time": "2023-09-04T06:58:13.362Z"
   },
   {
    "duration": 290,
    "start_time": "2023-09-04T06:58:13.370Z"
   },
   {
    "duration": 8,
    "start_time": "2023-09-04T06:58:13.661Z"
   },
   {
    "duration": 42,
    "start_time": "2023-09-04T06:58:13.670Z"
   },
   {
    "duration": 698,
    "start_time": "2023-09-04T06:58:13.714Z"
   },
   {
    "duration": 180,
    "start_time": "2023-09-04T06:58:14.414Z"
   },
   {
    "duration": 5,
    "start_time": "2023-09-04T06:58:14.596Z"
   },
   {
    "duration": 111464,
    "start_time": "2023-09-04T06:58:14.602Z"
   },
   {
    "duration": 43671,
    "start_time": "2023-09-04T07:00:06.068Z"
   },
   {
    "duration": 8,
    "start_time": "2023-09-04T07:00:49.743Z"
   },
   {
    "duration": 11,
    "start_time": "2023-09-04T07:00:49.752Z"
   },
   {
    "duration": 42,
    "start_time": "2023-09-04T07:00:49.765Z"
   },
   {
    "duration": 388,
    "start_time": "2023-09-04T07:00:49.809Z"
   },
   {
    "duration": 4,
    "start_time": "2023-09-04T07:00:50.199Z"
   },
   {
    "duration": 67405,
    "start_time": "2023-09-04T07:00:50.205Z"
   },
   {
    "duration": 5309,
    "start_time": "2023-09-04T07:01:57.611Z"
   },
   {
    "duration": 12,
    "start_time": "2023-09-04T07:02:02.921Z"
   },
   {
    "duration": 50,
    "start_time": "2023-09-04T07:02:02.945Z"
   },
   {
    "duration": 348,
    "start_time": "2023-09-04T07:02:02.996Z"
   },
   {
    "duration": 5,
    "start_time": "2023-09-04T07:02:03.346Z"
   },
   {
    "duration": 85872,
    "start_time": "2023-09-04T07:02:03.352Z"
   },
   {
    "duration": 7361,
    "start_time": "2023-09-04T07:03:29.227Z"
   },
   {
    "duration": 5,
    "start_time": "2023-09-04T07:03:36.590Z"
   },
   {
    "duration": 19,
    "start_time": "2023-09-04T07:03:36.596Z"
   },
   {
    "duration": 6,
    "start_time": "2023-09-04T07:03:36.617Z"
   },
   {
    "duration": 34,
    "start_time": "2023-09-04T07:03:36.624Z"
   },
   {
    "duration": 35,
    "start_time": "2023-09-04T07:03:36.660Z"
   },
   {
    "duration": 11,
    "start_time": "2023-09-04T07:03:36.697Z"
   },
   {
    "duration": 13,
    "start_time": "2023-09-04T07:03:36.710Z"
   },
   {
    "duration": 5,
    "start_time": "2023-09-04T07:03:36.725Z"
   },
   {
    "duration": 324,
    "start_time": "2023-09-04T07:03:36.732Z"
   },
   {
    "duration": 11,
    "start_time": "2023-09-04T07:03:37.058Z"
   },
   {
    "duration": 8,
    "start_time": "2023-09-04T07:03:37.071Z"
   },
   {
    "duration": 7,
    "start_time": "2023-09-04T07:03:37.081Z"
   },
   {
    "duration": 7,
    "start_time": "2023-09-04T07:03:37.090Z"
   },
   {
    "duration": 46,
    "start_time": "2023-09-04T07:03:37.099Z"
   },
   {
    "duration": 1366,
    "start_time": "2023-09-04T07:03:37.147Z"
   },
   {
    "duration": 391,
    "start_time": "2023-09-04T07:03:38.515Z"
   },
   {
    "duration": 372,
    "start_time": "2023-09-04T07:03:38.907Z"
   },
   {
    "duration": 8,
    "start_time": "2023-09-04T07:03:39.281Z"
   },
   {
    "duration": 865,
    "start_time": "2023-09-04T07:03:39.291Z"
   },
   {
    "duration": 281,
    "start_time": "2023-09-04T07:03:40.157Z"
   },
   {
    "duration": 278,
    "start_time": "2023-09-04T07:03:40.440Z"
   },
   {
    "duration": 9,
    "start_time": "2023-09-04T07:03:40.720Z"
   },
   {
    "duration": 652,
    "start_time": "2023-09-04T07:03:40.730Z"
   },
   {
    "duration": 396,
    "start_time": "2023-09-04T07:03:41.384Z"
   },
   {
    "duration": 391,
    "start_time": "2023-09-04T07:03:41.782Z"
   },
   {
    "duration": 8,
    "start_time": "2023-09-04T07:03:42.175Z"
   },
   {
    "duration": 1311,
    "start_time": "2023-09-04T07:03:42.184Z"
   },
   {
    "duration": 659,
    "start_time": "2023-09-04T07:03:43.496Z"
   },
   {
    "duration": 471,
    "start_time": "2023-09-04T07:03:44.157Z"
   },
   {
    "duration": 25,
    "start_time": "2023-09-04T07:03:44.630Z"
   },
   {
    "duration": 13,
    "start_time": "2023-09-04T07:03:44.657Z"
   },
   {
    "duration": 247,
    "start_time": "2023-09-04T07:03:44.672Z"
   },
   {
    "duration": 179,
    "start_time": "2023-09-04T07:03:44.920Z"
   },
   {
    "duration": 11,
    "start_time": "2023-09-04T07:03:45.101Z"
   },
   {
    "duration": 169,
    "start_time": "2023-09-04T07:03:45.114Z"
   },
   {
    "duration": 171,
    "start_time": "2023-09-04T07:03:45.285Z"
   },
   {
    "duration": 140,
    "start_time": "2023-09-04T07:03:45.458Z"
   },
   {
    "duration": 8,
    "start_time": "2023-09-04T07:03:45.600Z"
   },
   {
    "duration": 205,
    "start_time": "2023-09-04T07:03:45.610Z"
   },
   {
    "duration": 154,
    "start_time": "2023-09-04T07:03:45.817Z"
   },
   {
    "duration": 140,
    "start_time": "2023-09-04T07:03:45.973Z"
   },
   {
    "duration": 9,
    "start_time": "2023-09-04T07:03:46.115Z"
   },
   {
    "duration": 554,
    "start_time": "2023-09-04T07:03:46.126Z"
   },
   {
    "duration": 9,
    "start_time": "2023-09-04T07:03:46.682Z"
   },
   {
    "duration": 411,
    "start_time": "2023-09-04T07:03:46.692Z"
   },
   {
    "duration": 9,
    "start_time": "2023-09-04T07:03:47.104Z"
   },
   {
    "duration": 218,
    "start_time": "2023-09-04T07:03:47.115Z"
   },
   {
    "duration": 16,
    "start_time": "2023-09-04T07:03:47.335Z"
   },
   {
    "duration": 205,
    "start_time": "2023-09-04T07:03:47.353Z"
   },
   {
    "duration": 10,
    "start_time": "2023-09-04T07:03:47.559Z"
   },
   {
    "duration": 203,
    "start_time": "2023-09-04T07:03:47.570Z"
   },
   {
    "duration": 172,
    "start_time": "2023-09-04T07:03:47.775Z"
   },
   {
    "duration": 160,
    "start_time": "2023-09-04T07:03:47.948Z"
   },
   {
    "duration": 303,
    "start_time": "2023-09-04T07:03:48.110Z"
   },
   {
    "duration": 32238,
    "start_time": "2023-09-04T07:03:48.414Z"
   },
   {
    "duration": 11,
    "start_time": "2023-09-04T07:04:20.654Z"
   },
   {
    "duration": 3603,
    "start_time": "2023-09-04T07:04:20.667Z"
   },
   {
    "duration": 375,
    "start_time": "2023-09-04T07:04:24.273Z"
   },
   {
    "duration": 347,
    "start_time": "2023-09-04T07:04:24.649Z"
   },
   {
    "duration": 6,
    "start_time": "2023-09-04T07:04:24.998Z"
   },
   {
    "duration": 140,
    "start_time": "2023-09-04T07:04:25.006Z"
   },
   {
    "duration": 4,
    "start_time": "2023-09-04T07:04:25.147Z"
   },
   {
    "duration": 15,
    "start_time": "2023-09-04T07:04:25.152Z"
   },
   {
    "duration": 29,
    "start_time": "2023-09-04T07:04:25.168Z"
   },
   {
    "duration": 207,
    "start_time": "2023-09-04T07:04:25.198Z"
   },
   {
    "duration": 106,
    "start_time": "2023-09-04T07:04:25.407Z"
   },
   {
    "duration": 34,
    "start_time": "2023-09-04T07:04:25.514Z"
   },
   {
    "duration": 12,
    "start_time": "2023-09-04T07:04:25.550Z"
   },
   {
    "duration": 8,
    "start_time": "2023-09-04T07:04:25.564Z"
   },
   {
    "duration": 1040,
    "start_time": "2023-09-04T07:04:25.574Z"
   },
   {
    "duration": 149,
    "start_time": "2023-09-04T07:04:26.616Z"
   },
   {
    "duration": 18,
    "start_time": "2023-09-04T07:04:26.766Z"
   },
   {
    "duration": 9,
    "start_time": "2023-09-04T07:04:26.786Z"
   },
   {
    "duration": 1141,
    "start_time": "2023-09-04T07:04:26.796Z"
   },
   {
    "duration": 508,
    "start_time": "2023-09-04T07:04:27.938Z"
   },
   {
    "duration": 17,
    "start_time": "2023-09-04T07:04:28.447Z"
   },
   {
    "duration": 7,
    "start_time": "2023-09-04T07:04:28.466Z"
   },
   {
    "duration": 174,
    "start_time": "2023-09-04T07:04:28.475Z"
   },
   {
    "duration": 116,
    "start_time": "2023-09-04T07:04:28.651Z"
   },
   {
    "duration": 15,
    "start_time": "2023-09-04T07:04:28.769Z"
   },
   {
    "duration": 138,
    "start_time": "2023-09-04T07:04:28.785Z"
   },
   {
    "duration": 24,
    "start_time": "2023-09-04T07:04:28.925Z"
   },
   {
    "duration": 136,
    "start_time": "2023-09-04T07:04:28.951Z"
   },
   {
    "duration": 118,
    "start_time": "2023-09-04T07:04:29.088Z"
   },
   {
    "duration": 20,
    "start_time": "2023-09-04T07:04:29.208Z"
   },
   {
    "duration": 7,
    "start_time": "2023-09-04T07:04:29.244Z"
   },
   {
    "duration": 181,
    "start_time": "2023-09-04T07:04:29.252Z"
   },
   {
    "duration": 121,
    "start_time": "2023-09-04T07:04:29.435Z"
   },
   {
    "duration": 17,
    "start_time": "2023-09-04T07:04:29.558Z"
   },
   {
    "duration": 173,
    "start_time": "2023-09-04T07:04:29.577Z"
   },
   {
    "duration": 8,
    "start_time": "2023-09-04T07:04:29.752Z"
   },
   {
    "duration": 645,
    "start_time": "2023-09-04T07:04:29.762Z"
   },
   {
    "duration": 144,
    "start_time": "2023-09-04T07:04:30.409Z"
   },
   {
    "duration": 21,
    "start_time": "2023-09-04T07:04:30.554Z"
   },
   {
    "duration": 47,
    "start_time": "2023-09-04T07:04:30.577Z"
   },
   {
    "duration": 297,
    "start_time": "2023-09-04T07:04:30.625Z"
   },
   {
    "duration": 139,
    "start_time": "2023-09-04T07:04:30.924Z"
   },
   {
    "duration": 18,
    "start_time": "2023-09-04T07:04:31.065Z"
   },
   {
    "duration": 34,
    "start_time": "2023-09-04T07:04:31.098Z"
   },
   {
    "duration": 208,
    "start_time": "2023-09-04T07:04:31.133Z"
   },
   {
    "duration": 113,
    "start_time": "2023-09-04T07:04:31.344Z"
   },
   {
    "duration": 16,
    "start_time": "2023-09-04T07:04:31.458Z"
   },
   {
    "duration": 40,
    "start_time": "2023-09-04T07:04:31.476Z"
   },
   {
    "duration": 1041,
    "start_time": "2023-09-04T07:04:31.518Z"
   },
   {
    "duration": 125,
    "start_time": "2023-09-04T07:04:32.561Z"
   },
   {
    "duration": 15,
    "start_time": "2023-09-04T07:04:32.688Z"
   },
   {
    "duration": 877,
    "start_time": "2023-09-04T07:04:32.705Z"
   },
   {
    "duration": 10,
    "start_time": "2023-09-04T07:04:33.583Z"
   },
   {
    "duration": 1579,
    "start_time": "2023-09-04T07:04:33.594Z"
   },
   {
    "duration": 116,
    "start_time": "2023-09-04T07:04:35.175Z"
   },
   {
    "duration": 16,
    "start_time": "2023-09-04T07:04:35.292Z"
   },
   {
    "duration": 12,
    "start_time": "2023-09-04T07:04:35.310Z"
   },
   {
    "duration": 1987,
    "start_time": "2023-09-04T07:04:35.323Z"
   },
   {
    "duration": 123,
    "start_time": "2023-09-04T07:04:37.312Z"
   },
   {
    "duration": 19,
    "start_time": "2023-09-04T07:04:37.443Z"
   },
   {
    "duration": 89,
    "start_time": "2023-09-04T07:04:37.464Z"
   },
   {
    "duration": 185,
    "start_time": "2023-09-04T07:04:37.555Z"
   },
   {
    "duration": 313,
    "start_time": "2023-09-04T07:04:37.741Z"
   },
   {
    "duration": 23,
    "start_time": "2023-09-04T07:04:38.055Z"
   },
   {
    "duration": 12,
    "start_time": "2023-09-04T07:04:38.080Z"
   },
   {
    "duration": 365,
    "start_time": "2023-09-04T07:04:38.093Z"
   },
   {
    "duration": 144,
    "start_time": "2023-09-04T07:04:38.460Z"
   },
   {
    "duration": 18,
    "start_time": "2023-09-04T07:04:38.606Z"
   },
   {
    "duration": 21,
    "start_time": "2023-09-04T07:04:38.625Z"
   },
   {
    "duration": 240,
    "start_time": "2023-09-04T07:04:38.647Z"
   },
   {
    "duration": 704,
    "start_time": "2023-09-04T07:04:38.889Z"
   },
   {
    "duration": 18,
    "start_time": "2023-09-04T07:04:39.595Z"
   },
   {
    "duration": 9,
    "start_time": "2023-09-04T07:04:39.615Z"
   },
   {
    "duration": 255,
    "start_time": "2023-09-04T07:04:39.645Z"
   },
   {
    "duration": 129,
    "start_time": "2023-09-04T07:04:39.902Z"
   },
   {
    "duration": 26,
    "start_time": "2023-09-04T07:04:40.033Z"
   },
   {
    "duration": 41,
    "start_time": "2023-09-04T07:04:40.060Z"
   },
   {
    "duration": 197,
    "start_time": "2023-09-04T07:04:40.103Z"
   },
   {
    "duration": 206,
    "start_time": "2023-09-04T07:04:40.302Z"
   },
   {
    "duration": 177,
    "start_time": "2023-09-04T07:04:40.510Z"
   },
   {
    "duration": 195,
    "start_time": "2023-09-04T07:04:40.689Z"
   },
   {
    "duration": 136,
    "start_time": "2023-09-04T07:04:40.886Z"
   },
   {
    "duration": 4,
    "start_time": "2023-09-04T07:04:41.024Z"
   },
   {
    "duration": 36,
    "start_time": "2023-09-04T07:04:41.030Z"
   },
   {
    "duration": 320,
    "start_time": "2023-09-04T07:04:41.068Z"
   },
   {
    "duration": 23,
    "start_time": "2023-09-04T07:04:41.389Z"
   },
   {
    "duration": 116,
    "start_time": "2023-09-04T07:04:41.413Z"
   },
   {
    "duration": 236,
    "start_time": "2023-09-04T07:04:41.531Z"
   },
   {
    "duration": 142,
    "start_time": "2023-09-04T07:04:41.769Z"
   },
   {
    "duration": 141,
    "start_time": "2023-09-04T07:04:41.913Z"
   },
   {
    "duration": 135,
    "start_time": "2023-09-04T07:04:42.056Z"
   },
   {
    "duration": 13,
    "start_time": "2023-09-04T07:04:42.192Z"
   },
   {
    "duration": 56,
    "start_time": "2023-09-04T07:04:42.207Z"
   },
   {
    "duration": 9,
    "start_time": "2023-09-04T07:04:42.264Z"
   },
   {
    "duration": 19,
    "start_time": "2023-09-04T07:04:42.275Z"
   },
   {
    "duration": 27,
    "start_time": "2023-09-04T07:04:42.295Z"
   },
   {
    "duration": 142,
    "start_time": "2023-09-04T07:04:42.324Z"
   },
   {
    "duration": 785,
    "start_time": "2023-09-04T13:41:08.316Z"
   },
   {
    "duration": 115,
    "start_time": "2023-09-04T13:41:09.103Z"
   },
   {
    "duration": 36,
    "start_time": "2023-09-04T13:41:09.220Z"
   },
   {
    "duration": 86,
    "start_time": "2023-09-04T13:41:09.260Z"
   },
   {
    "duration": 40,
    "start_time": "2023-09-04T13:41:09.348Z"
   },
   {
    "duration": 2363,
    "start_time": "2023-09-04T13:41:09.389Z"
   },
   {
    "duration": 14,
    "start_time": "2023-09-04T13:41:11.754Z"
   },
   {
    "duration": 8,
    "start_time": "2023-09-04T13:41:11.769Z"
   },
   {
    "duration": 16,
    "start_time": "2023-09-04T13:41:11.779Z"
   },
   {
    "duration": 32,
    "start_time": "2023-09-04T13:41:11.798Z"
   },
   {
    "duration": 35,
    "start_time": "2023-09-04T13:41:11.832Z"
   },
   {
    "duration": 11,
    "start_time": "2023-09-04T13:41:11.869Z"
   },
   {
    "duration": 24,
    "start_time": "2023-09-04T13:41:11.882Z"
   },
   {
    "duration": 13,
    "start_time": "2023-09-04T13:41:11.908Z"
   },
   {
    "duration": 1390,
    "start_time": "2023-09-04T13:41:11.923Z"
   },
   {
    "duration": 294,
    "start_time": "2023-09-04T13:41:13.314Z"
   },
   {
    "duration": 7,
    "start_time": "2023-09-04T13:41:13.609Z"
   },
   {
    "duration": 40,
    "start_time": "2023-09-04T13:41:13.618Z"
   },
   {
    "duration": 4,
    "start_time": "2023-09-04T13:41:13.660Z"
   },
   {
    "duration": 22,
    "start_time": "2023-09-04T13:41:13.668Z"
   },
   {
    "duration": 5,
    "start_time": "2023-09-04T13:41:13.692Z"
   },
   {
    "duration": 181,
    "start_time": "2023-09-04T13:41:13.698Z"
   },
   {
    "duration": 7,
    "start_time": "2023-09-04T13:41:13.887Z"
   },
   {
    "duration": 174,
    "start_time": "2023-09-04T13:41:13.896Z"
   },
   {
    "duration": 8,
    "start_time": "2023-09-04T13:41:14.077Z"
   },
   {
    "duration": 27,
    "start_time": "2023-09-04T13:41:14.087Z"
   },
   {
    "duration": 20,
    "start_time": "2023-09-04T13:41:14.116Z"
   },
   {
    "duration": 27,
    "start_time": "2023-09-04T13:41:14.141Z"
   },
   {
    "duration": 16,
    "start_time": "2023-09-04T13:41:14.179Z"
   },
   {
    "duration": 200,
    "start_time": "2023-09-04T13:41:14.197Z"
   },
   {
    "duration": 225,
    "start_time": "2023-09-04T13:41:14.399Z"
   },
   {
    "duration": 312,
    "start_time": "2023-09-04T13:41:14.626Z"
   },
   {
    "duration": 9,
    "start_time": "2023-09-04T13:41:14.940Z"
   },
   {
    "duration": 34,
    "start_time": "2023-09-04T13:41:14.950Z"
   },
   {
    "duration": 273,
    "start_time": "2023-09-04T13:41:14.991Z"
   },
   {
    "duration": 147,
    "start_time": "2023-09-04T13:41:15.265Z"
   },
   {
    "duration": 8,
    "start_time": "2023-09-04T13:41:15.414Z"
   },
   {
    "duration": 13,
    "start_time": "2023-09-04T13:41:15.423Z"
   },
   {
    "duration": 8,
    "start_time": "2023-09-04T13:41:15.444Z"
   },
   {
    "duration": 59,
    "start_time": "2023-09-04T13:41:15.454Z"
   },
   {
    "duration": 12,
    "start_time": "2023-09-04T13:41:15.515Z"
   },
   {
    "duration": 7,
    "start_time": "2023-09-04T13:41:15.529Z"
   },
   {
    "duration": 43,
    "start_time": "2023-09-04T13:41:15.538Z"
   },
   {
    "duration": 8,
    "start_time": "2023-09-04T13:41:15.584Z"
   },
   {
    "duration": 9,
    "start_time": "2023-09-04T13:41:15.593Z"
   },
   {
    "duration": 15,
    "start_time": "2023-09-04T13:41:15.603Z"
   },
   {
    "duration": 12,
    "start_time": "2023-09-04T13:41:15.619Z"
   },
   {
    "duration": 28,
    "start_time": "2023-09-04T13:41:15.632Z"
   },
   {
    "duration": 27,
    "start_time": "2023-09-04T13:41:15.661Z"
   },
   {
    "duration": 16,
    "start_time": "2023-09-04T13:41:15.691Z"
   },
   {
    "duration": 5,
    "start_time": "2023-09-04T13:41:15.709Z"
   },
   {
    "duration": 9,
    "start_time": "2023-09-04T13:41:15.715Z"
   },
   {
    "duration": 10,
    "start_time": "2023-09-04T13:41:15.726Z"
   },
   {
    "duration": 1166,
    "start_time": "2023-09-04T13:41:15.737Z"
   },
   {
    "duration": 10,
    "start_time": "2023-09-04T13:41:16.905Z"
   },
   {
    "duration": 87,
    "start_time": "2023-09-04T13:41:16.916Z"
   },
   {
    "duration": 359,
    "start_time": "2023-09-04T13:41:17.005Z"
   },
   {
    "duration": 9,
    "start_time": "2023-09-04T13:41:17.377Z"
   },
   {
    "duration": 6,
    "start_time": "2023-09-04T13:41:17.388Z"
   },
   {
    "duration": 30,
    "start_time": "2023-09-04T13:41:17.396Z"
   },
   {
    "duration": 6,
    "start_time": "2023-09-04T13:41:17.428Z"
   },
   {
    "duration": 48,
    "start_time": "2023-09-04T13:41:17.436Z"
   },
   {
    "duration": 8,
    "start_time": "2023-09-04T13:41:17.486Z"
   },
   {
    "duration": 731,
    "start_time": "2023-09-04T13:41:17.496Z"
   },
   {
    "duration": 168,
    "start_time": "2023-09-04T13:41:18.229Z"
   },
   {
    "duration": 8,
    "start_time": "2023-09-04T13:41:18.399Z"
   },
   {
    "duration": 16,
    "start_time": "2023-09-04T13:41:18.409Z"
   },
   {
    "duration": 17,
    "start_time": "2023-09-04T13:41:18.445Z"
   },
   {
    "duration": 11,
    "start_time": "2023-09-04T13:41:18.469Z"
   },
   {
    "duration": 17,
    "start_time": "2023-09-04T13:41:18.484Z"
   },
   {
    "duration": 164,
    "start_time": "2023-09-04T13:41:18.502Z"
   },
   {
    "duration": 10,
    "start_time": "2023-09-04T13:41:18.668Z"
   },
   {
    "duration": 330,
    "start_time": "2023-09-04T13:41:18.679Z"
   },
   {
    "duration": 6,
    "start_time": "2023-09-04T13:41:19.011Z"
   },
   {
    "duration": 37,
    "start_time": "2023-09-04T13:41:19.019Z"
   },
   {
    "duration": 20,
    "start_time": "2023-09-04T13:41:19.059Z"
   },
   {
    "duration": 8,
    "start_time": "2023-09-04T13:41:19.081Z"
   },
   {
    "duration": 11,
    "start_time": "2023-09-04T13:41:19.092Z"
   },
   {
    "duration": 9,
    "start_time": "2023-09-04T13:41:19.105Z"
   },
   {
    "duration": 14,
    "start_time": "2023-09-04T13:41:19.116Z"
   },
   {
    "duration": 24,
    "start_time": "2023-09-04T13:41:19.132Z"
   },
   {
    "duration": 303,
    "start_time": "2023-09-04T13:41:19.168Z"
   },
   {
    "duration": 26,
    "start_time": "2023-09-04T13:41:19.473Z"
   },
   {
    "duration": 13,
    "start_time": "2023-09-04T13:41:19.501Z"
   },
   {
    "duration": 9,
    "start_time": "2023-09-04T13:41:19.515Z"
   },
   {
    "duration": 231,
    "start_time": "2023-09-04T13:41:19.526Z"
   },
   {
    "duration": 134,
    "start_time": "2023-09-04T13:41:19.758Z"
   },
   {
    "duration": 10,
    "start_time": "2023-09-04T13:41:19.893Z"
   },
   {
    "duration": 6,
    "start_time": "2023-09-04T13:41:19.904Z"
   },
   {
    "duration": 12971,
    "start_time": "2023-09-04T13:41:19.911Z"
   },
   {
    "duration": 9,
    "start_time": "2023-09-04T13:41:32.886Z"
   },
   {
    "duration": 1107,
    "start_time": "2023-09-04T13:41:32.896Z"
   },
   {
    "duration": 10,
    "start_time": "2023-09-04T13:41:34.004Z"
   },
   {
    "duration": 14,
    "start_time": "2023-09-04T13:41:34.015Z"
   },
   {
    "duration": 22,
    "start_time": "2023-09-04T13:41:34.044Z"
   },
   {
    "duration": 59,
    "start_time": "2023-09-04T13:41:34.069Z"
   },
   {
    "duration": 231,
    "start_time": "2023-09-04T13:41:34.130Z"
   },
   {
    "duration": 152,
    "start_time": "2023-09-04T13:41:34.363Z"
   },
   {
    "duration": 11,
    "start_time": "2023-09-04T13:41:34.517Z"
   },
   {
    "duration": 20,
    "start_time": "2023-09-04T13:41:34.529Z"
   },
   {
    "duration": 27,
    "start_time": "2023-09-04T13:41:34.550Z"
   },
   {
    "duration": 8,
    "start_time": "2023-09-04T13:41:34.581Z"
   },
   {
    "duration": 17,
    "start_time": "2023-09-04T13:41:34.591Z"
   },
   {
    "duration": 10,
    "start_time": "2023-09-04T13:41:34.609Z"
   },
   {
    "duration": 7,
    "start_time": "2023-09-04T13:41:34.621Z"
   },
   {
    "duration": 6,
    "start_time": "2023-09-04T13:41:34.630Z"
   },
   {
    "duration": 17,
    "start_time": "2023-09-04T13:41:34.649Z"
   },
   {
    "duration": 23,
    "start_time": "2023-09-04T13:41:34.671Z"
   },
   {
    "duration": 249,
    "start_time": "2023-09-04T13:41:34.696Z"
   },
   {
    "duration": 24,
    "start_time": "2023-09-04T13:41:34.955Z"
   },
   {
    "duration": 9,
    "start_time": "2023-09-04T13:41:34.985Z"
   },
   {
    "duration": 8,
    "start_time": "2023-09-04T13:41:34.996Z"
   },
   {
    "duration": 11,
    "start_time": "2023-09-04T13:41:35.005Z"
   },
   {
    "duration": 35,
    "start_time": "2023-09-04T13:41:35.017Z"
   },
   {
    "duration": 23,
    "start_time": "2023-09-04T13:41:35.053Z"
   },
   {
    "duration": 12,
    "start_time": "2023-09-04T13:41:35.078Z"
   },
   {
    "duration": 9,
    "start_time": "2023-09-04T13:41:35.091Z"
   },
   {
    "duration": 15,
    "start_time": "2023-09-04T13:41:35.101Z"
   },
   {
    "duration": 12,
    "start_time": "2023-09-04T13:41:35.118Z"
   },
   {
    "duration": 275,
    "start_time": "2023-09-04T13:41:35.131Z"
   },
   {
    "duration": 8,
    "start_time": "2023-09-04T13:41:35.407Z"
   },
   {
    "duration": 12,
    "start_time": "2023-09-04T13:41:35.416Z"
   },
   {
    "duration": 18,
    "start_time": "2023-09-04T13:41:35.429Z"
   },
   {
    "duration": 10,
    "start_time": "2023-09-04T13:41:35.453Z"
   },
   {
    "duration": 300,
    "start_time": "2023-09-04T13:41:35.465Z"
   },
   {
    "duration": 11,
    "start_time": "2023-09-04T13:41:35.768Z"
   },
   {
    "duration": 46,
    "start_time": "2023-09-04T13:41:35.785Z"
   },
   {
    "duration": 785,
    "start_time": "2023-09-04T13:41:35.834Z"
   },
   {
    "duration": 215,
    "start_time": "2023-09-04T13:41:36.621Z"
   },
   {
    "duration": 22,
    "start_time": "2023-09-04T13:41:36.838Z"
   },
   {
    "duration": 128967,
    "start_time": "2023-09-04T13:41:36.861Z"
   },
   {
    "duration": 50290,
    "start_time": "2023-09-04T13:43:45.829Z"
   },
   {
    "duration": 8,
    "start_time": "2023-09-04T13:44:36.121Z"
   },
   {
    "duration": 35,
    "start_time": "2023-09-04T13:44:36.131Z"
   },
   {
    "duration": 44,
    "start_time": "2023-09-04T13:44:36.171Z"
   },
   {
    "duration": 418,
    "start_time": "2023-09-04T13:44:36.217Z"
   },
   {
    "duration": 14,
    "start_time": "2023-09-04T13:44:36.637Z"
   },
   {
    "duration": 76313,
    "start_time": "2023-09-04T13:44:36.662Z"
   },
   {
    "duration": 6219,
    "start_time": "2023-09-04T13:45:52.977Z"
   },
   {
    "duration": 12,
    "start_time": "2023-09-04T13:45:59.198Z"
   },
   {
    "duration": 73,
    "start_time": "2023-09-04T13:45:59.212Z"
   },
   {
    "duration": 380,
    "start_time": "2023-09-04T13:45:59.290Z"
   },
   {
    "duration": 12,
    "start_time": "2023-09-04T13:45:59.672Z"
   },
   {
    "duration": 104228,
    "start_time": "2023-09-04T13:45:59.687Z"
   },
   {
    "duration": 8870,
    "start_time": "2023-09-04T13:47:43.916Z"
   },
   {
    "duration": 10,
    "start_time": "2023-09-04T13:47:52.791Z"
   },
   {
    "duration": 26,
    "start_time": "2023-09-04T13:47:52.805Z"
   },
   {
    "duration": 6,
    "start_time": "2023-09-04T13:47:52.833Z"
   },
   {
    "duration": 48,
    "start_time": "2023-09-04T13:47:52.840Z"
   },
   {
    "duration": 16,
    "start_time": "2023-09-04T13:47:52.890Z"
   },
   {
    "duration": 16,
    "start_time": "2023-09-04T13:47:52.908Z"
   },
   {
    "duration": 11,
    "start_time": "2023-09-04T13:47:52.926Z"
   },
   {
    "duration": 13,
    "start_time": "2023-09-04T13:47:52.939Z"
   },
   {
    "duration": 459,
    "start_time": "2023-09-04T13:47:52.956Z"
   },
   {
    "duration": 10,
    "start_time": "2023-09-04T13:47:53.416Z"
   },
   {
    "duration": 33,
    "start_time": "2023-09-04T13:47:53.428Z"
   },
   {
    "duration": 12,
    "start_time": "2023-09-04T13:47:53.464Z"
   },
   {
    "duration": 37,
    "start_time": "2023-09-04T13:47:53.478Z"
   },
   {
    "duration": 16,
    "start_time": "2023-09-04T13:47:53.518Z"
   },
   {
    "duration": 1784,
    "start_time": "2023-09-04T13:47:53.536Z"
   },
   {
    "duration": 511,
    "start_time": "2023-09-04T13:47:55.321Z"
   },
   {
    "duration": 516,
    "start_time": "2023-09-04T13:47:55.834Z"
   },
   {
    "duration": 19,
    "start_time": "2023-09-04T13:47:56.353Z"
   },
   {
    "duration": 1095,
    "start_time": "2023-09-04T13:47:56.374Z"
   },
   {
    "duration": 338,
    "start_time": "2023-09-04T13:47:57.474Z"
   },
   {
    "duration": 355,
    "start_time": "2023-09-04T13:47:57.814Z"
   },
   {
    "duration": 11,
    "start_time": "2023-09-04T13:47:58.171Z"
   },
   {
    "duration": 779,
    "start_time": "2023-09-04T13:47:58.184Z"
   },
   {
    "duration": 456,
    "start_time": "2023-09-04T13:47:58.965Z"
   },
   {
    "duration": 462,
    "start_time": "2023-09-04T13:47:59.422Z"
   },
   {
    "duration": 10,
    "start_time": "2023-09-04T13:47:59.888Z"
   },
   {
    "duration": 1658,
    "start_time": "2023-09-04T13:47:59.899Z"
   },
   {
    "duration": 749,
    "start_time": "2023-09-04T13:48:01.563Z"
   },
   {
    "duration": 574,
    "start_time": "2023-09-04T13:48:02.314Z"
   },
   {
    "duration": 30,
    "start_time": "2023-09-04T13:48:02.898Z"
   },
   {
    "duration": 21,
    "start_time": "2023-09-04T13:48:02.930Z"
   },
   {
    "duration": 297,
    "start_time": "2023-09-04T13:48:02.972Z"
   },
   {
    "duration": 160,
    "start_time": "2023-09-04T13:48:03.271Z"
   },
   {
    "duration": 19,
    "start_time": "2023-09-04T13:48:03.433Z"
   },
   {
    "duration": 208,
    "start_time": "2023-09-04T13:48:03.456Z"
   },
   {
    "duration": 191,
    "start_time": "2023-09-04T13:48:03.666Z"
   },
   {
    "duration": 160,
    "start_time": "2023-09-04T13:48:03.858Z"
   },
   {
    "duration": 10,
    "start_time": "2023-09-04T13:48:04.019Z"
   },
   {
    "duration": 338,
    "start_time": "2023-09-04T13:48:04.030Z"
   },
   {
    "duration": 201,
    "start_time": "2023-09-04T13:48:04.370Z"
   },
   {
    "duration": 189,
    "start_time": "2023-09-04T13:48:04.573Z"
   },
   {
    "duration": 17,
    "start_time": "2023-09-04T13:48:04.767Z"
   },
   {
    "duration": 588,
    "start_time": "2023-09-04T13:48:04.789Z"
   },
   {
    "duration": 12,
    "start_time": "2023-09-04T13:48:05.379Z"
   },
   {
    "duration": 494,
    "start_time": "2023-09-04T13:48:05.394Z"
   },
   {
    "duration": 11,
    "start_time": "2023-09-04T13:48:05.896Z"
   },
   {
    "duration": 246,
    "start_time": "2023-09-04T13:48:05.909Z"
   },
   {
    "duration": 10,
    "start_time": "2023-09-04T13:48:06.159Z"
   },
   {
    "duration": 242,
    "start_time": "2023-09-04T13:48:06.171Z"
   },
   {
    "duration": 8,
    "start_time": "2023-09-04T13:48:06.415Z"
   },
   {
    "duration": 216,
    "start_time": "2023-09-04T13:48:06.424Z"
   },
   {
    "duration": 195,
    "start_time": "2023-09-04T13:48:06.646Z"
   },
   {
    "duration": 222,
    "start_time": "2023-09-04T13:48:06.842Z"
   },
   {
    "duration": 412,
    "start_time": "2023-09-04T13:48:07.066Z"
   },
   {
    "duration": 38090,
    "start_time": "2023-09-04T13:48:07.480Z"
   },
   {
    "duration": 11,
    "start_time": "2023-09-04T13:48:45.572Z"
   },
   {
    "duration": 3776,
    "start_time": "2023-09-04T13:48:45.585Z"
   },
   {
    "duration": 401,
    "start_time": "2023-09-04T13:48:49.362Z"
   },
   {
    "duration": 434,
    "start_time": "2023-09-04T13:48:49.765Z"
   },
   {
    "duration": 6,
    "start_time": "2023-09-04T13:48:50.201Z"
   },
   {
    "duration": 190,
    "start_time": "2023-09-04T13:48:50.209Z"
   },
   {
    "duration": 4,
    "start_time": "2023-09-04T13:48:50.400Z"
   },
   {
    "duration": 22,
    "start_time": "2023-09-04T13:48:50.405Z"
   },
   {
    "duration": 53,
    "start_time": "2023-09-04T13:48:50.429Z"
   },
   {
    "duration": 224,
    "start_time": "2023-09-04T13:48:50.484Z"
   },
   {
    "duration": 123,
    "start_time": "2023-09-04T13:48:50.710Z"
   },
   {
    "duration": 21,
    "start_time": "2023-09-04T13:48:50.835Z"
   },
   {
    "duration": 36,
    "start_time": "2023-09-04T13:48:50.858Z"
   },
   {
    "duration": 9,
    "start_time": "2023-09-04T13:48:50.895Z"
   },
   {
    "duration": 1349,
    "start_time": "2023-09-04T13:48:50.906Z"
   },
   {
    "duration": 169,
    "start_time": "2023-09-04T13:48:52.257Z"
   },
   {
    "duration": 23,
    "start_time": "2023-09-04T13:48:52.428Z"
   },
   {
    "duration": 16,
    "start_time": "2023-09-04T13:48:52.458Z"
   },
   {
    "duration": 1437,
    "start_time": "2023-09-04T13:48:52.475Z"
   },
   {
    "duration": 640,
    "start_time": "2023-09-04T13:48:53.914Z"
   },
   {
    "duration": 22,
    "start_time": "2023-09-04T13:48:54.566Z"
   },
   {
    "duration": 11,
    "start_time": "2023-09-04T13:48:54.589Z"
   },
   {
    "duration": 205,
    "start_time": "2023-09-04T13:48:54.602Z"
   },
   {
    "duration": 130,
    "start_time": "2023-09-04T13:48:54.808Z"
   },
   {
    "duration": 23,
    "start_time": "2023-09-04T13:48:54.944Z"
   },
   {
    "duration": 209,
    "start_time": "2023-09-04T13:48:54.972Z"
   },
   {
    "duration": 17,
    "start_time": "2023-09-04T13:48:55.183Z"
   },
   {
    "duration": 207,
    "start_time": "2023-09-04T13:48:55.202Z"
   },
   {
    "duration": 161,
    "start_time": "2023-09-04T13:48:55.411Z"
   },
   {
    "duration": 28,
    "start_time": "2023-09-04T13:48:55.574Z"
   },
   {
    "duration": 8,
    "start_time": "2023-09-04T13:48:55.604Z"
   },
   {
    "duration": 235,
    "start_time": "2023-09-04T13:48:55.614Z"
   },
   {
    "duration": 167,
    "start_time": "2023-09-04T13:48:55.851Z"
   },
   {
    "duration": 17,
    "start_time": "2023-09-04T13:48:56.019Z"
   },
   {
    "duration": 197,
    "start_time": "2023-09-04T13:48:56.038Z"
   },
   {
    "duration": 10,
    "start_time": "2023-09-04T13:48:56.237Z"
   },
   {
    "duration": 802,
    "start_time": "2023-09-04T13:48:56.249Z"
   },
   {
    "duration": 159,
    "start_time": "2023-09-04T13:48:57.063Z"
   },
   {
    "duration": 22,
    "start_time": "2023-09-04T13:48:57.224Z"
   },
   {
    "duration": 19,
    "start_time": "2023-09-04T13:48:57.249Z"
   },
   {
    "duration": 306,
    "start_time": "2023-09-04T13:48:57.270Z"
   },
   {
    "duration": 154,
    "start_time": "2023-09-04T13:48:57.579Z"
   },
   {
    "duration": 22,
    "start_time": "2023-09-04T13:48:57.736Z"
   },
   {
    "duration": 10,
    "start_time": "2023-09-04T13:48:57.774Z"
   },
   {
    "duration": 154,
    "start_time": "2023-09-04T13:48:57.786Z"
   },
   {
    "duration": 141,
    "start_time": "2023-09-04T13:48:57.941Z"
   },
   {
    "duration": 22,
    "start_time": "2023-09-04T13:48:58.084Z"
   },
   {
    "duration": 16,
    "start_time": "2023-09-04T13:48:58.107Z"
   },
   {
    "duration": 1224,
    "start_time": "2023-09-04T13:48:58.125Z"
   },
   {
    "duration": 157,
    "start_time": "2023-09-04T13:48:59.352Z"
   },
   {
    "duration": 19,
    "start_time": "2023-09-04T13:48:59.510Z"
   },
   {
    "duration": 1059,
    "start_time": "2023-09-04T13:48:59.531Z"
   },
   {
    "duration": 15,
    "start_time": "2023-09-04T13:49:00.592Z"
   },
   {
    "duration": 1936,
    "start_time": "2023-09-04T13:49:00.608Z"
   },
   {
    "duration": 166,
    "start_time": "2023-09-04T13:49:02.546Z"
   },
   {
    "duration": 18,
    "start_time": "2023-09-04T13:49:02.714Z"
   },
   {
    "duration": 17,
    "start_time": "2023-09-04T13:49:02.746Z"
   },
   {
    "duration": 2545,
    "start_time": "2023-09-04T13:49:02.765Z"
   },
   {
    "duration": 178,
    "start_time": "2023-09-04T13:49:05.312Z"
   },
   {
    "duration": 21,
    "start_time": "2023-09-04T13:49:05.493Z"
   },
   {
    "duration": 82,
    "start_time": "2023-09-04T13:49:05.516Z"
   },
   {
    "duration": 233,
    "start_time": "2023-09-04T13:49:05.604Z"
   },
   {
    "duration": 413,
    "start_time": "2023-09-04T13:49:05.838Z"
   },
   {
    "duration": 33,
    "start_time": "2023-09-04T13:49:06.253Z"
   },
   {
    "duration": 10,
    "start_time": "2023-09-04T13:49:06.288Z"
   },
   {
    "duration": 474,
    "start_time": "2023-09-04T13:49:06.303Z"
   },
   {
    "duration": 146,
    "start_time": "2023-09-04T13:49:06.779Z"
   },
   {
    "duration": 27,
    "start_time": "2023-09-04T13:49:06.927Z"
   },
   {
    "duration": 16,
    "start_time": "2023-09-04T13:49:06.958Z"
   },
   {
    "duration": 322,
    "start_time": "2023-09-04T13:49:06.976Z"
   },
   {
    "duration": 835,
    "start_time": "2023-09-04T13:49:07.300Z"
   },
   {
    "duration": 34,
    "start_time": "2023-09-04T13:49:08.137Z"
   },
   {
    "duration": 20,
    "start_time": "2023-09-04T13:49:08.174Z"
   },
   {
    "duration": 310,
    "start_time": "2023-09-04T13:49:08.202Z"
   },
   {
    "duration": 187,
    "start_time": "2023-09-04T13:49:08.514Z"
   },
   {
    "duration": 20,
    "start_time": "2023-09-04T13:49:08.703Z"
   },
   {
    "duration": 39,
    "start_time": "2023-09-04T13:49:08.726Z"
   },
   {
    "duration": 250,
    "start_time": "2023-09-04T13:49:08.767Z"
   },
   {
    "duration": 275,
    "start_time": "2023-09-04T13:49:09.022Z"
   },
   {
    "duration": 207,
    "start_time": "2023-09-04T13:49:09.299Z"
   },
   {
    "duration": 243,
    "start_time": "2023-09-04T13:49:09.508Z"
   },
   {
    "duration": 170,
    "start_time": "2023-09-04T13:49:09.753Z"
   },
   {
    "duration": 4,
    "start_time": "2023-09-04T13:49:09.924Z"
   },
   {
    "duration": 53,
    "start_time": "2023-09-04T13:49:09.930Z"
   },
   {
    "duration": 395,
    "start_time": "2023-09-04T13:49:09.985Z"
   },
   {
    "duration": 29,
    "start_time": "2023-09-04T13:49:10.385Z"
   },
   {
    "duration": 122,
    "start_time": "2023-09-04T13:49:10.416Z"
   },
   {
    "duration": 293,
    "start_time": "2023-09-04T13:49:10.544Z"
   },
   {
    "duration": 182,
    "start_time": "2023-09-04T13:49:10.839Z"
   },
   {
    "duration": 188,
    "start_time": "2023-09-04T13:49:11.023Z"
   },
   {
    "duration": 166,
    "start_time": "2023-09-04T13:49:11.213Z"
   },
   {
    "duration": 23,
    "start_time": "2023-09-04T13:49:11.380Z"
   },
   {
    "duration": 76,
    "start_time": "2023-09-04T13:49:11.405Z"
   },
   {
    "duration": 12,
    "start_time": "2023-09-04T13:49:11.488Z"
   },
   {
    "duration": 12,
    "start_time": "2023-09-04T13:49:11.502Z"
   },
   {
    "duration": 57,
    "start_time": "2023-09-04T13:49:11.515Z"
   },
   {
    "duration": 157,
    "start_time": "2023-09-04T13:49:11.578Z"
   },
   {
    "duration": 679,
    "start_time": "2023-09-04T15:07:21.699Z"
   },
   {
    "duration": 100,
    "start_time": "2023-09-04T15:07:22.379Z"
   },
   {
    "duration": 15,
    "start_time": "2023-09-04T15:07:22.480Z"
   },
   {
    "duration": 99,
    "start_time": "2023-09-04T15:07:22.497Z"
   },
   {
    "duration": 54,
    "start_time": "2023-09-04T15:07:22.598Z"
   },
   {
    "duration": 2118,
    "start_time": "2023-09-04T15:07:22.659Z"
   },
   {
    "duration": 4,
    "start_time": "2023-09-04T15:07:24.779Z"
   },
   {
    "duration": 9,
    "start_time": "2023-09-04T15:07:24.785Z"
   },
   {
    "duration": 5,
    "start_time": "2023-09-04T15:07:24.796Z"
   },
   {
    "duration": 12,
    "start_time": "2023-09-04T15:07:24.804Z"
   },
   {
    "duration": 36,
    "start_time": "2023-09-04T15:07:24.817Z"
   },
   {
    "duration": 10,
    "start_time": "2023-09-04T15:07:24.855Z"
   },
   {
    "duration": 8,
    "start_time": "2023-09-04T15:07:24.867Z"
   },
   {
    "duration": 9,
    "start_time": "2023-09-04T15:07:24.876Z"
   },
   {
    "duration": 1324,
    "start_time": "2023-09-04T15:07:24.886Z"
   },
   {
    "duration": 259,
    "start_time": "2023-09-04T15:07:26.211Z"
   },
   {
    "duration": 6,
    "start_time": "2023-09-04T15:07:26.472Z"
   },
   {
    "duration": 20,
    "start_time": "2023-09-04T15:07:26.479Z"
   },
   {
    "duration": 4,
    "start_time": "2023-09-04T15:07:26.500Z"
   },
   {
    "duration": 24,
    "start_time": "2023-09-04T15:07:26.505Z"
   },
   {
    "duration": 39,
    "start_time": "2023-09-04T15:07:26.530Z"
   },
   {
    "duration": 156,
    "start_time": "2023-09-04T15:07:26.570Z"
   },
   {
    "duration": 4,
    "start_time": "2023-09-04T15:07:26.728Z"
   },
   {
    "duration": 137,
    "start_time": "2023-09-04T15:07:26.744Z"
   },
   {
    "duration": 4,
    "start_time": "2023-09-04T15:07:26.883Z"
   },
   {
    "duration": 12,
    "start_time": "2023-09-04T15:07:26.889Z"
   },
   {
    "duration": 3,
    "start_time": "2023-09-04T15:07:26.902Z"
   },
   {
    "duration": 8,
    "start_time": "2023-09-04T15:07:26.909Z"
   },
   {
    "duration": 42,
    "start_time": "2023-09-04T15:07:26.919Z"
   },
   {
    "duration": 172,
    "start_time": "2023-09-04T15:07:26.963Z"
   },
   {
    "duration": 193,
    "start_time": "2023-09-04T15:07:27.137Z"
   },
   {
    "duration": 274,
    "start_time": "2023-09-04T15:07:27.332Z"
   },
   {
    "duration": 7,
    "start_time": "2023-09-04T15:07:27.608Z"
   },
   {
    "duration": 6,
    "start_time": "2023-09-04T15:07:27.616Z"
   },
   {
    "duration": 208,
    "start_time": "2023-09-04T15:07:27.623Z"
   },
   {
    "duration": 157,
    "start_time": "2023-09-04T15:07:27.833Z"
   },
   {
    "duration": 8,
    "start_time": "2023-09-04T15:07:27.992Z"
   },
   {
    "duration": 6,
    "start_time": "2023-09-04T15:07:28.002Z"
   },
   {
    "duration": 7,
    "start_time": "2023-09-04T15:07:28.009Z"
   },
   {
    "duration": 58,
    "start_time": "2023-09-04T15:07:28.017Z"
   },
   {
    "duration": 11,
    "start_time": "2023-09-04T15:07:28.076Z"
   },
   {
    "duration": 6,
    "start_time": "2023-09-04T15:07:28.089Z"
   },
   {
    "duration": 17,
    "start_time": "2023-09-04T15:07:28.096Z"
   },
   {
    "duration": 7,
    "start_time": "2023-09-04T15:07:28.114Z"
   },
   {
    "duration": 34,
    "start_time": "2023-09-04T15:07:28.123Z"
   },
   {
    "duration": 6,
    "start_time": "2023-09-04T15:07:28.161Z"
   },
   {
    "duration": 12,
    "start_time": "2023-09-04T15:07:28.168Z"
   },
   {
    "duration": 21,
    "start_time": "2023-09-04T15:07:28.182Z"
   },
   {
    "duration": 9,
    "start_time": "2023-09-04T15:07:28.205Z"
   },
   {
    "duration": 14,
    "start_time": "2023-09-04T15:07:28.216Z"
   },
   {
    "duration": 17,
    "start_time": "2023-09-04T15:07:28.231Z"
   },
   {
    "duration": 16,
    "start_time": "2023-09-04T15:07:28.249Z"
   },
   {
    "duration": 6,
    "start_time": "2023-09-04T15:07:28.267Z"
   },
   {
    "duration": 1025,
    "start_time": "2023-09-04T15:07:28.274Z"
   },
   {
    "duration": 9,
    "start_time": "2023-09-04T15:07:29.301Z"
   },
   {
    "duration": 11,
    "start_time": "2023-09-04T15:07:29.312Z"
   },
   {
    "duration": 375,
    "start_time": "2023-09-04T15:07:29.324Z"
   },
   {
    "duration": 9,
    "start_time": "2023-09-04T15:07:29.701Z"
   },
   {
    "duration": 7,
    "start_time": "2023-09-04T15:07:29.712Z"
   },
   {
    "duration": 41,
    "start_time": "2023-09-04T15:07:29.720Z"
   },
   {
    "duration": 4,
    "start_time": "2023-09-04T15:07:29.763Z"
   },
   {
    "duration": 28,
    "start_time": "2023-09-04T15:07:29.769Z"
   },
   {
    "duration": 9,
    "start_time": "2023-09-04T15:07:29.798Z"
   },
   {
    "duration": 667,
    "start_time": "2023-09-04T15:07:29.808Z"
   },
   {
    "duration": 163,
    "start_time": "2023-09-04T15:07:30.477Z"
   },
   {
    "duration": 14,
    "start_time": "2023-09-04T15:07:30.644Z"
   },
   {
    "duration": 39,
    "start_time": "2023-09-04T15:07:30.662Z"
   },
   {
    "duration": 33,
    "start_time": "2023-09-04T15:07:30.704Z"
   },
   {
    "duration": 33,
    "start_time": "2023-09-04T15:07:30.739Z"
   },
   {
    "duration": 38,
    "start_time": "2023-09-04T15:07:30.774Z"
   },
   {
    "duration": 180,
    "start_time": "2023-09-04T15:07:30.813Z"
   },
   {
    "duration": 91,
    "start_time": "2023-09-04T15:07:30.996Z"
   },
   {
    "duration": 341,
    "start_time": "2023-09-04T15:07:31.089Z"
   },
   {
    "duration": 19,
    "start_time": "2023-09-04T15:07:31.432Z"
   },
   {
    "duration": 41,
    "start_time": "2023-09-04T15:07:31.452Z"
   },
   {
    "duration": 32,
    "start_time": "2023-09-04T15:07:31.495Z"
   },
   {
    "duration": 26,
    "start_time": "2023-09-04T15:07:31.528Z"
   },
   {
    "duration": 43,
    "start_time": "2023-09-04T15:07:31.558Z"
   },
   {
    "duration": 30,
    "start_time": "2023-09-04T15:07:31.603Z"
   },
   {
    "duration": 20,
    "start_time": "2023-09-04T15:07:31.634Z"
   },
   {
    "duration": 47,
    "start_time": "2023-09-04T15:07:31.656Z"
   },
   {
    "duration": 270,
    "start_time": "2023-09-04T15:07:31.712Z"
   },
   {
    "duration": 22,
    "start_time": "2023-09-04T15:07:31.984Z"
   },
   {
    "duration": 15,
    "start_time": "2023-09-04T15:07:32.007Z"
   },
   {
    "duration": 23,
    "start_time": "2023-09-04T15:07:32.023Z"
   },
   {
    "duration": 229,
    "start_time": "2023-09-04T15:07:32.048Z"
   },
   {
    "duration": 131,
    "start_time": "2023-09-04T15:07:32.278Z"
   },
   {
    "duration": 11,
    "start_time": "2023-09-04T15:07:32.411Z"
   },
   {
    "duration": 18,
    "start_time": "2023-09-04T15:07:32.424Z"
   },
   {
    "duration": 11508,
    "start_time": "2023-09-04T15:07:32.447Z"
   },
   {
    "duration": 9,
    "start_time": "2023-09-04T15:07:43.957Z"
   },
   {
    "duration": 1174,
    "start_time": "2023-09-04T15:07:43.967Z"
   },
   {
    "duration": 14,
    "start_time": "2023-09-04T15:07:45.144Z"
   },
   {
    "duration": 16,
    "start_time": "2023-09-04T15:07:45.160Z"
   },
   {
    "duration": 20,
    "start_time": "2023-09-04T15:07:45.177Z"
   },
   {
    "duration": 36,
    "start_time": "2023-09-04T15:07:45.198Z"
   },
   {
    "duration": 202,
    "start_time": "2023-09-04T15:07:45.236Z"
   },
   {
    "duration": 130,
    "start_time": "2023-09-04T15:07:45.440Z"
   },
   {
    "duration": 9,
    "start_time": "2023-09-04T15:07:45.571Z"
   },
   {
    "duration": 7,
    "start_time": "2023-09-04T15:07:45.581Z"
   },
   {
    "duration": 28,
    "start_time": "2023-09-04T15:07:45.589Z"
   },
   {
    "duration": 11,
    "start_time": "2023-09-04T15:07:45.618Z"
   },
   {
    "duration": 9,
    "start_time": "2023-09-04T15:07:45.630Z"
   },
   {
    "duration": 13,
    "start_time": "2023-09-04T15:07:45.643Z"
   },
   {
    "duration": 20,
    "start_time": "2023-09-04T15:07:45.657Z"
   },
   {
    "duration": 29,
    "start_time": "2023-09-04T15:07:45.678Z"
   },
   {
    "duration": 20,
    "start_time": "2023-09-04T15:07:45.709Z"
   },
   {
    "duration": 12,
    "start_time": "2023-09-04T15:07:45.731Z"
   },
   {
    "duration": 253,
    "start_time": "2023-09-04T15:07:45.744Z"
   },
   {
    "duration": 12,
    "start_time": "2023-09-04T15:07:45.999Z"
   },
   {
    "duration": 25,
    "start_time": "2023-09-04T15:07:46.012Z"
   },
   {
    "duration": 25,
    "start_time": "2023-09-04T15:07:46.039Z"
   },
   {
    "duration": 5,
    "start_time": "2023-09-04T15:07:46.066Z"
   },
   {
    "duration": 14,
    "start_time": "2023-09-04T15:07:46.073Z"
   },
   {
    "duration": 28,
    "start_time": "2023-09-04T15:07:46.089Z"
   },
   {
    "duration": 16,
    "start_time": "2023-09-04T15:07:46.119Z"
   },
   {
    "duration": 7,
    "start_time": "2023-09-04T15:07:46.136Z"
   },
   {
    "duration": 24,
    "start_time": "2023-09-04T15:07:46.145Z"
   },
   {
    "duration": 29,
    "start_time": "2023-09-04T15:07:46.171Z"
   },
   {
    "duration": 289,
    "start_time": "2023-09-04T15:07:46.202Z"
   },
   {
    "duration": 11,
    "start_time": "2023-09-04T15:07:46.493Z"
   },
   {
    "duration": 11,
    "start_time": "2023-09-04T15:07:46.506Z"
   },
   {
    "duration": 39,
    "start_time": "2023-09-04T15:07:46.519Z"
   },
   {
    "duration": 22,
    "start_time": "2023-09-04T15:07:46.560Z"
   },
   {
    "duration": 303,
    "start_time": "2023-09-04T15:07:46.584Z"
   },
   {
    "duration": 8,
    "start_time": "2023-09-04T15:07:46.889Z"
   },
   {
    "duration": 58,
    "start_time": "2023-09-04T15:07:46.899Z"
   },
   {
    "duration": 664,
    "start_time": "2023-09-04T15:07:46.960Z"
   },
   {
    "duration": 192,
    "start_time": "2023-09-04T15:07:47.626Z"
   },
   {
    "duration": 4,
    "start_time": "2023-09-04T15:07:47.820Z"
   },
   {
    "duration": 117705,
    "start_time": "2023-09-04T15:07:47.826Z"
   },
   {
    "duration": 46233,
    "start_time": "2023-09-04T15:09:45.532Z"
   },
   {
    "duration": 9,
    "start_time": "2023-09-04T15:10:31.767Z"
   },
   {
    "duration": 54,
    "start_time": "2023-09-04T15:10:31.778Z"
   },
   {
    "duration": 61,
    "start_time": "2023-09-04T15:10:31.834Z"
   },
   {
    "duration": 393,
    "start_time": "2023-09-04T15:10:31.896Z"
   },
   {
    "duration": 6,
    "start_time": "2023-09-04T15:10:32.291Z"
   },
   {
    "duration": 70117,
    "start_time": "2023-09-04T15:10:32.298Z"
   },
   {
    "duration": 5536,
    "start_time": "2023-09-04T15:11:42.417Z"
   },
   {
    "duration": 16,
    "start_time": "2023-09-04T15:11:47.957Z"
   },
   {
    "duration": 50,
    "start_time": "2023-09-04T15:11:47.975Z"
   },
   {
    "duration": 374,
    "start_time": "2023-09-04T15:11:48.026Z"
   },
   {
    "duration": 4,
    "start_time": "2023-09-04T15:11:48.402Z"
   },
   {
    "duration": 88710,
    "start_time": "2023-09-04T15:11:48.408Z"
   },
   {
    "duration": 7361,
    "start_time": "2023-09-04T15:13:17.119Z"
   },
   {
    "duration": 7,
    "start_time": "2023-09-04T15:13:24.482Z"
   },
   {
    "duration": 28,
    "start_time": "2023-09-04T15:13:24.491Z"
   },
   {
    "duration": 8,
    "start_time": "2023-09-04T15:13:24.521Z"
   },
   {
    "duration": 14,
    "start_time": "2023-09-04T15:13:24.547Z"
   },
   {
    "duration": 27,
    "start_time": "2023-09-04T15:13:24.563Z"
   },
   {
    "duration": 13,
    "start_time": "2023-09-04T15:13:24.592Z"
   },
   {
    "duration": 10,
    "start_time": "2023-09-04T15:13:24.607Z"
   },
   {
    "duration": 29,
    "start_time": "2023-09-04T15:13:24.620Z"
   },
   {
    "duration": 396,
    "start_time": "2023-09-04T15:13:24.651Z"
   },
   {
    "duration": 14,
    "start_time": "2023-09-04T15:13:25.049Z"
   },
   {
    "duration": 11,
    "start_time": "2023-09-04T15:13:25.065Z"
   },
   {
    "duration": 22,
    "start_time": "2023-09-04T15:13:25.078Z"
   },
   {
    "duration": 6,
    "start_time": "2023-09-04T15:13:25.102Z"
   },
   {
    "duration": 17,
    "start_time": "2023-09-04T15:13:25.109Z"
   },
   {
    "duration": 1475,
    "start_time": "2023-09-04T15:13:25.128Z"
   },
   {
    "duration": 440,
    "start_time": "2023-09-04T15:13:26.604Z"
   },
   {
    "duration": 409,
    "start_time": "2023-09-04T15:13:27.046Z"
   },
   {
    "duration": 9,
    "start_time": "2023-09-04T15:13:27.458Z"
   },
   {
    "duration": 881,
    "start_time": "2023-09-04T15:13:27.469Z"
   },
   {
    "duration": 281,
    "start_time": "2023-09-04T15:13:28.354Z"
   },
   {
    "duration": 300,
    "start_time": "2023-09-04T15:13:28.637Z"
   },
   {
    "duration": 19,
    "start_time": "2023-09-04T15:13:28.939Z"
   },
   {
    "duration": 628,
    "start_time": "2023-09-04T15:13:28.963Z"
   },
   {
    "duration": 369,
    "start_time": "2023-09-04T15:13:29.592Z"
   },
   {
    "duration": 377,
    "start_time": "2023-09-04T15:13:29.964Z"
   },
   {
    "duration": 14,
    "start_time": "2023-09-04T15:13:30.345Z"
   },
   {
    "duration": 1501,
    "start_time": "2023-09-04T15:13:30.361Z"
   },
   {
    "duration": 697,
    "start_time": "2023-09-04T15:13:31.864Z"
   },
   {
    "duration": 430,
    "start_time": "2023-09-04T15:13:32.563Z"
   },
   {
    "duration": 28,
    "start_time": "2023-09-04T15:13:32.995Z"
   },
   {
    "duration": 32,
    "start_time": "2023-09-04T15:13:33.025Z"
   },
   {
    "duration": 233,
    "start_time": "2023-09-04T15:13:33.058Z"
   },
   {
    "duration": 135,
    "start_time": "2023-09-04T15:13:33.293Z"
   },
   {
    "duration": 18,
    "start_time": "2023-09-04T15:13:33.430Z"
   },
   {
    "duration": 152,
    "start_time": "2023-09-04T15:13:33.453Z"
   },
   {
    "duration": 156,
    "start_time": "2023-09-04T15:13:33.607Z"
   },
   {
    "duration": 138,
    "start_time": "2023-09-04T15:13:33.765Z"
   },
   {
    "duration": 10,
    "start_time": "2023-09-04T15:13:33.904Z"
   },
   {
    "duration": 252,
    "start_time": "2023-09-04T15:13:33.915Z"
   },
   {
    "duration": 188,
    "start_time": "2023-09-04T15:13:34.169Z"
   },
   {
    "duration": 191,
    "start_time": "2023-09-04T15:13:34.359Z"
   },
   {
    "duration": 10,
    "start_time": "2023-09-04T15:13:34.552Z"
   },
   {
    "duration": 569,
    "start_time": "2023-09-04T15:13:34.564Z"
   },
   {
    "duration": 26,
    "start_time": "2023-09-04T15:13:35.135Z"
   },
   {
    "duration": 425,
    "start_time": "2023-09-04T15:13:35.162Z"
   },
   {
    "duration": 9,
    "start_time": "2023-09-04T15:13:35.588Z"
   },
   {
    "duration": 228,
    "start_time": "2023-09-04T15:13:35.599Z"
   },
   {
    "duration": 9,
    "start_time": "2023-09-04T15:13:35.828Z"
   },
   {
    "duration": 203,
    "start_time": "2023-09-04T15:13:35.848Z"
   },
   {
    "duration": 12,
    "start_time": "2023-09-04T15:13:36.055Z"
   },
   {
    "duration": 203,
    "start_time": "2023-09-04T15:13:36.069Z"
   },
   {
    "duration": 171,
    "start_time": "2023-09-04T15:13:36.274Z"
   },
   {
    "duration": 150,
    "start_time": "2023-09-04T15:13:36.447Z"
   },
   {
    "duration": 314,
    "start_time": "2023-09-04T15:13:36.599Z"
   },
   {
    "duration": 33096,
    "start_time": "2023-09-04T15:13:36.914Z"
   },
   {
    "duration": 10,
    "start_time": "2023-09-04T15:14:10.011Z"
   },
   {
    "duration": 3647,
    "start_time": "2023-09-04T15:14:10.022Z"
   },
   {
    "duration": 388,
    "start_time": "2023-09-04T15:14:13.670Z"
   },
   {
    "duration": 489,
    "start_time": "2023-09-04T15:14:14.065Z"
   },
   {
    "duration": 9,
    "start_time": "2023-09-04T15:14:14.558Z"
   },
   {
    "duration": 134,
    "start_time": "2023-09-04T15:14:14.569Z"
   },
   {
    "duration": 4,
    "start_time": "2023-09-04T15:14:14.704Z"
   },
   {
    "duration": 5,
    "start_time": "2023-09-04T15:14:14.710Z"
   },
   {
    "duration": 17,
    "start_time": "2023-09-04T15:14:14.717Z"
   },
   {
    "duration": 188,
    "start_time": "2023-09-04T15:14:14.736Z"
   },
   {
    "duration": 129,
    "start_time": "2023-09-04T15:14:14.926Z"
   },
   {
    "duration": 15,
    "start_time": "2023-09-04T15:14:15.058Z"
   },
   {
    "duration": 14,
    "start_time": "2023-09-04T15:14:15.075Z"
   },
   {
    "duration": 7,
    "start_time": "2023-09-04T15:14:15.091Z"
   },
   {
    "duration": 1073,
    "start_time": "2023-09-04T15:14:15.100Z"
   },
   {
    "duration": 154,
    "start_time": "2023-09-04T15:14:16.174Z"
   },
   {
    "duration": 31,
    "start_time": "2023-09-04T15:14:16.330Z"
   },
   {
    "duration": 14,
    "start_time": "2023-09-04T15:14:16.363Z"
   },
   {
    "duration": 1248,
    "start_time": "2023-09-04T15:14:16.379Z"
   },
   {
    "duration": 565,
    "start_time": "2023-09-04T15:14:17.629Z"
   },
   {
    "duration": 20,
    "start_time": "2023-09-04T15:14:18.196Z"
   },
   {
    "duration": 8,
    "start_time": "2023-09-04T15:14:18.218Z"
   },
   {
    "duration": 173,
    "start_time": "2023-09-04T15:14:18.245Z"
   },
   {
    "duration": 146,
    "start_time": "2023-09-04T15:14:18.420Z"
   },
   {
    "duration": 18,
    "start_time": "2023-09-04T15:14:18.568Z"
   },
   {
    "duration": 176,
    "start_time": "2023-09-04T15:14:18.588Z"
   },
   {
    "duration": 10,
    "start_time": "2023-09-04T15:14:18.766Z"
   },
   {
    "duration": 160,
    "start_time": "2023-09-04T15:14:18.777Z"
   },
   {
    "duration": 142,
    "start_time": "2023-09-04T15:14:18.939Z"
   },
   {
    "duration": 20,
    "start_time": "2023-09-04T15:14:19.082Z"
   },
   {
    "duration": 25,
    "start_time": "2023-09-04T15:14:19.103Z"
   },
   {
    "duration": 193,
    "start_time": "2023-09-04T15:14:19.129Z"
   },
   {
    "duration": 122,
    "start_time": "2023-09-04T15:14:19.324Z"
   },
   {
    "duration": 21,
    "start_time": "2023-09-04T15:14:19.448Z"
   },
   {
    "duration": 164,
    "start_time": "2023-09-04T15:14:19.470Z"
   },
   {
    "duration": 17,
    "start_time": "2023-09-04T15:14:19.636Z"
   },
   {
    "duration": 603,
    "start_time": "2023-09-04T15:14:19.657Z"
   },
   {
    "duration": 136,
    "start_time": "2023-09-04T15:14:20.261Z"
   },
   {
    "duration": 20,
    "start_time": "2023-09-04T15:14:20.399Z"
   },
   {
    "duration": 32,
    "start_time": "2023-09-04T15:14:20.420Z"
   },
   {
    "duration": 236,
    "start_time": "2023-09-04T15:14:20.455Z"
   },
   {
    "duration": 119,
    "start_time": "2023-09-04T15:14:20.693Z"
   },
   {
    "duration": 18,
    "start_time": "2023-09-04T15:14:20.813Z"
   },
   {
    "duration": 12,
    "start_time": "2023-09-04T15:14:20.854Z"
   },
   {
    "duration": 138,
    "start_time": "2023-09-04T15:14:20.867Z"
   },
   {
    "duration": 125,
    "start_time": "2023-09-04T15:14:21.006Z"
   },
   {
    "duration": 29,
    "start_time": "2023-09-04T15:14:21.133Z"
   },
   {
    "duration": 9,
    "start_time": "2023-09-04T15:14:21.163Z"
   },
   {
    "duration": 1023,
    "start_time": "2023-09-04T15:14:21.173Z"
   },
   {
    "duration": 102,
    "start_time": "2023-09-04T15:14:22.198Z"
   },
   {
    "duration": 16,
    "start_time": "2023-09-04T15:14:22.302Z"
   },
   {
    "duration": 914,
    "start_time": "2023-09-04T15:14:22.320Z"
   },
   {
    "duration": 19,
    "start_time": "2023-09-04T15:14:23.236Z"
   },
   {
    "duration": 1658,
    "start_time": "2023-09-04T15:14:23.261Z"
   },
   {
    "duration": 144,
    "start_time": "2023-09-04T15:14:24.921Z"
   },
   {
    "duration": 17,
    "start_time": "2023-09-04T15:14:25.067Z"
   },
   {
    "duration": 11,
    "start_time": "2023-09-04T15:14:25.085Z"
   },
   {
    "duration": 2113,
    "start_time": "2023-09-04T15:14:25.098Z"
   },
   {
    "duration": 141,
    "start_time": "2023-09-04T15:14:27.213Z"
   },
   {
    "duration": 20,
    "start_time": "2023-09-04T15:14:27.355Z"
   },
   {
    "duration": 51,
    "start_time": "2023-09-04T15:14:27.377Z"
   },
   {
    "duration": 193,
    "start_time": "2023-09-04T15:14:27.429Z"
   },
   {
    "duration": 358,
    "start_time": "2023-09-04T15:14:27.624Z"
   },
   {
    "duration": 22,
    "start_time": "2023-09-04T15:14:27.984Z"
   },
   {
    "duration": 13,
    "start_time": "2023-09-04T15:14:28.008Z"
   },
   {
    "duration": 381,
    "start_time": "2023-09-04T15:14:28.022Z"
   },
   {
    "duration": 144,
    "start_time": "2023-09-04T15:14:28.405Z"
   },
   {
    "duration": 21,
    "start_time": "2023-09-04T15:14:28.551Z"
   },
   {
    "duration": 14,
    "start_time": "2023-09-04T15:14:28.574Z"
   },
   {
    "duration": 268,
    "start_time": "2023-09-04T15:14:28.590Z"
   },
   {
    "duration": 751,
    "start_time": "2023-09-04T15:14:28.859Z"
   },
   {
    "duration": 17,
    "start_time": "2023-09-04T15:14:29.612Z"
   },
   {
    "duration": 16,
    "start_time": "2023-09-04T15:14:29.644Z"
   },
   {
    "duration": 256,
    "start_time": "2023-09-04T15:14:29.661Z"
   },
   {
    "duration": 150,
    "start_time": "2023-09-04T15:14:29.919Z"
   },
   {
    "duration": 17,
    "start_time": "2023-09-04T15:14:30.071Z"
   },
   {
    "duration": 66,
    "start_time": "2023-09-04T15:14:30.090Z"
   },
   {
    "duration": 209,
    "start_time": "2023-09-04T15:14:30.158Z"
   },
   {
    "duration": 208,
    "start_time": "2023-09-04T15:14:30.369Z"
   },
   {
    "duration": 213,
    "start_time": "2023-09-04T15:14:30.579Z"
   },
   {
    "duration": 205,
    "start_time": "2023-09-04T15:14:30.794Z"
   },
   {
    "duration": 168,
    "start_time": "2023-09-04T15:14:31.001Z"
   },
   {
    "duration": 4,
    "start_time": "2023-09-04T15:14:31.171Z"
   },
   {
    "duration": 79,
    "start_time": "2023-09-04T15:14:31.177Z"
   },
   {
    "duration": 412,
    "start_time": "2023-09-04T15:14:31.258Z"
   },
   {
    "duration": 25,
    "start_time": "2023-09-04T15:14:31.671Z"
   },
   {
    "duration": 142,
    "start_time": "2023-09-04T15:14:31.698Z"
   },
   {
    "duration": 261,
    "start_time": "2023-09-04T15:14:31.844Z"
   },
   {
    "duration": 157,
    "start_time": "2023-09-04T15:14:32.107Z"
   },
   {
    "duration": 179,
    "start_time": "2023-09-04T15:14:32.266Z"
   },
   {
    "duration": 158,
    "start_time": "2023-09-04T15:14:32.450Z"
   },
   {
    "duration": 12,
    "start_time": "2023-09-04T15:14:32.609Z"
   },
   {
    "duration": 57,
    "start_time": "2023-09-04T15:14:32.623Z"
   },
   {
    "duration": 8,
    "start_time": "2023-09-04T15:14:32.683Z"
   },
   {
    "duration": 20,
    "start_time": "2023-09-04T15:14:32.692Z"
   },
   {
    "duration": 33,
    "start_time": "2023-09-04T15:14:32.713Z"
   },
   {
    "duration": 140,
    "start_time": "2023-09-04T15:14:32.748Z"
   }
  ],
  "colab": {
   "collapsed_sections": [
    "tjjf4MRvspMd",
    "kTtH21r6spMh",
    "9HiwNkYRspMl",
    "DVXs6gXRspMq",
    "Kbzn-6CSspM0",
    "NgR_lIFtspNA",
    "FM1LALesspNc",
    "BGsT-Mu0spNh",
    "LNgFe0r1spNo",
    "tTBs7e70spNs",
    "yXyIl-jyspNx",
    "vXO-dZStspN5",
    "g41OcwDvspOE",
    "CdXbZ6nKspOG",
    "2v7Nk0hospOH",
    "5zLOPbhMspOJ",
    "VReJgluxspOP",
    "TRz-LqnOspOW",
    "pqI_9w3CspOa",
    "ZweG_kP9spOd",
    "YqFlNTUXspOh",
    "n_IBV5gPspOo",
    "hHVtebCxspOt",
    "F2QEVqnqnkG3",
    "pXmU1PAUpl8m",
    "j3OCxywWubyh",
    "jbT_udVNyI3k",
    "JsNHyBv1spOy",
    "tRCUeMJxKAG5",
    "PQjvdyV_IKQr",
    "pJa4JShrIihH",
    "_brN5Ti6I30S",
    "fTTESZSYJLCE",
    "WSnfwWUnJeWg",
    "E9jZOFf2Jy5q",
    "spK6gah0LPLR",
    "gnq-we2oLjtJ",
    "ODYWVS17L0ll",
    "VX73ExlsMIf2",
    "UdmXRbZtMY_K",
    "9CQkeBSmspP8",
    "InpVsw9VspQA",
    "DqueEdX8Wwqn",
    "gae2vVr0Xi_W",
    "OmDyH1oHYYz9",
    "fELfXLspYtUR",
    "y8HN9wAPZJRM"
   ],
   "provenance": []
  },
  "kernelspec": {
   "display_name": "Python 3 (ipykernel)",
   "language": "python",
   "name": "python3"
  },
  "language_info": {
   "codemirror_mode": {
    "name": "ipython",
    "version": 3
   },
   "file_extension": ".py",
   "mimetype": "text/x-python",
   "name": "python",
   "nbconvert_exporter": "python",
   "pygments_lexer": "ipython3",
   "version": "3.12.4"
  },
  "toc": {
   "base_numbering": 1,
   "nav_menu": {},
   "number_sections": true,
   "sideBar": true,
   "skip_h1_title": true,
   "title_cell": "Table of Contents",
   "title_sidebar": "Contents",
   "toc_cell": false,
   "toc_position": {},
   "toc_section_display": true,
   "toc_window_display": false
  },
  "toc-autonumbering": true,
  "toc-showcode": false,
  "toc-showmarkdowntxt": false,
  "toc-showtags": false
 },
 "nbformat": 4,
 "nbformat_minor": 1
}
